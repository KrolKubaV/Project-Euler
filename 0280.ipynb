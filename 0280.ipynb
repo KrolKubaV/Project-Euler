{
 "cells": [
  {
   "cell_type": "markdown",
   "id": "f84f1769-5899-4e23-b959-51830ed6647b",
   "metadata": {},
   "source": [
    "# Ant and Seeds - Problem 280\n",
    "<p>A laborious ant walks randomly on a $5 \\times 5$ grid. The walk starts from the central square. At each step, the ant moves to an adjacent square at random, without leaving the grid; thus there are $2$, $3$ or $4$ possible moves at each step depending on the ant's position.</p>\n",
    "\n",
    "<p>At the start of the walk, a seed is placed on each square of the lower row. When the ant isn't carrying a seed and reaches a square of the lower row containing a seed, it will start to carry the seed. The ant will drop the seed on the first empty square of the upper row it eventually reaches.</p>\n",
    "\n",
    "<p>What's the expected number of steps until all seeds have been dropped in the top row? <br>\n",
    "Give your answer rounded to $6$ decimal places.</p>"
   ]
  },
  {
   "cell_type": "markdown",
   "id": "002b4d60-dc59-40e8-9470-6fef6b3623f1",
   "metadata": {},
   "source": [
    "## Solution.\n",
    "https://lips.cs.princeton.edu/the-fundamental-matrix-of-a-finite-markov-chain/\n",
    "\n",
    "$state = (x_coord, y_coord, carry_seed, seeds_coordinates_bottom, seeds_coordinates_top)\n",
    "\n",
    "We start at (3, 3, False, [1,2,3,4,5], [0,0,0,0,0])\n",
    "\n",
    "We finish when we hit the set A= {(x, 5, False, [0,0,0,0,0], [1,2,3,4,5]): x=1,2,3,4,5}\n"
   ]
  },
  {
   "cell_type": "code",
   "execution_count": 1,
   "id": "9667948d-3f9d-4e17-a839-7ec2fab897d9",
   "metadata": {},
   "outputs": [],
   "source": [
    "from math import factorial\n",
    "from functools import lru_cache\n",
    "from collections import defaultdict\n",
    "import numpy as np"
   ]
  },
  {
   "cell_type": "markdown",
   "id": "22aa2b6d-3278-4985-9444-53ff210c91fb",
   "metadata": {},
   "source": [
    "#### Construct the graph"
   ]
  },
  {
   "cell_type": "code",
   "execution_count": 2,
   "id": "c1764d06-8d76-4870-a555-6b6205d4a879",
   "metadata": {},
   "outputs": [],
   "source": [
    "def neighbourhood(x, y):\n",
    "    neighbors = []\n",
    "    moves = [(-1, 0), (1, 0), (0, -1), (0, 1)]\n",
    "    \n",
    "    for dx, dy in moves:\n",
    "        nx, ny = x + dx, y + dy\n",
    "        \n",
    "        if 1 <= nx <= 5 and 1 <= ny <= 5:\n",
    "            neighbors.append((nx, ny))\n",
    "    \n",
    "    return neighbors\n",
    "\n",
    "def construct_graph(start):\n",
    "    graph = defaultdict(set)\n",
    "    queue = [start]\n",
    "    V = set()\n",
    "    E = set()\n",
    "\n",
    "    while queue:\n",
    "        state = queue.pop()\n",
    "        x, y, carry, bottom, top = state\n",
    "\n",
    "        neighbours = neighbourhood(x, y)\n",
    "        p = 1 / len(neighbours)\n",
    "\n",
    "        for n in neighbours:\n",
    "            x_new, y_new = n\n",
    "            carry_new = carry\n",
    "            bottom_new = list(bottom)\n",
    "            top_new = list(top)\n",
    "\n",
    "            if not carry:\n",
    "                if y_new == 1 and bottom[x_new-1] == 1:\n",
    "                    carry_new = True\n",
    "                    bottom_new[x_new-1] = 0\n",
    "            else:\n",
    "                if y_new == 5 and top[x_new-1] == 0:\n",
    "                    carry_new = False\n",
    "                    top_new[x_new-1] = 1\n",
    "\n",
    "            state_new = (x_new, y_new, carry_new, tuple(bottom_new), tuple(top_new))\n",
    "            \n",
    "            if (state, state_new) not in E:\n",
    "                graph[state].add((state_new, p))\n",
    "                E.add((state, state_new))\n",
    "                V.add(state_new)\n",
    "                \n",
    "                if tuple(top_new) != (1,1,1,1,1):\n",
    "                    queue.append(state_new)\n",
    "    return graph, V"
   ]
  },
  {
   "cell_type": "markdown",
   "id": "7909948a-9d8b-4f23-89c2-8ebcd0495dfa",
   "metadata": {},
   "source": [
    "#### Transition matrix and EV to hit absobtion"
   ]
  },
  {
   "cell_type": "code",
   "execution_count": 3,
   "id": "ad138496-e2a6-4802-b7f6-eff193445df5",
   "metadata": {},
   "outputs": [],
   "source": [
    "def construct_transition_matrix(graph, V):\n",
    "    state_list = list(V)\n",
    "    state_index = {state: i for i, state in enumerate(state_list)}\n",
    "    size = len(state_list)\n",
    "    P = np.zeros((size, size))\n",
    "\n",
    "    for state in graph:\n",
    "        i = state_index[state]\n",
    "        for (next_state, p) in graph[state]:\n",
    "            j = state_index[next_state]\n",
    "            P[i, j] = p\n",
    "\n",
    "    return P, state_list\n",
    "\n",
    "def identify_states(state_list):\n",
    "    absorbing_states = []\n",
    "    transient_states = []\n",
    "    for state in state_list:\n",
    "        if state[4] == (1,1,1,1,1):\n",
    "            absorbing_states.append(state)\n",
    "        else:\n",
    "            transient_states.append(state)\n",
    "    return transient_states, absorbing_states\n",
    "\n",
    "def calculate_fundamental_matrix(Q):\n",
    "    I = np.eye(Q.shape[0])\n",
    "    N = np.linalg.inv(I - Q)\n",
    "    return N\n",
    "\n",
    "def expected_time_to_absorption(N):\n",
    "    t = N.dot(np.ones((N.shape[0], 1)))\n",
    "    return t"
   ]
  },
  {
   "cell_type": "markdown",
   "id": "233f7879-1d58-46ab-8f1f-4841bcbd3687",
   "metadata": {},
   "source": [
    "#### Main"
   ]
  },
  {
   "cell_type": "code",
   "execution_count": 4,
   "id": "ca8ff89a-9512-4c61-8b02-f43943d45bb0",
   "metadata": {},
   "outputs": [
    {
     "name": "stdout",
     "output_type": "stream",
     "text": [
      "430.088247\n"
     ]
    }
   ],
   "source": [
    "start = (3, 3, False, (1,1,1,1,1), (0,0,0,0,0))\n",
    "graph, V = construct_graph(start)\n",
    "P, state_list = construct_transition_matrix(graph, V)\n",
    "transient_states, absorbing_states = identify_states(state_list)\n",
    "\n",
    "# Partition the transition matrix\n",
    "transient_indices = [state_list.index(s) for s in transient_states]\n",
    "Q = P[np.ix_(transient_indices, transient_indices)]\n",
    "\n",
    "# Calculate the fundamental matrix\n",
    "N = calculate_fundamental_matrix(Q)\n",
    "\n",
    "# Compute the expected time to absorption\n",
    "t = expected_time_to_absorption(N)\n",
    "\n",
    "# Find the index of the start state in the transient states\n",
    "start_index = transient_states.index(start)\n",
    "\n",
    "print(round(t[start_index][0], 6))"
   ]
  },
  {
   "cell_type": "code",
   "execution_count": null,
   "id": "b83f5f17-1baa-4a4e-8e3a-9e3682b3cd94",
   "metadata": {},
   "outputs": [],
   "source": [
    "Q"
   ]
  }
 ],
 "metadata": {
  "kernelspec": {
   "display_name": "Python 3 (ipykernel)",
   "language": "python",
   "name": "python3"
  },
  "language_info": {
   "codemirror_mode": {
    "name": "ipython",
    "version": 3
   },
   "file_extension": ".py",
   "mimetype": "text/x-python",
   "name": "python",
   "nbconvert_exporter": "python",
   "pygments_lexer": "ipython3",
   "version": "3.13.0"
  }
 },
 "nbformat": 4,
 "nbformat_minor": 5
}
