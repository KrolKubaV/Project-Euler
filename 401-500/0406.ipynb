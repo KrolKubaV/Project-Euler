{
 "cells": [
  {
   "cell_type": "markdown",
   "id": "6968d56c-bb98-4315-9bb6-3a2220887b59",
   "metadata": {},
   "source": [
    "# Guessing Game - Problem 406\n",
    "<p>We are trying to find a hidden number selected from the set of integers $\\{1, 2, \\dots, n\\}$ by asking questions. \n",
    "Each number (question) we ask, we get one of three possible answers:<br></p><ul><li> \"Your guess is lower than the hidden number\" (and you incur a cost of $a$), or</li>\n",
    "<li> \"Your guess is higher than the hidden number\" (and you incur a cost of $b$), or</li>\n",
    "<li> \"Yes, that's it!\" (and the game ends).</li>\n",
    "</ul><p>Given the value of $n$, $a$, and $b$, an <dfn>optimal strategy</dfn> minimizes the total cost <u>for the worst possible case</u>.</p>\n",
    "\n",
    "<p>For example, if $n = 5$, $a = 2$, and $b = 3$, then we may begin by asking \"<b>2</b>\" as our first question.</p>\n",
    "\n",
    "<p>If we are told that 2 is higher than the hidden number (for a cost of <var>b</var>=3), then we are sure that \"<b>1</b>\" is the hidden number (for a total cost of <span style=\"color:#3333ff;\"><b>3</b></span>).<br>\n",
    "If we are told that 2 is lower than the hidden number (for a cost of <var>a</var>=2), then our next question will be \"<b>4</b>\".<br>\n",
    "If we are told that 4 is higher than the hidden number (for a cost of <var>b</var>=3), then we are sure that \"<b>3</b>\" is the hidden number (for a total cost of 2+3=<span style=\"color:#3333ff;\"><b>5</b></span>).<br>\n",
    "If we are told that 4 is lower than the hidden number (for a cost of <var>a</var>=2), then we are sure that \"<b>5</b>\" is the hidden number (for a total cost of 2+2=<span style=\"color:#3333ff;\"><b>4</b></span>).<br>\n",
    "Thus, the worst-case cost achieved by this strategy is <span style=\"color:#FF0000;\"><b>5</b></span>. It can also be shown that this is the lowest worst-case cost that can be achieved. \n",
    "So, in fact, we have just described an optimal strategy for the given values of $n$, $a$, and $b$.</p>\n",
    "\n",
    "<p>Let $C(n, a, b)$ be the worst-case cost achieved by an optimal strategy for the given values of $n$, $a$ and $b$.</p>\n",
    "\n",
    "<p>Here are a few examples:<br>\n",
    "$C(5, 2, 3) = 5$<br>\n",
    "$C(500, \\sqrt 2, \\sqrt 3) = 13.22073197\\dots$<br>\n",
    "$C(20000, 5, 7) = 82$<br>\n",
    "$C(2000000, \\sqrt 5, \\sqrt 7) = 49.63755955\\dots$</p>\n",
    "\n",
    "<p>Let $F_k$ be the Fibonacci numbers: $F_k=F_{k-1}+F_{k-2}$ with base cases $F_1=F_2= 1$.<br>Find $\\displaystyle \\sum \\limits_{k = 1}^{30} {C \\left (10^{12}, \\sqrt{k}, \\sqrt{F_k} \\right )}$, and give your answer rounded to 8 decimal places behind the decimal point.</p>"
   ]
  },
  {
   "cell_type": "markdown",
   "id": "8daf32dd-c065-4e51-9094-776327b869ab",
   "metadata": {},
   "source": [
    "## Solution."
   ]
  },
  {
   "cell_type": "code",
   "execution_count": null,
   "id": "b70f30d3-93b7-4389-901a-25a1f59b2282",
   "metadata": {},
   "outputs": [],
   "source": []
  },
  {
   "cell_type": "code",
   "execution_count": null,
   "id": "2945e542-ddff-4b2a-9c72-d01cd7a979fd",
   "metadata": {},
   "outputs": [],
   "source": []
  },
  {
   "cell_type": "code",
   "execution_count": null,
   "id": "6a94ba33-6b18-42c2-9db7-87aca0e746ac",
   "metadata": {},
   "outputs": [],
   "source": []
  },
  {
   "cell_type": "code",
   "execution_count": null,
   "id": "8839ae61-ee28-467f-bd1c-3daf477d41b4",
   "metadata": {},
   "outputs": [],
   "source": []
  },
  {
   "cell_type": "code",
   "execution_count": null,
   "id": "33569b65-dc07-45ac-b792-94f0df33326b",
   "metadata": {},
   "outputs": [],
   "source": []
  },
  {
   "cell_type": "code",
   "execution_count": null,
   "id": "3f4231b3-474c-4cea-bab0-038538149a66",
   "metadata": {},
   "outputs": [],
   "source": []
  },
  {
   "cell_type": "code",
   "execution_count": null,
   "id": "8289a7d7-3697-4678-95fe-05e85ce7303e",
   "metadata": {},
   "outputs": [],
   "source": []
  },
  {
   "cell_type": "code",
   "execution_count": null,
   "id": "3d7d0b4a-7b92-4ad8-976e-131f50d83fec",
   "metadata": {},
   "outputs": [],
   "source": []
  },
  {
   "cell_type": "code",
   "execution_count": null,
   "id": "0d043c18-0029-4d26-ab88-6338de807b42",
   "metadata": {},
   "outputs": [],
   "source": []
  }
 ],
 "metadata": {
  "kernelspec": {
   "display_name": "Python 3 (ipykernel)",
   "language": "python",
   "name": "python3"
  },
  "language_info": {
   "codemirror_mode": {
    "name": "ipython",
    "version": 3
   },
   "file_extension": ".py",
   "mimetype": "text/x-python",
   "name": "python",
   "nbconvert_exporter": "python",
   "pygments_lexer": "ipython3",
   "version": "3.12.4"
  }
 },
 "nbformat": 4,
 "nbformat_minor": 5
}
