{
 "cells": [
  {
   "cell_type": "markdown",
   "id": "8c2e30c6-ad88-4883-aee9-b53556e92f61",
   "metadata": {},
   "source": [
    "# Drunken Tower of Hanoi - Problem 497\n",
    "<p>Bob is very familiar with the famous mathematical puzzle/game, \"Tower of Hanoi,\" which consists of three upright rods and disks of different sizes that can slide onto any of the rods. The game begins with a stack of $n$ disks placed on the leftmost rod in descending order by size. The objective of the game is to move all of the disks from the leftmost rod to the rightmost rod, given the following restrictions:</p>\n",
    "\n",
    "<ol><li>Only one disk can be moved at a time.</li>\n",
    "<li>A valid move consists of taking the top disk from one stack and placing it onto another stack (or an empty rod).</li>\n",
    "<li>No disk can be placed on top of a smaller disk.</li>\n",
    "</ol><p>Moving on to a variant of this game, consider a long room $k$ units (square tiles) wide, labeled from $1$ to $k$ in ascending order. Three rods are placed at squares $a$, $b$, and $c$, and a stack of $n$ disks is placed on the rod at square $a$.</p>\n",
    "\n",
    "<p>Bob begins the game standing at square $b$. His objective is to play the Tower of Hanoi game by moving all of the disks to the rod at square $c$. However, Bob can only pick up or set down a disk if he is on the same square as the rod/stack in question.</p>\n",
    "\n",
    "<p>Unfortunately, Bob is also drunk. On a given move, Bob will either stumble one square to the left or one square to the right with equal probability, unless Bob is at either end of the room, in which case he can only move in one direction. Despite Bob's inebriated state, he is still capable of following the rules of the game itself, as well as choosing when to pick up or put down a disk.</p>\n",
    "\n",
    "<p>The following animation depicts a side-view of a sample game for $n = 3$, $k = 7$, $a = 2$, $b = 4$, and $c = 6$:</p>\n",
    "\n",
    "<p align=\"center\"><img src=\"resources/images/0497_hanoi.gif?1678992057\" alt=\"0497_hanoi.gif\"></p>\n",
    "\n",
    "<p>Let $E(n, k, a, b, c)$ be the expected number of squares that Bob travels during a single optimally-played game. A game is played optimally if the number of disk-pickups is minimized.</p>\n",
    "\n",
    "<p>Interestingly enough, the result is always an integer. For example, $E(2,5,1,3,5) = 60$ and $E(3,20,4,9,17) = 2358$.</p>\n",
    "\n",
    "<p>Find the last nine digits of $\\sum_{1\\le n \\le 10000} E(n,10^n,3^n,6^n,9^n)$.</p>"
   ]
  },
  {
   "cell_type": "markdown",
   "id": "2efff5c5-3c16-48a6-92ea-3ca8e1b46b8f",
   "metadata": {},
   "source": [
    "## Solution."
   ]
  },
  {
   "cell_type": "code",
   "execution_count": 157,
   "id": "0a0422db-b8c2-43b4-b217-419a517c22ec",
   "metadata": {},
   "outputs": [],
   "source": [
    "from functools import lru_cache\n",
    "import numpy as np\n",
    "from tqdm import tqdm"
   ]
  },
  {
   "cell_type": "code",
   "execution_count": 158,
   "id": "dec73d2c-816c-484c-a864-4c32951fc32a",
   "metadata": {},
   "outputs": [],
   "source": [
    "def modular_exponentiation(a, b, mod):\n",
    "    result = 1\n",
    "    a = a % mod\n",
    "    while b > 0:\n",
    "        if (b % 2) == 1: \n",
    "            result = (result * a) % mod\n",
    "        a = (a * a) % mod \n",
    "        b //= 2 \n",
    "    return result\n"
   ]
  },
  {
   "cell_type": "code",
   "execution_count": 159,
   "id": "cc69dacf-5e43-42ed-8992-403b46cfb6cc",
   "metadata": {},
   "outputs": [],
   "source": [
    "@cache\n",
    "def expected_steps(k, x, y, mod=10**9):\n",
    "    ''' Finds expected number of steps for Bob to go from x to y'''\n",
    "    \n",
    "    if y < x:\n",
    "        x = (k - x + 1) % mod\n",
    "        y = (k - y + 1) % mod\n",
    "\n",
    "    diff = (y - x)%mod\n",
    "    \n",
    "    a = 2*diff % mod\n",
    "    b = diff*(diff+2) % mod\n",
    "    \n",
    "    return (a*y - b) % mod"
   ]
  },
  {
   "cell_type": "code",
   "execution_count": 160,
   "id": "cc4be19c-ffed-4276-b601-5ab574af142c",
   "metadata": {},
   "outputs": [],
   "source": [
    "@lru_cache(None)\n",
    "def number_of_moves(n, x, y, start, mod=10**9):\n",
    "    ''' Number of moves between rods in Tower of Hanoi when moving a tower of height n from x to y and starting from start'''\n",
    "    if n == 1:\n",
    "        ans = {'12': 0, '13': 0, '21': 0, '23': 0, '31': 0, '32': 0}\n",
    "        first_move = start + x\n",
    "        second_move = x + y\n",
    "        if first_move != second_move:\n",
    "            ans[first_move] += 1\n",
    "            ans[second_move] += 1\n",
    "        else:\n",
    "            ans[first_move] += 1\n",
    "\n",
    "        return ans\n",
    "\n",
    "    z = str(6 - int(x) - int(y))\n",
    "    ans = {'12': 0, '13': 0, '21': 0, '23': 0, '31': 0, '32': 0}\n",
    "    moves1 = number_of_moves(n-1, x, z, start)\n",
    "    moves2 = number_of_moves(n-1, z, y, y)\n",
    "\n",
    "    ans[z+x] += 1\n",
    "    ans[x+y] += 1\n",
    "    for m in moves1:\n",
    "        ans[m] += moves1[m]\n",
    "        ans[m] += moves2[m]\n",
    "        ans[m] = ans[m] % mod\n",
    "    \n",
    "    return ans\n"
   ]
  },
  {
   "cell_type": "code",
   "execution_count": 161,
   "id": "0755075b-805d-4a93-9051-e69cc3169435",
   "metadata": {},
   "outputs": [],
   "source": [
    "def dic_to_list(dic):\n",
    "    ans = []\n",
    "    for d in dic:\n",
    "        ans.append(dic[d])\n",
    "    return ans"
   ]
  },
  {
   "cell_type": "code",
   "execution_count": 169,
   "id": "2d326838-1e28-41e8-9c51-f9bf155b96a4",
   "metadata": {},
   "outputs": [],
   "source": [
    "@lru_cache(None)\n",
    "def E(n, k, a, b, c, mod=10**9):\n",
    "    ans = 0\n",
    "    a_to_b = expected_steps(k, a, b)\n",
    "    a_to_c = expected_steps(k, a, c)\n",
    "    b_to_a = expected_steps(k, b, a)\n",
    "    b_to_c = expected_steps(k, b, c)\n",
    "    c_to_a = expected_steps(k, c, a)\n",
    "    c_to_b = expected_steps(k, c, b)\n",
    "\n",
    "    ab, ac, ba, bc, ca, cb = dic_to_list(number_of_moves(n, '1', '3', '2'))\n",
    "\n",
    "    ans += a_to_b * ab % mod\n",
    "    ans += a_to_c * ac % mod\n",
    "    ans += b_to_a * ba % mod\n",
    "    ans += b_to_c * bc % mod\n",
    "    ans += c_to_a * ca % mod\n",
    "    ans += c_to_b * cb % mod\n",
    "    \n",
    "    return ans % mod"
   ]
  },
  {
   "cell_type": "code",
   "execution_count": 163,
   "id": "6c0f133a-6c9c-41e1-b61c-f5e5b1a9b91b",
   "metadata": {},
   "outputs": [
    {
     "data": {
      "text/plain": [
       "24777"
      ]
     },
     "execution_count": 163,
     "metadata": {},
     "output_type": "execute_result"
    }
   ],
   "source": [
    "E(2, 10**2, 3**2, 6**2, 9**2)"
   ]
  },
  {
   "cell_type": "code",
   "execution_count": 192,
   "id": "e8aae75b-ea7d-4794-9556-80f32b4093a4",
   "metadata": {},
   "outputs": [
    {
     "name": "stderr",
     "output_type": "stream",
     "text": [
      "100%|██████████████████████████████████████████████████████████████████████████| 10000/10000 [00:01<00:00, 5525.64it/s]"
     ]
    },
    {
     "name": "stdout",
     "output_type": "stream",
     "text": [
      "684901360\n"
     ]
    },
    {
     "name": "stderr",
     "output_type": "stream",
     "text": [
      "\n"
     ]
    }
   ],
   "source": [
    "ans = 0\n",
    "mod = 10**9\n",
    "\n",
    "for n in tqdm(range(1, 10001)):\n",
    "    k = 10**n\n",
    "    a = 3**n\n",
    "    b = 6**n\n",
    "    c = 9**n\n",
    "    ans += E(n, k, a, b, c)\n",
    "    ans = ans%mod\n",
    "\n",
    "print(ans)"
   ]
  },
  {
   "cell_type": "code",
   "execution_count": null,
   "id": "fc619042-c480-4c61-9d9d-6c68ab4aca44",
   "metadata": {},
   "outputs": [],
   "source": []
  },
  {
   "cell_type": "code",
   "execution_count": null,
   "id": "5b9ddc83-0a16-4634-8dca-c2806bff0a81",
   "metadata": {},
   "outputs": [],
   "source": []
  }
 ],
 "metadata": {
  "kernelspec": {
   "display_name": "Python 3 (ipykernel)",
   "language": "python",
   "name": "python3"
  },
  "language_info": {
   "codemirror_mode": {
    "name": "ipython",
    "version": 3
   },
   "file_extension": ".py",
   "mimetype": "text/x-python",
   "name": "python",
   "nbconvert_exporter": "python",
   "pygments_lexer": "ipython3",
   "version": "3.12.4"
  }
 },
 "nbformat": 4,
 "nbformat_minor": 5
}
