{
 "cells": [
  {
   "cell_type": "markdown",
   "id": "d09600a6",
   "metadata": {},
   "source": [
    "# Problem 469 - Empty Chairs\n",
    "\n",
    "In a room $N$ chairs are placed around a round table.  \n",
    "Knights enter the room one by one and choose at random an available empty chair.  \n",
    "To have enough elbow room the knights always leave at least one empty chair between each other.\n",
    "\n",
    "When there aren't any suitable chairs left, the fraction $C$ of empty chairs is determined.  \n",
    "We also define $E(N)$ as the expected value of $C$.  \n",
    "We can verify that $$E(4) = \\tfrac{1}{2} \\quad \\text{and} \\quad E(6) = \\tfrac{5}{9}.$$\n",
    "\n",
    "Find $E(10^{18})$.\n",
    "\n",
    "Give your answer rounded to fourteen decimal places in the form $0.abcdefghijklmn$.\n",
    "## Solution."
   ]
  },
  {
   "cell_type": "code",
   "execution_count": 25,
   "id": "6af81054",
   "metadata": {},
   "outputs": [],
   "source": [
    "from functools import cache\n",
    "from tqdm import tqdm"
   ]
  },
  {
   "cell_type": "code",
   "execution_count": 27,
   "id": "34c8d0dc",
   "metadata": {},
   "outputs": [],
   "source": [
    "@cache\n",
    "def f(n):\n",
    "    if n <= 2:\n",
    "        return n\n",
    "    return (n-3)/(n-2) * f(n-1) + 2/(n-2) * f(n-2)"
   ]
  },
  {
   "cell_type": "code",
   "execution_count": 28,
   "id": "e08a1e04",
   "metadata": {},
   "outputs": [],
   "source": [
    "def E(n):\n",
    "    if n<3:\n",
    "        return None\n",
    "    return f(n-1)/n"
   ]
  },
  {
   "cell_type": "code",
   "execution_count": 34,
   "id": "238a0090",
   "metadata": {},
   "outputs": [
    {
     "data": {
      "text/plain": [
       "0.56766764161831"
      ]
     },
     "execution_count": 34,
     "metadata": {},
     "output_type": "execute_result"
    }
   ],
   "source": [
    "round(E(1000), 14)"
   ]
  },
  {
   "cell_type": "code",
   "execution_count": 30,
   "id": "2e9b1604",
   "metadata": {},
   "outputs": [
    {
     "data": {
      "text/plain": [
       "0.56766764161831"
      ]
     },
     "execution_count": 30,
     "metadata": {},
     "output_type": "execute_result"
    }
   ],
   "source": [
    "0.56766764161831"
   ]
  },
  {
   "cell_type": "code",
   "execution_count": null,
   "id": "ac07f6b8",
   "metadata": {},
   "outputs": [],
   "source": []
  }
 ],
 "metadata": {
  "kernelspec": {
   "display_name": "Python 3",
   "language": "python",
   "name": "python3"
  },
  "language_info": {
   "codemirror_mode": {
    "name": "ipython",
    "version": 3
   },
   "file_extension": ".py",
   "mimetype": "text/x-python",
   "name": "python",
   "nbconvert_exporter": "python",
   "pygments_lexer": "ipython3",
   "version": "3.13.0"
  }
 },
 "nbformat": 4,
 "nbformat_minor": 5
}
