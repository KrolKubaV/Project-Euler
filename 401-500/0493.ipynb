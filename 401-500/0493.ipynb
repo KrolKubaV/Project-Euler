{
 "cells": [
  {
   "cell_type": "markdown",
   "id": "503cc35b-21e4-479a-a5a9-d52d176cd84d",
   "metadata": {},
   "source": [
    "# Under the Rainbow - Problem 493\n",
    "<p>$70$ coloured balls are placed in an urn, $10$ for each of the seven rainbow colours.</p>\n",
    "<p>What is the expected number of distinct colours in $20$ randomly picked balls?</p>\n",
    "<p>Give your answer with nine digits after the decimal point (a.bcdefghij).</p>"
   ]
  },
  {
   "cell_type": "markdown",
   "id": "f7749420-afba-4f32-9134-784f133388d7",
   "metadata": {},
   "source": [
    "## Solution.\n",
    "$X=\\mathbf{1}_1+...+\\mathbf{1}_7$, where $\\mathbf{1}_i$ is the indicator that colour i was picked."
   ]
  },
  {
   "cell_type": "code",
   "execution_count": 16,
   "id": "ffcec21b-c290-41d0-a1c0-c3c1bf90cbd8",
   "metadata": {},
   "outputs": [],
   "source": [
    "from functools import cache"
   ]
  },
  {
   "cell_type": "code",
   "execution_count": 29,
   "id": "0bc4e845-2534-43ff-9670-2f98f6affbdd",
   "metadata": {},
   "outputs": [],
   "source": [
    "@cache\n",
    "def factorial(n):\n",
    "    if n == 0:\n",
    "        return 1\n",
    "    return n * factorial(n-1)\n",
    "\n",
    "@cache\n",
    "def binom(n, k):\n",
    "    return factorial(n) // (factorial(n-k) * factorial(k))"
   ]
  },
  {
   "cell_type": "code",
   "execution_count": 33,
   "id": "476e4208-2905-4c25-a3d5-b72e8483e561",
   "metadata": {},
   "outputs": [],
   "source": [
    "def sol493(n, k, m):\n",
    "    ''' Solves the question for n colours, k balls of each colour, and m moves (assuming some bounds on them so that we're in the same case \n",
    "        as in the question'''\n",
    "    total = n*k\n",
    "    Omega = binom(total, m)\n",
    "    q = binom(total - k, m) / Omega # probability of not choosing colour i\n",
    "    p = 1 - q\n",
    "    return round(n*p, 9)"
   ]
  },
  {
   "cell_type": "code",
   "execution_count": 34,
   "id": "ce79a37b-61e8-4d9c-81c3-39d8d03dbb5e",
   "metadata": {},
   "outputs": [
    {
     "data": {
      "text/plain": [
       "6.818741802"
      ]
     },
     "execution_count": 34,
     "metadata": {},
     "output_type": "execute_result"
    }
   ],
   "source": [
    "sol493(7, 10, 20)"
   ]
  },
  {
   "cell_type": "code",
   "execution_count": 26,
   "id": "de3dfb12-30d8-461c-8d12-397a3e9f3aee",
   "metadata": {},
   "outputs": [
    {
     "data": {
      "text/plain": [
       "535983370403809682970"
      ]
     },
     "execution_count": 26,
     "metadata": {},
     "output_type": "execute_result"
    }
   ],
   "source": [
    "binom(100, 20)"
   ]
  },
  {
   "cell_type": "code",
   "execution_count": null,
   "id": "7b790c05-9a22-4f36-a1ac-8dd40a67476a",
   "metadata": {},
   "outputs": [],
   "source": []
  },
  {
   "cell_type": "code",
   "execution_count": null,
   "id": "a8419b56-3af8-4c93-a4b9-2d246ce15872",
   "metadata": {},
   "outputs": [],
   "source": []
  },
  {
   "cell_type": "code",
   "execution_count": null,
   "id": "a79fbae8-2cb0-4ba6-8467-abbccb25f715",
   "metadata": {},
   "outputs": [],
   "source": []
  },
  {
   "cell_type": "code",
   "execution_count": null,
   "id": "eeef9bd3-01ff-45e4-b3bb-e2a916db4154",
   "metadata": {},
   "outputs": [],
   "source": []
  }
 ],
 "metadata": {
  "kernelspec": {
   "display_name": "Python 3 (ipykernel)",
   "language": "python",
   "name": "python3"
  },
  "language_info": {
   "codemirror_mode": {
    "name": "ipython",
    "version": 3
   },
   "file_extension": ".py",
   "mimetype": "text/x-python",
   "name": "python",
   "nbconvert_exporter": "python",
   "pygments_lexer": "ipython3",
   "version": "3.12.4"
  }
 },
 "nbformat": 4,
 "nbformat_minor": 5
}
