{
 "cells": [
  {
   "cell_type": "markdown",
   "id": "e023ec57-81c5-44bc-8e19-dd3e0250c10f",
   "metadata": {},
   "source": [
    "# Problem 955 - Finding Triangles\n",
    "<p>\n",
    "A sequence $(a_n)_{n \\ge 0}$ starts with $a_0 = 3$ and for each $n \\ge 0$,</p>\n",
    "<ul>\n",
    "<li>if $a_n$ is a triangle number, then $a_{n + 1} = a_n + 1$;</li>\n",
    "<li>otherwise, $a_{n + 1} = 2a_n - a_{n - 1} + 1$.</li></ul>\n",
    "\n",
    "<p>\n",
    "The sequence begins:\n",
    "$${\\color{red}3}, 4, {\\color{red}6}, 7, 9, 12, 16, {\\color{red}21}, 22, 24, 27, 31, {\\color{red}36}, 37, 39, 42, \\dots$$\n",
    "where triangle numbers are marked red.</p>\n",
    "\n",
    "<p>\n",
    "The $10$th triangle number in the sequence is $a_{2964} = 1439056$.<br>\n",
    "Find the index $n$ such that $a_n$ is the $70$th triangle number in the sequence.</p>"
   ]
  },
  {
   "cell_type": "markdown",
   "id": "fdfde0ab-eb0f-4782-bd23-3407c4ffd731",
   "metadata": {},
   "source": [
    "### Solution.\n",
    "Use example 3.9:\n",
    "https://courses.maths.ox.ac.uk/pluginfile.php/25386/mod_resource/content/6/PrelimsProb_MT22_28Sep2022.pdf\n",
    "\n",
    "Each time we need to find such k that T(k)+t is triangular where t is the starting triangular number."
   ]
  },
  {
   "cell_type": "code",
   "execution_count": 170,
   "id": "df704e21-1061-471e-94c8-a71806a81879",
   "metadata": {},
   "outputs": [],
   "source": [
    "from sympy import divisors"
   ]
  },
  {
   "cell_type": "code",
   "execution_count": 174,
   "id": "6d32513a-01e2-4915-8eff-967872ab2fec",
   "metadata": {},
   "outputs": [],
   "source": [
    "def next_triangular_id(T):\n",
    "    t = (-1 + isqrt(8 * T + 1)) // 2\n",
    "    C = t * (t+1)\n",
    "\n",
    "    for i in divisors(C):\n",
    "        a, b = i, C//i\n",
    "        d = a - b - 1\n",
    "        if d > 0 and d % 2 == 0:\n",
    "            ans = d // 2\n",
    "            return (ans, T + ans * (ans + 1) // 2)\n"
   ]
  },
  {
   "cell_type": "code",
   "execution_count": 175,
   "id": "492607ec-90da-459c-adeb-f04a3ed5253f",
   "metadata": {},
   "outputs": [
    {
     "data": {
      "text/plain": [
       "(189, 23005)"
      ]
     },
     "execution_count": 175,
     "metadata": {},
     "output_type": "execute_result"
    }
   ],
   "source": [
    "next_triangular_id(50*101)"
   ]
  },
  {
   "cell_type": "code",
   "execution_count": 176,
   "id": "7948a32b-83cd-42aa-9ec8-5d8478ece51d",
   "metadata": {},
   "outputs": [],
   "source": [
    "def F(n):\n",
    "    n -= 1\n",
    "    ans = 0\n",
    "    x = 3\n",
    "    for _ in tqdm(range(n)):\n",
    "        i, T = next_triangular_id(x)\n",
    "        ans += i\n",
    "        x = T\n",
    "    return ans"
   ]
  },
  {
   "cell_type": "code",
   "execution_count": 177,
   "id": "5a2eaa54-4ab3-402d-88b8-d71cc9bea094",
   "metadata": {},
   "outputs": [
    {
     "name": "stderr",
     "output_type": "stream",
     "text": [
      "100%|█████████████████████████████████████████████████████████████████████████████████| 9/9 [00:00<00:00, 23187.18it/s]\n"
     ]
    },
    {
     "data": {
      "text/plain": [
       "2964"
      ]
     },
     "execution_count": 177,
     "metadata": {},
     "output_type": "execute_result"
    }
   ],
   "source": [
    "F(10)"
   ]
  },
  {
   "cell_type": "code",
   "execution_count": 178,
   "id": "30473067-f811-4b93-965f-8e6adbcfb7db",
   "metadata": {},
   "outputs": [
    {
     "name": "stderr",
     "output_type": "stream",
     "text": [
      "100%|██████████████████████████████████████████████████████████████████████████████████| 69/69 [00:01<00:00, 46.71it/s]\n"
     ]
    },
    {
     "data": {
      "text/plain": [
       "6795261671274"
      ]
     },
     "execution_count": 178,
     "metadata": {},
     "output_type": "execute_result"
    }
   ],
   "source": [
    "F(70)"
   ]
  },
  {
   "cell_type": "code",
   "execution_count": null,
   "id": "5648b4fa-d5f5-4973-bfd8-48de794f345f",
   "metadata": {},
   "outputs": [],
   "source": []
  },
  {
   "cell_type": "code",
   "execution_count": null,
   "id": "6757ccdb-b597-4957-bead-d00272593acd",
   "metadata": {},
   "outputs": [],
   "source": []
  },
  {
   "cell_type": "code",
   "execution_count": null,
   "id": "1915f117-f92d-407c-8889-7c93db3900a1",
   "metadata": {},
   "outputs": [],
   "source": []
  },
  {
   "cell_type": "code",
   "execution_count": null,
   "id": "737c685c-c930-4c8b-859e-9c7392f11e7d",
   "metadata": {},
   "outputs": [],
   "source": []
  },
  {
   "cell_type": "code",
   "execution_count": null,
   "id": "f1448a03-1988-4646-9a39-670775c0c9f4",
   "metadata": {},
   "outputs": [],
   "source": []
  },
  {
   "cell_type": "code",
   "execution_count": null,
   "id": "21c9c32d-33fd-4656-badd-9c7e8caafaba",
   "metadata": {},
   "outputs": [],
   "source": []
  }
 ],
 "metadata": {
  "kernelspec": {
   "display_name": "Python 3 (ipykernel)",
   "language": "python",
   "name": "python3"
  },
  "language_info": {
   "codemirror_mode": {
    "name": "ipython",
    "version": 3
   },
   "file_extension": ".py",
   "mimetype": "text/x-python",
   "name": "python",
   "nbconvert_exporter": "python",
   "pygments_lexer": "ipython3",
   "version": "3.13.0"
  }
 },
 "nbformat": 4,
 "nbformat_minor": 5
}
