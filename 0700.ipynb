{
 "cells": [
  {
   "cell_type": "markdown",
   "id": "56511aa1-5530-4daf-85b8-1879231a79f0",
   "metadata": {},
   "source": [
    "# Eulercoin - Problem 700\n",
    "<p>Leonhard Euler was born on 15 April 1707.</p>\n",
    "\n",
    "<p>Consider the sequence 1504170715041707<var>n</var> mod 4503599627370517.</p>\n",
    "\n",
    "<p>An element of this sequence is defined to be an Eulercoin if it is strictly smaller than all previously found Eulercoins.</p>\n",
    "\n",
    "<p>For example, the first term is 1504170715041707 which is the first Eulercoin.  The second term is 3008341430083414 which is greater than 1504170715041707 so is not an Eulercoin.  However, the third term is 8912517754604 which is small enough to be a new Eulercoin.</p>\n",
    "\n",
    "<p>The sum of the first 2 Eulercoins is therefore 1513083232796311.</p>\n",
    "\n",
    "<p>Find the sum of all Eulercoins.</p>"
   ]
  },
  {
   "cell_type": "markdown",
   "id": "fe22931d-a993-4fa9-9914-d0cf6f05d7b2",
   "metadata": {},
   "source": [
    "## Solution.\n",
    "Imagine jumping on a circle."
   ]
  },
  {
   "cell_type": "code",
   "execution_count": 28,
   "id": "406db0dc-0f0d-4278-8d03-8d4cce0beba0",
   "metadata": {},
   "outputs": [],
   "source": [
    "from math import ceil"
   ]
  },
  {
   "cell_type": "code",
   "execution_count": 39,
   "id": "25004df0-35ff-4aed-8ae0-50bf2cdc138d",
   "metadata": {},
   "outputs": [],
   "source": [
    "def sol700(a, mod):\n",
    "    # find the second term\n",
    "    k = 1\n",
    "    while True:\n",
    "        b = (a*k) % mod\n",
    "        if b < a:\n",
    "            break\n",
    "        k += 1\n",
    "\n",
    "    # differences\n",
    "    diff = a - b\n",
    "    curr = b\n",
    "    s = a + b\n",
    "    while curr > 1:\n",
    "        # if you can go back, go back\n",
    "        if curr > diff:\n",
    "            curr -= diff\n",
    "            s += curr\n",
    "\n",
    "        # otherwise, decrease the difference\n",
    "        else:\n",
    "            diff = diff % curr\n",
    "            curr -= diff\n",
    "            s += curr\n",
    "        \n",
    "\n",
    "    return s"
   ]
  },
  {
   "cell_type": "code",
   "execution_count": 40,
   "id": "d46b6bf5-1396-46fe-97e1-affd4ffdbecf",
   "metadata": {},
   "outputs": [
    {
     "data": {
      "text/plain": [
       "1517926517777556"
      ]
     },
     "execution_count": 40,
     "metadata": {},
     "output_type": "execute_result"
    }
   ],
   "source": [
    "a, mod = 1504170715041707, 4503599627370517\n",
    "sol700(a, mod)"
   ]
  },
  {
   "cell_type": "code",
   "execution_count": 43,
   "id": "391c8c47-6c00-44aa-941b-9cf097556dd7",
   "metadata": {},
   "outputs": [],
   "source": [
    "def sol700_2(a, mod):\n",
    "    s = a\n",
    "\n",
    "    prev = mod \n",
    "    curr = a\n",
    "\n",
    "    while curr > 1:\n",
    "        prev, curr = curr, ceil(prev/curr) * curr - prev\n",
    "        s += curr\n",
    "    \n",
    "    return s"
   ]
  },
  {
   "cell_type": "code",
   "execution_count": 44,
   "id": "7ef4484d-cb05-41ff-bab5-2c35f7a1a624",
   "metadata": {},
   "outputs": [
    {
     "data": {
      "text/plain": [
       "1517926517777556"
      ]
     },
     "execution_count": 44,
     "metadata": {},
     "output_type": "execute_result"
    }
   ],
   "source": [
    "a, mod = 1504170715041707, 4503599627370517\n",
    "sol700_2(a, mod)"
   ]
  }
 ],
 "metadata": {
  "kernelspec": {
   "display_name": "Python 3 (ipykernel)",
   "language": "python",
   "name": "python3"
  },
  "language_info": {
   "codemirror_mode": {
    "name": "ipython",
    "version": 3
   },
   "file_extension": ".py",
   "mimetype": "text/x-python",
   "name": "python",
   "nbconvert_exporter": "python",
   "pygments_lexer": "ipython3",
   "version": "3.12.4"
  }
 },
 "nbformat": 4,
 "nbformat_minor": 5
}
