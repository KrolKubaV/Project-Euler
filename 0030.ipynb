{
 "cells": [
  {
   "cell_type": "markdown",
   "id": "9a25a368-f030-49f9-826d-9bb74ceb0749",
   "metadata": {},
   "source": [
    "# Digit Fifth Powers - Problem 30\n",
    "<p>Surprisingly there are only three numbers that can be written as the sum of fourth powers of their digits:\n",
    "\\begin{align}\n",
    "1634 &= 1^4 + 6^4 + 3^4 + 4^4\\\\\n",
    "8208 &= 8^4 + 2^4 + 0^4 + 8^4\\\\\n",
    "9474 &= 9^4 + 4^4 + 7^4 + 4^4\n",
    "\\end{align}\n",
    "</p><p class=\"smaller\">As $1 = 1^4$ is not a sum it is not included.</p>\n",
    "<p>The sum of these numbers is $1634 + 8208 + 9474 = 19316$.</p>\n",
    "<p>Find the sum of all the numbers that can be written as the sum of fifth powers of their digits.</p>"
   ]
  },
  {
   "cell_type": "markdown",
   "id": "35fc798a-eccb-4179-af04-6d613033e22f",
   "metadata": {},
   "source": [
    "## Solution."
   ]
  },
  {
   "cell_type": "markdown",
   "id": "b0b1ccab-3cae-4864-822c-d66f5ce0619b",
   "metadata": {},
   "source": [
    "One can also generate permutations instead."
   ]
  },
  {
   "cell_type": "code",
   "execution_count": 11,
   "id": "9cf64854-d4b7-4e54-8db9-c6cdde294ba9",
   "metadata": {},
   "outputs": [
    {
     "data": {
      "text/plain": [
       "443840"
      ]
     },
     "execution_count": 11,
     "metadata": {},
     "output_type": "execute_result"
    }
   ],
   "source": [
    "ans = 0\n",
    "for n in range(1, 9**5 * 7):\n",
    "    if sum([int(x)**5 for x in str(n)]) == n:\n",
    "        ans += n\n",
    "\n",
    "ans"
   ]
  },
  {
   "cell_type": "code",
   "execution_count": 13,
   "id": "8d199960-dae1-4846-a814-37d57e90626f",
   "metadata": {},
   "outputs": [
    {
     "data": {
      "text/plain": [
       "413343"
      ]
     },
     "execution_count": 13,
     "metadata": {},
     "output_type": "execute_result"
    }
   ],
   "source": [
    "9**5 * 7 # too small"
   ]
  },
  {
   "cell_type": "code",
   "execution_count": null,
   "id": "3dfa06fc-2d3e-4e54-a3a5-13879f38614a",
   "metadata": {},
   "outputs": [],
   "source": []
  },
  {
   "cell_type": "code",
   "execution_count": null,
   "id": "496f3110-2c34-45d5-bc64-fbce39d296f6",
   "metadata": {},
   "outputs": [],
   "source": []
  },
  {
   "cell_type": "code",
   "execution_count": null,
   "id": "5798b02d-e0c6-46a8-ad30-c17de2566f94",
   "metadata": {},
   "outputs": [],
   "source": []
  },
  {
   "cell_type": "code",
   "execution_count": null,
   "id": "d72f98be-b67d-49cc-9f74-cf2948751f16",
   "metadata": {},
   "outputs": [],
   "source": []
  },
  {
   "cell_type": "code",
   "execution_count": null,
   "id": "ca17adf6-cb10-4da1-8a18-ff69de590801",
   "metadata": {},
   "outputs": [],
   "source": []
  },
  {
   "cell_type": "code",
   "execution_count": null,
   "id": "f4ca5454-9477-42bc-afbf-5e7b258d27c3",
   "metadata": {},
   "outputs": [],
   "source": []
  }
 ],
 "metadata": {
  "kernelspec": {
   "display_name": "Python 3 (ipykernel)",
   "language": "python",
   "name": "python3"
  },
  "language_info": {
   "codemirror_mode": {
    "name": "ipython",
    "version": 3
   },
   "file_extension": ".py",
   "mimetype": "text/x-python",
   "name": "python",
   "nbconvert_exporter": "python",
   "pygments_lexer": "ipython3",
   "version": "3.12.4"
  }
 },
 "nbformat": 4,
 "nbformat_minor": 5
}
