{
 "cells": [
  {
   "cell_type": "markdown",
   "id": "c17b83c9-771a-4ef3-9730-90504671a1fa",
   "metadata": {},
   "source": [
    "# Problem 310 - Nim Square\n",
    "<p>\n",
    "Alice and Bob play the game Nim Square.<br>\n",
    "Nim Square is just like ordinary three-heap normal play Nim, but the players may only remove a square number of stones from a heap.<br>\n",
    "The number of stones in the three heaps is represented by the ordered triple $(a,b,c)$.<br>\n",
    "If $0 \\le a \\le b \\le c \\le 29$ then the number of losing positions for the next player is $1160$.\n",
    "</p>\n",
    "<p>\n",
    "Find the number of losing positions for the next player if $0 \\le a \\le b \\le c \\le 100\\,000$.\n",
    "</p>"
   ]
  },
  {
   "cell_type": "markdown",
   "id": "f4df91d1-dcf5-4117-93a1-7d8807ddf753",
   "metadata": {},
   "source": [
    "## Solution."
   ]
  },
  {
   "cell_type": "code",
   "execution_count": 4,
   "id": "370db65e-2f7c-4626-aa7a-588b1aca995f",
   "metadata": {},
   "outputs": [
    {
     "data": {
      "text/plain": [
       "3"
      ]
     },
     "execution_count": 4,
     "metadata": {},
     "output_type": "execute_result"
    }
   ],
   "source": [
    "1^1^3"
   ]
  },
  {
   "cell_type": "code",
   "execution_count": null,
   "id": "1cf34a29-63e0-4e81-8306-3542ffbdb2b0",
   "metadata": {},
   "outputs": [],
   "source": []
  },
  {
   "cell_type": "code",
   "execution_count": null,
   "id": "e032c284-2c71-44a0-8a70-9fdda8fe31e0",
   "metadata": {},
   "outputs": [],
   "source": []
  },
  {
   "cell_type": "code",
   "execution_count": null,
   "id": "70d7b6a5-d3a6-419a-a50a-061ce6dc21ee",
   "metadata": {},
   "outputs": [],
   "source": []
  },
  {
   "cell_type": "code",
   "execution_count": null,
   "id": "a9914606-b9b0-4d4f-a621-9db1c05efd21",
   "metadata": {},
   "outputs": [],
   "source": []
  },
  {
   "cell_type": "code",
   "execution_count": null,
   "id": "27bf66eb-6a12-4c96-a2a2-df9a8fd050cd",
   "metadata": {},
   "outputs": [],
   "source": []
  },
  {
   "cell_type": "code",
   "execution_count": null,
   "id": "00b5f475-d3e1-4837-869f-a7a6240f1c8b",
   "metadata": {},
   "outputs": [],
   "source": []
  }
 ],
 "metadata": {
  "kernelspec": {
   "display_name": "Python 3 (ipykernel)",
   "language": "python",
   "name": "python3"
  },
  "language_info": {
   "codemirror_mode": {
    "name": "ipython",
    "version": 3
   },
   "file_extension": ".py",
   "mimetype": "text/x-python",
   "name": "python",
   "nbconvert_exporter": "python",
   "pygments_lexer": "ipython3",
   "version": "3.13.0"
  }
 },
 "nbformat": 4,
 "nbformat_minor": 5
}
