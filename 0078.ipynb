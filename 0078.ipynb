{
 "cells": [
  {
   "cell_type": "markdown",
   "id": "dff1a4d3-1a8d-40ae-a21f-cdc06dd4477d",
   "metadata": {},
   "source": [
    "# Problem 78 - Coin Partitons\n",
    "<p>Let $p(n)$ represent the number of different ways in which $n$ coins can be separated into piles. For example, five coins can be separated into piles in exactly seven different ways, so $p(5)=7$.</p>\n",
    "<div class=\"margin_left\">\n",
    "OOOOO<br>\n",
    "OOOO   O<br>\n",
    "OOO   OO<br>\n",
    "OOO   O   O<br>\n",
    "OO   OO   O<br>\n",
    "OO   O   O   O<br>\n",
    "O   O   O   O   O\n",
    "</div>\n",
    "<p>Find the least value of $n$ for which $p(n)$ is divisible by one million.</p>\n"
   ]
  },
  {
   "cell_type": "markdown",
   "id": "1e5338d4-6941-48f3-a0a3-9843d4cbd53c",
   "metadata": {},
   "source": [
    "## Solution."
   ]
  },
  {
   "cell_type": "code",
   "execution_count": 152,
   "id": "d71f3150-2e02-40da-a852-a3ccfdbcad93",
   "metadata": {},
   "outputs": [],
   "source": [
    "from functools import cache, lru_cache\n",
    "from collections import defaultdict"
   ]
  },
  {
   "cell_type": "code",
   "execution_count": 45,
   "id": "d7c59555-a0b2-4d41-91f3-1631bc76669e",
   "metadata": {},
   "outputs": [],
   "source": [
    "@lru_cache\n",
    "def q(n, k):\n",
    "    # number of ways to partition n into k piles\n",
    "    if n < k:\n",
    "        return 0\n",
    "    \n",
    "    if n == k:\n",
    "        return 1\n",
    "\n",
    "    if k == 0:\n",
    "        return 0  \n",
    "    \n",
    "    return q(n-1, k-1) + q(n-k, k)\n",
    "\n",
    "\n",
    "@cache\n",
    "def p(n):\n",
    "    return sum(q(n, k) for k in range(1, n+1))"
   ]
  },
  {
   "cell_type": "markdown",
   "id": "390b4bd1-046f-449f-9ad2-e6e68cffd4c9",
   "metadata": {},
   "source": [
    "https://en.wikipedia.org/wiki/Pentagonal_number_theorem"
   ]
  },
  {
   "cell_type": "code",
   "execution_count": 201,
   "id": "f20517cc-3014-4642-96a7-44637e416099",
   "metadata": {},
   "outputs": [],
   "source": [
    "memo_pentagonal = {k:k * (3*k-1) // 2 for k in range(-10000, 10000)}\n",
    "\n",
    "@lru_cache(maxsize = 1_000_000) \n",
    "def p_fast(n):\n",
    "    if n < 0:\n",
    "        return 0\n",
    "\n",
    "    if n == 0 or n == 1:\n",
    "        return 1\n",
    "\n",
    "    ans = 0\n",
    "    k = 1\n",
    "    while memo_pentagonal[k] <= n:\n",
    "        ans += int((-1)**(k - 1)) * p_fast(n - memo_pentagonal[k])\n",
    "        k += 1\n",
    "\n",
    "    k = -1\n",
    "    while memo_pentagonal[k] <= n:\n",
    "        ans += int((-1)**(k - 1)) * p_fast(n - memo_pentagonal[k])\n",
    "        k -= 1\n",
    "\n",
    "    return ans"
   ]
  },
  {
   "cell_type": "code",
   "execution_count": 204,
   "id": "be6db0d1-9a84-4bce-82c2-a52bc98f90f2",
   "metadata": {},
   "outputs": [
    {
     "name": "stdout",
     "output_type": "stream",
     "text": [
      "55374\n"
     ]
    }
   ],
   "source": [
    "n = 1\n",
    "\n",
    "while p_fast(n) % 1_000_000 != 0:\n",
    "    n += 1\n",
    "\n",
    "print(n)"
   ]
  },
  {
   "cell_type": "code",
   "execution_count": null,
   "id": "114c55b5-935a-4d49-a0da-5237cbe87fcd",
   "metadata": {},
   "outputs": [],
   "source": []
  },
  {
   "cell_type": "code",
   "execution_count": null,
   "id": "5cdb8b14-3141-4685-bc0a-2179560ffbcd",
   "metadata": {},
   "outputs": [],
   "source": []
  },
  {
   "cell_type": "code",
   "execution_count": null,
   "id": "fdf0e321-e328-4d08-9b4d-8e0e15379995",
   "metadata": {},
   "outputs": [],
   "source": []
  },
  {
   "cell_type": "code",
   "execution_count": null,
   "id": "9d920acd-05a4-4e7a-b6c0-983f07310151",
   "metadata": {},
   "outputs": [],
   "source": []
  },
  {
   "cell_type": "code",
   "execution_count": null,
   "id": "0b3cbd34-700a-418b-990c-26a194a98549",
   "metadata": {},
   "outputs": [],
   "source": []
  },
  {
   "cell_type": "code",
   "execution_count": null,
   "id": "488bba69-7bc3-4482-8c81-ecc5655a909f",
   "metadata": {},
   "outputs": [],
   "source": []
  },
  {
   "cell_type": "code",
   "execution_count": null,
   "id": "f98ae67f-e5d8-42a4-9981-995ef9aea76b",
   "metadata": {},
   "outputs": [],
   "source": []
  },
  {
   "cell_type": "code",
   "execution_count": null,
   "id": "08919bac-3f1c-43c6-979f-68fcc409905f",
   "metadata": {},
   "outputs": [],
   "source": []
  }
 ],
 "metadata": {
  "kernelspec": {
   "display_name": "Python 3 (ipykernel)",
   "language": "python",
   "name": "python3"
  },
  "language_info": {
   "codemirror_mode": {
    "name": "ipython",
    "version": 3
   },
   "file_extension": ".py",
   "mimetype": "text/x-python",
   "name": "python",
   "nbconvert_exporter": "python",
   "pygments_lexer": "ipython3",
   "version": "3.13.0"
  }
 },
 "nbformat": 4,
 "nbformat_minor": 5
}
