{
 "cells": [
  {
   "cell_type": "markdown",
   "id": "bfef372a-1f35-4991-bf93-2aa6390a7edb",
   "metadata": {},
   "source": [
    "# Problem 470 - Super Ramvok\n",
    "<p>Consider a single game of Ramvok:</p>\n",
    "\n",
    "<p>Let $t$ represent the maximum number of turns the game lasts. If $t = 0$, then the game ends immediately. Otherwise, on each turn $i$, the player rolls a die. After rolling, if $i \\lt t$ the player can either stop the game and receive a prize equal to the value of the current roll, or discard the roll and try again next turn. If $i = t$, then the roll cannot be discarded and the prize must be accepted. Before the game begins, $t$ is chosen by the player, who must then pay an up-front cost $ct$ for some constant $c$. For $c = 0$, $t$ can be chosen to be infinite (with an up-front cost of $0$). Let $R(d, c)$ be the expected profit (i.e. net gain) that the player receives from a single game of optimally-played Ramvok, given a fair $d$-sided die and cost constant $c$. For example, $R(4, 0.2) = 2.65$. Assume that the player has sufficient funds for paying any/all up-front costs.</p>\n",
    "\n",
    "<p>Now consider a game of Super Ramvok:</p>\n",
    "\n",
    "<p>In Super Ramvok, the game of Ramvok is played repeatedly, but with a slight modification. After each game, the die is altered. The alteration process is as follows: The die is rolled once, and if the resulting face has its pips visible, then that face is altered to be blank instead. If the face is already blank, then it is changed back to its original value. After the alteration is made, another game of Ramvok can begin (and during such a game, at each turn, the die is rolled until a face with a value on it appears). The player knows which faces are blank and which are not at all times. The game of Super Ramvok ends once all faces of the die are blank.</p>\n",
    "\n",
    "<p>Let $S(d, c)$ be the expected profit that the player receives from an optimally-played game of Super Ramvok, given a fair $d$-sided die to start (with all sides visible), and cost constant $c$. For example, $S(6, 1) = 208.3$.</p>\n",
    "\n",
    "<p>Let $F(n) = \\sum_{4 \\le d \\le n} \\sum_{0 \\le c \\le n} S(d, c)$.</p>\n",
    "\n",
    "<p>Calculate $F(20)$, rounded to the nearest integer.</p>"
   ]
  },
  {
   "cell_type": "markdown",
   "id": "ee59107f-94be-45ad-b70a-e3dbf06f9c1d",
   "metadata": {},
   "source": [
    "## Solution."
   ]
  },
  {
   "cell_type": "code",
   "execution_count": 1,
   "id": "31412228-6dd0-4bdd-a686-7586de8f7443",
   "metadata": {},
   "outputs": [],
   "source": [
    "from functools import cache, lru_cache\n",
    "from tqdm import tqdm\n",
    "from math import comb\n",
    "import numpy as np\n",
    "import matplotlib.pyplot as plt\n",
    "from itertools import combinations"
   ]
  },
  {
   "cell_type": "code",
   "execution_count": 2,
   "id": "503936a7-394e-433d-8f8e-d528304b9ac5",
   "metadata": {},
   "outputs": [],
   "source": [
    "@cache\n",
    "def R_help(dice, c, t):\n",
    "    '''\n",
    "    dice - a tuple of numbers on the die\n",
    "    '''\n",
    "    if c == 0:\n",
    "        return max(dice)\n",
    "\n",
    "    if t == 0:\n",
    "        return 0\n",
    "\n",
    "    \n",
    "    if t == 1:\n",
    "        return sum(dice)/len(dice) - c\n",
    "\n",
    "    e = 0\n",
    "    l = len(dice)\n",
    "    for d in dice:\n",
    "        e += max(R_help(dice, c, t-1) + c*(t-1), d)\n",
    "\n",
    "    return e/l - c*t"
   ]
  },
  {
   "cell_type": "code",
   "execution_count": 10,
   "id": "1d6cfe9c-884f-4a69-a95d-0522255cf01e",
   "metadata": {},
   "outputs": [],
   "source": [
    "@cache\n",
    "def R(dice, c):\n",
    "    if c > max(dice):\n",
    "        return 0\n",
    "        \n",
    "    if dice == ():\n",
    "        return 0\n",
    "    \n",
    "    if c == 0:\n",
    "        return max(dice)\n",
    "\n",
    "    e = -1\n",
    "    t = 0\n",
    "    while R_help(dice, c, t) >= e: \n",
    "        e = R_help(dice, c, t)\n",
    "        t += 1\n",
    "\n",
    "    return e"
   ]
  },
  {
   "cell_type": "code",
   "execution_count": 11,
   "id": "40b0c5c6-6cde-43b4-9e52-410b8ed2f97f",
   "metadata": {},
   "outputs": [],
   "source": [
    "def generate_layer(k, d):\n",
    "    if k == 0:\n",
    "        return [()]\n",
    "    return list(combinations(range(1, d + 1), k))"
   ]
  },
  {
   "cell_type": "code",
   "execution_count": 16,
   "id": "ed2cbada-b2c0-4fb1-b480-755868bef3a0",
   "metadata": {},
   "outputs": [],
   "source": [
    "@lru_cache\n",
    "def S(d, c):\n",
    "    if c > d:\n",
    "        return 0\n",
    "\n",
    "    A = np.zeros((d+1, d+1), dtype=float)\n",
    "    y = np.zeros(d+1)\n",
    "    A[0][0] = 1\n",
    "\n",
    "    for k in (range(1, d)):\n",
    "        y[k] = sum(R(v, c) for v in generate_layer(k, d))\n",
    "        A[k][k] = 1\n",
    "        A[k][k-1] = -(d-(k-1))/d \n",
    "        A[k][k+1] = -(k+1)/d \n",
    "        \n",
    "   \n",
    "    A[d][d] = 1\n",
    "    A[d][d-1] = -1/d\n",
    "    y[d] = R(tuple([x for x in range(1, d+1)]), c)\n",
    "\n",
    "    x = np.linalg.solve(A, y)\n",
    "    \n",
    "    return x[-1]\n"
   ]
  },
  {
   "cell_type": "code",
   "execution_count": 13,
   "id": "bb454f4e-20ee-4b03-af98-ab504ced7da3",
   "metadata": {},
   "outputs": [
    {
     "data": {
      "text/plain": [
       "np.float64(208.29999999999913)"
      ]
     },
     "execution_count": 13,
     "metadata": {},
     "output_type": "execute_result"
    }
   ],
   "source": [
    "S(6,1)"
   ]
  },
  {
   "cell_type": "code",
   "execution_count": 14,
   "id": "042b1e4e-c708-4cb7-9212-f9d7187e3dc6",
   "metadata": {},
   "outputs": [],
   "source": [
    "def F(n):\n",
    "    s = 0\n",
    "    for n in tqdm(range(4, n+1)):\n",
    "        for c in range(0, n+1):\n",
    "            s += S(n, c)\n",
    "\n",
    "    return s"
   ]
  },
  {
   "cell_type": "code",
   "execution_count": 15,
   "id": "cbe40fa6-8f3b-48cf-b2ba-5f1bf239c94e",
   "metadata": {},
   "outputs": [
    {
     "name": "stderr",
     "output_type": "stream",
     "text": [
      "100%|██████████████████████████████████████████████████████████████████████████████████| 17/17 [04:32<00:00, 16.06s/it]\n"
     ]
    },
    {
     "data": {
      "text/plain": [
       "np.float64(147668793.78897253)"
      ]
     },
     "execution_count": 15,
     "metadata": {},
     "output_type": "execute_result"
    }
   ],
   "source": [
    "F(20)"
   ]
  },
  {
   "cell_type": "markdown",
   "id": "9e016fa3-0992-472c-88ad-5fb02625176b",
   "metadata": {},
   "source": [
    "ANSWER: 147668794"
   ]
  },
  {
   "cell_type": "code",
   "execution_count": null,
   "id": "73c633fb-282c-4374-944e-c784d0f10730",
   "metadata": {},
   "outputs": [],
   "source": []
  },
  {
   "cell_type": "code",
   "execution_count": null,
   "id": "ed641f62-5d43-4f5d-8262-14c5f80d5525",
   "metadata": {},
   "outputs": [],
   "source": []
  },
  {
   "cell_type": "code",
   "execution_count": null,
   "id": "271be6ef-568b-4261-8b0e-ad611d3caeae",
   "metadata": {},
   "outputs": [],
   "source": []
  },
  {
   "cell_type": "code",
   "execution_count": null,
   "id": "47dd6ce1-50b7-42ce-94fb-5d9d0b6d8b6b",
   "metadata": {},
   "outputs": [],
   "source": []
  },
  {
   "cell_type": "code",
   "execution_count": 86,
   "id": "d441f1b2-71dd-4246-a34a-2db4626c0272",
   "metadata": {},
   "outputs": [],
   "source": []
  }
 ],
 "metadata": {
  "kernelspec": {
   "display_name": "Python 3 (ipykernel)",
   "language": "python",
   "name": "python3"
  },
  "language_info": {
   "codemirror_mode": {
    "name": "ipython",
    "version": 3
   },
   "file_extension": ".py",
   "mimetype": "text/x-python",
   "name": "python",
   "nbconvert_exporter": "python",
   "pygments_lexer": "ipython3",
   "version": "3.12.4"
  }
 },
 "nbformat": 4,
 "nbformat_minor": 5
}
