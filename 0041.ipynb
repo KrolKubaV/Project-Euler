{
 "cells": [
  {
   "cell_type": "markdown",
   "id": "26c06919-703f-4590-b818-f5df381fe9a2",
   "metadata": {},
   "source": [
    "# Pandigital Prime - Problem 41\n",
    "<p>We shall say that an $n$-digit number is pandigital if it makes use of all the digits $1$ to $n$ exactly once. For example, $2143$ is a $4$-digit pandigital and is also prime.</p>\n",
    "<p>What is the largest $n$-digit pandigital prime that exists?</p>"
   ]
  },
  {
   "cell_type": "markdown",
   "id": "1e3ea5da-2bc5-42dc-ae7f-723c698867fa",
   "metadata": {},
   "source": [
    "## Solution.\n",
    "There are no 9-digit, 6-digit and 3-digit pandigital primes as they'd be divisible by $9$."
   ]
  },
  {
   "cell_type": "code",
   "execution_count": 13,
   "id": "07facfbe-95bf-4b7f-9203-68c20a511a3b",
   "metadata": {},
   "outputs": [],
   "source": [
    "from functools import cache"
   ]
  },
  {
   "cell_type": "code",
   "execution_count": 9,
   "id": "0c0a65fb-1a18-4595-a82e-bf8d8e5ebdec",
   "metadata": {},
   "outputs": [],
   "source": [
    "def is_prime(n):\n",
    "    if n <= 1:\n",
    "        return False\n",
    "    if n <= 3:\n",
    "        return True\n",
    "    if n % 2 == 0 or n % 3 == 0:\n",
    "        return False\n",
    "    i = 5\n",
    "    while i * i <= n:\n",
    "        if n % i == 0 or n % (i + 2) == 0:\n",
    "            return False\n",
    "        i += 6\n",
    "    return True"
   ]
  },
  {
   "cell_type": "code",
   "execution_count": 20,
   "id": "2d70be39-e439-4943-aa92-34486ef71828",
   "metadata": {},
   "outputs": [],
   "source": [
    "def generate_permutations(arr):\n",
    "    if len(arr) == 1:\n",
    "        return arr\n",
    "    \n",
    "    ans = []\n",
    "    for i, el in enumerate(arr):\n",
    "        a = [arr[i] + x for x in generate_permutations(arr[:i] + arr[(i+1):])]\n",
    "        ans += a\n",
    "    return ans"
   ]
  },
  {
   "cell_type": "code",
   "execution_count": 21,
   "id": "491440d3-4369-41bc-b885-2d98cabbdf8f",
   "metadata": {},
   "outputs": [],
   "source": [
    "perm = []\n",
    "for k in [8,7,5,4]:\n",
    "    perm += generate_permutations([str(i) for i in range(k, 0, -1)]) "
   ]
  },
  {
   "cell_type": "code",
   "execution_count": 23,
   "id": "365710b4-16f7-4583-8b5f-04f2d70ba7f7",
   "metadata": {},
   "outputs": [
    {
     "name": "stdout",
     "output_type": "stream",
     "text": [
      "7652413\n"
     ]
    }
   ],
   "source": [
    "for p in perm:\n",
    "    if is_prime(int(p)):\n",
    "        print(p)\n",
    "        break"
   ]
  },
  {
   "cell_type": "code",
   "execution_count": null,
   "id": "3fee6578-802c-4f06-90b3-2df27150e8d9",
   "metadata": {},
   "outputs": [],
   "source": []
  },
  {
   "cell_type": "code",
   "execution_count": null,
   "id": "323debab-782e-4c71-8598-55530e9c45d6",
   "metadata": {},
   "outputs": [],
   "source": []
  },
  {
   "cell_type": "code",
   "execution_count": null,
   "id": "22dbe7c3-d809-4f1c-b6b1-11589e1884b6",
   "metadata": {},
   "outputs": [],
   "source": []
  }
 ],
 "metadata": {
  "kernelspec": {
   "display_name": "Python 3 (ipykernel)",
   "language": "python",
   "name": "python3"
  },
  "language_info": {
   "codemirror_mode": {
    "name": "ipython",
    "version": 3
   },
   "file_extension": ".py",
   "mimetype": "text/x-python",
   "name": "python",
   "nbconvert_exporter": "python",
   "pygments_lexer": "ipython3",
   "version": "3.12.4"
  }
 },
 "nbformat": 4,
 "nbformat_minor": 5
}
