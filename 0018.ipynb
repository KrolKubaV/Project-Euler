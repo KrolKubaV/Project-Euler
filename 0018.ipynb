{
 "cells": [
  {
   "cell_type": "markdown",
   "id": "390022b3-9b68-4662-a222-acac123932f4",
   "metadata": {},
   "source": [
    "# Maximum Path Sum I - Problem 18\n",
    "\n",
    "<p>By starting at the top of the triangle below and moving to adjacent numbers on the row below, the maximum total from top to bottom is $23$.</p>\n",
    "<p class=\"monospace center\"><span class=\"red\"><b>3</b></span><br><span class=\"red\"><b>7</b></span> 4<br>\n",
    "2 <span class=\"red\"><b>4</b></span> 6<br>\n",
    "8 5 <span class=\"red\"><b>9</b></span> 3</p>\n",
    "<p>That is, $3 + 7 + 4 + 9 = 23$.</p>\n",
    "<p>Find the maximum total from top to bottom of the triangle below:</p>\n",
    "<p class=\"monospace center\">75<br>\n",
    "95 64<br>\n",
    "17 47 82<br>\n",
    "18 35 87 10<br>\n",
    "20 04 82 47 65<br>\n",
    "19 01 23 75 03 34<br>\n",
    "88 02 77 73 07 63 67<br>\n",
    "99 65 04 28 06 16 70 92<br>\n",
    "41 41 26 56 83 40 80 70 33<br>\n",
    "41 48 72 33 47 32 37 16 94 29<br>\n",
    "53 71 44 65 25 43 91 52 97 51 14<br>\n",
    "70 11 33 28 77 73 17 78 39 68 17 57<br>\n",
    "91 71 52 38 17 14 91 43 58 50 27 29 48<br>\n",
    "63 66 04 68 89 53 67 30 73 16 69 87 40 31<br>\n",
    "04 62 98 27 23 09 70 98 73 93 38 53 60 04 23</p>\n",
    "<p class=\"note\"><b>NOTE:</b> As there are only $16384$ routes, it is possible to solve this problem by trying every route. However, <a href=\"problem=67\">Problem 67</a>, is the same challenge with a triangle containing one-hundred rows; it cannot be solved by brute force, and requires a clever method! ;o)</p>"
   ]
  },
  {
   "cell_type": "markdown",
   "id": "cf058ba5-7342-4335-a6a6-c5d654e2b141",
   "metadata": {},
   "source": [
    "## Solution."
   ]
  },
  {
   "cell_type": "code",
   "execution_count": 27,
   "id": "fdff1586-d61e-4d3c-a833-f0cdc7c3be83",
   "metadata": {},
   "outputs": [],
   "source": [
    "s = '''\n",
    "75\n",
    "95 64\n",
    "17 47 82\n",
    "18 35 87 10\n",
    "20 04 82 47 65\n",
    "19 01 23 75 03 34\n",
    "88 02 77 73 07 63 67\n",
    "99 65 04 28 06 16 70 92\n",
    "41 41 26 56 83 40 80 70 33\n",
    "41 48 72 33 47 32 37 16 94 29\n",
    "53 71 44 65 25 43 91 52 97 51 14\n",
    "70 11 33 28 77 73 17 78 39 68 17 57\n",
    "91 71 52 38 17 14 91 43 58 50 27 29 48\n",
    "63 66 04 68 89 53 67 30 73 16 69 87 40 31\n",
    "04 62 98 27 23 09 70 98 73 93 38 53 60 04 23\n",
    "'''\n",
    "\n",
    "data = [[int(x) for x in y.split(' ')] for y in s.split('\\n') if y != '']"
   ]
  },
  {
   "cell_type": "code",
   "execution_count": 31,
   "id": "da517bf4-f25c-4142-9bbd-7a620e70ce5c",
   "metadata": {},
   "outputs": [],
   "source": [
    "def dp(triangle):\n",
    "    if len(triangle) == 1:\n",
    "        return [triangle[0][0]]\n",
    "        \n",
    "    prev_row = dp(triangle[:-1])\n",
    "    cur_row = triangle[-1]\n",
    "    l = len(cur_row)\n",
    "    \n",
    "    ans = [0]*l\n",
    "    ans[0] = prev_row[0] + cur_row[0]\n",
    "    ans[-1] = prev_row[-1] + cur_row[-1]\n",
    "    \n",
    "    for i in range(1, l-1, 1):\n",
    "        ans[i] = max(prev_row[i-1], prev_row[i]) + cur_row[i]\n",
    "\n",
    "    return ans"
   ]
  },
  {
   "cell_type": "code",
   "execution_count": 23,
   "id": "88c6416d-fb28-463d-97b2-d30f778ee4fb",
   "metadata": {},
   "outputs": [],
   "source": [
    "def sol18(triangle):\n",
    "    return max(dp(triangle))"
   ]
  },
  {
   "cell_type": "code",
   "execution_count": 33,
   "id": "8aafed06-a4e2-402b-8c1d-095995568c16",
   "metadata": {},
   "outputs": [
    {
     "data": {
      "text/plain": [
       "1074"
      ]
     },
     "execution_count": 33,
     "metadata": {},
     "output_type": "execute_result"
    }
   ],
   "source": [
    "sol18(data)"
   ]
  },
  {
   "cell_type": "code",
   "execution_count": 32,
   "id": "653ce702-a9fb-421d-b635-3c7490960dad",
   "metadata": {},
   "outputs": [
    {
     "data": {
      "text/plain": [
       "[794, 855, 891, 881, 927, 913, 1040, 1068, 1054, 1074, 977, 992, 994, 796, 724]"
      ]
     },
     "execution_count": 32,
     "metadata": {},
     "output_type": "execute_result"
    }
   ],
   "source": [
    "dp(data)"
   ]
  },
  {
   "cell_type": "code",
   "execution_count": null,
   "id": "2f4c7a74-0839-4cab-91ad-79fe8762a32e",
   "metadata": {},
   "outputs": [],
   "source": []
  }
 ],
 "metadata": {
  "kernelspec": {
   "display_name": "Python 3 (ipykernel)",
   "language": "python",
   "name": "python3"
  },
  "language_info": {
   "codemirror_mode": {
    "name": "ipython",
    "version": 3
   },
   "file_extension": ".py",
   "mimetype": "text/x-python",
   "name": "python",
   "nbconvert_exporter": "python",
   "pygments_lexer": "ipython3",
   "version": "3.12.4"
  }
 },
 "nbformat": 4,
 "nbformat_minor": 5
}
