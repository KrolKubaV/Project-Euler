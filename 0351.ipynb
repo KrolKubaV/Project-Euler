{
 "cells": [
  {
   "cell_type": "markdown",
   "id": "3ba8bdd5-b299-4991-817a-efe864829321",
   "metadata": {},
   "source": [
    "# Problem 351 - Hexagonal Orchards\n",
    "<p>A <dfn>hexagonal orchard</dfn> of order $n$ is a triangular lattice made up of points within a regular hexagon with side $n$. The following is an example of a hexagonal orchard of order $5$:\n",
    "</p>\n",
    "\n",
    "<div align=\"center\">\n",
    "<img src=\"resources/images/0351_hexorchard.png?1678992052\" class=\"dark_img\" alt=\"0351_hexorchard.png\"><br></div>\n",
    "\n",
    "<p>\n",
    "Highlighted in green are the points which are hidden from the center by a point closer to it. It can be seen that for a hexagonal orchard of order $5$, $30$ points are hidden from the center.\n",
    "</p>\n",
    "\n",
    "<p>\n",
    "Let $H(n)$ be the number of points hidden from the center in a hexagonal orchard of order $n$.\n",
    "</p>\n",
    "\n",
    "<p>\n",
    "$H(5) = 30$. $H(10) = 138$. $H(1\\,000) = 1177848$.\n",
    "</p>\n",
    "\n",
    "<p>\n",
    "Find $H(100\\,000\\,000)$.\n",
    "</p>"
   ]
  },
  {
   "cell_type": "markdown",
   "id": "e1230e5c-b16c-4db4-88e9-5bf6f10f0607",
   "metadata": {},
   "source": [
    "## Solution."
   ]
  },
  {
   "cell_type": "code",
   "execution_count": null,
   "id": "3a12f2c1-4c89-4ce1-add6-d8f81823f52d",
   "metadata": {},
   "outputs": [],
   "source": [
    "def H(n):\n",
    "    "
   ]
  },
  {
   "cell_type": "code",
   "execution_count": null,
   "id": "caaaf893-17d1-40ac-95b0-d8f2b099e3ad",
   "metadata": {},
   "outputs": [],
   "source": []
  },
  {
   "cell_type": "code",
   "execution_count": null,
   "id": "bd0e94c7-e4eb-4c6b-917b-6c25028d5473",
   "metadata": {},
   "outputs": [],
   "source": []
  },
  {
   "cell_type": "code",
   "execution_count": null,
   "id": "028108f3-c76b-4e7f-8dc6-6ae241727184",
   "metadata": {},
   "outputs": [],
   "source": []
  },
  {
   "cell_type": "code",
   "execution_count": null,
   "id": "3e2a0391-8030-4d12-b2ff-bb2b40910bfd",
   "metadata": {},
   "outputs": [],
   "source": []
  },
  {
   "cell_type": "code",
   "execution_count": null,
   "id": "4b05adc0-d643-46a0-85d7-ac044b1aef2c",
   "metadata": {},
   "outputs": [],
   "source": []
  },
  {
   "cell_type": "code",
   "execution_count": null,
   "id": "32071d49-bef7-4a4e-a6d7-942fd9aa2936",
   "metadata": {},
   "outputs": [],
   "source": []
  },
  {
   "cell_type": "code",
   "execution_count": null,
   "id": "8a0c62bb-f866-47b2-a254-e0bf00985d2b",
   "metadata": {},
   "outputs": [],
   "source": []
  },
  {
   "cell_type": "code",
   "execution_count": null,
   "id": "9d014efb-c024-4247-b3df-2f7b6293d11d",
   "metadata": {},
   "outputs": [],
   "source": []
  },
  {
   "cell_type": "code",
   "execution_count": null,
   "id": "cd5fda91-20b6-4e96-96b5-589c6524f26f",
   "metadata": {},
   "outputs": [],
   "source": []
  },
  {
   "cell_type": "code",
   "execution_count": null,
   "id": "27ef4c3e-60af-464f-98d9-1ab7e3cbf323",
   "metadata": {},
   "outputs": [],
   "source": []
  }
 ],
 "metadata": {
  "kernelspec": {
   "display_name": "Python 3 (ipykernel)",
   "language": "python",
   "name": "python3"
  },
  "language_info": {
   "codemirror_mode": {
    "name": "ipython",
    "version": 3
   },
   "file_extension": ".py",
   "mimetype": "text/x-python",
   "name": "python",
   "nbconvert_exporter": "python",
   "pygments_lexer": "ipython3",
   "version": "3.13.0"
  }
 },
 "nbformat": 4,
 "nbformat_minor": 5
}
