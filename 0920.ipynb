{
 "cells": [
  {
   "cell_type": "markdown",
   "id": "5d067b20-1097-43ac-8b2b-110865b37862",
   "metadata": {},
   "source": [
    "# Problem 920 - Fortunate Triangles\n",
    "<p>Given $n\\ge 2$ bowls arranged in a circle, $m\\ge 2$ balls are distributed amongst them.</p>\n",
    "\n",
    "<p>Initially the balls are distributed randomly: for each ball, a bowl is chosen equiprobably and independently of the other balls. After this is done, we start the following process:</p>\n",
    "<ol>\n",
    "<li>Choose one of the $m$ balls equiprobably at random.</li>\n",
    "<li>Choose a direction to move - either clockwise or anticlockwise - again equiprobably at random.</li>\n",
    "<li>Move the chosen ball to the neighbouring bowl in the chosen direction.</li>\n",
    "<li>Return to step 1.</li>\n",
    "</ol>\n",
    "\n",
    "<p>This process stops when all the $m$ balls are located in the same bowl. Note that this may be after zero steps, if the balls happen to have been initially distributed all in the same bowl.</p>\n",
    "\n",
    "<p>Let $F(n, m)$ be the expected number of times we move a ball before the process stops. For example, $F(2, 2) = \\frac{1}{2}$, $F(3, 2) = \\frac{4}{3}$, $F(2, 3) = \\frac{9}{4}$, and $F(4, 5) = \\frac{6875}{24}$.</p>\n",
    "\n",
    "<p>Let $G(N, M) = \\sum_{n=2}^N \\sum_{m=2}^M F(n, m)$. For example, $G(3, 3) = \\frac{137}{12}$ and $G(4, 5) = \\frac{6277}{12}$. You are also given that $G(6, 6) \\approx 1.681521567954e4$ in scientific format with 12 significant digits after the decimal point.</p>\n",
    "\n",
    "<p>Find $G(12, 12)$. Give your answer in scientific format with 12 significant digits after the decimal point.</p>\n"
   ]
  },
  {
   "cell_type": "markdown",
   "id": "247f86f3-f27a-44f7-bab7-befdae3423c9",
   "metadata": {},
   "source": [
    "## Solution."
   ]
  },
  {
   "cell_type": "code",
   "execution_count": 2,
   "id": "df267459-2de5-423b-9aaa-b5541fa34457",
   "metadata": {},
   "outputs": [],
   "source": [
    "from functools import cache"
   ]
  },
  {
   "cell_type": "code",
   "execution_count": null,
   "id": "13c95c56-88ee-440e-a0f6-a8770849a072",
   "metadata": {},
   "outputs": [],
   "source": [
    "@cache\n",
    "def construct_graph(n, m):\n",
    "    "
   ]
  },
  {
   "cell_type": "code",
   "execution_count": null,
   "id": "1044b4c5-bfc2-4170-af04-6df9f8f89615",
   "metadata": {},
   "outputs": [],
   "source": []
  },
  {
   "cell_type": "code",
   "execution_count": null,
   "id": "a13fdce7-1d3f-442f-ab8c-c7fedbb7a514",
   "metadata": {},
   "outputs": [],
   "source": []
  },
  {
   "cell_type": "code",
   "execution_count": null,
   "id": "560b9c1c-ccd5-4d41-ad82-302c635085cc",
   "metadata": {},
   "outputs": [],
   "source": []
  },
  {
   "cell_type": "code",
   "execution_count": null,
   "id": "5911e266-a2df-43a7-a95d-77c7e2964ee5",
   "metadata": {},
   "outputs": [],
   "source": []
  },
  {
   "cell_type": "code",
   "execution_count": null,
   "id": "dd5e67e4-0aed-4776-bb0f-6f107fe8be70",
   "metadata": {},
   "outputs": [],
   "source": []
  },
  {
   "cell_type": "code",
   "execution_count": null,
   "id": "80ecdeb1-029c-4b1c-b855-5668ad70e6f5",
   "metadata": {},
   "outputs": [],
   "source": []
  },
  {
   "cell_type": "code",
   "execution_count": null,
   "id": "66d60f90-ac31-4b23-9f2c-ad2cde128ed7",
   "metadata": {},
   "outputs": [],
   "source": []
  },
  {
   "cell_type": "code",
   "execution_count": null,
   "id": "9f6235ad-fc54-41a3-98d0-245d68c9bfb1",
   "metadata": {},
   "outputs": [],
   "source": []
  },
  {
   "cell_type": "code",
   "execution_count": null,
   "id": "1a6f88fb-8f05-401b-bb74-3f78dd9cc719",
   "metadata": {},
   "outputs": [],
   "source": []
  },
  {
   "cell_type": "code",
   "execution_count": null,
   "id": "2b3ab9a2-61af-4fe3-89ab-a0ea8f6d087d",
   "metadata": {},
   "outputs": [],
   "source": []
  },
  {
   "cell_type": "code",
   "execution_count": null,
   "id": "5c1402e8-1420-4ef0-9ff4-e54a02fbb4bb",
   "metadata": {},
   "outputs": [],
   "source": []
  }
 ],
 "metadata": {
  "kernelspec": {
   "display_name": "Python 3 (ipykernel)",
   "language": "python",
   "name": "python3"
  },
  "language_info": {
   "codemirror_mode": {
    "name": "ipython",
    "version": 3
   },
   "file_extension": ".py",
   "mimetype": "text/x-python",
   "name": "python",
   "nbconvert_exporter": "python",
   "pygments_lexer": "ipython3",
   "version": "3.13.0"
  }
 },
 "nbformat": 4,
 "nbformat_minor": 5
}
