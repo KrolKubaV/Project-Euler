{
 "cells": [
  {
   "cell_type": "markdown",
   "id": "1a5a284b-0b35-491e-a788-ef869b0ba699",
   "metadata": {},
   "source": [
    "# Blood Tests - Problem 352\n",
    "<p>\n",
    "Each one of the $25$ sheep in a flock must be tested for a rare virus, known to affect $2\\%$ of the sheep population.\n",
    "An accurate and extremely sensitive PCR test exists for blood samples, producing a clear positive / negative result, but it is very time-consuming and expensive.\n",
    "</p>\n",
    "\n",
    "<p>\n",
    "Because of the high cost, the vet-in-charge suggests that instead of performing $25$ separate tests, the following procedure can be used instead:<br><br>\n",
    "The sheep are split into $5$ groups of $5$ sheep in each group. \n",
    "For each group, the $5$ samples are mixed together and a single test is performed. Then,\n",
    "</p><ul><li>If the result is negative, all the sheep in that group are deemed to be virus-free.</li>\n",
    "<li>If the result is positive, $5$ additional tests will be performed (a separate test for each animal) to determine the affected individual(s).</li>\n",
    "</ul><p>\n",
    "Since the probability of infection for any specific animal is only $0.02$, the first test (on the pooled samples) for each group will be:\n",
    "</p><ul><li>Negative (and no more tests needed) with probability $0.98^5 = 0.9039207968$.</li>\n",
    "<li>Positive ($5$ additional tests needed) with probability $1 - 0.9039207968 = 0.0960792032$.</li>\n",
    "</ul><p>\n",
    "Thus, the expected number of tests for each group is $1 + 0.0960792032 \\times 5 = 1.480396016$.<br>\n",
    "Consequently, all $5$ groups can be screened using an average of only $1.480396016 \\times 5 = \\mathbf{7.40198008}$ tests, which represents a huge saving of more than $70\\%$!\n",
    "</p>\n",
    "\n",
    "<p>\n",
    "Although the scheme we have just described seems to be very efficient, it can still be improved considerably (always assuming that the test is sufficiently sensitive and that there are no adverse effects caused by mixing different samples). E.g.:\n",
    "</p><ul><li>We may start by running a test on a mixture of all the $25$ samples. It can be verified that in about $60.35\\%$ of the cases this test will be negative, thus no more tests will be needed. Further testing will only be required for the remaining $39.65\\%$ of the cases.</li>\n",
    "<li>If we know that at least one animal in a group of $5$ is infected and the first $4$ individual tests come out negative, there is no need to run a test on the fifth animal (we know that it must be infected).</li>\n",
    "<li>We can try a different number of groups / different number of animals in each group, adjusting those numbers at each level so that the total expected number of tests will be minimised.</li>\n",
    "</ul><p>\n",
    "To simplify the very wide range of possibilities, there is one restriction we place when devising the most cost-efficient testing scheme: whenever we start with a mixed sample, all the sheep contributing to that sample must be fully screened (i.e. a verdict of infected / virus-free must be reached for all of them) before we start examining any other animals.\n",
    "</p>\n",
    "For the current example, it turns out that the most cost-efficient testing scheme (we'll call it the <dfn>optimal strategy</dfn>) requires an average of just $\\mathbf{4.155452}$ tests!\n",
    "\n",
    "\n",
    "<p>\n",
    "Using the optimal strategy, let $T(s,p)$ represent the average number of tests needed to screen a flock of $s$ sheep for a virus having probability $p$ to be present in any individual.<br>\n",
    "Thus, rounded to six decimal places, $T(25, 0.02) = 4.155452$ and $T(25, 0.10) = 12.702124$.\n",
    "</p>\n",
    "\n",
    "<p>\n",
    "Find $\\sum T(10000, p)$ for $p=0.01, 0.02, 0.03, \\dots 0.50$.<br>\n",
    "Give your answer rounded to six decimal places.\n",
    "</p>\n"
   ]
  },
  {
   "cell_type": "markdown",
   "id": "7dacaedb-cb05-42e1-b8e2-6a83e1a534b7",
   "metadata": {},
   "source": [
    "## Solution."
   ]
  },
  {
   "cell_type": "code",
   "execution_count": 58,
   "id": "95901ef0-8982-4da4-bd2a-d8fc17ad35f4",
   "metadata": {},
   "outputs": [],
   "source": [
    "from functools import lru_cache\n",
    "from tqdm import tqdm"
   ]
  },
  {
   "cell_type": "code",
   "execution_count": 71,
   "id": "99257f32-4a1f-4a9f-be7e-00d60244737d",
   "metadata": {},
   "outputs": [],
   "source": [
    "@lru_cache(maxsize=None)\n",
    "def T_positive(s, p):\n",
    "    # probability of -\n",
    "    q = 1 - p\n",
    "\n",
    "    if s == 1:\n",
    "        return 0\n",
    "\n",
    "    ans = s\n",
    "    for k in range(1, min(s, 150)):\n",
    "        if s - k > 0:\n",
    "            # probability someone has + among k first people GIVEN that someone has + among s people\n",
    "            p_pos = (1-q**k)/(1-q**s)\n",
    "    \n",
    "            # test k people and condition on whether we've seen + or not\n",
    "            ans = min(ans, 1 + p_pos * (T_positive(k, p) + T(s-k, p)) + (1 - p_pos) * T_positive(s-k, p))\n",
    "\n",
    "    return ans\n",
    "\n",
    "\n",
    "\n",
    "@lru_cache(maxsize=None)\n",
    "def T(s, p):\n",
    "    # probability of -\n",
    "    q = 1 - p\n",
    "        \n",
    "    if s == 1:\n",
    "        return 1\n",
    "\n",
    "    ans = s\n",
    "    for k in range(1, min(s+1, 150)):\n",
    "        if s - k >= 0:\n",
    "            # probability someone has + among k first people\n",
    "            p_pos = 1 - q**k\n",
    "    \n",
    "            # test k people and condition on whether we've seen + or not\n",
    "            ans = min(ans, 1 + p_pos * (T_positive(k, p) + T(s-k, p)) + (1-p_pos) * T(s-k, p))\n",
    "\n",
    "    return ans"
   ]
  },
  {
   "cell_type": "code",
   "execution_count": 72,
   "id": "2a68d43f-389e-4400-821b-43578388e0e4",
   "metadata": {},
   "outputs": [
    {
     "name": "stderr",
     "output_type": "stream",
     "text": [
      "100%|██████████████████████████████████████████████████████████████████████████████████| 50/50 [01:13<00:00,  1.48s/it]"
     ]
    },
    {
     "name": "stdout",
     "output_type": "stream",
     "text": [
      "378563.260589\n"
     ]
    },
    {
     "name": "stderr",
     "output_type": "stream",
     "text": [
      "\n"
     ]
    }
   ],
   "source": [
    "ans = 0\n",
    "for i in tqdm(range(1, 51)):\n",
    "    p = i / 100\n",
    "    for n in range(1, 10001):\n",
    "        a = T(n, p)\n",
    "    ans += a\n",
    "\n",
    "print(round(ans, 6))"
   ]
  },
  {
   "cell_type": "code",
   "execution_count": 73,
   "id": "7719085a-583f-4760-9620-fc41182088b3",
   "metadata": {},
   "outputs": [
    {
     "data": {
      "text/plain": [
       "True"
      ]
     },
     "execution_count": 73,
     "metadata": {},
     "output_type": "execute_result"
    }
   ],
   "source": [
    "378563.260589 == round(ans, 6)"
   ]
  },
  {
   "cell_type": "code",
   "execution_count": null,
   "id": "c7f70a04-409c-4fab-a895-645edbe2969b",
   "metadata": {},
   "outputs": [],
   "source": []
  },
  {
   "cell_type": "code",
   "execution_count": null,
   "id": "a9da9a0b-0186-4cd0-b403-a5d40f05844c",
   "metadata": {},
   "outputs": [],
   "source": []
  },
  {
   "cell_type": "code",
   "execution_count": null,
   "id": "697f4dad-7ac2-4b0d-921c-5a1765c9f0d3",
   "metadata": {},
   "outputs": [],
   "source": []
  },
  {
   "cell_type": "code",
   "execution_count": null,
   "id": "de622880-e672-45d1-ba74-0af9583d9fd4",
   "metadata": {},
   "outputs": [],
   "source": []
  },
  {
   "cell_type": "code",
   "execution_count": null,
   "id": "c9a1aa89-91da-46c6-b681-0fde800b1a6b",
   "metadata": {},
   "outputs": [],
   "source": []
  },
  {
   "cell_type": "code",
   "execution_count": null,
   "id": "c5225a5a-0e94-4a1f-b8ad-81db370bdfc6",
   "metadata": {},
   "outputs": [],
   "source": []
  },
  {
   "cell_type": "code",
   "execution_count": null,
   "id": "b08b80a8-fe3d-43d7-a293-8fb1dc63b17e",
   "metadata": {},
   "outputs": [],
   "source": []
  },
  {
   "cell_type": "code",
   "execution_count": null,
   "id": "fcff428b-1441-462e-afcc-6d0d3999a725",
   "metadata": {},
   "outputs": [],
   "source": []
  },
  {
   "cell_type": "code",
   "execution_count": null,
   "id": "59d716c6-781a-444b-ac9e-f800b7a2aaa4",
   "metadata": {},
   "outputs": [],
   "source": []
  }
 ],
 "metadata": {
  "kernelspec": {
   "display_name": "Python 3 (ipykernel)",
   "language": "python",
   "name": "python3"
  },
  "language_info": {
   "codemirror_mode": {
    "name": "ipython",
    "version": 3
   },
   "file_extension": ".py",
   "mimetype": "text/x-python",
   "name": "python",
   "nbconvert_exporter": "python",
   "pygments_lexer": "ipython3",
   "version": "3.12.4"
  }
 },
 "nbformat": 4,
 "nbformat_minor": 5
}
