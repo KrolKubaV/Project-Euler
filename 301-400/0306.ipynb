{
 "cells": [
  {
   "cell_type": "markdown",
   "id": "0f55401d",
   "metadata": {},
   "source": [
    "# Problem 306 - Paper-strip Game\n",
    "<p>The following game is a classic example of Combinatorial Game Theory:</p>\n",
    "\n",
    "<p>Two players start with a strip of $n$ white squares and they take alternate turns.<br />\n",
    "On each turn, a player picks two contiguous white squares and paints them black.<br />\n",
    "The first player who cannot make a move loses.</p>\n",
    "\n",
    "<ul><li> $n = 1$ : No valid moves, so the first player loses automatically.</li>\n",
    "<li>$n = 2$: Only one valid move, after which the second player loses.</li>\n",
    "<li>$n = 3$: Two valid moves, but both leave a situation where the second player loses.</li>\n",
    "<li>$n = 4$: Three valid moves for the first player, who is able to win the game by painting the two middle squares.</li>\n",
    "<li>$n = 5$: Four valid moves for the first player (shown below in red), but no matter what the player does, the second player (blue) wins.</li>\n",
    "</ul><div class=\"center\"><img src=\"project/images/p306_pstrip.gif\" class=\"dark_img\" alt=\"p306_pstrip.gif\" /></div>\n",
    "\n",
    "<p>So, for $1 \\le n \\le 5$, there are 3 values of $n$ for which the first player can force a win.<br />\n",
    "Similarly, for $1 \\le n \\le 50$, there are 40 values of $n$ for which the first player can force a win.</p>\n",
    "\n",
    "<p>For $1 \\le n \\le 1 000 000$, how many values of $n$ are there for which the first player can force a win?</p>"
   ]
  },
  {
   "cell_type": "markdown",
   "id": "724e1a69",
   "metadata": {},
   "source": [
    "## Solution."
   ]
  },
  {
   "cell_type": "code",
   "execution_count": 5,
   "id": "686e2ab3",
   "metadata": {},
   "outputs": [],
   "source": [
    "def f(x):\n",
    "    return"
   ]
  },
  {
   "cell_type": "code",
   "execution_count": null,
   "id": "bd98761c",
   "metadata": {},
   "outputs": [],
   "source": []
  },
  {
   "cell_type": "code",
   "execution_count": null,
   "id": "4058cb0c",
   "metadata": {},
   "outputs": [],
   "source": []
  },
  {
   "cell_type": "code",
   "execution_count": null,
   "id": "aeb011de",
   "metadata": {},
   "outputs": [],
   "source": []
  }
 ],
 "metadata": {
  "kernelspec": {
   "display_name": "Python 3",
   "language": "python",
   "name": "python3"
  },
  "language_info": {
   "codemirror_mode": {
    "name": "ipython",
    "version": 3
   },
   "file_extension": ".py",
   "mimetype": "text/x-python",
   "name": "python",
   "nbconvert_exporter": "python",
   "pygments_lexer": "ipython3",
   "version": "3.13.0"
  }
 },
 "nbformat": 4,
 "nbformat_minor": 5
}
