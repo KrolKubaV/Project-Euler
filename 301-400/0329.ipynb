{
 "cells": [
  {
   "cell_type": "markdown",
   "id": "f16f8997-46da-404a-8039-53e522ca46bd",
   "metadata": {},
   "source": [
    "# Problem 329 - Prime Frog\n",
    "<p>Susan has a prime frog.<br>\n",
    "Her frog is jumping around over $500$ squares numbered $1$ to $500$.\n",
    "He can only jump one square to the left or to the right, with equal probability, and he cannot jump outside the range $[1;500]$.<br>(if it lands at either end, it automatically jumps to the only available square on the next move.)\n",
    "</p>\n",
    "<p>\n",
    "When he is on a square with a prime number on it, he croaks 'P' (PRIME) with probability $2/3$ or 'N' (NOT PRIME) with probability $1/3$ just before jumping to the next square.<br>\n",
    "When he is on a square with a number on it that is not a prime he croaks 'P' with probability $1/3$ or 'N' with probability $2/3$ just before jumping to the next square.\n",
    "</p>\n",
    "<p>\n",
    "Given that the frog's starting position is random with the same probability for every square, and given that she listens to his first $15$ croaks, what is the probability that she hears the sequence PPPPNNPPPNPPNPN?\n",
    "</p>\n",
    "Give your answer as a fraction $p/q$ in reduced form.\n"
   ]
  },
  {
   "cell_type": "markdown",
   "id": "35e77119-83b5-4fc1-aa8d-0758c7d9517b",
   "metadata": {},
   "source": [
    "## Solution."
   ]
  },
  {
   "cell_type": "code",
   "execution_count": 39,
   "id": "8067cab8-8cbd-4d3c-ae15-0a07a6bb4b57",
   "metadata": {},
   "outputs": [],
   "source": [
    "from functools import cache\n",
    "from fractions import Fraction\n",
    "import sympy"
   ]
  },
  {
   "cell_type": "code",
   "execution_count": 40,
   "id": "2777a1fb-9e7c-4748-8ac4-567f8228a002",
   "metadata": {},
   "outputs": [],
   "source": [
    "def is_prime(n, k=5): \n",
    "    if n <= 1:\n",
    "        return False\n",
    "    if n <= 3:\n",
    "        return True\n",
    "    if n % 2 == 0:\n",
    "        return False\n",
    "\n",
    "    # write n-1 as 2^r * d\n",
    "    r, d = 0, n - 1\n",
    "    while d % 2 == 0:\n",
    "        r += 1\n",
    "        d //= 2\n",
    "\n",
    "    for _ in range(k):\n",
    "        a = random.randrange(2, n - 1)\n",
    "        x = pow(a, d, n)\n",
    "\n",
    "        if x == 1 or x == n - 1:\n",
    "            continue\n",
    "\n",
    "        for _ in range(r - 1):\n",
    "            x = pow(x, 2, n)\n",
    "            if x == n - 1:\n",
    "                break\n",
    "        else:\n",
    "            return False\n",
    "\n",
    "    return Tru"
   ]
  },
  {
   "cell_type": "code",
   "execution_count": 41,
   "id": "669122c3-87cd-4fba-be88-37d5acd49f6f",
   "metadata": {},
   "outputs": [],
   "source": [
    "@cache\n",
    "def P(seq, start):\n",
    "    '''\n",
    "    Finds P(seq | start) using exact fractions\n",
    "    '''\n",
    "    s = seq[0]\n",
    "    seq = seq[1:]\n",
    "\n",
    "    if len(seq) == 0:\n",
    "        if is_prime(start):\n",
    "            return Fraction(2, 3) if s == 'P' else Fraction(1, 3)\n",
    "        return Fraction(1, 3) if s == 'P' else Fraction(2, 3)\n",
    "    \n",
    "    if is_prime(start):\n",
    "        if s == 'P':\n",
    "            return Fraction(1, 3) * (P(seq, start - 1) + P(seq, start + 1))\n",
    "        else:\n",
    "            return Fraction(1, 6) * (P(seq, start - 1) + P(seq, start + 1))\n",
    "\n",
    "    if start == 1:\n",
    "        if s == 'P':\n",
    "            return Fraction(1, 3) * P(seq, start + 1)\n",
    "        else:\n",
    "            return Fraction(2, 3) * P(seq, start + 1)\n",
    "\n",
    "    if start == 500:\n",
    "        if s == 'P':\n",
    "            return Fraction(1, 3) * P(seq, start - 1)\n",
    "        else:\n",
    "            return Fraction(2, 3) * P(seq, start - 1)\n",
    "\n",
    "    if s == 'P':\n",
    "        return Fraction(1, 6) * (P(seq, start - 1) + P(seq, start + 1))\n",
    "    else:\n",
    "        return Fraction(1, 3) * (P(seq, start - 1) + P(seq, start + 1))\n",
    "\n",
    "def P_f(seq):\n",
    "    total = sum(P(seq, start) for start in range(1, 501))\n",
    "    result = Fraction(1, 500) * total\n",
    "    return f\"{result.numerator}/{result.denominator}\""
   ]
  },
  {
   "cell_type": "code",
   "execution_count": null,
   "id": "2a26372a-2e5f-4c5c-b6f8-81a038b17a88",
   "metadata": {},
   "outputs": [],
   "source": [
    "P_f('PPPPNNPPPNPPNPN')"
   ]
  },
  {
   "cell_type": "code",
   "execution_count": null,
   "id": "796059a2-31b1-4b97-b68e-34ad8e450638",
   "metadata": {},
   "outputs": [],
   "source": []
  },
  {
   "cell_type": "code",
   "execution_count": null,
   "id": "e34c77fa-37df-4831-8ea7-84758e6e4ad5",
   "metadata": {},
   "outputs": [],
   "source": []
  },
  {
   "cell_type": "code",
   "execution_count": null,
   "id": "cf4a79a3-4e9c-4c1f-be2e-ac47503c73be",
   "metadata": {},
   "outputs": [],
   "source": []
  },
  {
   "cell_type": "code",
   "execution_count": null,
   "id": "85e275a1-1ad7-479e-9dfc-ccd108ace2b2",
   "metadata": {},
   "outputs": [],
   "source": []
  },
  {
   "cell_type": "code",
   "execution_count": null,
   "id": "d4840084-d86b-406a-b52a-4b2c43a912d7",
   "metadata": {},
   "outputs": [],
   "source": []
  },
  {
   "cell_type": "code",
   "execution_count": null,
   "id": "b3c73000-2242-4288-b7db-3303bd0b9414",
   "metadata": {},
   "outputs": [],
   "source": []
  },
  {
   "cell_type": "code",
   "execution_count": null,
   "id": "6c134098-2068-4f00-b451-b5e00a6692b1",
   "metadata": {},
   "outputs": [],
   "source": []
  }
 ],
 "metadata": {
  "kernelspec": {
   "display_name": "Python 3 (ipykernel)",
   "language": "python",
   "name": "python3"
  },
  "language_info": {
   "codemirror_mode": {
    "name": "ipython",
    "version": 3
   },
   "file_extension": ".py",
   "mimetype": "text/x-python",
   "name": "python",
   "nbconvert_exporter": "python",
   "pygments_lexer": "ipython3",
   "version": "3.12.4"
  }
 },
 "nbformat": 4,
 "nbformat_minor": 5
}
