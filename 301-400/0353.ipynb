{
 "cells": [
  {
   "cell_type": "markdown",
   "id": "fcfb09c0-46ef-48ab-ab9a-261efc769977",
   "metadata": {},
   "source": [
    "# Risky Moon - Problem 353\n",
    "<p>\n",
    "A moon could be described by the sphere $C(r)$ with centre $(0,0,0)$ and radius $r$. \n",
    "</p>\n",
    "\n",
    "<p>\n",
    "There are stations on the moon at the points on the surface of $C(r)$ with integer coordinates. The station at $(0,0,r)$ is called North Pole station, the station at $(0,0,-r)$ is called South Pole station.\n",
    "</p>\n",
    "\n",
    "<p>\n",
    "All stations are connected with each other via the shortest road on the great arc through the stations. A journey between two stations is risky. If <var>d</var> is the length of the road between two stations, $\\left(\\frac{d}{\\pi r}\\right)^2$ is a measure for the risk of the journey (let us call it the risk of the road). If the journey includes more than two stations, the risk of the journey is the sum of risks of the used roads.\n",
    "</p>\n",
    "\n",
    "<p>\n",
    "A direct journey from  the North Pole station to the South Pole station has the length $\\pi r$ and risk $1$. The journey from the North Pole station to the South Pole station via $(0,r,0)$ has the same length, but a smaller risk:</p>\n",
    "\\[\n",
    "\\left(\\frac{\\frac{1}{2}\\pi r}{\\pi r}\\right)^2+\\left(\\frac{\\frac{1}{2}\\pi r}{\\pi r}\\right)^2=0.5\n",
    "\\]\n",
    "\n",
    "<p>\n",
    "The minimal risk of a journey from the North Pole station to the South Pole station on $C(r)$ is $M(r)$.\n",
    "</p>\n",
    "\n",
    "<p>\n",
    "You are given that $M(7)=0.1784943998$ rounded to $10$ digits behind the decimal point. \n",
    "</p>\n",
    "\n",
    "<p>\n",
    "Find $\\displaystyle{\\sum_{n=1}^{15}M(2^n-1)}$.\n",
    "</p>\n",
    "\n",
    "<p>\n",
    "Give your answer rounded to $10$ digits behind the decimal point in the form a.bcdefghijk.\n",
    "</p>\n",
    "\n"
   ]
  },
  {
   "cell_type": "markdown",
   "id": "4ece543e-2d12-4583-a556-9367ea76bbea",
   "metadata": {},
   "source": [
    "## Solution.\n",
    "We rephrase the problem and go from $(-r, 0, 0)$ to $(r, 0 ,0)$.\n",
    "\n",
    "Ideas:\n",
    "- Dijisktra\n",
    "- connect only to the closest points"
   ]
  },
  {
   "cell_type": "code",
   "execution_count": 251,
   "id": "98c23249-c6ad-4c96-b6b1-e6b6d58c204a",
   "metadata": {},
   "outputs": [],
   "source": [
    "from math import acos, pi, sqrt, ceil, gcd\n",
    "from collections import defaultdict\n",
    "import bisect"
   ]
  },
  {
   "cell_type": "code",
   "execution_count": 252,
   "id": "61e5227b-2cf5-4849-90ee-a56e8bf3e5ae",
   "metadata": {},
   "outputs": [],
   "source": [
    "def risk(a, b, r):\n",
    "    '''\n",
    "    Risk of the journey between a=(a0, a1, a2) and b=(b0, b1, b2) divided by pi.\n",
    "    '''\n",
    "    d = sum((i-j)**2 for i, j in zip(a, b))\n",
    "    return acos(1 - 1/2 * d/r**2) ** 2 / pi**2   "
   ]
  },
  {
   "cell_type": "code",
   "execution_count": 72,
   "id": "1c8f8579-a04a-46f3-82de-7c354c8f1aea",
   "metadata": {},
   "outputs": [],
   "source": [
    "def is_sq(x):\n",
    "    '''\n",
    "    Checks if x is a perfect square.\n",
    "    '''\n",
    "    sq = int(sqrt(x))\n",
    "    return sq * sq == x\n",
    "\n",
    "def generate_fundamental_triples(r):\n",
    "    '''\n",
    "    Generates all possible integer (x, y, z) s.t. x,y,z >= 0, x >= y >= z and\n",
    "    x^2 + y^2 + z^2 = r^2.\n",
    "    '''\n",
    "    triples = []\n",
    "    for x in range(r, int(r/sqrt(3)) - 1, -1):\n",
    "        for y in range(int(sqrt(r**2-x**2)), ceil(sqrt((r**2 - x**2)/2))-1, -1):\n",
    "            if is_sq(r**2 - x**2 - y**2):\n",
    "                triples.append((x, y, int(sqrt(r**2 - x**2 - y**2))))\n",
    "    return triples"
   ]
  },
  {
   "cell_type": "code",
   "execution_count": 204,
   "id": "16cc3d04-21bf-4040-b433-3e91ae302da5",
   "metadata": {},
   "outputs": [],
   "source": [
    "def generate_graph(r):\n",
    "    '''\n",
    "    V - set of vertices\n",
    "    E - dictionary of neighbours\n",
    "    '''\n",
    "    V = set()\n",
    "    E = {}\n",
    "\n",
    "    triples = generate_fundamental_triples(r)\n",
    "    levels = defaultdict(set)\n",
    "\n",
    "    for triple in triples:\n",
    "        x,y,z = triple\n",
    "        levels[x].add((x,y,z))\n",
    "        levels[x].add((x,z,y))\n",
    "        levels[y].add((y,x,z))\n",
    "        levels[y].add((y,z,x))\n",
    "        levels[z].add((z,x,y))\n",
    "        levels[z].add((z,y,x))\n",
    "        levels[-x].add((-x,y,z))\n",
    "        levels[-x].add((-x,z,y))\n",
    "        levels[-y].add((-y,x,z))\n",
    "        levels[-y].add((-y,z,x))\n",
    "        levels[-z].add((-z,x,y))\n",
    "        levels[-z].add((-z,y,x))\n",
    "\n",
    "    levels = dict(sorted(levels.items()))\n",
    "\n",
    "    # create vertices\n",
    "    V = set([v for x in levels.values() for v in x])\n",
    "\n",
    "\n",
    "    # create edges\n",
    "    depth = 100 # can be changed\n",
    "    l = len(levels)\n",
    "    keys = list(levels.keys())\n",
    "    E = defaultdict(set)\n",
    "\n",
    "    for i, lvl in enumerate(keys):\n",
    "        for v in levels[lvl]:\n",
    "            for j in range(max(0, i - depth), min(l, i + depth)):\n",
    "                for u in levels[keys[j]]:\n",
    "                    E[v].add(u)        \n",
    "\n",
    "    \n",
    "    return V, E"
   ]
  },
  {
   "cell_type": "code",
   "execution_count": 191,
   "id": "2931597d-9318-4863-ad79-610c2dfb9795",
   "metadata": {},
   "outputs": [],
   "source": [
    "def dijkstra(graph, r, start, end):\n",
    "    '''\n",
    "    https://web.engr.oregonstate.edu/~glencora/wiki/uploads/dijkstra-proof.pdf\n",
    "    '''\n",
    "    V = graph[0]\n",
    "    E = graph[1]\n",
    "    d = {v:float('inf') for v in V}\n",
    "    d[start] = 0\n",
    "    \n",
    "    R = set()\n",
    "    l = len(V)\n",
    "\n",
    "    while len(R) != l:\n",
    "        # pick u in V\\R with the smallest d\n",
    "        current_min = float('inf')\n",
    "        for w in V - R:\n",
    "            if d[w] < current_min:\n",
    "                current_min = d[w]\n",
    "                u = w\n",
    "\n",
    "        # u is now seen\n",
    "        R.add(u)\n",
    "\n",
    "        # update neighbours of u\n",
    "        for w in E[u]:\n",
    "            new_d = d[u] + risk(u, w, r)\n",
    "            if d[w] > new_d:\n",
    "                d[w] = new_d\n",
    "\n",
    "        # if we visit end, we can just return the total risk as it's additive\n",
    "        if end in R:\n",
    "            return d[end]"
   ]
  },
  {
   "cell_type": "code",
   "execution_count": 192,
   "id": "8e93b7ed-de3b-42c7-b316-4b21caa58426",
   "metadata": {},
   "outputs": [],
   "source": [
    "def M(r):\n",
    "    return dijkstra(generate_graph(r), r, (r, 0, 0), (-r, 0, 0))"
   ]
  },
  {
   "cell_type": "code",
   "execution_count": 205,
   "id": "3e2d71b4-ef09-4191-8186-a08afcdaea79",
   "metadata": {},
   "outputs": [
    {
     "name": "stdout",
     "output_type": "stream",
     "text": [
      "1 1 0.5\n",
      "2 3 0.2360456664461351\n",
      "3 7 0.1784943997551485\n",
      "4 15 0.10714794796211999\n",
      "5 31 0.08744530034378603\n",
      "6 63 0.041515684149188534\n",
      "7 127 0.046342185231883465\n",
      "8 255 0.023951558104512362\n",
      "9 511 0.017904889542828168\n",
      "10 1023 0.010340579258887034\n",
      "11 2047 0.010981092024029224\n",
      "12 4095 0.0050289498357206155\n",
      "13 8191 0.005600730815026471\n",
      "14 16383 0.0029262924103760444\n",
      "15 32767 0.002260757199644657\n"
     ]
    }
   ],
   "source": [
    "for n in range(1, 16, 1):\n",
    "    M_values[n] = M(2**n - 1)\n",
    "    print(n, 2**n - 1, M_values[n])"
   ]
  },
  {
   "cell_type": "code",
   "execution_count": 278,
   "id": "e5b9c0cd-d9ac-4f3b-9e33-b9efc663877d",
   "metadata": {},
   "outputs": [
    {
     "name": "stdout",
     "output_type": "stream",
     "text": [
      "0.2360456664461351\n",
      "0.1784943997551485\n",
      "0.10714794796211999\n",
      "0.08744530034378603\n",
      "0.041515684149188534\n",
      "0.046342185231883465\n",
      "0.023951558104512362\n",
      "0.017904889542828168\n",
      "0.010340579258887034\n",
      "0.010981092024029224\n",
      "0.0050289498357206155\n",
      "0.005600730815026471\n",
      "0.0029262924103760444\n",
      "0.002260757199644657\n",
      "0.5\n",
      "1.2759860331\n"
     ]
    }
   ],
   "source": [
    "s = 0\n",
    "for v in M_values.values():\n",
    "    s += v\n",
    "    print(v)\n",
    "print(round(s, 10)) #1.2759860331"
   ]
  },
  {
   "cell_type": "code",
   "execution_count": null,
   "id": "bcc329d7-520f-4279-bb35-8204fbfb29bd",
   "metadata": {},
   "outputs": [],
   "source": []
  },
  {
   "cell_type": "code",
   "execution_count": null,
   "id": "19d95749-4337-4f1c-8a8f-f49b1403cf76",
   "metadata": {},
   "outputs": [],
   "source": []
  },
  {
   "cell_type": "code",
   "execution_count": null,
   "id": "e25e8771-aae9-408f-b870-e1dfec408135",
   "metadata": {},
   "outputs": [],
   "source": []
  },
  {
   "cell_type": "code",
   "execution_count": null,
   "id": "0f49611d-5191-4811-976e-ab76add81e98",
   "metadata": {},
   "outputs": [],
   "source": []
  },
  {
   "cell_type": "code",
   "execution_count": null,
   "id": "c9e2e589-ed99-463b-9c09-fc6fd477e58e",
   "metadata": {},
   "outputs": [],
   "source": []
  },
  {
   "cell_type": "code",
   "execution_count": null,
   "id": "aaf38f7f-d2e5-45be-add7-46a8ae18cdc7",
   "metadata": {},
   "outputs": [],
   "source": []
  },
  {
   "cell_type": "code",
   "execution_count": null,
   "id": "66bca585-cb3e-4958-8dc2-925ec6eead22",
   "metadata": {},
   "outputs": [],
   "source": []
  },
  {
   "cell_type": "code",
   "execution_count": null,
   "id": "32f12f82-ef91-4610-a37a-e50ce932a08a",
   "metadata": {},
   "outputs": [],
   "source": []
  },
  {
   "cell_type": "code",
   "execution_count": null,
   "id": "1f210536-85cf-44c4-8109-899be07a6fd5",
   "metadata": {},
   "outputs": [],
   "source": []
  }
 ],
 "metadata": {
  "kernelspec": {
   "display_name": "Python 3 (ipykernel)",
   "language": "python",
   "name": "python3"
  },
  "language_info": {
   "codemirror_mode": {
    "name": "ipython",
    "version": 3
   },
   "file_extension": ".py",
   "mimetype": "text/x-python",
   "name": "python",
   "nbconvert_exporter": "python",
   "pygments_lexer": "ipython3",
   "version": "3.12.4"
  }
 },
 "nbformat": 4,
 "nbformat_minor": 5
}
