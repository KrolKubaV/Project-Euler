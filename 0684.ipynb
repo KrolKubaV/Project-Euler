{
 "cells": [
  {
   "cell_type": "markdown",
   "id": "8a4df585-768c-49d1-a54f-12da2bb40f48",
   "metadata": {},
   "source": [
    "# Inverse Digit Sum - Problem 684\n",
    "<p>Define $s(n)$ to be the smallest number that has a digit sum of $n$. For example $s(10) = 19$.<br />\n",
    "Let $\\displaystyle S(k) = \\sum_{n=1}^k s(n)$. You are given $S(20) = 1074$.</p>\n",
    "<p>\n",
    "Further let $f_i$ be the Fibonacci sequence defined by $f_0=0, f_1=1$ and $f_i=f_{i-2}+f_{i-1}$ for all $i \\ge 2$.</p>\n",
    "<p>\n",
    "Find $\\displaystyle \\sum_{i=2}^{90} S(f_i)$. Give your answer modulo $1\\,000\\,000\\,007$.</p>"
   ]
  },
  {
   "cell_type": "markdown",
   "id": "b81fc6f4-87ea-4a5e-b512-9f62c1ae094f",
   "metadata": {},
   "source": [
    "## Solution.\n",
    "Note that $S(9(k+1))-S(9k)=54\\cdot 10^k - 9$."
   ]
  },
  {
   "cell_type": "code",
   "execution_count": 16,
   "id": "c6ae3c75-a16e-4510-8432-d66aa344b0db",
   "metadata": {},
   "outputs": [],
   "source": [
    "from functools import cache\n",
    "from tqdm import tqdm"
   ]
  },
  {
   "cell_type": "code",
   "execution_count": 109,
   "id": "61983531-8662-4f76-b19d-c2120a94f746",
   "metadata": {},
   "outputs": [],
   "source": [
    "def exp_mod(a, b, m):\n",
    "    ans = 1\n",
    "    base = a % m\n",
    "    \n",
    "    while b > 0:\n",
    "        if b % 2 == 1:\n",
    "            ans = (ans * base) % m\n",
    "        base = (base * base) % m\n",
    "        b //= 2 \n",
    "    \n",
    "    return ans"
   ]
  },
  {
   "cell_type": "code",
   "execution_count": 4,
   "id": "5030fb58-4afa-4e83-b444-f92783839771",
   "metadata": {},
   "outputs": [],
   "source": [
    "@cache\n",
    "def fib(n):\n",
    "    if n == 0 or n == 1:\n",
    "        return n\n",
    "    return fib(n-1) + fib(n-2)"
   ]
  },
  {
   "cell_type": "code",
   "execution_count": 9,
   "id": "69ae4bb3-a6b6-432f-9a88-fa28782b9f1c",
   "metadata": {},
   "outputs": [],
   "source": [
    "@cache\n",
    "def s(n):\n",
    "    if n <= 9:\n",
    "        return n\n",
    "    return min(int(str(i)+str(s(n-i))) for i in range(1, 10))\n",
    "\n",
    "@cache\n",
    "def S(k):\n",
    "    return sum(s(n) for n in range(1, k+1))"
   ]
  },
  {
   "cell_type": "code",
   "execution_count": 113,
   "id": "84b44f92-de45-4b71-9ff7-801132633159",
   "metadata": {},
   "outputs": [],
   "source": [
    "def S_mod(k, mod=10**9 + 7):\n",
    "    q = k//9\n",
    "    r = k%9\n",
    "    rem = 0\n",
    "    for i in range(1, r+1):\n",
    "        rem += ((exp_mod(10, q, mod) - 1) + i*exp_mod(10, q, mod))%mod\n",
    "        rem = rem % mod\n",
    "    \n",
    "    return (6*(exp_mod(10, q, mod) - 1) - 9*q + rem) % mod"
   ]
  },
  {
   "cell_type": "code",
   "execution_count": 114,
   "id": "6e2e9638-0a39-4d1c-a6e4-48946d967ccf",
   "metadata": {},
   "outputs": [],
   "source": [
    "def sol684(n, mod=10**9 + 7):\n",
    "    return sum([S_mod(fib(i)) for i in range(2, n+1)])%mod"
   ]
  },
  {
   "cell_type": "code",
   "execution_count": 115,
   "id": "8fcbaf36-2f04-47d6-97da-4a0c56fc1b12",
   "metadata": {},
   "outputs": [
    {
     "data": {
      "text/plain": [
       "922058210"
      ]
     },
     "execution_count": 115,
     "metadata": {},
     "output_type": "execute_result"
    }
   ],
   "source": [
    "sol684(90)"
   ]
  }
 ],
 "metadata": {
  "kernelspec": {
   "display_name": "Python 3 (ipykernel)",
   "language": "python",
   "name": "python3"
  },
  "language_info": {
   "codemirror_mode": {
    "name": "ipython",
    "version": 3
   },
   "file_extension": ".py",
   "mimetype": "text/x-python",
   "name": "python",
   "nbconvert_exporter": "python",
   "pygments_lexer": "ipython3",
   "version": "3.12.4"
  }
 },
 "nbformat": 4,
 "nbformat_minor": 5
}
