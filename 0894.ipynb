{
 "cells": [
  {
   "cell_type": "markdown",
   "id": "ed7ff802-f5cb-4d14-adae-00590afa5882",
   "metadata": {},
   "source": [
    "# Spiral of Circles - Problem 894\n",
    "<p>Consider a unit circle $C_0$ on the plane that does not enclose the origin. For $k\\ge 1$, a circle $C_k$ is created by scaling and rotating $C_{k - 1}$ <b>with respect to the origin</b>. That is, both the radius and the distance to the origin are scaled by the same factor, and the centre of rotation is the origin. The scaling factor is positive and strictly less than one. Both it and the rotation angle remain constant for each $k$.</p>\n",
    "\n",
    "<p>It is given that $C_0$ is externally tangent to $C_1$, $C_7$ and $C_8$, as shown in the diagram below, and no two circles overlap.</p>\n",
    "\n",
    "\n",
    "<p>Find the total area of all the <strong class=\"tooltip\">circular triangles</strong> in the diagram, i.e. the area painted green above.<br>\n",
    "Give your answer rounded to $10$ places after the decimal point.</p>"
   ]
  },
  {
   "cell_type": "markdown",
   "id": "fcc318da-e33f-4942-b807-fe5d990de754",
   "metadata": {},
   "source": [
    "## Solution.\n",
    "https://www.josleys.com/articles/HexCirclePackings.pdf"
   ]
  },
  {
   "cell_type": "code",
   "execution_count": 21,
   "id": "48363f8e-dc5a-4934-97f7-f0855ee299d2",
   "metadata": {},
   "outputs": [],
   "source": [
    "import scipy.optimize as optimize\n",
    "from math import acos, cos, pi, sqrt\n",
    "import cmath"
   ]
  },
  {
   "cell_type": "code",
   "execution_count": 2,
   "id": "61cc48d8-74c7-4726-b59a-6a60a13dec5b",
   "metadata": {},
   "outputs": [],
   "source": [
    "def triangle_area(a, b, c):\n",
    "    p = (a+b+c)/2\n",
    "    A = sqrt(p * (p-a) * (p-b) * (p-c))\n",
    "    return A"
   ]
  },
  {
   "cell_type": "code",
   "execution_count": 3,
   "id": "a034a0cc-32df-4416-b989-0afed5105301",
   "metadata": {},
   "outputs": [],
   "source": [
    "def angle(a, b, c):\n",
    "    return acos((a**2 + b**2 - c**2) / (2 * a * b))"
   ]
  },
  {
   "cell_type": "code",
   "execution_count": 25,
   "id": "805514e4-0549-4c59-8b0c-e21c6aa472d6",
   "metadata": {},
   "outputs": [],
   "source": [
    "def solve_r(c):\n",
    "    def equation(r):\n",
    "        return r**9 + r**8 - c\n",
    "        \n",
    "    init = 1.0\n",
    "    r_solution = optimize.newton(equation, init)\n",
    "    \n",
    "    return r_solution"
   ]
  },
  {
   "cell_type": "code",
   "execution_count": 26,
   "id": "def1ff39-d66e-4586-9dbd-0459c0724b3e",
   "metadata": {},
   "outputs": [],
   "source": [
    "x = 0.194235974222535\n",
    "y = 1.61161245101347\n",
    "l = complex(x, y)\n",
    "r = solve_r(abs(l-1))"
   ]
  },
  {
   "cell_type": "code",
   "execution_count": 28,
   "id": "98a98e09-a666-4946-afbb-2b7d12efe033",
   "metadata": {},
   "outputs": [
    {
     "data": {
      "text/plain": [
       "np.float64(12.0387288231)"
      ]
     },
     "execution_count": 28,
     "metadata": {},
     "output_type": "execute_result"
    }
   ],
   "source": [
    "a = 1+r\n",
    "b = r + r**8\n",
    "c = r**8 + r**7\n",
    "d = r**7 + 1\n",
    "e = 1 + r**8\n",
    "\n",
    "C = triangle_area(a,b,e) + triangle_area(c,d,e) \\\n",
    "    - 1/2 * (angle(d,e,c) + angle(e,a,b)) \\\n",
    "    - 1/2 * r**2 * (angle(a,b,e)) \\\n",
    "    - 1/2 * r**16 * (angle(b,e,a) + angle(e,c,d)) \\\n",
    "    - 1/2 * r**14 * (angle(c,d,e))\n",
    "\n",
    "round(C/(1-r**2),10)"
   ]
  }
 ],
 "metadata": {
  "kernelspec": {
   "display_name": "Python 3 (ipykernel)",
   "language": "python",
   "name": "python3"
  },
  "language_info": {
   "codemirror_mode": {
    "name": "ipython",
    "version": 3
   },
   "file_extension": ".py",
   "mimetype": "text/x-python",
   "name": "python",
   "nbconvert_exporter": "python",
   "pygments_lexer": "ipython3",
   "version": "3.12.4"
  }
 },
 "nbformat": 4,
 "nbformat_minor": 5
}
