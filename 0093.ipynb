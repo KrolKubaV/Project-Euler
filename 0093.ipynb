{
 "cells": [
  {
   "cell_type": "markdown",
   "id": "74fd5c56-2181-4b0b-a69a-09843e1792e7",
   "metadata": {},
   "source": [
    "# Problem 93 - Arithmetic Expressions\n",
    "<p>By using each of the digits from the set, $\\{1, 2, 3, 4\\}$, exactly once, and making use of the four arithmetic operations ($+, -, \\times, /$) and brackets/parentheses, it is possible to form different positive integer targets.</p>\n",
    "<p>For example,</p>\n",
    "\\begin{align}\n",
    "8 &= (4 \\times (1 + 3)) / 2\\\\\n",
    "14 &= 4 \\times (3 + 1 / 2)\\\\\n",
    "19 &= 4 \\times (2 + 3) - 1\\\\\n",
    "36 &= 3 \\times 4 \\times (2 + 1)\n",
    "\\end{align}\n",
    "<p>Note that concatenations of the digits, like $12 + 34$, are not allowed.</p>\n",
    "<p>Using the set, $\\{1, 2, 3, 4\\}$, it is possible to obtain thirty-one different target numbers of which $36$ is the maximum, and each of the numbers $1$ to $28$ can be obtained before encountering the first non-expressible number.</p>\n",
    "<p>Find the set of four distinct digits, $a \\lt b \\lt c \\lt d$, for which the longest set of consecutive positive integers, $1$ to $n$, can be obtained, giving your answer as a string: <i>abcd</i>.</p>\n"
   ]
  },
  {
   "cell_type": "markdown",
   "id": "f410a469-1af4-4b8f-bf43-6b698ad57930",
   "metadata": {},
   "source": [
    "## Solution."
   ]
  },
  {
   "cell_type": "code",
   "execution_count": 1,
   "id": "98ff8a75-bf3c-4b5e-93a6-8e5ba091e51e",
   "metadata": {},
   "outputs": [],
   "source": [
    "from tqdm import tqdm\n",
    "import ast"
   ]
  },
  {
   "cell_type": "code",
   "execution_count": 2,
   "id": "507699f4-5d3e-4d1e-8277-131f72c79b95",
   "metadata": {},
   "outputs": [],
   "source": [
    "def generate_permutations(arr):\n",
    "    if len(arr) == 1:\n",
    "        return [arr]\n",
    "\n",
    "    last = arr[-1]\n",
    "    short = arr[:-1]\n",
    "    permutations = []\n",
    "\n",
    "    for x in generate_permutations(short):\n",
    "        for i in range(len(x)+1):\n",
    "            new = x[:i] + [last] + x[i:]\n",
    "            permutations.append(new)   \n",
    "    \n",
    "    \n",
    "    return permutations"
   ]
  },
  {
   "cell_type": "code",
   "execution_count": 3,
   "id": "d74456f4-a9b9-475c-b57a-6579b7100bf4",
   "metadata": {},
   "outputs": [],
   "source": [
    "def generate_possibilities(arr, l):\n",
    "    old = [[arr[i]] for i in range(len(arr))]\n",
    "    new = [[arr[i]] for i in range(len(arr))]\n",
    "\n",
    "    while len(new) < len(arr) ** l:\n",
    "        old = new\n",
    "        new = []\n",
    "\n",
    "        for a in old:\n",
    "            for b in arr:\n",
    "                new.append(a + [b])\n",
    "\n",
    "    return new\n",
    "        "
   ]
  },
  {
   "cell_type": "code",
   "execution_count": 31,
   "id": "40f165d0-ab5e-4956-97a9-57569a7cec38",
   "metadata": {},
   "outputs": [],
   "source": [
    "def evaluate_1(expression):\n",
    "    ans = 0\n",
    "    current = ''\n",
    "    cur = '+'\n",
    "    \n",
    "    for char in expression:\n",
    "        if char != \"+\"and char != \"-\":\n",
    "            current += (char)\n",
    "        else:\n",
    "            if cur == '+':\n",
    "                ans = ans + float(current)\n",
    "            else:\n",
    "                ans = ans - float(current)\n",
    "            \n",
    "            if char == '+':\n",
    "                cur = '+'\n",
    "            else:\n",
    "                cur = '-'\n",
    "\n",
    "            current = ''\n",
    "    \n",
    "    if cur == '+':\n",
    "        ans = ans + float(current)\n",
    "    else:\n",
    "        ans = ans - float(current)\n",
    "        \n",
    "    return ans\n",
    "\n",
    "\n",
    "def evaluate_2(expression):\n",
    "    "
   ]
  },
  {
   "cell_type": "code",
   "execution_count": 36,
   "id": "669381ee-34ab-4f24-af36-6e31ca80d740",
   "metadata": {},
   "outputs": [
    {
     "data": {
      "text/plain": [
       "-198.0"
      ]
     },
     "execution_count": 36,
     "metadata": {},
     "output_type": "execute_result"
    }
   ],
   "source": [
    "evaluate_1(\"123-321\")"
   ]
  },
  {
   "cell_type": "code",
   "execution_count": 10,
   "id": "7653bd0a-61e2-4d8a-87e8-007c053de3ff",
   "metadata": {},
   "outputs": [
    {
     "data": {
      "text/plain": [
       "0.3333333333333333"
      ]
     },
     "execution_count": 10,
     "metadata": {},
     "output_type": "execute_result"
    }
   ],
   "source": [
    "float('0.3333333333333333')"
   ]
  },
  {
   "cell_type": "code",
   "execution_count": 4,
   "id": "a3b6dbca-afb8-4833-a372-abe8b3c218d6",
   "metadata": {},
   "outputs": [],
   "source": [
    "def evaluate_expression(expression):\n"
   ]
  },
  {
   "cell_type": "code",
   "execution_count": null,
   "id": "43e0e2f3-a9ce-4223-9e6e-60d3cbe87493",
   "metadata": {},
   "outputs": [],
   "source": [
    "def F(a, b, c, d):\n",
    "    '''\n",
    "    Returns the length of the longest set of consecutive positive integers. \n",
    "    '''\n",
    "    possible = set()\n",
    "\n",
    "    for perm in generate_permutations([a,b,c,d]):\n",
    "        for operations in generate_possibilities(['x', '/', '+', '-'], 3):\n",
    "            for brackets in "
   ]
  },
  {
   "cell_type": "code",
   "execution_count": 15,
   "id": "490b483d-2e0c-4d2c-abf0-ec7bfacf1e11",
   "metadata": {},
   "outputs": [],
   "source": [
    "a = [1,2,3]\n",
    "b = a.insert(0, 4)\n",
    "b"
   ]
  },
  {
   "cell_type": "code",
   "execution_count": 6,
   "id": "2b258e1d-994b-4216-94fc-97a6f283c7d8",
   "metadata": {},
   "outputs": [
    {
     "data": {
      "text/plain": [
       "{1}"
      ]
     },
     "execution_count": 6,
     "metadata": {},
     "output_type": "execute_result"
    }
   ],
   "source": [
    "a = set()\n",
    "a.add(1)\n",
    "a"
   ]
  },
  {
   "cell_type": "code",
   "execution_count": null,
   "id": "e73789cd-96d7-4088-8522-a4b3fd4d0af2",
   "metadata": {},
   "outputs": [],
   "source": []
  },
  {
   "cell_type": "code",
   "execution_count": null,
   "id": "02bc9af3-e903-4c72-a849-7fc1577cb422",
   "metadata": {},
   "outputs": [],
   "source": []
  },
  {
   "cell_type": "code",
   "execution_count": null,
   "id": "8076934c-2368-47d0-bf5d-7b4007ef669f",
   "metadata": {},
   "outputs": [],
   "source": []
  },
  {
   "cell_type": "code",
   "execution_count": null,
   "id": "785efa44-00cb-4303-bbee-0105acf749e4",
   "metadata": {},
   "outputs": [],
   "source": []
  },
  {
   "cell_type": "code",
   "execution_count": null,
   "id": "286b7042-f741-476d-85bc-c06c86330e89",
   "metadata": {},
   "outputs": [],
   "source": []
  },
  {
   "cell_type": "code",
   "execution_count": null,
   "id": "ec207ea6-9904-455a-8387-ed1e720f803e",
   "metadata": {},
   "outputs": [],
   "source": []
  },
  {
   "cell_type": "code",
   "execution_count": null,
   "id": "a3704661-3ddb-43d2-be83-219da91aa178",
   "metadata": {},
   "outputs": [],
   "source": []
  },
  {
   "cell_type": "code",
   "execution_count": null,
   "id": "e4a5c366-bb8b-4097-b2e9-0774681016a3",
   "metadata": {},
   "outputs": [],
   "source": []
  },
  {
   "cell_type": "code",
   "execution_count": null,
   "id": "016e01d3-f3b8-46c9-a623-aaa0c5e6c519",
   "metadata": {},
   "outputs": [],
   "source": []
  },
  {
   "cell_type": "code",
   "execution_count": null,
   "id": "f4347367-c221-40d6-a40c-550155d06248",
   "metadata": {},
   "outputs": [],
   "source": []
  },
  {
   "cell_type": "code",
   "execution_count": null,
   "id": "78591aa7-b635-4309-ab79-686956f41caf",
   "metadata": {},
   "outputs": [],
   "source": []
  },
  {
   "cell_type": "code",
   "execution_count": null,
   "id": "eb98492e-8f09-4607-b196-00dbf8a67796",
   "metadata": {},
   "outputs": [],
   "source": []
  },
  {
   "cell_type": "code",
   "execution_count": null,
   "id": "409f1010-9088-40ee-b668-3033a60eca65",
   "metadata": {},
   "outputs": [],
   "source": []
  },
  {
   "cell_type": "code",
   "execution_count": null,
   "id": "7e6de247-4fa1-46b0-8196-f4210ce14ddc",
   "metadata": {},
   "outputs": [],
   "source": []
  },
  {
   "cell_type": "code",
   "execution_count": null,
   "id": "936e2f10-168d-4de6-af37-5fedcd068f45",
   "metadata": {},
   "outputs": [],
   "source": []
  },
  {
   "cell_type": "code",
   "execution_count": null,
   "id": "e04094a2-b261-481b-b494-70cc5f916f14",
   "metadata": {},
   "outputs": [],
   "source": []
  },
  {
   "cell_type": "code",
   "execution_count": null,
   "id": "3b5ee30b-789a-4f4c-ba99-613a0f11e959",
   "metadata": {},
   "outputs": [],
   "source": []
  },
  {
   "cell_type": "code",
   "execution_count": null,
   "id": "03152a23-a34e-4417-af4b-056412955ae4",
   "metadata": {},
   "outputs": [],
   "source": []
  },
  {
   "cell_type": "code",
   "execution_count": null,
   "id": "ff2c78c2-040f-4add-bf0e-96b819e6147e",
   "metadata": {},
   "outputs": [],
   "source": []
  }
 ],
 "metadata": {
  "kernelspec": {
   "display_name": "Python 3 (ipykernel)",
   "language": "python",
   "name": "python3"
  },
  "language_info": {
   "codemirror_mode": {
    "name": "ipython",
    "version": 3
   },
   "file_extension": ".py",
   "mimetype": "text/x-python",
   "name": "python",
   "nbconvert_exporter": "python",
   "pygments_lexer": "ipython3",
   "version": "3.13.0"
  }
 },
 "nbformat": 4,
 "nbformat_minor": 5
}
