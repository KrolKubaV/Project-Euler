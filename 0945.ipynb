{
 "cells": [
  {
   "cell_type": "markdown",
   "id": "79db85e1-471f-402a-8dc5-3927d900fa03",
   "metadata": {},
   "source": [
    "# Problem 945 - XOR-Equation C\n",
    "We use $x\\oplus y$ for the bitwise XOR of $x$ and $y$.<br>\n",
    "Define the <dfn>XOR-product</dfn> of $x$ and $y$, denoted by $x \\otimes y$, similar to a long multiplication in base $2$, except that the intermediate results are XORed instead of the usual integer addition.<br>\n",
    "\n",
    "For example, $7 \\otimes 3 = 9$, or in base $2$, $111_2 \\otimes 11_2 = 1001_2$:\n",
    "<center>\n",
    "\\begin{align*}\n",
    "\\phantom{\\otimes 111} 111_2 \\\\\n",
    "\\otimes \\phantom{1111} 11_2 \\\\\n",
    "\\hline\n",
    "\\phantom{\\otimes 111} 111_2 \\\\\n",
    "\\oplus \\phantom{11} 111_2  \\phantom{9} \\\\\n",
    "\\hline\n",
    "\\phantom{\\otimes 11} 1001_2 \\\\\n",
    "\\end{align*}\n",
    "</center>\n",
    "\n",
    "We consider the equation:\n",
    "<center>\n",
    "\\begin{align}\n",
    "(a \\otimes a) \\oplus (2 \\otimes a \\otimes b) \\oplus (b \\otimes b) = c \\otimes c\n",
    "\\end{align}\n",
    "</center>\n",
    "<p>\n",
    "For example, $(a, b, c) = (1, 2, 1)$ is a solution to this equation, and so is $(1, 8, 13)$.\n",
    "</p><p>\n",
    "Let $F(N)$ be the number of solutions to this equation satisfying $0 \\le a \\le b \\le N$. You are given $F(10)=21$.\n",
    "</p><p>\n",
    "Find $F(10^7)$.\n",
    "</p>"
   ]
  },
  {
   "cell_type": "markdown",
   "id": "26af6d2d-aaf3-41e6-b960-88ae380c6a32",
   "metadata": {},
   "source": [
    "## Solution."
   ]
  },
  {
   "cell_type": "code",
   "execution_count": 7,
   "id": "fd79a77e-38d9-4715-875d-ea9ff72cba68",
   "metadata": {},
   "outputs": [],
   "source": [
    "def xor_prod(a, b):\n",
    "    a = \"{0:b}\".format(a)\n",
    "    b = \"{0:b}\".format(b)\n",
    "    \n",
    "    ans = 0\n",
    "    for l, d in enumerate(b[::-1]):\n",
    "        if d == '1':\n",
    "            ans = ans ^ int(a + '0' * l, 2)\n",
    "\n",
    "    return ans\n"
   ]
  },
  {
   "cell_type": "code",
   "execution_count": 72,
   "id": "f438ffac-8d58-43af-90a8-a3093feac08c",
   "metadata": {},
   "outputs": [],
   "source": [
    "def LHS(a, b):\n",
    "    return xor_prod(a, a) ^ xor_prod(2, xor_prod(a,b)) ^ xor_prod(b, b)\n",
    "\n",
    "def RHS(c):\n",
    "    return xor_prod(c, c)"
   ]
  },
  {
   "cell_type": "code",
   "execution_count": 73,
   "id": "c74b02c8-8455-4b8d-af18-59bc5297f6c8",
   "metadata": {},
   "outputs": [
    {
     "data": {
      "text/plain": [
       "(81, 81)"
      ]
     },
     "execution_count": 73,
     "metadata": {},
     "output_type": "execute_result"
    }
   ],
   "source": [
    "LHS(1, 8), RHS(13)"
   ]
  },
  {
   "cell_type": "code",
   "execution_count": 62,
   "id": "4bdfa525-e663-4873-85c9-fbed7417292e",
   "metadata": {},
   "outputs": [
    {
     "data": {
      "text/plain": [
       "16"
      ]
     },
     "execution_count": 62,
     "metadata": {},
     "output_type": "execute_result"
    }
   ],
   "source": [
    "RHS(3 ^ 7)"
   ]
  },
  {
   "cell_type": "code",
   "execution_count": 69,
   "id": "378e5f57-2fda-4737-9734-024dbe1e11a3",
   "metadata": {},
   "outputs": [
    {
     "data": {
      "text/plain": [
       "(5544, 5544)"
      ]
     },
     "execution_count": 69,
     "metadata": {},
     "output_type": "execute_result"
    }
   ],
   "source": [
    "xor_prod(132, 42), xor_prod(42, 132)"
   ]
  },
  {
   "cell_type": "code",
   "execution_count": 24,
   "id": "ecaf3afb-087a-4128-b4d4-51feff5587a7",
   "metadata": {},
   "outputs": [],
   "source": [
    "def xor_prod(a, b):\n",
    "    result = 0\n",
    "    shift = 0\n",
    "    while b > 0:\n",
    "        if b & 1:\n",
    "            result ^= a << shift\n",
    "        b >>= 1\n",
    "        shift += 1\n",
    "    return result"
   ]
  },
  {
   "cell_type": "code",
   "execution_count": 21,
   "id": "45ce4f93-317c-452c-b35d-a5e4bc141bbf",
   "metadata": {},
   "outputs": [
    {
     "data": {
      "text/plain": [
       "(20, 8)"
      ]
     },
     "execution_count": 21,
     "metadata": {},
     "output_type": "execute_result"
    }
   ],
   "source": [
    "xor_prod(10 , 2), xor_prod(4, 2)"
   ]
  },
  {
   "cell_type": "code",
   "execution_count": 17,
   "id": "1ea3dc1a-9c7a-4c05-92b5-9eb4c3f528d4",
   "metadata": {},
   "outputs": [
    {
     "name": "stdout",
     "output_type": "stream",
     "text": [
      "2 4 3\n",
      "3 5 1\n",
      "4 16 11\n",
      "5 17 1\n",
      "6 20 3\n",
      "7 21 1\n",
      "8 64 43\n",
      "9 65 1\n",
      "10 68 3\n",
      "11 69 1\n",
      "12 80 11\n",
      "13 81 1\n",
      "14 84 3\n",
      "15 85 1\n",
      "16 256 171\n",
      "17 257 1\n",
      "18 260 3\n",
      "19 261 1\n",
      "20 272 11\n",
      "21 273 1\n",
      "22 276 3\n",
      "23 277 1\n",
      "24 320 43\n",
      "25 321 1\n",
      "26 324 3\n",
      "27 325 1\n",
      "28 336 11\n",
      "29 337 1\n",
      "30 340 3\n",
      "31 341 1\n",
      "32 1024 683\n",
      "33 1025 1\n",
      "34 1028 3\n",
      "35 1029 1\n",
      "36 1040 11\n",
      "37 1041 1\n",
      "38 1044 3\n",
      "39 1045 1\n",
      "40 1088 43\n",
      "41 1089 1\n",
      "42 1092 3\n",
      "43 1093 1\n",
      "44 1104 11\n",
      "45 1105 1\n",
      "46 1108 3\n",
      "47 1109 1\n",
      "48 1280 171\n",
      "49 1281 1\n",
      "50 1284 3\n",
      "51 1285 1\n",
      "52 1296 11\n",
      "53 1297 1\n",
      "54 1300 3\n",
      "55 1301 1\n",
      "56 1344 43\n",
      "57 1345 1\n",
      "58 1348 3\n",
      "59 1349 1\n",
      "60 1360 11\n",
      "61 1361 1\n",
      "62 1364 3\n",
      "63 1365 1\n",
      "64 4096 2731\n",
      "65 4097 1\n",
      "66 4100 3\n",
      "67 4101 1\n",
      "68 4112 11\n",
      "69 4113 1\n",
      "70 4116 3\n",
      "71 4117 1\n",
      "72 4160 43\n",
      "73 4161 1\n",
      "74 4164 3\n",
      "75 4165 1\n",
      "76 4176 11\n",
      "77 4177 1\n",
      "78 4180 3\n",
      "79 4181 1\n",
      "80 4352 171\n",
      "81 4353 1\n",
      "82 4356 3\n",
      "83 4357 1\n",
      "84 4368 11\n",
      "85 4369 1\n",
      "86 4372 3\n",
      "87 4373 1\n",
      "88 4416 43\n",
      "89 4417 1\n",
      "90 4420 3\n",
      "91 4421 1\n",
      "92 4432 11\n",
      "93 4433 1\n",
      "94 4436 3\n",
      "95 4437 1\n",
      "96 5120 683\n",
      "97 5121 1\n",
      "98 5124 3\n",
      "99 5125 1\n",
      "100 5136 11\n"
     ]
    }
   ],
   "source": [
    "for x in range(1, 100):\n",
    "    print(x+1, xor_prod(x+1, x+1), xor_prod(x+1, x+1) - xor_prod(x, x))"
   ]
  },
  {
   "cell_type": "code",
   "execution_count": null,
   "id": "8be1afa6-d257-41dd-b6d7-956f9e337588",
   "metadata": {},
   "outputs": [],
   "source": []
  }
 ],
 "metadata": {
  "kernelspec": {
   "display_name": "Python 3 (ipykernel)",
   "language": "python",
   "name": "python3"
  },
  "language_info": {
   "codemirror_mode": {
    "name": "ipython",
    "version": 3
   },
   "file_extension": ".py",
   "mimetype": "text/x-python",
   "name": "python",
   "nbconvert_exporter": "python",
   "pygments_lexer": "ipython3",
   "version": "3.13.0"
  }
 },
 "nbformat": 4,
 "nbformat_minor": 5
}
