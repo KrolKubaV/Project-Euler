{
 "cells": [
  {
   "cell_type": "markdown",
   "id": "372a88b8-e3db-4d04-8439-13ddf97d2ad6",
   "metadata": {},
   "source": [
    "# Pandigital Products - Problem 32\n",
    "<p>We shall say that an $n$-digit number is pandigital if it makes use of all the digits $1$ to $n$ exactly once; for example, the $5$-digit number, $15234$, is $1$ through $5$ pandigital.</p>\n",
    "\n",
    "<p>The product $7254$ is unusual, as the identity, $39 \\times 186 = 7254$, containing multiplicand, multiplier, and product is $1$ through $9$ pandigital.</p>\n",
    "\n",
    "<p>Find the sum of all products whose multiplicand/multiplier/product identity can be written as a $1$ through $9$ pandigital.</p>\n",
    "\n",
    "<div class=\"note\">HINT: Some products can be obtained in more than one way so be sure to only include it once in your sum.</div>"
   ]
  },
  {
   "cell_type": "markdown",
   "id": "04d79bfb-10b6-4cf9-885a-d391db1832e6",
   "metadata": {},
   "source": [
    "## Solution."
   ]
  },
  {
   "cell_type": "code",
   "execution_count": 16,
   "id": "5cf92070-f8af-4bfe-8dcd-b0e8ec5b5377",
   "metadata": {},
   "outputs": [],
   "source": [
    "from math import isqrt\n",
    "from tqdm import tqdm"
   ]
  },
  {
   "cell_type": "code",
   "execution_count": 13,
   "id": "a05221ad-231d-485c-be17-a02c69ba9900",
   "metadata": {},
   "outputs": [],
   "source": [
    "def factor_pairs(n):\n",
    "    pairs = []\n",
    "    \n",
    "    for i in range(1, isqrt(n) + 1):\n",
    "        if n % i == 0:\n",
    "            pairs.append((i, n // i))\n",
    "    \n",
    "    return pairs"
   ]
  },
  {
   "cell_type": "code",
   "execution_count": 11,
   "id": "0f91c31a-ab08-456c-8050-ea4a6fbaa4d1",
   "metadata": {},
   "outputs": [],
   "source": [
    "def check(n):\n",
    "    pairs = factor_pairs(n)\n",
    "    for pair in pairs:\n",
    "        a, b = pair\n",
    "        a = str(a)\n",
    "        b = str(b)\n",
    "        x = set()\n",
    "        for l in a:\n",
    "            x.add(l)\n",
    "        for l in b:\n",
    "            x.add(l)\n",
    "        for l in str(n):\n",
    "            x.add(l)\n",
    "        if len(x) == 9 and '0' not in x:\n",
    "            return True\n",
    "        \n",
    "    return False"
   ]
  },
  {
   "cell_type": "code",
   "execution_count": 18,
   "id": "6a389fcd-146b-4940-a516-d4caa87622ca",
   "metadata": {},
   "outputs": [
    {
     "name": "stderr",
     "output_type": "stream",
     "text": [
      "100%|███████████████████████████████████████████████████████████████████████████| 7656/7656 [00:00<00:00, 98416.68it/s]"
     ]
    },
    {
     "name": "stdout",
     "output_type": "stream",
     "text": [
      "4396\n",
      "5346\n",
      "5796\n",
      "6952\n",
      "7254\n",
      "7632\n",
      "7852\n",
      "45228\n"
     ]
    },
    {
     "name": "stderr",
     "output_type": "stream",
     "text": [
      "\n"
     ]
    }
   ],
   "source": [
    "ans = 0\n",
    "\n",
    "for n in tqdm(range(1*2345, 10_001)):\n",
    "    if check(n):\n",
    "        print(n)\n",
    "        ans += n\n",
    "\n",
    "print(ans)"
   ]
  },
  {
   "cell_type": "code",
   "execution_count": null,
   "id": "45b3064a-1596-4e2e-9a9f-96211e71c530",
   "metadata": {},
   "outputs": [],
   "source": []
  },
  {
   "cell_type": "code",
   "execution_count": null,
   "id": "7d6df322-9b0b-407d-9750-9eb22571cf00",
   "metadata": {},
   "outputs": [],
   "source": []
  },
  {
   "cell_type": "code",
   "execution_count": null,
   "id": "dc79e7a5-dba0-42c0-8eb2-edbe82f70a35",
   "metadata": {},
   "outputs": [],
   "source": []
  },
  {
   "cell_type": "code",
   "execution_count": null,
   "id": "6198eb28-7dc5-46a0-97bf-3dfc74bc6f74",
   "metadata": {},
   "outputs": [],
   "source": []
  }
 ],
 "metadata": {
  "kernelspec": {
   "display_name": "Python 3 (ipykernel)",
   "language": "python",
   "name": "python3"
  },
  "language_info": {
   "codemirror_mode": {
    "name": "ipython",
    "version": 3
   },
   "file_extension": ".py",
   "mimetype": "text/x-python",
   "name": "python",
   "nbconvert_exporter": "python",
   "pygments_lexer": "ipython3",
   "version": "3.12.4"
  }
 },
 "nbformat": 4,
 "nbformat_minor": 5
}
