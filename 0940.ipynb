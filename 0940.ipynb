{
 "cells": [
  {
   "cell_type": "markdown",
   "id": "2adb4887-957c-4a5b-8f53-2738df90388f",
   "metadata": {},
   "source": [
    "# 940 - Two-Dimensional Recurrence\n",
    "<p>\n",
    "The <b>Fibonacci sequence</b> $(f_i)$ is the unique sequence such that\n",
    "</p>\n",
    "<ul>\n",
    "<li>$f_0=0$</li>\n",
    "<li>$f_1=1$</li>\n",
    "<li>$f_{i+1}=f_i+f_{i-1}$</li>\n",
    "</ul>\n",
    "<p>\n",
    "Similarly, there is a unique function $A(m,n)$ such that\n",
    "</p>\n",
    "<ul>\n",
    "<li>$A(0,0)=0$</li>\n",
    "<li>$A(0,1)=1$</li>\n",
    "<li>$A(m+1,n)=A(m,n+1)+A(m,n)$</li>\n",
    "<li>$A(m+1,n+1)=2A(m+1,n)+A(m,n)$</li>\n",
    "</ul>\n",
    "<p>\n",
    "Define $S(k)=\\displaystyle\\sum_{i=2}^k\\sum_{j=2}^k A(f_i,f_j)$. For example\n",
    "$$\n",
    "\\begin{align}\n",
    "S(3)&=A(1,1)+A(1,2)+A(2,1)+A(2,2)\\\\\n",
    "&=2+5+7+16\\\\\n",
    "&=30\n",
    "\\end{align}\n",
    "$$You are also given $S(5)=10396$.\n",
    "</p>\n",
    "\n",
    "<p>\n",
    "Find $S(50)$, giving your answer modulo $1123581313$.\n",
    "</p>"
   ]
  },
  {
   "cell_type": "markdown",
   "id": "3bb6218b-4593-4d3f-8043-d7a0dae052e6",
   "metadata": {},
   "source": [
    "## Solution.\n",
    "First solve x=y+1, xy=2x+1, then A+B=0, A*(1-sqrt(13))/2 + B*(1+sqrt(13))/2 = 1"
   ]
  },
  {
   "cell_type": "code",
   "execution_count": 1,
   "id": "2f8418bc-efef-41bc-8f48-602409c4c359",
   "metadata": {},
   "outputs": [],
   "source": [
    "from functools import cache\n",
    "from math import sqrt"
   ]
  },
  {
   "cell_type": "code",
   "execution_count": 2,
   "id": "56c73348-d6fe-4251-8f8a-be26f51c3b04",
   "metadata": {},
   "outputs": [],
   "source": [
    "@cache\n",
    "def f(n):\n",
    "    if n == 0:\n",
    "        return 0\n",
    "    if n == 1:\n",
    "        return 1\n",
    "    return f(n-1)+f(n-2)"
   ]
  },
  {
   "cell_type": "code",
   "execution_count": 17,
   "id": "6f91b474-07c5-4322-aebf-205f914faf63",
   "metadata": {},
   "outputs": [],
   "source": [
    "def matrix_power_mod(mat, n, MOD=1123581313):\n",
    "    def mat_mult(a, b):\n",
    "        return [\n",
    "            [(a[0][0]*b[0][0] + a[0][1]*b[1][0]) % MOD, (a[0][0]*b[0][1] + a[0][1]*b[1][1]) % MOD],\n",
    "            [(a[1][0]*b[0][0] + a[1][1]*b[1][0]) % MOD, (a[1][0]*b[0][1] + a[1][1]*b[1][1]) % MOD],\n",
    "        ]\n",
    "\n",
    "    def mat_pow(mat, power):\n",
    "        result = [[1, 0], [0, 1]] \n",
    "        while power > 0:\n",
    "            if power % 2 == 1:\n",
    "                result = mat_mult(result, mat)\n",
    "            mat = mat_mult(mat, mat)\n",
    "            power //= 2\n",
    "        return result\n",
    "\n",
    "    return mat_pow(mat, n)"
   ]
  },
  {
   "cell_type": "code",
   "execution_count": 33,
   "id": "604791df-0444-4649-9bc0-ce938c27d5ae",
   "metadata": {},
   "outputs": [],
   "source": [
    "@cache\n",
    "def A(m, n):\n",
    "    mat_A = [[2,3],[1,1]]\n",
    "    mat_B = [[-1,1],[1,2]]\n",
    "    \n",
    "    if n == 0:\n",
    "        mat = matrix_power_mod(mat_A, m)\n",
    "        return mat[1][0]\n",
    "\n",
    "    if n == 1:\n",
    "        mat = matrix_power_mod(mat_A, m)\n",
    "        return mat[0][0]\n",
    "\n",
    "    \n",
    "    x = A(m-1, 1)\n",
    "    y = A(m, 1)\n",
    "\n",
    "    mat = matrix_power_mod(mat_B, n-1)\n",
    "\n",
    "    return x * mat[1][0] + y * mat[1][1]"
   ]
  },
  {
   "cell_type": "code",
   "execution_count": 37,
   "id": "f80a5887-7a02-4854-a9ad-4bd683927617",
   "metadata": {},
   "outputs": [],
   "source": [
    "def S(k):\n",
    "    MOD = 1123581313\n",
    "    s = 0\n",
    "    for i in range(2, k+1):\n",
    "        for j in range(2, k+1):\n",
    "            s += A(f(i), f(j)) % MOD\n",
    "    return s % MOD"
   ]
  },
  {
   "cell_type": "code",
   "execution_count": 38,
   "id": "fec00ae9-467f-40f4-935d-711cc0a39e01",
   "metadata": {},
   "outputs": [
    {
     "data": {
      "text/plain": [
       "969134784"
      ]
     },
     "execution_count": 38,
     "metadata": {},
     "output_type": "execute_result"
    }
   ],
   "source": [
    "S(50)"
   ]
  },
  {
   "cell_type": "code",
   "execution_count": 29,
   "id": "77e7b482-0ff4-4c72-8951-f095281ee6a1",
   "metadata": {},
   "outputs": [],
   "source": [
    "def A(m, n, MOD=1123581313):\n",
    "    X1 = (3 - sqrt(13))/2\n",
    "    X2 = (3 + sqrt(13))/2\n",
    "\n",
    "    Y1 = (1 - sqrt(13))/2\n",
    "    Y2 = (1 + sqrt(13))/2\n",
    "\n",
    "    A, B = -1/sqrt(13), 1/sqrt(13)\n",
    "    return int(round(A*X1**m * Y1**n +B*X2**m * Y2**n)) % MOD"
   ]
  },
  {
   "cell_type": "code",
   "execution_count": 31,
   "id": "2e76d2af-e6d5-4223-8a8b-c1aa1d134c35",
   "metadata": {},
   "outputs": [
    {
     "data": {
      "text/plain": [
       "10396"
      ]
     },
     "execution_count": 31,
     "metadata": {},
     "output_type": "execute_result"
    }
   ],
   "source": [
    "S(5)"
   ]
  },
  {
   "cell_type": "code",
   "execution_count": 52,
   "id": "e4e0e934-6b94-4330-86d0-572668c6158b",
   "metadata": {},
   "outputs": [
    {
     "data": {
      "text/plain": [
       "26342000816"
      ]
     },
     "execution_count": 52,
     "metadata": {},
     "output_type": "execute_result"
    }
   ],
   "source": [
    "S(10)"
   ]
  },
  {
   "cell_type": "code",
   "execution_count": 57,
   "id": "1b587b3d-01a7-4cfe-84ed-0e6dc3079b93",
   "metadata": {},
   "outputs": [
    {
     "data": {
      "text/plain": [
       "377"
      ]
     },
     "execution_count": 57,
     "metadata": {},
     "output_type": "execute_result"
    }
   ],
   "source": [
    "f(14)"
   ]
  },
  {
   "cell_type": "code",
   "execution_count": 59,
   "id": "0fcfd988-f333-4347-b190-c6f46e082e14",
   "metadata": {},
   "outputs": [
    {
     "data": {
      "text/plain": [
       "307828173409331868845930000782371982852185463050511302093346042220669701339821957901673955116288403443801781174272"
      ]
     },
     "execution_count": 59,
     "metadata": {},
     "output_type": "execute_result"
    }
   ],
   "source": [
    "2**377"
   ]
  },
  {
   "cell_type": "code",
   "execution_count": null,
   "id": "274a0f4e-9df8-4a85-9a2d-4e1c48315b61",
   "metadata": {},
   "outputs": [],
   "source": []
  }
 ],
 "metadata": {
  "kernelspec": {
   "display_name": "Python 3 (ipykernel)",
   "language": "python",
   "name": "python3"
  },
  "language_info": {
   "codemirror_mode": {
    "name": "ipython",
    "version": 3
   },
   "file_extension": ".py",
   "mimetype": "text/x-python",
   "name": "python",
   "nbconvert_exporter": "python",
   "pygments_lexer": "ipython3",
   "version": "3.12.4"
  }
 },
 "nbformat": 4,
 "nbformat_minor": 5
}
