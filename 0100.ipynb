{
 "cells": [
  {
   "cell_type": "markdown",
   "id": "c42c1e0c-e870-47eb-a119-1f3a1a4c3ea2",
   "metadata": {},
   "source": [
    "# Arranged Probability - Problem 100\n",
    "<p>If a box contains twenty-one coloured discs, composed of fifteen blue discs and six red discs, and two discs were taken at random, it can be seen that the probability of taking two blue discs, $P(\\text{BB}) = (15/21) \\times (14/20) = 1/2$.</p>\n",
    "<p>The next such arrangement, for which there is exactly $50\\%$ chance of taking two blue discs at random, is a box containing eighty-five blue discs and thirty-five red discs.</p>\n",
    "<p>By finding the first arrangement to contain over $10^{12} = 1\\,000\\,000\\,000\\,000$ discs in total, determine the number of blue discs that the box would contain.</p>\n"
   ]
  },
  {
   "cell_type": "markdown",
   "id": "a64ef903-c88a-4368-b7a0-d137bea0f3c0",
   "metadata": {},
   "source": [
    "## Solution."
   ]
  },
  {
   "cell_type": "markdown",
   "id": "cc75299f-4219-4605-8706-643ec225eb4a",
   "metadata": {},
   "source": [
    "Let B be the number of blue balls and T the number of total balls. The question is equivalent to finding T s.t. T^2+(T-1)^2 is a perfect square, i.e. we're looking for some special Pythagorean triples.\n",
    "\n",
    "https://mathworld.wolfram.com/TwinPythagoreanTriple.html"
   ]
  },
  {
   "cell_type": "code",
   "execution_count": 12,
   "id": "bd2c0591-4998-42d3-ab4d-7cca2e567f5b",
   "metadata": {},
   "outputs": [],
   "source": [
    "from math import sqrt"
   ]
  },
  {
   "cell_type": "code",
   "execution_count": 16,
   "id": "6aefbfaf-f934-4ec1-bfb7-7cb822faa902",
   "metadata": {},
   "outputs": [],
   "source": [
    "def X(r):\n",
    "    return round(((sqrt(2)+1)**(2*r+1) - (sqrt(2)-1)**(2*r+1))/4 + 1/2*(-1)**r)\n",
    "\n",
    "def Y(r):\n",
    "    return round(((sqrt(2)+1)**(2*r+1) - (sqrt(2)-1)**(2*r+1))/4 - 1/2*(-1)**r)"
   ]
  },
  {
   "cell_type": "code",
   "execution_count": 20,
   "id": "dc160474-0346-404d-bc4a-1afeae4209ad",
   "metadata": {},
   "outputs": [
    {
     "name": "stdout",
     "output_type": "stream",
     "text": [
      "756872327473\n"
     ]
    }
   ],
   "source": [
    "for r in range(100):\n",
    "    T = max(X(r), Y(r))\n",
    "    if T > 10**12:\n",
    "        B = round(1/2 * (1 + sqrt(T**2 + (T-1)**2)))\n",
    "        print(B)\n",
    "        break"
   ]
  },
  {
   "cell_type": "code",
   "execution_count": 8,
   "id": "a58d3e3c-c890-4701-95f8-7527e973dad5",
   "metadata": {},
   "outputs": [],
   "source": [
    "r = 1\n",
    "\n",
    "while True:\n",
    "    "
   ]
  },
  {
   "cell_type": "code",
   "execution_count": 7,
   "id": "bc7f638d-da8d-4b6b-afab-02e5995d9772",
   "metadata": {},
   "outputs": [
    {
     "ename": "KeyboardInterrupt",
     "evalue": "",
     "output_type": "error",
     "traceback": [
      "\u001b[1;31m---------------------------------------------------------------------------\u001b[0m",
      "\u001b[1;31mKeyboardInterrupt\u001b[0m                         Traceback (most recent call last)",
      "Cell \u001b[1;32mIn[7], line 4\u001b[0m\n\u001b[0;32m      2\u001b[0m n \u001b[38;5;241m=\u001b[39m \u001b[38;5;241m10\u001b[39m\u001b[38;5;241m*\u001b[39m\u001b[38;5;241m*\u001b[39m\u001b[38;5;241m12\u001b[39m\n\u001b[0;32m      3\u001b[0m \u001b[38;5;28;01mwhile\u001b[39;00m \u001b[38;5;28;01mTrue\u001b[39;00m:\n\u001b[1;32m----> 4\u001b[0m     m \u001b[38;5;241m=\u001b[39m \u001b[38;5;241m1\u001b[39m\u001b[38;5;241m+\u001b[39m\u001b[38;5;241;43m2\u001b[39;49m\u001b[38;5;241;43m*\u001b[39;49m\u001b[43mn\u001b[49m\u001b[38;5;241m*\u001b[39m(n\u001b[38;5;241m-\u001b[39m\u001b[38;5;241m1\u001b[39m)\n\u001b[0;32m      5\u001b[0m     \u001b[38;5;28;01mif\u001b[39;00m isqrt(m)\u001b[38;5;241m*\u001b[39m\u001b[38;5;241m*\u001b[39m\u001b[38;5;241m2\u001b[39m \u001b[38;5;241m==\u001b[39m m:\n\u001b[0;32m      6\u001b[0m         \u001b[38;5;28mprint\u001b[39m(n)\n",
      "\u001b[1;31mKeyboardInterrupt\u001b[0m: "
     ]
    }
   ],
   "source": [
    "from math import isqrt\n",
    "n = 10**12\n",
    "while tqdm(True):\n",
    "    m = 1+2*n*(n-1)\n",
    "    if isqrt(m)**2 == m:\n",
    "        print(n)\n",
    "        break\n",
    "    n += 1"
   ]
  },
  {
   "cell_type": "code",
   "execution_count": null,
   "id": "dd584e1a-ed29-41ea-a052-8c1324332c63",
   "metadata": {},
   "outputs": [],
   "source": []
  },
  {
   "cell_type": "code",
   "execution_count": null,
   "id": "45e39691-1bc7-4ee5-9a0e-1ef27007e3a0",
   "metadata": {},
   "outputs": [],
   "source": []
  },
  {
   "cell_type": "code",
   "execution_count": null,
   "id": "fc95ab1d-550b-4bfa-b7c8-b207ece83be9",
   "metadata": {},
   "outputs": [],
   "source": []
  },
  {
   "cell_type": "code",
   "execution_count": null,
   "id": "5213391a-a2ad-4033-bb42-897ce103fc34",
   "metadata": {},
   "outputs": [],
   "source": []
  },
  {
   "cell_type": "code",
   "execution_count": null,
   "id": "9493f42a-b9d7-4eb5-8559-267383b00b25",
   "metadata": {},
   "outputs": [],
   "source": []
  }
 ],
 "metadata": {
  "kernelspec": {
   "display_name": "Python 3 (ipykernel)",
   "language": "python",
   "name": "python3"
  },
  "language_info": {
   "codemirror_mode": {
    "name": "ipython",
    "version": 3
   },
   "file_extension": ".py",
   "mimetype": "text/x-python",
   "name": "python",
   "nbconvert_exporter": "python",
   "pygments_lexer": "ipython3",
   "version": "3.13.0"
  }
 },
 "nbformat": 4,
 "nbformat_minor": 5
}
