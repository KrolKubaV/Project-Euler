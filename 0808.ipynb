{
 "cells": [
  {
   "cell_type": "markdown",
   "id": "715954b6-2402-4e66-b380-6180d637909f",
   "metadata": {},
   "source": [
    "# Reversible Prime Square - Problem 808\n",
    "<p>\n",
    "Both $169$ and $961$ are the square of a prime. $169$ is the reverse of $961$.\n",
    "</p>\n",
    "<p>\n",
    "We call a number a <dfn>reversible prime square</dfn> if:</p>\n",
    "<ol>\n",
    "<li>It is not a palindrome, and</li>\n",
    "<li>It is the square of a prime, and</li>\n",
    "<li>Its reverse is also the square of a prime.</li>\n",
    "</ol>\n",
    "<p>\n",
    "$169$ and $961$ are not palindromes, so both are reversible prime squares.\n",
    "</p>\n",
    "<p>\n",
    "Find the sum of the first $50$ reversible prime squares.\n",
    "</p>"
   ]
  },
  {
   "cell_type": "markdown",
   "id": "9a6527db-05f3-46e9-91f5-e0fa571a5449",
   "metadata": {},
   "source": [
    "## Solution."
   ]
  },
  {
   "cell_type": "code",
   "execution_count": 2,
   "id": "65d48840-d30a-477e-ac4a-3a2aecf1e31b",
   "metadata": {},
   "outputs": [],
   "source": [
    "from math import isqrt"
   ]
  },
  {
   "cell_type": "code",
   "execution_count": 1,
   "id": "1bee4216-a50b-4869-8c9d-2230f6bf2204",
   "metadata": {},
   "outputs": [],
   "source": [
    "def generate_primes(N):\n",
    "    primes = [1] * (N + 1)\n",
    "    primes[1], primes[0] = 0, 0\n",
    "    \n",
    "    for i in range(4, N, 2): \n",
    "        primes[i] = 0\n",
    "    \n",
    "    p = 3\n",
    "    while p**2 < N: \n",
    "        if primes[p] == 1: \n",
    "            for i in range(2*p, N, p): \n",
    "                primes[i] = 0\n",
    "        p += 2\n",
    "    \n",
    "    return [i for i, el in enumerate(primes) if el == 1]\n",
    "\n",
    "\n",
    "def is_prime(n):\n",
    "    if n <= 1:\n",
    "        return False\n",
    "    if n <= 3:\n",
    "        return True\n",
    "    if n % 2 == 0 or n % 3 == 0:\n",
    "        return False\n",
    "    i = 5\n",
    "    while i * i <= n:\n",
    "        if n % i == 0 or n % (i + 2) == 0:\n",
    "            return False\n",
    "        i += 6\n",
    "    return True"
   ]
  },
  {
   "cell_type": "code",
   "execution_count": 24,
   "id": "506149d3-b2a1-46a4-9a17-304c23546eeb",
   "metadata": {},
   "outputs": [],
   "source": [
    "def check(p):\n",
    "    ''' Checks p**2 '''\n",
    "    q = int(str(p**2)[::-1])\n",
    "    if p**2 == q:\n",
    "        return False\n",
    "    if isqrt(q)**2 != q or is_prime(isqrt(q)) == False:\n",
    "        return False\n",
    "    return True"
   ]
  },
  {
   "cell_type": "code",
   "execution_count": 17,
   "id": "ff5325a5-2ffa-4f0c-9388-8201637acfcb",
   "metadata": {},
   "outputs": [],
   "source": [
    "primes = generate_primes(10**8)"
   ]
  },
  {
   "cell_type": "code",
   "execution_count": 25,
   "id": "597a15b4-1813-42d2-a6c7-ac84b7b0fb69",
   "metadata": {},
   "outputs": [
    {
     "data": {
      "text/plain": [
       "(3807504276997394, 50)"
      ]
     },
     "execution_count": 25,
     "metadata": {},
     "output_type": "execute_result"
    }
   ],
   "source": [
    "ans = 0\n",
    "count = 0\n",
    "for p in primes:\n",
    "    ans += check(p) * p**2\n",
    "    count += check(p)\n",
    "    if count == 50:\n",
    "        break\n",
    "\n",
    "ans, count"
   ]
  },
  {
   "cell_type": "code",
   "execution_count": null,
   "id": "317af792-3bb5-44c3-893d-5fde6b8afcbe",
   "metadata": {},
   "outputs": [],
   "source": []
  },
  {
   "cell_type": "code",
   "execution_count": null,
   "id": "53adcc63-28d5-4afc-8938-12e54ef6d01a",
   "metadata": {},
   "outputs": [],
   "source": []
  },
  {
   "cell_type": "code",
   "execution_count": null,
   "id": "32951a7c-d503-4e85-beb6-af824964bfc7",
   "metadata": {},
   "outputs": [],
   "source": []
  },
  {
   "cell_type": "code",
   "execution_count": null,
   "id": "ac71f654-717b-48cb-b949-eba8058607dc",
   "metadata": {},
   "outputs": [],
   "source": []
  },
  {
   "cell_type": "code",
   "execution_count": null,
   "id": "e1d4d4f2-50c2-445f-b3b4-75dbe8bea8f8",
   "metadata": {},
   "outputs": [],
   "source": []
  }
 ],
 "metadata": {
  "kernelspec": {
   "display_name": "Python 3 (ipykernel)",
   "language": "python",
   "name": "python3"
  },
  "language_info": {
   "codemirror_mode": {
    "name": "ipython",
    "version": 3
   },
   "file_extension": ".py",
   "mimetype": "text/x-python",
   "name": "python",
   "nbconvert_exporter": "python",
   "pygments_lexer": "ipython3",
   "version": "3.12.4"
  }
 },
 "nbformat": 4,
 "nbformat_minor": 5
}
