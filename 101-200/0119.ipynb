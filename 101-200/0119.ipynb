{
 "cells": [
  {
   "cell_type": "markdown",
   "id": "aba2cf26-07b9-4ad2-acba-f5b0f1528d41",
   "metadata": {},
   "source": [
    "# Digit Power Sum - Problem 119\n",
    "<p>The number $512$ is interesting because it is equal to the sum of its digits raised to some power: $5 + 1 + 2 = 8$, and $8^3 = 512$. Another example of a number with this property is $614656 = 28^4$.</p>\n",
    "<p>We shall define $a_n$ to be the $n$th term of this sequence and insist that a number must contain at least two digits to have a sum.</p>\n",
    "<p>You are given that $a_2 = 512$ and $a_{10} = 614656$.</p>\n",
    "<p>Find $a_{30}$.</p>"
   ]
  },
  {
   "cell_type": "markdown",
   "id": "1902531d-06d7-4c30-b6fc-caa896947806",
   "metadata": {},
   "source": [
    "## Solution."
   ]
  },
  {
   "cell_type": "code",
   "execution_count": 3,
   "id": "d54be402-fc6d-4408-8294-da80f772adff",
   "metadata": {},
   "outputs": [],
   "source": [
    "from functools import cache\n",
    "from math import log"
   ]
  },
  {
   "cell_type": "code",
   "execution_count": 2,
   "id": "3eb3c6c8-c64b-4e1b-ba60-5791f4804f0a",
   "metadata": {},
   "outputs": [],
   "source": [
    "def S(n):\n",
    "    ans = 0\n",
    "    for el in str(n):\n",
    "        ans += int(el)\n",
    "    return ans"
   ]
  },
  {
   "cell_type": "code",
   "execution_count": 19,
   "id": "bd9e5659-1355-4a3c-86aa-206983eb7b13",
   "metadata": {},
   "outputs": [],
   "source": [
    "@cache\n",
    "def a(n):\n",
    "    if n == 0:\n",
    "        return 10\n",
    "    j = a(n-1) + 1\n",
    "    while True:\n",
    "        if S(j) != 1:\n",
    "            if int(log(j, S(j))) == log(j, S(j)):\n",
    "                return j\n",
    "        j += 1"
   ]
  },
  {
   "cell_type": "code",
   "execution_count": 22,
   "id": "95b6e285-afb8-4105-9a22-62ff03a7ec32",
   "metadata": {},
   "outputs": [
    {
     "name": "stdout",
     "output_type": "stream",
     "text": [
      "10 1\n",
      "81 9\n",
      "512 8\n",
      "2401 7\n",
      "17576 26\n",
      "19683 27\n",
      "234256 22\n",
      "390625 25\n",
      "614656 28\n",
      "1679616 36\n",
      "17210368 28\n",
      "52521875 35\n",
      "60466176 36\n"
     ]
    }
   ],
   "source": [
    "for j in range(13):\n",
    "    print(a(j), S(a(j)))"
   ]
  },
  {
   "cell_type": "code",
   "execution_count": null,
   "id": "37fa3b9b-9379-4660-89de-e431e818da9d",
   "metadata": {},
   "outputs": [],
   "source": []
  },
  {
   "cell_type": "code",
   "execution_count": null,
   "id": "d2c83498-c9d5-46d5-8efa-6392500a8ac0",
   "metadata": {},
   "outputs": [],
   "source": []
  },
  {
   "cell_type": "code",
   "execution_count": null,
   "id": "bd522333-5ae8-4130-b02a-f784b63f24cb",
   "metadata": {},
   "outputs": [],
   "source": []
  },
  {
   "cell_type": "code",
   "execution_count": null,
   "id": "b5a21906-3c9f-4d78-9235-ef5bb548c47f",
   "metadata": {},
   "outputs": [],
   "source": []
  },
  {
   "cell_type": "code",
   "execution_count": null,
   "id": "ca6688be-cc04-4dd7-8f56-35a6c65d898e",
   "metadata": {},
   "outputs": [],
   "source": []
  },
  {
   "cell_type": "code",
   "execution_count": null,
   "id": "e3c66954-83bc-4bda-8c25-6071ee9d9db2",
   "metadata": {},
   "outputs": [],
   "source": []
  },
  {
   "cell_type": "code",
   "execution_count": null,
   "id": "852714cd-8498-4e01-9af1-1e7c63887fa4",
   "metadata": {},
   "outputs": [],
   "source": []
  },
  {
   "cell_type": "code",
   "execution_count": null,
   "id": "dbc0940d-e2f3-4f88-93b6-fd5c87c925aa",
   "metadata": {},
   "outputs": [],
   "source": []
  },
  {
   "cell_type": "code",
   "execution_count": null,
   "id": "2d42590c-97d8-4eac-8d48-196af33254b1",
   "metadata": {},
   "outputs": [],
   "source": []
  }
 ],
 "metadata": {
  "kernelspec": {
   "display_name": "Python 3 (ipykernel)",
   "language": "python",
   "name": "python3"
  },
  "language_info": {
   "codemirror_mode": {
    "name": "ipython",
    "version": 3
   },
   "file_extension": ".py",
   "mimetype": "text/x-python",
   "name": "python",
   "nbconvert_exporter": "python",
   "pygments_lexer": "ipython3",
   "version": "3.12.4"
  }
 },
 "nbformat": 4,
 "nbformat_minor": 5
}
