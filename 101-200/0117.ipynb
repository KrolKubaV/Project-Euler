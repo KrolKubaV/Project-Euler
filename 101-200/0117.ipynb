{
 "cells": [
  {
   "cell_type": "markdown",
   "id": "b082214b-03b8-44b2-9a44-1796426e42bb",
   "metadata": {},
   "source": [
    "# Red, Green, and Blue Tiles - Problem 117\n",
    "<p>Using a combination of grey square tiles and oblong tiles chosen from: red tiles (measuring two units), green tiles (measuring three units), and blue tiles (measuring four units), it is possible to tile a row measuring five units in length in exactly fifteen different ways.</p>\n",
    "\n",
    "<div class=\"center\">\n",
    "<img src=\"resources/images/0117.png?1678992052\" alt=\"png117.png\">\n",
    "</div>\n",
    "\n",
    "<p>How many ways can a row measuring fifty units in length be tiled?</p>\n",
    "<p class=\"note\">NOTE: This is related to <a href=\"problem=116\">Problem 116</a>.</p>"
   ]
  },
  {
   "cell_type": "markdown",
   "id": "3528ef05-44b9-4e5c-9731-300090f1e3e3",
   "metadata": {},
   "source": [
    "## Solution."
   ]
  },
  {
   "cell_type": "code",
   "execution_count": 2,
   "id": "3339478d-32e8-4031-b467-3cac90092bdf",
   "metadata": {},
   "outputs": [],
   "source": [
    "from functools import lru_cache"
   ]
  },
  {
   "cell_type": "code",
   "execution_count": 30,
   "id": "a9ae02cf-cc40-4d7c-b2c3-2ee2a420c60a",
   "metadata": {},
   "outputs": [],
   "source": [
    "@lru_cache(maxsize=None)\n",
    "def factorial(n):\n",
    "    if n <= 1:\n",
    "        return 1\n",
    "    return n * factorial(n-1)\n",
    "\n",
    "\n",
    "@lru_cache(maxsize=None)\n",
    "def choose(n, k):\n",
    "    return factorial(n)//(factorial(k) * factorial(n-k))"
   ]
  },
  {
   "cell_type": "code",
   "execution_count": 32,
   "id": "3de068a1-f59a-4394-ac51-c1581416e981",
   "metadata": {},
   "outputs": [],
   "source": [
    "def sol(n):\n",
    "    ans = 0\n",
    "    for x2 in range(n//2+2):\n",
    "        for x3 in range(n//3+2):\n",
    "            for x4 in range(n//4+2):\n",
    "                if 2*x2 + 3*x3 + 4*x4 <= n:\n",
    "                    ans += choose(x2+x3, x3) * choose(x2+x3+x4,x4) * choose(x2+x3+x4+(n-(2*x2+3*x3 + 4*x4)), (n - (2*x2 + 3*x3 + 4*x4)))\n",
    "\n",
    "    return ans"
   ]
  },
  {
   "cell_type": "code",
   "execution_count": 33,
   "id": "8dc7c479-7c41-49ab-b693-ea50007937de",
   "metadata": {},
   "outputs": [
    {
     "data": {
      "text/plain": [
       "(15, 100808458960497)"
      ]
     },
     "execution_count": 33,
     "metadata": {},
     "output_type": "execute_result"
    }
   ],
   "source": [
    "sol(5), sol(50)"
   ]
  },
  {
   "cell_type": "code",
   "execution_count": null,
   "id": "dccd7b65-ec18-4508-a731-7cd7c0e4b17f",
   "metadata": {},
   "outputs": [],
   "source": [
    "100808458960497"
   ]
  },
  {
   "cell_type": "code",
   "execution_count": null,
   "id": "3b18aadc-cf82-45dc-b57c-4ddf0ac94bc5",
   "metadata": {},
   "outputs": [],
   "source": []
  },
  {
   "cell_type": "code",
   "execution_count": null,
   "id": "428866cf-353b-4798-a254-4470872a111b",
   "metadata": {},
   "outputs": [],
   "source": []
  },
  {
   "cell_type": "code",
   "execution_count": null,
   "id": "d900f0f2-b617-4e56-b62b-7fab5b059a49",
   "metadata": {},
   "outputs": [],
   "source": []
  },
  {
   "cell_type": "code",
   "execution_count": null,
   "id": "39f95b40-8bdd-4dfe-99db-5d8b113de79f",
   "metadata": {},
   "outputs": [],
   "source": []
  },
  {
   "cell_type": "code",
   "execution_count": null,
   "id": "0edd6675-8bc0-4eca-bdd3-3f452089663f",
   "metadata": {},
   "outputs": [],
   "source": []
  },
  {
   "cell_type": "code",
   "execution_count": null,
   "id": "af012bd0-3502-4756-bcee-6f8ffdc71d29",
   "metadata": {},
   "outputs": [],
   "source": []
  },
  {
   "cell_type": "code",
   "execution_count": null,
   "id": "c4b56882-0fe2-49be-9462-15c7e535cf47",
   "metadata": {},
   "outputs": [],
   "source": []
  },
  {
   "cell_type": "code",
   "execution_count": null,
   "id": "7b1d7ffe-7903-4c12-b719-9c0397eddf6d",
   "metadata": {},
   "outputs": [],
   "source": []
  }
 ],
 "metadata": {
  "kernelspec": {
   "display_name": "Python 3 (ipykernel)",
   "language": "python",
   "name": "python3"
  },
  "language_info": {
   "codemirror_mode": {
    "name": "ipython",
    "version": 3
   },
   "file_extension": ".py",
   "mimetype": "text/x-python",
   "name": "python",
   "nbconvert_exporter": "python",
   "pygments_lexer": "ipython3",
   "version": "3.12.4"
  }
 },
 "nbformat": 4,
 "nbformat_minor": 5
}
