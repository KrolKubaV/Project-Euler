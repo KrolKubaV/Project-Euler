{
 "cells": [
  {
   "cell_type": "markdown",
   "id": "21db70c5-9faa-4d5f-9429-77b493bfef15",
   "metadata": {},
   "source": [
    "# Iterative Circle Packing - Problem 199 \n",
    "\n",
    "<p>Three circles of equal radius are placed inside a larger circle such that each pair of circles is tangent to one another and the inner circles do not overlap. There are four uncovered \"gaps\" which are to be filled iteratively with more tangent circles.</p>\n",
    "\n",
    "At each iteration, a maximally sized circle is placed in each gap, which creates more gaps for the next iteration. After $3$ iterations (pictured), there are $108$ gaps and the fraction of the area which is not covered by circles is $0.06790342$, rounded to eight decimal places.\n",
    "</p>\n",
    "<p>\n",
    "What fraction of the area is not covered by circles after $10$ iterations?<br>\n",
    "Give your answer rounded to eight decimal places using the format x.xxxxxxxx .\n",
    "</p>"
   ]
  },
  {
   "cell_type": "markdown",
   "id": "2beb4b3b-9225-49f8-9dbf-563a0ef12eae",
   "metadata": {},
   "source": [
    "## Solution.\n",
    "We use https://en.wikipedia.org/wiki/Descartes%27_theorem.\n",
    "\n",
    "Assume the three initial circles have radius $1$."
   ]
  },
  {
   "cell_type": "code",
   "execution_count": 1,
   "id": "ff007664-f66b-4d76-ab1d-b2612eaa509a",
   "metadata": {},
   "outputs": [],
   "source": [
    "from math import sqrt"
   ]
  },
  {
   "cell_type": "code",
   "execution_count": 21,
   "id": "c054ff64-e9d6-4fce-ac2e-506384111669",
   "metadata": {},
   "outputs": [],
   "source": [
    "def k4_internal(k_1, k_2, k_3):\n",
    "    '''\n",
    "    Finds the curvature of the circle internally tangent to circles with curvatures k_1, k_2, k_3.\n",
    "    '''\n",
    "    return k_1 + k_2 + k_3 - 2 * sqrt(k_1*k_2 + k_2*k_3 + k_3*k_1)"
   ]
  },
  {
   "cell_type": "code",
   "execution_count": 20,
   "id": "e724cdaa-ad6a-4f17-81ce-afd2beb27531",
   "metadata": {},
   "outputs": [],
   "source": [
    "def k4_external(k_1, k_2, k_3):\n",
    "    '''\n",
    "    Finds the curvature of the circle externally tangent to circles with curvatures k_1, k_2, k_3.\n",
    "    '''\n",
    "    return k_1 + k_2 + k_3 + 2 * sqrt(k_1*k_2 + k_2*k_3 + k_3*k_1) "
   ]
  },
  {
   "cell_type": "code",
   "execution_count": 4,
   "id": "7256a4c2-5034-4ea1-9462-d8b83664bd1d",
   "metadata": {},
   "outputs": [],
   "source": [
    "def k_to_r(k):\n",
    "    return abs(1/k)"
   ]
  },
  {
   "cell_type": "code",
   "execution_count": 17,
   "id": "23b8701d-60ff-48c2-8a7a-aab7a4b15dd5",
   "metadata": {},
   "outputs": [],
   "source": [
    "# the big circle\n",
    "K = k4_internal(1,1,1) \n",
    "R = k_to_r(K)"
   ]
  },
  {
   "cell_type": "code",
   "execution_count": 22,
   "id": "48d16239-7095-4555-a17b-b46161bab08b",
   "metadata": {},
   "outputs": [],
   "source": [
    "def curvature_seq(n):\n",
    "    '''\n",
    "    Returns curvatures of all present circles after n iterations.\n",
    "    '''\n",
    "    seq = [1,1,1] # at time 0 there are only 3 circles\n",
    "    \n",
    "    # triangles indicate where we can create a circle\n",
    "    triangles = [[1,1,K], [1,1,K], [1,1,K], [1,1,1]]\n",
    "\n",
    "    for _ in range(n):\n",
    "        new_triangles = []\n",
    "        for triangle in triangles:\n",
    "            x, y, z = triangle\n",
    "            k = k4_external(x, y, z)\n",
    "            seq.append(k)\n",
    "            new_triangles.append([x,y,k])\n",
    "            new_triangles.append([y,z,k])\n",
    "            new_triangles.append([z,x,k])\n",
    "\n",
    "        triangles = new_triangles\n",
    "\n",
    "    return seq\n",
    "\n",
    "\n",
    "\n",
    "    "
   ]
  },
  {
   "cell_type": "code",
   "execution_count": 28,
   "id": "574fe455-f15c-4d0c-91e4-77ac9a902723",
   "metadata": {},
   "outputs": [
    {
     "name": "stdout",
     "output_type": "stream",
     "text": [
      "0.00396087\n"
     ]
    }
   ],
   "source": [
    "n = 10\n",
    "curvatures = curvature_seq(n)\n",
    "\n",
    "R = k_to_r(k_4_external(1,1,1))\n",
    "ans = 1 - sum(k_to_r(k)**2 for k in curvatures)/R**2\n",
    "print(round(ans, 8))"
   ]
  },
  {
   "cell_type": "code",
   "execution_count": null,
   "id": "854f43fc-59b8-47f0-8cf0-d405bac82737",
   "metadata": {},
   "outputs": [],
   "source": []
  },
  {
   "cell_type": "code",
   "execution_count": null,
   "id": "da08e3c4-0b53-40fb-a9d6-c9ddd8615e25",
   "metadata": {},
   "outputs": [],
   "source": []
  },
  {
   "cell_type": "code",
   "execution_count": null,
   "id": "3b09216f-c8f8-460e-b169-96ca7c3c9558",
   "metadata": {},
   "outputs": [],
   "source": []
  },
  {
   "cell_type": "code",
   "execution_count": null,
   "id": "79bc0785-8b3c-4980-9c0a-103480902a85",
   "metadata": {},
   "outputs": [],
   "source": []
  },
  {
   "cell_type": "code",
   "execution_count": null,
   "id": "a0b56e1d-7e4b-4012-bf77-f15e0786f5ce",
   "metadata": {},
   "outputs": [],
   "source": []
  },
  {
   "cell_type": "code",
   "execution_count": null,
   "id": "a2c362db-442f-477f-85d6-54d74902a838",
   "metadata": {},
   "outputs": [],
   "source": []
  },
  {
   "cell_type": "code",
   "execution_count": null,
   "id": "a7cad15d-2097-4242-b3c9-ee2721bc5572",
   "metadata": {},
   "outputs": [],
   "source": []
  },
  {
   "cell_type": "code",
   "execution_count": null,
   "id": "6d7daa82-67ad-4cda-935e-c7dbd486a750",
   "metadata": {},
   "outputs": [],
   "source": []
  },
  {
   "cell_type": "code",
   "execution_count": null,
   "id": "64ad3e95-0f00-4ed5-a759-bdf60befaa7a",
   "metadata": {},
   "outputs": [],
   "source": []
  },
  {
   "cell_type": "code",
   "execution_count": null,
   "id": "e54bb663-b87b-4ea6-a720-fecffc74314e",
   "metadata": {},
   "outputs": [],
   "source": []
  },
  {
   "cell_type": "code",
   "execution_count": null,
   "id": "5dfab2e6-4528-4d84-b4da-d6a45e8759f7",
   "metadata": {},
   "outputs": [],
   "source": []
  },
  {
   "cell_type": "code",
   "execution_count": null,
   "id": "7d61acd9-2ef7-4d59-bc60-34b4b6ddf8b1",
   "metadata": {},
   "outputs": [],
   "source": []
  },
  {
   "cell_type": "code",
   "execution_count": null,
   "id": "092464f7-46f5-4362-8580-14ad1bff997a",
   "metadata": {},
   "outputs": [],
   "source": []
  },
  {
   "cell_type": "code",
   "execution_count": null,
   "id": "14bece1a-8aad-4fec-ac0f-797353e29fa5",
   "metadata": {},
   "outputs": [],
   "source": []
  },
  {
   "cell_type": "code",
   "execution_count": null,
   "id": "7266fd95-d199-40b2-84ba-5a5b952e58e3",
   "metadata": {},
   "outputs": [],
   "source": []
  },
  {
   "cell_type": "code",
   "execution_count": null,
   "id": "e9275f30-04a4-4a44-9aad-3a4a85c5f8b9",
   "metadata": {},
   "outputs": [],
   "source": []
  },
  {
   "cell_type": "code",
   "execution_count": null,
   "id": "1fe54f92-0453-4e54-9066-d5ec6925e40a",
   "metadata": {},
   "outputs": [],
   "source": []
  },
  {
   "cell_type": "code",
   "execution_count": null,
   "id": "3504a77f-9bf2-450b-bb82-5fabf64126e4",
   "metadata": {},
   "outputs": [],
   "source": []
  },
  {
   "cell_type": "code",
   "execution_count": null,
   "id": "54b9fb04-d44c-478c-ac5b-5d94eca6a7f4",
   "metadata": {},
   "outputs": [],
   "source": []
  },
  {
   "cell_type": "code",
   "execution_count": null,
   "id": "08f3b5b4-543e-4637-87cc-2d4028794c4a",
   "metadata": {},
   "outputs": [],
   "source": []
  },
  {
   "cell_type": "code",
   "execution_count": null,
   "id": "4491333d-ec54-4359-b4ae-e185634b5b86",
   "metadata": {},
   "outputs": [],
   "source": []
  },
  {
   "cell_type": "code",
   "execution_count": null,
   "id": "785b3451-e2c7-4f18-b81d-76f87eee1005",
   "metadata": {},
   "outputs": [],
   "source": []
  },
  {
   "cell_type": "code",
   "execution_count": null,
   "id": "a6b1bfeb-9408-4274-b69f-6810915dc933",
   "metadata": {},
   "outputs": [],
   "source": []
  },
  {
   "cell_type": "code",
   "execution_count": null,
   "id": "f7216293-69b5-4992-ba0c-3b29643769f4",
   "metadata": {},
   "outputs": [],
   "source": []
  },
  {
   "cell_type": "code",
   "execution_count": null,
   "id": "3fd90979-3b56-41a4-936e-de33ca4474ef",
   "metadata": {},
   "outputs": [],
   "source": []
  },
  {
   "cell_type": "code",
   "execution_count": null,
   "id": "bc6ae990-a791-43f3-99d1-b1528afa236e",
   "metadata": {},
   "outputs": [],
   "source": []
  },
  {
   "cell_type": "code",
   "execution_count": null,
   "id": "108437a2-cafd-46a3-8b66-e582da4c776d",
   "metadata": {},
   "outputs": [],
   "source": []
  },
  {
   "cell_type": "code",
   "execution_count": null,
   "id": "43919c25-a902-465b-a1c1-2254b02a3055",
   "metadata": {},
   "outputs": [],
   "source": []
  },
  {
   "cell_type": "code",
   "execution_count": null,
   "id": "55e97329-563b-4ce2-9f2d-34e135b67a86",
   "metadata": {},
   "outputs": [],
   "source": []
  },
  {
   "cell_type": "code",
   "execution_count": null,
   "id": "f02dfc40-2948-4630-ab34-f9810907bd68",
   "metadata": {},
   "outputs": [],
   "source": []
  },
  {
   "cell_type": "code",
   "execution_count": null,
   "id": "25848d56-14c8-4720-8fd1-82cde3d67c50",
   "metadata": {},
   "outputs": [],
   "source": []
  },
  {
   "cell_type": "code",
   "execution_count": null,
   "id": "0ed39652-9453-42d3-b853-7ae911765e91",
   "metadata": {},
   "outputs": [],
   "source": []
  },
  {
   "cell_type": "code",
   "execution_count": null,
   "id": "6586b1b4-9976-4fdc-948a-294e1569d30a",
   "metadata": {},
   "outputs": [],
   "source": []
  },
  {
   "cell_type": "code",
   "execution_count": null,
   "id": "3a8d9e8c-1a4f-48f8-8b5b-2e6f319c5c5a",
   "metadata": {},
   "outputs": [],
   "source": []
  },
  {
   "cell_type": "code",
   "execution_count": null,
   "id": "9126c626-1767-4c90-bae2-22b1cc9a6a23",
   "metadata": {},
   "outputs": [],
   "source": []
  },
  {
   "cell_type": "code",
   "execution_count": null,
   "id": "2d68ec9a-0952-4d0d-a215-2cf82d9a7ff0",
   "metadata": {},
   "outputs": [],
   "source": []
  },
  {
   "cell_type": "code",
   "execution_count": null,
   "id": "30e7f051-f35a-467a-b344-49be8510ae1e",
   "metadata": {},
   "outputs": [],
   "source": []
  },
  {
   "cell_type": "code",
   "execution_count": null,
   "id": "37ddaacd-a422-415a-a6af-5729bde6d8fa",
   "metadata": {},
   "outputs": [],
   "source": []
  },
  {
   "cell_type": "code",
   "execution_count": null,
   "id": "a137e96b-0ee9-4f4d-9c37-e18d2b8ba3c8",
   "metadata": {},
   "outputs": [],
   "source": []
  },
  {
   "cell_type": "code",
   "execution_count": null,
   "id": "bbafee3c-c3da-4852-aa39-36d826233e04",
   "metadata": {},
   "outputs": [],
   "source": []
  },
  {
   "cell_type": "code",
   "execution_count": null,
   "id": "dfe3e283-ffa8-4dfd-9e39-1612aaa0c40b",
   "metadata": {},
   "outputs": [],
   "source": []
  },
  {
   "cell_type": "code",
   "execution_count": null,
   "id": "12392126-2b30-41d8-a808-d275c39360c3",
   "metadata": {},
   "outputs": [],
   "source": []
  }
 ],
 "metadata": {
  "kernelspec": {
   "display_name": "Python 3 (ipykernel)",
   "language": "python",
   "name": "python3"
  },
  "language_info": {
   "codemirror_mode": {
    "name": "ipython",
    "version": 3
   },
   "file_extension": ".py",
   "mimetype": "text/x-python",
   "name": "python",
   "nbconvert_exporter": "python",
   "pygments_lexer": "ipython3",
   "version": "3.12.4"
  }
 },
 "nbformat": 4,
 "nbformat_minor": 5
}
