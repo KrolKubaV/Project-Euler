{
 "cells": [
  {
   "cell_type": "markdown",
   "id": "a290eefa-a37c-4879-881a-2be67fcf537d",
   "metadata": {},
   "source": [
    "# Counting Block Combinations I - Problem 114\n",
    "<p>A row measuring seven units in length has red blocks with a minimum length of three units placed on it, such that any two red blocks (which are allowed to be different lengths) are separated by at least one grey square. There are exactly seventeen ways of doing this.</p>\n",
    "\n",
    "<div class=\"center\">\n",
    "<img src=\"resources/images/0114.png?1678992052\" alt=\"0114.png\">\n",
    "</div>\n",
    "\n",
    "<p>How many ways can a row measuring fifty units in length be filled?</p>\n",
    "<p class=\"note\">NOTE: Although the example above does not lend itself to the possibility, in general it is permitted to mix block sizes. For example, on a row measuring eight units in length you could use red (3), grey (1), and red (4).</p>"
   ]
  },
  {
   "cell_type": "markdown",
   "id": "93cdcec7-6711-4c45-9bf5-1b6f047c358a",
   "metadata": {},
   "source": [
    "## Solution."
   ]
  },
  {
   "cell_type": "code",
   "execution_count": 11,
   "id": "25f6c33c-5078-4ee7-b365-f5085e0d880e",
   "metadata": {},
   "outputs": [],
   "source": [
    "from functools import lru_cache"
   ]
  },
  {
   "cell_type": "code",
   "execution_count": 14,
   "id": "eac4b197-0797-47c1-b377-05e3377a8d89",
   "metadata": {},
   "outputs": [],
   "source": [
    "@lru_cache(maxsize=None)\n",
    "def sol(n, min_len):\n",
    "    if n < min_len:\n",
    "        return 1\n",
    "    if n == min_len:\n",
    "        return 2\n",
    "\n",
    "    ans = 0\n",
    "    for end in range(min_len, n+1):\n",
    "        ans += sol(n-end-1, min_len) * (end - min_len + 1)\n",
    "    return ans + 1"
   ]
  },
  {
   "cell_type": "code",
   "execution_count": 15,
   "id": "3eba052b-e981-4ec4-8fef-69c8b27e63ba",
   "metadata": {},
   "outputs": [
    {
     "data": {
      "text/plain": [
       "16475640049"
      ]
     },
     "execution_count": 15,
     "metadata": {},
     "output_type": "execute_result"
    }
   ],
   "source": [
    "sol(50, 3)"
   ]
  },
  {
   "cell_type": "code",
   "execution_count": null,
   "id": "51fcc6ca-29d6-4dc6-990e-17f1bf213652",
   "metadata": {},
   "outputs": [],
   "source": []
  },
  {
   "cell_type": "code",
   "execution_count": null,
   "id": "dceb4b3d-5a7e-4117-8841-8fc8fb1e6707",
   "metadata": {},
   "outputs": [],
   "source": []
  },
  {
   "cell_type": "code",
   "execution_count": null,
   "id": "0c017785-d51e-4bf1-b110-ba7b78856e6e",
   "metadata": {},
   "outputs": [],
   "source": []
  },
  {
   "cell_type": "code",
   "execution_count": null,
   "id": "0fe26132-116e-47c4-a2ed-1a92c17039b9",
   "metadata": {},
   "outputs": [],
   "source": []
  },
  {
   "cell_type": "code",
   "execution_count": null,
   "id": "0f79ae2c-9681-4b06-b6f2-d161b1b6a242",
   "metadata": {},
   "outputs": [],
   "source": []
  },
  {
   "cell_type": "code",
   "execution_count": null,
   "id": "e3c14aba-15c7-4e7d-b39d-6599292734c5",
   "metadata": {},
   "outputs": [],
   "source": []
  },
  {
   "cell_type": "code",
   "execution_count": null,
   "id": "c3088aac-3a7e-416d-93e8-0b4b352a9934",
   "metadata": {},
   "outputs": [],
   "source": []
  },
  {
   "cell_type": "code",
   "execution_count": null,
   "id": "b96c3b72-15dd-46bf-a485-40be8e5274c7",
   "metadata": {},
   "outputs": [],
   "source": []
  },
  {
   "cell_type": "code",
   "execution_count": null,
   "id": "49b3c2fc-a40e-4fe5-a1da-ef7595d8e06a",
   "metadata": {},
   "outputs": [],
   "source": []
  },
  {
   "cell_type": "code",
   "execution_count": null,
   "id": "a69cc2a5-e617-4ea7-b375-6b87a168f708",
   "metadata": {},
   "outputs": [],
   "source": []
  }
 ],
 "metadata": {
  "kernelspec": {
   "display_name": "Python 3 (ipykernel)",
   "language": "python",
   "name": "python3"
  },
  "language_info": {
   "codemirror_mode": {
    "name": "ipython",
    "version": 3
   },
   "file_extension": ".py",
   "mimetype": "text/x-python",
   "name": "python",
   "nbconvert_exporter": "python",
   "pygments_lexer": "ipython3",
   "version": "3.12.4"
  }
 },
 "nbformat": 4,
 "nbformat_minor": 5
}
