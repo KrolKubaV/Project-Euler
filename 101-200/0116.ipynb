{
 "cells": [
  {
   "cell_type": "markdown",
   "id": "4376b51e-05b5-4188-a745-0afbf81ec2a3",
   "metadata": {},
   "source": [
    "# Red, Green or Blue Tiles - Problem 116\n",
    "<p>A row of five grey square tiles is to have a number of its tiles replaced with coloured oblong tiles chosen from red (length two), green (length three), or blue (length four).</p>\n",
    "<p>If red tiles are chosen there are exactly seven ways this can be done.</p>\n",
    "\n",
    "<div class=\"center\">\n",
    "<img src=\"resources/images/0116_1.png?1678992052\" alt=\"png116_1.png\">\n",
    "</div>\n",
    "\n",
    "<p>If green tiles are chosen there are three ways.</p>\n",
    "\n",
    "<div class=\"center\">\n",
    "<img src=\"resources/images/0116_2.png?1678992052\" alt=\"png116_2.png\">\n",
    "</div>\n",
    "\n",
    "<p>And if blue tiles are chosen there are two ways.</p>\n",
    "\n",
    "<div class=\"center\">\n",
    "<img src=\"resources/images/0116_3.png?1678992052\" alt=\"png116_3.png\">\n",
    "</div>\n",
    "\n",
    "<p>Assuming that colours cannot be mixed there are $7 + 3 + 2 = 12$ ways of replacing the grey tiles in a row measuring five units in length.</p>\n",
    "<p>How many different ways can the grey tiles in a row measuring fifty units in length be replaced if colours cannot be mixed and at least one coloured tile must be used?</p>\n",
    "<p class=\"note\">NOTE: This is related to <a href=\"problem=117\">Problem 117</a>.</p>"
   ]
  },
  {
   "cell_type": "markdown",
   "id": "6aa92ea7-1fbc-4863-ab22-8f0c0a774036",
   "metadata": {},
   "source": [
    "## Solution."
   ]
  },
  {
   "cell_type": "code",
   "execution_count": 4,
   "id": "8e39cab8-1318-4221-a197-52cd28dd6386",
   "metadata": {},
   "outputs": [],
   "source": [
    "from functools import lru_cache"
   ]
  },
  {
   "cell_type": "code",
   "execution_count": 31,
   "id": "4a3c69e5-3671-44c2-81c3-f1c2a0120569",
   "metadata": {},
   "outputs": [],
   "source": [
    "@lru_cache(maxsize=None)\n",
    "def dp(n, k):\n",
    "    if n < k:\n",
    "        return 1\n",
    "    if n == k:\n",
    "        return 2\n",
    "        \n",
    "    ans = 1\n",
    "    for i in range(n-k+1):\n",
    "        ans += dp(i, k)\n",
    "\n",
    "    return ans"
   ]
  },
  {
   "cell_type": "code",
   "execution_count": 39,
   "id": "7dedd94f-72ac-4fac-b3ff-13d2a3db9deb",
   "metadata": {},
   "outputs": [
    {
     "data": {
      "text/plain": [
       "20492570929"
      ]
     },
     "execution_count": 39,
     "metadata": {},
     "output_type": "execute_result"
    }
   ],
   "source": [
    "dp(50, 2) + dp(50, 3) + dp(50, 4) - 3"
   ]
  },
  {
   "cell_type": "code",
   "execution_count": null,
   "id": "0c1f4523-a9ab-4243-8ead-9b83d25eb6df",
   "metadata": {},
   "outputs": [],
   "source": []
  },
  {
   "cell_type": "code",
   "execution_count": null,
   "id": "bb8697a1-fb5a-402a-b398-333ac926205a",
   "metadata": {},
   "outputs": [],
   "source": []
  },
  {
   "cell_type": "code",
   "execution_count": null,
   "id": "a27bc3e3-e259-41b9-858c-c7454cedd422",
   "metadata": {},
   "outputs": [],
   "source": []
  },
  {
   "cell_type": "code",
   "execution_count": null,
   "id": "702b7783-07b7-46f7-b747-46f809bfb20a",
   "metadata": {},
   "outputs": [],
   "source": []
  },
  {
   "cell_type": "code",
   "execution_count": null,
   "id": "518312a9-4be5-48d7-b1c0-10c6d7806682",
   "metadata": {},
   "outputs": [],
   "source": []
  },
  {
   "cell_type": "code",
   "execution_count": null,
   "id": "88ce3922-9003-459c-844d-3276289c4fd7",
   "metadata": {},
   "outputs": [],
   "source": []
  },
  {
   "cell_type": "code",
   "execution_count": null,
   "id": "38052327-7fac-436a-b9ad-c991e5607970",
   "metadata": {},
   "outputs": [],
   "source": []
  },
  {
   "cell_type": "code",
   "execution_count": null,
   "id": "c21161a9-2238-4d88-b6b6-f5f8e27297a2",
   "metadata": {},
   "outputs": [],
   "source": []
  },
  {
   "cell_type": "code",
   "execution_count": null,
   "id": "22464c81-dbd1-4940-b1bf-9dd5d8ce74fc",
   "metadata": {},
   "outputs": [],
   "source": []
  },
  {
   "cell_type": "code",
   "execution_count": null,
   "id": "8ea8d7c5-103c-4679-95dd-b0273401c356",
   "metadata": {},
   "outputs": [],
   "source": []
  }
 ],
 "metadata": {
  "kernelspec": {
   "display_name": "Python 3 (ipykernel)",
   "language": "python",
   "name": "python3"
  },
  "language_info": {
   "codemirror_mode": {
    "name": "ipython",
    "version": 3
   },
   "file_extension": ".py",
   "mimetype": "text/x-python",
   "name": "python",
   "nbconvert_exporter": "python",
   "pygments_lexer": "ipython3",
   "version": "3.12.4"
  }
 },
 "nbformat": 4,
 "nbformat_minor": 5
}
