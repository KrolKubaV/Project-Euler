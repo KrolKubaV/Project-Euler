{
 "cells": [
  {
   "cell_type": "markdown",
   "id": "c4e6ee37-3ba1-4b74-abbf-1d14bc801bbf",
   "metadata": {},
   "source": [
    "# Disc Game Prize Fund - Problem 121\n",
    "<p>A bag contains one red disc and one blue disc. In a game of chance a player takes a disc at random and its colour is noted. After each turn the disc is returned to the bag, an extra red disc is added, and another disc is taken at random.</p>\n",
    "<p>The player pays £1 to play and wins if they have taken more blue discs than red discs at the end of the game.</p>\n",
    "<p>If the game is played for four turns, the probability of a player winning is exactly 11/120, and so the maximum prize fund the banker should allocate for winning in this game would be £10 before they would expect to incur a loss. Note that any payout will be a whole number of pounds and also includes the original £1 paid to play the game, so in the example given the player actually wins £9.</p>\n",
    "<p>Find the maximum prize fund that should be allocated to a single game in which fifteen turns are played.</p>"
   ]
  },
  {
   "cell_type": "markdown",
   "id": "2d89ebca-d1e2-4f07-931b-869b562d5b17",
   "metadata": {},
   "source": [
    "## Solution."
   ]
  },
  {
   "cell_type": "code",
   "execution_count": 14,
   "id": "d1bbd7b8-ed3a-477e-a251-b6e5829ed6ef",
   "metadata": {},
   "outputs": [],
   "source": [
    "from functools import cache"
   ]
  },
  {
   "cell_type": "code",
   "execution_count": 25,
   "id": "cc34a904-74b6-4153-b094-d65028f75360",
   "metadata": {},
   "outputs": [],
   "source": [
    "@cache\n",
    "def dp(n, diff):\n",
    "    ''' Return the probability that after n games the difference between Blue and Red == diff, i.e. B-R == diff '''\n",
    "    if n == 1:\n",
    "        if diff == -1 or diff == 1:\n",
    "            return 1/2\n",
    "        return 0\n",
    "\n",
    "\n",
    "    return 1/(n+1) * dp(n-1, diff-1) + n/(n+1) * dp(n-1, diff+1)\n",
    "\n",
    "@cache\n",
    "def p_win(n):\n",
    "    ans = 0\n",
    "    for diff in range(1, n+1):\n",
    "        ans += dp(n, diff)\n",
    "    return ans\n",
    "\n",
    "def sol121(n):\n",
    "    p = p_win(n)\n",
    "    q = 1-p\n",
    "    i = 1\n",
    "\n",
    "    while p * (-i) + q > 0:\n",
    "        i += 1\n",
    "    return i\n",
    "    "
   ]
  },
  {
   "cell_type": "code",
   "execution_count": 27,
   "id": "79534463-bd9e-4e2d-9a8f-960c82997d4b",
   "metadata": {},
   "outputs": [
    {
     "data": {
      "text/plain": [
       "2269"
      ]
     },
     "execution_count": 27,
     "metadata": {},
     "output_type": "execute_result"
    }
   ],
   "source": [
    "sol121(15)"
   ]
  },
  {
   "cell_type": "code",
   "execution_count": null,
   "id": "2668c3ba-072f-4363-9d3d-0a7b8fb7e399",
   "metadata": {},
   "outputs": [],
   "source": []
  },
  {
   "cell_type": "code",
   "execution_count": null,
   "id": "bc29f50d-f4f2-4e59-8cbf-c72c532153ed",
   "metadata": {},
   "outputs": [],
   "source": []
  },
  {
   "cell_type": "code",
   "execution_count": null,
   "id": "182b52fe-cee8-4bcb-b2c5-c31242224248",
   "metadata": {},
   "outputs": [],
   "source": []
  },
  {
   "cell_type": "code",
   "execution_count": null,
   "id": "e3ca0973-2828-4afa-923a-fe4dac918111",
   "metadata": {},
   "outputs": [],
   "source": []
  },
  {
   "cell_type": "code",
   "execution_count": null,
   "id": "435b4052-2e77-4ee6-b310-7c0aea0bfef3",
   "metadata": {},
   "outputs": [],
   "source": []
  }
 ],
 "metadata": {
  "kernelspec": {
   "display_name": "Python 3 (ipykernel)",
   "language": "python",
   "name": "python3"
  },
  "language_info": {
   "codemirror_mode": {
    "name": "ipython",
    "version": 3
   },
   "file_extension": ".py",
   "mimetype": "text/x-python",
   "name": "python",
   "nbconvert_exporter": "python",
   "pygments_lexer": "ipython3",
   "version": "3.12.4"
  }
 },
 "nbformat": 4,
 "nbformat_minor": 5
}
