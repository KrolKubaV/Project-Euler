{
 "cells": [
  {
   "cell_type": "markdown",
   "id": "8e645d76-739a-4a88-8a73-f1e27e3e0a5d",
   "metadata": {},
   "source": [
    "# Totient Maximum - Problem 69\n",
    "<p>Euler's totient function, $\\phi(n)$ [sometimes called the phi function], is defined as the number of positive integers not exceeding $n$ which are relatively prime to $n$. For example, as $1$, $2$, $4$, $5$, $7$, and $8$, are all less than or equal to nine and relatively prime to nine, $\\phi(9)=6$.</p>\n",
    "<div class=\"center\">\n",
    "<table class=\"grid center\"><tr><td><b>$n$</b></td>\n",
    "<td><b>Relatively Prime</b></td>\n",
    "<td><b>$\\phi(n)$</b></td>\n",
    "<td><b>$n/\\phi(n)$</b></td>\n",
    "</tr><tr><td>2</td>\n",
    "<td>1</td>\n",
    "<td>1</td>\n",
    "<td>2</td>\n",
    "</tr><tr><td>3</td>\n",
    "<td>1,2</td>\n",
    "<td>2</td>\n",
    "<td>1.5</td>\n",
    "</tr><tr><td>4</td>\n",
    "<td>1,3</td>\n",
    "<td>2</td>\n",
    "<td>2</td>\n",
    "</tr><tr><td>5</td>\n",
    "<td>1,2,3,4</td>\n",
    "<td>4</td>\n",
    "<td>1.25</td>\n",
    "</tr><tr><td>6</td>\n",
    "<td>1,5</td>\n",
    "<td>2</td>\n",
    "<td>3</td>\n",
    "</tr><tr><td>7</td>\n",
    "<td>1,2,3,4,5,6</td>\n",
    "<td>6</td>\n",
    "<td>1.1666...</td>\n",
    "</tr><tr><td>8</td>\n",
    "<td>1,3,5,7</td>\n",
    "<td>4</td>\n",
    "<td>2</td>\n",
    "</tr><tr><td>9</td>\n",
    "<td>1,2,4,5,7,8</td>\n",
    "<td>6</td>\n",
    "<td>1.5</td>\n",
    "</tr><tr><td>10</td>\n",
    "<td>1,3,7,9</td>\n",
    "<td>4</td>\n",
    "<td>2.5</td>\n",
    "</tr></table></div>\n",
    "<p>It can be seen that $n = 6$ produces a maximum $n/\\phi(n)$ for $n\\leq 10$.</p>\n",
    "<p>Find the value of $n\\leq 1\\,000\\,000$ for which $n/\\phi(n)$ is a maximum.</p>\n"
   ]
  },
  {
   "cell_type": "markdown",
   "id": "d14254ff-cc1c-44f3-96c3-13ea36716de1",
   "metadata": {},
   "source": [
    "## Solution."
   ]
  },
  {
   "cell_type": "code",
   "execution_count": 1,
   "id": "00f38376-3928-4fed-99ff-fd8ae97aab42",
   "metadata": {},
   "outputs": [],
   "source": [
    "N = 10**6\n",
    "primes = [1] * (N + 1)\n",
    "primes[1], primes[0] = 0, 0\n",
    "\n",
    "for i in range(4, N, 2): \n",
    "    primes[i] = 0\n",
    "\n",
    "p = 3\n",
    "while p**2 < N: \n",
    "    if primes[p] == 1: \n",
    "        for i in range(2*p, N, p): \n",
    "            primes[i] = 0\n",
    "    p += 2\n",
    "\n",
    "primes = [i for i, el in enumerate(primes) if el == 1]"
   ]
  },
  {
   "cell_type": "code",
   "execution_count": 3,
   "id": "6fa1dc2e-2d21-4afd-9cf3-450f421480ed",
   "metadata": {},
   "outputs": [
    {
     "data": {
      "text/plain": [
       "510510"
      ]
     },
     "execution_count": 3,
     "metadata": {},
     "output_type": "execute_result"
    }
   ],
   "source": [
    "ans = 1\n",
    "i = 0\n",
    "while ans <= 10**6:\n",
    "    ans *= primes[i]\n",
    "    i += 1\n",
    "\n",
    "ans//primes[i-1]"
   ]
  },
  {
   "cell_type": "code",
   "execution_count": null,
   "id": "710283f8-b843-4662-b603-ec5e61b9d745",
   "metadata": {},
   "outputs": [],
   "source": []
  },
  {
   "cell_type": "code",
   "execution_count": null,
   "id": "b43755f1-c8b8-4e39-be29-0a149203cd25",
   "metadata": {},
   "outputs": [],
   "source": []
  },
  {
   "cell_type": "code",
   "execution_count": null,
   "id": "0d54e618-3ef5-4faa-8e4f-f1c1d96d47e6",
   "metadata": {},
   "outputs": [],
   "source": []
  },
  {
   "cell_type": "code",
   "execution_count": null,
   "id": "1382c2db-a3c9-4026-a0ea-1517ce984992",
   "metadata": {},
   "outputs": [],
   "source": []
  },
  {
   "cell_type": "code",
   "execution_count": null,
   "id": "a8f65608-7ced-431e-87b4-77122cec0b30",
   "metadata": {},
   "outputs": [],
   "source": []
  },
  {
   "cell_type": "code",
   "execution_count": null,
   "id": "75d43145-b528-41fb-be1b-f83caa3a7585",
   "metadata": {},
   "outputs": [],
   "source": []
  },
  {
   "cell_type": "code",
   "execution_count": null,
   "id": "18841cb0-c389-49e9-b43f-084055d2f381",
   "metadata": {},
   "outputs": [],
   "source": []
  }
 ],
 "metadata": {
  "kernelspec": {
   "display_name": "Python 3 (ipykernel)",
   "language": "python",
   "name": "python3"
  },
  "language_info": {
   "codemirror_mode": {
    "name": "ipython",
    "version": 3
   },
   "file_extension": ".py",
   "mimetype": "text/x-python",
   "name": "python",
   "nbconvert_exporter": "python",
   "pygments_lexer": "ipython3",
   "version": "3.12.4"
  }
 },
 "nbformat": 4,
 "nbformat_minor": 5
}
