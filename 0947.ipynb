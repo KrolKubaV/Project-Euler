{
 "cells": [
  {
   "cell_type": "markdown",
   "id": "f0350a4a-0b3e-45e8-bdcf-8d09bcb07a30",
   "metadata": {},
   "source": [
    "# Problem 947 - Fibonacci Residues\n",
    "<p>\n",
    "The $(a,b,m)$-sequence, where $0 \\leq a,b \\lt m$, is defined as</p>\n",
    "\n",
    "<div style=\"text-align:center;\">\n",
    "$\\begin{align*}\n",
    "g(0)&=a\\\\\n",
    "g(1)&=b\\\\\n",
    "g(n)&= \\big(g(n-1) + g(n-2)\\big) \\bmod m\n",
    "\\end{align*}$\n",
    "</div>\n",
    "\n",
    "<p>\n",
    "All $(a,b,m)$-sequences are periodic with period denoted by $p(a,b,m)$.<br> \n",
    "The first few terms of the $(0,1,8)$-sequence are $(0,1,1,2,3,5,0,5,5,2,7,1,0,1,1,2,\\ldots )$ and so $p(0,1,8)=12$.</p>\n",
    "\n",
    "<p>\n",
    "Let $\\displaystyle s(m)=\\sum_{a=0}^{m-1}\\sum_{b=0}^{m-1} p(a,b,m)^2$. For example, $s(3)=513$ and $s(10)=225820$.</p>\n",
    "\n",
    "<p>\n",
    "Define $\\displaystyle S(M)=\\sum_{m=1}^{M}s(m)$. You are given, $S(3)=542$ and $S(10)=310897$.</p>\n",
    "\n",
    "<p>\n",
    "Find $S(10^6)$. Give your answer modulo $999\\,999\\,893$.</p>"
   ]
  },
  {
   "cell_type": "markdown",
   "id": "2c682d3f-ab5f-4fd3-81de-5f32a19d26f5",
   "metadata": {},
   "source": [
    "## Solution."
   ]
  },
  {
   "cell_type": "markdown",
   "id": "2b4cd676-c07e-4ac5-a80b-ecbb5d1d1f60",
   "metadata": {},
   "source": [
    "https://webbox.lafayette.edu/~reiterc/nt/qr_fib_ec_preprint.pdf"
   ]
  },
  {
   "cell_type": "code",
   "execution_count": 15,
   "id": "505e7453-4ed1-47e6-adb0-9e70f488b1a8",
   "metadata": {},
   "outputs": [],
   "source": [
    "from collections import defaultdict"
   ]
  },
  {
   "cell_type": "code",
   "execution_count": 16,
   "id": "6332d2c5-c14e-4db0-b3e5-fda8efb3c239",
   "metadata": {},
   "outputs": [],
   "source": [
    "def p(a, b, m):\n",
    "    a_start = a\n",
    "    b_start = b\n",
    "    ans = 1\n",
    "    while True:\n",
    "        a, b = b, (a + b) % m\n",
    "        if (a, b) == (a_start, b_start):\n",
    "            return ans\n",
    "        ans += 1"
   ]
  },
  {
   "cell_type": "code",
   "execution_count": 17,
   "id": "973665a4-c250-4816-a5f3-ec4b361f61d1",
   "metadata": {},
   "outputs": [],
   "source": [
    "def s(m, MOD=999_999_893):\n",
    "    ans = 0 \n",
    "    for a in range(m):\n",
    "        for b in range(m):\n",
    "            ans += p(a, b, m)**2 % MOD\n",
    "\n",
    "    return ans"
   ]
  },
  {
   "cell_type": "code",
   "execution_count": 19,
   "id": "823057b1-c88e-4c67-88fc-08d588f81b85",
   "metadata": {},
   "outputs": [
    {
     "data": {
      "text/plain": [
       "defaultdict(int, {1: 1, 10: 110, 5: 10})"
      ]
     },
     "execution_count": 19,
     "metadata": {},
     "output_type": "execute_result"
    }
   ],
   "source": [
    "m = 11\n",
    "s = defaultdict(int)\n",
    "\n",
    "for a in range(m):\n",
    "    for b in range(m):\n",
    "        s[p(a, b, m)] += 1\n",
    "\n",
    "s"
   ]
  },
  {
   "cell_type": "code",
   "execution_count": null,
   "id": "5c12de39-1e94-4bd1-bcdc-fd73f6acc54f",
   "metadata": {},
   "outputs": [],
   "source": []
  },
  {
   "cell_type": "code",
   "execution_count": null,
   "id": "5c067515-7257-4191-bb60-7c10287a5ad3",
   "metadata": {},
   "outputs": [],
   "source": []
  },
  {
   "cell_type": "code",
   "execution_count": null,
   "id": "2e9c3b7f-05a9-4485-a8c9-e909e7b54614",
   "metadata": {},
   "outputs": [],
   "source": []
  },
  {
   "cell_type": "code",
   "execution_count": null,
   "id": "29d111b1-9cbe-497f-802c-c268ae55f48a",
   "metadata": {},
   "outputs": [],
   "source": []
  },
  {
   "cell_type": "code",
   "execution_count": null,
   "id": "d8e63f7c-abf5-4fd8-9258-6a9f86fae143",
   "metadata": {},
   "outputs": [],
   "source": []
  },
  {
   "cell_type": "code",
   "execution_count": null,
   "id": "6379f094-09f1-4742-947b-761ddf1d125c",
   "metadata": {},
   "outputs": [],
   "source": []
  }
 ],
 "metadata": {
  "kernelspec": {
   "display_name": "Python 3 (ipykernel)",
   "language": "python",
   "name": "python3"
  },
  "language_info": {
   "codemirror_mode": {
    "name": "ipython",
    "version": 3
   },
   "file_extension": ".py",
   "mimetype": "text/x-python",
   "name": "python",
   "nbconvert_exporter": "python",
   "pygments_lexer": "ipython3",
   "version": "3.13.0"
  }
 },
 "nbformat": 4,
 "nbformat_minor": 5
}
