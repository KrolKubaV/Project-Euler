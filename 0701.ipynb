{
 "cells": [
  {
   "cell_type": "markdown",
   "id": "081c0f3d-ffb9-483d-91f9-dd65d2a92931",
   "metadata": {},
   "source": [
    "# Random Connected Area - Problem 701\n",
    "<p>\n",
    "Consider a rectangle made up of $W \\times H$ square cells each with area $1$.<br> Each cell is independently coloured black with probability $0.5$ otherwise white. Black cells sharing an edge are assumed to be connected.<br>Consider the maximum area of connected cells.</p>\n",
    "\n",
    "<p>\n",
    "Define $E(W,H)$ to be the expected value of this maximum area.\n",
    "For example, $E(2,2)=1.875$, as illustrated below.\n",
    "</p>\n",
    "<div class=\"center\">\n",
    "<img src=\"resources/images/0701_randcon.png?1678992054\" alt=\"3 random connected area\">\n",
    "</div>\n",
    "<p>\n",
    "You are also given $E(4, 4) = 5.76487732$, rounded to $8$ decimal places.\n",
    "</p>\n",
    "<p>\n",
    "Find $E(7, 7)$, rounded to $8$ decimal places.\n",
    "</p>\n"
   ]
  },
  {
   "cell_type": "markdown",
   "id": "2e10f89b-244e-4d5a-80c7-f7f0fa67ac08",
   "metadata": {},
   "source": [
    "## Solution."
   ]
  },
  {
   "cell_type": "code",
   "execution_count": 84,
   "id": "38358773-b75b-46d0-99a4-b8ee82b956b7",
   "metadata": {},
   "outputs": [],
   "source": [
    "from collections import defaultdict\n",
    "from functools import cache, lru_cache"
   ]
  },
  {
   "cell_type": "code",
   "execution_count": 16,
   "id": "1aac0392-f0e5-448c-87de-23be0ddd1d3c",
   "metadata": {},
   "outputs": [],
   "source": [
    "@cache\n",
    "def generate_rows(l):\n",
    "    if l == 1:\n",
    "        return [tuple([0]), tuple([1])]\n",
    "    return [x + tuple([0]) for x in generate_rows(l-1)] + [x + tuple([1]) for x in generate_rows(l-1)]"
   ]
  },
  {
   "cell_type": "code",
   "execution_count": 54,
   "id": "6e0baabc-0b86-4bc5-b170-5292b785d4ea",
   "metadata": {},
   "outputs": [],
   "source": [
    "def check_row(row):\n",
    "    row_dic = {}\n",
    "    i = 0\n",
    "    l = len(row)\n",
    "    while i < l:\n",
    "        if row[i] == 0:\n",
    "            row_dic[i] = 0\n",
    "            i += 1\n",
    "        else:\n",
    "            j = i\n",
    "            m = 0\n",
    "            while row[j] == 1:\n",
    "                m += 1\n",
    "                j += 1\n",
    "\n",
    "                if j == l:\n",
    "                    break\n",
    "\n",
    "            for k in range(i, j):\n",
    "                row_dic[k] = m\n",
    "\n",
    "            i = j\n",
    "\n",
    "    return row_dic           "
   ]
  },
  {
   "cell_type": "code",
   "execution_count": 185,
   "id": "8d9c7d45-07a7-4ed8-aeef-adfb1a6aba78",
   "metadata": {},
   "outputs": [
    {
     "data": {
      "text/plain": [
       "{0: 2, 1: 2, 2: 0, 3: 0, 4: 0, 5: 2, 6: 2}"
      ]
     },
     "execution_count": 185,
     "metadata": {},
     "output_type": "execute_result"
    }
   ],
   "source": [
    "check_row((1,1,0,0,0,1,1))"
   ]
  },
  {
   "cell_type": "code",
   "execution_count": 311,
   "id": "236dfc13-5b75-4079-beba-fea129902718",
   "metadata": {},
   "outputs": [],
   "source": [
    "@lru_cache\n",
    "def helper(H, W):\n",
    "    H, W = min(H, W), max(H, W)\n",
    "    if H == 1:\n",
    "        rows = generate_rows(W)\n",
    "        ans = defaultdict(int)\n",
    "        for row in rows:\n",
    "            row_dic = check_row(row)\n",
    "            m = max(row_dic.values())\n",
    "            ans[(m, tuple(row_dic.items()))] += 1\n",
    "\n",
    "        return ans\n",
    "\n",
    "    ans_prev = helper(H-1, W)\n",
    "    rows = generate_rows(W)\n",
    "    ans = defaultdict(int)\n",
    "\n",
    "    for a in ans_prev:        \n",
    "        for row in rows:\n",
    "            m, row_dic_prev = a\n",
    "            row_dic_prev = dict(row_dic_prev)\n",
    "            row_dic = check_row(row)           \n",
    "\n",
    "            i = 0\n",
    "            while i < W:\n",
    "                if row_dic[i] == 0:\n",
    "                    row_dic[i] = 0\n",
    "                    i += 1\n",
    "                    \n",
    "                else:\n",
    "                    j = i\n",
    "                    curr_m = 0\n",
    "                    while row_dic[j] != 0:\n",
    "                        curr_m = max(curr_m,  row_dic_prev[j])\n",
    "                        j += 1\n",
    "        \n",
    "                        if j == W:\n",
    "                            break\n",
    "        \n",
    "                    for k in range(i, j):\n",
    "                        row_dic[k] = curr_m + (j-i)\n",
    "        \n",
    "                    i = j\n",
    "\n",
    "            m = max(m, max(row_dic.values()))\n",
    "            ans[(m, tuple(row_dic.items()))] += ans_prev[a]\n",
    "            \n",
    "            if m == 15:\n",
    "                print(row, row_dic, row_dic_prev)\n",
    "\n",
    "\n",
    "    return ans"
   ]
  },
  {
   "cell_type": "code",
   "execution_count": 329,
   "id": "8246db5d-b252-458c-b103-cf12a13a1df6",
   "metadata": {},
   "outputs": [],
   "source": [
    "def E(H, W):\n",
    "    H, W = min(H, W), max(H, W)\n",
    "    N = 2 ** (H * W)\n",
    "    ans = 0\n",
    "    d = defaultdict(int)\n",
    "\n",
    "    h = helper(H, W)\n",
    "    \n",
    "    for x in h:\n",
    "        ans += h[x] * x[0]\n",
    "        d[x[0]] += h[x]\n",
    "    return ans / N, d, sum(h.values()), sum(d.values()), N"
   ]
  },
  {
   "cell_type": "code",
   "execution_count": 330,
   "id": "657b7755-4a6f-4c54-883b-3a9f1819b592",
   "metadata": {},
   "outputs": [
    {
     "data": {
      "text/plain": [
       "256"
      ]
     },
     "execution_count": 330,
     "metadata": {},
     "output_type": "execute_result"
    }
   ],
   "source": [
    "2**8"
   ]
  },
  {
   "cell_type": "code",
   "execution_count": 331,
   "id": "37b78f21-2962-4dae-9146-aec7dcefaf3a",
   "metadata": {},
   "outputs": [
    {
     "data": {
      "text/plain": [
       "(3.1328125,\n",
       " defaultdict(int,\n",
       "             {0: 1, 1: 40, 2: 57, 3: 62, 4: 43, 5: 34, 6: 14, 7: 4, 8: 1}),\n",
       " 256,\n",
       " 256,\n",
       " 256)"
      ]
     },
     "execution_count": 331,
     "metadata": {},
     "output_type": "execute_result"
    }
   ],
   "source": [
    "E(2,4)"
   ]
  },
  {
   "cell_type": "code",
   "execution_count": 332,
   "id": "d46d7f13-d6db-4c0d-90c9-9d133ae98ead",
   "metadata": {},
   "outputs": [
    {
     "data": {
      "text/plain": [
       "defaultdict(int,\n",
       "            {(0, ((0, 0), (1, 0), (2, 0), (3, 0))): 1,\n",
       "             (1, ((0, 1), (1, 0), (2, 0), (3, 0))): 1,\n",
       "             (1, ((0, 0), (1, 1), (2, 0), (3, 0))): 1,\n",
       "             (2, ((0, 2), (1, 2), (2, 0), (3, 0))): 1,\n",
       "             (1, ((0, 0), (1, 0), (2, 1), (3, 0))): 1,\n",
       "             (1, ((0, 1), (1, 0), (2, 1), (3, 0))): 1,\n",
       "             (2, ((0, 0), (1, 2), (2, 2), (3, 0))): 1,\n",
       "             (3, ((0, 3), (1, 3), (2, 3), (3, 0))): 1,\n",
       "             (1, ((0, 0), (1, 0), (2, 0), (3, 1))): 1,\n",
       "             (1, ((0, 1), (1, 0), (2, 0), (3, 1))): 1,\n",
       "             (1, ((0, 0), (1, 1), (2, 0), (3, 1))): 1,\n",
       "             (2, ((0, 2), (1, 2), (2, 0), (3, 1))): 1,\n",
       "             (2, ((0, 0), (1, 0), (2, 2), (3, 2))): 1,\n",
       "             (2, ((0, 1), (1, 0), (2, 2), (3, 2))): 1,\n",
       "             (3, ((0, 0), (1, 3), (2, 3), (3, 3))): 1,\n",
       "             (4, ((0, 4), (1, 4), (2, 4), (3, 4))): 1})"
      ]
     },
     "execution_count": 332,
     "metadata": {},
     "output_type": "execute_result"
    }
   ],
   "source": [
    "helper(1, 4)"
   ]
  },
  {
   "cell_type": "code",
   "execution_count": 324,
   "id": "1526fbf6-ed6a-42ca-a8a2-3670245af2f0",
   "metadata": {
    "scrolled": true
   },
   "outputs": [
    {
     "data": {
      "text/plain": [
       "defaultdict(int,\n",
       "            {(0, ((0, 0), (1, 0), (2, 0), (3, 0))): 1,\n",
       "             (1, ((0, 1), (1, 0), (2, 0), (3, 0))): 5,\n",
       "             (1, ((0, 0), (1, 1), (2, 0), (3, 0))): 6,\n",
       "             (2, ((0, 2), (1, 2), (2, 0), (3, 0))): 4,\n",
       "             (1, ((0, 0), (1, 0), (2, 1), (3, 0))): 6,\n",
       "             (1, ((0, 1), (1, 0), (2, 1), (3, 0))): 4,\n",
       "             (2, ((0, 0), (1, 2), (2, 2), (3, 0))): 4,\n",
       "             (3, ((0, 3), (1, 3), (2, 3), (3, 0))): 2,\n",
       "             (1, ((0, 0), (1, 0), (2, 0), (3, 1))): 5,\n",
       "             (1, ((0, 1), (1, 0), (2, 0), (3, 1))): 3,\n",
       "             (1, ((0, 0), (1, 1), (2, 0), (3, 1))): 4,\n",
       "             (2, ((0, 2), (1, 2), (2, 0), (3, 1))): 2,\n",
       "             (2, ((0, 0), (1, 0), (2, 2), (3, 2))): 4,\n",
       "             (2, ((0, 1), (1, 0), (2, 2), (3, 2))): 2,\n",
       "             (3, ((0, 0), (1, 3), (2, 3), (3, 3))): 2,\n",
       "             (4, ((0, 4), (1, 4), (2, 4), (3, 4))): 1,\n",
       "             (1, ((0, 0), (1, 0), (2, 0), (3, 0))): 7,\n",
       "             (2, ((0, 2), (1, 0), (2, 0), (3, 0))): 4,\n",
       "             (3, ((0, 3), (1, 3), (2, 0), (3, 0))): 6,\n",
       "             (2, ((0, 2), (1, 0), (2, 1), (3, 0))): 2,\n",
       "             (4, ((0, 4), (1, 4), (2, 4), (3, 0))): 6,\n",
       "             (2, ((0, 2), (1, 0), (2, 0), (3, 1))): 2,\n",
       "             (3, ((0, 3), (1, 3), (2, 0), (3, 1))): 3,\n",
       "             (2, ((0, 2), (1, 0), (2, 2), (3, 2))): 1,\n",
       "             (5, ((0, 5), (1, 5), (2, 5), (3, 5))): 7,\n",
       "             (2, ((0, 0), (1, 2), (2, 0), (3, 0))): 2,\n",
       "             (3, ((0, 0), (1, 3), (2, 3), (3, 0))): 4,\n",
       "             (2, ((0, 0), (1, 2), (2, 0), (3, 1))): 1,\n",
       "             (4, ((0, 0), (1, 4), (2, 4), (3, 4))): 6,\n",
       "             (2, ((0, 0), (1, 0), (2, 0), (3, 0))): 5,\n",
       "             (3, ((0, 3), (1, 0), (2, 0), (3, 0))): 2,\n",
       "             (3, ((0, 0), (1, 3), (2, 0), (3, 0))): 3,\n",
       "             (4, ((0, 4), (1, 4), (2, 0), (3, 0))): 3,\n",
       "             (2, ((0, 0), (1, 0), (2, 1), (3, 0))): 2,\n",
       "             (3, ((0, 3), (1, 0), (2, 1), (3, 0))): 2,\n",
       "             (4, ((0, 0), (1, 4), (2, 4), (3, 0))): 5,\n",
       "             (5, ((0, 5), (1, 5), (2, 5), (3, 0))): 5,\n",
       "             (2, ((0, 0), (1, 0), (2, 0), (3, 1))): 2,\n",
       "             (3, ((0, 3), (1, 0), (2, 0), (3, 1))): 1,\n",
       "             (3, ((0, 0), (1, 3), (2, 0), (3, 1))): 2,\n",
       "             (4, ((0, 4), (1, 4), (2, 0), (3, 1))): 2,\n",
       "             (3, ((0, 3), (1, 0), (2, 2), (3, 2))): 1,\n",
       "             (5, ((0, 0), (1, 5), (2, 5), (3, 5))): 5,\n",
       "             (6, ((0, 6), (1, 6), (2, 6), (3, 6))): 5,\n",
       "             (2, ((0, 0), (1, 0), (2, 2), (3, 0))): 2,\n",
       "             (2, ((0, 1), (1, 0), (2, 2), (3, 0))): 1,\n",
       "             (3, ((0, 0), (1, 0), (2, 3), (3, 3))): 6,\n",
       "             (3, ((0, 1), (1, 0), (2, 3), (3, 3))): 3,\n",
       "             (2, ((0, 2), (1, 0), (2, 2), (3, 0))): 1,\n",
       "             (3, ((0, 2), (1, 0), (2, 3), (3, 3))): 2,\n",
       "             (2, ((0, 1), (1, 0), (2, 0), (3, 0))): 2,\n",
       "             (3, ((0, 0), (1, 0), (2, 3), (3, 0))): 3,\n",
       "             (3, ((0, 1), (1, 0), (2, 3), (3, 0))): 2,\n",
       "             (2, ((0, 1), (1, 0), (2, 0), (3, 1))): 1,\n",
       "             (4, ((0, 0), (1, 0), (2, 4), (3, 4))): 3,\n",
       "             (4, ((0, 1), (1, 0), (2, 4), (3, 4))): 2,\n",
       "             (3, ((0, 0), (1, 0), (2, 0), (3, 0))): 2,\n",
       "             (4, ((0, 4), (1, 0), (2, 0), (3, 0))): 1,\n",
       "             (4, ((0, 0), (1, 4), (2, 0), (3, 0))): 2,\n",
       "             (5, ((0, 5), (1, 5), (2, 0), (3, 0))): 2,\n",
       "             (4, ((0, 0), (1, 0), (2, 4), (3, 0))): 2,\n",
       "             (4, ((0, 4), (1, 0), (2, 4), (3, 0))): 1,\n",
       "             (5, ((0, 0), (1, 5), (2, 5), (3, 0))): 2,\n",
       "             (6, ((0, 6), (1, 6), (2, 6), (3, 0))): 2,\n",
       "             (3, ((0, 0), (1, 0), (2, 0), (3, 1))): 1,\n",
       "             (4, ((0, 4), (1, 0), (2, 0), (3, 1))): 1,\n",
       "             (4, ((0, 0), (1, 4), (2, 0), (3, 1))): 1,\n",
       "             (5, ((0, 5), (1, 5), (2, 0), (3, 1))): 1,\n",
       "             (5, ((0, 0), (1, 0), (2, 5), (3, 5))): 2,\n",
       "             (5, ((0, 4), (1, 0), (2, 5), (3, 5))): 1,\n",
       "             (6, ((0, 0), (1, 6), (2, 6), (3, 6))): 2,\n",
       "             (7, ((0, 7), (1, 7), (2, 7), (3, 7))): 2,\n",
       "             (2, ((0, 0), (1, 0), (2, 0), (3, 2))): 4,\n",
       "             (2, ((0, 1), (1, 0), (2, 0), (3, 2))): 2,\n",
       "             (2, ((0, 0), (1, 1), (2, 0), (3, 2))): 2,\n",
       "             (2, ((0, 2), (1, 2), (2, 0), (3, 2))): 1,\n",
       "             (2, ((0, 2), (1, 0), (2, 0), (3, 2))): 1,\n",
       "             (3, ((0, 3), (1, 3), (2, 0), (3, 2))): 2,\n",
       "             (2, ((0, 0), (1, 2), (2, 0), (3, 2))): 1,\n",
       "             (3, ((0, 3), (1, 0), (2, 0), (3, 2))): 1,\n",
       "             (3, ((0, 0), (1, 3), (2, 0), (3, 2))): 1,\n",
       "             (4, ((0, 4), (1, 4), (2, 0), (3, 2))): 1,\n",
       "             (3, ((0, 3), (1, 0), (2, 3), (3, 3))): 1,\n",
       "             (2, ((0, 0), (1, 1), (2, 0), (3, 0))): 2,\n",
       "             (3, ((0, 0), (1, 0), (2, 0), (3, 3))): 2,\n",
       "             (3, ((0, 1), (1, 0), (2, 0), (3, 3))): 1,\n",
       "             (3, ((0, 0), (1, 1), (2, 0), (3, 3))): 2,\n",
       "             (3, ((0, 2), (1, 2), (2, 0), (3, 3))): 1,\n",
       "             (3, ((0, 2), (1, 0), (2, 3), (3, 0))): 1,\n",
       "             (3, ((0, 2), (1, 0), (2, 0), (3, 3))): 1,\n",
       "             (3, ((0, 3), (1, 3), (2, 0), (3, 3))): 1,\n",
       "             (4, ((0, 2), (1, 0), (2, 4), (3, 4))): 1,\n",
       "             (3, ((0, 1), (1, 0), (2, 0), (3, 0))): 1,\n",
       "             (4, ((0, 1), (1, 0), (2, 4), (3, 0))): 1,\n",
       "             (4, ((0, 0), (1, 0), (2, 0), (3, 4))): 1,\n",
       "             (4, ((0, 1), (1, 0), (2, 0), (3, 4))): 1,\n",
       "             (4, ((0, 0), (1, 4), (2, 0), (3, 4))): 1,\n",
       "             (5, ((0, 5), (1, 5), (2, 0), (3, 4))): 1,\n",
       "             (5, ((0, 1), (1, 0), (2, 5), (3, 5))): 1,\n",
       "             (4, ((0, 0), (1, 0), (2, 0), (3, 0))): 1,\n",
       "             (5, ((0, 5), (1, 0), (2, 0), (3, 0))): 1,\n",
       "             (5, ((0, 0), (1, 5), (2, 0), (3, 0))): 1,\n",
       "             (6, ((0, 6), (1, 6), (2, 0), (3, 0))): 1,\n",
       "             (5, ((0, 0), (1, 0), (2, 5), (3, 0))): 1,\n",
       "             (5, ((0, 5), (1, 0), (2, 5), (3, 0))): 1,\n",
       "             (6, ((0, 0), (1, 6), (2, 6), (3, 0))): 1,\n",
       "             (7, ((0, 7), (1, 7), (2, 7), (3, 0))): 1,\n",
       "             (5, ((0, 0), (1, 0), (2, 0), (3, 5))): 1,\n",
       "             (5, ((0, 5), (1, 0), (2, 0), (3, 5))): 1,\n",
       "             (5, ((0, 0), (1, 5), (2, 0), (3, 5))): 1,\n",
       "             (6, ((0, 6), (1, 6), (2, 0), (3, 5))): 1,\n",
       "             (6, ((0, 0), (1, 0), (2, 6), (3, 6))): 1,\n",
       "             (6, ((0, 5), (1, 0), (2, 6), (3, 6))): 1,\n",
       "             (7, ((0, 0), (1, 7), (2, 7), (3, 7))): 1,\n",
       "             (8, ((0, 8), (1, 8), (2, 8), (3, 8))): 1})"
      ]
     },
     "execution_count": 324,
     "metadata": {},
     "output_type": "execute_result"
    }
   ],
   "source": [
    "helper(2, 4)"
   ]
  },
  {
   "cell_type": "code",
   "execution_count": 320,
   "id": "9a93e704-f51e-412a-9ca6-74438ab7c66c",
   "metadata": {},
   "outputs": [
    {
     "data": {
      "text/plain": [
       "[(0, 0, 0, 0),\n",
       " (1, 0, 0, 0),\n",
       " (0, 1, 0, 0),\n",
       " (1, 1, 0, 0),\n",
       " (0, 0, 1, 0),\n",
       " (1, 0, 1, 0),\n",
       " (0, 1, 1, 0),\n",
       " (1, 1, 1, 0),\n",
       " (0, 0, 0, 1),\n",
       " (1, 0, 0, 1),\n",
       " (0, 1, 0, 1),\n",
       " (1, 1, 0, 1),\n",
       " (0, 0, 1, 1),\n",
       " (1, 0, 1, 1),\n",
       " (0, 1, 1, 1),\n",
       " (1, 1, 1, 1)]"
      ]
     },
     "execution_count": 320,
     "metadata": {},
     "output_type": "execute_result"
    }
   ],
   "source": [
    "generate_rows(4)"
   ]
  },
  {
   "cell_type": "code",
   "execution_count": 325,
   "id": "6c24dc5a-0e38-4b9a-9b88-ae694fac7990",
   "metadata": {},
   "outputs": [
    {
     "data": {
      "text/plain": [
       "16"
      ]
     },
     "execution_count": 325,
     "metadata": {},
     "output_type": "execute_result"
    }
   ],
   "source": [
    "2*8"
   ]
  },
  {
   "cell_type": "code",
   "execution_count": null,
   "id": "79b1bfa8-6b58-43a9-af1f-d48771021859",
   "metadata": {},
   "outputs": [],
   "source": []
  },
  {
   "cell_type": "code",
   "execution_count": null,
   "id": "8fa84327-7607-4d7b-a118-b72c6c5151fc",
   "metadata": {},
   "outputs": [],
   "source": []
  },
  {
   "cell_type": "code",
   "execution_count": null,
   "id": "e5eefc5f-aa32-4491-9d0f-cadb1d967b32",
   "metadata": {},
   "outputs": [],
   "source": []
  },
  {
   "cell_type": "code",
   "execution_count": null,
   "id": "3ca663a7-6791-4cfb-a380-a98c10ee074e",
   "metadata": {},
   "outputs": [],
   "source": []
  },
  {
   "cell_type": "markdown",
   "id": "231730e9-438f-460f-a9ef-d0e144a8ced3",
   "metadata": {},
   "source": [
    "13.51099836"
   ]
  },
  {
   "cell_type": "markdown",
   "id": "54856049-2493-4235-b3d9-eebe4c2fbfa1",
   "metadata": {},
   "source": [
    "--------"
   ]
  },
  {
   "cell_type": "code",
   "execution_count": null,
   "id": "9f7f860f-5674-40e9-ad82-5d49634705c3",
   "metadata": {},
   "outputs": [],
   "source": []
  },
  {
   "cell_type": "code",
   "execution_count": null,
   "id": "51c9f51e-27dc-41d6-b179-11ff1b197c57",
   "metadata": {},
   "outputs": [],
   "source": []
  },
  {
   "cell_type": "code",
   "execution_count": 333,
   "id": "51e72ca3-4116-4277-88e6-1eb95abea3d2",
   "metadata": {},
   "outputs": [
    {
     "data": {
      "text/plain": [
       "(16.401219466856727, 18.027756377319946, 19.849433241279208)"
      ]
     },
     "execution_count": 333,
     "metadata": {},
     "output_type": "execute_result"
    }
   ],
   "source": [
    "from math import sqrt\n",
    "sqrt(100+13**2), sqrt(100+15**2), sqrt(13**2+15**2)"
   ]
  },
  {
   "cell_type": "code",
   "execution_count": 334,
   "id": "90488eb4-4fb3-406d-bd30-07dc4b1d1515",
   "metadata": {},
   "outputs": [
    {
     "data": {
      "text/plain": [
       "29.732137494637012"
      ]
     },
     "execution_count": 334,
     "metadata": {},
     "output_type": "execute_result"
    }
   ],
   "source": [
    "2*sqrt(221)"
   ]
  },
  {
   "cell_type": "code",
   "execution_count": null,
   "id": "719f0a3f-e0d6-4681-a449-d1c2d737421f",
   "metadata": {},
   "outputs": [],
   "source": []
  },
  {
   "cell_type": "markdown",
   "id": "8806d67f-7bb1-4529-8193-d3b883406c65",
   "metadata": {},
   "source": [
    "# MCMC"
   ]
  },
  {
   "cell_type": "code",
   "execution_count": 188,
   "id": "48288aee-1d7b-49f0-b6f3-33303f81e193",
   "metadata": {},
   "outputs": [],
   "source": [
    "from collections import defaultdict\n",
    "import random\n",
    "from functools import cache"
   ]
  },
  {
   "cell_type": "code",
   "execution_count": 118,
   "id": "286e9d3b-f664-4953-8aef-55191351d9f1",
   "metadata": {},
   "outputs": [],
   "source": [
    "def create_graph(board):\n",
    "    '''\n",
    "    Creates the graph in which two vertices are connected iff their corresponding cells are next to each other and contain number 1.\n",
    "    \n",
    "    board is an array of arrays such that:\n",
    "    0 - white\n",
    "    1 - black\n",
    "    2 - cell does not exist (board doesn't need to represent a rectangle)\n",
    "    '''\n",
    "    V = set()\n",
    "    E = defaultdict(set)\n",
    "    n = len(board)\n",
    "    m = len(board[0])\n",
    "    last_id = 1\n",
    "    \n",
    "    for i in range(n):\n",
    "        for j in range(m):\n",
    "            cell = board[i][j]\n",
    "\n",
    "            if cell == 1:\n",
    "                V.add((i,j))\n",
    "                if i > 0:\n",
    "                    up_cell = board[i-1][j]\n",
    "                    if up_cell == 1:\n",
    "                        E[(i,j)].add((i-1, j))\n",
    "                        E[(i-1, j)].add((i,j))\n",
    "                if j > 0:\n",
    "                    left_cell = board[i][j-1]\n",
    "                    if cell == 1 and left_cell == 1:\n",
    "                        E[(i,j)].add((i, j-1))\n",
    "                        E[(i, j-1)].add((i,j))\n",
    "\n",
    "    return V, E"
   ]
  },
  {
   "cell_type": "code",
   "execution_count": 119,
   "id": "b5914b10-904b-4dff-be5a-1a1d520ec3ca",
   "metadata": {},
   "outputs": [],
   "source": [
    "def connected_components(V, E):\n",
    "    components = []\n",
    "    visited = set()\n",
    "\n",
    "    while V:\n",
    "        component = set()\n",
    "        v = list(V)[0]\n",
    "        V.remove(v)\n",
    "        queue = [v]\n",
    "\n",
    "        while queue:\n",
    "            u = queue.pop()\n",
    "            component.add(u)\n",
    "            visited.add(u)\n",
    "            for w in E[u]:\n",
    "                if w not in visited:\n",
    "                    queue.append(w)\n",
    "                    if w in V:\n",
    "                        V.remove(w)\n",
    "        \n",
    "        components.append(component)\n",
    "\n",
    "    return components"
   ]
  },
  {
   "cell_type": "code",
   "execution_count": 120,
   "id": "eb4c5f38-849e-4e60-a28b-130add3754e3",
   "metadata": {},
   "outputs": [],
   "source": [
    "def max_connected_area(board):\n",
    "    '''\n",
    "    Finds the maximum connected area of black cells.\n",
    "    \n",
    "    board is an array of arrays such that:\n",
    "    0 - white\n",
    "    1 - black\n",
    "    2 - cell does not exist (board doesn't need to represent a rectangle)\n",
    "    '''\n",
    "    if sum(sum(board[i]) for i in range(len(board))) == 0:\n",
    "        return 0\n",
    "    \n",
    "    V, E = create_graph(board)\n",
    "    return max(len(x) for x in connected_components(V, E))"
   ]
  },
  {
   "cell_type": "code",
   "execution_count": 121,
   "id": "0be07588-b99b-441d-b0fe-ef6e14d1e3f2",
   "metadata": {},
   "outputs": [
    {
     "data": {
      "text/plain": [
       "19"
      ]
     },
     "execution_count": 121,
     "metadata": {},
     "output_type": "execute_result"
    }
   ],
   "source": [
    "board = [[random.choice([0,1]) for _ in range(7)] for __ in range(7)]\n",
    "max_connected_area(board)"
   ]
  },
  {
   "cell_type": "code",
   "execution_count": 123,
   "id": "9d92e4d2-7773-4818-872e-4a4bfc8e92fa",
   "metadata": {},
   "outputs": [
    {
     "name": "stdout",
     "output_type": "stream",
     "text": [
      "3.64193\n"
     ]
    }
   ],
   "source": [
    "import random\n",
    "B = 100000\n",
    "total = 0\n",
    "n, m = 3, 3\n",
    "\n",
    "for _ in range(B):\n",
    "    board = [[random.choice([0, 1]) for _ in range(m)] for __ in range(n)]\n",
    "    total += max_connected_area(board)\n",
    "\n",
    "print(total/B)"
   ]
  },
  {
   "cell_type": "code",
   "execution_count": null,
   "id": "0f8e27f7-01a3-454e-8436-a8b24b544c33",
   "metadata": {},
   "outputs": [],
   "source": []
  },
  {
   "cell_type": "code",
   "execution_count": null,
   "id": "2594f7fb-8e1f-48fb-9326-efd672f03aab",
   "metadata": {},
   "outputs": [],
   "source": []
  },
  {
   "cell_type": "code",
   "execution_count": null,
   "id": "4ed0183a-34a4-4bae-a34a-6b3163f8b627",
   "metadata": {},
   "outputs": [],
   "source": []
  },
  {
   "cell_type": "code",
   "execution_count": null,
   "id": "8df66019-90e5-454b-b81c-0f72ef6c55aa",
   "metadata": {},
   "outputs": [],
   "source": []
  },
  {
   "cell_type": "code",
   "execution_count": null,
   "id": "951c8c81-6c20-405f-8847-518c064b5011",
   "metadata": {},
   "outputs": [],
   "source": []
  },
  {
   "cell_type": "code",
   "execution_count": null,
   "id": "573a998c-ed0b-4f3b-8f12-ba0fd29d76a5",
   "metadata": {},
   "outputs": [],
   "source": []
  },
  {
   "cell_type": "code",
   "execution_count": null,
   "id": "a0abed78-fc49-4ebb-9913-76fa141dcf4d",
   "metadata": {},
   "outputs": [],
   "source": []
  },
  {
   "cell_type": "code",
   "execution_count": null,
   "id": "78d773a7-fef0-472b-8b28-0e47326c40ed",
   "metadata": {},
   "outputs": [],
   "source": []
  },
  {
   "cell_type": "code",
   "execution_count": null,
   "id": "62e76cac-8654-4323-bfd2-e6fd26baafee",
   "metadata": {},
   "outputs": [],
   "source": []
  },
  {
   "cell_type": "code",
   "execution_count": null,
   "id": "547b04a0-b217-49ea-8e99-4f0b41afe18b",
   "metadata": {},
   "outputs": [],
   "source": []
  },
  {
   "cell_type": "code",
   "execution_count": null,
   "id": "5ae395fe-536f-4976-9242-c753d471a884",
   "metadata": {},
   "outputs": [],
   "source": []
  },
  {
   "cell_type": "code",
   "execution_count": null,
   "id": "b6d3b424-52bf-43b7-96c1-5700019b1051",
   "metadata": {},
   "outputs": [],
   "source": []
  },
  {
   "cell_type": "code",
   "execution_count": null,
   "id": "7c68c5d1-d2c8-4e46-9ba2-acd041bfb9e9",
   "metadata": {},
   "outputs": [],
   "source": []
  },
  {
   "cell_type": "code",
   "execution_count": null,
   "id": "1a3d2c6d-fdf6-4bba-938d-93751b61d3b3",
   "metadata": {},
   "outputs": [],
   "source": []
  },
  {
   "cell_type": "code",
   "execution_count": null,
   "id": "8daae5de-0bf2-4bed-badc-1bb4d458ffc7",
   "metadata": {},
   "outputs": [],
   "source": []
  },
  {
   "cell_type": "code",
   "execution_count": null,
   "id": "77c08e29-14b0-417e-b207-0a1ee144412e",
   "metadata": {},
   "outputs": [],
   "source": []
  },
  {
   "cell_type": "code",
   "execution_count": null,
   "id": "e8da92d8-3667-432e-96ce-76eefad9216f",
   "metadata": {},
   "outputs": [],
   "source": []
  }
 ],
 "metadata": {
  "kernelspec": {
   "display_name": "Python 3 (ipykernel)",
   "language": "python",
   "name": "python3"
  },
  "language_info": {
   "codemirror_mode": {
    "name": "ipython",
    "version": 3
   },
   "file_extension": ".py",
   "mimetype": "text/x-python",
   "name": "python",
   "nbconvert_exporter": "python",
   "pygments_lexer": "ipython3",
   "version": "3.13.0"
  }
 },
 "nbformat": 4,
 "nbformat_minor": 5
}
