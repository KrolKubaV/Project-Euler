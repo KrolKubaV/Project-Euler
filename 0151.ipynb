{
 "cells": [
  {
   "cell_type": "markdown",
   "id": "ac8f1652-03be-446f-a563-a8b210c7626d",
   "metadata": {},
   "source": [
    "# A Preference for A5 - Problem 151\n",
    "<p>A printing shop runs 16 batches (jobs) every week and each batch requires a sheet of special colour-proofing paper of size A5.</p>\n",
    "\n",
    "<p>Every Monday morning, the supervisor opens a new envelope, containing a large sheet of the special paper with size A1.</p>\n",
    "\n",
    "<p>The supervisor proceeds to cut it in half, thus getting two sheets of size A2. Then one of the sheets is cut in half to get two sheets of size A3 and so on until an A5-size sheet is obtained, which is needed for the first batch of the week.</p>\n",
    "\n",
    "<p>All the unused sheets are placed back in the envelope.</p>\n",
    "\n",
    "<div class=\"center\"><img src=\"resources/images/0151.png?1678992052\" class=\"dark_img\" alt=\"\"></div>\n",
    "\n",
    "<p>At the beginning of each subsequent batch, the supervisor takes from the envelope one sheet of paper at random. If it is of size A5, then it is used. If it is larger, then the 'cut-in-half' procedure is repeated until an A5-size sheet is obtained, and any remaining sheets are always placed back in the envelope.</p>\n",
    "\n",
    "<p>Excluding the first and last batch of the week, find the expected number of times (during each week) that the supervisor finds a single sheet of paper in the envelope.</p>\n",
    "\n",
    "<p>Give your answer rounded to six decimal places using the format x.xxxxxx .</p>"
   ]
  },
  {
   "cell_type": "markdown",
   "id": "b3baa24c-d2da-446d-b2ad-1e63e94b4b9b",
   "metadata": {},
   "source": [
    "## Solution."
   ]
  },
  {
   "cell_type": "code",
   "execution_count": 1,
   "id": "62f37196-eaf6-4301-b0ff-f62bc121729e",
   "metadata": {},
   "outputs": [],
   "source": [
    "from collections import defaultdict"
   ]
  },
  {
   "cell_type": "code",
   "execution_count": 20,
   "id": "e06907bd-ba2b-4eda-a8c0-4ffb1b3d1980",
   "metadata": {},
   "outputs": [],
   "source": [
    "graph = defaultdict(set)\n",
    "queue = [(1,1,1,1)]\n",
    "\n",
    "while queue:\n",
    "    a = queue.pop()\n",
    "    V.add(a)\n",
    "    s = sum(a)\n",
    "    \n",
    "    a2 = a[0]\n",
    "    a3 = a[1]\n",
    "    a4 = a[2]\n",
    "    a5 = a[3]\n",
    "\n",
    "    if a2 != 0:\n",
    "        new = (a2-1, a3+1, a4+1, a5+1)\n",
    "        graph[a].add((new, a2/s))\n",
    "        queue.append(new)\n",
    "\n",
    "    if a3 != 0:\n",
    "        new = (a2, a3-1, a4+1, a5+1)\n",
    "        graph[a].add((new, a3/s))\n",
    "        queue.append(new)\n",
    "\n",
    "    if a4 != 0:\n",
    "        new = (a2, a3, a4-1, a5+1)\n",
    "        graph[a].add((new, a4/s))\n",
    "        queue.append(new)\n",
    "\n",
    "\n",
    "    if a5 != 0:\n",
    "        new = (a2, a3, a4, a5-1)\n",
    "        graph[a].add((new, a5/s))\n",
    "        if sum(new) != 0:\n",
    "            queue.append(new)"
   ]
  },
  {
   "cell_type": "code",
   "execution_count": 24,
   "id": "232dd965-b818-4594-b32c-67264a01d5e0",
   "metadata": {},
   "outputs": [],
   "source": [
    "results = []\n",
    "\n",
    "def dfs(path, likelihood, count_sum_1):\n",
    "    current_state = path[-1]\n",
    "    \n",
    "    if sum(current_state) == 1 and current_state != (0,0,0,1):\n",
    "        count_sum_1 += 1\n",
    "\n",
    "    # finish\n",
    "    if current_state not in graph or len(graph[current_state]) == 0:\n",
    "        results.append((path, likelihood, count_sum_1))\n",
    "        return\n",
    "\n",
    "    # explore the graph\n",
    "    for (next_state, prob) in graph[current_state]:\n",
    "        dfs(path + [next_state], likelihood * prob, count_sum_1)\n",
    "\n",
    "\n",
    "start = (1, 1, 1, 1)\n",
    "dfs([start], 1.0, 0)"
   ]
  },
  {
   "cell_type": "code",
   "execution_count": 27,
   "id": "5671e218-618d-41d6-b3dc-b2215922066a",
   "metadata": {},
   "outputs": [
    {
     "data": {
      "text/plain": [
       "0.464399"
      ]
     },
     "execution_count": 27,
     "metadata": {},
     "output_type": "execute_result"
    }
   ],
   "source": [
    "ev = 0\n",
    "\n",
    "for r in results:\n",
    "    _, p, x = r\n",
    "    ev += p*x\n",
    "\n",
    "round(ev, 6)"
   ]
  },
  {
   "cell_type": "code",
   "execution_count": null,
   "id": "3b3d04b6-9c72-4f59-b83d-82bef0d643e5",
   "metadata": {},
   "outputs": [],
   "source": []
  },
  {
   "cell_type": "code",
   "execution_count": null,
   "id": "da9b4955-0c16-4905-9e26-d4abe76310a4",
   "metadata": {},
   "outputs": [],
   "source": []
  },
  {
   "cell_type": "code",
   "execution_count": null,
   "id": "12db58c4-c5f2-4c0a-a067-e8f54e63fa01",
   "metadata": {},
   "outputs": [],
   "source": []
  },
  {
   "cell_type": "code",
   "execution_count": null,
   "id": "82bfd2a9-76e1-428c-9ebf-1e1becb07c01",
   "metadata": {},
   "outputs": [],
   "source": []
  },
  {
   "cell_type": "code",
   "execution_count": null,
   "id": "dd9ea8c3-55bf-4dfc-8c08-81c6a8509928",
   "metadata": {},
   "outputs": [],
   "source": []
  },
  {
   "cell_type": "code",
   "execution_count": null,
   "id": "5407f490-53d0-4f28-967b-bbe79e92369d",
   "metadata": {},
   "outputs": [],
   "source": []
  },
  {
   "cell_type": "code",
   "execution_count": null,
   "id": "75e28bc3-7364-433f-a8d6-5b15d113927a",
   "metadata": {},
   "outputs": [],
   "source": []
  },
  {
   "cell_type": "code",
   "execution_count": null,
   "id": "9be53403-d7bb-4a01-ae55-bfc67c121751",
   "metadata": {},
   "outputs": [],
   "source": []
  },
  {
   "cell_type": "code",
   "execution_count": null,
   "id": "4aef90dc-e764-48c9-9ad5-aa97a4bf9f24",
   "metadata": {},
   "outputs": [],
   "source": []
  }
 ],
 "metadata": {
  "kernelspec": {
   "display_name": "Python 3 (ipykernel)",
   "language": "python",
   "name": "python3"
  },
  "language_info": {
   "codemirror_mode": {
    "name": "ipython",
    "version": 3
   },
   "file_extension": ".py",
   "mimetype": "text/x-python",
   "name": "python",
   "nbconvert_exporter": "python",
   "pygments_lexer": "ipython3",
   "version": "3.12.4"
  }
 },
 "nbformat": 4,
 "nbformat_minor": 5
}
