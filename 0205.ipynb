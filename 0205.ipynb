{
 "cells": [
  {
   "cell_type": "markdown",
   "id": "f0fb8520-973e-4d54-94df-05d299929db2",
   "metadata": {},
   "source": [
    "# Dice Game - Problem 205\n",
    "<p>Peter has nine four-sided (pyramidal) dice, each with faces numbered $1, 2, 3, 4$.<br>\n",
    "Colin has six six-sided (cubic) dice, each with faces numbered $1, 2, 3, 4, 5, 6$.</p>\n",
    "\n",
    "<p>Peter and Colin roll their dice and compare totals: the highest total wins. The result is a draw if the totals are equal.</p>\n",
    "\n",
    "<p>What is the probability that Pyramidal Peter beats Cubic Colin? Give your answer rounded to seven decimal places in the form 0.abcdefg.</p>"
   ]
  },
  {
   "cell_type": "markdown",
   "id": "8715436c-cef2-4ceb-af6f-b1fbaa18eb90",
   "metadata": {},
   "source": [
    "## Solution"
   ]
  },
  {
   "cell_type": "markdown",
   "id": "3c09f12d-7590-4990-af01-4d8c39e04f69",
   "metadata": {},
   "source": [
    "1. Find distributions.\n",
    "2. Compare."
   ]
  },
  {
   "cell_type": "code",
   "execution_count": 1,
   "id": "d1d37bf4-716a-4039-89ce-07c4188752b2",
   "metadata": {},
   "outputs": [],
   "source": [
    "from collections import defaultdict\n",
    "\n",
    "def poly_mul(p1, p2):\n",
    "    '''\n",
    "    Polynomials of the form a_0 + a_1 * x + a_2 * x^2 + ...\n",
    "    '''\n",
    "    l1, l2 = len(p1), len(p2)\n",
    "    ans = defaultdict(int)\n",
    "\n",
    "    for i, el1 in p1.items():\n",
    "        for j, el2 in p2.items():\n",
    "            ans[i + j] += (el1 * el2)\n",
    "    \n",
    "    return ans\n",
    "\n",
    "\n",
    "def running_sum(d):\n",
    "    start = min(d.keys())\n",
    "    end = max(d.keys())\n",
    "    ans = defaultdict(int)\n",
    "\n",
    "    ans[start] = d[start]\n",
    "\n",
    "    for i in range(start + 1, end + 1):\n",
    "        ans[i] = (d[i] + ans[i-1])\n",
    "\n",
    "    return ans\n",
    "\n",
    "\n",
    "def create_die(n):\n",
    "    d = {i:1 for i in range(1, n+1)}\n",
    "    return d\n",
    "\n",
    "\n",
    "def ans(n1, d1, n2, d2):\n",
    "    '''\n",
    "    A: n1 x d1\n",
    "    B: n2 x d2\n",
    "    P(A > B) = ?\n",
    "    '''\n",
    "    dice1 = create_die(d1)\n",
    "    dice2 = create_die(d2)\n",
    "\n",
    "\n",
    "    A = dice1\n",
    "    for _ in range(n1-1):\n",
    "        A = poly_mul(A, dice1)\n",
    "\n",
    "\n",
    "    B = dice2\n",
    "    for __ in range(n2-1):\n",
    "        B = poly_mul(B, dice2)\n",
    "\n",
    "    ans = 0\n",
    "    for i, el1 in A.items():\n",
    "        for j, el2 in B.items():\n",
    "            if i > j:\n",
    "                ans += el1 * el2\n",
    "    \n",
    "\n",
    "    return ans / (d1 ** n1 * d2 ** n2)\n",
    "    "
   ]
  },
  {
   "cell_type": "code",
   "execution_count": 2,
   "id": "bdca7de0-83f7-478f-a7cf-7181b1a4576a",
   "metadata": {},
   "outputs": [
    {
     "data": {
      "text/plain": [
       "0.5731440767829801"
      ]
     },
     "execution_count": 2,
     "metadata": {},
     "output_type": "execute_result"
    }
   ],
   "source": [
    "ans(9, 4, 6, 6)"
   ]
  },
  {
   "cell_type": "code",
   "execution_count": null,
   "id": "958f31ad-7c30-4305-92ba-00c12fb5d473",
   "metadata": {},
   "outputs": [],
   "source": []
  },
  {
   "cell_type": "code",
   "execution_count": null,
   "id": "3eb77d40-cebd-4d27-bc2c-d8a3cdb83bbc",
   "metadata": {},
   "outputs": [],
   "source": []
  },
  {
   "cell_type": "code",
   "execution_count": null,
   "id": "d2c521da-9b38-4e83-903d-19045655dadd",
   "metadata": {},
   "outputs": [],
   "source": []
  },
  {
   "cell_type": "code",
   "execution_count": null,
   "id": "ca6fe318-694a-4744-9436-ba6db7888d14",
   "metadata": {},
   "outputs": [],
   "source": []
  },
  {
   "cell_type": "code",
   "execution_count": null,
   "id": "aa1c034d-407a-4dbc-b317-c0b96d49e9d9",
   "metadata": {},
   "outputs": [],
   "source": []
  },
  {
   "cell_type": "code",
   "execution_count": null,
   "id": "858cb616-669b-4a9a-9275-8d9cf2eb3449",
   "metadata": {},
   "outputs": [],
   "source": []
  },
  {
   "cell_type": "code",
   "execution_count": null,
   "id": "d38f207d-8693-41da-a8b5-a532137225dd",
   "metadata": {},
   "outputs": [],
   "source": []
  }
 ],
 "metadata": {
  "kernelspec": {
   "display_name": "Python 3 (ipykernel)",
   "language": "python",
   "name": "python3"
  },
  "language_info": {
   "codemirror_mode": {
    "name": "ipython",
    "version": 3
   },
   "file_extension": ".py",
   "mimetype": "text/x-python",
   "name": "python",
   "nbconvert_exporter": "python",
   "pygments_lexer": "ipython3",
   "version": "3.12.4"
  }
 },
 "nbformat": 4,
 "nbformat_minor": 5
}
