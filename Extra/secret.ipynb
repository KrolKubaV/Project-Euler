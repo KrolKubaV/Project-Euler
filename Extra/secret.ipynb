{
 "cells": [
  {
   "cell_type": "markdown",
   "id": "5dd74025",
   "metadata": {},
   "source": [
    "https://projecteuler.net/problem=secret"
   ]
  },
  {
   "cell_type": "code",
   "execution_count": 174,
   "id": "28ea3b88",
   "metadata": {},
   "outputs": [],
   "source": [
    "import cv2\n",
    "import numpy as np\n",
    "from tqdm import tqdm\n",
    "import numpy as np\n",
    "from functools import cache"
   ]
  },
  {
   "cell_type": "code",
   "execution_count": null,
   "id": "6cc8ae4a",
   "metadata": {},
   "outputs": [],
   "source": [
    "import numpy as np\n",
    "\n",
    "def C(A, B, mod=7):\n",
    "    n, m = A.shape\n",
    "    p, q = B.shape\n",
    "    C = np.zeros((n, m), dtype=int)\n",
    "\n",
    "    for i in range(n):\n",
    "        for j in range(m):\n",
    "            s = 0\n",
    "            for x in range(p):\n",
    "                for y in range(q):\n",
    "                    ii = (i + x - p//2) % n\n",
    "                    jj = (j + y - q//2) % m\n",
    "                    s += A[ii, jj] * B[x, y]\n",
    "            C[i, j] = s % mod\n",
    "    return C\n",
    "\n",
    "def C_p(A, p, mod=7):\n",
    "    n, m = A.shape\n",
    "    result = np.zeros((n, m), dtype=int)\n",
    "    result[n//2, m//2] = 1  \n",
    "    base = A.copy()\n",
    "\n",
    "    while p > 0:\n",
    "        if p % 2 == 1:\n",
    "            result = C(result, base, mod)\n",
    "        base = C(base, base, mod)\n",
    "        p //= 2\n",
    "\n",
    "    return result\n"
   ]
  },
  {
   "cell_type": "code",
   "execution_count": 231,
   "id": "1afd67da",
   "metadata": {},
   "outputs": [],
   "source": [
    "def arr_to_img(arr):\n",
    "    arr = (arr * (255 // 6)).astype(np.uint8)\n",
    "    cv2.imwrite(\"output.jpg\", arr)"
   ]
  },
  {
   "cell_type": "code",
   "execution_count": 235,
   "id": "76110c07",
   "metadata": {},
   "outputs": [],
   "source": [
    "def fast_convolution_power(I, K, p, mod=7):\n",
    "    n, m = I.shape\n",
    "\n",
    "    # Compute FFT of image and kernel\n",
    "    F_I = np.fft.fft2(I)\n",
    "    F_K = np.fft.fft2(K, s=(n, m))  # pad kernel to image size\n",
    "\n",
    "    # Raise kernel spectrum to power p\n",
    "    F_K_pow = np.power(F_K, p)\n",
    "\n",
    "    # Apply convolution power in frequency domain\n",
    "    F_result = F_I * F_K_pow\n",
    "    result = np.fft.ifft2(F_result).real.round().astype(np.int64)\n",
    "\n",
    "    # Apply modulo\n",
    "    result = result % mod\n",
    "    return result"
   ]
  },
  {
   "cell_type": "code",
   "execution_count": 236,
   "id": "646c74b3",
   "metadata": {},
   "outputs": [
    {
     "name": "stderr",
     "output_type": "stream",
     "text": [
      "C:\\Users\\jadamek\\AppData\\Local\\Temp\\ipykernel_12996\\1022398517.py:9: RuntimeWarning: overflow encountered in power\n",
      "  F_K_pow = np.power(F_K, p)\n",
      "C:\\Users\\jadamek\\AppData\\Local\\Temp\\ipykernel_12996\\1022398517.py:12: RuntimeWarning: invalid value encountered in multiply\n",
      "  F_result = F_I * F_K_pow\n",
      "C:\\Users\\jadamek\\AppData\\Local\\Packages\\PythonSoftwareFoundation.Python.3.11_qbz5n2kfra8p0\\LocalCache\\local-packages\\Python311\\site-packages\\numpy\\fft\\_pocketfft.py:94: RuntimeWarning: invalid value encountered in ifft\n",
      "  return ufunc(a, fct, axes=[(axis,), (), (axis,)], out=out)\n",
      "C:\\Users\\jadamek\\AppData\\Local\\Temp\\ipykernel_12996\\1022398517.py:13: RuntimeWarning: invalid value encountered in cast\n",
      "  result = np.fft.ifft2(F_result).real.round().astype(np.int64)\n"
     ]
    }
   ],
   "source": [
    "I = np.array(cv2.imread(\"secret.jpg\", cv2.IMREAD_GRAYSCALE).astype(np.int32))\n",
    "K = np.array([[0,1,0], [1,0,1], [0,1,0]])\n",
    "arr_to_img(fast_convolution_power(I, K, 10**12))"
   ]
  },
  {
   "cell_type": "code",
   "execution_count": 237,
   "id": "b5dcd8ce",
   "metadata": {},
   "outputs": [
    {
     "name": "stderr",
     "output_type": "stream",
     "text": [
      "C:\\Users\\jadamek\\AppData\\Local\\Temp\\ipykernel_12996\\1022398517.py:9: RuntimeWarning: overflow encountered in power\n",
      "  F_K_pow = np.power(F_K, p)\n",
      "C:\\Users\\jadamek\\AppData\\Local\\Temp\\ipykernel_12996\\1022398517.py:12: RuntimeWarning: invalid value encountered in multiply\n",
      "  F_result = F_I * F_K_pow\n",
      "C:\\Users\\jadamek\\AppData\\Local\\Temp\\ipykernel_12996\\1022398517.py:13: RuntimeWarning: invalid value encountered in cast\n",
      "  result = np.fft.ifft2(F_result).real.round().astype(np.int64)\n"
     ]
    },
    {
     "data": {
      "text/plain": [
       "array([[6, 6, 6, ..., 6, 6, 6],\n",
       "       [6, 6, 6, ..., 6, 6, 6],\n",
       "       [6, 6, 6, ..., 6, 6, 6],\n",
       "       ...,\n",
       "       [6, 6, 6, ..., 6, 6, 6],\n",
       "       [6, 6, 6, ..., 6, 6, 6],\n",
       "       [6, 6, 6, ..., 6, 6, 6]], shape=(585, 975))"
      ]
     },
     "execution_count": 237,
     "metadata": {},
     "output_type": "execute_result"
    }
   ],
   "source": [
    "fast_convolution_power(I, K, 10**12)"
   ]
  },
  {
   "cell_type": "code",
   "execution_count": null,
   "metadata": {},
   "outputs": [],
   "source": []
  },
  {
   "cell_type": "code",
   "execution_count": null,
   "metadata": {},
   "outputs": [],
   "source": []
  },
  {
   "cell_type": "code",
   "execution_count": null,
   "metadata": {},
   "outputs": [],
   "source": []
  },
  {
   "cell_type": "code",
   "execution_count": null,
   "id": "9daf7996",
   "metadata": {},
   "outputs": [],
   "source": []
  },
  {
   "cell_type": "code",
   "execution_count": null,
   "id": "b71b8fb0",
   "metadata": {},
   "outputs": [],
   "source": []
  }
 ],
 "metadata": {
  "kernelspec": {
   "display_name": "Python 3",
   "language": "python",
   "name": "python3"
  },
  "language_info": {
   "codemirror_mode": {
    "name": "ipython",
    "version": 3
   },
   "file_extension": ".py",
   "mimetype": "text/x-python",
   "name": "python",
   "nbconvert_exporter": "python",
   "pygments_lexer": "ipython3",
   "version": "3.11.9"
  }
 },
 "nbformat": 4,
 "nbformat_minor": 5
}
