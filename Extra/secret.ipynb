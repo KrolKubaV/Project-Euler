{
 "cells": [
  {
   "cell_type": "markdown",
   "id": "5dd74025",
   "metadata": {},
   "source": [
    "https://projecteuler.net/problem=secret"
   ]
  },
  {
   "cell_type": "code",
   "execution_count": 75,
   "id": "28ea3b88",
   "metadata": {},
   "outputs": [],
   "source": [
    "import cv2\n",
    "import numpy as np\n",
    "from tqdm import tqdm\n",
    "import numpy as np"
   ]
  },
  {
   "cell_type": "code",
   "execution_count": null,
   "id": "28236c00",
   "metadata": {},
   "outputs": [],
   "source": [
    "def transform_fft(image, n_iter):\n",
    "    image = image % 7\n",
    "    N, M = image.shape\n",
    "\n",
    "    kernel = np.zeros((N, M), dtype=np.int32)\n",
    "    kernel[0, 1] = 1\n",
    "    kernel[0, -1] = 1\n",
    "    kernel[1, 0] = 1\n",
    "    kernel[-1, 0] = 1\n",
    "\n",
    "    F_image = np.fft.fft2(image)\n",
    "    F_kernel = np.fft.fft2(kernel)\n",
    "\n",
    "    F_result = F_image * (F_kernel ** n_iter)\n",
    "    result = np.fft.ifft2(F_result).real\n",
    "    result = np.round(result) % 7\n",
    "    return result.astype(np.uint8)\n",
    "\n",
    "def arr_to_img(arr):\n",
    "    arr = np.clip(arr, 0, 255).astype(np.uint8)\n",
    "    cv2.imwrite(\"output.jpg\", arr)"
   ]
  },
  {
   "cell_type": "code",
   "execution_count": null,
   "id": "21b53dbd",
   "metadata": {},
   "outputs": [],
   "source": [
    "def arr_to_img(arr):\n",
    "    arr = np.clip(arr, 0, 255).astype(np.uint8)\n",
    "    cv2.imwrite(\"output.jpg\", arr)"
   ]
  },
  {
   "cell_type": "code",
   "execution_count": 84,
   "id": "1afd67da",
   "metadata": {},
   "outputs": [],
   "source": [
    "import numpy as np\n",
    "import cv2\n",
    "\n",
    "def circular_convolve_mod7(image):\n",
    "    N, M = image.shape\n",
    "    top    = np.roll(image,  1, axis=0)\n",
    "    bottom = np.roll(image, -1, axis=0)\n",
    "    left   = np.roll(image,  1, axis=1)\n",
    "    right  = np.roll(image, -1, axis=1)\n",
    "    return (top + bottom + left + right) % 7\n",
    "\n",
    "def transform_exact(image, n_iter):\n",
    "    result = image % 7\n",
    "    power = circular_convolve_mod7\n",
    "    # Use repeated squaring idea\n",
    "    # For large n, we cannot literally iterate; we implement a matrix-like doubling trick\n",
    "    def mat_pow(arr, exp):\n",
    "        if exp == 1:\n",
    "            return circular_convolve_mod7(arr)\n",
    "        if exp % 2 == 0:\n",
    "            half = mat_pow(arr, exp // 2)\n",
    "            return circular_convolve_mod7(half)  # Convolution squared (mod 7)\n",
    "        else:\n",
    "            half = mat_pow(arr, exp - 1)\n",
    "            return circular_convolve_mod7(half)\n",
    "    return mat_pow(result, n_iter)\n",
    "\n",
    "def arr_to_img(arr):\n",
    "    arr = np.clip(arr * (255 // 6), 0, 255).astype(np.uint8)\n",
    "    cv2.imwrite(\"output.jpg\", arr)\n",
    "\n",
    "img = cv2.imread(\"secret.jpg\", cv2.IMREAD_GRAYSCALE).astype(np.int32)\n",
    "img_final = transform_exact(img, 10**12)\n",
    "arr_to_img(img_final%7)\n"
   ]
  },
  {
   "cell_type": "code",
   "execution_count": 82,
   "id": "bf38169c",
   "metadata": {},
   "outputs": [
    {
     "data": {
      "text/plain": [
       "array([[1, 3, 2, ..., 0, 0, 6],\n",
       "       [3, 6, 5, ..., 1, 0, 6],\n",
       "       [1, 5, 6, ..., 1, 1, 0],\n",
       "       ...,\n",
       "       [3, 2, 3, ..., 1, 5, 2],\n",
       "       [5, 5, 6, ..., 3, 1, 5],\n",
       "       [5, 2, 0, ..., 3, 5, 1]], shape=(585, 975), dtype=int32)"
      ]
     },
     "execution_count": 82,
     "metadata": {},
     "output_type": "execute_result"
    }
   ],
   "source": [
    "img %7"
   ]
  },
  {
   "cell_type": "code",
   "execution_count": null,
   "id": "d4ae91d9",
   "metadata": {},
   "outputs": [],
   "source": []
  }
 ],
 "metadata": {
  "kernelspec": {
   "display_name": "Python 3",
   "language": "python",
   "name": "python3"
  },
  "language_info": {
   "codemirror_mode": {
    "name": "ipython",
    "version": 3
   },
   "file_extension": ".py",
   "mimetype": "text/x-python",
   "name": "python",
   "nbconvert_exporter": "python",
   "pygments_lexer": "ipython3",
   "version": "3.11.9"
  }
 },
 "nbformat": 4,
 "nbformat_minor": 5
}
