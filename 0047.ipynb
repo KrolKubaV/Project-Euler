{
 "cells": [
  {
   "cell_type": "markdown",
   "id": "1770e507-9d15-4c17-9af4-8ff13ad3025d",
   "metadata": {},
   "source": [
    "# Distinct Primes Factors - Problem 47\n",
    "\n",
    "<p>The first two consecutive numbers to have two distinct prime factors are:</p>\n",
    "\\begin{align}\n",
    "14 &= 2 \\times 7\\\\\n",
    "15 &= 3 \\times 5.\n",
    "\\end{align}\n",
    "<p>The first three consecutive numbers to have three distinct prime factors are:</p>\n",
    "\\begin{align}\n",
    "644 &= 2^2 \\times 7 \\times 23\\\\\n",
    "645 &= 3 \\times 5 \\times 43\\\\\n",
    "646 &= 2 \\times 17 \\times 19.\n",
    "\\end{align}\n",
    "<p>Find the first four consecutive integers to have four distinct prime factors each. What is the first of these numbers?</p>\n"
   ]
  },
  {
   "cell_type": "markdown",
   "id": "7ba0e6ef-9757-4f62-9119-57e55e323842",
   "metadata": {},
   "source": [
    "## Solution."
   ]
  },
  {
   "cell_type": "code",
   "execution_count": 8,
   "id": "32b826e5-ca4b-40c7-8799-da78a09145c5",
   "metadata": {},
   "outputs": [],
   "source": [
    "from functools import cache"
   ]
  },
  {
   "cell_type": "code",
   "execution_count": 2,
   "id": "9541b7af-f338-4eba-a662-86fa3d919f20",
   "metadata": {},
   "outputs": [],
   "source": [
    "N = 10**6\n",
    "primes = [1] * (N + 1)\n",
    "primes[1], primes[0] = 0, 0\n",
    "\n",
    "for i in range(4, N, 2): \n",
    "    primes[i] = 0\n",
    "\n",
    "p = 3\n",
    "while p**2 < N: \n",
    "    if primes[p] == 1: \n",
    "        for i in range(2*p, N, p): \n",
    "            primes[i] = 0\n",
    "    p += 2\n",
    "\n",
    "primes = [i for i, el in enumerate(primes) if el == 1]"
   ]
  },
  {
   "cell_type": "code",
   "execution_count": 24,
   "id": "6ca70b1f-d1b4-44db-97b6-d1480d7e25ca",
   "metadata": {},
   "outputs": [],
   "source": [
    "@cache\n",
    "def prime_divisors(n):\n",
    "    ans = set()\n",
    "    for p in primes:\n",
    "        if n == 1:\n",
    "            return len(ans)\n",
    "        if n%p == 0:\n",
    "            ans.add(p)\n",
    "            while n%p == 0:\n",
    "                n //= p"
   ]
  },
  {
   "cell_type": "code",
   "execution_count": 33,
   "id": "18cc2c3d-08ea-4965-8843-54d0cf3e68f5",
   "metadata": {},
   "outputs": [],
   "source": [
    "def sol47(k):\n",
    "    '''\n",
    "    Finds the first k consecutive integers that have k distinct prime factors each\n",
    "    '''\n",
    "    n = 1\n",
    "\n",
    "    while True:\n",
    "        for i in range(k):\n",
    "            if  prime_divisors(n+i) != k:\n",
    "                n = n + i + 1\n",
    "                break\n",
    "        else:\n",
    "            return n"
   ]
  },
  {
   "cell_type": "code",
   "execution_count": 34,
   "id": "c87f1373-1c45-4138-aebd-0a18b679ae58",
   "metadata": {},
   "outputs": [
    {
     "data": {
      "text/plain": [
       "134043"
      ]
     },
     "execution_count": 34,
     "metadata": {},
     "output_type": "execute_result"
    }
   ],
   "source": [
    "sol47(4)"
   ]
  },
  {
   "cell_type": "code",
   "execution_count": null,
   "id": "8d32065e-7cef-4be0-aecb-f1d29762f3b5",
   "metadata": {},
   "outputs": [],
   "source": []
  },
  {
   "cell_type": "code",
   "execution_count": null,
   "id": "9ef85fff-eb74-4b0e-a96a-9e912eb94bed",
   "metadata": {},
   "outputs": [],
   "source": []
  }
 ],
 "metadata": {
  "kernelspec": {
   "display_name": "Python 3 (ipykernel)",
   "language": "python",
   "name": "python3"
  },
  "language_info": {
   "codemirror_mode": {
    "name": "ipython",
    "version": 3
   },
   "file_extension": ".py",
   "mimetype": "text/x-python",
   "name": "python",
   "nbconvert_exporter": "python",
   "pygments_lexer": "ipython3",
   "version": "3.12.4"
  }
 },
 "nbformat": 4,
 "nbformat_minor": 5
}
