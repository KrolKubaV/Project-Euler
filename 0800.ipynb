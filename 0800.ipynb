{
 "cells": [
  {
   "cell_type": "markdown",
   "id": "4243a65c-068a-47e3-993b-d265c0c0023e",
   "metadata": {},
   "source": [
    "# Hybrid Integers - Problem 800\n",
    "<p>\n",
    "An integer of the form $p^q q^p$ with prime numbers $p \\neq q$ is called a <dfn>hybrid-integer</dfn>.<br>\n",
    "For example, $800 = 2^5 5^2$ is a hybrid-integer.\n",
    "</p>\n",
    "<p>\n",
    "We define $C(n)$ to be the number of hybrid-integers less than or equal to $n$.<br>\n",
    "You are given $C(800) = 2$ and $C(800^{800}) = 10790$.\n",
    "</p>\n",
    "<p>\n",
    "Find $C(800800^{800800})$.\n",
    "</p>"
   ]
  },
  {
   "cell_type": "markdown",
   "id": "edce8b7b-c5e6-4ffd-8595-e9591bfe6922",
   "metadata": {},
   "source": [
    "## Solution."
   ]
  },
  {
   "cell_type": "code",
   "execution_count": 107,
   "id": "be0d26a7-a42f-40ba-9ea4-5edbb3258611",
   "metadata": {},
   "outputs": [],
   "source": [
    "from math import log\n",
    "from tqdm import tqdm"
   ]
  },
  {
   "cell_type": "code",
   "execution_count": 50,
   "id": "bae08cf9-c69a-454d-a94e-9468e42a2d12",
   "metadata": {},
   "outputs": [],
   "source": [
    "def compute_primes_up_to(N):\n",
    "    primes = [1] * (N + 1)\n",
    "    primes[1], primes[0], primes[-1] = 0, 0, 0\n",
    "\n",
    "    for i in range(4, N, 2): \n",
    "        primes[i] = 0\n",
    "\n",
    "    p = 3\n",
    "    while p**2 < N: \n",
    "        if primes[p] == 1: \n",
    "            for i in range(2*p, N, p): \n",
    "                primes[i] = 0\n",
    "        p += 2\n",
    "\n",
    "    return [i for i, el in enumerate(primes) if el == 1]"
   ]
  },
  {
   "cell_type": "code",
   "execution_count": 110,
   "id": "1f166595-c4b9-4b53-959d-f36964240604",
   "metadata": {},
   "outputs": [],
   "source": [
    "def C(a, b, N=2*10**7):\n",
    "    '''Solves for a^b'''\n",
    "    primes = compute_primes_up_to(N)\n",
    "    log_primes = [log(p) for p in primes]\n",
    "    thres = b * log(a)\n",
    "    \n",
    "    ans = 0\n",
    "    for i, p in tqdm(enumerate(primes)):\n",
    "        log_p = log_primes[i]\n",
    "        \n",
    "\n",
    "        lo, hi = 0, len(primes) - 1\n",
    "        while lo <= hi:\n",
    "            mid = (lo + hi) // 2\n",
    "            q = primes[mid]\n",
    "            log_q = log_primes[mid]\n",
    "            if q * log_p + p * log_q < thres:\n",
    "                lo = mid + 1\n",
    "            else:\n",
    "                hi = mid - 1\n",
    "\n",
    "        if hi >= 0:\n",
    "            if q > p:\n",
    "                ans += hi\n",
    "            else:\n",
    "                ans += hi + 1\n",
    "    \n",
    "    return ans//2"
   ]
  },
  {
   "cell_type": "code",
   "execution_count": 111,
   "id": "2e01f1aa-891f-4f8e-9bf5-946b5b806ca9",
   "metadata": {},
   "outputs": [
    {
     "name": "stderr",
     "output_type": "stream",
     "text": [
      "1270607it [00:05, 238008.17it/s]\n"
     ]
    },
    {
     "data": {
      "text/plain": [
       "1412403576"
      ]
     },
     "execution_count": 111,
     "metadata": {},
     "output_type": "execute_result"
    }
   ],
   "source": [
    "C(800800, 800800)"
   ]
  },
  {
   "cell_type": "code",
   "execution_count": null,
   "id": "9c624229-a934-4ec0-8847-773faa7ef876",
   "metadata": {},
   "outputs": [],
   "source": []
  },
  {
   "cell_type": "code",
   "execution_count": null,
   "id": "43034e3f-0b71-4a20-8127-fdfca3b59a67",
   "metadata": {},
   "outputs": [],
   "source": []
  }
 ],
 "metadata": {
  "kernelspec": {
   "display_name": "Python 3 (ipykernel)",
   "language": "python",
   "name": "python3"
  },
  "language_info": {
   "codemirror_mode": {
    "name": "ipython",
    "version": 3
   },
   "file_extension": ".py",
   "mimetype": "text/x-python",
   "name": "python",
   "nbconvert_exporter": "python",
   "pygments_lexer": "ipython3",
   "version": "3.12.4"
  }
 },
 "nbformat": 4,
 "nbformat_minor": 5
}
