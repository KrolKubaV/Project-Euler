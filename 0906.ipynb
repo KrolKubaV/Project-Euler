{
 "cells": [
  {
   "cell_type": "markdown",
   "id": "7d2c635c-9f49-4e4f-8430-0be7a013db64",
   "metadata": {},
   "source": [
    "# Problem 906 - A Collective Decision\n",
    "<p>\n",
    "Three friends attempt to collectively choose one of $n$ options, labeled $1,\\dots,n$, based upon their individual preferences. They choose option $i$ if for every alternative option $j$ at least two of the three friends prefer $i$ over $j$. If no such option $i$ exists they fail to reach an agreement.\n",
    "</p>\n",
    "<p>\n",
    "Define $P(n)$ to be the probability the three friends successfully reach an agreement and choose one option, where each of the friends' individual order of preference is given by a (possibly different) random permutation of $1,\\dots,n$.\n",
    "</p>\n",
    "<p>\n",
    "You are given $P(3)=17/18$ and $P(10)\\approx0.6760292265$.\n",
    "</p>\n",
    "<p>\n",
    "Find $P(20\\,000)$. Give your answer rounded to ten places after the decimal point.\n",
    "</p>"
   ]
  },
  {
   "cell_type": "markdown",
   "id": "d00ab098-3955-4876-a439-2e810fb7df61",
   "metadata": {},
   "source": [
    "## Solution."
   ]
  },
  {
   "cell_type": "code",
   "execution_count": null,
   "id": "d3e69194-a04a-4d3f-99eb-393f41f7e9bb",
   "metadata": {},
   "outputs": [],
   "source": []
  },
  {
   "cell_type": "code",
   "execution_count": null,
   "id": "f61c5567-bd8e-4090-9acc-08dd2e626fc0",
   "metadata": {},
   "outputs": [],
   "source": []
  },
  {
   "cell_type": "code",
   "execution_count": null,
   "id": "1ebd540a-eb61-4041-9eca-1a40b952daa7",
   "metadata": {},
   "outputs": [],
   "source": []
  },
  {
   "cell_type": "code",
   "execution_count": null,
   "id": "fd3580fe-3bf8-44bf-94d2-0c060c41080a",
   "metadata": {},
   "outputs": [],
   "source": []
  },
  {
   "cell_type": "code",
   "execution_count": null,
   "id": "bcc86ea2-4932-4511-b4cf-31020b1b331c",
   "metadata": {},
   "outputs": [],
   "source": []
  },
  {
   "cell_type": "code",
   "execution_count": null,
   "id": "4d0b115f-d91f-479e-8c4b-6bd5fcd0f32c",
   "metadata": {},
   "outputs": [],
   "source": []
  },
  {
   "cell_type": "code",
   "execution_count": null,
   "id": "6bacbb9a-db98-44f9-bf9c-84ebce8317a3",
   "metadata": {},
   "outputs": [],
   "source": []
  },
  {
   "cell_type": "code",
   "execution_count": null,
   "id": "21b60420-53a8-4f5b-ab5a-fb00f4eed595",
   "metadata": {},
   "outputs": [],
   "source": []
  },
  {
   "cell_type": "code",
   "execution_count": null,
   "id": "58de307d-abb3-4a4a-9d44-34d695c0adbe",
   "metadata": {},
   "outputs": [],
   "source": []
  },
  {
   "cell_type": "code",
   "execution_count": null,
   "id": "2091b915-7a00-4012-86ef-92fffb693919",
   "metadata": {},
   "outputs": [],
   "source": []
  },
  {
   "cell_type": "code",
   "execution_count": null,
   "id": "6141c91c-2274-4996-813b-06ca80bbe973",
   "metadata": {},
   "outputs": [],
   "source": []
  },
  {
   "cell_type": "code",
   "execution_count": null,
   "id": "482abdc4-de2a-4586-b35b-55faa57db470",
   "metadata": {},
   "outputs": [],
   "source": []
  },
  {
   "cell_type": "code",
   "execution_count": null,
   "id": "05cb880a-0fc9-4df8-8511-8d3e482d7c6c",
   "metadata": {},
   "outputs": [],
   "source": []
  }
 ],
 "metadata": {
  "kernelspec": {
   "display_name": "Python 3 (ipykernel)",
   "language": "python",
   "name": "python3"
  },
  "language_info": {
   "codemirror_mode": {
    "name": "ipython",
    "version": 3
   },
   "file_extension": ".py",
   "mimetype": "text/x-python",
   "name": "python",
   "nbconvert_exporter": "python",
   "pygments_lexer": "ipython3",
   "version": "3.13.0"
  }
 },
 "nbformat": 4,
 "nbformat_minor": 5
}
