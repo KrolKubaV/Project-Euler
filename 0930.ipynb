{
 "cells": [
  {
   "cell_type": "markdown",
   "id": "d79caa3d-e072-494f-b79e-23b932ce12e8",
   "metadata": {},
   "source": [
    "# Problem 930 - The Gathering\n",
    "<p>Given $n\\ge 2$ bowls arranged in a circle, $m\\ge 2$ balls are distributed amongst them.</p>\n",
    "\n",
    "<p>Initially the balls are distributed randomly: for each ball, a bowl is chosen equiprobably and independently of the other balls. After this is done, we start the following process:</p>\n",
    "<ol>\n",
    "<li>Choose one of the $m$ balls equiprobably at random.</li>\n",
    "<li>Choose a direction to move - either clockwise or anticlockwise - again equiprobably at random.</li>\n",
    "<li>Move the chosen ball to the neighbouring bowl in the chosen direction.</li>\n",
    "<li>Return to step 1.</li>\n",
    "</ol>\n",
    "\n",
    "<p>This process stops when all the $m$ balls are located in the same bowl. Note that this may be after zero steps, if the balls happen to have been initially distributed all in the same bowl.</p>\n",
    "\n",
    "<p>Let $F(n, m)$ be the expected number of times we move a ball before the process stops. For example, $F(2, 2) = \\frac{1}{2}$, $F(3, 2) = \\frac{4}{3}$, $F(2, 3) = \\frac{9}{4}$, and $F(4, 5) = \\frac{6875}{24}$.</p>\n",
    "\n",
    "<p>Let $G(N, M) = \\sum_{n=2}^N \\sum_{m=2}^M F(n, m)$. For example, $G(3, 3) = \\frac{137}{12}$ and $G(4, 5) = \\frac{6277}{12}$. You are also given that $G(6, 6) \\approx 1.681521567954e4$ in scientific format with 12 significant digits after the decimal point.</p>\n",
    "\n",
    "<p>Find $G(12, 12)$. Give your answer in scientific format with 12 significant digits after the decimal point.</p>\n"
   ]
  },
  {
   "cell_type": "markdown",
   "id": "ad2337b0-8aa1-41d1-9767-643352a03db2",
   "metadata": {},
   "source": [
    "## Solution."
   ]
  },
  {
   "cell_type": "markdown",
   "id": "a880c457-0dda-4440-bb69-8ef9c424d82f",
   "metadata": {},
   "source": [
    "https://lips.cs.princeton.edu/the-fundamental-matrix-of-a-finite-markov-chain/"
   ]
  },
  {
   "cell_type": "code",
   "execution_count": 2,
   "id": "ab220afa-a7ea-416d-a557-1cb6476c55b5",
   "metadata": {},
   "outputs": [],
   "source": [
    "from math import factorial\n",
    "from functools import lru_cache\n",
    "from collections import defaultdict\n",
    "import numpy as np"
   ]
  },
  {
   "cell_type": "code",
   "execution_count": 25,
   "id": "57c484b4-3516-4509-8d7e-3a8d178986a6",
   "metadata": {},
   "outputs": [],
   "source": [
    "def neighbourhood(v):\n",
    "    N = set()\n",
    "    m = len(v)\n",
    "\n",
    "    for i in range(m):\n",
    "        if v[i] != 0:\n",
    "            v_1 = v.copy()\n",
    "            v_2 = v.copy()\n",
    "            if i == 0:\n",
    "                v_1[0] -= 1\n",
    "                v_2[0] -= 1\n",
    "                v_1[m-1] += 1\n",
    "                v_2[1] += 1\n",
    "            elif i == m-1:\n",
    "                v_1[m-1] -= 1\n",
    "                v_2[m-1] -= 1\n",
    "                v_1[m-2] += 1\n",
    "                v_2[1] += 1\n",
    "            else:\n",
    "                v_1[i] -= 1\n",
    "                v_2[i] -= 1\n",
    "                v_1[i-1] += 1\n",
    "                v_1[i+1] += 1\n",
    "        if v_1 not in N:\n",
    "            N.append(v_1)\n",
    "\n",
    "        if v_2 not in N:\n",
    "            N.append(v_2)\n",
    "\n",
    "    return N         "
   ]
  },
  {
   "cell_type": "code",
   "execution_count": 28,
   "id": "c7727c0b-3fe6-434f-974d-a94880ab47a9",
   "metadata": {},
   "outputs": [
    {
     "name": "stdout",
     "output_type": "stream",
     "text": [
      "[(0, 0, 0, 0, 0, 0, 0, 0, 0, 2, 4, 6), (0, 0, 0, 0, 0, 0, 0, 0, 1, 1, 2, 8), (0, 0, 0, 0, 0, 0, 0, 1, 2, 2, 3, 4), (0, 0, 1, 1, 1, 1, 1, 1, 1, 1, 1, 3), (0, 0, 0, 0, 0, 0, 1, 1, 1, 2, 2, 5), (0, 0, 0, 0, 0, 1, 1, 1, 2, 2, 2, 3), (0, 0, 1, 1, 1, 1, 1, 1, 1, 1, 2, 2), (0, 0, 0, 0, 1, 1, 1, 1, 1, 1, 2, 4), (0, 0, 0, 0, 0, 0, 0, 0, 0, 2, 3, 7), (0, 0, 0, 0, 0, 0, 1, 1, 1, 1, 4, 4), (0, 0, 0, 0, 0, 0, 0, 0, 0, 3, 4, 5), (0, 0, 0, 0, 0, 0, 1, 2, 2, 2, 2, 3), (0, 0, 0, 0, 0, 0, 0, 0, 0, 3, 3, 6), (0, 0, 0, 0, 0, 0, 0, 0, 1, 3, 4, 4), (0, 0, 0, 0, 0, 0, 0, 0, 0, 0, 5, 7), (0, 0, 0, 0, 0, 0, 0, 0, 0, 0, 3, 9), (0, 0, 0, 0, 0, 0, 0, 0, 2, 3, 3, 4), (0, 0, 0, 0, 0, 0, 0, 0, 0, 2, 5, 5), (0, 0, 0, 0, 0, 0, 2, 2, 2, 2, 2, 2), (0, 0, 0, 0, 0, 1, 1, 1, 1, 1, 2, 5), (0, 0, 0, 1, 1, 1, 1, 1, 1, 2, 2, 2), (0, 0, 0, 0, 1, 1, 1, 1, 1, 1, 1, 5), (0, 0, 0, 0, 0, 0, 0, 1, 1, 2, 4, 4), (0, 0, 0, 0, 0, 1, 1, 2, 2, 2, 2, 2), (0, 0, 0, 0, 1, 1, 1, 1, 1, 2, 2, 3), (0, 0, 0, 0, 0, 0, 0, 0, 1, 1, 1, 9), (0, 0, 0, 0, 0, 0, 0, 1, 2, 2, 2, 5), (0, 0, 0, 0, 0, 0, 0, 1, 1, 2, 3, 5), (0, 0, 0, 0, 0, 1, 1, 1, 1, 2, 2, 4), (0, 0, 0, 0, 0, 1, 1, 1, 1, 2, 3, 3), (0, 0, 0, 0, 0, 0, 0, 0, 1, 2, 4, 5), (0, 0, 0, 0, 0, 0, 0, 0, 0, 0, 6, 6), (0, 0, 0, 0, 0, 0, 0, 0, 3, 3, 3, 3), (0, 0, 0, 0, 0, 0, 0, 0, 1, 3, 3, 5), (1, 1, 1, 1, 1, 1, 1, 1, 1, 1, 1, 1), (0, 0, 0, 0, 0, 0, 0, 0, 0, 0, 4, 8), (0, 0, 0, 0, 0, 0, 0, 0, 0, 1, 5, 6), (0, 0, 0, 0, 0, 0, 0, 0, 0, 4, 4, 4), (0, 0, 0, 0, 0, 0, 0, 2, 2, 2, 3, 3), (0, 0, 0, 0, 0, 0, 1, 1, 1, 3, 3, 3), (0, 0, 0, 0, 0, 0, 0, 0, 0, 0, 2, 10), (0, 0, 0, 0, 0, 1, 1, 1, 1, 1, 3, 4), (0, 0, 0, 0, 0, 1, 1, 1, 1, 1, 1, 6), (0, 0, 0, 0, 0, 0, 0, 0, 0, 2, 2, 8), (0, 0, 0, 0, 0, 0, 0, 0, 0, 1, 1, 10), (0, 0, 0, 0, 1, 1, 1, 1, 2, 2, 2, 2), (0, 0, 0, 0, 0, 0, 1, 1, 1, 1, 3, 5), (0, 0, 0, 1, 1, 1, 1, 1, 1, 1, 1, 4), (0, 0, 0, 0, 0, 0, 1, 1, 1, 1, 1, 7), (0, 0, 0, 0, 0, 0, 1, 1, 1, 1, 2, 6), (0, 1, 1, 1, 1, 1, 1, 1, 1, 1, 1, 2), (0, 0, 0, 0, 0, 0, 1, 1, 1, 2, 3, 4), (0, 0, 0, 0, 0, 0, 0, 1, 1, 3, 3, 4), (0, 0, 0, 0, 1, 1, 1, 1, 1, 1, 3, 3), (0, 0, 0, 0, 0, 0, 1, 1, 2, 2, 2, 4), (0, 0, 0, 0, 0, 0, 1, 1, 2, 2, 3, 3), (0, 0, 0, 0, 0, 0, 0, 2, 2, 2, 2, 4), (0, 0, 0, 0, 0, 0, 0, 0, 0, 1, 3, 8), (0, 0, 0, 0, 0, 0, 0, 0, 0, 1, 4, 7), (0, 0, 0, 0, 0, 0, 0, 0, 0, 0, 0, 12), (0, 0, 0, 0, 0, 0, 0, 0, 0, 0, 1, 11), (0, 0, 0, 0, 0, 0, 0, 0, 2, 2, 4, 4), (0, 0, 0, 0, 0, 0, 0, 0, 0, 1, 2, 9), (0, 0, 0, 0, 0, 0, 0, 1, 1, 1, 4, 5), (0, 0, 0, 0, 0, 0, 0, 0, 2, 2, 3, 5), (0, 0, 0, 1, 1, 1, 1, 1, 1, 1, 2, 3), (0, 0, 0, 0, 0, 0, 0, 1, 1, 1, 2, 7), (0, 0, 0, 0, 0, 0, 0, 1, 1, 1, 3, 6), (0, 0, 0, 0, 0, 0, 0, 0, 2, 2, 2, 6), (0, 0, 0, 0, 0, 0, 0, 1, 1, 2, 2, 6), (0, 0, 0, 0, 0, 0, 0, 1, 1, 1, 1, 8), (0, 0, 0, 0, 0, 0, 0, 0, 1, 1, 5, 5), (0, 0, 0, 0, 0, 0, 0, 0, 1, 2, 3, 6), (0, 0, 0, 0, 0, 0, 0, 0, 1, 1, 3, 7), (0, 0, 0, 0, 0, 0, 0, 0, 1, 1, 4, 6), (0, 0, 0, 0, 0, 0, 0, 0, 1, 2, 2, 7), (0, 0, 0, 0, 0, 0, 0, 1, 2, 3, 3, 3)]\n"
     ]
    }
   ],
   "source": [
    "from itertools import combinations_with_replacement\n",
    "\n",
    "def construct_vertices(n, m):\n",
    "    from itertools import combinations_with_replacement\n",
    "    from sympy.utilities.iterables import multiset_permutations\n",
    "    \n",
    "    # Generate compositions of n into m parts\n",
    "    compositions = (c for c in combinations_with_replacement(range(n + 1), m) if sum(c) == n)\n",
    "    \n",
    "    # Convert compositions to permutations to avoid duplicates\n",
    "    results = set(tuple(sorted(p)) for comp in compositions for p in multiset_permutations(comp))\n",
    "    \n",
    "    return list(results)\n",
    "\n",
    "# Example Usage:\n",
    "n, m = 12, 12\n",
    "vertices = construct_vertices(n, m)\n"
   ]
  },
  {
   "cell_type": "code",
   "execution_count": 17,
   "id": "5350e7b9-f3c0-4503-a685-202b4b3278e4",
   "metadata": {},
   "outputs": [
    {
     "ename": "_IncompleteInputError",
     "evalue": "incomplete input (788055612.py, line 2)",
     "output_type": "error",
     "traceback": [
      "\u001b[1;36m  Cell \u001b[1;32mIn[17], line 2\u001b[1;36m\u001b[0m\n\u001b[1;33m    \u001b[0m\n\u001b[1;37m    ^\u001b[0m\n\u001b[1;31m_IncompleteInputError\u001b[0m\u001b[1;31m:\u001b[0m incomplete input\n"
     ]
    }
   ],
   "source": [
    "def construct_graph(n, m):\n",
    "    "
   ]
  },
  {
   "cell_type": "code",
   "execution_count": null,
   "id": "a99f5540-1f6d-4ec6-816d-b5d761adbd5a",
   "metadata": {},
   "outputs": [],
   "source": []
  },
  {
   "cell_type": "code",
   "execution_count": null,
   "id": "7b9e3245-1b7c-4bf2-88cf-8a04de408b2e",
   "metadata": {},
   "outputs": [],
   "source": []
  },
  {
   "cell_type": "code",
   "execution_count": null,
   "id": "2e498036-3129-4b21-ac87-16530cae941b",
   "metadata": {},
   "outputs": [],
   "source": []
  },
  {
   "cell_type": "code",
   "execution_count": null,
   "id": "e7fd0fdf-ddba-4fd8-ba85-97480c2fdbee",
   "metadata": {},
   "outputs": [],
   "source": []
  },
  {
   "cell_type": "code",
   "execution_count": null,
   "id": "38207997-6524-45f1-be0e-06835ac59114",
   "metadata": {},
   "outputs": [],
   "source": []
  },
  {
   "cell_type": "code",
   "execution_count": null,
   "id": "4092df2a-5857-438c-8926-9bbe37caec07",
   "metadata": {},
   "outputs": [],
   "source": []
  },
  {
   "cell_type": "code",
   "execution_count": null,
   "id": "e4213bf1-daef-448e-941a-2a35f1dfecdf",
   "metadata": {},
   "outputs": [],
   "source": []
  },
  {
   "cell_type": "code",
   "execution_count": null,
   "id": "e6765cf5-0842-4f79-aa10-ae1c64a0e92d",
   "metadata": {},
   "outputs": [],
   "source": []
  },
  {
   "cell_type": "code",
   "execution_count": null,
   "id": "485e63de-78e7-4937-8f9b-987503c8b518",
   "metadata": {},
   "outputs": [],
   "source": []
  }
 ],
 "metadata": {
  "kernelspec": {
   "display_name": "Python 3 (ipykernel)",
   "language": "python",
   "name": "python3"
  },
  "language_info": {
   "codemirror_mode": {
    "name": "ipython",
    "version": 3
   },
   "file_extension": ".py",
   "mimetype": "text/x-python",
   "name": "python",
   "nbconvert_exporter": "python",
   "pygments_lexer": "ipython3",
   "version": "3.13.0"
  }
 },
 "nbformat": 4,
 "nbformat_minor": 5
}
