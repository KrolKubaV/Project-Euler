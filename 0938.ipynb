{
 "cells": [
  {
   "cell_type": "markdown",
   "id": "1e0f09d9-5054-422e-bb4f-6d7d5a902512",
   "metadata": {},
   "source": [
    "# Problem 938 - Exhausting a Colour\n",
    "<p>\n",
    "A deck of cards contains $R$ red cards and $B$ black cards.<br>\n",
    "A card is chosen uniformly randomly from the deck and removed. A second card is then chosen uniformly randomly from the cards remaining and removed.</p>\n",
    "<ul>\n",
    "<li>\n",
    "If both cards are red, they are discarded.</li>\n",
    "<li>\n",
    "If both cards are black, they are both put back in the deck.</li>\n",
    "<li>\n",
    "If they are different colours, the red card is put back in the deck and the black card is discarded.</li></ul>\n",
    "<p>\n",
    "Play ends when all the remaining cards in the deck are the same colour and let $P(R,B)$ be the probability that this colour is black. </p>\n",
    "<p>\n",
    "You are given $P(2,2) = 0.4666666667$, $P(10,9) = 0.4118903397$ and $P(34,25) = 0.3665688069$.</p>\n",
    "<p>\n",
    "Find $P(24690,12345)$. Give your answer with 10 digits after the decimal point.</p>"
   ]
  },
  {
   "cell_type": "markdown",
   "id": "351b89a9-a602-41dc-a98c-09cab202e744",
   "metadata": {},
   "source": [
    "## Solution."
   ]
  },
  {
   "cell_type": "code",
   "execution_count": 1,
   "id": "08d70cbf-fd51-4541-97f3-33b92678d481",
   "metadata": {},
   "outputs": [],
   "source": [
    "from tqdm import tqdm\n",
    "from functools import cache, lru_cache"
   ]
  },
  {
   "cell_type": "code",
   "execution_count": 88,
   "id": "5adb9b00-8af2-425c-a490-aebd0b7edb3c",
   "metadata": {},
   "outputs": [],
   "source": [
    "@lru_cache(maxsize=30000)\n",
    "def P(R, B):\n",
    "    if R == 0:\n",
    "        return 1\n",
    "    if B == 0:\n",
    "        return 0\n",
    "\n",
    "    return (R*(R-1) * P(R-2, B) + 2*R*B * P(R, B-1))/((R+B) * (R+B-1)-B*(B-1))"
   ]
  },
  {
   "cell_type": "code",
   "execution_count": 82,
   "id": "8571a0f7-a547-482e-944a-a4643d3d0640",
   "metadata": {},
   "outputs": [],
   "source": [
    "R = 24690\n",
    "B = 12345"
   ]
  },
  {
   "cell_type": "code",
   "execution_count": 90,
   "id": "502dcbfb-aca2-4606-bb29-68bdeb28c337",
   "metadata": {},
   "outputs": [
    {
     "name": "stderr",
     "output_type": "stream",
     "text": [
      "100%|████████████████████████████████████████████████████████████████████████████| 12345/12345 [03:53<00:00, 52.96it/s]\n"
     ]
    }
   ],
   "source": [
    "for r in tqdm(range(2, R+2, 2)):\n",
    "    for b in range(1, B+1):\n",
    "        x = P(r, b)"
   ]
  },
  {
   "cell_type": "code",
   "execution_count": 91,
   "id": "0b3b03d7-ffdd-4d36-90e6-97e88bed49d8",
   "metadata": {},
   "outputs": [
    {
     "data": {
      "text/plain": [
       "0.29289679872936353"
      ]
     },
     "execution_count": 91,
     "metadata": {},
     "output_type": "execute_result"
    }
   ],
   "source": [
    "P(R,B)"
   ]
  },
  {
   "cell_type": "code",
   "execution_count": null,
   "id": "37e5c3f3-cc08-4daa-8112-a92a227a08b1",
   "metadata": {},
   "outputs": [],
   "source": []
  }
 ],
 "metadata": {
  "kernelspec": {
   "display_name": "Python 3 (ipykernel)",
   "language": "python",
   "name": "python3"
  },
  "language_info": {
   "codemirror_mode": {
    "name": "ipython",
    "version": 3
   },
   "file_extension": ".py",
   "mimetype": "text/x-python",
   "name": "python",
   "nbconvert_exporter": "python",
   "pygments_lexer": "ipython3",
   "version": "3.13.0"
  }
 },
 "nbformat": 4,
 "nbformat_minor": 5
}
