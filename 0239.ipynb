{
 "cells": [
  {
   "cell_type": "markdown",
   "id": "ba4e4ed5-2bd9-4c2b-b17c-76acbc3e1853",
   "metadata": {},
   "source": [
    "# Twenty-two Foolish Primes\n",
    "<p>A set of disks numbered $1$ through $100$ are placed in a line in random order.</p>\n",
    "\n",
    "<p>What is the probability that we have a partial derangement such that exactly $22$ prime number discs are found away from their natural positions?<br>\n",
    "(Any number of non-prime disks may also be found in or out of their natural positions.)</p>\n",
    "\n",
    "<p>Give your answer rounded to $12$ places behind the decimal point in the form 0.abcdefghijkl.</p>"
   ]
  },
  {
   "cell_type": "markdown",
   "id": "9b18bd35-d018-457c-b30a-1b6d3d3cfed1",
   "metadata": {},
   "source": [
    "## Solution."
   ]
  },
  {
   "cell_type": "code",
   "execution_count": 5,
   "id": "058bfbae-6f4e-4848-8664-ba302b069006",
   "metadata": {},
   "outputs": [],
   "source": [
    "from functools import cache"
   ]
  },
  {
   "cell_type": "code",
   "execution_count": 20,
   "id": "43c07913-8786-4408-86de-8cb24503a1c2",
   "metadata": {},
   "outputs": [],
   "source": [
    "@cache\n",
    "def factorial(n):\n",
    "    if n == 0:\n",
    "        return 1\n",
    "    return factorial(n-1) *n\n",
    "\n",
    "@cache\n",
    "def binom(n, k):\n",
    "    return factorial(n)/(factorial(k) * factorial(n-k))\n",
    "\n",
    "def dearrangament(n, k):\n",
    "    # number of dearrangements when elements 1-k are dearranged\n",
    "    return factorial(n) - sum(binom(k, i) *factorial(n-i) * (-1)**(i+1) for i in range(1, k+1))"
   ]
  },
  {
   "cell_type": "code",
   "execution_count": 1,
   "id": "5635beae-b877-438c-9411-b03d0cc88e74",
   "metadata": {},
   "outputs": [],
   "source": [
    "def generate_primes(N):\n",
    "    arr = [True] * (N + 1)\n",
    "    arr[0] = False\n",
    "    arr[1] = False\n",
    "\n",
    "    for i in range(4, N+1, 2):\n",
    "        arr[i] = False\n",
    "    \n",
    "    p = 3\n",
    "    while (p * p <= N):\n",
    "        if arr[p] == True:\n",
    "            for i in range(p * p, N + 1, p):\n",
    "                arr[i] = False\n",
    "        p += 2\n",
    "\n",
    "    primes = [p for p in range(2, N + 1) if arr[p]]\n",
    "    \n",
    "    return primes\n"
   ]
  },
  {
   "cell_type": "code",
   "execution_count": 3,
   "id": "8a3cb421-6e36-401b-84bb-e745dcd831ad",
   "metadata": {},
   "outputs": [
    {
     "data": {
      "text/plain": [
       "25"
      ]
     },
     "execution_count": 3,
     "metadata": {},
     "output_type": "execute_result"
    }
   ],
   "source": [
    "len(generate_primes(100))"
   ]
  },
  {
   "cell_type": "code",
   "execution_count": 21,
   "id": "9a517bc6-ca60-4c1e-9f9c-0afa999ee7bd",
   "metadata": {},
   "outputs": [
    {
     "data": {
      "text/plain": [
       "0.001887854841"
      ]
     },
     "execution_count": 21,
     "metadata": {},
     "output_type": "execute_result"
    }
   ],
   "source": [
    "round(binom(25,22) * dearrangament(97, 22) / factorial(100), 12)"
   ]
  },
  {
   "cell_type": "code",
   "execution_count": null,
   "id": "fe526220-dec5-4002-94c6-f1744474cc29",
   "metadata": {},
   "outputs": [],
   "source": []
  },
  {
   "cell_type": "code",
   "execution_count": null,
   "id": "0b0b759c-ee1e-4188-a7a0-41027722dda3",
   "metadata": {},
   "outputs": [],
   "source": []
  },
  {
   "cell_type": "code",
   "execution_count": null,
   "id": "5d74228a-71ab-4f91-9971-0accf16616f2",
   "metadata": {},
   "outputs": [],
   "source": []
  },
  {
   "cell_type": "code",
   "execution_count": null,
   "id": "1b42266e-c618-438a-a2a4-2fb1ad81390d",
   "metadata": {},
   "outputs": [],
   "source": []
  },
  {
   "cell_type": "code",
   "execution_count": null,
   "id": "e488e39c-ed01-4540-bfa7-f9b1d2cf13a6",
   "metadata": {},
   "outputs": [],
   "source": []
  }
 ],
 "metadata": {
  "kernelspec": {
   "display_name": "Python 3 (ipykernel)",
   "language": "python",
   "name": "python3"
  },
  "language_info": {
   "codemirror_mode": {
    "name": "ipython",
    "version": 3
   },
   "file_extension": ".py",
   "mimetype": "text/x-python",
   "name": "python",
   "nbconvert_exporter": "python",
   "pygments_lexer": "ipython3",
   "version": "3.13.0"
  }
 },
 "nbformat": 4,
 "nbformat_minor": 5
}
