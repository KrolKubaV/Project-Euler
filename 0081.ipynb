{
 "cells": [
  {
   "cell_type": "markdown",
   "id": "5373d39b-97ea-49a5-9937-d28a02d2bd71",
   "metadata": {},
   "source": [
    "# Path Sum: Two Ways - Problem 81\n",
    "<p>In the $5$ by $5$ matrix below, the minimal path sum from the top left to the bottom right, by <b>only moving to the right and down</b>, is indicated in bold red and is equal to $2427$.</p>\n",
    "<div class=\"center\">\n",
    "$$\n",
    "\\begin{pmatrix}\n",
    "\\color{red}{131} & 673 & 234 & 103 & 18\\\\\n",
    "\\color{red}{201} & \\color{red}{96} & \\color{red}{342} & 965 & 150\\\\\n",
    "630 & 803 & \\color{red}{746} & \\color{red}{422} & 111\\\\\n",
    "537 & 699 & 497 & \\color{red}{121} & 956\\\\\n",
    "805 & 732 & 524 & \\color{red}{37} & \\color{red}{331}\n",
    "\\end{pmatrix}\n",
    "$$\n",
    "</div>\n",
    "<p>Find the minimal path sum from the top left to the bottom right by only moving right and down in <a href=\"resources/documents/0081_matrix.txt\">matrix.txt</a> (right click and \"Save Link/Target As...\"), a 31K text file containing an $80$ by $80$ matrix.</p>"
   ]
  },
  {
   "cell_type": "markdown",
   "id": "c2e6275c-a00a-4549-88af-6ca85b8be8a9",
   "metadata": {},
   "source": [
    "## Solution."
   ]
  },
  {
   "cell_type": "code",
   "execution_count": 10,
   "id": "cc2500f6-e73f-4d3f-9a66-8e8ab70c2c2f",
   "metadata": {},
   "outputs": [],
   "source": [
    "with open('data_81.txt', 'r') as file:\n",
    "    s = file.read()\n",
    "\n",
    "data = [[int(x) for x in row.split(',') if x != ''] for row in s.split('\\n') if len(row)>0]"
   ]
  },
  {
   "cell_type": "code",
   "execution_count": 11,
   "id": "67fd9cae-b6e9-4a38-a982-1dfe08c6feca",
   "metadata": {},
   "outputs": [],
   "source": [
    "def dp(matrix):\n",
    "    n = len(matrix)\n",
    "    m = len(matrix[0])\n",
    "    dp = [[0]*m]*n\n",
    "\n",
    "    dp[0][0] = matrix[0][0]\n",
    "    for i in range(1, m):\n",
    "        dp[0][i] = dp[0][i-1] + matrix[0][i]\n",
    "\n",
    "    for i in range(1, n):\n",
    "        dp[i][0] = dp[i-1][0] + matrix[i][0]\n",
    "\n",
    "    for i in range(1, n):\n",
    "        for j in range(1, m):\n",
    "            dp[i][j] = min(dp[i-1][j], dp[i][j-1]) + matrix[i][j]\n",
    "\n",
    "    return dp[-1][-1]"
   ]
  },
  {
   "cell_type": "code",
   "execution_count": 12,
   "id": "2df0b481-df65-428a-9615-60935a129bea",
   "metadata": {},
   "outputs": [
    {
     "data": {
      "text/plain": [
       "427337"
      ]
     },
     "execution_count": 12,
     "metadata": {},
     "output_type": "execute_result"
    }
   ],
   "source": [
    "dp(data)"
   ]
  },
  {
   "cell_type": "code",
   "execution_count": null,
   "id": "5fb9edbe-8e70-40d5-8ea9-2cde23882d78",
   "metadata": {},
   "outputs": [],
   "source": []
  },
  {
   "cell_type": "code",
   "execution_count": null,
   "id": "60847e4c-ecc6-4763-830a-1900214850f8",
   "metadata": {},
   "outputs": [],
   "source": []
  },
  {
   "cell_type": "code",
   "execution_count": null,
   "id": "6072c97b-e6ac-4088-83cd-3e8d062532a8",
   "metadata": {},
   "outputs": [],
   "source": []
  },
  {
   "cell_type": "code",
   "execution_count": null,
   "id": "fc1e3d39-e1f5-4d79-8ec1-de62835e6359",
   "metadata": {},
   "outputs": [],
   "source": []
  },
  {
   "cell_type": "code",
   "execution_count": null,
   "id": "b8c87eed-2f50-4139-896d-53cb9f831f8d",
   "metadata": {},
   "outputs": [],
   "source": []
  },
  {
   "cell_type": "code",
   "execution_count": null,
   "id": "5a0e0cb0-a4d7-4726-bf38-53b901c6d97e",
   "metadata": {},
   "outputs": [],
   "source": []
  },
  {
   "cell_type": "code",
   "execution_count": null,
   "id": "e46576eb-5677-47f6-a25e-5e59d39fa467",
   "metadata": {},
   "outputs": [],
   "source": []
  },
  {
   "cell_type": "code",
   "execution_count": null,
   "id": "6fe02035-9646-4f4d-9cdc-842402a404e6",
   "metadata": {},
   "outputs": [],
   "source": []
  },
  {
   "cell_type": "code",
   "execution_count": null,
   "id": "bead9800-8d20-4b73-a639-30d5c16d5e47",
   "metadata": {},
   "outputs": [],
   "source": []
  },
  {
   "cell_type": "code",
   "execution_count": null,
   "id": "db122589-1b18-4c25-b0e3-44f72fa3ab2e",
   "metadata": {},
   "outputs": [],
   "source": []
  },
  {
   "cell_type": "code",
   "execution_count": null,
   "id": "87b22324-5d2a-41cb-90f0-109dbb139bd6",
   "metadata": {},
   "outputs": [],
   "source": []
  },
  {
   "cell_type": "code",
   "execution_count": null,
   "id": "c03f1baa-74b3-4fab-93d7-137c1c7a5ba0",
   "metadata": {},
   "outputs": [],
   "source": []
  }
 ],
 "metadata": {
  "kernelspec": {
   "display_name": "Python 3 (ipykernel)",
   "language": "python",
   "name": "python3"
  },
  "language_info": {
   "codemirror_mode": {
    "name": "ipython",
    "version": 3
   },
   "file_extension": ".py",
   "mimetype": "text/x-python",
   "name": "python",
   "nbconvert_exporter": "python",
   "pygments_lexer": "ipython3",
   "version": "3.12.4"
  }
 },
 "nbformat": 4,
 "nbformat_minor": 5
}
