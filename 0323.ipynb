{
 "cells": [
  {
   "cell_type": "markdown",
   "id": "1b690139-3278-4d61-8866-a7021ecc5a88",
   "metadata": {},
   "source": [
    "# Bitwise-OR Operations on Random Integers - Problem 323\n",
    "<p>Let $y_0, y_1, y_2, \\dots$ be a sequence of random unsigned $32$-bit integers<br>\n",
    "(i.e. $0 \\le y_i \\lt 2^{32}$, every value equally likely).</p>\n",
    "<p>For the sequence $x_i$ the following recursion is given:<br></p><ul><li>$x_0 = 0$ and</li>\n",
    "<li>$x_i = x_{i - 1} \\boldsymbol \\mid y_{i - 1}$, for $i \\gt 0$. ($\\boldsymbol \\mid$ is the bitwise-OR operator).</li>\n",
    "</ul><p>It can be seen that eventually there will be an index $N$ such that $x_i = 2^{32} - 1$ (a bit-pattern of all ones) for all $i \\ge N$.</p>\n",
    "\n",
    "<p>Find the expected value of $N$. <br>\n",
    "Give your answer rounded to $10$ digits after the decimal point.</p>"
   ]
  },
  {
   "cell_type": "markdown",
   "id": "02fd6353-2d9c-47ca-a34b-fb1775b721b8",
   "metadata": {},
   "source": [
    "## Solution."
   ]
  },
  {
   "cell_type": "code",
   "execution_count": 11,
   "id": "c431264d-b8df-45a8-ab5a-a70961c6ba3e",
   "metadata": {},
   "outputs": [],
   "source": [
    "import numpy as np\n",
    "from scipy.special import comb"
   ]
  },
  {
   "cell_type": "code",
   "execution_count": 16,
   "id": "e475f63f-617e-461b-8435-dc5f2793186c",
   "metadata": {},
   "outputs": [],
   "source": [
    "def construct_transition_matrix(n):\n",
    "    P = np.zeros((n+1, n+1))\n",
    "\n",
    "    for i in range(n+1):\n",
    "        for j in range(i, n+1):\n",
    "            coins = n-i\n",
    "            heads = j-i\n",
    "            P[i, j] = 1/2**coins * comb(coins, heads)\n",
    "\n",
    "    return P"
   ]
  },
  {
   "cell_type": "code",
   "execution_count": 7,
   "id": "62f47800-08a5-4755-a61f-31cfb8862657",
   "metadata": {},
   "outputs": [],
   "source": [
    "def calculate_fundamental_matrix(Q):\n",
    "    I = np.eye(Q.shape[0])\n",
    "    N = np.linalg.inv(I - Q)\n",
    "    return N\n",
    "\n",
    "def expected_time_to_absorption(N):\n",
    "    t = N.dot(np.ones((N.shape[0], 1)))\n",
    "    return t"
   ]
  },
  {
   "cell_type": "code",
   "execution_count": 24,
   "id": "c236d4cf-83dc-4354-bb9f-a29a5f6b185f",
   "metadata": {},
   "outputs": [
    {
     "name": "stdout",
     "output_type": "stream",
     "text": [
      "6.3551758451\n"
     ]
    }
   ],
   "source": [
    "n = 32\n",
    "P = construct_transition_matrix(n)\n",
    "transient_indices = list(range(n))\n",
    "Q = P[np.ix_(transient_indices, transient_indices)]\n",
    "\n",
    "N = calculate_fundamental_matrix(Q)\n",
    "t = expected_time_to_absorption(N)\n",
    "\n",
    "print(round(t[0][0], 10))"
   ]
  },
  {
   "cell_type": "code",
   "execution_count": null,
   "id": "6c8059c6-17f5-4505-8af2-3a8a536d2cf5",
   "metadata": {},
   "outputs": [],
   "source": []
  },
  {
   "cell_type": "code",
   "execution_count": null,
   "id": "ca4357c2-d844-4631-802a-62096797ef14",
   "metadata": {},
   "outputs": [],
   "source": []
  },
  {
   "cell_type": "code",
   "execution_count": null,
   "id": "8c3cc272-7a91-4c78-b3c1-da54346ce940",
   "metadata": {},
   "outputs": [],
   "source": []
  },
  {
   "cell_type": "code",
   "execution_count": null,
   "id": "e1520a3c-0b3e-4f2c-a4be-7032465bb05f",
   "metadata": {},
   "outputs": [],
   "source": []
  },
  {
   "cell_type": "code",
   "execution_count": null,
   "id": "b005598d-15b8-4f0c-905f-186f0bcf369b",
   "metadata": {},
   "outputs": [],
   "source": []
  },
  {
   "cell_type": "code",
   "execution_count": null,
   "id": "8dcb47d9-3be7-486b-a446-d6f673407738",
   "metadata": {},
   "outputs": [],
   "source": []
  },
  {
   "cell_type": "code",
   "execution_count": null,
   "id": "6049a1f7-8be2-462b-9494-935ee39d463e",
   "metadata": {},
   "outputs": [],
   "source": []
  }
 ],
 "metadata": {
  "kernelspec": {
   "display_name": "Python 3 (ipykernel)",
   "language": "python",
   "name": "python3"
  },
  "language_info": {
   "codemirror_mode": {
    "name": "ipython",
    "version": 3
   },
   "file_extension": ".py",
   "mimetype": "text/x-python",
   "name": "python",
   "nbconvert_exporter": "python",
   "pygments_lexer": "ipython3",
   "version": "3.12.4"
  }
 },
 "nbformat": 4,
 "nbformat_minor": 5
}
