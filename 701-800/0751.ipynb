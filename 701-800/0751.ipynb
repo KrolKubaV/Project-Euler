{
 "cells": [
  {
   "cell_type": "markdown",
   "id": "1f3443ba-0783-4eb3-8348-ca602bf0fdd1",
   "metadata": {},
   "source": [
    "# Concatenation Coincidence - Problem 751\n",
    "<p>A non-decreasing sequence of integers $a_n$ can be generated from any positive real value $\\theta$ by the following procedure:\n",
    "\\begin{align}\n",
    "\\begin{split}\n",
    "b_1 &= \\theta \\\\\n",
    "b_n &= \\left\\lfloor b_{n-1} \\right\\rfloor \\left(b_{n-1} - \\left\\lfloor b_{n-1} \\right\\rfloor + 1\\right)~~~\\forall ~ n \\geq 2 \\\\\n",
    "a_n &= \\left\\lfloor b_{n} \\right\\rfloor\n",
    "\\end{split}\n",
    "\\end{align}\n",
    "Where $\\left\\lfloor \\cdot \\right\\rfloor$ is the floor function.</p>\n",
    "\n",
    "<p>For example, $\\theta=2.956938891377988...$ generates the Fibonacci sequence: $2, 3, 5, 8, 13, 21, 34, 55, 89, ...$</p>\n",
    "\n",
    "<p>The <i>concatenation</i> of a sequence of positive integers $a_n$ is a real value denoted $\\tau$ constructed by concatenating the elements of the sequence after the decimal point, starting at $a_1$: $a_1.a_2a_3a_4...$</p>\n",
    "\n",
    "<p>For example, the Fibonacci sequence constructed from $\\theta=2.956938891377988...$ yields the concatenation $\\tau=2.3581321345589...$ Clearly, $\\tau \\neq \\theta$ for this value of $\\theta$.</p>\n",
    "\n",
    "<p>Find the only value of $\\theta$ for which the generated sequence starts at $a_1=2$ and the concatenation of the generated sequence equals the original value: $\\tau = \\theta$. Give your answer rounded to $24$ places after the decimal point.</p>"
   ]
  },
  {
   "cell_type": "markdown",
   "id": "be21cdf6-9fd8-4ca8-a72e-c004b5d77575",
   "metadata": {},
   "source": [
    "## Solution.\n",
    "https://arxiv.org/pdf/2010.15882"
   ]
  },
  {
   "cell_type": "code",
   "execution_count": null,
   "id": "d19645cc-a8ea-4ece-9b9e-14ab9724eb26",
   "metadata": {},
   "outputs": [],
   "source": [
    "from math import floor\n",
    "from decimal import *"
   ]
  },
  {
   "cell_type": "code",
   "execution_count": 68,
   "id": "6df30690-620b-4d87-802d-b44550cc4797",
   "metadata": {},
   "outputs": [
    {
     "name": "stdout",
     "output_type": "stream",
     "text": [
      "2.223561019313554106173177\n"
     ]
    }
   ],
   "source": [
    "N = 30\n",
    "getcontext().prec = N+2\n",
    "def generate_sequence(theta):\n",
    "    b = theta\n",
    "    s = str(floor(b)) + \".\"\n",
    "    while len(s) < N:\n",
    "        b = floor(b) * (b - floor(b) +1)\n",
    "        s+=str(floor(b))\n",
    "    return s\n",
    "\n",
    "def solve():\n",
    "    n = Decimal('2.0')\n",
    "    p10 = Decimal(1)\n",
    "    for l in range(N):\n",
    "        p10 /= 10\n",
    "        for i in range(10):\n",
    "            cur = n + i*p10\n",
    "            s = generate_sequence(cur)\n",
    "            if (str(cur)==s[:l+3]):\n",
    "                n=cur\n",
    "                break\n",
    "    return str(n)\n",
    "print(solve()[:26])"
   ]
  },
  {
   "cell_type": "code",
   "execution_count": null,
   "id": "d561b554-5650-4a6a-848b-3aedf0c937cd",
   "metadata": {},
   "outputs": [],
   "source": [
    "2.223561019313554106173177"
   ]
  },
  {
   "cell_type": "code",
   "execution_count": null,
   "id": "1ca39b08-9121-4f5e-9216-48703e7d68ac",
   "metadata": {},
   "outputs": [],
   "source": []
  },
  {
   "cell_type": "code",
   "execution_count": null,
   "id": "e4bc917c-92d1-48db-a5b1-cd093ed651cc",
   "metadata": {},
   "outputs": [],
   "source": []
  },
  {
   "cell_type": "code",
   "execution_count": null,
   "id": "09f7bf91-f205-409e-adbc-19efb4add4c1",
   "metadata": {},
   "outputs": [],
   "source": []
  },
  {
   "cell_type": "code",
   "execution_count": null,
   "id": "149f559a-ae73-4973-8107-9a0faa9b3355",
   "metadata": {},
   "outputs": [],
   "source": []
  },
  {
   "cell_type": "code",
   "execution_count": null,
   "id": "723c7e98-5a47-469c-803d-3b53ba85594b",
   "metadata": {},
   "outputs": [],
   "source": []
  },
  {
   "cell_type": "code",
   "execution_count": null,
   "id": "5ba5da3d-4630-4393-ab66-f1a5bd39d28b",
   "metadata": {},
   "outputs": [],
   "source": []
  },
  {
   "cell_type": "code",
   "execution_count": null,
   "id": "b7b5bde3-80f8-40bf-9dab-7f2611a8a671",
   "metadata": {},
   "outputs": [],
   "source": []
  }
 ],
 "metadata": {
  "kernelspec": {
   "display_name": "Python 3 (ipykernel)",
   "language": "python",
   "name": "python3"
  },
  "language_info": {
   "codemirror_mode": {
    "name": "ipython",
    "version": 3
   },
   "file_extension": ".py",
   "mimetype": "text/x-python",
   "name": "python",
   "nbconvert_exporter": "python",
   "pygments_lexer": "ipython3",
   "version": "3.12.4"
  }
 },
 "nbformat": 4,
 "nbformat_minor": 5
}
