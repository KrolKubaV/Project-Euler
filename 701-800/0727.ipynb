{
 "cells": [
  {
   "cell_type": "markdown",
   "id": "c00e7be0-6aa1-427a-8f69-16aa62b15f8e",
   "metadata": {},
   "source": [
    "# Triangle of Circular Arcs - Problem 727\n",
    "\n",
    "<p>Let $r_a$, $r_b$ and $r_c$ be the radii of three circles that are mutually and externally tangent to each other. The three circles then form a <dfn>triangle of circular arcs</dfn> between their tangency points as shown for the three blue circles in the picture below.</p>\n",
    "<p></p>\n",
    "<div class=\"center\">\n",
    "<img src=\"project/images/p727_circular_arcs.jpg\" alt=\"CircularArcs\" /></div>\n",
    "\n",
    "<p></p>\n",
    "Define the circumcircle of this triangle to be the red circle, with centre $D$, passing through their tangency points. Further define the incircle of this triangle to be the green circle, with centre $E$, that is mutually and externally tangent to all the three blue circles. Let $d=\\vert DE \\vert$ be the distance between the centres of the circumcircle and the incircle.\n",
    "<p>\n",
    "Let $\\mathbb{E}(d)$ be the expected value of $d$ when $r_a$, $r_b$ and $r_c$ are integers chosen uniformly such that $1\\leq r_a < r_b < r_c \\leq 100$ and $\\text{gcd}(r_a,r_b,r_c)=1$.</p>\n",
    "<p>\n",
    "Find $\\mathbb{E}(d)$, rounded to eight places after the decimal point.</p>"
   ]
  },
  {
   "cell_type": "markdown",
   "id": "7de7dead-00c8-40f0-a174-ac6ad91fde6a",
   "metadata": {},
   "source": [
    "## Solution."
   ]
  },
  {
   "cell_type": "code",
   "execution_count": 1,
   "id": "6c7f559d-601e-42f6-90c6-9b1130952a16",
   "metadata": {},
   "outputs": [],
   "source": [
    "from math import sqrt, gcd\n",
    "import numpy as np"
   ]
  },
  {
   "cell_type": "code",
   "execution_count": 10,
   "id": "39ff6c76-5ffc-4055-b9f3-94ba8bc5b8c6",
   "metadata": {},
   "outputs": [],
   "source": [
    "class CircularTriangle:\n",
    "    def __init__(self, r_1, r_2, r_3):\n",
    "        '''\n",
    "        Input them in decreasing order - otherwise point A gets messed up!\n",
    "        '''\n",
    "        self.r_1 = r_1\n",
    "        self.r_2 = r_2\n",
    "        self.r_3 = r_3\n",
    "\n",
    "    def r(self):\n",
    "        '''\n",
    "        Finds inradius given r_1, r_2, r_3.\n",
    "        '''\n",
    "        a = self.r_1 + self.r_2\n",
    "        b = self.r_2 + self.r_3\n",
    "        c = self.r_3 + self.r_1\n",
    "    \n",
    "        s = 0.5 * (a + b + c)\n",
    "        A = sqrt(s * (s - a) * (s - b) * (s - c))\n",
    "    \n",
    "        r = A / s\n",
    "        return r\n",
    "\n",
    "    def B(self):\n",
    "        return (-self.r_1, -self.r())\n",
    "\n",
    "    def C(self):\n",
    "        return (self.r_2, -self.r())\n",
    "\n",
    "    def A(self):\n",
    "        r_1 = self.r_1\n",
    "        r_2 = self.r_2\n",
    "        r_3 = self.r_3\n",
    "        r = self.r()\n",
    "        \n",
    "        t_b = r / r_1\n",
    "        t_g = -r / r_2\n",
    "\n",
    "        t_2b = 2 * t_b / (1 - t_b**2)\n",
    "        t_2g = 2 * t_g / (1 - t_g**2)\n",
    "\n",
    "        x_b, y_b = self.B()\n",
    "        x_c, y_c = self.C()\n",
    "\n",
    "        x_a = (t_2g * x_c - t_2b * x_b) / (t_2g - t_2b)\n",
    "        y_a = t_2b * (x_a - x_b) + y_b\n",
    "        y_a2 = t_2g * (x_a - x_c) + y_c\n",
    "\n",
    "        return (x_a, y_a)\n",
    "\n",
    "    def mystery_point(self):\n",
    "        x_a, y_a = self.A()\n",
    "        x_b, y_b = self.B()\n",
    "        x_c, y_c = self.C()\n",
    "\n",
    "        r_1 = self.r_1\n",
    "        r_2 = self.r_2\n",
    "        r_3 = self.r_3\n",
    "        r = self.r()\n",
    "\n",
    "\n",
    "        # Use Newton's method\n",
    "        def F(x, y):\n",
    "            f_1 = sqrt((x - x_a)**2 + (y - y_a)**2) - sqrt((x - x_b)**2 + (y - y_b)**2) + (r_1 - r_3)\n",
    "            f_2 = sqrt((x - x_a)**2 + (y - y_a)**2) - sqrt((x - x_c)**2 + (y - y_c)**2) + (r_2 - r_3)\n",
    "            return np.matrix([f_1, f_2]).T\n",
    "            \n",
    "\n",
    "        def J(x, y):\n",
    "            f_1x = (x-x_a) / sqrt((x - x_a)**2 + (y - y_a)**2) - (x-x_b) / sqrt((x - x_b)**2 + (y - y_b)**2) \n",
    "            f_2x = (x-x_a) / sqrt((x - x_a)**2 + (y - y_a)**2) - (x-x_c) / sqrt((x - x_c)**2 + (y - y_c)**2) \n",
    "            \n",
    "            f_1y = (y-y_a) / sqrt((x - x_a)**2 + (y - y_a)**2) - (y-y_b) / sqrt((x - x_b)**2 + (y - y_b)**2) \n",
    "            f_2y = (y-y_a) / sqrt((x - x_a)**2 + (y - y_a)**2) - (y-y_c) / sqrt((x - x_c)**2 + (y - y_c)**2) \n",
    "            return np.matrix([[f_1x, f_1y], [f_2x, f_2y]])\n",
    "\n",
    "\n",
    "        def update(x,y):\n",
    "            return np.matrix([x,y]).T - J(x,y).I * F(x,y)\n",
    "\n",
    "        x, y = 0.0, 0.0\n",
    "\n",
    "        for _ in range(10):\n",
    "            x, y = update(x, y).A1 \n",
    "            if np.linalg.norm(F(x, y)) < 1e-12: \n",
    "                break\n",
    "\n",
    "        return x, y\n",
    "\n",
    "    def mystery_point_eff(self):\n",
    "        x_a, y_a = self.A()\n",
    "        x_b, y_b = self.B()\n",
    "        x_c, y_c = self.C()\n",
    "\n",
    "        r_1 = self.r_1\n",
    "        r_2 = self.r_2\n",
    "        r_3 = self.r_3\n",
    "        r = self.r()\n",
    "\n",
    "        # Use Descarte's Theorem to find r_4 - radius of Soddy circle\n",
    "        k_1 = 1/r_1\n",
    "        k_2 = 1/r_2\n",
    "        k_3 = 1/r_3\n",
    "        k_4 = k_1 + k_2 + k_3 + 2 * sqrt(k_1 * k_2 + k_2 * k_3 + k_3 * k_1)\n",
    "        r_4 = 1 / k_4\n",
    "\n",
    "        x =   (-r_1**2 + r_2**2 + (r_1+r_4)**2 - (r_2+r_4)**2)/(2*r_1 + 2*r_2)\n",
    "        y = sqrt((r_1+r_4)**2 - (r_1+x)**2) - r\n",
    "\n",
    "        return x, y"
   ]
  },
  {
   "cell_type": "code",
   "execution_count": 11,
   "id": "366306a4-5723-4bf7-96ac-df1d852961e3",
   "metadata": {},
   "outputs": [],
   "source": [
    "a = CircularTriangle(3,2,1)"
   ]
  },
  {
   "cell_type": "code",
   "execution_count": 12,
   "id": "92da3f6f-612e-4c6d-8554-49bad956ad75",
   "metadata": {},
   "outputs": [
    {
     "data": {
      "text/plain": [
       "(np.float64(0.052173913043483434), np.float64(0.14782608695646468))"
      ]
     },
     "execution_count": 12,
     "metadata": {},
     "output_type": "execute_result"
    }
   ],
   "source": [
    "a.mystery_point()"
   ]
  },
  {
   "cell_type": "code",
   "execution_count": 13,
   "id": "b2ca4dbb-f4e1-4759-ab0c-5a9672778c48",
   "metadata": {},
   "outputs": [
    {
     "data": {
      "text/plain": [
       "(0.052173913043478314, 0.1478260869565211)"
      ]
     },
     "execution_count": 13,
     "metadata": {},
     "output_type": "execute_result"
    }
   ],
   "source": [
    "a.mystery_point_eff()"
   ]
  },
  {
   "cell_type": "code",
   "execution_count": 15,
   "id": "0b6b61e9-4eda-450f-a2e9-f7205602e816",
   "metadata": {},
   "outputs": [],
   "source": [
    "def distance_from_origin(x, y):\n",
    "    return sqrt(x**2 + y**2)"
   ]
  },
  {
   "cell_type": "code",
   "execution_count": 18,
   "id": "b01adaf3-0cd2-41d5-8c59-ff500a83a376",
   "metadata": {},
   "outputs": [],
   "source": [
    "total = 0\n",
    "n = 0\n",
    "\n",
    "for r_1 in range(100, 2, -1):\n",
    "    for r_2 in range(r_1-1, 1, -1):\n",
    "        for r_3 in range(r_2-1, 0, -1):\n",
    "            if gcd(r_1, r_2, r_3) == 1:\n",
    "                triangle = CircularTriangle(r_1, r_2, r_3)\n",
    "                x, y = triangle.mystery_point_eff()\n",
    "                total += distance_from_origin(x, y)\n",
    "                n += 1"
   ]
  },
  {
   "cell_type": "code",
   "execution_count": 19,
   "id": "ce036c93-2526-4c74-8148-cab9e3891397",
   "metadata": {
    "scrolled": true
   },
   "outputs": [
    {
     "name": "stdout",
     "output_type": "stream",
     "text": [
      "3.640391406429927\n"
     ]
    }
   ],
   "source": [
    "print(total/n)"
   ]
  },
  {
   "cell_type": "code",
   "execution_count": 145,
   "id": "fd851911-2578-482b-ae62-7afe292a18a0",
   "metadata": {},
   "outputs": [
    {
     "data": {
      "text/plain": [
       "135739"
      ]
     },
     "execution_count": 145,
     "metadata": {},
     "output_type": "execute_result"
    }
   ],
   "source": []
  },
  {
   "cell_type": "code",
   "execution_count": null,
   "id": "23761607-da8a-4158-9b27-077ecb947edd",
   "metadata": {},
   "outputs": [],
   "source": []
  },
  {
   "cell_type": "code",
   "execution_count": null,
   "id": "0242c544-0dbd-4269-9ac5-0afbf99c5dcb",
   "metadata": {},
   "outputs": [],
   "source": []
  },
  {
   "cell_type": "code",
   "execution_count": null,
   "id": "a53dd08a-417a-4e07-9c50-c1f01d083824",
   "metadata": {},
   "outputs": [],
   "source": []
  },
  {
   "cell_type": "code",
   "execution_count": null,
   "id": "5f7ae2c8-726a-4747-b6dc-dcc3cf9b8241",
   "metadata": {},
   "outputs": [],
   "source": []
  },
  {
   "cell_type": "code",
   "execution_count": null,
   "id": "70fd4b5d-3495-4ad8-8363-e718ec63c862",
   "metadata": {},
   "outputs": [],
   "source": []
  },
  {
   "cell_type": "code",
   "execution_count": null,
   "id": "9441b34f-ff78-4080-a18e-24ec4be8d538",
   "metadata": {},
   "outputs": [],
   "source": []
  },
  {
   "cell_type": "code",
   "execution_count": null,
   "id": "92a0a82f-0e84-48a6-942a-00edd5474124",
   "metadata": {},
   "outputs": [],
   "source": []
  },
  {
   "cell_type": "code",
   "execution_count": null,
   "id": "9962a0fc-401c-4f98-9cd9-9a3f611a83cd",
   "metadata": {},
   "outputs": [],
   "source": []
  },
  {
   "cell_type": "code",
   "execution_count": null,
   "id": "df558c47-ddc8-4db7-9072-209f27c57d02",
   "metadata": {},
   "outputs": [],
   "source": []
  },
  {
   "cell_type": "code",
   "execution_count": null,
   "id": "f54bdb17-4a1b-4306-a716-e8b5db01ef23",
   "metadata": {},
   "outputs": [],
   "source": []
  },
  {
   "cell_type": "code",
   "execution_count": null,
   "id": "31082878-ddf3-41b4-b46f-ae6ac46b6e71",
   "metadata": {},
   "outputs": [],
   "source": []
  },
  {
   "cell_type": "code",
   "execution_count": null,
   "id": "f0926095-ff3e-445c-8198-0825ddfa7430",
   "metadata": {},
   "outputs": [],
   "source": []
  },
  {
   "cell_type": "code",
   "execution_count": null,
   "id": "5e4a7df9-81e4-41c2-be68-705c337c9a8c",
   "metadata": {},
   "outputs": [],
   "source": []
  },
  {
   "cell_type": "code",
   "execution_count": null,
   "id": "bd5db790-8792-459f-a484-f3d7570ec636",
   "metadata": {},
   "outputs": [],
   "source": []
  }
 ],
 "metadata": {
  "kernelspec": {
   "display_name": "Python 3 (ipykernel)",
   "language": "python",
   "name": "python3"
  },
  "language_info": {
   "codemirror_mode": {
    "name": "ipython",
    "version": 3
   },
   "file_extension": ".py",
   "mimetype": "text/x-python",
   "name": "python",
   "nbconvert_exporter": "python",
   "pygments_lexer": "ipython3",
   "version": "3.12.4"
  }
 },
 "nbformat": 4,
 "nbformat_minor": 5
}
