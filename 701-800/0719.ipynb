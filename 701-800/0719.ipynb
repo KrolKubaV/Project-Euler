{
 "cells": [
  {
   "cell_type": "markdown",
   "id": "6ef15b93-5d4e-4599-b177-fe51ba2cdbee",
   "metadata": {},
   "source": [
    "# Number Splitting - Problem 719\n",
    "<p>\n",
    "We define an $S$-number to be a natural number, $n$, that is a perfect square and its square root can be obtained by splitting the decimal representation of $n$ into $2$ or more numbers then adding the numbers.\n",
    "</p>\n",
    "<p>\n",
    "For example, $81$ is an $S$-number because $\\sqrt{81} = 8+1$.<br>\n",
    "$6724$ is an $S$-number: $\\sqrt{6724} = 6+72+4$. <br>\n",
    "$8281$ is an $S$-number: $\\sqrt{8281} = 8+2+81 = 82+8+1$.<br>\n",
    "$9801$ is an $S$-number: $\\sqrt{9801}=98+0+1$.\n",
    "</p>\n",
    "<p>\n",
    "Further we define $T(N)$ to be the sum of all $S$ numbers $n\\le N$. You are given $T(10^4) = 41333$.\n",
    "</p>\n",
    "<p>\n",
    "Find $T(10^{12})$.\n",
    "</p>"
   ]
  },
  {
   "cell_type": "markdown",
   "id": "1f790aa1-59f5-4796-9c3a-e41089dab530",
   "metadata": {},
   "source": [
    "## Solution.\n",
    "1. We must have $n\\equiv \\sqrt{n} \\; (9)$, so $\\sqrt{n}\\equiv 0,1\\;  (9)$."
   ]
  },
  {
   "cell_type": "code",
   "execution_count": 143,
   "id": "52c6db6b-d295-4f57-8f04-bfcc736c8212",
   "metadata": {},
   "outputs": [],
   "source": [
    "from math import isqrt"
   ]
  },
  {
   "cell_type": "code",
   "execution_count": 213,
   "id": "fd82bbf3-76ef-4cc1-85f0-5695c0455f09",
   "metadata": {},
   "outputs": [],
   "source": [
    "def check(n, k):\n",
    "    '''\n",
    "    Checks if you can obtain k from n by splitting n.\n",
    "    n - integer\n",
    "    s - integer\n",
    "    '''\n",
    "    if n <= k:\n",
    "        return n == k\n",
    "    \n",
    "    str_n = str(n)\n",
    "    num_digits = len(str_n)\n",
    "    \n",
    "    for i in range(1, num_digits):\n",
    "        left_part = n % (10 ** i)\n",
    "        right_part = n // (10 ** i)\n",
    "    \n",
    "        if check(left_part, k - right_part):\n",
    "            return True\n",
    "\n",
    "    return False"
   ]
  },
  {
   "cell_type": "code",
   "execution_count": 214,
   "id": "d07f663a-61e3-4d5a-927b-1796a29767c1",
   "metadata": {},
   "outputs": [],
   "source": [
    "def sol719(N):\n",
    "    ans = 0\n",
    "    k = 9\n",
    "    mod = 0\n",
    "    limit = isqrt(N)\n",
    "    \n",
    "    while k < limit + 1:\n",
    "        if check(k**2, k):\n",
    "            ans += k**2\n",
    "        if mod == 0:\n",
    "            mod = 1\n",
    "            k += 1\n",
    "        else:\n",
    "            mod = 0\n",
    "            k += 8\n",
    "    \n",
    "    return ans"
   ]
  },
  {
   "cell_type": "code",
   "execution_count": 212,
   "id": "fd314e46-f214-4187-ab59-733fd0908b15",
   "metadata": {},
   "outputs": [
    {
     "data": {
      "text/plain": [
       "128088830547982"
      ]
     },
     "execution_count": 212,
     "metadata": {},
     "output_type": "execute_result"
    }
   ],
   "source": [
    "sol719(10**12)"
   ]
  },
  {
   "cell_type": "code",
   "execution_count": 207,
   "id": "388d69d7-ff1f-4477-be12-83525d92b5a6",
   "metadata": {},
   "outputs": [],
   "source": []
  }
 ],
 "metadata": {
  "kernelspec": {
   "display_name": "Python 3 (ipykernel)",
   "language": "python",
   "name": "python3"
  },
  "language_info": {
   "codemirror_mode": {
    "name": "ipython",
    "version": 3
   },
   "file_extension": ".py",
   "mimetype": "text/x-python",
   "name": "python",
   "nbconvert_exporter": "python",
   "pygments_lexer": "ipython3",
   "version": "3.13.0"
  }
 },
 "nbformat": 4,
 "nbformat_minor": 5
}
