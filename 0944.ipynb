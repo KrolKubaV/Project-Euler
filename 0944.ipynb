{
 "cells": [
  {
   "cell_type": "markdown",
   "id": "98248d04-e20a-4423-9c2a-64804f138277",
   "metadata": {},
   "source": [
    "# Problem 944 - Sum of Elevisors\n",
    "<p>\n",
    "Given a set $E$ of positive integers, an element $x$ of $E$ is called an <dfn>element divisor (elevisor)</dfn> of $E$ if $x$ divides <b>another</b> element of $E$.</p>\n",
    "\n",
    "<p>\n",
    "The sum of all elevisors of $E$ is denoted $\\operatorname{sev}(E)$.<br>\n",
    "For example, $\\operatorname{sev}(\\{1, 2, 5, 6\\}) = 1 + 2 = 3$.</p>\n",
    "\n",
    "<p>\n",
    "Let $S(n)$ be the sum of $\\operatorname{sev}(E)$ for all subsets $E$ of $\\{1, 2, \\dots, n\\}$.<br>\n",
    "You are given $S(10) = 4927$.</p>\n",
    "\n",
    "<p>\n",
    "Find $S(10^{14}) \\bmod 1234567891$.</p>"
   ]
  },
  {
   "cell_type": "markdown",
   "id": "aafaf570-48dd-4f52-8f01-2e433909a004",
   "metadata": {},
   "source": [
    "## Solution."
   ]
  },
  {
   "cell_type": "code",
   "execution_count": 110,
   "id": "6f0a3817-43df-42a7-9e71-270844d35b95",
   "metadata": {},
   "outputs": [],
   "source": [
    "def exp_mod(a, b, mod=1234567891):\n",
    "    result = 1\n",
    "    a = a % mod \n",
    "    while b > 0:\n",
    "        if b % 2 == 1:\n",
    "            result = (result * a) % mod\n",
    "        a = (a * a) % mod\n",
    "        b //= 2\n",
    "    return result"
   ]
  },
  {
   "cell_type": "code",
   "execution_count": 124,
   "id": "a0b989c2-c204-40cd-8133-37a462b761c9",
   "metadata": {},
   "outputs": [],
   "source": [
    "def S1(m, n, mod=1234567891):\n",
    "    return ((n-m+1)) * ((n+m)) // 2 % mod"
   ]
  },
  {
   "cell_type": "code",
   "execution_count": 141,
   "id": "096601ce-c761-4b05-b04b-8de1b3785ae7",
   "metadata": {},
   "outputs": [],
   "source": [
    "def F(n, mod=1234567891):\n",
    "    e = n//1\n",
    "    s = 0\n",
    "    \n",
    "    while e > 1:\n",
    "        s += S1(n//(e+1) + 1, n//e) * exp_mod(2, n-e) % mod\n",
    "        e = n//(n//e + 1)\n",
    "\n",
    "    return s % mod\n"
   ]
  },
  {
   "cell_type": "code",
   "execution_count": 142,
   "id": "346ddc9a-e890-415a-9d42-cf03dcdb34d3",
   "metadata": {},
   "outputs": [],
   "source": [
    "def E(n, mod=1234567891):\n",
    "    return (exp_mod(2, n-1) * S1(1, n//2) -  F(n)) % mod"
   ]
  },
  {
   "cell_type": "code",
   "execution_count": 143,
   "id": "f17f812a-d928-4d47-8016-13e543e84223",
   "metadata": {},
   "outputs": [
    {
     "data": {
      "text/plain": [
       "4927"
      ]
     },
     "execution_count": 143,
     "metadata": {},
     "output_type": "execute_result"
    }
   ],
   "source": [
    "E(10)"
   ]
  },
  {
   "cell_type": "code",
   "execution_count": 145,
   "id": "d9c19775-d30e-47c0-a0a5-581a7d50a29b",
   "metadata": {},
   "outputs": [
    {
     "data": {
      "text/plain": [
       "1228599511"
      ]
     },
     "execution_count": 145,
     "metadata": {},
     "output_type": "execute_result"
    }
   ],
   "source": [
    "E(10**14)"
   ]
  },
  {
   "cell_type": "markdown",
   "id": "378873df-bd42-48b0-a458-19291556f282",
   "metadata": {},
   "source": [
    "Answer: 1228599511"
   ]
  },
  {
   "cell_type": "code",
   "execution_count": null,
   "id": "6dd540c1-c817-4f75-97cf-dccf3ad87028",
   "metadata": {},
   "outputs": [],
   "source": []
  }
 ],
 "metadata": {
  "kernelspec": {
   "display_name": "Python 3 (ipykernel)",
   "language": "python",
   "name": "python3"
  },
  "language_info": {
   "codemirror_mode": {
    "name": "ipython",
    "version": 3
   },
   "file_extension": ".py",
   "mimetype": "text/x-python",
   "name": "python",
   "nbconvert_exporter": "python",
   "pygments_lexer": "ipython3",
   "version": "3.13.0"
  }
 },
 "nbformat": 4,
 "nbformat_minor": 5
}
