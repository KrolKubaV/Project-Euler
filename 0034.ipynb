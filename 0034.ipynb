{
 "cells": [
  {
   "cell_type": "markdown",
   "id": "98a03a90-b647-4820-85bb-e6161ad0ed1c",
   "metadata": {},
   "source": [
    "# Digit Factorials - Problem 34\n",
    "<p>$145$ is a curious number, as $1! + 4! + 5! = 1 + 24 + 120 = 145$.</p>\n",
    "<p>Find the sum of all numbers which are equal to the sum of the factorial of their digits.</p>\n",
    "<p class=\"smaller\">Note: As $1! = 1$ and $2! = 2$ are not sums they are not included.</p>\n"
   ]
  },
  {
   "cell_type": "markdown",
   "id": "32bd9362-c39e-4063-a673-ebf5bca66760",
   "metadata": {},
   "source": [
    "## Solution."
   ]
  },
  {
   "cell_type": "code",
   "execution_count": 6,
   "id": "34bb29ce-e013-461e-b99b-987a01fbcd30",
   "metadata": {},
   "outputs": [],
   "source": [
    "from math import factorial\n",
    "from tqdm import tqdm"
   ]
  },
  {
   "cell_type": "code",
   "execution_count": 5,
   "id": "1ef7c27f-92eb-46b7-9cd4-511064aec5a6",
   "metadata": {},
   "outputs": [
    {
     "name": "stdout",
     "output_type": "stream",
     "text": [
      "0 0 1 1\n",
      "1 362880 10 -362870\n",
      "2 725760 100 -725660\n",
      "3 1088640 1000 -1087640\n",
      "4 1451520 10000 -1441520\n",
      "5 1814400 100000 -1714400\n",
      "6 2177280 1000000 -1177280\n",
      "7 2540160 10000000 7459840\n",
      "8 2903040 100000000 97096960\n",
      "9 3265920 1000000000 996734080\n",
      "10 3628800 10000000000 9996371200\n",
      "11 3991680 100000000000 99996008320\n",
      "12 4354560 1000000000000 999995645440\n",
      "13 4717440 10000000000000 9999995282560\n",
      "14 5080320 100000000000000 99999994919680\n"
     ]
    }
   ],
   "source": [
    "ans = 0\n",
    "for i in range(15):\n",
    "    print(i, factorial(9)*i, 10**i, 10**i - factorial(9)*i)"
   ]
  },
  {
   "cell_type": "code",
   "execution_count": 7,
   "id": "f94f16b1-615e-462c-8b36-36d16acc31bc",
   "metadata": {},
   "outputs": [
    {
     "name": "stderr",
     "output_type": "stream",
     "text": [
      "  2%|█▍                                                                   | 109238/5080310 [00:00<00:09, 522135.86it/s]"
     ]
    },
    {
     "name": "stdout",
     "output_type": "stream",
     "text": [
      "145\n",
      "40585\n"
     ]
    },
    {
     "name": "stderr",
     "output_type": "stream",
     "text": [
      "100%|████████████████████████████████████████████████████████████████████| 5080310/5080310 [00:10<00:00, 500442.52it/s]"
     ]
    },
    {
     "name": "stdout",
     "output_type": "stream",
     "text": [
      "40730\n"
     ]
    },
    {
     "name": "stderr",
     "output_type": "stream",
     "text": [
      "\n"
     ]
    }
   ],
   "source": [
    "ans = 0\n",
    "for i in tqdm(range(10, factorial(9)*i)):\n",
    "    if sum([factorial(int(x)) for x in str(i)]) == i:\n",
    "        ans += i\n",
    "        print(i)\n",
    "\n",
    "print(ans)"
   ]
  },
  {
   "cell_type": "code",
   "execution_count": null,
   "id": "272fee8e-d7e0-4c74-873b-d8d3f385cab8",
   "metadata": {},
   "outputs": [],
   "source": []
  },
  {
   "cell_type": "code",
   "execution_count": null,
   "id": "a5e1d2f0-d7fe-46e6-94e4-8c3f550f721b",
   "metadata": {},
   "outputs": [],
   "source": []
  },
  {
   "cell_type": "code",
   "execution_count": null,
   "id": "7620efa7-a9b8-4330-bf92-fbebc3fb1335",
   "metadata": {},
   "outputs": [],
   "source": []
  },
  {
   "cell_type": "code",
   "execution_count": null,
   "id": "83f37c8d-55dd-485e-9fbc-75aefda6ef41",
   "metadata": {},
   "outputs": [],
   "source": []
  },
  {
   "cell_type": "code",
   "execution_count": null,
   "id": "73d5a959-de26-481b-964a-b80bafa80ac4",
   "metadata": {},
   "outputs": [],
   "source": []
  },
  {
   "cell_type": "code",
   "execution_count": null,
   "id": "83e21a50-34b4-4810-b810-a32395701519",
   "metadata": {},
   "outputs": [],
   "source": []
  },
  {
   "cell_type": "code",
   "execution_count": null,
   "id": "7a19a6c7-6759-44ac-9e07-34ddee012e79",
   "metadata": {},
   "outputs": [],
   "source": []
  },
  {
   "cell_type": "code",
   "execution_count": null,
   "id": "a4f9b6c0-5e7c-42c6-b011-cdce2cc8d9f6",
   "metadata": {},
   "outputs": [],
   "source": []
  },
  {
   "cell_type": "code",
   "execution_count": null,
   "id": "46264378-7661-4a0c-a20a-ff5780b60437",
   "metadata": {},
   "outputs": [],
   "source": []
  },
  {
   "cell_type": "code",
   "execution_count": null,
   "id": "ae159266-96ae-43e2-be64-0b3af0b139b5",
   "metadata": {},
   "outputs": [],
   "source": []
  },
  {
   "cell_type": "code",
   "execution_count": null,
   "id": "1c4fe6aa-917c-4e1a-81a0-56461065a519",
   "metadata": {},
   "outputs": [],
   "source": []
  },
  {
   "cell_type": "code",
   "execution_count": null,
   "id": "fde1dedb-afa6-4c5d-b599-39ab1a43391b",
   "metadata": {},
   "outputs": [],
   "source": []
  },
  {
   "cell_type": "code",
   "execution_count": null,
   "id": "8f72605c-fef2-4d86-a2d3-60c2f0c72b84",
   "metadata": {},
   "outputs": [],
   "source": []
  },
  {
   "cell_type": "code",
   "execution_count": null,
   "id": "80086598-e796-4f98-9ba1-191d41959d4c",
   "metadata": {},
   "outputs": [],
   "source": []
  },
  {
   "cell_type": "code",
   "execution_count": null,
   "id": "f20d433a-d960-4717-97dd-74ffa130c5eb",
   "metadata": {},
   "outputs": [],
   "source": []
  },
  {
   "cell_type": "code",
   "execution_count": null,
   "id": "63c66788-e5e1-4f79-9b2e-2bd46fc436c8",
   "metadata": {},
   "outputs": [],
   "source": []
  }
 ],
 "metadata": {
  "kernelspec": {
   "display_name": "Python 3 (ipykernel)",
   "language": "python",
   "name": "python3"
  },
  "language_info": {
   "codemirror_mode": {
    "name": "ipython",
    "version": 3
   },
   "file_extension": ".py",
   "mimetype": "text/x-python",
   "name": "python",
   "nbconvert_exporter": "python",
   "pygments_lexer": "ipython3",
   "version": "3.12.4"
  }
 },
 "nbformat": 4,
 "nbformat_minor": 5
}
