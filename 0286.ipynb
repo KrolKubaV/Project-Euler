{
 "cells": [
  {
   "cell_type": "markdown",
   "id": "7b9af90c-3ea3-4400-bad8-f3b4701046e9",
   "metadata": {},
   "source": [
    "# Scoring Probabilities  Problem 286\n",
    "<p>Barbara is a mathematician and a basketball player. She has found that the probability of scoring a point when shooting from a distance $x$ is exactly $(1 - x / q)$, where $q$ is a real constant greater than $50$.</p>\n",
    "\n",
    "<p>During each practice run, she takes shots from distances $x = 1, x = 2, \\dots, x = 50$ and, according to her records, she has precisely a $2\\%$ chance to score a total of exactly $20$ points.</p>\n",
    "\n",
    "<p>Find $q$ and give your answer rounded to $10$ decimal places.</p>"
   ]
  },
  {
   "cell_type": "markdown",
   "id": "61f793ae-dedd-441c-88d8-f95d7877b6de",
   "metadata": {},
   "source": [
    "## Solution."
   ]
  },
  {
   "cell_type": "code",
   "execution_count": 28,
   "id": "a942bc0c-0880-49ee-9ecd-1d26c62dad54",
   "metadata": {},
   "outputs": [],
   "source": [
    "from math import sqrt\n",
    "import scipy.stats as stats\n",
    "from scipy.optimize import brentq\n",
    "from functools import lru_cache"
   ]
  },
  {
   "cell_type": "code",
   "execution_count": 157,
   "id": "b6ee8905-e23a-4b71-8e99-41bf5713fe85",
   "metadata": {},
   "outputs": [],
   "source": [
    "def p_s(x, q):\n",
    "    ''' Re probability of scoring'''\n",
    "    return 1-x/q"
   ]
  },
  {
   "cell_type": "code",
   "execution_count": 278,
   "id": "66e0dcb0-55b9-440f-9757-c0b9ef8f64e3",
   "metadata": {},
   "outputs": [],
   "source": [
    "@lru_cache(maxsize=None)\n",
    "def P(n, k, q):\n",
    "    ''' Finds probability of scoring exactyly k times out of n shots from x=1, x=2, ..., x=n'''\n",
    "    if k > n:\n",
    "        return 0\n",
    "    if n == 1:\n",
    "        if k == 1:\n",
    "            return p_s(1, q)\n",
    "        if k == 0:\n",
    "            return 1-p_s(1, q)\n",
    "        return 0\n",
    "\n",
    "    return p_s(n, q) * P(n-1, k-1, q) + (1-p_s(n, q)) * P(n-1, k, q)"
   ]
  },
  {
   "cell_type": "code",
   "execution_count": 280,
   "id": "9ebfcecf-79b0-4d25-bcd6-3f98bc884f69",
   "metadata": {},
   "outputs": [],
   "source": [
    "def find_q_bisection(n, k, p, a=50, b=70, tol=1e-13, max_iter=10000):\n",
    "    ''' Bisection method to find q such that P(n, k, q) == p '''\n",
    "    fa = P(n, k, a) - p\n",
    "    fb = P(n, k, b) - p\n",
    "    if fa * fb > 0:\n",
    "        raise ValueError(\"Bisection method requires a sign change in the interval\")\n",
    "\n",
    "    for i in range(max_iter):\n",
    "        c = (a + b) / 2\n",
    "        fc = P(n, k, c) - p\n",
    "        if abs(fc) < tol or (b - a) / 2 < tol:\n",
    "            return round(c, 10)\n",
    "        if fa * fc < 0:\n",
    "            b = c\n",
    "            fb = fc\n",
    "        else:\n",
    "            a = c\n",
    "            fa = fc\n",
    "    raise ValueError(\"Bisection method did not converge\")"
   ]
  },
  {
   "cell_type": "code",
   "execution_count": 284,
   "id": "250a1d1d-af87-483d-aff2-6e6eed42f091",
   "metadata": {},
   "outputs": [
    {
     "data": {
      "text/plain": [
       "59.9963378812"
      ]
     },
     "execution_count": 284,
     "metadata": {},
     "output_type": "execute_result"
    }
   ],
   "source": [
    "find_q_bisection(500, 200, 0.02)"
   ]
  }
 ],
 "metadata": {
  "kernelspec": {
   "display_name": "Python 3 (ipykernel)",
   "language": "python",
   "name": "python3"
  },
  "language_info": {
   "codemirror_mode": {
    "name": "ipython",
    "version": 3
   },
   "file_extension": ".py",
   "mimetype": "text/x-python",
   "name": "python",
   "nbconvert_exporter": "python",
   "pygments_lexer": "ipython3",
   "version": "3.12.4"
  }
 },
 "nbformat": 4,
 "nbformat_minor": 5
}
