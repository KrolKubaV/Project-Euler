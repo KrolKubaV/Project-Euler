{
 "cells": [
  {
   "cell_type": "markdown",
   "id": "6f33b511-b1df-4b9d-9a24-599eef23c29d",
   "metadata": {},
   "source": [
    "# Problem 935 - Unlucky Primes\n",
    "<p>We define the <i>unlucky prime</i> of a number $n$, denoted $u(n)$, as the smallest prime number $p$ such that the remainder of $n$ divided by $p$ (i.e. $n \\bmod p$) is not a multiple of seven.<br>\n",
    "For example, $u(14) = 3$, $u(147) = 2$ and $u(1470) = 13$.</p>\n",
    "\n",
    "<p>Let $U(N)$ be the sum $\\sum_{n = 1}^N u(n)$.<br>\n",
    "You are given $U(1470) = 4293$.</p>\n",
    "\n",
    "<p>Find $U(10^{17})$.</p>"
   ]
  },
  {
   "cell_type": "markdown",
   "id": "011fef06-41ce-45e8-94db-8bd82cc571d2",
   "metadata": {},
   "source": [
    "### Solution."
   ]
  },
  {
   "cell_type": "markdown",
   "id": "b3416d23-be18-4dd2-b7e5-f455f45188a1",
   "metadata": {},
   "source": [
    "https://en.wikipedia.org/wiki/Chinese_remainder_theorem"
   ]
  },
  {
   "cell_type": "code",
   "execution_count": 50,
   "id": "96a3c9a0-1908-4df9-bd22-8c37891110e5",
   "metadata": {},
   "outputs": [],
   "source": [
    "from functools import lru_cache, reduce\n",
    "from collections import defaultdict\n",
    "from math import ceil, prod, gcd\n",
    "import matplotlib.pyplot as plt\n",
    "from tqdm import tqdm\n",
    "import timeit"
   ]
  },
  {
   "cell_type": "code",
   "execution_count": 20,
   "id": "d6dd5082-b043-407f-afee-0211d7ea6cbe",
   "metadata": {},
   "outputs": [],
   "source": [
    "def generate_primes(N):\n",
    "    if N < 2:\n",
    "        return []\n",
    "\n",
    "    primes = [True] * (N + 1)\n",
    "    primes[0] = primes[1] = False\n",
    "    \n",
    "    for i in range(2, int(N**0.5) + 1):\n",
    "        if primes[i]:\n",
    "            for j in range(i * i, N + 1, i):\n",
    "                primes[j] = False\n",
    "    \n",
    "    return [i for i, is_prime in enumerate(primes) if is_prime]\n",
    "\n",
    "primes = generate_primes(10000)"
   ]
  },
  {
   "cell_type": "code",
   "execution_count": 44,
   "id": "2e6ab9ef-edde-4c40-a5f8-7366b56b6940",
   "metadata": {},
   "outputs": [],
   "source": [
    "from math import gcd\n",
    "\n",
    "@lru_cache\n",
    "def mod_inverse(a, m):\n",
    "    m0, x0, x1 = m, 0, 1\n",
    "    while a > 1:\n",
    "        q = a // m\n",
    "        a, m = m, a % m\n",
    "        x0, x1 = x1 - q * x0, x0\n",
    "    return x1 + m0 if x1 < 0 else x1\n",
    "\n",
    "\n",
    "def solve_crt(a, m):\n",
    "    a1, a2 = a\n",
    "    m1, m2 = m\n",
    "    \n",
    "    M = m1 * m2\n",
    "    M1, M2 = M // m1, M // m2\n",
    "    inv1, inv2 = mod_inverse(M1, m1), mod_inverse(M2, m2)\n",
    "    \n",
    "    x = (a1 * M1 * inv1 + a2 * M2 * inv2) % M\n",
    "    return x % M\n"
   ]
  },
  {
   "cell_type": "code",
   "execution_count": 45,
   "id": "45172480-cb10-4fd2-9ddb-43d469fb8f22",
   "metadata": {},
   "outputs": [],
   "source": [
    "def U(N):\n",
    "    ans = 0\n",
    "    queue = [(0, 2, 2), (1, 2, 2)]\n",
    "    \n",
    "    i = 1\n",
    "    total = 0\n",
    "    while total != N:\n",
    "        next_prime = primes[i]\n",
    "        new_queue = []\n",
    "\n",
    "        for q in queue:\n",
    "            r, p, product = q\n",
    "\n",
    "            if r <= N:\n",
    "                if r % p % 7 != 0:\n",
    "                    ans += N//product * p\n",
    "                    total += N//product\n",
    "\n",
    "                    if r <= N % product:\n",
    "                        ans += p\n",
    "                        total += 1\n",
    "                \n",
    "                else:\n",
    "                    for j in range(1, next_prime+1):\n",
    "                        new_queue.append((solve_crt([r, j], [product, next_prime]), next_prime, product * next_prime))\n",
    "\n",
    "        i += 1\n",
    "        queue = new_queue\n",
    "\n",
    "\n",
    "    return ans"
   ]
  },
  {
   "cell_type": "code",
   "execution_count": 57,
   "id": "f569f583-8f04-468d-a6dd-56c6a4234a31",
   "metadata": {},
   "outputs": [
    {
     "data": {
      "text/plain": [
       "0.0001"
      ]
     },
     "execution_count": 57,
     "metadata": {},
     "output_type": "execute_result"
    }
   ],
   "source": [
    "round(timeit.timeit(\"U(10000)\", globals=globals(), number=1),5)"
   ]
  },
  {
   "cell_type": "code",
   "execution_count": 59,
   "id": "a46e41c6-ea62-4225-b9e4-9c9d09516e9d",
   "metadata": {},
   "outputs": [
    {
     "name": "stdout",
     "output_type": "stream",
     "text": [
      "1 27\n",
      "2 288\n",
      "3 2914\n",
      "4 29202\n",
      "5 292128\n",
      "6 2921350\n",
      "7 29213782\n",
      "8 292137790\n",
      "9 2921378026\n",
      "10 29213780802\n",
      "11 292137809368\n",
      "12 2921378094786\n",
      "13 29213780949138\n",
      "14 292137809489660\n",
      "15 2921378094903954\n",
      "16 29213780949043308\n",
      "17 292137809490441370\n"
     ]
    }
   ],
   "source": [
    "for i in range(1, 18):\n",
    "    print(i, U(10**i))"
   ]
  },
  {
   "cell_type": "markdown",
   "id": "9880d689-46dc-4b56-a9f1-75f7148a78ac",
   "metadata": {},
   "source": [
    "ANS: $U(10^{17}) = 292137809490441370$."
   ]
  },
  {
   "cell_type": "markdown",
   "id": "329ed416-3ecf-4a85-bec7-7fa66ae00b06",
   "metadata": {},
   "source": [
    "## Simulation."
   ]
  },
  {
   "cell_type": "code",
   "execution_count": 12,
   "id": "84d8a940-bd75-456e-97d2-bb114792a23b",
   "metadata": {},
   "outputs": [],
   "source": [
    "from sympy import primerange\n",
    "\n",
    "def u(n):\n",
    "    for p in primerange(1, 2*n+1):\n",
    "        if (n % p) % 7 != 0:\n",
    "            return p\n",
    "\n",
    "def U_sim(N):\n",
    "    ans = 0\n",
    "    for n in range(1, N+1):\n",
    "        ans += u(n)\n",
    "    return ans"
   ]
  },
  {
   "cell_type": "code",
   "execution_count": 13,
   "id": "d377ca70-d212-4fae-9c39-477cd700137e",
   "metadata": {
    "scrolled": true
   },
   "outputs": [
    {
     "name": "stderr",
     "output_type": "stream",
     "text": [
      "100%|██████████████████████████████████████████████████████████████████████████| 1000/1000 [00:00<00:00, 325013.87it/s]\n"
     ]
    },
    {
     "data": {
      "text/plain": [
       "(2914, defaultdict(int, {2: 500, 3: 334, 5: 133, 7: 29, 11: 4}))"
      ]
     },
     "execution_count": 13,
     "metadata": {},
     "output_type": "execute_result"
    }
   ],
   "source": [
    "freq = defaultdict(int)\n",
    "\n",
    "N = 10**3\n",
    "for n in tqdm(range(1, N+1)):\n",
    "    freq[u(n)] += 1\n",
    "\n",
    "U_sim(n), freq"
   ]
  },
  {
   "cell_type": "code",
   "execution_count": null,
   "id": "d43e1896-8f6d-469c-b1ba-c9f2510e6dde",
   "metadata": {},
   "outputs": [],
   "source": []
  },
  {
   "cell_type": "code",
   "execution_count": null,
   "id": "fdeb9cdc-8508-4308-99d1-7ee9b051b52e",
   "metadata": {},
   "outputs": [],
   "source": []
  },
  {
   "cell_type": "code",
   "execution_count": null,
   "id": "bf3f95ed-772a-41af-9884-4e5abcfb9608",
   "metadata": {},
   "outputs": [],
   "source": []
  },
  {
   "cell_type": "code",
   "execution_count": null,
   "id": "6252bdf0-500f-4084-b3b4-ae7be5b64acd",
   "metadata": {},
   "outputs": [],
   "source": []
  },
  {
   "cell_type": "code",
   "execution_count": null,
   "id": "b881a55c-98dc-4359-b2bb-7e90d6558b13",
   "metadata": {},
   "outputs": [],
   "source": []
  },
  {
   "cell_type": "code",
   "execution_count": null,
   "id": "2c29bc79-b881-4d26-ac43-33edc16825b9",
   "metadata": {},
   "outputs": [],
   "source": []
  },
  {
   "cell_type": "code",
   "execution_count": null,
   "id": "c48370e1-d38d-4ba2-8aaa-6bcc6c077136",
   "metadata": {},
   "outputs": [],
   "source": []
  },
  {
   "cell_type": "code",
   "execution_count": null,
   "id": "d51b9a64-556f-42e8-913c-eee15415d037",
   "metadata": {},
   "outputs": [],
   "source": []
  },
  {
   "cell_type": "code",
   "execution_count": null,
   "id": "152c4ca6-00de-4373-a948-5e4fd9f58a3d",
   "metadata": {},
   "outputs": [],
   "source": []
  }
 ],
 "metadata": {
  "kernelspec": {
   "display_name": "Python 3 (ipykernel)",
   "language": "python",
   "name": "python3"
  },
  "language_info": {
   "codemirror_mode": {
    "name": "ipython",
    "version": 3
   },
   "file_extension": ".py",
   "mimetype": "text/x-python",
   "name": "python",
   "nbconvert_exporter": "python",
   "pygments_lexer": "ipython3",
   "version": "3.13.0"
  }
 },
 "nbformat": 4,
 "nbformat_minor": 5
}
