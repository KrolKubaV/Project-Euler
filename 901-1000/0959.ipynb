{
 "cells": [
  {
   "cell_type": "markdown",
   "id": "49d3a7f6",
   "metadata": {},
   "source": [
    "# Problem 959 – Asymmetric Random Walk\n",
    "\n",
    "A frog is placed on the number line. Every step, the frog jumps either $a$ units to the left or $b$ units to the right, both with probability $\\frac{1}{2}$.\n",
    "\n",
    "Define $f(a, b)$ as the limit\n",
    "$$\n",
    "f(a, b) = \\lim_{n \\to \\infty} \\frac{c_n}{n}\n",
    "$$\n",
    "where $c_n$ is the expected number of unique numbers visited in the first $n$ steps.\n",
    "\n",
    "You are given:\n",
    "- $f(1, 1) = 0$\n",
    "- $f(1, 2) \\approx 0.427050983$\n",
    "\n",
    "Find $f(89, 97)$. Give your answer rounded to nine digits after the decimal point.\n",
    "## Solution."
   ]
  },
  {
   "cell_type": "markdown",
   "id": "eb53c7a0",
   "metadata": {},
   "source": [
    "Let $S_n$ be a one-dimensional random walk with steps $+a$ and $-b$.  \n",
    "\n",
    "- Let $u_n = \\Pr(S_n = 0)$ denote the probability of being at the origin at step $n$.  \n",
    "- Let $f_n(x) = \\Pr(\\text{first visit to site } x \\text{ occurs at step } n)$ be the **first-hit probability**.  \n",
    "- Let $g_n = \\sum_{x\\in \\mathbb{Z}} f_n(x)$ be the probability that step $n$ visits a **new site**.  \n",
    "- Let $c_n = \\sum_{k=1}^n g_k$ be the expected number of distinct sites visited after $n$ steps.\n",
    "\n",
    "A site $x$ can be visited at step $n$ either for the first time at some earlier step $m$, followed by returning to $x$ in the remaining $n-m$ steps. This gives\n",
    "$$\n",
    "p_n(x) = \\sum_{m=0}^n f_m(x) \\, u_{n-m}.\n",
    "$$\n",
    "Summing over all sites $x$ yields\n",
    "$$\n",
    "\\sum_{m=0}^n g_m \\, u_{n-m} = 1,\n",
    "$$\n",
    "which is the **renewal equation** for $g_n$.\n",
    "\n",
    "$$\n",
    "U(z) = \\sum_{n\\ge0} u_n z^n, \\quad G(z) = \\sum_{n\\ge0} g_n z^n \\quad \\Rightarrow \\quad G(z) U(z) = \\frac{1}{1-z} \\quad \\Rightarrow \\quad G(z) = \\frac{1}{(1-z) U(z)}.\n",
    "$$\n",
    "\n",
    "$$\n",
    "\\lim_{n\\to\\infty} \\frac{c_n}{n} = \\lim_{z\\to 1^-} (1-z) G(z) = \\frac{1}{\\sum_{n\\ge0} u_n}.\n",
    "$$\n",
    "\n",
    "$$\n",
    "\\frac{c_n}{n} \\approx \\frac{1}{\\sum_{k=0}^{N} u_k} \\quad \\text{for large } N.\n",
    "$$\n"
   ]
  },
  {
   "cell_type": "code",
   "execution_count": 23,
   "id": "449279fc",
   "metadata": {},
   "outputs": [],
   "source": [
    "import math\n",
    "import numpy as np"
   ]
  },
  {
   "cell_type": "code",
   "execution_count": null,
   "id": "cde52620",
   "metadata": {},
   "outputs": [],
   "source": [
    "def u_arr(n, a, b):\n",
    "    u = np.zeros(n + 1, dtype=np.float64)\n",
    "\n",
    "    for m in range(n + 1):\n",
    "        if (b * m) % (a+b) == 0:\n",
    "            k = (b * m) // (a+b)\n",
    "            if 0 <= k <= m:\n",
    "                u[m] = math.comb(m, k) / (2 ** m)\n",
    "    return u"
   ]
  },
  {
   "cell_type": "code",
   "execution_count": 46,
   "id": "6b292283",
   "metadata": {},
   "outputs": [],
   "source": [
    "def f(a, b, n=20000):\n",
    "    return round(1/sum(u_arr(n, a, b)), 9)"
   ]
  },
  {
   "cell_type": "code",
   "execution_count": 47,
   "id": "b901f332",
   "metadata": {},
   "outputs": [
    {
     "data": {
      "text/plain": [
       "np.float64(0.427050983)"
      ]
     },
     "execution_count": 47,
     "metadata": {},
     "output_type": "execute_result"
    }
   ],
   "source": [
    "f(1,2)"
   ]
  },
  {
   "cell_type": "code",
   "execution_count": 48,
   "id": "212fa784",
   "metadata": {},
   "outputs": [
    {
     "data": {
      "text/plain": [
       "np.float64(0.857162085)"
      ]
     },
     "execution_count": 48,
     "metadata": {},
     "output_type": "execute_result"
    }
   ],
   "source": [
    "f(89,97)"
   ]
  },
  {
   "cell_type": "code",
   "execution_count": null,
   "id": "adf46b1f",
   "metadata": {},
   "outputs": [],
   "source": []
  },
  {
   "cell_type": "code",
   "execution_count": null,
   "id": "4152276f",
   "metadata": {},
   "outputs": [],
   "source": []
  }
 ],
 "metadata": {
  "kernelspec": {
   "display_name": "Python 3",
   "language": "python",
   "name": "python3"
  },
  "language_info": {
   "codemirror_mode": {
    "name": "ipython",
    "version": 3
   },
   "file_extension": ".py",
   "mimetype": "text/x-python",
   "name": "python",
   "nbconvert_exporter": "python",
   "pygments_lexer": "ipython3",
   "version": "3.13.0"
  }
 },
 "nbformat": 4,
 "nbformat_minor": 5
}
