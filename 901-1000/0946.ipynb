{
 "cells": [
  {
   "cell_type": "markdown",
   "id": "81abb760-2df9-4e94-8701-aee69588538a",
   "metadata": {},
   "source": [
    "# Project Euler - Continued Fraction Fraction\n",
    "<p>Given the representation of a continued fraction\n",
    "$$ a_0+ \\cfrac 1{a_1+ \\cfrac 1{a_2+\\cfrac 1{a_3+\\ddots }}}= [a_0;a_1,a_2,a_3,\\ldots] $$</p>\n",
    "\n",
    "<p>\n",
    "$\\alpha$ is a real number with continued fraction representation:\n",
    "$\\alpha = [2;1,1,2,1,1,1,2,1,1,1,1,1,2,1,1,1,1,1,1,1,2,1,1,1,1,1,1,1,1,1,1,1,2,\\ldots]$<br> where the number of $1$'s between each of the $2$'s are consecutive prime numbers.</p>\n",
    "\n",
    "<p>\n",
    "$\\beta$ is another real number defined as\n",
    "$$\t\\beta = \\frac{2\\alpha+3}{3\\alpha+2} $$</p>\n",
    "\n",
    "<p>\n",
    "The first ten coefficients of the continued fraction of $\\beta$ are $[0;1,5,6,16,9,1,10,16,11]$ with sum $75$.</p>\n",
    "\n",
    "<p>\n",
    "Find the sum of the first $10^8$ coefficients of the continued fraction of $\\beta$.</p>"
   ]
  },
  {
   "cell_type": "markdown",
   "id": "2188fa8d-4581-41f5-8b2d-3be0606df772",
   "metadata": {},
   "source": [
    "## Solution."
   ]
  },
  {
   "cell_type": "code",
   "execution_count": null,
   "id": "e3ddba1c-77b6-4e95-9b82-0202ed160310",
   "metadata": {},
   "outputs": [],
   "source": [
    "def A(n):\n",
    "    "
   ]
  },
  {
   "cell_type": "code",
   "execution_count": 2,
   "id": "d9d592d5-abd6-45b4-8fdc-d955e5c8bbd0",
   "metadata": {},
   "outputs": [],
   "source": [
    "from tqdm import tqdm"
   ]
  },
  {
   "cell_type": "code",
   "execution_count": 3,
   "id": "57a1f4c6-067e-459f-a618-f296d7dc25d0",
   "metadata": {},
   "outputs": [
    {
     "name": "stderr",
     "output_type": "stream",
     "text": [
      "100%|███████████████████████████████████████████████████████████████| 100000000/100000000 [00:25<00:00, 3847198.48it/s]\n"
     ]
    },
    {
     "data": {
      "text/plain": [
       "4999999950000000"
      ]
     },
     "execution_count": 3,
     "metadata": {},
     "output_type": "execute_result"
    }
   ],
   "source": [
    "x = 0\n",
    "for i in tqdm(range(10**8)):\n",
    "    x += i\n",
    "\n",
    "x"
   ]
  },
  {
   "cell_type": "code",
   "execution_count": null,
   "id": "891477df-b026-4f2a-a5ed-7d068bd4ac35",
   "metadata": {},
   "outputs": [],
   "source": []
  },
  {
   "cell_type": "code",
   "execution_count": null,
   "id": "0052d708-4818-49ea-b089-8c244d672f9d",
   "metadata": {},
   "outputs": [],
   "source": []
  },
  {
   "cell_type": "code",
   "execution_count": null,
   "id": "705b74dd-7c7d-4fa7-8946-45c293b71e6e",
   "metadata": {},
   "outputs": [],
   "source": []
  },
  {
   "cell_type": "code",
   "execution_count": null,
   "id": "44869a46-8d14-4a11-b678-169c331df962",
   "metadata": {},
   "outputs": [],
   "source": []
  },
  {
   "cell_type": "code",
   "execution_count": null,
   "id": "71d07ae2-a821-4f28-b527-efd28226b181",
   "metadata": {},
   "outputs": [],
   "source": []
  },
  {
   "cell_type": "code",
   "execution_count": null,
   "id": "44569f50-3d6c-4523-8ad4-b8716abdce8a",
   "metadata": {},
   "outputs": [],
   "source": []
  },
  {
   "cell_type": "code",
   "execution_count": null,
   "id": "9e4051c6-ad21-4073-bf61-5bfaa4ef307d",
   "metadata": {},
   "outputs": [],
   "source": []
  },
  {
   "cell_type": "code",
   "execution_count": null,
   "id": "d231865a-f000-4c44-bb35-1fb2005f62a5",
   "metadata": {},
   "outputs": [],
   "source": []
  },
  {
   "cell_type": "code",
   "execution_count": null,
   "id": "81a6d487-bd15-483a-9f15-e55a84369e73",
   "metadata": {},
   "outputs": [],
   "source": []
  },
  {
   "cell_type": "code",
   "execution_count": null,
   "id": "c4520f56-f484-4c7b-a10a-4b1a645cea9d",
   "metadata": {},
   "outputs": [],
   "source": []
  },
  {
   "cell_type": "code",
   "execution_count": null,
   "id": "759e5cd9-09ac-4300-87cd-597329b987d0",
   "metadata": {},
   "outputs": [],
   "source": []
  },
  {
   "cell_type": "code",
   "execution_count": null,
   "id": "78655e84-19bb-4e2b-a92e-0f9e65e191a8",
   "metadata": {},
   "outputs": [],
   "source": []
  }
 ],
 "metadata": {
  "kernelspec": {
   "display_name": "Python 3 (ipykernel)",
   "language": "python",
   "name": "python3"
  },
  "language_info": {
   "codemirror_mode": {
    "name": "ipython",
    "version": 3
   },
   "file_extension": ".py",
   "mimetype": "text/x-python",
   "name": "python",
   "nbconvert_exporter": "python",
   "pygments_lexer": "ipython3",
   "version": "3.13.0"
  }
 },
 "nbformat": 4,
 "nbformat_minor": 5
}
