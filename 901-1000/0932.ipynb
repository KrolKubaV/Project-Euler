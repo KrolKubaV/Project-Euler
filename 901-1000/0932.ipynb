{
 "cells": [
  {
   "cell_type": "markdown",
   "id": "09f2ecd4-b9f2-4ecb-9960-22cef03f8909",
   "metadata": {},
   "source": [
    "# Problem 932 - 2025\n",
    "<p>For the year $2025$</p>\n",
    "$$2025 = (20 + 25)^2$$\n",
    "<p>Given positive integers $a$ and $b$, the concatenation $ab$ we call a $2025$-number if $ab = (a+b)^2$.<br>\n",
    "Other examples are $3025$ and $81$.<br>\n",
    "Note $9801$ is not a $2025$-number because the concatenation of $98$ and $1$ is $981$.</p>\n",
    "\n",
    "<p>\n",
    "Let $T(n)$ be the sum of all $2025$-numbers with $n$ digits or less. You are given $T(4) = 5131$.</p>\n",
    "\n",
    "<p>\n",
    "Find $T(16)$.</p>"
   ]
  },
  {
   "cell_type": "markdown",
   "id": "5e97cb46-7d84-4728-9c54-53f84a17b41f",
   "metadata": {},
   "source": [
    "## Solution."
   ]
  },
  {
   "cell_type": "code",
   "execution_count": 35,
   "id": "9c80ffe7-2770-426c-869e-e2faa51d1d11",
   "metadata": {},
   "outputs": [],
   "source": [
    "from tqdm import tqdm\n",
    "from math import sqrt"
   ]
  },
  {
   "cell_type": "code",
   "execution_count": 47,
   "id": "a5e0db31-0d51-4874-97a2-74267e2cbf87",
   "metadata": {},
   "outputs": [],
   "source": [
    "def is_good(n):\n",
    "    s = str(n)\n",
    "    for i in range(1, len(s)):\n",
    "        if s[i] != '0' and (int(s[:i]) + int(s[i:]))**2 == n:\n",
    "            return True\n",
    "    \n",
    "    return False"
   ]
  },
  {
   "cell_type": "markdown",
   "id": "1d64663c-8939-42b4-a7e1-acdd048b3a2a",
   "metadata": {},
   "source": [
    "The sum of digits must be presereved so $n$ and $sqrt(n)$ give the same remainder modulo $9$, which is possible if $sqrt(n)$ is 0 or 1 modulo $9$."
   ]
  },
  {
   "cell_type": "code",
   "execution_count": 50,
   "id": "abd64557-2ff8-46d6-8913-ce0f37755e24",
   "metadata": {},
   "outputs": [],
   "source": [
    "def T(n):\n",
    "    ans = 0\n",
    "    arr = []\n",
    "    for k in tqdm(range(1, int(sqrt(10**n)))):\n",
    "        if k % 9 in [0,1]:\n",
    "            if is_good(k**2):s\n",
    "                ans += k**2\n",
    "            \n",
    "    return ans"
   ]
  },
  {
   "cell_type": "code",
   "execution_count": 51,
   "id": "f219d116-7934-470e-aa9a-bbed908bd83d",
   "metadata": {},
   "outputs": [
    {
     "name": "stderr",
     "output_type": "stream",
     "text": [
      "100%|██████████████████████████████████████████████████████████████████| 99999999/99999999 [02:46<00:00, 599618.32it/s]\n"
     ]
    },
    {
     "data": {
      "text/plain": [
       "72673459417881349"
      ]
     },
     "execution_count": 51,
     "metadata": {},
     "output_type": "execute_result"
    }
   ],
   "source": [
    "T(16)"
   ]
  },
  {
   "cell_type": "code",
   "execution_count": null,
   "id": "e4e679e8-0417-4212-b802-46c900a1bd13",
   "metadata": {},
   "outputs": [],
   "source": [
    "72673459417881349"
   ]
  },
  {
   "cell_type": "markdown",
   "id": "76428666-11d0-4b68-9590-d065a715462c",
   "metadata": {},
   "source": [
    "Another way is to solve quadratic for $b$."
   ]
  },
  {
   "cell_type": "code",
   "execution_count": null,
   "id": "6d20f616-39b1-44f2-8109-a088d5af0c01",
   "metadata": {},
   "outputs": [],
   "source": []
  },
  {
   "cell_type": "code",
   "execution_count": null,
   "id": "c5c34daa-a6f3-409f-b23f-9b1fd2031262",
   "metadata": {},
   "outputs": [],
   "source": []
  },
  {
   "cell_type": "code",
   "execution_count": null,
   "id": "e1f24a08-dcd0-46d3-8968-eb28133ff1f7",
   "metadata": {},
   "outputs": [],
   "source": []
  },
  {
   "cell_type": "code",
   "execution_count": null,
   "id": "c56d1fdc-2800-46e4-974e-4da07f9d3171",
   "metadata": {},
   "outputs": [],
   "source": []
  },
  {
   "cell_type": "code",
   "execution_count": null,
   "id": "7de5ad90-df04-4de3-aafb-2d3054711d98",
   "metadata": {},
   "outputs": [],
   "source": []
  },
  {
   "cell_type": "code",
   "execution_count": null,
   "id": "2eaf8f9a-a55b-4c42-a24f-a772ed3ffab1",
   "metadata": {},
   "outputs": [],
   "source": []
  }
 ],
 "metadata": {
  "kernelspec": {
   "display_name": "Python 3 (ipykernel)",
   "language": "python",
   "name": "python3"
  },
  "language_info": {
   "codemirror_mode": {
    "name": "ipython",
    "version": 3
   },
   "file_extension": ".py",
   "mimetype": "text/x-python",
   "name": "python",
   "nbconvert_exporter": "python",
   "pygments_lexer": "ipython3",
   "version": "3.13.0"
  }
 },
 "nbformat": 4,
 "nbformat_minor": 5
}
