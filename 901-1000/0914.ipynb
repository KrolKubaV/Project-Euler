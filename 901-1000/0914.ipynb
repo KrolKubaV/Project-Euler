{
 "cells": [
  {
   "cell_type": "markdown",
   "id": "1916e663-a7be-4b95-a464-5cc3fd3868a0",
   "metadata": {},
   "source": [
    "# Problem 914 - Triangles inside Circles\n",
    "<p>\n",
    "For a given integer $R$ consider all primitive Pythagorean triangles that can fit inside, without touching, a circle with radius $R$. Define $F(R)$ to be the largest inradius of those triangles. You are given $F(100) = 36$.</p>\n",
    "<p>\n",
    "Find $F(10^{18})$.</p>\n",
    "\n",
    "## Solution."
   ]
  },
  {
   "cell_type": "code",
   "execution_count": 6,
   "id": "424d3d37-455e-4ca9-8d16-ac353a39ab72",
   "metadata": {},
   "outputs": [],
   "source": [
    "from math import sqrt"
   ]
  },
  {
   "cell_type": "code",
   "execution_count": 30,
   "id": "32bf703d-43ed-4b4d-be30-25f3dc8a7f2a",
   "metadata": {},
   "outputs": [],
   "source": [
    "def can_fit(x, y, R):\n",
    "    a = x**2 - y**2\n",
    "    b = 2*x*y\n",
    "    c = x**2 + y**2\n",
    "\n",
    "    if c < 2*R:\n",
    "        return True\n",
    "\n",
    "    return False"
   ]
  },
  {
   "cell_type": "code",
   "execution_count": 28,
   "id": "f4029138-670b-4355-8486-884888abd1fa",
   "metadata": {},
   "outputs": [],
   "source": [
    "def r(x, y):\n",
    "    return y * (x - y)"
   ]
  },
  {
   "cell_type": "code",
   "execution_count": 37,
   "id": "a3c5f1d6-3683-4925-bde3-b8dd6f34d1ba",
   "metadata": {},
   "outputs": [
    {
     "data": {
      "text/plain": [
       "(40, 13, 5)"
      ]
     },
     "execution_count": 37,
     "metadata": {},
     "output_type": "execute_result"
    }
   ],
   "source": [
    "def F(R):\n",
    "    max_value = 0\n",
    "    optimal_x = 0\n",
    "    optimal_y = 0\n",
    "    \n",
    "    for y in range(1, int(sqrt(2 * R))): \n",
    "        for x in range(y + 1, int(sqrt(2 * R))):\n",
    "            if can_fit(x, y, R):\n",
    "                value = r(x, y)\n",
    "                if value > max_value:\n",
    "                    max_value = value\n",
    "                    optimal_x = x\n",
    "                    optimal_y = y\n",
    "\n",
    "    return r(optimal_x, optimal_y), optimal_x, optimal_y\n",
    "\n",
    "R = 100\n",
    "F(R)\n"
   ]
  },
  {
   "cell_type": "code",
   "execution_count": 27,
   "id": "fe9b459f-b6df-48c6-bcf1-cd5baf0145b0",
   "metadata": {},
   "outputs": [
    {
     "data": {
      "text/plain": [
       "0"
      ]
     },
     "execution_count": 27,
     "metadata": {},
     "output_type": "execute_result"
    }
   ],
   "source": [
    "144**2 +  130**2 - 194**2"
   ]
  },
  {
   "cell_type": "code",
   "execution_count": 26,
   "id": "208c7140-8860-4d9f-8bca-1124e943be7a",
   "metadata": {},
   "outputs": [
    {
     "data": {
      "text/plain": [
       "194"
      ]
     },
     "execution_count": 26,
     "metadata": {},
     "output_type": "execute_result"
    }
   ],
   "source": [
    "169+25"
   ]
  },
  {
   "cell_type": "code",
   "execution_count": null,
   "id": "186301ec-6802-4bea-853e-a11285873b3a",
   "metadata": {},
   "outputs": [],
   "source": []
  },
  {
   "cell_type": "code",
   "execution_count": null,
   "id": "c85bef07-c156-4076-b2ee-8de7573513ab",
   "metadata": {},
   "outputs": [],
   "source": []
  },
  {
   "cell_type": "code",
   "execution_count": null,
   "id": "0edb9d56-d290-47a8-9022-d98b7f10ea7d",
   "metadata": {},
   "outputs": [],
   "source": []
  },
  {
   "cell_type": "code",
   "execution_count": null,
   "id": "cea4ebdc-deaf-4fdc-ae66-aa8d162d5361",
   "metadata": {},
   "outputs": [],
   "source": []
  },
  {
   "cell_type": "code",
   "execution_count": null,
   "id": "17c072af-6646-4844-bc53-6784aeec9f7c",
   "metadata": {},
   "outputs": [],
   "source": []
  },
  {
   "cell_type": "code",
   "execution_count": null,
   "id": "55eedcf9-ea8c-4a0f-b48d-decfe30fcd5e",
   "metadata": {},
   "outputs": [],
   "source": []
  },
  {
   "cell_type": "code",
   "execution_count": null,
   "id": "17e71bf6-2df9-41fe-bc67-5596abb5aebd",
   "metadata": {},
   "outputs": [],
   "source": []
  },
  {
   "cell_type": "code",
   "execution_count": null,
   "id": "fa33f111-b270-4b75-a3c7-869f93f3a7e5",
   "metadata": {},
   "outputs": [],
   "source": []
  },
  {
   "cell_type": "code",
   "execution_count": null,
   "id": "ceb6aee7-e7de-4357-b20f-7f563a419ccf",
   "metadata": {},
   "outputs": [],
   "source": []
  },
  {
   "cell_type": "code",
   "execution_count": null,
   "id": "74e6ca3f-1aec-4355-ad56-7d7be17bb03a",
   "metadata": {},
   "outputs": [],
   "source": []
  }
 ],
 "metadata": {
  "kernelspec": {
   "display_name": "Python 3 (ipykernel)",
   "language": "python",
   "name": "python3"
  },
  "language_info": {
   "codemirror_mode": {
    "name": "ipython",
    "version": 3
   },
   "file_extension": ".py",
   "mimetype": "text/x-python",
   "name": "python",
   "nbconvert_exporter": "python",
   "pygments_lexer": "ipython3",
   "version": "3.13.0"
  }
 },
 "nbformat": 4,
 "nbformat_minor": 5
}
