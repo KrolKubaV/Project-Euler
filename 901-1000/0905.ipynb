{
 "cells": [
  {
   "cell_type": "markdown",
   "id": "0fccb962-e7a8-4031-9c13-6ba031eddfd4",
   "metadata": {},
   "source": [
    "# Problem 905 - Now I Know\n",
    "<p>\n",
    "Three epistemologists, known as A, B, and C, are in a room, each wearing a hat with a number on it. They have been informed beforehand that all three numbers are positive and that one of the numbers is the sum of the other two.</p>\n",
    "\n",
    "<p>\n",
    "Once in the room, they can see the numbers on each other's hats but not on their own. Starting with A and proceeding cyclically, each epistemologist must either honestly state \"I don't know my number\" or announce \"Now I know my number!\" which terminates the game.</p>\n",
    "\n",
    "<p>\n",
    "For instance, if their numbers are $A=2, B=1, C=1$ then A declares \"Now I know\" at the first turn. If their numbers are $A=2, B=7, C=5$ then \"I don't know\" is heard four times before B finally declares \"Now I know\" at the fifth turn.</p>\n",
    "\n",
    "<p>\n",
    "Let $F(A,B,C)$ be the number of turns it takes until an epistemologist declares \"Now I know\", including the turn this declaration is made. So $F(2,1,1)=1$ and $F(2,7,5)=5$.</p>\n",
    "\n",
    "<p>\n",
    "Find $\\displaystyle \\sum_{a=1}^7 \\sum_{b=1}^{19} F(a^b, b^a, a^b + b^a)$.</p>"
   ]
  },
  {
   "cell_type": "markdown",
   "id": "f6b27e7a-ece3-42d7-a1d6-98bdaa72a41d",
   "metadata": {},
   "source": [
    "## Solution."
   ]
  },
  {
   "cell_type": "code",
   "execution_count": null,
   "id": "35f1ea07-9327-4923-821b-f7c230bc307f",
   "metadata": {},
   "outputs": [],
   "source": [
    "def equal("
   ]
  },
  {
   "cell_type": "code",
   "execution_count": 10,
   "id": "45021eb8-0e18-49ca-a9ec-607a166a1b5b",
   "metadata": {},
   "outputs": [],
   "source": [
    "def possible(x, y):\n",
    "    ans = set()\n",
    "    ans.add(x+y)\n",
    "    if x != y:\n",
    "        ans.add(max(x, y) - min(x, y))\n",
    "    return ans"
   ]
  },
  {
   "cell_type": "code",
   "execution_count": 14,
   "id": "f229d487-728c-441c-9ff7-33394d278b4c",
   "metadata": {},
   "outputs": [],
   "source": [
    "def F(A, B, C):\n",
    "    A_set = possible(B, C)\n",
    "    B_set = possible(C, A)\n",
    "    C_set = possible(A, B)\n",
    "    if len(A_set) == 1:\n",
    "        return 1\n",
    "    else:\n",
    "        if A == C:\n",
    "            return 2\n",
    "        else:\n",
    "            if A == B:\n",
    "                return 3\n",
    "        return 9\n",
    "            \n",
    "        "
   ]
  },
  {
   "cell_type": "code",
   "execution_count": 15,
   "id": "d8a3300f-66e8-452b-8149-d16a518f1e45",
   "metadata": {},
   "outputs": [
    {
     "data": {
      "text/plain": [
       "1143"
      ]
     },
     "execution_count": 15,
     "metadata": {},
     "output_type": "execute_result"
    }
   ],
   "source": [
    "ans = 0\n",
    "\n",
    "for a in range(1, 8):\n",
    "    for b in range(1, 20, 1):\n",
    "        ans += F(a**b, b**a, a**b + b**a)\n",
    "\n",
    "ans"
   ]
  },
  {
   "cell_type": "code",
   "execution_count": 12,
   "id": "e4ccd81d-c6df-4f59-9fd5-7f90efed5826",
   "metadata": {},
   "outputs": [
    {
     "data": {
      "text/plain": [
       "{4}"
      ]
     },
     "execution_count": 12,
     "metadata": {},
     "output_type": "execute_result"
    }
   ],
   "source": [
    "possible(2, 2)"
   ]
  },
  {
   "cell_type": "code",
   "execution_count": null,
   "id": "87a5afdf-f6fa-4b2c-ad4e-8fd44499b963",
   "metadata": {},
   "outputs": [],
   "source": []
  },
  {
   "cell_type": "code",
   "execution_count": null,
   "id": "907edcf9-2b11-41bc-b01a-3c31cd6960a3",
   "metadata": {},
   "outputs": [],
   "source": []
  },
  {
   "cell_type": "code",
   "execution_count": null,
   "id": "bdd0008b-b9c4-4294-a13d-e26547c1d8d5",
   "metadata": {},
   "outputs": [],
   "source": []
  },
  {
   "cell_type": "code",
   "execution_count": null,
   "id": "4fc9e667-e548-42fd-8076-e4b6ab2dcd2e",
   "metadata": {},
   "outputs": [],
   "source": []
  },
  {
   "cell_type": "code",
   "execution_count": null,
   "id": "262ba329-6c5d-408e-a14d-2e872569a064",
   "metadata": {},
   "outputs": [],
   "source": []
  },
  {
   "cell_type": "code",
   "execution_count": null,
   "id": "f4e65a47-0d8a-4193-98e8-bad76b1b213a",
   "metadata": {},
   "outputs": [],
   "source": []
  },
  {
   "cell_type": "code",
   "execution_count": null,
   "id": "a7899e1f-b2a2-4cdc-8b21-f1d5b4824931",
   "metadata": {},
   "outputs": [],
   "source": []
  },
  {
   "cell_type": "code",
   "execution_count": null,
   "id": "a53b895a-91a4-4ef4-bed0-5a3bed799dc8",
   "metadata": {},
   "outputs": [],
   "source": []
  },
  {
   "cell_type": "code",
   "execution_count": null,
   "id": "00486d8b-d4a0-429e-945a-589868b76a2e",
   "metadata": {},
   "outputs": [],
   "source": []
  },
  {
   "cell_type": "code",
   "execution_count": null,
   "id": "be2762ca-9f0b-4fe0-94f4-78250c4fc724",
   "metadata": {},
   "outputs": [],
   "source": []
  },
  {
   "cell_type": "code",
   "execution_count": null,
   "id": "b5dc0c8a-857f-4b52-b740-725e8c07a10c",
   "metadata": {},
   "outputs": [],
   "source": []
  },
  {
   "cell_type": "code",
   "execution_count": null,
   "id": "61ce5435-7ddb-45d9-baaf-95d036c7fa46",
   "metadata": {},
   "outputs": [],
   "source": []
  }
 ],
 "metadata": {
  "kernelspec": {
   "display_name": "Python 3 (ipykernel)",
   "language": "python",
   "name": "python3"
  },
  "language_info": {
   "codemirror_mode": {
    "name": "ipython",
    "version": 3
   },
   "file_extension": ".py",
   "mimetype": "text/x-python",
   "name": "python",
   "nbconvert_exporter": "python",
   "pygments_lexer": "ipython3",
   "version": "3.13.0"
  }
 },
 "nbformat": 4,
 "nbformat_minor": 5
}
