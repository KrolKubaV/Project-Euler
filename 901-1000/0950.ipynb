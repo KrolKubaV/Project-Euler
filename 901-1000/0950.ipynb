{
 "cells": [
  {
   "cell_type": "markdown",
   "id": "0ca1ecab",
   "metadata": {},
   "source": [
    "# Problem 950 - Pirate Treasure\n",
    "\n",
    "A band of pirates has come into a hoard of treasure, and must decide how to distribute it amongst themselves. The treasure consists of identical, indivisible gold coins.\n",
    "\n",
    "According to pirate law, the distribution of treasure must proceed as follows:\n",
    "\n",
    "1. The most senior pirate proposes a distribution of the coins.\n",
    "2. All pirates, including the most senior, vote on whether to accept the distribution.\n",
    "3. If at least half of the pirates vote to accept, the distribution stands.\n",
    "4. Otherwise, the most senior pirate must walk the plank, and the process resumes from step 1 with the next most senior pirate proposing another distribution.\n",
    "\n",
    "The *happiness* of a pirate is equal to $-\\infty$ if he doesn't survive; otherwise, it is equal to $c + p\\cdot w$, where:\n",
    "- $c$ is the number of coins that pirate receives in the distribution,\n",
    "- $w$ is the total number of pirates who were made to walk the plank,\n",
    "- $p$ is the *bloodthirstiness* of the pirate.\n",
    "\n",
    "The pirates have a number of characteristics:\n",
    "- **Greed:** to maximise their happiness.\n",
    "- **Ruthlessness:** incapable of cooperation, making promises or maintaining any kind of reputation.\n",
    "- **Shrewdness:** perfectly rational and logical.\n",
    "\n",
    "Consider the happiness $c(n,C,p) + p\\cdot w(n,C,p)$ of the most senior surviving pirate in the situation where $n$ pirates, all with equal bloodthirstiness $p$, have found $C$ coins.  \n",
    "\n",
    "For example:\n",
    "- $c(5,5,\\frac{1}{10}) = 3$ and $w(5,5,\\frac{1}{10})=0$ because it can be shown that if the most senior pirate proposes a distribution of $3,0,1,0,1$ coins to the pirates (in decreasing order of seniority), the three pirates receiving coins will all vote to accept.\n",
    "- $c(5,1,\\frac{1}{10}) = 0$ and $w(5,1,\\frac{1}{10}) = 1$: the most senior pirate cannot survive with any proposal, and then the second most senior pirate must give the only coin to another pirate in order to survive.\n",
    "\n",
    "Define:\n",
    "\n",
    "$$\n",
    "T(N,C,p) = \\sum_{n=1}^N \\left ( c(n,C,p) + w(n,C,p) \\right )\n",
    "$$\n",
    "\n",
    "You are given:\n",
    "- $T(30,3,\\frac{1}{\\sqrt{3}}) = 190$\n",
    "- $T(50,3,\\frac{1}{\\sqrt{31}}) = 385$\n",
    "- $T(10^3, 101, \\frac{1}{\\sqrt{101}}) = 142427$\n",
    "\n",
    "Find:\n",
    "\n",
    "$$\n",
    "\\sum_{k=1}^6 T\\left(10^{16}, 10^k+1, \\tfrac{1}{\\sqrt{10^k+1}}\\right)\n",
    "$$\n",
    "\n",
    "Give the last 9 digits as your answer.\n"
   ]
  },
  {
   "cell_type": "markdown",
   "id": "f6be23a5-b620-4b43-b785-86ae7248a2cc",
   "metadata": {},
   "source": [
    "### Solution."
   ]
  },
  {
   "cell_type": "code",
   "execution_count": null,
   "id": "02d1cc34-fd28-4627-b842-e9474ac92d1f",
   "metadata": {},
   "outputs": [],
   "source": []
  },
  {
   "cell_type": "code",
   "execution_count": null,
   "id": "23b2f62f-6e0f-4589-af72-7db635b07b67",
   "metadata": {},
   "outputs": [],
   "source": []
  },
  {
   "cell_type": "code",
   "execution_count": null,
   "id": "f54e8855-f4a2-46c9-ba24-ea70f44d5c0c",
   "metadata": {},
   "outputs": [],
   "source": []
  },
  {
   "cell_type": "code",
   "execution_count": null,
   "id": "6394c443-ab2a-4831-8749-144729834374",
   "metadata": {},
   "outputs": [],
   "source": []
  },
  {
   "cell_type": "code",
   "execution_count": null,
   "id": "3b761957-7ec5-4c82-a084-114232da4925",
   "metadata": {},
   "outputs": [],
   "source": []
  },
  {
   "cell_type": "code",
   "execution_count": null,
   "id": "fd7fa1eb-6487-464e-85bc-eab592224f02",
   "metadata": {},
   "outputs": [],
   "source": []
  },
  {
   "cell_type": "code",
   "execution_count": null,
   "id": "5ac6e8de-27b4-4470-85a3-e50df8a5ac6b",
   "metadata": {},
   "outputs": [],
   "source": []
  },
  {
   "cell_type": "code",
   "execution_count": null,
   "id": "adb94e35-870b-47f0-80c5-0750e4f5fc51",
   "metadata": {},
   "outputs": [],
   "source": []
  },
  {
   "cell_type": "code",
   "execution_count": null,
   "id": "45830223-0ee1-474e-bad5-919c79d9ac7b",
   "metadata": {},
   "outputs": [],
   "source": []
  },
  {
   "cell_type": "code",
   "execution_count": null,
   "id": "ba334f54-2397-4257-818a-12f42f34d376",
   "metadata": {},
   "outputs": [],
   "source": []
  },
  {
   "cell_type": "code",
   "execution_count": null,
   "id": "c545cda4-224d-4aa9-8e73-7b59a7a48c4e",
   "metadata": {},
   "outputs": [],
   "source": []
  },
  {
   "cell_type": "code",
   "execution_count": null,
   "id": "cb8a8fc3-30d1-4cfc-afa1-84a8d4f7b713",
   "metadata": {},
   "outputs": [],
   "source": []
  },
  {
   "cell_type": "code",
   "execution_count": null,
   "id": "8c398627-7cf8-450f-baa8-3e57214c29fc",
   "metadata": {},
   "outputs": [],
   "source": []
  },
  {
   "cell_type": "code",
   "execution_count": null,
   "id": "74a66cc7-477a-46cf-be14-5edf0c0426ad",
   "metadata": {},
   "outputs": [],
   "source": []
  },
  {
   "cell_type": "code",
   "execution_count": null,
   "id": "2742b814-65c7-427f-adb7-0531dc59f31b",
   "metadata": {},
   "outputs": [],
   "source": []
  },
  {
   "cell_type": "code",
   "execution_count": null,
   "id": "50ee97f1-544e-4756-9aff-9b37edbbd362",
   "metadata": {},
   "outputs": [],
   "source": []
  },
  {
   "cell_type": "code",
   "execution_count": null,
   "id": "d5bc54ac-d934-46c2-9717-4e7085341500",
   "metadata": {},
   "outputs": [],
   "source": []
  },
  {
   "cell_type": "code",
   "execution_count": null,
   "id": "53dcf963-4556-4469-a805-714556194b46",
   "metadata": {},
   "outputs": [],
   "source": []
  },
  {
   "cell_type": "code",
   "execution_count": null,
   "id": "6673b03c-a1d6-4ab1-bf87-ac87906ac0fc",
   "metadata": {},
   "outputs": [],
   "source": []
  },
  {
   "cell_type": "code",
   "execution_count": null,
   "id": "9cfda59b-1852-4bdd-b201-4f36e6ac88a1",
   "metadata": {},
   "outputs": [],
   "source": []
  },
  {
   "cell_type": "code",
   "execution_count": null,
   "id": "7b03a895-0fc0-4ace-b99d-a66826451488",
   "metadata": {},
   "outputs": [],
   "source": []
  }
 ],
 "metadata": {
  "kernelspec": {
   "display_name": "Python 3 (ipykernel)",
   "language": "python",
   "name": "python3"
  },
  "language_info": {
   "codemirror_mode": {
    "name": "ipython",
    "version": 3
   },
   "file_extension": ".py",
   "mimetype": "text/x-python",
   "name": "python",
   "nbconvert_exporter": "python",
   "pygments_lexer": "ipython3",
   "version": "3.13.0"
  }
 },
 "nbformat": 4,
 "nbformat_minor": 5
}
