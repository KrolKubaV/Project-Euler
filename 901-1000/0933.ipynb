{
 "cells": [
  {
   "cell_type": "markdown",
   "id": "83455b84-9159-4f2c-9f77-d2a03047dc51",
   "metadata": {},
   "source": [
    "# Problem 933 - Paper Cutting\n",
    "<p>\n",
    "Starting with one piece of integer-sized rectangle paper, two players make moves in turn.<br>\n",
    "A valid move consists of choosing one piece of paper and cutting it <b>both</b> horizontally and vertically, so that it becomes four pieces of smaller rectangle papers, all of which are integer-sized.<br>\n",
    "The player that does not have a valid move loses the game.</p>\n",
    "\n",
    "<p>\n",
    "Let $C(w, h)$ be the number of winning moves for the first player, when the original paper has size $w \\times h$. For example, $C(5,3)=4$, with the four winning moves shown below.</p>\n",
    "<center><img src=\"resources/images/0933_PaperCutting3.jpg?1738704656\" alt=\"0933_PaperCutting2.jpg\"></center>\n",
    "<p>\n",
    "Also write $\\displaystyle D(W, H) = \\sum_{w = 2}^W\\sum_{h = 2}^H C(w, h)$. You are given that $D(12, 123) = 327398$.</p>\n",
    "\n",
    "<p>\n",
    "Find $D(123, 1234567)$.</p>"
   ]
  },
  {
   "cell_type": "markdown",
   "id": "f3b99eea-fc04-4bcb-adce-0c9dc8b58ad0",
   "metadata": {},
   "source": [
    "## Solution."
   ]
  },
  {
   "cell_type": "code",
   "execution_count": null,
   "id": "804e3431-2a87-4881-acb7-510949a1d218",
   "metadata": {},
   "outputs": [],
   "source": []
  },
  {
   "cell_type": "code",
   "execution_count": null,
   "id": "005c3abb-13b6-454c-8438-4736565b286f",
   "metadata": {},
   "outputs": [],
   "source": []
  },
  {
   "cell_type": "code",
   "execution_count": null,
   "id": "2e2c4812-fda8-44b1-909d-35230365b8db",
   "metadata": {},
   "outputs": [],
   "source": []
  },
  {
   "cell_type": "code",
   "execution_count": null,
   "id": "1a7cd58d-1098-4de9-8c70-d5c96f7fac46",
   "metadata": {},
   "outputs": [],
   "source": []
  },
  {
   "cell_type": "code",
   "execution_count": null,
   "id": "13cb0e99-cdaf-40d4-b4c2-836b308db900",
   "metadata": {},
   "outputs": [],
   "source": []
  },
  {
   "cell_type": "code",
   "execution_count": null,
   "id": "82db2ada-12fa-488f-ac2a-d0040be1cf47",
   "metadata": {},
   "outputs": [],
   "source": []
  }
 ],
 "metadata": {
  "kernelspec": {
   "display_name": "Python 3 (ipykernel)",
   "language": "python",
   "name": "python3"
  },
  "language_info": {
   "codemirror_mode": {
    "name": "ipython",
    "version": 3
   },
   "file_extension": ".py",
   "mimetype": "text/x-python",
   "name": "python",
   "nbconvert_exporter": "python",
   "pygments_lexer": "ipython3",
   "version": "3.13.0"
  }
 },
 "nbformat": 4,
 "nbformat_minor": 5
}
