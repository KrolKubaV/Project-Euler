{
 "cells": [
  {
   "cell_type": "markdown",
   "id": "8841a53a-d21b-47e3-9ccf-981f6a7fd11a",
   "metadata": {},
   "source": [
    "# Well Drilling - Problem 901\n",
    "<p>A driller drills for water. At each iteration the driller chooses a depth $d$ (a positive real number), drills to this depth and then checks if water was found. If so, the process terminates. Otherwise, a new depth is chosen and a new drilling starts from the ground level in a new location nearby.</p>\n",
    "\n",
    "<p>Drilling to depth $d$ takes exactly $d$ hours. The groundwater depth is constant in the relevant area and its distribution is known to be an <a href=\"https://en.wikipedia.org/wiki/Exponential_distribution\">exponential random variable</a> with expected value of $1$. In other words, the probability that the groundwater is deeper than $d$ is $e^{-d}$.</p>\n",
    "\n",
    "<p>Assuming an optimal strategy, find the minimal expected drilling time in hours required to find water. Give your answer rounded to 9 places after the decimal point.</p>"
   ]
  },
  {
   "cell_type": "markdown",
   "id": "fdd4b413-7d6d-4668-85fa-c115a34bafec",
   "metadata": {},
   "source": [
    "## Solution."
   ]
  },
  {
   "cell_type": "code",
   "execution_count": 5,
   "id": "d8576ca9-01da-406e-9770-595240754431",
   "metadata": {},
   "outputs": [],
   "source": [
    "import numpy as np\n",
    "from scipy.optimize import minimize\n",
    "import matplotlib.pyplot as plt\n",
    "from tqdm import tqdm\n",
    "from functools import cache"
   ]
  },
  {
   "cell_type": "code",
   "execution_count": 7,
   "id": "ef38d546-1023-4cbb-b510-e9c81b6bb6d9",
   "metadata": {},
   "outputs": [],
   "source": [
    "@cache\n",
    "def d(k, d1):\n",
    "    if k == 0:\n",
    "        return 0\n",
    "    if k == 1:\n",
    "        return d1\n",
    "    return np.exp(d(k-1, d1) - d(k-2, d1))\n",
    "\n",
    "@cache\n",
    "def summand(k, d1):\n",
    "    if k == 1:\n",
    "        return d1\n",
    "    return np.exp(-d(k-2, d1))\n",
    "\n",
    "@cache\n",
    "def sum_function(d1, n):\n",
    "    return sum(summand(k, d1) for k in range(1, n+1))"
   ]
  },
  {
   "cell_type": "code",
   "execution_count": 8,
   "id": "dd4c7808-b63f-40dc-8d2c-152b76e84425",
   "metadata": {},
   "outputs": [],
   "source": [
    "def minimise_sum(n, init):   \n",
    "    def objective(d1):\n",
    "        return sum_function(d1, n)\n",
    "    \n",
    "    result = minimize(objective, init, method='L-BFGS-B')\n",
    "    \n",
    "    return result.x[0], round(result.fun, 9)"
   ]
  },
  {
   "cell_type": "code",
   "execution_count": 45,
   "id": "75c30a8e-ce3a-45de-9bac-8ebb44ed471d",
   "metadata": {},
   "outputs": [],
   "source": [
    "def is_increasing(d1):\n",
    "    for k in range(1,50):\n",
    "        if d(k, d1) < d(k-1, d1):\n",
    "            return False\n",
    "    return True"
   ]
  },
  {
   "cell_type": "code",
   "execution_count": 74,
   "id": "53c6d0c3-adfd-4431-8099-3971fa864109",
   "metadata": {},
   "outputs": [
    {
     "name": "stderr",
     "output_type": "stream",
     "text": [
      "100%|███████████████████████████████████████████████████████████████████| 1000000/1000000 [00:00<00:00, 1018909.68it/s]"
     ]
    },
    {
     "name": "stdout",
     "output_type": "stream",
     "text": [
      "0.7465420140272309 2.364497769\n"
     ]
    },
    {
     "name": "stderr",
     "output_type": "stream",
     "text": [
      "\n"
     ]
    }
   ],
   "source": [
    "epsilon = 10**(-1)\n",
    "init = 0.75\n",
    "k = 12\n",
    "prev = sum_function(init, k)\n",
    "for _ in tqdm(range(1000000)):\n",
    "    a = sum_function(init - epsilon, k)\n",
    "    b = sum_function(init + epsilon, k)\n",
    "    if a < prev and prev < b and is_increasing(init-epsilon):\n",
    "        init -= epsilon\n",
    "        prev = a\n",
    "    elif a > prev and prev > b and is_increasing(init+epsilon):\n",
    "        init += epsilon\n",
    "        prev = b\n",
    "    epsilon /= 1.001\n",
    "\n",
    "print(init, round(sum_function(init, k), 9))"
   ]
  },
  {
   "cell_type": "code",
   "execution_count": null,
   "id": "c66bbb0a-52e4-4881-99b3-51dae88ebb46",
   "metadata": {},
   "outputs": [],
   "source": [
    "0.7465420140272311\n",
    "2.364497769"
   ]
  },
  {
   "cell_type": "code",
   "execution_count": 75,
   "id": "1ef4a402-0c6d-4d94-b9cd-0f1907f3bbf7",
   "metadata": {},
   "outputs": [
    {
     "data": {
      "text/plain": [
       "True"
      ]
     },
     "execution_count": 75,
     "metadata": {},
     "output_type": "execute_result"
    }
   ],
   "source": [
    "is_increasing(0.7465420140272311)"
   ]
  },
  {
   "cell_type": "code",
   "execution_count": 82,
   "id": "477aa964-88aa-468f-b264-35aed8ad76fd",
   "metadata": {},
   "outputs": [
    {
     "data": {
      "text/plain": [
       "np.float64(2.364497769)"
      ]
     },
     "execution_count": 82,
     "metadata": {},
     "output_type": "execute_result"
    }
   ],
   "source": [
    "round(sum_function(0.7465420140272311, 21), 9)"
   ]
  },
  {
   "cell_type": "code",
   "execution_count": 78,
   "id": "a7494891-4c94-45d7-b599-fa067fe2a04a",
   "metadata": {},
   "outputs": [
    {
     "name": "stdout",
     "output_type": "stream",
     "text": [
      "0\n",
      "0.7465420140272311\n",
      "2.109692102864624\n",
      "3.9084860082170607\n",
      "6.04235541532112\n",
      "8.447490433192675\n",
      "11.079926169246761\n",
      "13.90760393234267\n",
      "16.90615510631609\n",
      "20.056457545102084\n",
      "23.343123379357902\n",
      "26.75351413524916\n",
      "30.277072892798348\n",
      "33.90487324345772\n",
      "37.62995281404267\n",
      "41.47453276636925\n",
      "46.7390475988133\n",
      "193.35247767832524\n",
      "4.714152813259726e+63\n",
      "inf\n",
      "inf\n",
      "nan\n",
      "nan\n",
      "nan\n",
      "nan\n",
      "nan\n",
      "nan\n",
      "nan\n",
      "nan\n",
      "nan\n",
      "nan\n",
      "nan\n",
      "nan\n",
      "nan\n",
      "nan\n",
      "nan\n",
      "nan\n",
      "nan\n",
      "nan\n",
      "nan\n",
      "nan\n",
      "nan\n",
      "nan\n",
      "nan\n",
      "nan\n",
      "nan\n",
      "nan\n",
      "nan\n",
      "nan\n",
      "nan\n",
      "nan\n",
      "nan\n",
      "nan\n",
      "nan\n",
      "nan\n",
      "nan\n",
      "nan\n",
      "nan\n",
      "nan\n",
      "nan\n",
      "nan\n",
      "nan\n",
      "nan\n",
      "nan\n",
      "nan\n",
      "nan\n",
      "nan\n",
      "nan\n",
      "nan\n",
      "nan\n",
      "nan\n",
      "nan\n",
      "nan\n",
      "nan\n",
      "nan\n",
      "nan\n",
      "nan\n",
      "nan\n",
      "nan\n",
      "nan\n",
      "nan\n",
      "nan\n",
      "nan\n",
      "nan\n",
      "nan\n",
      "nan\n",
      "nan\n",
      "nan\n",
      "nan\n",
      "nan\n",
      "nan\n",
      "nan\n",
      "nan\n",
      "nan\n",
      "nan\n",
      "nan\n",
      "nan\n",
      "nan\n",
      "nan\n",
      "nan\n"
     ]
    }
   ],
   "source": [
    "a = 0.7465420140272311\n",
    "for k in range(100):\n",
    "    print(d(k, a))"
   ]
  },
  {
   "cell_type": "code",
   "execution_count": 77,
   "id": "c039ae6d-f3ca-4790-98f7-ff2300186850",
   "metadata": {},
   "outputs": [
    {
     "data": {
      "text/plain": [
       "True"
      ]
     },
     "execution_count": 77,
     "metadata": {},
     "output_type": "execute_result"
    }
   ],
   "source": [
    "is_increasing(0.7465420140272311)"
   ]
  },
  {
   "cell_type": "markdown",
   "id": "2d0b5b17-aeab-40cd-8c80-40891c3b1fcc",
   "metadata": {},
   "source": [
    "# Solarion's solution"
   ]
  },
  {
   "cell_type": "code",
   "execution_count": 83,
   "id": "a0cce6d0-b453-4b31-8d39-fbcd6b246043",
   "metadata": {},
   "outputs": [
    {
     "name": "stdout",
     "output_type": "stream",
     "text": [
      "23 2.364497769448012 [0, 0.7465419425868285, 2.1096919501662903, 3.9084857318402473, 6.0423550369412595, 8.44748958514745, 11.079921691616558, 13.90760324171066, 16.90618915679004, 20.0565955843487, 23.344045557901392, 26.75434022896877, 30.26580063289396, 33.80333825686424, 37.13596616838565, 38.65139897049937, 38.72734493364891, 39.95984817067795, 39.987074323713365, 40.042624966622384, 40.16615794240383, 40.39130609955968, 43.679757980366524, 987.4660735554345]\n"
     ]
    }
   ],
   "source": [
    "from random import *\n",
    "from math import *\n",
    "def fitness(l):\n",
    "    su=0\n",
    "    for i in range(len(l)-1):\n",
    "        su+=(e**(-l[i]))*l[i+1]\n",
    "    return su\n",
    "n=23\n",
    "l=[0]+list(range(1,n))+[1000]\n",
    "delta=1\n",
    "for i in range(1000000):\n",
    "    l1=randint(1,len(l)-1)\n",
    "    if random()>0.5:\n",
    "        l2=l[:]\n",
    "        l2[l1]+=delta; l2.sort()\n",
    "        if fitness(l2)<fitness(l):\n",
    "            l=l2\n",
    "    else:\n",
    "        l2=l[:]\n",
    "        l2[l1]-=delta; l2.sort()\n",
    "        if fitness(l2)<fitness(l):\n",
    "            l=l2\n",
    "    delta*=0.9999\n",
    "print(n,fitness(l),l)"
   ]
  },
  {
   "cell_type": "markdown",
   "id": "733ce069-404c-4ca5-adfc-fa57f56367c6",
   "metadata": {},
   "source": [
    "## Ege Erdil's solution"
   ]
  },
  {
   "cell_type": "code",
   "execution_count": 84,
   "id": "b444ef3c-b9f4-4b62-b186-6094d65c7b4a",
   "metadata": {},
   "outputs": [
    {
     "name": "stdout",
     "output_type": "stream",
     "text": [
      "2.364497769\n"
     ]
    }
   ],
   "source": [
    "import numpy as np\n",
    "\n",
    "N = 2 * 10**6 + 1\n",
    "max_val = 40\n",
    "\n",
    "board = np.linspace(0, max_val, num=N)\n",
    "cache_distance = [None for _ in range(N)]\n",
    "cache_move = [None for _ in range(N)]\n",
    "\n",
    "for i in range(N-1, -1, -1):\n",
    "    q = board[i]\n",
    "    best_val = max_val\n",
    "    best_d = board[N-1] - board[i]\n",
    "    best_move = N\n",
    "\n",
    "    if i < N-1:\n",
    "        for j in range(max(i+1, curr_best_move-5), min(N, curr_best_move)):\n",
    "            d = board[j] - board[i]\n",
    "            if q+d > best_val:\n",
    "                break\n",
    "            \n",
    "            if best_val > q+d + np.exp(-d) * cache_distance[j]:\n",
    "                best_val = q+d + np.exp(-d) * cache_distance[j]\n",
    "                best_d = d\n",
    "                best_move = j\n",
    "\n",
    "    cache_move[i] = best_d\n",
    "    cache_distance[i] = best_val\n",
    "    curr_best_move = best_move\n",
    "\n",
    "r = cache_distance[0]\n",
    "print(round(r, 9))"
   ]
  },
  {
   "cell_type": "code",
   "execution_count": 87,
   "id": "83ff4f06-cf21-4296-b137-ce609a7d8ef3",
   "metadata": {},
   "outputs": [
    {
     "data": {
      "text/plain": [
       "array([0.000000e+00, 2.000000e-05, 4.000000e-05, ..., 3.999996e+01,\n",
       "       3.999998e+01, 4.000000e+01])"
      ]
     },
     "execution_count": 87,
     "metadata": {},
     "output_type": "execute_result"
    }
   ],
   "source": [
    "board"
   ]
  }
 ],
 "metadata": {
  "kernelspec": {
   "display_name": "Python 3 (ipykernel)",
   "language": "python",
   "name": "python3"
  },
  "language_info": {
   "codemirror_mode": {
    "name": "ipython",
    "version": 3
   },
   "file_extension": ".py",
   "mimetype": "text/x-python",
   "name": "python",
   "nbconvert_exporter": "python",
   "pygments_lexer": "ipython3",
   "version": "3.12.4"
  }
 },
 "nbformat": 4,
 "nbformat_minor": 5
}
