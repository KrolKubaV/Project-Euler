{
 "cells": [
  {
   "cell_type": "markdown",
   "id": "20527b45-ca70-4840-962b-886f621141d9",
   "metadata": {},
   "source": [
    "# Problem 935 - Rolling Square\n",
    "<p>\n",
    "A square of side length $1$ is rolling around the inside of a larger square of side length $1$, always touching the larger square but without sliding.<br>\n",
    "Initially the two squares share a common corner. At each step, the small square rotates clockwise about a corner that touches the large square, until another of its corners touches the large square. Here is an illustration of the first three steps for $b = \\frac5{13}$.</p>\n",
    "<center><img src=\"resources/images/0935_rolling.png?1738619705\" alt=\"0935_rolling.png\"></center>\n",
    "<p>\n",
    "For some values of $b$, the small square may return to its initial position after several steps. For example, when $b = \\frac12$, this happens in $4$ steps; and for $b = \\frac5{13}$ it happens in $24$ steps.</p>\n",
    "\n",
    "<p>\n",
    "Let $F(N)$ be the number of different values of $b$ for which the small square first returns to its initial position within at most $N$ steps. For example, $F(6) = 4$, with the corresponding $b$ values:\n",
    "$$\\frac12,\\quad 2 - \\sqrt 2,\\quad 2 + \\sqrt 2 - \\sqrt{2 + 4\\sqrt2},\\quad  8 - 5\\sqrt2 + 4\\sqrt3 - 3\\sqrt6,$$\n",
    "the first three in $4$ steps and the last one in $6$ steps. Note that it does not matter whether the small square returns to its original <b>orientation</b>.<br>\n",
    "Also $F(100) = 805$.</p>\n",
    "\n",
    "<p>\n",
    "Find $F(10^8)$.</p>"
   ]
  },
  {
   "cell_type": "markdown",
   "id": "f1e5c97d-37f5-474a-bf5b-3f0682e9f828",
   "metadata": {},
   "source": [
    "## Solution."
   ]
  },
  {
   "cell_type": "code",
   "execution_count": null,
   "id": "a1b38614-dda1-464c-9a61-b5deccdbf46f",
   "metadata": {},
   "outputs": [],
   "source": []
  },
  {
   "cell_type": "code",
   "execution_count": null,
   "id": "180f979d-c8fb-4ee8-880a-33c4fd7acadf",
   "metadata": {},
   "outputs": [],
   "source": []
  },
  {
   "cell_type": "code",
   "execution_count": null,
   "id": "6408e901-d7ea-4b38-93c5-b93afb28c4c7",
   "metadata": {},
   "outputs": [],
   "source": []
  },
  {
   "cell_type": "code",
   "execution_count": null,
   "id": "7dabad11-a099-4ff9-be25-e62b6e4d0808",
   "metadata": {},
   "outputs": [],
   "source": []
  },
  {
   "cell_type": "code",
   "execution_count": null,
   "id": "ef631325-fc88-41c5-8fe5-820d037cf292",
   "metadata": {},
   "outputs": [],
   "source": []
  },
  {
   "cell_type": "code",
   "execution_count": null,
   "id": "84719255-9e76-4221-be75-42f2e68ff571",
   "metadata": {},
   "outputs": [],
   "source": []
  },
  {
   "cell_type": "code",
   "execution_count": null,
   "id": "14c8d227-cf33-496d-859f-9346f41fd4d1",
   "metadata": {},
   "outputs": [],
   "source": []
  },
  {
   "cell_type": "code",
   "execution_count": null,
   "id": "f9299466-f8d4-469a-aa94-ecba19b17a99",
   "metadata": {},
   "outputs": [],
   "source": []
  },
  {
   "cell_type": "code",
   "execution_count": null,
   "id": "8baf99dd-4d8b-47f4-8e2a-b8afc8d3e5b5",
   "metadata": {},
   "outputs": [],
   "source": []
  },
  {
   "cell_type": "code",
   "execution_count": null,
   "id": "b736c4f0-18be-4c89-8d68-15c4eb96eaf4",
   "metadata": {},
   "outputs": [],
   "source": []
  },
  {
   "cell_type": "code",
   "execution_count": null,
   "id": "28aa0b02-ce32-442a-b59e-055e7c9a6da9",
   "metadata": {},
   "outputs": [],
   "source": []
  },
  {
   "cell_type": "code",
   "execution_count": null,
   "id": "05c54c93-bc08-402f-b6d7-603c5ccc774d",
   "metadata": {},
   "outputs": [],
   "source": []
  },
  {
   "cell_type": "code",
   "execution_count": null,
   "id": "36918c6b-87d6-4ac9-916e-f61bea223d2d",
   "metadata": {},
   "outputs": [],
   "source": []
  }
 ],
 "metadata": {
  "kernelspec": {
   "display_name": "Python 3 (ipykernel)",
   "language": "python",
   "name": "python3"
  },
  "language_info": {
   "codemirror_mode": {
    "name": "ipython",
    "version": 3
   },
   "file_extension": ".py",
   "mimetype": "text/x-python",
   "name": "python",
   "nbconvert_exporter": "python",
   "pygments_lexer": "ipython3",
   "version": "3.13.0"
  }
 },
 "nbformat": 4,
 "nbformat_minor": 5
}
