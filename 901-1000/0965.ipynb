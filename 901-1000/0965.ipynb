{
 "cells": [
  {
   "cell_type": "markdown",
   "id": "f6dc3dbf",
   "metadata": {},
   "source": [
    "# Problem 965\n",
    "Let $\\{x\\}$ denote the fractional part of a real number $x$.\n",
    "\n",
    "Define $f_N(x)$ to be the <b>minimal</b> value of $\\{nx\\}$ for integer $n$ satisfying $0 \\lt n \\le N$.\n",
    "\n",
    "Further define $F(N)$ to be the expected value of $f_N(x)$ when $x$ is sampled uniformly in $[0, 1]$.\n",
    "\n",
    "You are given $F(1) = \\frac{1}{2}$, $F(4) = \\frac{1}{4}$ and $F(10) \\approx 0.1319444444444$.\n",
    "\n",
    "Find $F(10^4)$ and give your answer rounded to 13 digits after the decimal point.\n",
    "\n",
    "## Solution."
   ]
  },
  {
   "cell_type": "code",
   "execution_count": 19,
   "id": "6d1a2cc1",
   "metadata": {},
   "outputs": [],
   "source": [
    "from tqdm import tqdm\n",
    "from math import gcd"
   ]
  },
  {
   "cell_type": "code",
   "execution_count": 59,
   "id": "86200330",
   "metadata": {},
   "outputs": [],
   "source": [
    "def simplify(a, b):\n",
    "    return (a//gcd(a,b), b//gcd(a,b))\n",
    "\n",
    "def frac_part(x):\n",
    "    return x - int(x) if x - int(x) != 0 else 1"
   ]
  },
  {
   "cell_type": "code",
   "execution_count": 62,
   "id": "4106c09f",
   "metadata": {},
   "outputs": [],
   "source": [
    "def F(N):\n",
    "    s = set()\n",
    "\n",
    "    for n in tqdm(range(1, N+1)):\n",
    "        for k in range(1, n+1):\n",
    "            s.add(simplify(k, n))\n",
    "\n",
    "    s = sorted(list(s), key=lambda pair: pair[0] / pair[1])\n",
    "    s.insert(0,(0,0))\n",
    "\n",
    "    l = len(s)\n",
    "    E = 0\n",
    "\n",
    "    for i in range(l-1):\n",
    "        a = s[i]\n",
    "        b = s[i+1]\n",
    "\n",
    "        if a[1] != 0:\n",
    "            p = b[0]/b[1] - a[0]/a[1]\n",
    "            V = 1/2 * frac_part(b[0]/b[1] * a[1])\n",
    "            E += p * V\n",
    "        else:\n",
    "            p = b[0]/b[1]\n",
    "            V = 1/2 * frac_part(b[0]/b[1])\n",
    "            E += p * V\n",
    "\n",
    "    return E\n",
    "\n",
    "\n",
    "    "
   ]
  },
  {
   "cell_type": "code",
   "execution_count": 66,
   "id": "8baa093c",
   "metadata": {},
   "outputs": [
    {
     "name": "stderr",
     "output_type": "stream",
     "text": [
      "100%|██████████| 10000/10000 [00:20<00:00, 483.43it/s]\n"
     ]
    },
    {
     "data": {
      "text/plain": [
       "0.0003452201133311435"
      ]
     },
     "execution_count": 66,
     "metadata": {},
     "output_type": "execute_result"
    }
   ],
   "source": [
    "F(10**4)"
   ]
  },
  {
   "cell_type": "code",
   "execution_count": 67,
   "id": "2301c1a0",
   "metadata": {},
   "outputs": [
    {
     "data": {
      "text/plain": [
       "0.0003452201133"
      ]
     },
     "execution_count": 67,
     "metadata": {},
     "output_type": "execute_result"
    }
   ],
   "source": [
    "round(0.0003452201133311435, 13)"
   ]
  },
  {
   "cell_type": "code",
   "execution_count": null,
   "id": "fc572e90",
   "metadata": {},
   "outputs": [],
   "source": []
  },
  {
   "cell_type": "code",
   "execution_count": null,
   "id": "1a22d222",
   "metadata": {},
   "outputs": [],
   "source": []
  },
  {
   "cell_type": "code",
   "execution_count": null,
   "id": "15a2edbb",
   "metadata": {},
   "outputs": [],
   "source": []
  }
 ],
 "metadata": {
  "kernelspec": {
   "display_name": "Python 3",
   "language": "python",
   "name": "python3"
  },
  "language_info": {
   "codemirror_mode": {
    "name": "ipython",
    "version": 3
   },
   "file_extension": ".py",
   "mimetype": "text/x-python",
   "name": "python",
   "nbconvert_exporter": "python",
   "pygments_lexer": "ipython3",
   "version": "3.13.0"
  }
 },
 "nbformat": 4,
 "nbformat_minor": 5
}
