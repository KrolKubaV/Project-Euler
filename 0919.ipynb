{
 "cells": [
  {
   "cell_type": "markdown",
   "id": "1916e663-a7be-4b95-a464-5cc3fd3868a0",
   "metadata": {},
   "source": [
    "# Problem 914 - Fortunate Triangles\n",
    "<p>We call a triangle <i>fortunate</i> if it has integral sides and at least one of its vertices has the property that the distance from it to the triangle's <b>orthocentre</b> is exactly half the distance from the same vertex to the triangle's <b>circumcentre</b>.</p>\n",
    "<center><img src=\"resources/images/0919_remarkablediagram.jpg?1731700434\" alt=\"0919_remarkablediagram.jpg\" height=\"400\"></center>\n",
    "<p>\n",
    "Triangle $ABC$ above is an example of a fortunate triangle with sides $(6,7,8)$. The distance from the vertex $C$ to the circumcentre $O$ is $\\approx 4.131182$, while the distance from $C$ to the orthocentre $H$ is half that, at $\\approx 2.065591$.\n",
    "</p>\n",
    "<p>\n",
    "Define $S(P)$ to be the sum of $a+b+c$ over all fortunate triangles with sides $a\\leq b\\leq c$ and perimeter not exceeding $P$.\n",
    "</p>\n",
    "<p>\n",
    "For example $S(10)=24$, arising from three triangles with sides $(1,2,2)$, $(2,3,4)$, and $(2,4,4)$. You are also given $S(100)=3331$.\n",
    "</p>\n",
    "<p>\n",
    "Find $S(10^7)$.\n",
    "</p>\n",
    "\n",
    "## Solution.\n",
    "https://proofwiki.org/wiki/Distance_from_Vertex_of_Triangle_to_Orthocenter#google_vignette"
   ]
  },
  {
   "cell_type": "code",
   "execution_count": 1,
   "id": "424d3d37-455e-4ca9-8d16-ac353a39ab72",
   "metadata": {},
   "outputs": [],
   "source": [
    "from math import sqrt"
   ]
  },
  {
   "cell_type": "code",
   "execution_count": 2,
   "id": "186301ec-6802-4bea-853e-a11285873b3a",
   "metadata": {},
   "outputs": [],
   "source": [
    "def area(a, b, c):\n",
    "    s = (a+b+c)/2\n",
    "    return sqrt(s*(s-a)*(s-b)*(s-c))\n",
    "\n",
    "def R(a, b, c):\n",
    "    return 4 * area(a, b, c)/(a*b*c)"
   ]
  },
  {
   "cell_type": "code",
   "execution_count": null,
   "id": "c85bef07-c156-4076-b2ee-8de7573513ab",
   "metadata": {},
   "outputs": [],
   "source": []
  },
  {
   "cell_type": "code",
   "execution_count": null,
   "id": "0edb9d56-d290-47a8-9022-d98b7f10ea7d",
   "metadata": {},
   "outputs": [],
   "source": []
  },
  {
   "cell_type": "code",
   "execution_count": null,
   "id": "cea4ebdc-deaf-4fdc-ae66-aa8d162d5361",
   "metadata": {},
   "outputs": [],
   "source": []
  },
  {
   "cell_type": "code",
   "execution_count": null,
   "id": "17c072af-6646-4844-bc53-6784aeec9f7c",
   "metadata": {},
   "outputs": [],
   "source": []
  },
  {
   "cell_type": "code",
   "execution_count": null,
   "id": "55eedcf9-ea8c-4a0f-b48d-decfe30fcd5e",
   "metadata": {},
   "outputs": [],
   "source": []
  },
  {
   "cell_type": "code",
   "execution_count": null,
   "id": "17e71bf6-2df9-41fe-bc67-5596abb5aebd",
   "metadata": {},
   "outputs": [],
   "source": []
  },
  {
   "cell_type": "code",
   "execution_count": null,
   "id": "fa33f111-b270-4b75-a3c7-869f93f3a7e5",
   "metadata": {},
   "outputs": [],
   "source": []
  },
  {
   "cell_type": "code",
   "execution_count": null,
   "id": "ceb6aee7-e7de-4357-b20f-7f563a419ccf",
   "metadata": {},
   "outputs": [],
   "source": []
  },
  {
   "cell_type": "code",
   "execution_count": null,
   "id": "74e6ca3f-1aec-4355-ad56-7d7be17bb03a",
   "metadata": {},
   "outputs": [],
   "source": []
  }
 ],
 "metadata": {
  "kernelspec": {
   "display_name": "Python 3 (ipykernel)",
   "language": "python",
   "name": "python3"
  },
  "language_info": {
   "codemirror_mode": {
    "name": "ipython",
    "version": 3
   },
   "file_extension": ".py",
   "mimetype": "text/x-python",
   "name": "python",
   "nbconvert_exporter": "python",
   "pygments_lexer": "ipython3",
   "version": "3.13.0"
  }
 },
 "nbformat": 4,
 "nbformat_minor": 5
}
