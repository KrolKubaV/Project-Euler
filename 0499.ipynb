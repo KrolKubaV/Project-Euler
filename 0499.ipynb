{
 "cells": [
  {
   "cell_type": "markdown",
   "id": "f817f2c4-632a-4f97-8011-5636a18befe7",
   "metadata": {},
   "source": [
    "# St. Petersburg Lottery - Problem 499\n",
    "\n",
    "<p>A gambler decides to participate in a special lottery. In this lottery the gambler plays a series of one or more games.<br>\n",
    "Each game costs $m$ pounds to play and starts with an initial pot of $1$ pound. The gambler flips an unbiased coin. Every time a head appears, the pot is doubled and the gambler continues. When a tail appears, the game ends and the gambler collects the current value of the pot. The gambler is certain to win at least $1$ pound, the starting value of the pot, at the cost of $m$ pounds, the initial fee.</p>\n",
    "\n",
    "<p>The game ends if the gambler's fortune falls below $m$ pounds.\n",
    "Let $p_m(s)$ denote the probability that the gambler will never run out of money in this lottery given an initial fortune $s$ and the cost per game $m$.<br>\n",
    "For example $p_2(2) \\approx 0.2522$, $p_2(5) \\approx 0.6873$ and $p_6(10\\,000) \\approx 0.9952$ (note: $p_m(s) = 0$ for $s \\lt m$).</p>\n",
    "\n",
    "<p>Find $p_{15}(10^9)$ and give your answer rounded to $7$ decimal places behind the decimal point in the form 0.abcdefg.</p>"
   ]
  },
  {
   "cell_type": "markdown",
   "id": "afcf8d4a-6113-4780-934a-f7d91d0fafe2",
   "metadata": {},
   "source": [
    "## Solution."
   ]
  },
  {
   "cell_type": "code",
   "execution_count": 29,
   "id": "d4462268-4b44-47e2-b2b4-4701ca53e9fc",
   "metadata": {},
   "outputs": [
    {
     "name": "stdout",
     "output_type": "stream",
     "text": [
      "1.61803398874989 + 8.9484620493202e-25*I\n",
      "-0.618033988749895 - 1.63132611699963e-55*I\n",
      "-0.618033988749895 + 1.63132611699963e-55*I\n",
      "1.00000000000000\n",
      "1.0 + 5.01143383142287e-52*I\n",
      "1.0 - 5.01143383142287e-52*I\n",
      "1.61803398874989 - 8.9484620493202e-25*I\n"
     ]
    }
   ],
   "source": [
    "from sympy import symbols, I, nsolve\n",
    "\n",
    "x = symbols('x')\n",
    "equation = (2 - x) * x**2 - 1\n",
    "initial_guesses = [1 + I, -1 + I, 1 - I, -1 - I, I, -I, 2 + I, 2 - I, 0.5 + 0.5*I, 0.5 - 0.5*I]\n",
    "\n",
    "# Find and print the roots\n",
    "roots = set()\n",
    "for guess in initial_guesses:\n",
    "    try:\n",
    "        root = nsolve(equation, x, guess)\n",
    "        roots.add(root)\n",
    "    except:\n",
    "        pass\n",
    "\n",
    "# Print the unique roots\n",
    "for root in roots:\n",
    "    print(root)\n"
   ]
  },
  {
   "cell_type": "code",
   "execution_count": null,
   "id": "d3e88ee2-486c-4be2-a82b-6d39b67f8b2a",
   "metadata": {},
   "outputs": [],
   "source": []
  },
  {
   "cell_type": "code",
   "execution_count": null,
   "id": "1ce35afe-0754-4283-9581-3cb0b1cb21cb",
   "metadata": {},
   "outputs": [],
   "source": []
  },
  {
   "cell_type": "code",
   "execution_count": null,
   "id": "3c2fc884-aa0c-461a-aa9e-43a55d89c143",
   "metadata": {},
   "outputs": [],
   "source": []
  },
  {
   "cell_type": "code",
   "execution_count": null,
   "id": "e0780ba1-b9f6-489a-a2f4-a06409e15a47",
   "metadata": {},
   "outputs": [],
   "source": []
  },
  {
   "cell_type": "code",
   "execution_count": null,
   "id": "34163058-9956-46fa-9d72-c448b85be468",
   "metadata": {},
   "outputs": [],
   "source": []
  },
  {
   "cell_type": "code",
   "execution_count": null,
   "id": "f0e9c335-4975-42fd-b8a0-557f8df9db59",
   "metadata": {},
   "outputs": [],
   "source": []
  },
  {
   "cell_type": "code",
   "execution_count": null,
   "id": "68b7926e-ce7c-4ca7-b778-0667f867a8ef",
   "metadata": {},
   "outputs": [],
   "source": []
  },
  {
   "cell_type": "code",
   "execution_count": null,
   "id": "6451b531-770d-4bc6-99a3-7d5db2ec2f84",
   "metadata": {},
   "outputs": [],
   "source": []
  },
  {
   "cell_type": "code",
   "execution_count": null,
   "id": "f939c64b-4638-459e-9061-9dbd77b6fd91",
   "metadata": {},
   "outputs": [],
   "source": []
  },
  {
   "cell_type": "code",
   "execution_count": null,
   "id": "8e327f5f-87da-4604-a7fc-c05e5fd46fa3",
   "metadata": {},
   "outputs": [],
   "source": []
  },
  {
   "cell_type": "code",
   "execution_count": null,
   "id": "0a3b7205-2da0-4d79-99f2-c48dc01b85bc",
   "metadata": {},
   "outputs": [],
   "source": []
  }
 ],
 "metadata": {
  "kernelspec": {
   "display_name": "Python 3 (ipykernel)",
   "language": "python",
   "name": "python3"
  },
  "language_info": {
   "codemirror_mode": {
    "name": "ipython",
    "version": 3
   },
   "file_extension": ".py",
   "mimetype": "text/x-python",
   "name": "python",
   "nbconvert_exporter": "python",
   "pygments_lexer": "ipython3",
   "version": "3.12.4"
  }
 },
 "nbformat": 4,
 "nbformat_minor": 5
}
