{
 "cells": [
  {
   "cell_type": "markdown",
   "id": "510a79f5-41ae-4c6e-8e09-121013bc4e68",
   "metadata": {},
   "source": [
    "# Names Scores - Problem 22\n",
    "<p>Using <a href=\"resources/documents/0022_names.txt\">names.txt</a> (right click and 'Save Link/Target As...'), a 46K text file containing over five-thousand first names, begin by sorting it into alphabetical order. Then working out the alphabetical value for each name, multiply this value by its alphabetical position in the list to obtain a name score.</p>\n",
    "<p>For example, when the list is sorted into alphabetical order, COLIN, which is worth $3 + 15 + 12 + 9 + 14 = 53$, is the $938$th name in the list. So, COLIN would obtain a score of $938 \\times 53 = 49714$.</p>\n",
    "<p>What is the total of all the name scores in the file?</p>\n"
   ]
  },
  {
   "cell_type": "markdown",
   "id": "af552c0f-b7e6-4fc1-b56f-919d7021a2aa",
   "metadata": {},
   "source": [
    "## Solution."
   ]
  },
  {
   "cell_type": "code",
   "execution_count": 17,
   "id": "aab5bcfc-070e-4f7e-899b-9b9f698a5203",
   "metadata": {},
   "outputs": [],
   "source": [
    "with open('data_22.txt', 'r') as file:\n",
    "    s = file.read()\n",
    "data = s.split('\",\"')\n",
    "data[0] = data[0][1:]\n",
    "data[-1] = data[-1][:-1]"
   ]
  },
  {
   "cell_type": "code",
   "execution_count": 30,
   "id": "b12212f9-4234-47a7-8fc0-a351d73367e4",
   "metadata": {},
   "outputs": [],
   "source": [
    "def name_score(s):\n",
    "    ans = 0\n",
    "    for char in s:\n",
    "        ans += (ord(char.lower()) - ord('a') + 1)\n",
    "    return ans"
   ]
  },
  {
   "cell_type": "code",
   "execution_count": 32,
   "id": "ee9b0b27-6eed-400e-9171-93e266436a27",
   "metadata": {},
   "outputs": [],
   "source": [
    "def sol22(arr):\n",
    "    arr = sorted(arr)\n",
    "    ans = 0\n",
    "    for i, el in enumerate(arr):\n",
    "        ans += (i+1)*name_score(el)\n",
    "    return ans"
   ]
  },
  {
   "cell_type": "code",
   "execution_count": 34,
   "id": "bd5d0a34-db24-42da-a1ee-954975e57330",
   "metadata": {},
   "outputs": [
    {
     "data": {
      "text/plain": [
       "871198282"
      ]
     },
     "execution_count": 34,
     "metadata": {},
     "output_type": "execute_result"
    }
   ],
   "source": [
    "sol22(data)"
   ]
  },
  {
   "cell_type": "code",
   "execution_count": null,
   "id": "0cf9bd1c-b716-4fc3-a7f3-da552fad3608",
   "metadata": {},
   "outputs": [],
   "source": []
  }
 ],
 "metadata": {
  "kernelspec": {
   "display_name": "Python 3 (ipykernel)",
   "language": "python",
   "name": "python3"
  },
  "language_info": {
   "codemirror_mode": {
    "name": "ipython",
    "version": 3
   },
   "file_extension": ".py",
   "mimetype": "text/x-python",
   "name": "python",
   "nbconvert_exporter": "python",
   "pygments_lexer": "ipython3",
   "version": "3.12.4"
  }
 },
 "nbformat": 4,
 "nbformat_minor": 5
}
