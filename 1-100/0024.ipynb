{
 "cells": [
  {
   "cell_type": "markdown",
   "id": "f0f79791-28fb-4d4e-89d8-645aed06a814",
   "metadata": {},
   "source": [
    "# Lexicographic Permutations - Problem 24\n",
    "<p>A permutation is an ordered arrangement of objects. For example, 3124 is one possible permutation of the digits 1, 2, 3 and 4. If all of the permutations are listed numerically or alphabetically, we call it lexicographic order. The lexicographic permutations of 0, 1 and 2 are:</p>\n",
    "<p class=\"center\">012   021   102   120   201   210</p>\n",
    "<p>What is the millionth lexicographic permutation of the digits 0, 1, 2, 3, 4, 5, 6, 7, 8 and 9?</p>"
   ]
  },
  {
   "cell_type": "markdown",
   "id": "b124cdd3-59d8-48e4-a68d-d910d82fd5db",
   "metadata": {},
   "source": [
    "## Solution."
   ]
  },
  {
   "cell_type": "code",
   "execution_count": 6,
   "id": "a1716289-01d2-4bd8-8d38-c96c6748479d",
   "metadata": {},
   "outputs": [],
   "source": [
    "from math import factorial"
   ]
  },
  {
   "cell_type": "code",
   "execution_count": 25,
   "id": "801e50a0-3b7f-4b3c-b2ab-5a09e3393d31",
   "metadata": {},
   "outputs": [],
   "source": [
    "from math import factorial\n",
    "\n",
    "def lex(n, arr):\n",
    "    '''\n",
    "    Returns the n-th lexicographic permutation of the elements of arr (arr is s.t. arr[i] < arr[j])\n",
    "    '''\n",
    "    if len(arr) == 1:\n",
    "        return arr[0]\n",
    "    \n",
    "    l = len(arr)\n",
    "    f = factorial(l - 1)\n",
    "    \n",
    "    idx = (n - 1) // f\n",
    "    current = arr[idx]\n",
    "    \n",
    "    arr = arr[:idx] + arr[idx + 1:]\n",
    "    \n",
    "    return current + lex(n - idx * f, arr)"
   ]
  },
  {
   "cell_type": "code",
   "execution_count": 26,
   "id": "ce60f44a-5734-45ed-a022-1ac836b97214",
   "metadata": {},
   "outputs": [
    {
     "data": {
      "text/plain": [
       "2783915460"
      ]
     },
     "execution_count": 26,
     "metadata": {},
     "output_type": "execute_result"
    }
   ],
   "source": [
    "int(lex(1_000_000, [str(i) for i in range(10)]))"
   ]
  },
  {
   "cell_type": "code",
   "execution_count": null,
   "id": "045c391d-7dc7-4cf6-93c7-61b4b20e9a8e",
   "metadata": {},
   "outputs": [],
   "source": []
  }
 ],
 "metadata": {
  "kernelspec": {
   "display_name": "Python 3 (ipykernel)",
   "language": "python",
   "name": "python3"
  },
  "language_info": {
   "codemirror_mode": {
    "name": "ipython",
    "version": 3
   },
   "file_extension": ".py",
   "mimetype": "text/x-python",
   "name": "python",
   "nbconvert_exporter": "python",
   "pygments_lexer": "ipython3",
   "version": "3.12.4"
  }
 },
 "nbformat": 4,
 "nbformat_minor": 5
}
