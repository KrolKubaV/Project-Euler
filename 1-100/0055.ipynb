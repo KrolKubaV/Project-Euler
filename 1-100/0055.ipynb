{
 "cells": [
  {
   "cell_type": "markdown",
   "id": "8ee402ae-2741-40bd-80b7-30aaa9f78aed",
   "metadata": {},
   "source": [
    "# Lychrel Numbers - Problem 55\n",
    "<p>If we take $47$, reverse and add, $47 + 74 = 121$, which is palindromic.</p>\n",
    "<p>Not all numbers produce palindromes so quickly. For example,</p>\n",
    "\\begin{align}\n",
    "349 + 943 &= 1292\\\\\n",
    "1292 + 2921 &= 4213\\\\\n",
    "4213 + 3124 &= 7337\n",
    "\\end{align}\n",
    "<p>That is, $349$ took three iterations to arrive at a palindrome.</p>\n",
    "<p>Although no one has proved it yet, it is thought that some numbers, like $196$, never produce a palindrome. A number that never forms a palindrome through the reverse and add process is called a Lychrel number. Due to the theoretical nature of these numbers, and for the purpose of this problem, we shall assume that a number is Lychrel until proven otherwise. In addition you are given that for every number below ten-thousand, it will either (i) become a palindrome in less than fifty iterations, or, (ii) no one, with all the computing power that exists, has managed so far to map it to a palindrome. In fact, $10677$ is the first number to be shown to require over fifty iterations before producing a palindrome: $4668731596684224866951378664$ ($53$ iterations, $28$-digits).</p>\n",
    "<p>Surprisingly, there are palindromic numbers that are themselves Lychrel numbers; the first example is $4994$.</p>\n",
    "<p>How many Lychrel numbers are there below ten-thousand?</p>\n",
    "<p class=\"smaller\">NOTE: Wording was modified slightly on 24 April 2007 to emphasise the theoretical nature of Lychrel numbers.</p>"
   ]
  },
  {
   "cell_type": "markdown",
   "id": "df9b9194-b1db-47e9-b24b-d9dacb664d6b",
   "metadata": {},
   "source": [
    "## Solution."
   ]
  },
  {
   "cell_type": "code",
   "execution_count": 1,
   "id": "a128f631-df00-4413-a53e-213375113a74",
   "metadata": {},
   "outputs": [],
   "source": [
    "from functools import cache"
   ]
  },
  {
   "cell_type": "code",
   "execution_count": 42,
   "id": "a9eb0354-788e-46b1-b64d-986ae8a595a2",
   "metadata": {},
   "outputs": [],
   "source": [
    "def is_palindrome(n):\n",
    "    return str(n) == str(n)[::-1]"
   ]
  },
  {
   "cell_type": "code",
   "execution_count": 45,
   "id": "2f6c2913-1689-432f-b166-437fd44b4470",
   "metadata": {},
   "outputs": [],
   "source": [
    "def number_of_iterations(n):\n",
    "    a = 0\n",
    "    while True:\n",
    "        a += 1\n",
    "        n = n+int(str(n)[::-1])\n",
    "\n",
    "        if a == 50 or is_palindrome(n):\n",
    "            break\n",
    "            \n",
    "    return a"
   ]
  },
  {
   "cell_type": "code",
   "execution_count": 47,
   "id": "34f177f1-b878-4958-b203-9fbfc002be6f",
   "metadata": {},
   "outputs": [
    {
     "data": {
      "text/plain": [
       "6208"
      ]
     },
     "execution_count": 47,
     "metadata": {},
     "output_type": "execute_result"
    }
   ],
   "source": [
    "ans = 0\n",
    "for i in range(1, 10_0001):\n",
    "    if number_of_iterations(i) == 50:\n",
    "        ans += 1\n",
    "\n",
    "ans"
   ]
  },
  {
   "cell_type": "code",
   "execution_count": null,
   "id": "1bb98209-c723-4cc2-ad47-79a3761bc512",
   "metadata": {},
   "outputs": [],
   "source": []
  },
  {
   "cell_type": "code",
   "execution_count": null,
   "id": "c4f10821-e253-42e9-9952-279094a6813a",
   "metadata": {},
   "outputs": [],
   "source": []
  },
  {
   "cell_type": "code",
   "execution_count": null,
   "id": "b1f1e32c-61c2-4007-902e-7aee12ca01c6",
   "metadata": {},
   "outputs": [],
   "source": []
  },
  {
   "cell_type": "code",
   "execution_count": null,
   "id": "34ecac11-e0d1-442f-b264-69021cb414b3",
   "metadata": {},
   "outputs": [],
   "source": []
  },
  {
   "cell_type": "code",
   "execution_count": null,
   "id": "55447730-70d1-44f9-9d38-d3cf0a321b9a",
   "metadata": {},
   "outputs": [],
   "source": []
  },
  {
   "cell_type": "code",
   "execution_count": null,
   "id": "83aff079-6f7b-4488-9e64-4f96c4177c09",
   "metadata": {},
   "outputs": [],
   "source": []
  },
  {
   "cell_type": "code",
   "execution_count": null,
   "id": "7527e587-2585-4b64-8eab-463a83d42438",
   "metadata": {},
   "outputs": [],
   "source": []
  },
  {
   "cell_type": "code",
   "execution_count": null,
   "id": "45dd2dbd-5f2a-455e-a7dd-d5b5d940ae28",
   "metadata": {},
   "outputs": [],
   "source": []
  },
  {
   "cell_type": "code",
   "execution_count": null,
   "id": "a075e3f4-c775-4e51-9ef2-78c1349d36c5",
   "metadata": {},
   "outputs": [],
   "source": []
  }
 ],
 "metadata": {
  "kernelspec": {
   "display_name": "Python 3 (ipykernel)",
   "language": "python",
   "name": "python3"
  },
  "language_info": {
   "codemirror_mode": {
    "name": "ipython",
    "version": 3
   },
   "file_extension": ".py",
   "mimetype": "text/x-python",
   "name": "python",
   "nbconvert_exporter": "python",
   "pygments_lexer": "ipython3",
   "version": "3.12.4"
  }
 },
 "nbformat": 4,
 "nbformat_minor": 5
}
