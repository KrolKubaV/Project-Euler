{
 "cells": [
  {
   "cell_type": "markdown",
   "id": "0d3c7caf-5198-4ee6-9d35-cb5161fca771",
   "metadata": {},
   "source": [
    "# Poker Hands - Problem 54\n",
    "<p>In the card game poker, a hand consists of five cards and are ranked, from lowest to highest, in the following way:</p>\n",
    "<ul><li><b>High Card</b>: Highest value card.</li>\n",
    "<li><b>One Pair</b>: Two cards of the same value.</li>\n",
    "<li><b>Two Pairs</b>: Two different pairs.</li>\n",
    "<li><b>Three of a Kind</b>: Three cards of the same value.</li>\n",
    "<li><b>Straight</b>: All cards are consecutive values.</li>\n",
    "<li><b>Flush</b>: All cards of the same suit.</li>\n",
    "<li><b>Full House</b>: Three of a kind and a pair.</li>\n",
    "<li><b>Four of a Kind</b>: Four cards of the same value.</li>\n",
    "<li><b>Straight Flush</b>: All cards are consecutive values of same suit.</li>\n",
    "<li><b>Royal Flush</b>: Ten, Jack, Queen, King, Ace, in same suit.</li>\n",
    "</ul><p>The cards are valued in the order:<br>2, 3, 4, 5, 6, 7, 8, 9, 10, Jack, Queen, King, Ace.</p>\n",
    "<p>If two players have the same ranked hands then the rank made up of the highest value wins; for example, a pair of eights beats a pair of fives (see example 1 below). But if two ranks tie, for example, both players have a pair of queens, then highest cards in each hand are compared (see example 4 below); if the highest cards tie then the next highest cards are compared, and so on.</p>\n",
    "<p>Consider the following five hands dealt to two players:</p>\n",
    "<div class=\"center\">\n",
    "<table><tr><td><b>Hand</b></td><td> </td><td><b>Player 1</b></td><td> </td><td><b>Player 2</b></td><td> </td><td><b>Winner</b></td>\n",
    "</tr><tr><td><b>1</b></td><td> </td><td>5H 5C 6S 7S KD<br><div class=\"smaller\">Pair of Fives</div></td><td> </td><td>2C 3S 8S 8D TD<br><div class=\"smaller\">Pair of Eights</div></td><td> </td><td>Player 2</td>\n",
    "</tr><tr><td><b>2</b></td><td> </td><td>5D 8C 9S JS AC<br><div class=\"smaller\">Highest card Ace</div></td><td> </td><td>2C 5C 7D 8S QH<br><div class=\"smaller\">Highest card Queen</div></td><td> </td><td>Player 1</td>\n",
    "</tr><tr><td><b>3</b></td><td> </td><td>2D 9C AS AH AC<br><div class=\"smaller\">Three Aces</div></td><td> </td><td>3D 6D 7D TD QD<br><div class=\"smaller\">Flush  with Diamonds</div></td><td> </td><td>Player 2</td>\n",
    "</tr><tr><td><b>4</b></td><td> </td><td>4D 6S 9H QH QC<br><div class=\"smaller\">Pair of Queens<br>Highest card Nine</div></td><td> </td><td>3D 6D 7H QD QS<br><div class=\"smaller\">Pair of Queens<br>Highest card Seven</div></td><td> </td><td>Player 1</td>\n",
    "</tr><tr><td><b>5</b></td><td> </td><td>2H 2D 4C 4D 4S<br><div class=\"smaller\">Full House<br>With Three Fours</div></td><td> </td><td>3C 3D 3S 9S 9D<br><div class=\"smaller\">Full House<br>with Three Threes</div></td><td> </td><td>Player 1</td>\n",
    "</tr></table></div>\n",
    "<p>The file, <a href=\"resources/documents/0054_poker.txt\">poker.txt</a>, contains one-thousand random hands dealt to two players. Each line of the file contains ten cards (separated by a single space): the first five are Player 1's cards and the last five are Player 2's cards. You can assume that all hands are valid (no invalid characters or repeated cards), each player's hand is in no specific order, and in each hand there is a clear winner.</p>\n",
    "<p>How many hands does Player 1 win?</p>"
   ]
  },
  {
   "cell_type": "markdown",
   "id": "d0487b84-8ac4-4de1-90c2-e8017768c3db",
   "metadata": {},
   "source": [
    "## Solution."
   ]
  },
  {
   "cell_type": "code",
   "execution_count": 1,
   "id": "1af0748e-3f9a-4171-8abb-994f08aa961b",
   "metadata": {},
   "outputs": [],
   "source": [
    "from collections import defaultdict"
   ]
  },
  {
   "cell_type": "code",
   "execution_count": 2,
   "id": "67e59038-9145-40b8-8e39-11d3d0e1c647",
   "metadata": {},
   "outputs": [],
   "source": [
    "with open('data_54.txt', 'r') as file:\n",
    "    s = file.read()\n",
    "\n",
    "data = [[[x for x in y.split(' ')[:5]],[x for x in y.split(' ')[5:]]] for y in s.split('\\n') if y != '']"
   ]
  },
  {
   "cell_type": "code",
   "execution_count": 4,
   "id": "90ac09d2-b321-4e9d-bea7-681bb114f562",
   "metadata": {},
   "outputs": [],
   "source": [
    "face_card_map = {'T': 10, 'J': 11, 'Q': 12, 'K': 13, 'A': 14}\n",
    "face_card_map.get(9)"
   ]
  },
  {
   "cell_type": "code",
   "execution_count": 5,
   "id": "fa793fcc-0b67-4824-917a-147fc2948817",
   "metadata": {},
   "outputs": [],
   "source": [
    "def modify_hand(hand):\n",
    "    suits = defaultdict(int)\n",
    "    values = defaultdict(int)\n",
    "    values_arr = []\n",
    "    \n",
    "    face_card_map = {'2':2, '3':3, '4':4, '5':5, '6':6, '7':7, '8':8, '9':9, 'T': 10, 'J': 11, 'Q': 12, 'K': 13, 'A': 14}\n",
    "    for card in hand:\n",
    "        suits[card[1]] += 1\n",
    "        value = face_card_map[card[0]]\n",
    "        values[value] += 1\n",
    "        values_arr.append(value)\n",
    "\n",
    "    return suits, values, sorted(values_arr)"
   ]
  },
  {
   "cell_type": "code",
   "execution_count": 6,
   "id": "c1c3aa2f-d41a-42aa-ac36-978c277d95b9",
   "metadata": {},
   "outputs": [],
   "source": [
    "def royal_flush(hand):\n",
    "    suits, values, values_arr = modify_hand(hand)\n",
    "    if len(suits) == 1:\n",
    "        if values['T'] == 1 and values['J'] == 1 and values['Q'] == 1 and values['K'] == 1 and values['A'] == 1:\n",
    "            return True\n",
    "\n",
    "    return False, -1"
   ]
  },
  {
   "cell_type": "code",
   "execution_count": 7,
   "id": "1a5fcdfe-7e30-493b-b7bd-266815a4e0b2",
   "metadata": {},
   "outputs": [],
   "source": [
    "def straight(hand):\n",
    "    suits, values, values_arr = modify_hand(hand)\n",
    "    for i in range(len(values_arr)-1):\n",
    "        if values_arr[i+1] - values_arr[i] != 1:\n",
    "            return False, -1      \n",
    "\n",
    "    return True, max(values_arr)"
   ]
  },
  {
   "cell_type": "code",
   "execution_count": 8,
   "id": "8fbcbf7e-e7e8-4cfe-9b74-661293e842d6",
   "metadata": {},
   "outputs": [],
   "source": [
    "def four_of_a_kind(hand):\n",
    "    suits, values, values_arr = modify_hand(hand)\n",
    "    if len(values) == 2:\n",
    "        for v in values:\n",
    "            if values[v] == 4:\n",
    "                return True, v\n",
    "\n",
    "    return False, -1"
   ]
  },
  {
   "cell_type": "code",
   "execution_count": 9,
   "id": "c515b753-b503-483d-b2aa-e904e1526508",
   "metadata": {},
   "outputs": [],
   "source": [
    "def three_of_a_kind(hand):\n",
    "    suits, values, values_arr = modify_hand(hand)\n",
    "    for v in values:\n",
    "        if values[v] == 3:\n",
    "            return True, v\n",
    "\n",
    "    return False, -1"
   ]
  },
  {
   "cell_type": "code",
   "execution_count": 10,
   "id": "27b09582-da5a-4396-b2a7-c4050689c894",
   "metadata": {},
   "outputs": [],
   "source": [
    "def one_pair(hand):\n",
    "    suits, values, values_arr = modify_hand(hand)\n",
    "    for v in values:\n",
    "        if values[v] == 2:\n",
    "            return True, v\n",
    "\n",
    "    return False, -1"
   ]
  },
  {
   "cell_type": "code",
   "execution_count": 11,
   "id": "4ec0d7f3-7661-43bc-84cd-7cc1e82fb6fb",
   "metadata": {},
   "outputs": [],
   "source": [
    "def two_pairs(hand):\n",
    "    suits, values, values_arr = modify_hand(hand)\n",
    "    pairs = 0\n",
    "    x =[]\n",
    "    for v in values:\n",
    "        if values[v] == 2:\n",
    "            pairs += 1\n",
    "            x.append(v)\n",
    "\n",
    "    if pairs == 2:\n",
    "        return True, max(x)\n",
    "    return False, -1"
   ]
  },
  {
   "cell_type": "code",
   "execution_count": 12,
   "id": "65472691-319e-4b4a-b69e-637b6424a0b6",
   "metadata": {},
   "outputs": [],
   "source": [
    "def full_house(hand):\n",
    "    suits, values, values_arr = modify_hand(hand)\n",
    "    pair = 0\n",
    "    three = 0 \n",
    "    for v in values:\n",
    "        if values[v] == 2:\n",
    "            pair = 1\n",
    "        elif values[v] == 3:\n",
    "            three = 1\n",
    "\n",
    "    if pair == 1 and three == 1:\n",
    "        return True, max(values_arr)\n",
    "    return False, -1"
   ]
  },
  {
   "cell_type": "code",
   "execution_count": 13,
   "id": "08681a2c-6e02-4624-85f7-986eb828607e",
   "metadata": {},
   "outputs": [],
   "source": [
    "def flush(hand):\n",
    "    suits, values, values_arr = modify_hand(hand)\n",
    "    if len(suits) == 1:\n",
    "        return True, max(values_arr)\n",
    "    return False, -1"
   ]
  },
  {
   "cell_type": "code",
   "execution_count": 14,
   "id": "b3906c8e-4707-4c39-bc07-efbb249f4e2a",
   "metadata": {},
   "outputs": [],
   "source": [
    "def straight_flush(hand):\n",
    "    suits, values, values_arr = modify_hand(hand)\n",
    "    return flush(hand)[0] and straight(hand)[0], max(values_arr)"
   ]
  },
  {
   "cell_type": "code",
   "execution_count": 15,
   "id": "698cc884-4ee0-4e29-9b11-dbe66b38c9cd",
   "metadata": {},
   "outputs": [],
   "source": [
    "def hand_score(hand):\n",
    "    suits, values, values_arr = modify_hand(hand)\n",
    "    if royal_flush(hand)[0]:\n",
    "        return 10, royal_flush(hand)[1]\n",
    "    elif straight_flush(hand)[0]:\n",
    "        return 9, straight_flush(hand)[1]\n",
    "    elif four_of_a_kind(hand)[0]:\n",
    "        return 8, four_of_a_kind(hand)[1]\n",
    "    elif full_house(hand)[0]:\n",
    "        return 7, full_house(hand)[1]\n",
    "    elif flush(hand)[0]:\n",
    "        return 6, flush(hand)[1]\n",
    "    elif straight(hand)[0]:\n",
    "        return 5, straight(hand)[1]\n",
    "    elif three_of_a_kind(hand)[0]:\n",
    "        return 4, three_of_a_kind(hand)[1]\n",
    "    elif two_pairs(hand)[0]:\n",
    "        return 3, two_pairs(hand)[1]\n",
    "    elif one_pair(hand)[0]:\n",
    "        return 2, one_pair(hand)[1]\n",
    "\n",
    "    return 1, max(values_arr)"
   ]
  },
  {
   "cell_type": "code",
   "execution_count": 16,
   "id": "85ae2009-ca73-4ba0-8023-5fa3ccb1383d",
   "metadata": {},
   "outputs": [],
   "source": [
    "def compare_hands(hand1, hand2):\n",
    "    s1, s2 = hand_score(hand1), hand_score(hand2)\n",
    "    suits1, values1, values_arr1 = modify_hand(hand1)\n",
    "    suits2, values2, values_arr2 = modify_hand(hand2)\n",
    "    if s1[0] > s2[0]:\n",
    "        return True\n",
    "\n",
    "    if s1[1] > s2[1]:\n",
    "        return True\n",
    "\n",
    "    values_arr1 = values_arr1[::-1]\n",
    "    values_arr2 = values_arr2[::-1]\n",
    "\n",
    "    for i in range(len(values_arr1)):\n",
    "        if values_arr1[i] > values_arr2[i]:\n",
    "            return True\n",
    "\n",
    "    return False\n",
    "    \n",
    "\n"
   ]
  },
  {
   "cell_type": "code",
   "execution_count": 18,
   "id": "f024d9b8-d8af-438a-a1cb-cf869ab4f972",
   "metadata": {},
   "outputs": [
    {
     "name": "stdout",
     "output_type": "stream",
     "text": [
      "833\n"
     ]
    }
   ],
   "source": [
    "ans = 0\n",
    "for battle in data:\n",
    "    hand1, hand2 = battle\n",
    "    ans += compare_hands(hand1, hand2)\n",
    "\n",
    "print(ans)"
   ]
  },
  {
   "cell_type": "code",
   "execution_count": null,
   "id": "b45b2957-79a9-456d-a6a0-775f98127ce5",
   "metadata": {},
   "outputs": [],
   "source": []
  },
  {
   "cell_type": "code",
   "execution_count": null,
   "id": "89f11c6a-4b2e-4642-9036-e9bb670bab61",
   "metadata": {},
   "outputs": [],
   "source": []
  },
  {
   "cell_type": "code",
   "execution_count": null,
   "id": "58e15798-cef8-4324-b3b1-81b8c95c756b",
   "metadata": {},
   "outputs": [],
   "source": []
  },
  {
   "cell_type": "code",
   "execution_count": null,
   "id": "e1e1caa6-32ee-44e4-9af4-3bd940c71da0",
   "metadata": {},
   "outputs": [],
   "source": []
  },
  {
   "cell_type": "code",
   "execution_count": null,
   "id": "33c5d7d7-a6e2-4f86-9b79-28c4914d49c6",
   "metadata": {},
   "outputs": [],
   "source": []
  },
  {
   "cell_type": "code",
   "execution_count": null,
   "id": "66f47deb-9977-4faf-9aa2-007f84c3ad88",
   "metadata": {},
   "outputs": [],
   "source": []
  },
  {
   "cell_type": "code",
   "execution_count": null,
   "id": "82b77570-7cb0-403e-9476-fac804a26d0e",
   "metadata": {},
   "outputs": [],
   "source": []
  }
 ],
 "metadata": {
  "kernelspec": {
   "display_name": "Python 3 (ipykernel)",
   "language": "python",
   "name": "python3"
  },
  "language_info": {
   "codemirror_mode": {
    "name": "ipython",
    "version": 3
   },
   "file_extension": ".py",
   "mimetype": "text/x-python",
   "name": "python",
   "nbconvert_exporter": "python",
   "pygments_lexer": "ipython3",
   "version": "3.13.0"
  }
 },
 "nbformat": 4,
 "nbformat_minor": 5
}
