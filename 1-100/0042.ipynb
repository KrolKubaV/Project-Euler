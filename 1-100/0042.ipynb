{
 "cells": [
  {
   "cell_type": "markdown",
   "id": "c7b522b0-7077-4e13-a703-15ab8eba7d5b",
   "metadata": {},
   "source": [
    "# Coded Triangle Numbers - Problem 42\n",
    "<p>The $n$<sup>th</sup> term of the sequence of triangle numbers is given by, $t_n = \\frac12n(n+1)$; so the first ten triangle numbers are:\n",
    "$$1, 3, 6, 10, 15, 21, 28, 36, 45, 55, \\dots$$</p>\n",
    "<p>By converting each letter in a word to a number corresponding to its alphabetical position and adding these values we form a word value. For example, the word value for SKY is $19 + 11 + 25 = 55 = t_{10}$. If the word value is a triangle number then we shall call the word a triangle word.</p>\n",
    "<p>Using <a href=\"resources/documents/0042_words.txt\">words.txt</a> (right click and 'Save Link/Target As...'), a 16K text file containing nearly two-thousand common English words, how many are triangle words?</p>"
   ]
  },
  {
   "cell_type": "markdown",
   "id": "e0ca2ce1-b420-44a6-82b0-0ec609543235",
   "metadata": {},
   "source": [
    "## Solution."
   ]
  },
  {
   "cell_type": "code",
   "execution_count": 1,
   "id": "34ea2553-66d4-4a56-bc98-59733016420d",
   "metadata": {},
   "outputs": [],
   "source": [
    "triangle = [n*(n+1)//2 for n in range(100)]"
   ]
  },
  {
   "cell_type": "code",
   "execution_count": 12,
   "id": "3422ba05-711c-48be-92de-5fda0e053dca",
   "metadata": {},
   "outputs": [],
   "source": [
    "with open('data_42.txt', 'r') as file:\n",
    "    s = file.read()\n",
    "\n",
    "data = [x for x in s.split('\",\"')]\n",
    "data[0] = data[0][1:]\n",
    "data[-1] = data[-1][:-1]"
   ]
  },
  {
   "cell_type": "code",
   "execution_count": 16,
   "id": "ee231e4c-9dc4-4ca2-bcfc-a77df689d8c7",
   "metadata": {},
   "outputs": [],
   "source": [
    "def word_to_number(word):\n",
    "    ans = 0\n",
    "    for l in word:\n",
    "        ans += (ord(l.lower()) - ord('a') + 1)\n",
    "    return ans"
   ]
  },
  {
   "cell_type": "code",
   "execution_count": 18,
   "id": "23531d06-ffce-46a3-aea7-f63349885481",
   "metadata": {},
   "outputs": [
    {
     "name": "stdout",
     "output_type": "stream",
     "text": [
      "162\n"
     ]
    }
   ],
   "source": [
    "counter = 0\n",
    "for word in data:\n",
    "    if word_to_number(word) in triangle:\n",
    "        counter += 1\n",
    "\n",
    "print(counter)"
   ]
  },
  {
   "cell_type": "code",
   "execution_count": null,
   "id": "2c2da10d-68c5-441a-bcf2-071960d7b832",
   "metadata": {},
   "outputs": [],
   "source": []
  },
  {
   "cell_type": "code",
   "execution_count": null,
   "id": "2412873b-bc7e-4a05-a046-f326b5fa4e3a",
   "metadata": {},
   "outputs": [],
   "source": []
  },
  {
   "cell_type": "code",
   "execution_count": null,
   "id": "e4cdd299-4f8e-4868-bae3-04759ffeef3a",
   "metadata": {},
   "outputs": [],
   "source": []
  }
 ],
 "metadata": {
  "kernelspec": {
   "display_name": "Python 3 (ipykernel)",
   "language": "python",
   "name": "python3"
  },
  "language_info": {
   "codemirror_mode": {
    "name": "ipython",
    "version": 3
   },
   "file_extension": ".py",
   "mimetype": "text/x-python",
   "name": "python",
   "nbconvert_exporter": "python",
   "pygments_lexer": "ipython3",
   "version": "3.12.4"
  }
 },
 "nbformat": 4,
 "nbformat_minor": 5
}
