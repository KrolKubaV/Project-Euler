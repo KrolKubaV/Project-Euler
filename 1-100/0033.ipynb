{
 "cells": [
  {
   "cell_type": "markdown",
   "id": "34fe44d2-ccc7-4795-b460-d6a730b8427e",
   "metadata": {},
   "source": [
    "# Digit Cancelling Fractions - Problem 33\n",
    "<p>The fraction $49/98$ is a curious fraction, as an inexperienced mathematician in attempting to simplify it may incorrectly believe that $49/98 = 4/8$, which is correct, is obtained by cancelling the $9$s.</p>\n",
    "<p>We shall consider fractions like, $30/50 = 3/5$, to be trivial examples.</p>\n",
    "<p>There are exactly four non-trivial examples of this type of fraction, less than one in value, and containing two digits in the numerator and denominator.</p>\n",
    "<p>If the product of these four fractions is given in its lowest common terms, find the value of the denominator.</p>"
   ]
  },
  {
   "cell_type": "markdown",
   "id": "dbea187d-535b-420a-9241-4bd2bd44b040",
   "metadata": {},
   "source": [
    "## Solution."
   ]
  },
  {
   "cell_type": "code",
   "execution_count": 3,
   "id": "1fc1e792-2914-48ed-83d2-0ba1a148912e",
   "metadata": {},
   "outputs": [],
   "source": [
    "from math import gcd"
   ]
  },
  {
   "cell_type": "code",
   "execution_count": 4,
   "id": "b6a79d95-2c50-4512-84e4-a0fd6ca0ae12",
   "metadata": {},
   "outputs": [],
   "source": [
    "def simplify_frac(a, b):\n",
    "    return (a//gcd(a,b), b//gcd(a,b))"
   ]
  },
  {
   "cell_type": "code",
   "execution_count": 12,
   "id": "ec579db5-124d-4d5f-979b-62b1580db610",
   "metadata": {},
   "outputs": [
    {
     "data": {
      "text/plain": [
       "{(16, 64), (19, 95), (26, 65), (49, 98)}"
      ]
     },
     "execution_count": 12,
     "metadata": {},
     "output_type": "execute_result"
    }
   ],
   "source": [
    "ans = set()\n",
    "for a in range(10, 100):\n",
    "    a_1 = a//10\n",
    "    a_2 = a%10\n",
    "\n",
    "    if a_2 >= a_1:\n",
    "        for c in range(10):\n",
    "            b = 10*a_2 + c\n",
    "            if a < b and simplify_frac(a,b) == simplify_frac(a_1, c):\n",
    "                ans.add((a,b))\n",
    "\n",
    "    if a_2 != 0:\n",
    "        for c in range(1, 10):\n",
    "            b = 10*c + a_1\n",
    "            if a < b and simplify_frac(a,b) == simplify_frac(a_2, c):\n",
    "                 ans.add((a,b))\n",
    "\n",
    "ans        "
   ]
  },
  {
   "cell_type": "code",
   "execution_count": null,
   "id": "b4bb4238-8eae-4198-82cf-4059ddee1939",
   "metadata": {},
   "outputs": [],
   "source": [
    "1/4 * 1/5 * 1x/5 "
   ]
  },
  {
   "cell_type": "code",
   "execution_count": null,
   "id": "e8a16210-fb6c-4c33-ab61-8dbe20bb956b",
   "metadata": {},
   "outputs": [],
   "source": []
  },
  {
   "cell_type": "code",
   "execution_count": null,
   "id": "9f992c25-2285-446d-9f21-338547eda5c8",
   "metadata": {},
   "outputs": [],
   "source": []
  },
  {
   "cell_type": "code",
   "execution_count": null,
   "id": "430463de-6603-4591-9352-ddad110d7429",
   "metadata": {},
   "outputs": [],
   "source": []
  }
 ],
 "metadata": {
  "kernelspec": {
   "display_name": "Python 3 (ipykernel)",
   "language": "python",
   "name": "python3"
  },
  "language_info": {
   "codemirror_mode": {
    "name": "ipython",
    "version": 3
   },
   "file_extension": ".py",
   "mimetype": "text/x-python",
   "name": "python",
   "nbconvert_exporter": "python",
   "pygments_lexer": "ipython3",
   "version": "3.12.4"
  }
 },
 "nbformat": 4,
 "nbformat_minor": 5
}
