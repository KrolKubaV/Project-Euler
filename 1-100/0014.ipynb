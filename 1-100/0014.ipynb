{
 "cells": [
  {
   "cell_type": "markdown",
   "id": "cc738044-30ce-4a85-b090-d839609f8312",
   "metadata": {},
   "source": [
    "# Longest Collatz Sequence - Problem 14\n",
    "<p>The following iterative sequence is defined for the set of positive integers:</p>\n",
    "<ul style=\"list-style-type:none;\">\n",
    "<li>$n \\to n/2$ ($n$ is even)</li>\n",
    "<li>$n \\to 3n + 1$ ($n$ is odd)</li></ul>\n",
    "<p>Using the rule above and starting with $13$, we generate the following sequence:\n",
    "$$13 \\to 40 \\to 20 \\to 10 \\to 5 \\to 16 \\to 8 \\to 4 \\to 2 \\to 1.$$</p>\n",
    "<p>It can be seen that this sequence (starting at $13$ and finishing at $1$) contains $10$ terms. Although it has not been proved yet (Collatz Problem), it is thought that all starting numbers finish at $1$.</p>\n",
    "<p>Which starting number, under one million, produces the longest chain?</p>\n",
    "<p class=\"note\"><b>NOTE:</b> Once the chain starts the terms are allowed to go above one million.</p>"
   ]
  },
  {
   "cell_type": "markdown",
   "id": "4bfcd089-96e5-438c-a1a2-3f5cbd1d132f",
   "metadata": {},
   "source": [
    "## Solution."
   ]
  },
  {
   "cell_type": "code",
   "execution_count": 3,
   "id": "84e05f9b-de88-4716-a90c-17b7788cd38a",
   "metadata": {},
   "outputs": [],
   "source": [
    "from functools import cache"
   ]
  },
  {
   "cell_type": "code",
   "execution_count": 36,
   "id": "2485c566-cc5b-4333-aca5-6f5a926c0de3",
   "metadata": {},
   "outputs": [],
   "source": [
    "@cache\n",
    "def max_len(n):\n",
    "    seen.add(n)\n",
    "    if n == 1:\n",
    "        return 1\n",
    "    if n%2 == 1:\n",
    "        seen.add(3*n + 1)\n",
    "        return 2 + max_len((3*n+1)//2)\n",
    "    return 1 + max_len(n//2)"
   ]
  },
  {
   "cell_type": "code",
   "execution_count": 37,
   "id": "0d8f0801-3fef-4506-b47a-4e968656ce30",
   "metadata": {},
   "outputs": [],
   "source": [
    "def sol14(N):\n",
    "    '''\n",
    "    Finds the number under N that produces the longest chain\n",
    "    '''\n",
    "    seen = set()\n",
    "    m = -1\n",
    "    for n in range(1, N, 1):\n",
    "        if n not in seen:\n",
    "            c = max_len(n)\n",
    "            if c > m:\n",
    "                m = c\n",
    "                ans = n\n",
    "    return ans"
   ]
  },
  {
   "cell_type": "code",
   "execution_count": 39,
   "id": "cae9d410-de17-41dc-b8a4-6a68c2417d63",
   "metadata": {},
   "outputs": [
    {
     "data": {
      "text/plain": [
       "837799"
      ]
     },
     "execution_count": 39,
     "metadata": {},
     "output_type": "execute_result"
    }
   ],
   "source": [
    "sol14(1_000_000)"
   ]
  },
  {
   "cell_type": "code",
   "execution_count": null,
   "id": "27fe6a95-306e-407a-be27-540be8296062",
   "metadata": {},
   "outputs": [],
   "source": []
  }
 ],
 "metadata": {
  "kernelspec": {
   "display_name": "Python 3 (ipykernel)",
   "language": "python",
   "name": "python3"
  },
  "language_info": {
   "codemirror_mode": {
    "name": "ipython",
    "version": 3
   },
   "file_extension": ".py",
   "mimetype": "text/x-python",
   "name": "python",
   "nbconvert_exporter": "python",
   "pygments_lexer": "ipython3",
   "version": "3.12.4"
  }
 },
 "nbformat": 4,
 "nbformat_minor": 5
}
