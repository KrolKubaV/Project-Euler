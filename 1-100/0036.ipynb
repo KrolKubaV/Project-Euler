{
 "cells": [
  {
   "cell_type": "markdown",
   "id": "941987b3-4d7e-4600-8f22-b5f98720266c",
   "metadata": {},
   "source": [
    "# Double-base Palindromes - Problem 36\n",
    "<p>The decimal number, $585 = 1001001001_2$ (binary), is palindromic in both bases.</p>\n",
    "<p>Find the sum of all numbers, less than one million, which are palindromic in base $10$ and base $2$.</p>\n",
    "<p class=\"smaller\">(Please note that the palindromic number, in either base, may not include leading zeros.)</p>"
   ]
  },
  {
   "cell_type": "markdown",
   "id": "9daf0781-5283-4da0-aad6-c2b8680e9600",
   "metadata": {},
   "source": [
    "## Solution."
   ]
  },
  {
   "cell_type": "code",
   "execution_count": 16,
   "id": "48d61fc9-88f5-415a-a38e-441dd8bf52c7",
   "metadata": {},
   "outputs": [],
   "source": [
    "def decimal_to_binary(n):\n",
    "    if n == 0:\n",
    "        return '0'\n",
    "    if n == 1:\n",
    "        return '1'\n",
    "    return decimal_to_binary(n // 2) + str(n % 2)"
   ]
  },
  {
   "cell_type": "code",
   "execution_count": 24,
   "id": "cfca9b88-f483-43b1-8276-9a0685f11a42",
   "metadata": {},
   "outputs": [
    {
     "name": "stdout",
     "output_type": "stream",
     "text": [
      "872162\n"
     ]
    }
   ],
   "source": [
    "ans = 0\n",
    "\n",
    "for k in range(1, 1_001, 1):\n",
    "    n = int(str(k) + str(k)[::-1])\n",
    "    if is_palindrome(decimal_to_binary(n)):\n",
    "        ans += n\n",
    "\n",
    "for k in range(1, 1_01, 1):\n",
    "    for i in range(1, 10):\n",
    "        n = int(str(k) + str(i) + str(k)[::-1])\n",
    "        if is_palindrome(decimal_to_binary(n)):\n",
    "            ans += n\n",
    "    \n",
    "print(ans)"
   ]
  },
  {
   "cell_type": "code",
   "execution_count": null,
   "id": "9038a85b-28a1-49a2-9885-1d669583c22c",
   "metadata": {},
   "outputs": [],
   "source": []
  },
  {
   "cell_type": "code",
   "execution_count": null,
   "id": "4866655b-500f-4a8e-8a43-e3a9efa0f9bb",
   "metadata": {},
   "outputs": [],
   "source": []
  },
  {
   "cell_type": "code",
   "execution_count": null,
   "id": "22ffb79f-9461-4eb3-a253-ebea6804ce3e",
   "metadata": {},
   "outputs": [],
   "source": []
  },
  {
   "cell_type": "code",
   "execution_count": null,
   "id": "ea876546-5569-4653-9272-35b685565609",
   "metadata": {},
   "outputs": [],
   "source": []
  }
 ],
 "metadata": {
  "kernelspec": {
   "display_name": "Python 3 (ipykernel)",
   "language": "python",
   "name": "python3"
  },
  "language_info": {
   "codemirror_mode": {
    "name": "ipython",
    "version": 3
   },
   "file_extension": ".py",
   "mimetype": "text/x-python",
   "name": "python",
   "nbconvert_exporter": "python",
   "pygments_lexer": "ipython3",
   "version": "3.12.4"
  }
 },
 "nbformat": 4,
 "nbformat_minor": 5
}
