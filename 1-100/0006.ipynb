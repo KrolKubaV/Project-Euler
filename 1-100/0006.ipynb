{
 "cells": [
  {
   "cell_type": "markdown",
   "id": "f9968487-b2c2-45ba-b055-6eb4ebb32feb",
   "metadata": {},
   "source": [
    "# Sum Square Difference - Problem 6\n",
    "<p>The sum of the squares of the first ten natural numbers is,</p>\n",
    "$$1^2 + 2^2 + ... + 10^2 = 385.$$\n",
    "<p>The square of the sum of the first ten natural numbers is,</p>\n",
    "$$(1 + 2 + ... + 10)^2 = 55^2 = 3025.$$\n",
    "<p>Hence the difference between the sum of the squares of the first ten natural numbers and the square of the sum is $3025 - 385 = 2640$.</p>\n",
    "<p>Find the difference between the sum of the squares of the first one hundred natural numbers and the square of the sum.</p>"
   ]
  },
  {
   "cell_type": "markdown",
   "id": "31718ec4-8f8e-4ae6-9875-ccda79cd90dd",
   "metadata": {},
   "source": [
    "## Solution."
   ]
  },
  {
   "cell_type": "code",
   "execution_count": 1,
   "id": "7fa55cb7-568a-4ada-acea-37ddbc6b51bb",
   "metadata": {},
   "outputs": [],
   "source": [
    "def S_1(n):\n",
    "    return n*(n+1)//2"
   ]
  },
  {
   "cell_type": "code",
   "execution_count": 2,
   "id": "0e96966b-eb10-43c0-914e-27f06b3b0d29",
   "metadata": {},
   "outputs": [],
   "source": [
    "def S_2(n):\n",
    "    return n*(n+1)*(2*n+1)//6"
   ]
  },
  {
   "cell_type": "code",
   "execution_count": 6,
   "id": "c349f1e7-16a9-4938-9c1b-def06448ba63",
   "metadata": {},
   "outputs": [],
   "source": [
    "def sol(n):\n",
    "    return S_1(n)**2- S_2(n)"
   ]
  },
  {
   "cell_type": "code",
   "execution_count": 8,
   "id": "0c67e406-f51e-4f0f-b959-ccb6b8fd7e5d",
   "metadata": {},
   "outputs": [
    {
     "data": {
      "text/plain": [
       "25164150"
      ]
     },
     "execution_count": 8,
     "metadata": {},
     "output_type": "execute_result"
    }
   ],
   "source": [
    "sol(100)"
   ]
  },
  {
   "cell_type": "code",
   "execution_count": null,
   "id": "a941f874-7d9d-49d8-9d10-4b6c04ed8373",
   "metadata": {},
   "outputs": [],
   "source": []
  },
  {
   "cell_type": "code",
   "execution_count": null,
   "id": "5469d1a0-4ae3-4237-9e72-f295498172e2",
   "metadata": {},
   "outputs": [],
   "source": []
  },
  {
   "cell_type": "code",
   "execution_count": null,
   "id": "59f89065-42a5-4563-a591-9dbc6d2d2d06",
   "metadata": {},
   "outputs": [],
   "source": []
  }
 ],
 "metadata": {
  "kernelspec": {
   "display_name": "Python 3 (ipykernel)",
   "language": "python",
   "name": "python3"
  },
  "language_info": {
   "codemirror_mode": {
    "name": "ipython",
    "version": 3
   },
   "file_extension": ".py",
   "mimetype": "text/x-python",
   "name": "python",
   "nbconvert_exporter": "python",
   "pygments_lexer": "ipython3",
   "version": "3.12.4"
  }
 },
 "nbformat": 4,
 "nbformat_minor": 5
}
