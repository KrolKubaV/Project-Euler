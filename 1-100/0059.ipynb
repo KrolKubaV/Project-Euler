{
 "cells": [
  {
   "cell_type": "markdown",
   "id": "22b709e8-0f40-472d-92ec-e0ca4f9bf832",
   "metadata": {},
   "source": [
    "# XOR Decryption - Problem 59\n",
    "<p>Each character on a computer is assigned a unique code and the preferred standard is ASCII (American Standard Code for Information Interchange). For example, uppercase A = 65, asterisk (*) = 42, and lowercase k = 107.</p>\n",
    "<p>A modern encryption method is to take a text file, convert the bytes to ASCII, then XOR each byte with a given value, taken from a secret key. The advantage with the XOR function is that using the same encryption key on the cipher text, restores the plain text; for example, 65 XOR 42 = 107, then 107 XOR 42 = 65.</p>\n",
    "<p>For unbreakable encryption, the key is the same length as the plain text message, and the key is made up of random bytes. The user would keep the encrypted message and the encryption key in different locations, and without both \"halves\", it is impossible to decrypt the message.</p>\n",
    "<p>Unfortunately, this method is impractical for most users, so the modified method is to use a password as a key. If the password is shorter than the message, which is likely, the key is repeated cyclically throughout the message. The balance for this method is using a sufficiently long password key for security, but short enough to be memorable.</p>\n",
    "<p>Your task has been made easy, as the encryption key consists of three lower case characters. Using <a href=\"resources/documents/0059_cipher.txt\">0059_cipher.txt</a> (right click and 'Save Link/Target As...'), a file containing the encrypted ASCII codes, and the knowledge that the plain text must contain common English words, decrypt the message and find the sum of the ASCII values in the original text.</p>"
   ]
  },
  {
   "cell_type": "markdown",
   "id": "c09973e9-0cb6-4eb8-b0e4-9219dcb3b967",
   "metadata": {},
   "source": [
    "## Solution."
   ]
  },
  {
   "cell_type": "code",
   "execution_count": 11,
   "id": "2097e845-b3ab-41cc-a050-74f46059f415",
   "metadata": {},
   "outputs": [],
   "source": [
    "with open('data_59.txt', 'r') as file:\n",
    "    s = file.read()\n",
    "data = [int(x) for x in s.split(',')]"
   ]
  },
  {
   "cell_type": "code",
   "execution_count": 86,
   "id": "299e112c-defa-463b-9157-05663be80b8e",
   "metadata": {},
   "outputs": [],
   "source": [
    "def arr_to_str(arr):\n",
    "    s = ''\n",
    "    for a in arr:\n",
    "        s += a\n",
    "    return s"
   ]
  },
  {
   "cell_type": "code",
   "execution_count": 71,
   "id": "3be08da0-a653-4f84-b3a4-0fa0df2f97f5",
   "metadata": {},
   "outputs": [],
   "source": [
    "def apply_xor(mess, password):\n",
    "    l_m = len(mess)\n",
    "    l_p = len(password)\n",
    "    i = 0\n",
    "    j = 0\n",
    "\n",
    "    ans = []\n",
    "    while i < l_m:\n",
    "        ans.append(chr(mess[i] ^ ord(password[j])))\n",
    "        i += 1\n",
    "        j = (j+1) % l_p\n",
    "\n",
    "    return ans"
   ]
  },
  {
   "cell_type": "code",
   "execution_count": 103,
   "id": "9843a40f-9d36-4789-b7a0-2600ab26296b",
   "metadata": {},
   "outputs": [],
   "source": [
    "def check(mess):\n",
    "    count = 0\n",
    "    if 'Euler' not in arr_to_str(mess):\n",
    "        return False\n",
    "\n",
    "    return True"
   ]
  },
  {
   "cell_type": "code",
   "execution_count": 104,
   "id": "820b82dd-fc94-499c-b3e9-63baff628159",
   "metadata": {},
   "outputs": [
    {
     "name": "stdout",
     "output_type": "stream",
     "text": [
      "exp An extract taken from the introduction of one of Euler's most celebrated papers, \"De summis serierum reciprocarum\" [On the sums of series of reciprocals]: I have recently found, quite unexpectedly, an elegant expression for the entire sum of this series 1 + 1/4 + 1/9 + 1/16 + etc., which depends on the quadrature of the circle, so that if the true sum of this series is obtained, from it at once the quadrature of the circle follows. Namely, I have found that the sum of this series is a sixth part of the square of the perimeter of the circle whose diameter is 1; or by putting the sum of this series equal to s, it has the ratio sqrt(6) multiplied by s to 1 of the perimeter to the diameter. I will soon show that the sum of this series to be approximately 1.644934066842264364; and from multiplying this number by six, and then taking the square root, the number 3.141592653589793238 is indeed produced, which expresses the perimeter of a circle whose diameter is 1. Following again the same steps by which I had arrived at this sum, I have discovered that the sum of the series 1 + 1/16 + 1/81 + 1/256 + 1/625 + etc. also depends on the quadrature of the circle. Namely, the sum of this multiplied by 90 gives the biquadrate (fourth power) of the circumference of the perimeter of a circle whose diameter is 1. And by similar reasoning I have likewise been able to determine the sums of the subsequent series in which the exponents are even numbers.\n"
     ]
    }
   ],
   "source": [
    "for i in range(ord('a'), ord('z')+1, 1):\n",
    "    for j in range(ord('a'), ord('z')+1, 1):\n",
    "        for k in range(ord('a'), ord('z')+1, 1):\n",
    "            password = chr(i) + chr(j) + chr(k)\n",
    "            if check(apply_xor(data, password)):\n",
    "                print(password, arr_to_str(apply_xor(data, password)))"
   ]
  },
  {
   "cell_type": "code",
   "execution_count": 105,
   "id": "ca6475ee-2b2a-4427-8b47-1042fe78528f",
   "metadata": {},
   "outputs": [
    {
     "data": {
      "text/plain": [
       "129448"
      ]
     },
     "execution_count": 105,
     "metadata": {},
     "output_type": "execute_result"
    }
   ],
   "source": [
    "sum(ord(x) for x in apply_xor(data, 'exp'))"
   ]
  },
  {
   "cell_type": "code",
   "execution_count": null,
   "id": "7b067730-9ba9-4fd5-9d6f-714f5ccdb6d3",
   "metadata": {},
   "outputs": [],
   "source": []
  },
  {
   "cell_type": "code",
   "execution_count": null,
   "id": "f48f34df-0342-48b5-bc6a-91ef76888b3c",
   "metadata": {},
   "outputs": [],
   "source": []
  },
  {
   "cell_type": "code",
   "execution_count": null,
   "id": "c7b50aa2-d03b-41f2-917a-0ed46489a23c",
   "metadata": {},
   "outputs": [],
   "source": []
  },
  {
   "cell_type": "code",
   "execution_count": null,
   "id": "24e9e430-49dd-4945-8121-a94ba13fbe21",
   "metadata": {},
   "outputs": [],
   "source": []
  },
  {
   "cell_type": "code",
   "execution_count": null,
   "id": "ed04cfce-face-45ca-a529-b44afbcbefec",
   "metadata": {},
   "outputs": [],
   "source": []
  },
  {
   "cell_type": "code",
   "execution_count": null,
   "id": "8e798510-09ea-4a4d-96f2-9b64c6b64cd4",
   "metadata": {},
   "outputs": [],
   "source": []
  },
  {
   "cell_type": "code",
   "execution_count": null,
   "id": "34a0746f-2bfb-4fe2-a699-56b9c2873b0d",
   "metadata": {},
   "outputs": [],
   "source": []
  },
  {
   "cell_type": "code",
   "execution_count": null,
   "id": "25b4a2b8-cd73-4200-8997-973a36a6622b",
   "metadata": {},
   "outputs": [],
   "source": []
  },
  {
   "cell_type": "code",
   "execution_count": null,
   "id": "b13f11cd-781b-4b1d-9200-668df7588117",
   "metadata": {},
   "outputs": [],
   "source": []
  },
  {
   "cell_type": "code",
   "execution_count": null,
   "id": "e3756d0a-ca7d-43b8-aa6a-1dd9f270973f",
   "metadata": {},
   "outputs": [],
   "source": []
  }
 ],
 "metadata": {
  "kernelspec": {
   "display_name": "Python 3 (ipykernel)",
   "language": "python",
   "name": "python3"
  },
  "language_info": {
   "codemirror_mode": {
    "name": "ipython",
    "version": 3
   },
   "file_extension": ".py",
   "mimetype": "text/x-python",
   "name": "python",
   "nbconvert_exporter": "python",
   "pygments_lexer": "ipython3",
   "version": "3.12.4"
  }
 },
 "nbformat": 4,
 "nbformat_minor": 5
}
