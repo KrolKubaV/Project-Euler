{
 "cells": [
  {
   "cell_type": "markdown",
   "id": "c03f09c2-cd41-489f-afb3-362221a283e1",
   "metadata": {},
   "source": [
    "# Special Pythagorean Triplet - Problem 9\n",
    "<p>A Pythagorean triplet is a set of three natural numbers, $a \\lt b \\lt c$, for which,\n",
    "$$a^2 + b^2 = c^2.$$</p>\n",
    "<p>For example, $3^2 + 4^2 = 9 + 16 = 25 = 5^2$.</p>\n",
    "<p>There exists exactly one Pythagorean triplet for which $a + b + c = 1000$.<br>Find the product $abc$.</p>"
   ]
  },
  {
   "cell_type": "markdown",
   "id": "431985ea-ff44-4a29-831e-48f9c0521db5",
   "metadata": {},
   "source": [
    "## Solution.\n",
    "Use that\n",
    "$$a=m^2-n^2, \\qquad b=2mn, \\qquad c = m^2+n^2.$$"
   ]
  },
  {
   "cell_type": "code",
   "execution_count": 1,
   "id": "3fbfcb36-a98f-4dec-a0aa-03f1cfa49470",
   "metadata": {},
   "outputs": [],
   "source": [
    "from math import isqrt"
   ]
  },
  {
   "cell_type": "code",
   "execution_count": 11,
   "id": "fd837603-5754-49ba-adf8-9b22cb39e432",
   "metadata": {},
   "outputs": [],
   "source": [
    "def pythagorean_given_sum(s):\n",
    "    '''\n",
    "    Finds all Pythagorean triplets (a, b, c) such that a+b+c=s\n",
    "    '''\n",
    "    if s%2 == 1:\n",
    "        return []\n",
    "\n",
    "    ans = []\n",
    "    s //= 2\n",
    "    for d in range(isqrt(s), 2*isqrt(s)+1, 1):\n",
    "        if s%d == 0:\n",
    "            m = s//d\n",
    "            n = d - m\n",
    "            a = m**2 - n**2\n",
    "            b = 2*m*n\n",
    "            c = m**2 + n**2\n",
    "            ans.append((a,b,c))\n",
    "    return ans"
   ]
  },
  {
   "cell_type": "code",
   "execution_count": 13,
   "id": "b3975bd6-f4ef-4a57-9c8c-dc8c7f6946e4",
   "metadata": {},
   "outputs": [],
   "source": [
    "def sol9(s):\n",
    "    ans = 0\n",
    "    for el in pythagorean_given_sum(s):\n",
    "        a,b,c = el\n",
    "        ans += a*b*c\n",
    "    return ans"
   ]
  },
  {
   "cell_type": "code",
   "execution_count": 14,
   "id": "f76d3a5d-8a0e-4511-868b-92342eb46c55",
   "metadata": {},
   "outputs": [
    {
     "data": {
      "text/plain": [
       "31875000"
      ]
     },
     "execution_count": 14,
     "metadata": {},
     "output_type": "execute_result"
    }
   ],
   "source": [
    "sol9(1000)"
   ]
  },
  {
   "cell_type": "code",
   "execution_count": null,
   "id": "109a3fa9-3cb0-48c4-83d1-5ef9106ca8ab",
   "metadata": {},
   "outputs": [],
   "source": []
  },
  {
   "cell_type": "code",
   "execution_count": null,
   "id": "ba6524e7-6bf4-48fa-8368-ad6f2a231f2e",
   "metadata": {},
   "outputs": [],
   "source": []
  },
  {
   "cell_type": "code",
   "execution_count": null,
   "id": "126e9f1a-90ae-4815-b708-f744c275ea1e",
   "metadata": {},
   "outputs": [],
   "source": []
  },
  {
   "cell_type": "code",
   "execution_count": null,
   "id": "3136dbbf-ac78-49b2-a000-1b751eab4e51",
   "metadata": {},
   "outputs": [],
   "source": []
  },
  {
   "cell_type": "code",
   "execution_count": null,
   "id": "b8ca5ea9-76bc-4deb-ae89-12533ce3e99c",
   "metadata": {},
   "outputs": [],
   "source": []
  },
  {
   "cell_type": "code",
   "execution_count": null,
   "id": "b117bb82-8763-4811-a2cb-56b11dd0ff4b",
   "metadata": {},
   "outputs": [],
   "source": []
  },
  {
   "cell_type": "code",
   "execution_count": null,
   "id": "b3d15bd8-6bea-4c65-8731-2a479769303d",
   "metadata": {},
   "outputs": [],
   "source": []
  }
 ],
 "metadata": {
  "kernelspec": {
   "display_name": "Python 3 (ipykernel)",
   "language": "python",
   "name": "python3"
  },
  "language_info": {
   "codemirror_mode": {
    "name": "ipython",
    "version": 3
   },
   "file_extension": ".py",
   "mimetype": "text/x-python",
   "name": "python",
   "nbconvert_exporter": "python",
   "pygments_lexer": "ipython3",
   "version": "3.12.4"
  }
 },
 "nbformat": 4,
 "nbformat_minor": 5
}
