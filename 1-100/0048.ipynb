{
 "cells": [
  {
   "cell_type": "markdown",
   "id": "6d5bdeac-1eb3-4f7c-8207-03ed28f09f91",
   "metadata": {},
   "source": [
    "# Self Powers - Problem 48\n",
    "<p>The series, $1^1 + 2^2 + 3^3 + \\cdots + 10^{10} = 10405071317$.</p>\n",
    "<p>Find the last ten digits of the series, $1^1 + 2^2 + 3^3 + \\cdots + 1000^{1000}$.</p>"
   ]
  },
  {
   "cell_type": "markdown",
   "id": "e856775d-04aa-4635-ade3-114241faa9da",
   "metadata": {},
   "source": [
    "## Solution."
   ]
  },
  {
   "cell_type": "code",
   "execution_count": 12,
   "id": "efbeef55-73a8-412b-aa4e-a9caa2f4bd5e",
   "metadata": {},
   "outputs": [],
   "source": [
    "def fast_exp(a, b, mod):\n",
    "    '''\n",
    "    Finds a^b modulo mod.\n",
    "    '''\n",
    "    if b == 1:\n",
    "        return a % mod\n",
    "\n",
    "    if b%2 == 1:\n",
    "        return (a * fast_exp(a, b-1, mod)) % mod\n",
    "    return (fast_exp(a, b//2, mod) * fast_exp(a, b//2, mod)) % mod"
   ]
  },
  {
   "cell_type": "code",
   "execution_count": 14,
   "id": "b295a4c3-2bea-41b9-841d-71cdd4b934f2",
   "metadata": {},
   "outputs": [],
   "source": [
    "def last_ten_digits(n):\n",
    "    ans = 0\n",
    "    mod = 10**10\n",
    "    for k in range(1, n+1, 1):\n",
    "        ans += fast_exp(k, k, mod)\n",
    "    return ans % mod"
   ]
  },
  {
   "cell_type": "code",
   "execution_count": 27,
   "id": "5675720f-8eda-4450-8357-71a9dc694fec",
   "metadata": {},
   "outputs": [
    {
     "data": {
      "text/plain": [
       "6237204500"
      ]
     },
     "execution_count": 27,
     "metadata": {},
     "output_type": "execute_result"
    }
   ],
   "source": [
    "last_ten_digits(10000)"
   ]
  },
  {
   "cell_type": "code",
   "execution_count": null,
   "id": "5e1d4c20-aba7-413b-acca-3f615a654068",
   "metadata": {},
   "outputs": [],
   "source": []
  },
  {
   "cell_type": "code",
   "execution_count": null,
   "id": "9f796b26-dd0c-4347-b7d8-95c35c4fe451",
   "metadata": {},
   "outputs": [],
   "source": []
  },
  {
   "cell_type": "code",
   "execution_count": null,
   "id": "0cdb3ec3-02e3-4032-85c8-64852998594e",
   "metadata": {},
   "outputs": [],
   "source": []
  },
  {
   "cell_type": "code",
   "execution_count": null,
   "id": "1d5854f2-963d-4937-a6f7-9edf40437cb6",
   "metadata": {},
   "outputs": [],
   "source": []
  },
  {
   "cell_type": "code",
   "execution_count": null,
   "id": "46821f89-6868-4ca5-812c-2c4f165d4ea2",
   "metadata": {},
   "outputs": [],
   "source": []
  },
  {
   "cell_type": "code",
   "execution_count": null,
   "id": "c9eb4dea-3771-4fb9-b63b-c2683e84b179",
   "metadata": {},
   "outputs": [],
   "source": []
  }
 ],
 "metadata": {
  "kernelspec": {
   "display_name": "Python 3 (ipykernel)",
   "language": "python",
   "name": "python3"
  },
  "language_info": {
   "codemirror_mode": {
    "name": "ipython",
    "version": 3
   },
   "file_extension": ".py",
   "mimetype": "text/x-python",
   "name": "python",
   "nbconvert_exporter": "python",
   "pygments_lexer": "ipython3",
   "version": "3.12.4"
  }
 },
 "nbformat": 4,
 "nbformat_minor": 5
}
