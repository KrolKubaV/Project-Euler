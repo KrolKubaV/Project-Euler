{
 "cells": [
  {
   "cell_type": "markdown",
   "id": "6eedfb81-d71c-48c7-aca9-9cacb85f6063",
   "metadata": {},
   "source": [
    "# Counting Sundays - Problem 19\n",
    "<p>You are given the following information, but you may prefer to do some research for yourself.</p>\n",
    "<ul><li>1 Jan 1900 was a Monday.</li>\n",
    "<li>Thirty days has September,<br />\n",
    "April, June and November.<br />\n",
    "All the rest have thirty-one,<br />\n",
    "Saving February alone,<br />\n",
    "Which has twenty-eight, rain or shine.<br />\n",
    "And on leap years, twenty-nine.</li>\n",
    "<li>A leap year occurs on any year evenly divisible by 4, but not on a century unless it is divisible by 400.</li>\n",
    "</ul><p>How many Sundays fell on the first of the month during the twentieth century (1 Jan 1901 to 31 Dec 2000)?</p>"
   ]
  },
  {
   "cell_type": "markdown",
   "id": "976f1396-7257-4247-a547-1ee54db3db45",
   "metadata": {},
   "source": [
    "## Solution.\n",
    "\n",
    "https://en.wikipedia.org/wiki/Zeller%27s_congruence"
   ]
  },
  {
   "cell_type": "code",
   "execution_count": 44,
   "id": "43b5869c-a03c-42cc-8d46-fcdcbf127513",
   "metadata": {},
   "outputs": [],
   "source": [
    "def transfrom(mm, yyyy):\n",
    "    if mm > 2:\n",
    "        return mm, yyyy\n",
    "    else:\n",
    "        return mm + 12, yyyy -1"
   ]
  },
  {
   "cell_type": "code",
   "execution_count": 46,
   "id": "4130dbe4-0d7b-4600-8282-d4516ae056a7",
   "metadata": {},
   "outputs": [],
   "source": [
    "def date_to_day(dd, mm, yyyy):\n",
    "    mm, yyyy = transfrom(mm, yyyy)\n",
    "    h = (dd + ((13*(mm + 1))//5) + (yyyy%100) + (yyyy%100)//4 + (yyyy//100)//4 - 2 * (yyyy//100)) % 7\n",
    "    return ((h+5) % 7) + 1"
   ]
  },
  {
   "cell_type": "code",
   "execution_count": 48,
   "id": "59390bef-7c00-470d-a202-3f462d408f9a",
   "metadata": {},
   "outputs": [
    {
     "name": "stdout",
     "output_type": "stream",
     "text": [
      "171\n"
     ]
    }
   ],
   "source": [
    "ans = 0\n",
    "\n",
    "for year in range(1901, 2001, 1):\n",
    "    for month in range(1, 13, 1):\n",
    "        if date_to_day(1, month, year) == 7:\n",
    "            ans += 1\n",
    "\n",
    "print(ans)"
   ]
  },
  {
   "cell_type": "code",
   "execution_count": null,
   "id": "7c739ed0-4bbe-4f3e-b506-16ddd50c0849",
   "metadata": {},
   "outputs": [],
   "source": []
  },
  {
   "cell_type": "code",
   "execution_count": null,
   "id": "9d7daefe-71cc-466f-b84f-dd81c4db1035",
   "metadata": {},
   "outputs": [],
   "source": []
  },
  {
   "cell_type": "code",
   "execution_count": null,
   "id": "cc5d9a2a-831b-4518-8d6a-8531b56a2ef8",
   "metadata": {},
   "outputs": [],
   "source": []
  },
  {
   "cell_type": "code",
   "execution_count": null,
   "id": "d12c7066-9207-4e9f-b8d3-f48e7b3f2dfb",
   "metadata": {},
   "outputs": [],
   "source": []
  },
  {
   "cell_type": "code",
   "execution_count": null,
   "id": "1061c8b9-56cb-4f52-a22f-f5363bf8e0c5",
   "metadata": {},
   "outputs": [],
   "source": []
  },
  {
   "cell_type": "code",
   "execution_count": null,
   "id": "924acdcb-1663-483c-882a-9e9a80fa0a60",
   "metadata": {},
   "outputs": [],
   "source": []
  },
  {
   "cell_type": "code",
   "execution_count": null,
   "id": "65c69031-02f9-4f40-a185-035513844370",
   "metadata": {},
   "outputs": [],
   "source": []
  }
 ],
 "metadata": {
  "kernelspec": {
   "display_name": "Python 3 (ipykernel)",
   "language": "python",
   "name": "python3"
  },
  "language_info": {
   "codemirror_mode": {
    "name": "ipython",
    "version": 3
   },
   "file_extension": ".py",
   "mimetype": "text/x-python",
   "name": "python",
   "nbconvert_exporter": "python",
   "pygments_lexer": "ipython3",
   "version": "3.12.4"
  }
 },
 "nbformat": 4,
 "nbformat_minor": 5
}
