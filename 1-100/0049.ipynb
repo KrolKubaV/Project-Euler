{
 "cells": [
  {
   "cell_type": "markdown",
   "id": "971cbffe-1273-4172-9ca7-ce3aa118ff6b",
   "metadata": {},
   "source": [
    "# Prime Permutations - Problem 49\n",
    "<p>The arithmetic sequence, $1487, 4817, 8147$, in which each of the terms increases by $3330$, is unusual in two ways: (i) each of the three terms are prime, and, (ii) each of the $4$-digit numbers are permutations of one another.</p>\n",
    "<p>There are no arithmetic sequences made up of three $1$-, $2$-, or $3$-digit primes, exhibiting this property, but there is one other $4$-digit increasing sequence.</p>\n",
    "<p>What $12$-digit number do you form by concatenating the three terms in this sequence?</p>"
   ]
  },
  {
   "cell_type": "markdown",
   "id": "bcff7a05-fcce-40d0-937f-af723af42f7f",
   "metadata": {},
   "source": [
    "## Solution."
   ]
  },
  {
   "cell_type": "code",
   "execution_count": 20,
   "id": "fecabd02-f818-4461-be30-ec400160f31b",
   "metadata": {},
   "outputs": [],
   "source": [
    "N = 10**6\n",
    "primes = [1] * (N + 1)\n",
    "primes[1], primes[0] = 0, 0\n",
    "\n",
    "for i in range(4, N, 2): \n",
    "    primes[i] = 0\n",
    "\n",
    "p = 3\n",
    "while p**2 < N: \n",
    "    if primes[p] == 1: \n",
    "        for i in range(2*p, N, p): \n",
    "            primes[i] = 0\n",
    "    p += 2\n",
    "\n",
    "primes = [i for i, el in enumerate(primes) if el == 1]"
   ]
  },
  {
   "cell_type": "code",
   "execution_count": 22,
   "id": "ababdddc-2db6-4cea-9ce8-a985500b2e2a",
   "metadata": {},
   "outputs": [],
   "source": [
    "def arr_to_num(arr):\n",
    "    ans = \"\"\n",
    "    for a in arr:\n",
    "        ans += a\n",
    "    return int(ans)"
   ]
  },
  {
   "cell_type": "code",
   "execution_count": 26,
   "id": "c3ef925b-3ccd-49ed-9a44-34fea893ca2e",
   "metadata": {},
   "outputs": [],
   "source": [
    "primes_permutation = {}\n",
    "for p in primes:\n",
    "    p_str = str(p)\n",
    "    l = len(p_str)\n",
    "    p_s = arr_to_num(sorted(p_str))\n",
    "    if (p_s, l) in primes_permutation:\n",
    "        primes_permutation[(p_s, l)].append(p)\n",
    "    else:\n",
    "        primes_permutation[(p_s, l)] = [p]"
   ]
  },
  {
   "cell_type": "code",
   "execution_count": 29,
   "id": "5379371a-5c53-416c-b229-751b119fb56e",
   "metadata": {},
   "outputs": [],
   "source": [
    "def find_all_ap(arr, K):\n",
    "    '''\n",
    "    Finds all APs of length K\n",
    "    '''\n",
    "    n = len(arr)\n",
    "    if K < 2 or n < K:\n",
    "        return []\n",
    "\n",
    "    aps = []\n",
    "    dp = [{} for _ in range(n)]\n",
    "\n",
    "    for j in range(n):\n",
    "        for i in range(j):\n",
    "            diff = arr[j] - arr[i]\n",
    "            if diff in dp[i]:\n",
    "                if diff in dp[j]:\n",
    "                    dp[j][diff].append(dp[i][diff][0] + [arr[j]])\n",
    "                else:\n",
    "                    dp[j][diff] = [dp[i][diff][0] + [arr[j]]]\n",
    "            else:\n",
    "                if diff in dp[j]:\n",
    "                    dp[j][diff].append([arr[i], arr[j]])\n",
    "                else:\n",
    "                    dp[j][diff] = [[arr[i], arr[j]]]\n",
    "\n",
    "    \n",
    "            if diff in dp[j]:\n",
    "                for ap in dp[j][diff]:\n",
    "                    if len(ap) == K:\n",
    "                        aps.append(ap)\n",
    "\n",
    "    return aps"
   ]
  },
  {
   "cell_type": "code",
   "execution_count": 37,
   "id": "c1134661-1b65-4bff-bdd9-43d3afa8067f",
   "metadata": {},
   "outputs": [],
   "source": [
    "def sol49(N, K):\n",
    "    '''\n",
    "    Finds all K size sequences where first element is less than N, elements are permutations of each other and are AP\n",
    "    '''\n",
    "    ans = []\n",
    "    for x in primes_permutation:\n",
    "        if primes_permutation[x][0] < N:\n",
    "            if find_all_ap(primes_permutation[x], K) != []:\n",
    "                for p in find_all_ap(primes_permutation[x], K):\n",
    "                    ans.append(p)\n",
    "\n",
    "    return ans"
   ]
  },
  {
   "cell_type": "code",
   "execution_count": 38,
   "id": "c1e9eb38-e4ac-434f-bb57-db7841b225e8",
   "metadata": {},
   "outputs": [
    {
     "data": {
      "text/plain": [
       "[[1487, 4817, 8147], [2969, 6299, 9629]]"
      ]
     },
     "execution_count": 38,
     "metadata": {},
     "output_type": "execute_result"
    }
   ],
   "source": [
    "sol49(10000, 3)"
   ]
  },
  {
   "cell_type": "code",
   "execution_count": 28,
   "id": "a4d344f2-4971-4622-98ed-7f0c36d178e6",
   "metadata": {},
   "outputs": [
    {
     "data": {
      "text/plain": [
       "4520"
      ]
     },
     "execution_count": 28,
     "metadata": {},
     "output_type": "execute_result"
    }
   ],
   "source": [
    "len(primes_permutation)"
   ]
  },
  {
   "cell_type": "code",
   "execution_count": null,
   "id": "0cc41610-4472-4013-8a6f-6468ccec412f",
   "metadata": {},
   "outputs": [],
   "source": []
  },
  {
   "cell_type": "code",
   "execution_count": null,
   "id": "030715d1-9567-48be-8f79-4c5dfda46c00",
   "metadata": {},
   "outputs": [],
   "source": []
  },
  {
   "cell_type": "code",
   "execution_count": null,
   "id": "1b6c68ba-c833-448b-aa10-b58a139acbb0",
   "metadata": {},
   "outputs": [],
   "source": []
  },
  {
   "cell_type": "code",
   "execution_count": null,
   "id": "d5b79900-1b6c-42d0-80b5-55db5920375f",
   "metadata": {},
   "outputs": [],
   "source": []
  },
  {
   "cell_type": "code",
   "execution_count": null,
   "id": "e39f9163-4777-48a3-a43d-7c0af72d74cc",
   "metadata": {},
   "outputs": [],
   "source": []
  },
  {
   "cell_type": "code",
   "execution_count": null,
   "id": "4c093c0a-6205-43a5-845c-277dbadb45f5",
   "metadata": {},
   "outputs": [],
   "source": []
  }
 ],
 "metadata": {
  "kernelspec": {
   "display_name": "Python 3 (ipykernel)",
   "language": "python",
   "name": "python3"
  },
  "language_info": {
   "codemirror_mode": {
    "name": "ipython",
    "version": 3
   },
   "file_extension": ".py",
   "mimetype": "text/x-python",
   "name": "python",
   "nbconvert_exporter": "python",
   "pygments_lexer": "ipython3",
   "version": "3.12.4"
  }
 },
 "nbformat": 4,
 "nbformat_minor": 5
}
