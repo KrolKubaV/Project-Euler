{
 "cells": [
  {
   "cell_type": "markdown",
   "id": "802c7fe5-f5ee-4f8e-80c9-ffa6c89abb77",
   "metadata": {},
   "source": [
    "# Largest Exponential - Problem 99\n",
    "<p>Comparing two numbers written in index form like $2^{11}$ and $3^7$ is not difficult, as any calculator would confirm that $2^{11} = 2048 \\lt 3^7 = 2187$.</p>\n",
    "<p>However, confirming that $632382^{518061} \\gt 519432^{525806}$ would be much more difficult, as both numbers contain over three million digits.</p>\n",
    "<p>Using <a href=\"resources/documents/0099_base_exp.txt\">base_exp.txt</a> (right click and 'Save Link/Target As...'), a 22K text file containing one thousand lines with a base/exponent pair on each line, determine which line number has the greatest numerical value.</p>\n",
    "<p class=\"smaller\">NOTE: The first two lines in the file represent the numbers in the example given above.</p>"
   ]
  },
  {
   "cell_type": "markdown",
   "id": "7f181c6e-3080-491f-947d-9dfc01de3848",
   "metadata": {},
   "source": [
    "## Solution."
   ]
  },
  {
   "cell_type": "code",
   "execution_count": 12,
   "id": "1cb48cc9-a450-4942-8b60-a88016e0aa98",
   "metadata": {},
   "outputs": [],
   "source": [
    "from math import log"
   ]
  },
  {
   "cell_type": "code",
   "execution_count": 10,
   "id": "a70f8cc2-ae2f-4f66-836c-b8d79d646ed1",
   "metadata": {},
   "outputs": [],
   "source": [
    "with open('data_99.txt', 'r') as file:\n",
    "    s = file.read()\n",
    "\n",
    "s = [[int(x) for x in row.split(',')] for row in s.split('\\n') if row != []]"
   ]
  },
  {
   "cell_type": "code",
   "execution_count": 15,
   "id": "2e88ed54-4813-456d-b9b8-3f1c83e4a652",
   "metadata": {},
   "outputs": [
    {
     "data": {
      "text/plain": [
       "709"
      ]
     },
     "execution_count": 15,
     "metadata": {},
     "output_type": "execute_result"
    }
   ],
   "source": [
    "m = -1\n",
    "ans = 0\n",
    "\n",
    "for i, el in enumerate(s):\n",
    "    a, b = el\n",
    "    if m < log(a)*b:\n",
    "        m = log(a)*b\n",
    "        ans = i+1\n",
    "\n",
    "ans"
   ]
  },
  {
   "cell_type": "code",
   "execution_count": null,
   "id": "ee8ae54a-8124-476b-a15f-d18784b5c5f6",
   "metadata": {},
   "outputs": [],
   "source": []
  },
  {
   "cell_type": "code",
   "execution_count": null,
   "id": "4ba065f8-07b0-4506-8478-4384c27e8b65",
   "metadata": {},
   "outputs": [],
   "source": []
  },
  {
   "cell_type": "code",
   "execution_count": null,
   "id": "090cf241-0068-4e48-a83d-ba182d9dc148",
   "metadata": {},
   "outputs": [],
   "source": []
  },
  {
   "cell_type": "code",
   "execution_count": null,
   "id": "e0981de3-1fc1-41c0-90c6-388901f71e27",
   "metadata": {},
   "outputs": [],
   "source": []
  },
  {
   "cell_type": "code",
   "execution_count": null,
   "id": "916c25b9-1793-4e9e-9fff-3fd20494b697",
   "metadata": {},
   "outputs": [],
   "source": []
  },
  {
   "cell_type": "code",
   "execution_count": null,
   "id": "010ef701-4cc2-43b6-96f2-15b7ceda1539",
   "metadata": {},
   "outputs": [],
   "source": []
  },
  {
   "cell_type": "code",
   "execution_count": null,
   "id": "5d73bf3e-9639-489a-a690-04ffafa1b5c7",
   "metadata": {},
   "outputs": [],
   "source": []
  },
  {
   "cell_type": "code",
   "execution_count": null,
   "id": "351687e5-96ea-46d3-a45a-177405f8ac6a",
   "metadata": {},
   "outputs": [],
   "source": []
  },
  {
   "cell_type": "code",
   "execution_count": null,
   "id": "c415d352-a9bb-409b-9a72-b97197ffc1e1",
   "metadata": {},
   "outputs": [],
   "source": []
  },
  {
   "cell_type": "code",
   "execution_count": null,
   "id": "00fecaf3-1310-42e8-982c-677f42983204",
   "metadata": {},
   "outputs": [],
   "source": []
  },
  {
   "cell_type": "code",
   "execution_count": null,
   "id": "0b17dcda-e264-4249-bab7-d3a50b191d4b",
   "metadata": {},
   "outputs": [],
   "source": []
  },
  {
   "cell_type": "code",
   "execution_count": null,
   "id": "f997d496-57c5-4b32-a9e7-28a2c3fc576a",
   "metadata": {},
   "outputs": [],
   "source": []
  },
  {
   "cell_type": "code",
   "execution_count": null,
   "id": "dfdbde86-eedd-4dd2-a6da-2c910976b710",
   "metadata": {},
   "outputs": [],
   "source": []
  }
 ],
 "metadata": {
  "kernelspec": {
   "display_name": "Python 3 (ipykernel)",
   "language": "python",
   "name": "python3"
  },
  "language_info": {
   "codemirror_mode": {
    "name": "ipython",
    "version": 3
   },
   "file_extension": ".py",
   "mimetype": "text/x-python",
   "name": "python",
   "nbconvert_exporter": "python",
   "pygments_lexer": "ipython3",
   "version": "3.12.4"
  }
 },
 "nbformat": 4,
 "nbformat_minor": 5
}
