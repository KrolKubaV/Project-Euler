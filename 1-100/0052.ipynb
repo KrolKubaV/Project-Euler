{
 "cells": [
  {
   "cell_type": "markdown",
   "id": "9d596001-4e20-4829-82b4-ce30661bf15e",
   "metadata": {},
   "source": [
    "# Permuted Multiples - Problem 52\n",
    "<p>It can be seen that the number, $125874$, and its double, $251748$, contain exactly the same digits, but in a different order.</p>\n",
    "<p>Find the smallest positive integer, $x$, such that $2x$, $3x$, $4x$, $5x$, and $6x$, contain the same digits.</p>"
   ]
  },
  {
   "cell_type": "markdown",
   "id": "79ffc35b-2aff-4b38-b1ef-fd44762398ea",
   "metadata": {},
   "source": [
    "## Solution."
   ]
  },
  {
   "cell_type": "code",
   "execution_count": 21,
   "id": "6f0028fa-9d25-4297-9a34-00e566c0783f",
   "metadata": {},
   "outputs": [],
   "source": [
    "def check(n, k):\n",
    "    s = sorted(list(str(int(n))))\n",
    "\n",
    "    for i in range(2, k+1, 1):\n",
    "        if s != sorted(list(str(int(i*n)))):\n",
    "            return False\n",
    "\n",
    "    return True"
   ]
  },
  {
   "cell_type": "code",
   "execution_count": 23,
   "id": "b0ad901d-88dd-4c73-a262-365bf524866c",
   "metadata": {},
   "outputs": [
    {
     "name": "stdout",
     "output_type": "stream",
     "text": [
      "142857\n"
     ]
    }
   ],
   "source": [
    "n = 1\n",
    "while check(n, 5) == False:\n",
    "    n += 2\n",
    "print(n)"
   ]
  },
  {
   "cell_type": "code",
   "execution_count": 15,
   "id": "99b04696-7c89-44f8-b93f-a488ce2ca38c",
   "metadata": {},
   "outputs": [
    {
     "data": {
      "text/plain": [
       "20510"
      ]
     },
     "execution_count": 15,
     "metadata": {},
     "output_type": "execute_result"
    }
   ],
   "source": [
    "10255*2"
   ]
  },
  {
   "cell_type": "code",
   "execution_count": null,
   "id": "c7a11a8c-a543-402b-a5c6-d31ff17912f1",
   "metadata": {},
   "outputs": [],
   "source": []
  },
  {
   "cell_type": "code",
   "execution_count": null,
   "id": "8dff8bd9-8c8b-4c64-bf17-5a2c5dab7e08",
   "metadata": {},
   "outputs": [],
   "source": []
  },
  {
   "cell_type": "code",
   "execution_count": null,
   "id": "2d01506d-9491-4aec-b1f0-3db573d24efb",
   "metadata": {},
   "outputs": [],
   "source": []
  },
  {
   "cell_type": "code",
   "execution_count": null,
   "id": "8c3540a8-310f-4aa6-8a6d-79e77ea3f19e",
   "metadata": {},
   "outputs": [],
   "source": []
  },
  {
   "cell_type": "code",
   "execution_count": null,
   "id": "fe3cec57-c99d-4d14-acd8-7a5bbd174fbe",
   "metadata": {},
   "outputs": [],
   "source": []
  }
 ],
 "metadata": {
  "kernelspec": {
   "display_name": "Python 3 (ipykernel)",
   "language": "python",
   "name": "python3"
  },
  "language_info": {
   "codemirror_mode": {
    "name": "ipython",
    "version": 3
   },
   "file_extension": ".py",
   "mimetype": "text/x-python",
   "name": "python",
   "nbconvert_exporter": "python",
   "pygments_lexer": "ipython3",
   "version": "3.12.4"
  }
 },
 "nbformat": 4,
 "nbformat_minor": 5
}
