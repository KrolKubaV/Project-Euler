{
 "cells": [
  {
   "cell_type": "markdown",
   "id": "ab4c625b",
   "metadata": {},
   "source": [
    "# Problem 75 - Singular Integer Right Triangles\n",
    "\n",
    "It turns out that $12\\,\\mathrm{cm}$ is the smallest length of wire that can be bent to form an integer sided right angle triangle in exactly one way, but there are many more examples.\n",
    "\n",
    "- $\\mathbf{12\\,\\mathrm{cm}}$: $(3,4,5)$  \n",
    "- $\\mathbf{24\\,\\mathrm{cm}}$: $(6,8,10)$  \n",
    "- $\\mathbf{30\\,\\mathrm{cm}}$: $(5,12,13)$  \n",
    "- $\\mathbf{36\\,\\mathrm{cm}}$: $(9,12,15)$  \n",
    "- $\\mathbf{40\\,\\mathrm{cm}}$: $(8,15,17)$  \n",
    "- $\\mathbf{48\\,\\mathrm{cm}}$: $(12,16,20)$  \n",
    "\n",
    "In contrast, some lengths of wire, like $20\\,\\mathrm{cm}$, cannot be bent to form an integer sided right angle triangle, and other lengths allow more than one solution to be found; for example, using $120\\,\\mathrm{cm}$ it is possible to form exactly three different integer sided right angle triangles.\n",
    "\n",
    "- $\\mathbf{120\\,\\mathrm{cm}}$: $(30,40,50)$, $(20,48,52)$, $(24,45,51)$\n",
    "\n",
    "Given that $L$ is the length of the wire, for how many values of $L \\leq 1\\,500\\,000$ can exactly one integer sided right angle be formed?"
   ]
  },
  {
   "cell_type": "markdown",
   "id": "b1ce3676",
   "metadata": {},
   "source": [
    "## Solution."
   ]
  },
  {
   "cell_type": "code",
   "execution_count": 64,
   "id": "82535d02",
   "metadata": {},
   "outputs": [],
   "source": [
    "import math\n",
    "from collections import defaultdict"
   ]
  },
  {
   "cell_type": "code",
   "execution_count": 72,
   "id": "ab8dd742",
   "metadata": {},
   "outputs": [],
   "source": [
    "def F(L):\n",
    "    perimeters = defaultdict(int)\n",
    "    m = 2\n",
    "    n = 1\n",
    "\n",
    "    while 2*m*(m+n) <= L:\n",
    "        while n < m:\n",
    "            if (m - n) % 2 == 1 and math.gcd(m, n) == 1:              \n",
    "                k = 1\n",
    "                while 2 * k * m * (m+n) <= L:\n",
    "                    perimeters[2*k*m*(m+n)] += 1\n",
    "                    k += 1\n",
    "            n += 1\n",
    "        n = 1\n",
    "        m += 1\n",
    "\n",
    "    return len([x for x in perimeters if perimeters[x] == 1])"
   ]
  },
  {
   "cell_type": "code",
   "execution_count": 73,
   "id": "95f926b9",
   "metadata": {},
   "outputs": [
    {
     "data": {
      "text/plain": [
       "13"
      ]
     },
     "execution_count": 73,
     "metadata": {},
     "output_type": "execute_result"
    }
   ],
   "source": [
    "F(120)"
   ]
  },
  {
   "cell_type": "code",
   "execution_count": 74,
   "id": "aac5eea3",
   "metadata": {},
   "outputs": [
    {
     "data": {
      "text/plain": [
       "161667"
      ]
     },
     "execution_count": 74,
     "metadata": {},
     "output_type": "execute_result"
    }
   ],
   "source": [
    "F(1_500_000)"
   ]
  }
 ],
 "metadata": {
  "kernelspec": {
   "display_name": "Python 3",
   "language": "python",
   "name": "python3"
  },
  "language_info": {
   "codemirror_mode": {
    "name": "ipython",
    "version": 3
   },
   "file_extension": ".py",
   "mimetype": "text/x-python",
   "name": "python",
   "nbconvert_exporter": "python",
   "pygments_lexer": "ipython3",
   "version": "3.11.9"
  }
 },
 "nbformat": 4,
 "nbformat_minor": 5
}
