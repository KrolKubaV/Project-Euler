{
 "cells": [
  {
   "cell_type": "markdown",
   "id": "3b2e469c-a7f9-4a4a-80d3-614635a9110c",
   "metadata": {},
   "source": [
    "# Largest Prime Factor - Problem 3\n",
    "<p>The prime factors of $13195$ are $5, 7, 13$ and $29$.</p>\n",
    "<p>What is the largest prime factor of the number $600851475143$?</p>"
   ]
  },
  {
   "cell_type": "markdown",
   "id": "a2381ab3-56cc-4adc-b963-f75967716f29",
   "metadata": {},
   "source": [
    "## Solution."
   ]
  },
  {
   "cell_type": "code",
   "execution_count": 11,
   "id": "35f4081d-e2a2-48df-862d-d31b606479c5",
   "metadata": {},
   "outputs": [],
   "source": [
    "from math import isqrt"
   ]
  },
  {
   "cell_type": "code",
   "execution_count": 9,
   "id": "f6a647ec-9bba-4669-a028-da5d57f19a62",
   "metadata": {},
   "outputs": [],
   "source": [
    "def largest_prime_factor(n):\n",
    "    while n%2 == 0:\n",
    "        n //= 2\n",
    "\n",
    "    p = 3\n",
    "    while n>1 and p <= isqrt(n):\n",
    "        if n%p == 0:\n",
    "            while n%p == 0:\n",
    "                n //= p\n",
    "        p += 2\n",
    "    return max(n,p-2)"
   ]
  },
  {
   "cell_type": "code",
   "execution_count": 13,
   "id": "a1f17927-42a8-44a4-b528-3318043029f1",
   "metadata": {},
   "outputs": [
    {
     "data": {
      "text/plain": [
       "29"
      ]
     },
     "execution_count": 13,
     "metadata": {},
     "output_type": "execute_result"
    }
   ],
   "source": [
    "largest_prime_factor(13195)"
   ]
  },
  {
   "cell_type": "code",
   "execution_count": 5,
   "id": "c4db11e4-58b3-4501-a8b3-13021bece576",
   "metadata": {},
   "outputs": [
    {
     "data": {
      "text/plain": [
       "425.64516129032256"
      ]
     },
     "execution_count": 5,
     "metadata": {},
     "output_type": "execute_result"
    }
   ],
   "source": [
    "13195/31"
   ]
  },
  {
   "cell_type": "code",
   "execution_count": null,
   "id": "1ab007bd-d309-4e05-9c4e-37696e19ca53",
   "metadata": {},
   "outputs": [],
   "source": []
  },
  {
   "cell_type": "code",
   "execution_count": null,
   "id": "0b9edad7-af3e-462c-b6a2-a1c1bba8278e",
   "metadata": {},
   "outputs": [],
   "source": []
  },
  {
   "cell_type": "code",
   "execution_count": null,
   "id": "f1b44e53-6657-4d96-b8ca-c3108f276e64",
   "metadata": {},
   "outputs": [],
   "source": []
  },
  {
   "cell_type": "code",
   "execution_count": null,
   "id": "95721be6-11e2-4a7f-b292-cbf504be0f0b",
   "metadata": {},
   "outputs": [],
   "source": []
  },
  {
   "cell_type": "code",
   "execution_count": null,
   "id": "aabdc123-48ff-4b7d-81b1-82e9ddf51c6c",
   "metadata": {},
   "outputs": [],
   "source": []
  },
  {
   "cell_type": "code",
   "execution_count": null,
   "id": "432d375a-8d26-43b1-8b6a-c1e03e324864",
   "metadata": {},
   "outputs": [],
   "source": []
  },
  {
   "cell_type": "code",
   "execution_count": null,
   "id": "ff77e723-df91-49af-ae44-0845116c28f1",
   "metadata": {},
   "outputs": [],
   "source": []
  }
 ],
 "metadata": {
  "kernelspec": {
   "display_name": "Python 3 (ipykernel)",
   "language": "python",
   "name": "python3"
  },
  "language_info": {
   "codemirror_mode": {
    "name": "ipython",
    "version": 3
   },
   "file_extension": ".py",
   "mimetype": "text/x-python",
   "name": "python",
   "nbconvert_exporter": "python",
   "pygments_lexer": "ipython3",
   "version": "3.12.4"
  }
 },
 "nbformat": 4,
 "nbformat_minor": 5
}
