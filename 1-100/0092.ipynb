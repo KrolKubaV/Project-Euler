{
 "cells": [
  {
   "cell_type": "markdown",
   "id": "ab3bbfe5-ce6e-4584-967c-94124489d405",
   "metadata": {},
   "source": [
    "# Square Digit Chains - Problem 92\n",
    "<p>A number chain is created by continuously adding the square of the digits in a number to form a new number until it has been seen before.</p>\n",
    "<p>For example,\n",
    "\\begin{align}\n",
    "&44 \\to 32 \\to 13 \\to 10 \\to \\mathbf 1 \\to \\mathbf 1\\\\\n",
    "&85 \\to \\mathbf{89} \\to 145 \\to 42 \\to 20 \\to 4 \\to 16 \\to 37 \\to 58 \\to \\mathbf{89}\n",
    "\\end{align}\n",
    "</p><p>Therefore any chain that arrives at $1$ or $89$ will become stuck in an endless loop. What is most amazing is that EVERY starting number will eventually arrive at $1$ or $89$.</p>\n",
    "<p>How many starting numbers below ten million will arrive at $89$?</p>\n"
   ]
  },
  {
   "cell_type": "markdown",
   "id": "cf4f21de-3b37-4e6d-813f-79339755e2d0",
   "metadata": {},
   "source": [
    "## Solution.\n",
    "To see why every starting number will eventually arrive at 1 or 89, note that the sequence decreases rapidly for big numbers and for small numbers one can check it by hand."
   ]
  },
  {
   "cell_type": "code",
   "execution_count": 16,
   "id": "4d6675cc-d9ce-43d6-897a-3fa93535be46",
   "metadata": {},
   "outputs": [],
   "source": [
    "from functools import cache\n",
    "from collections import defaultdict\n",
    "from tqdm import tqdm"
   ]
  },
  {
   "cell_type": "code",
   "execution_count": 20,
   "id": "99ba229a-0174-4f60-a260-7ad8bc6aacc1",
   "metadata": {},
   "outputs": [],
   "source": [
    "def next_number(n):\n",
    "    return sum(int(i)**2 for i in str(n))"
   ]
  },
  {
   "cell_type": "code",
   "execution_count": 18,
   "id": "c12cb7b8-794f-4336-9c16-0f70df3ca9db",
   "metadata": {},
   "outputs": [],
   "source": [
    "@cache\n",
    "def check(n):\n",
    "    if n == 89 or next_number(n) == 89:\n",
    "        return True\n",
    "    if n == 1 or next_number(n) == 1:\n",
    "        return False\n",
    "    return check(next_number(n))"
   ]
  },
  {
   "cell_type": "code",
   "execution_count": 21,
   "id": "36c9c896-d9a6-4a18-94b1-09c6c68183c5",
   "metadata": {},
   "outputs": [
    {
     "name": "stderr",
     "output_type": "stream",
     "text": [
      "100%|████████████████████████████████████████████████████████████████████| 9999999/9999999 [00:20<00:00, 477789.93it/s]\n",
      "100%|████████████████████████████████████████████████████████████████████████████| 495/495 [00:00<00:00, 249211.44it/s]"
     ]
    },
    {
     "name": "stdout",
     "output_type": "stream",
     "text": [
      "8581146\n"
     ]
    },
    {
     "name": "stderr",
     "output_type": "stream",
     "text": [
      "\n"
     ]
    }
   ],
   "source": [
    "lim = 10**7\n",
    "ans = 0\n",
    "dic = defaultdict(int)\n",
    "\n",
    "\n",
    "for n in tqdm(range(1, lim, 1)):\n",
    "    dic[next_number(n)] += 1\n",
    "\n",
    "for n in tqdm(dic):\n",
    "    if check(n):\n",
    "        ans += dic[n]\n",
    "print(ans)"
   ]
  },
  {
   "cell_type": "code",
   "execution_count": 22,
   "id": "25ce6a03-b0de-4bdc-9e83-dfd5bc69fd96",
   "metadata": {},
   "outputs": [
    {
     "data": {
      "text/plain": [
       "8581146"
      ]
     },
     "execution_count": 22,
     "metadata": {},
     "output_type": "execute_result"
    }
   ],
   "source": [
    "8581146"
   ]
  },
  {
   "cell_type": "code",
   "execution_count": null,
   "id": "5bcd29b9-e7d8-4668-b498-b3d24b1e9929",
   "metadata": {},
   "outputs": [],
   "source": []
  },
  {
   "cell_type": "code",
   "execution_count": null,
   "id": "920687bb-c038-4726-bf79-edf2e9370561",
   "metadata": {},
   "outputs": [],
   "source": []
  },
  {
   "cell_type": "code",
   "execution_count": null,
   "id": "8c0e4341-7f43-4b64-a0db-f956190b2619",
   "metadata": {},
   "outputs": [],
   "source": []
  },
  {
   "cell_type": "code",
   "execution_count": null,
   "id": "45e0942c-dac6-4449-b444-56e2cd4d6f65",
   "metadata": {},
   "outputs": [],
   "source": []
  },
  {
   "cell_type": "code",
   "execution_count": null,
   "id": "40e2cc56-8446-42ac-83e5-b6bffd7bd7ff",
   "metadata": {},
   "outputs": [],
   "source": []
  },
  {
   "cell_type": "code",
   "execution_count": null,
   "id": "751f26bf-ecb6-4721-9450-212359740f2d",
   "metadata": {},
   "outputs": [],
   "source": []
  },
  {
   "cell_type": "code",
   "execution_count": null,
   "id": "1e83dd05-1be9-42c4-bece-f8d52c97697e",
   "metadata": {},
   "outputs": [],
   "source": []
  },
  {
   "cell_type": "code",
   "execution_count": null,
   "id": "540f68ea-4d64-4030-a0d1-cce03524b804",
   "metadata": {},
   "outputs": [],
   "source": []
  }
 ],
 "metadata": {
  "kernelspec": {
   "display_name": "Python 3 (ipykernel)",
   "language": "python",
   "name": "python3"
  },
  "language_info": {
   "codemirror_mode": {
    "name": "ipython",
    "version": 3
   },
   "file_extension": ".py",
   "mimetype": "text/x-python",
   "name": "python",
   "nbconvert_exporter": "python",
   "pygments_lexer": "ipython3",
   "version": "3.12.4"
  }
 },
 "nbformat": 4,
 "nbformat_minor": 5
}
