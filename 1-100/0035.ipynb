{
 "cells": [
  {
   "cell_type": "markdown",
   "id": "bc435818-d523-4090-a75e-74ef928b2a3b",
   "metadata": {},
   "source": [
    "# Circular Primes - Problem 35\n",
    "<p>The number, $197$, is called a circular prime because all rotations of the digits: $197$, $971$, and $719$, are themselves prime.</p>\n",
    "<p>There are thirteen such primes below $100$: $2, 3, 5, 7, 11, 13, 17, 31, 37, 71, 73, 79$, and $97$.</p>\n",
    "<p>How many circular primes are there below one million?</p>"
   ]
  },
  {
   "cell_type": "markdown",
   "id": "cac6a507-909c-4d99-be79-493a0cb19ae4",
   "metadata": {},
   "source": [
    "## Solution."
   ]
  },
  {
   "cell_type": "code",
   "execution_count": 19,
   "id": "4e03a318-344a-4044-a0af-61f514c6f7de",
   "metadata": {},
   "outputs": [],
   "source": [
    "from tqdm import tqdm"
   ]
  },
  {
   "cell_type": "code",
   "execution_count": 2,
   "id": "9de8e339-7b20-41f2-829f-506dd1258cad",
   "metadata": {},
   "outputs": [],
   "source": [
    "N = 10**6\n",
    "primes = [1] * (N + 1)\n",
    "primes[1], primes[0] = 0, 0\n",
    "\n",
    "for i in range(4, N, 2): \n",
    "    primes[i] = 0\n",
    "\n",
    "p = 3\n",
    "while p**2 < N: \n",
    "    if primes[p] == 1: \n",
    "        for i in range(2*p, N, p): \n",
    "            primes[i] = 0\n",
    "    p += 2\n",
    "\n",
    "primes = [i for i, el in enumerate(primes) if el == 1]"
   ]
  },
  {
   "cell_type": "code",
   "execution_count": 16,
   "id": "19ceb794-810b-4f80-9022-b5f28f9639cc",
   "metadata": {},
   "outputs": [],
   "source": [
    "def is_circular(n):\n",
    "    n = str(n)\n",
    "    if '2' in n or '4' in n or '6' in n or '8' in n or '0' in n:\n",
    "        return False\n",
    "    \n",
    "    for k in range(1, len(n)):\n",
    "        if int(n[k:] + n[:k]) not in primes:\n",
    "            return False\n",
    "\n",
    "    return True"
   ]
  },
  {
   "cell_type": "code",
   "execution_count": 20,
   "id": "4aa8ec31-e1f2-4eed-84e6-0ecb51ec99b7",
   "metadata": {},
   "outputs": [
    {
     "name": "stderr",
     "output_type": "stream",
     "text": [
      "100%|█████████████████████████████████████████████████████████████████████████| 78499/78499 [00:02<00:00, 36564.77it/s]"
     ]
    },
    {
     "name": "stdout",
     "output_type": "stream",
     "text": [
      "55\n"
     ]
    },
    {
     "name": "stderr",
     "output_type": "stream",
     "text": [
      "\n"
     ]
    }
   ],
   "source": [
    "ans = 0\n",
    "\n",
    "for n in tqdm(primes):\n",
    "    if is_circular(n):\n",
    "        ans += 1\n",
    "\n",
    "print(ans+1) # 2 is a circular prime"
   ]
  },
  {
   "cell_type": "code",
   "execution_count": null,
   "id": "428a60e3-c004-4d27-8364-fb4fd0c7d3ac",
   "metadata": {},
   "outputs": [],
   "source": []
  }
 ],
 "metadata": {
  "kernelspec": {
   "display_name": "Python 3 (ipykernel)",
   "language": "python",
   "name": "python3"
  },
  "language_info": {
   "codemirror_mode": {
    "name": "ipython",
    "version": 3
   },
   "file_extension": ".py",
   "mimetype": "text/x-python",
   "name": "python",
   "nbconvert_exporter": "python",
   "pygments_lexer": "ipython3",
   "version": "3.12.4"
  }
 },
 "nbformat": 4,
 "nbformat_minor": 5
}
