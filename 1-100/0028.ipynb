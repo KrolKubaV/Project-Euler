{
 "cells": [
  {
   "cell_type": "markdown",
   "id": "b859d0de-fae9-4c73-bbf3-07e8a5d0a294",
   "metadata": {},
   "source": [
    "# Number Spiral Diagonals - Problem 28\n",
    "<p>Starting with the number $1$ and moving to the right in a clockwise direction a $5$ by $5$ spiral is formed as follows:</p>\n",
    "<p class=\"monospace center\"><span class=\"red\"><b>21</b></span> 22 23 24 <span class=\"red\"><b>25</b></span><br>\n",
    "20  <span class=\"red\"><b>7</b></span>  8  <span class=\"red\"><b>9</b></span> 10<br>\n",
    "19  6  <span class=\"red\"><b>1</b></span>  2 11<br>\n",
    "18  <span class=\"red\"><b>5</b></span>  4  <span class=\"red\"><b>3</b></span> 12<br><span class=\"red\"><b>17</b></span> 16 15 14 <span class=\"red\"><b>13</b></span></p>\n",
    "<p>It can be verified that the sum of the numbers on the diagonals is $101$.</p>\n",
    "<p>What is the sum of the numbers on the diagonals in a $1001$ by $1001$ spiral formed in the same way?</p>"
   ]
  },
  {
   "cell_type": "markdown",
   "id": "50bc7b67-32b8-44de-9a39-60b98cfcc065",
   "metadata": {},
   "source": [
    "## Solution."
   ]
  },
  {
   "cell_type": "code",
   "execution_count": 2,
   "id": "aec7bf97-0a63-4763-a914-9fa5ec74f30b",
   "metadata": {},
   "outputs": [],
   "source": [
    "from functools import cache"
   ]
  },
  {
   "cell_type": "code",
   "execution_count": 10,
   "id": "5a6ede71-1360-4974-b9f6-70a9fc0535de",
   "metadata": {},
   "outputs": [],
   "source": [
    "@cache\n",
    "def sol28(n):\n",
    "    '''\n",
    "    Solves an nxn problem where n is odd\n",
    "    '''\n",
    "    if n == 1:\n",
    "        return 1\n",
    "    return sol28(n-2) + (1+2+3+4) * (n-1) + 4 * (n-2)**2"
   ]
  },
  {
   "cell_type": "code",
   "execution_count": 12,
   "id": "520d845b-d38c-46a2-b6e5-ff9188d27835",
   "metadata": {},
   "outputs": [
    {
     "data": {
      "text/plain": [
       "669171001"
      ]
     },
     "execution_count": 12,
     "metadata": {},
     "output_type": "execute_result"
    }
   ],
   "source": [
    "sol28(1001)"
   ]
  },
  {
   "cell_type": "code",
   "execution_count": null,
   "id": "fcb49fb8-fc00-4cae-a2b1-3158be598e98",
   "metadata": {},
   "outputs": [],
   "source": []
  },
  {
   "cell_type": "code",
   "execution_count": null,
   "id": "c7f674b4-bdb3-4216-b94b-572172949f46",
   "metadata": {},
   "outputs": [],
   "source": []
  },
  {
   "cell_type": "code",
   "execution_count": null,
   "id": "4185e0ce-314d-4db8-b81a-457014d80765",
   "metadata": {},
   "outputs": [],
   "source": []
  },
  {
   "cell_type": "code",
   "execution_count": null,
   "id": "bb7cf517-77da-4efc-9e11-cd3c8eac9f1b",
   "metadata": {},
   "outputs": [],
   "source": []
  },
  {
   "cell_type": "code",
   "execution_count": null,
   "id": "7810bac5-4495-4c7d-b83a-04df3a4a88df",
   "metadata": {},
   "outputs": [],
   "source": []
  },
  {
   "cell_type": "code",
   "execution_count": null,
   "id": "730ff8e9-84b4-4d9f-b106-4ba1481b2379",
   "metadata": {},
   "outputs": [],
   "source": []
  },
  {
   "cell_type": "code",
   "execution_count": null,
   "id": "2ed3fea7-d5d4-4afd-9d2a-6894755fbccc",
   "metadata": {},
   "outputs": [],
   "source": []
  },
  {
   "cell_type": "code",
   "execution_count": null,
   "id": "c7c6d9fa-f15e-429f-be5b-d45d87117dde",
   "metadata": {},
   "outputs": [],
   "source": []
  },
  {
   "cell_type": "code",
   "execution_count": null,
   "id": "d4d28893-91a7-482a-8bf7-c55d13b91230",
   "metadata": {},
   "outputs": [],
   "source": []
  }
 ],
 "metadata": {
  "kernelspec": {
   "display_name": "Python 3 (ipykernel)",
   "language": "python",
   "name": "python3"
  },
  "language_info": {
   "codemirror_mode": {
    "name": "ipython",
    "version": 3
   },
   "file_extension": ".py",
   "mimetype": "text/x-python",
   "name": "python",
   "nbconvert_exporter": "python",
   "pygments_lexer": "ipython3",
   "version": "3.12.4"
  }
 },
 "nbformat": 4,
 "nbformat_minor": 5
}
