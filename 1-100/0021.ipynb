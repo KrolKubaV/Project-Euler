{
 "cells": [
  {
   "cell_type": "markdown",
   "id": "2adef94a-fd7e-48eb-aacd-0cba8d4b45e0",
   "metadata": {},
   "source": [
    "# Amicable Numbers - Problem 21\n",
    "<p>Let $d(n)$ be defined as the sum of proper divisors of $n$ (numbers less than $n$ which divide evenly into $n$).<br>\n",
    "If $d(a) = b$ and $d(b) = a$, where $a \\ne b$, then $a$ and $b$ are an amicable pair and each of $a$ and $b$ are called amicable numbers.</p>\n",
    "<p>For example, the proper divisors of $220$ are $1, 2, 4, 5, 10, 11, 20, 22, 44, 55$ and $110$; therefore $d(220) = 284$. The proper divisors of $284$ are $1, 2, 4, 71$ and $142$; so $d(284) = 220$.</p>\n",
    "<p>Evaluate the sum of all the amicable numbers under $10000$.</p>"
   ]
  },
  {
   "cell_type": "markdown",
   "id": "14e6f322-4da4-40dd-be42-b647413b6222",
   "metadata": {},
   "source": [
    "## Solution."
   ]
  },
  {
   "cell_type": "code",
   "execution_count": 35,
   "id": "502fd6d6-c33e-4ee7-97da-e654906ca7cf",
   "metadata": {},
   "outputs": [],
   "source": [
    "from functools import cache\n",
    "from collections import defaultdict"
   ]
  },
  {
   "cell_type": "code",
   "execution_count": 3,
   "id": "4705eecc-579f-4ccb-b256-250576fdfa16",
   "metadata": {},
   "outputs": [],
   "source": [
    "N = 10**5\n",
    "primes = [1] * (N + 1)\n",
    "primes[1], primes[0] = 0, 0\n",
    "\n",
    "for i in range(4, N, 2): \n",
    "    primes[i] = 0\n",
    "\n",
    "p = 3\n",
    "while p**2 < N: \n",
    "    if primes[p] == 1: \n",
    "        for i in range(2*p, N, p): \n",
    "            primes[i] = 0\n",
    "    p += 2\n",
    "\n",
    "primes = [i for i, el in enumerate(primes) if el == 1]"
   ]
  },
  {
   "cell_type": "code",
   "execution_count": 46,
   "id": "4b778e81-9257-4779-a34e-213151bc6d2d",
   "metadata": {},
   "outputs": [],
   "source": [
    "@cache\n",
    "def div_sum(n):\n",
    "    if n == 1:\n",
    "        return 1\n",
    "        \n",
    "    for p in primes:           \n",
    "        a = 0\n",
    "        if n % p == 0: \n",
    "            while n % p == 0: \n",
    "                n = n // p \n",
    "                a += 1 \n",
    "            return (p**(a+1) - 1)//(p-1) * div_sum(n)\n",
    "\n",
    "@cache\n",
    "def d(n):\n",
    "    return div_sum(n) - n"
   ]
  },
  {
   "cell_type": "code",
   "execution_count": 59,
   "id": "f6af0841-185a-4e5e-9898-e4fd8693f76d",
   "metadata": {},
   "outputs": [],
   "source": [
    "dic = defaultdict(set)\n",
    "for n in range(1, 10000, 1):\n",
    "    dic[div_sum(n)].add(n)"
   ]
  },
  {
   "cell_type": "code",
   "execution_count": 63,
   "id": "a91f635a-b4bc-4ecd-8473-2bcc35ab5827",
   "metadata": {},
   "outputs": [
    {
     "name": "stdout",
     "output_type": "stream",
     "text": [
      "31626\n"
     ]
    }
   ],
   "source": [
    "ans = 0\n",
    "for i in dic:\n",
    "    arr = list(dic[i])\n",
    "    if len(arr) > 1:\n",
    "        l = len(arr)\n",
    "        s = set()\n",
    "        for i in range(l-1):\n",
    "            for j in range(i+1, l, 1):\n",
    "                if d(arr[i]) == arr[j] and d(arr[j]) == arr[i]:\n",
    "                    s.add(arr[i])\n",
    "                    s.add(arr[j])\n",
    "        ans += sum(s)\n",
    "print(ans)"
   ]
  }
 ],
 "metadata": {
  "kernelspec": {
   "display_name": "Python 3 (ipykernel)",
   "language": "python",
   "name": "python3"
  },
  "language_info": {
   "codemirror_mode": {
    "name": "ipython",
    "version": 3
   },
   "file_extension": ".py",
   "mimetype": "text/x-python",
   "name": "python",
   "nbconvert_exporter": "python",
   "pygments_lexer": "ipython3",
   "version": "3.12.4"
  }
 },
 "nbformat": 4,
 "nbformat_minor": 5
}
