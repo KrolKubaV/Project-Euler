{
 "cells": [
  {
   "cell_type": "markdown",
   "id": "74fd5c56-2181-4b0b-a69a-09843e1792e7",
   "metadata": {},
   "source": [
    "# Problem 93 - Arithmetic Expressions\n",
    "\n",
    "By using each of the digits from the set, $\\{1, 2, 3, 4\\}$, exactly once, and making use of the four arithmetic operations ($+, -, \\times, /$) and brackets/parentheses, it is possible to form different positive integer targets.\n",
    "\n",
    "For example:\n",
    "\n",
    "\\[\n",
    "\\begin{aligned}\n",
    "8 &= (4 \\times (1 + 3)) / 2 \\\\\n",
    "14 &= 4 \\times (3 + 1 / 2) \\\\\n",
    "19 &= 4 \\times (2 + 3) - 1 \\\\\n",
    "36 &= 3 \\times 4 \\times (2 + 1)\n",
    "\\end{aligned}\n",
    "\\]\n",
    "\n",
    "**Note:** Concatenations of the digits, like $12 + 34$, are not allowed.\n",
    "\n",
    "---\n",
    "\n",
    "Using the set $\\{1, 2, 3, 4\\}$, it is possible to obtain **31 different target numbers**, of which $36$ is the maximum, and each of the numbers $1$ to $28$ can be obtained before encountering the first non-expressible number.\n",
    "\n",
    "---\n",
    "\n",
    "Find the set of four distinct digits, $a < b < c < d$, for which the **longest set of consecutive positive integers**, $1$ to $n$, can be obtained. Give your answer as a string: `abcd`.\n"
   ]
  },
  {
   "cell_type": "markdown",
   "id": "f410a469-1af4-4b8f-bf43-6b698ad57930",
   "metadata": {},
   "source": [
    "## Solution."
   ]
  },
  {
   "cell_type": "code",
   "execution_count": 28,
   "id": "af5e0b8c",
   "metadata": {},
   "outputs": [],
   "source": [
    "def generate_perm(arr):\n",
    "    if len(arr) == 1:\n",
    "        return [arr]\n",
    "\n",
    "    ans = []\n",
    "    for i in range(len(arr)):\n",
    "        a = arr[i]\n",
    "        remaining = arr[:i] + arr[i+1:] \n",
    "        for b in generate_perm(remaining):\n",
    "            ans.append([a] + b)\n",
    "\n",
    "    return ans\n"
   ]
  },
  {
   "cell_type": "code",
   "execution_count": 31,
   "metadata": {},
   "outputs": [],
   "source": [
    "def generate_pos(arr, l):\n",
    "    if l == 0:\n",
    "        return [[]]\n",
    "    \n",
    "    ans = []\n",
    "    for i in range(len(arr)):\n",
    "        for comb in generate_pos(arr, l-1):\n",
    "            ans.append([arr[i]] + comb)\n",
    "    return ans\n"
   ]
  },
  {
   "cell_type": "code",
   "execution_count": 43,
   "id": "4411f0d2",
   "metadata": {},
   "outputs": [],
   "source": [
    "def F(a, b, c, d):\n",
    "    numbers = [str(a), str(b), str(c), str(d)]\n",
    "    operations = [\"+\", \"-\", \"*\", \"/\"]\n",
    "\n",
    "    possibilities = set()\n",
    "\n",
    "    bracket_patterns = [\n",
    "        \"(({0}{4}{1}){5}{2}){6}{3}\",  # ((a op1 b) op2 c) op3 d\n",
    "        \"({0}{4}({1}{5}{2})){6}{3}\",  # (a op1 (b op2 c)) op3 d\n",
    "        \"({0}{4}{1}){5}({2}{6}{3})\",  # (a op1 b) op2 (c op3 d)\n",
    "        \"{0}{4}(({1}{5}{2}){6}{3})\",  # a op1 ((b op2 c) op3 d)\n",
    "        \"{0}{4}({1}{5}({2}{6}{3}))\"   # a op1 (b op2 (c op3 d))\n",
    "    ]\n",
    "\n",
    "    for perm in generate_perm(numbers):\n",
    "        for oper in generate_pos(operations, 3):\n",
    "            for pattern in bracket_patterns:\n",
    "                expr = pattern.format(*perm, *oper)\n",
    "                try:\n",
    "                    result = eval(expr)\n",
    "                    if int(result) == result and result > 0:\n",
    "                        possibilities.add(result)\n",
    "                except ZeroDivisionError:\n",
    "                    continue\n",
    "\n",
    "    a = sorted(list(possibilities))\n",
    "    \n",
    "    i = 0\n",
    "    while i < len(a) and a[i+1] == a[i] + 1:\n",
    "        i += 1\n",
    "\n",
    "    return i + 1\n"
   ]
  },
  {
   "cell_type": "code",
   "execution_count": 45,
   "id": "48b28cbf",
   "metadata": {},
   "outputs": [
    {
     "data": {
      "text/plain": [
       "(51, [1, 2, 5, 8])"
      ]
     },
     "execution_count": 45,
     "metadata": {},
     "output_type": "execute_result"
    }
   ],
   "source": [
    "ans = 0\n",
    "for a in range(1, 7):\n",
    "    for b in range(a+1, 8):\n",
    "        for c in range(b+1, 9):\n",
    "            for d in range(c+1, 10):\n",
    "                if F(a,b,c,d) > ans:\n",
    "                    ans = F(a,b,c,d)\n",
    "                    arr = [a,b,c,d]\n",
    "ans, arr\n",
    "\n"
   ]
  },
  {
   "cell_type": "code",
   "execution_count": null,
   "id": "f3b8ba65",
   "metadata": {},
   "outputs": [],
   "source": []
  },
  {
   "cell_type": "code",
   "execution_count": null,
   "id": "297e3d4e",
   "metadata": {},
   "outputs": [],
   "source": []
  },
  {
   "cell_type": "code",
   "execution_count": null,
   "id": "4306e8a9",
   "metadata": {},
   "outputs": [],
   "source": []
  },
  {
   "cell_type": "code",
   "execution_count": null,
   "id": "97cfabf8",
   "metadata": {},
   "outputs": [],
   "source": []
  },
  {
   "cell_type": "code",
   "execution_count": null,
   "id": "a5b67fe0",
   "metadata": {},
   "outputs": [],
   "source": []
  },
  {
   "cell_type": "code",
   "execution_count": null,
   "id": "22da1b3c",
   "metadata": {},
   "outputs": [],
   "source": []
  },
  {
   "cell_type": "code",
   "execution_count": null,
   "id": "7a8ef97b",
   "metadata": {},
   "outputs": [],
   "source": []
  },
  {
   "cell_type": "code",
   "execution_count": null,
   "metadata": {},
   "outputs": [],
   "source": []
  },
  {
   "cell_type": "code",
   "execution_count": null,
   "metadata": {},
   "outputs": [],
   "source": []
  },
  {
   "cell_type": "code",
   "execution_count": null,
   "metadata": {},
   "outputs": [],
   "source": []
  },
  {
   "cell_type": "code",
   "execution_count": null,
   "metadata": {},
   "outputs": [],
   "source": []
  },
  {
   "cell_type": "code",
   "execution_count": null,
   "metadata": {},
   "outputs": [],
   "source": []
  },
  {
   "cell_type": "code",
   "execution_count": null,
   "metadata": {},
   "outputs": [],
   "source": []
  },
  {
   "cell_type": "code",
   "execution_count": null,
   "metadata": {},
   "outputs": [],
   "source": []
  },
  {
   "cell_type": "code",
   "execution_count": null,
   "metadata": {},
   "outputs": [],
   "source": []
  },
  {
   "cell_type": "code",
   "execution_count": null,
   "metadata": {},
   "outputs": [],
   "source": []
  },
  {
   "cell_type": "code",
   "execution_count": null,
   "metadata": {},
   "outputs": [],
   "source": []
  },
  {
   "cell_type": "code",
   "execution_count": null,
   "metadata": {},
   "outputs": [],
   "source": []
  },
  {
   "cell_type": "code",
   "execution_count": null,
   "metadata": {},
   "outputs": [],
   "source": []
  },
  {
   "cell_type": "code",
   "execution_count": null,
   "metadata": {},
   "outputs": [],
   "source": []
  },
  {
   "cell_type": "code",
   "execution_count": null,
   "metadata": {},
   "outputs": [],
   "source": []
  },
  {
   "cell_type": "code",
   "execution_count": null,
   "id": "e73789cd-96d7-4088-8522-a4b3fd4d0af2",
   "metadata": {},
   "outputs": [],
   "source": []
  },
  {
   "cell_type": "code",
   "execution_count": null,
   "id": "02bc9af3-e903-4c72-a849-7fc1577cb422",
   "metadata": {},
   "outputs": [],
   "source": []
  },
  {
   "cell_type": "code",
   "execution_count": null,
   "id": "8076934c-2368-47d0-bf5d-7b4007ef669f",
   "metadata": {},
   "outputs": [],
   "source": []
  },
  {
   "cell_type": "code",
   "execution_count": null,
   "id": "785efa44-00cb-4303-bbee-0105acf749e4",
   "metadata": {},
   "outputs": [],
   "source": []
  },
  {
   "cell_type": "code",
   "execution_count": null,
   "id": "286b7042-f741-476d-85bc-c06c86330e89",
   "metadata": {},
   "outputs": [],
   "source": []
  },
  {
   "cell_type": "code",
   "execution_count": null,
   "id": "ec207ea6-9904-455a-8387-ed1e720f803e",
   "metadata": {},
   "outputs": [],
   "source": []
  },
  {
   "cell_type": "code",
   "execution_count": null,
   "id": "a3704661-3ddb-43d2-be83-219da91aa178",
   "metadata": {},
   "outputs": [],
   "source": []
  },
  {
   "cell_type": "code",
   "execution_count": null,
   "id": "e4a5c366-bb8b-4097-b2e9-0774681016a3",
   "metadata": {},
   "outputs": [],
   "source": []
  },
  {
   "cell_type": "code",
   "execution_count": null,
   "id": "016e01d3-f3b8-46c9-a623-aaa0c5e6c519",
   "metadata": {},
   "outputs": [],
   "source": []
  },
  {
   "cell_type": "code",
   "execution_count": null,
   "id": "f4347367-c221-40d6-a40c-550155d06248",
   "metadata": {},
   "outputs": [],
   "source": []
  },
  {
   "cell_type": "code",
   "execution_count": null,
   "id": "78591aa7-b635-4309-ab79-686956f41caf",
   "metadata": {},
   "outputs": [],
   "source": []
  },
  {
   "cell_type": "code",
   "execution_count": null,
   "id": "eb98492e-8f09-4607-b196-00dbf8a67796",
   "metadata": {},
   "outputs": [],
   "source": []
  },
  {
   "cell_type": "code",
   "execution_count": null,
   "id": "409f1010-9088-40ee-b668-3033a60eca65",
   "metadata": {},
   "outputs": [],
   "source": []
  },
  {
   "cell_type": "code",
   "execution_count": null,
   "id": "7e6de247-4fa1-46b0-8196-f4210ce14ddc",
   "metadata": {},
   "outputs": [],
   "source": []
  },
  {
   "cell_type": "code",
   "execution_count": null,
   "id": "936e2f10-168d-4de6-af37-5fedcd068f45",
   "metadata": {},
   "outputs": [],
   "source": []
  },
  {
   "cell_type": "code",
   "execution_count": null,
   "id": "e04094a2-b261-481b-b494-70cc5f916f14",
   "metadata": {},
   "outputs": [],
   "source": []
  },
  {
   "cell_type": "code",
   "execution_count": null,
   "id": "3b5ee30b-789a-4f4c-ba99-613a0f11e959",
   "metadata": {},
   "outputs": [],
   "source": []
  },
  {
   "cell_type": "code",
   "execution_count": null,
   "id": "03152a23-a34e-4417-af4b-056412955ae4",
   "metadata": {},
   "outputs": [],
   "source": []
  },
  {
   "cell_type": "code",
   "execution_count": null,
   "id": "ff2c78c2-040f-4add-bf0e-96b819e6147e",
   "metadata": {},
   "outputs": [],
   "source": []
  }
 ],
 "metadata": {
  "kernelspec": {
   "display_name": "Python 3",
   "language": "python",
   "name": "python3"
  },
  "language_info": {
   "codemirror_mode": {
    "name": "ipython",
    "version": 3
   },
   "file_extension": ".py",
   "mimetype": "text/x-python",
   "name": "python",
   "nbconvert_exporter": "python",
   "pygments_lexer": "ipython3",
   "version": "3.11.9"
  }
 },
 "nbformat": 4,
 "nbformat_minor": 5
}
