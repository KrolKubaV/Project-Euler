{
 "cells": [
  {
   "cell_type": "markdown",
   "id": "5846c34b-d10c-45a5-ae0e-915ba1c68956",
   "metadata": {},
   "source": [
    "# Powerful Digit Counts - Problem 63\n",
    "<p>The $5$-digit number, $16807=7^5$, is also a fifth power. Similarly, the $9$-digit number, $134217728=8^9$, is a ninth power.</p>\n",
    "<p>How many $n$-digit positive integers exist which are also an $n$th power?</p>"
   ]
  },
  {
   "cell_type": "markdown",
   "id": "c729835a-392e-402a-b2ff-aa35cf87cc0f",
   "metadata": {},
   "source": [
    "## Solution.\n",
    "Just use some very crude bounds: the powers of 12 etc. grow too fast, and powers of small numbers between 2-9 grow too slow. 10 can never work.\n",
    "    "
   ]
  },
  {
   "cell_type": "code",
   "execution_count": 8,
   "id": "dc115765-0a14-4ee2-925e-73883fa1464b",
   "metadata": {},
   "outputs": [
    {
     "data": {
      "text/plain": [
       "49"
      ]
     },
     "execution_count": 8,
     "metadata": {},
     "output_type": "execute_result"
    }
   ],
   "source": [
    "ans = 0\n",
    "for k in range(1,100):\n",
    "    for a in range(1, 15):\n",
    "        if k == len(str(a**k)):\n",
    "            ans += 1\n",
    "ans            "
   ]
  },
  {
   "cell_type": "code",
   "execution_count": null,
   "id": "2544a80d-8de9-4c63-bc37-547ea825dbb9",
   "metadata": {},
   "outputs": [],
   "source": []
  },
  {
   "cell_type": "code",
   "execution_count": null,
   "id": "b6a8fbdb-0e9d-428b-811c-0c82357ac66a",
   "metadata": {},
   "outputs": [],
   "source": []
  },
  {
   "cell_type": "code",
   "execution_count": null,
   "id": "8f2126f5-a618-45af-9630-9fcf1f548504",
   "metadata": {},
   "outputs": [],
   "source": []
  },
  {
   "cell_type": "code",
   "execution_count": null,
   "id": "d4e57acb-adb8-4343-8f22-ce03e2a31da5",
   "metadata": {},
   "outputs": [],
   "source": []
  },
  {
   "cell_type": "code",
   "execution_count": null,
   "id": "e4a246de-d97b-41c1-9d4d-5579b400194a",
   "metadata": {},
   "outputs": [],
   "source": []
  },
  {
   "cell_type": "code",
   "execution_count": null,
   "id": "769127db-f47c-46a3-94e0-e1f730609bba",
   "metadata": {},
   "outputs": [],
   "source": []
  },
  {
   "cell_type": "code",
   "execution_count": null,
   "id": "81cd0e0e-df42-4af3-8729-fb36afd1d35c",
   "metadata": {},
   "outputs": [],
   "source": []
  }
 ],
 "metadata": {
  "kernelspec": {
   "display_name": "Python 3 (ipykernel)",
   "language": "python",
   "name": "python3"
  },
  "language_info": {
   "codemirror_mode": {
    "name": "ipython",
    "version": 3
   },
   "file_extension": ".py",
   "mimetype": "text/x-python",
   "name": "python",
   "nbconvert_exporter": "python",
   "pygments_lexer": "ipython3",
   "version": "3.12.4"
  }
 },
 "nbformat": 4,
 "nbformat_minor": 5
}
