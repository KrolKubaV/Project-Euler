{
 "cells": [
  {
   "cell_type": "markdown",
   "id": "e6f80f8e-3f89-443f-a1d1-a0e3f904e3c9",
   "metadata": {},
   "source": [
    "# Square Root Convergents - Problem 57\n",
    "<p>It is possible to show that the square root of two can be expressed as an infinite continued fraction.</p>\n",
    "<p class=\"center\">$\\sqrt 2 =1+ \\frac 1 {2+ \\frac 1 {2 +\\frac 1 {2+ \\dots}}}$</p>\n",
    "<p>By expanding this for the first four iterations, we get:</p>\n",
    "<p>$1 + \\frac 1 2 = \\frac  32 = 1.5$<br>\n",
    "$1 + \\frac 1 {2 + \\frac 1 2} = \\frac 7 5 = 1.4$<br>\n",
    "$1 + \\frac 1 {2 + \\frac 1 {2+\\frac 1 2}} = \\frac {17}{12} = 1.41666 \\dots$<br>\n",
    "$1 + \\frac 1 {2 + \\frac 1 {2+\\frac 1 {2+\\frac 1 2}}} = \\frac {41}{29} = 1.41379 \\dots$<br></p>\n",
    "<p>The next three expansions are $\\frac {99}{70}$, $\\frac {239}{169}$, and $\\frac {577}{408}$, but the eighth expansion, $\\frac {1393}{985}$, is the first example where the number of digits in the numerator exceeds the number of digits in the denominator.</p>\n",
    "<p>In the first one-thousand expansions, how many fractions contain a numerator with more digits than the denominator?</p>"
   ]
  },
  {
   "cell_type": "markdown",
   "id": "a3e79d2a-0901-48e2-8548-d0b1dc66cd13",
   "metadata": {},
   "source": [
    "## Solution."
   ]
  },
  {
   "cell_type": "code",
   "execution_count": 1,
   "id": "8ac431e1-2969-45e8-badd-38ff2d9d3f7f",
   "metadata": {},
   "outputs": [],
   "source": [
    "from functools import cache"
   ]
  },
  {
   "cell_type": "code",
   "execution_count": 8,
   "id": "db972bc1-384d-407d-9d76-549fd4494415",
   "metadata": {},
   "outputs": [],
   "source": [
    "@cache\n",
    "def P(n):\n",
    "    if n == -1:\n",
    "        return 1\n",
    "    if n == 0:\n",
    "        return 1\n",
    "    return 2*P(n-1) + P(n-2)\n",
    "\n",
    "@cache\n",
    "def Q(n):\n",
    "    if n == -1:\n",
    "        return 0\n",
    "    if n == 0:\n",
    "        return 1\n",
    "    return 2*Q(n-1) + Q(n-2)"
   ]
  },
  {
   "cell_type": "code",
   "execution_count": 10,
   "id": "b9e0b747-2301-4954-843e-32c334a3586d",
   "metadata": {},
   "outputs": [
    {
     "data": {
      "text/plain": [
       "153"
      ]
     },
     "execution_count": 10,
     "metadata": {},
     "output_type": "execute_result"
    }
   ],
   "source": [
    "ans = 0\n",
    "for n in range(1, 1001):\n",
    "    if len(str(P(n))) > len(str(Q(n))):\n",
    "        ans += 1\n",
    "ans"
   ]
  },
  {
   "cell_type": "code",
   "execution_count": null,
   "id": "05ca60b4-9ab8-4b35-b202-bda181fd881e",
   "metadata": {},
   "outputs": [],
   "source": []
  },
  {
   "cell_type": "code",
   "execution_count": null,
   "id": "5eb6260d-f06d-4218-8cab-8fcb9d0f9be0",
   "metadata": {},
   "outputs": [],
   "source": []
  },
  {
   "cell_type": "code",
   "execution_count": null,
   "id": "b72ff150-9f52-4860-a560-4ebc84208245",
   "metadata": {},
   "outputs": [],
   "source": []
  },
  {
   "cell_type": "code",
   "execution_count": null,
   "id": "7fb5b04b-41a9-4692-b58c-7f13202216c0",
   "metadata": {},
   "outputs": [],
   "source": []
  },
  {
   "cell_type": "code",
   "execution_count": null,
   "id": "d34c45fe-2bb9-453c-8b03-70fa1478df64",
   "metadata": {},
   "outputs": [],
   "source": []
  },
  {
   "cell_type": "code",
   "execution_count": null,
   "id": "7f961c9d-97ad-44d8-852e-c7a3d029f859",
   "metadata": {},
   "outputs": [],
   "source": []
  },
  {
   "cell_type": "code",
   "execution_count": null,
   "id": "740d48a4-a6d5-4b34-bd8f-ea9c3c71d225",
   "metadata": {},
   "outputs": [],
   "source": []
  },
  {
   "cell_type": "code",
   "execution_count": null,
   "id": "78d758e6-c3ac-46f0-9ab7-3a479e801f17",
   "metadata": {},
   "outputs": [],
   "source": []
  },
  {
   "cell_type": "code",
   "execution_count": null,
   "id": "1b671b6d-445a-40da-92a0-478d37c8884e",
   "metadata": {},
   "outputs": [],
   "source": []
  }
 ],
 "metadata": {
  "kernelspec": {
   "display_name": "Python 3 (ipykernel)",
   "language": "python",
   "name": "python3"
  },
  "language_info": {
   "codemirror_mode": {
    "name": "ipython",
    "version": 3
   },
   "file_extension": ".py",
   "mimetype": "text/x-python",
   "name": "python",
   "nbconvert_exporter": "python",
   "pygments_lexer": "ipython3",
   "version": "3.12.4"
  }
 },
 "nbformat": 4,
 "nbformat_minor": 5
}
