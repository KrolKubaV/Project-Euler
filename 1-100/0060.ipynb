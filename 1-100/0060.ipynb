{
 "cells": [
  {
   "cell_type": "markdown",
   "id": "3ee8742d-40fc-4518-8fab-e2106be7d736",
   "metadata": {},
   "source": [
    "# Prime Pair Sets - Problem 60\n",
    "<p>The primes $3$, $7$, $109$, and $673$, are quite remarkable. By taking any two primes and concatenating them in any order the result will always be prime. For example, taking $7$ and $109$, both $7109$ and $1097$ are prime. The sum of these four primes, $792$, represents the lowest sum for a set of four primes with this property.</p>\n",
    "<p>Find the lowest sum for a set of five primes for which any two primes concatenate to produce another prime.</p>"
   ]
  },
  {
   "cell_type": "markdown",
   "id": "517c6b2c-0a70-4b47-8143-683e7f3078b2",
   "metadata": {},
   "source": [
    "## Solution."
   ]
  },
  {
   "cell_type": "code",
   "execution_count": 76,
   "id": "e32e638f-72c0-4b54-8f8a-e082d3b96890",
   "metadata": {},
   "outputs": [],
   "source": [
    "import numpy as np\n",
    "from tqdm import tqdm\n",
    "from collections import defaultdict\n",
    "import itertools"
   ]
  },
  {
   "cell_type": "code",
   "execution_count": 32,
   "id": "f082c37d-821b-4e6b-815c-5eeffbe95d79",
   "metadata": {},
   "outputs": [],
   "source": [
    "def generate_primes(n):\n",
    "    sieve = np.ones(n+1, dtype=bool)\n",
    "    sieve[0:2] = False\n",
    "    for i in range(2, int(n**0.5) + 1):\n",
    "        if sieve[i]:\n",
    "            sieve[i*i:n+1:i] = False\n",
    "    return np.nonzero(sieve)[0]\n",
    "\n",
    "def is_prime(p):\n",
    "    if p <= 1:\n",
    "        return False\n",
    "    if p <= 3:\n",
    "        return True\n",
    "    if p % 2 == 0 or p % 3 == 0:\n",
    "        return False\n",
    "    i = 5\n",
    "    while i * i <= p:\n",
    "        if p % i == 0 or p % (i + 2) == 0:\n",
    "            return False\n",
    "        i += 6\n",
    "    return True"
   ]
  },
  {
   "cell_type": "code",
   "execution_count": 83,
   "id": "ebef33af-145b-403d-85cc-311b70cab529",
   "metadata": {},
   "outputs": [],
   "source": [
    "graph = defaultdict(set)\n",
    "primes = generate_primes(10**4+10)\n",
    "\n",
    "for i in range(1, len(primes)-1):\n",
    "    for j in range(i+1, len(primes)):\n",
    "        p, q = primes[i], primes[j]\n",
    "        if is_prime(int(str(p)+str(q))) and is_prime(int(str(q)+str(p))):\n",
    "            graph[p].add(q)\n",
    "            graph[q].add(p)"
   ]
  },
  {
   "cell_type": "code",
   "execution_count": null,
   "id": "850474e3-5f13-4d96-85b3-a589e0ce1be8",
   "metadata": {},
   "outputs": [],
   "source": [
    "def find_cliques(graph, clique_size):\n",
    "    def dfs(current_clique, candidates):\n",
    "        if len(current_clique) == clique_size:\n",
    "            cliques.append(current_clique)\n",
    "            return\n",
    "        \n",
    "        while candidates:\n",
    "            node = candidates.pop()\n",
    "            new_candidates = candidates.intersection(graph[node])\n",
    "            new_clique = current_clique | {node}\n",
    "            if len(new_clique) + len(new_candidates) >= clique_size:\n",
    "                dfs(new_clique, new_candidates)\n",
    "    \n",
    "    cliques = []\n",
    "    for node in graph:\n",
    "        dfs(set([node]), graph[node])\n",
    "    \n",
    "    return cliques"
   ]
  },
  {
   "cell_type": "code",
   "execution_count": null,
   "id": "c83ee2cf-05e2-4188-ac1e-5db41847e6d8",
   "metadata": {},
   "outputs": [],
   "source": [
    "all_cliques = find_cliques(graph, 5)\n",
    "\n",
    "ans = float('inf')\n",
    "for path in all_cliques:\n",
    "    if sum(path) < ans:\n",
    "        ans = sum(path)\n",
    "\n",
    "print(ans)"
   ]
  },
  {
   "cell_type": "code",
   "execution_count": 86,
   "id": "e1e72899-f3b9-4f9a-be8c-024c1e30cd97",
   "metadata": {},
   "outputs": [
    {
     "data": {
      "text/plain": [
       "[{1, 2}, {1, 3}, {2, 3}]"
      ]
     },
     "execution_count": 86,
     "metadata": {},
     "output_type": "execute_result"
    }
   ],
   "source": [
    "generate_subsets({1,2,3}, 2)"
   ]
  },
  {
   "cell_type": "code",
   "execution_count": null,
   "id": "9aa06350-1852-49b4-876d-606322005e3c",
   "metadata": {},
   "outputs": [],
   "source": []
  }
 ],
 "metadata": {
  "kernelspec": {
   "display_name": "Python 3 (ipykernel)",
   "language": "python",
   "name": "python3"
  },
  "language_info": {
   "codemirror_mode": {
    "name": "ipython",
    "version": 3
   },
   "file_extension": ".py",
   "mimetype": "text/x-python",
   "name": "python",
   "nbconvert_exporter": "python",
   "pygments_lexer": "ipython3",
   "version": "3.12.4"
  }
 },
 "nbformat": 4,
 "nbformat_minor": 5
}
