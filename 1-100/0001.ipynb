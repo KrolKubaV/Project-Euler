{
 "cells": [
  {
   "cell_type": "markdown",
   "id": "ca064a01-88bb-4205-b938-b9c3c75866ec",
   "metadata": {},
   "source": [
    "# Multiples of 3 and 5 - Problem 1\n",
    "<p>If we list all the natural numbers below $10$ that are multiples of $3$ or $5$, we get $3, 5, 6$ and $9$. The sum of these multiples is $23$.</p>\n",
    "<p>Find the sum of all the multiples of $3$ or $5$ below $1000$.</p>"
   ]
  },
  {
   "cell_type": "markdown",
   "id": "c61696b6-69ec-4d3b-9f51-110ea51cb816",
   "metadata": {},
   "source": [
    "## Solution."
   ]
  },
  {
   "cell_type": "code",
   "execution_count": 1,
   "id": "f3c60fbd-9d2a-417f-879e-dcd7cbc32fa9",
   "metadata": {},
   "outputs": [],
   "source": [
    "from math import gcd"
   ]
  },
  {
   "cell_type": "code",
   "execution_count": 7,
   "id": "e817e7f5-4dd7-4379-89d5-3a1957798250",
   "metadata": {},
   "outputs": [],
   "source": [
    "def S(n):\n",
    "    return n*(n+1)//2"
   ]
  },
  {
   "cell_type": "code",
   "execution_count": 8,
   "id": "096dffda-b590-4bfe-83f6-b2c3c175b054",
   "metadata": {},
   "outputs": [],
   "source": [
    "def sol(a, b, n):\n",
    "    '''\n",
    "    Finds the sum of all the multiples of a or b that are less < n.\n",
    "    '''\n",
    "    d = gcd(a, b)\n",
    "    b = b//d\n",
    "\n",
    "    s_a = a * S((n-1)//a)\n",
    "    s_b = b * S((n-1)//b)\n",
    "    s_ab = a*b * S((n-1)//(a*b))\n",
    "\n",
    "    return s_a + s_b - s_ab\n",
    "    "
   ]
  },
  {
   "cell_type": "code",
   "execution_count": 11,
   "id": "f3d6a7e7-576a-49d0-9949-5c651ef99c74",
   "metadata": {},
   "outputs": [
    {
     "data": {
      "text/plain": [
       "233168"
      ]
     },
     "execution_count": 11,
     "metadata": {},
     "output_type": "execute_result"
    }
   ],
   "source": [
    "sol(3, 5, 1000)"
   ]
  },
  {
   "cell_type": "code",
   "execution_count": null,
   "id": "4266b68f-b67b-4db0-83c9-c110d8c2f4db",
   "metadata": {},
   "outputs": [],
   "source": []
  },
  {
   "cell_type": "code",
   "execution_count": null,
   "id": "f1ac7667-207a-481c-9ce8-8cc0df5eb6da",
   "metadata": {},
   "outputs": [],
   "source": []
  },
  {
   "cell_type": "code",
   "execution_count": null,
   "id": "5bab109c-a9c9-479e-bbb8-c7917c8dd1bc",
   "metadata": {},
   "outputs": [],
   "source": []
  },
  {
   "cell_type": "code",
   "execution_count": null,
   "id": "3d5a1ec0-cb1e-4309-b083-10c9ec33deb7",
   "metadata": {},
   "outputs": [],
   "source": []
  },
  {
   "cell_type": "code",
   "execution_count": null,
   "id": "866b6fef-ef45-40f2-bea4-cb6cb3745dde",
   "metadata": {},
   "outputs": [],
   "source": []
  },
  {
   "cell_type": "code",
   "execution_count": null,
   "id": "4173d4da-815a-403d-aee5-f715a3afb131",
   "metadata": {},
   "outputs": [],
   "source": []
  },
  {
   "cell_type": "code",
   "execution_count": null,
   "id": "e184cbce-ee5e-4068-94ce-189d03bbce04",
   "metadata": {},
   "outputs": [],
   "source": []
  }
 ],
 "metadata": {
  "kernelspec": {
   "display_name": "Python 3 (ipykernel)",
   "language": "python",
   "name": "python3"
  },
  "language_info": {
   "codemirror_mode": {
    "name": "ipython",
    "version": 3
   },
   "file_extension": ".py",
   "mimetype": "text/x-python",
   "name": "python",
   "nbconvert_exporter": "python",
   "pygments_lexer": "ipython3",
   "version": "3.12.4"
  }
 },
 "nbformat": 4,
 "nbformat_minor": 5
}
