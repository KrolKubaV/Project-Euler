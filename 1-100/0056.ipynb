{
 "cells": [
  {
   "cell_type": "markdown",
   "id": "2865cfeb-e322-4dfc-b34d-19bd22c8c744",
   "metadata": {},
   "source": [
    "# Powerful Digit Sum - Problem 56\n",
    "<p>A googol ($10^{100}$) is a massive number: one followed by one-hundred zeros; $100^{100}$ is almost unimaginably large: one followed by two-hundred zeros. Despite their size, the sum of the digits in each number is only $1$.</p>\n",
    "<p>Considering natural numbers of the form, $a^b$, where $a, b \\lt 100$, what is the maximum digital sum?</p>"
   ]
  },
  {
   "cell_type": "markdown",
   "id": "37078cc7-593b-4567-8341-82625b5ba83a",
   "metadata": {},
   "source": [
    "## Solution."
   ]
  },
  {
   "cell_type": "code",
   "execution_count": 5,
   "id": "ac654a85-c151-47a2-8c08-1f0dd9d4bab6",
   "metadata": {},
   "outputs": [],
   "source": [
    "def sol56(N):\n",
    "    '''\n",
    "    Solves the question fo a, b < N.\n",
    "    '''\n",
    "\n",
    "    m = 1\n",
    "    for a in range(2, N):\n",
    "        if a % 10 != 0:\n",
    "            k = a\n",
    "            for b in range(2, N):\n",
    "                k *= a\n",
    "                m = max(m, sum(int(x) for x in str(k)))\n",
    "\n",
    "    return m"
   ]
  },
  {
   "cell_type": "code",
   "execution_count": 7,
   "id": "b9dfb914-a9b5-4648-bab8-2fa05fb79b0b",
   "metadata": {},
   "outputs": [
    {
     "data": {
      "text/plain": [
       "972"
      ]
     },
     "execution_count": 7,
     "metadata": {},
     "output_type": "execute_result"
    }
   ],
   "source": [
    "sol56(100)"
   ]
  },
  {
   "cell_type": "code",
   "execution_count": null,
   "id": "0868d3cf-b33c-45bc-b783-d002ad71ef7c",
   "metadata": {},
   "outputs": [],
   "source": []
  },
  {
   "cell_type": "code",
   "execution_count": null,
   "id": "b6c106f6-804a-4886-98b1-79761282bbc3",
   "metadata": {},
   "outputs": [],
   "source": []
  },
  {
   "cell_type": "code",
   "execution_count": null,
   "id": "504be886-8c64-4e78-8ab1-8f902ddfcd81",
   "metadata": {},
   "outputs": [],
   "source": []
  },
  {
   "cell_type": "code",
   "execution_count": null,
   "id": "fdb5bc84-4665-4a24-b8ec-9cd7fb527a17",
   "metadata": {},
   "outputs": [],
   "source": []
  },
  {
   "cell_type": "code",
   "execution_count": null,
   "id": "4f7677ab-eae3-4a3e-a2fa-fddd6006a3d5",
   "metadata": {},
   "outputs": [],
   "source": []
  },
  {
   "cell_type": "code",
   "execution_count": null,
   "id": "ef630016-3219-4ee2-b7cb-4b063e7b3cf8",
   "metadata": {},
   "outputs": [],
   "source": []
  }
 ],
 "metadata": {
  "kernelspec": {
   "display_name": "Python 3 (ipykernel)",
   "language": "python",
   "name": "python3"
  },
  "language_info": {
   "codemirror_mode": {
    "name": "ipython",
    "version": 3
   },
   "file_extension": ".py",
   "mimetype": "text/x-python",
   "name": "python",
   "nbconvert_exporter": "python",
   "pygments_lexer": "ipython3",
   "version": "3.12.4"
  }
 },
 "nbformat": 4,
 "nbformat_minor": 5
}
