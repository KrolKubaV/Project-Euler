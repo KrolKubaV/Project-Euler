{
 "cells": [
  {
   "cell_type": "markdown",
   "id": "f9968487-b2c2-45ba-b055-6eb4ebb32feb",
   "metadata": {},
   "source": [
    "# Smallest Multiple - Problem 5\n",
    "<p>$2520$ is the smallest number that can be divided by each of the numbers from $1$ to $10$ without any remainder.</p>\n",
    "<p>What is the smallest positive number that is evenly divisible by all of the numbers from $1$ to $20$?</p>"
   ]
  },
  {
   "cell_type": "markdown",
   "id": "31718ec4-8f8e-4ae6-9875-ccda79cd90dd",
   "metadata": {},
   "source": [
    "## Solution."
   ]
  },
  {
   "cell_type": "code",
   "execution_count": 8,
   "id": "0c67e406-f51e-4f0f-b959-ccb6b8fd7e5d",
   "metadata": {},
   "outputs": [],
   "source": [
    "from math import lcm"
   ]
  },
  {
   "cell_type": "code",
   "execution_count": 6,
   "id": "a941f874-7d9d-49d8-9d10-4b6c04ed8373",
   "metadata": {},
   "outputs": [],
   "source": [
    "def sol(n):\n",
    "    ans = 1\n",
    "    for i in range(2, n+1, 1):\n",
    "        ans = lcm(ans, i)\n",
    "    return ans"
   ]
  },
  {
   "cell_type": "code",
   "execution_count": 9,
   "id": "5469d1a0-4ae3-4237-9e72-f295498172e2",
   "metadata": {},
   "outputs": [
    {
     "data": {
      "text/plain": [
       "232792560"
      ]
     },
     "execution_count": 9,
     "metadata": {},
     "output_type": "execute_result"
    }
   ],
   "source": [
    "sol(20)"
   ]
  },
  {
   "cell_type": "code",
   "execution_count": null,
   "id": "59f89065-42a5-4563-a591-9dbc6d2d2d06",
   "metadata": {},
   "outputs": [],
   "source": []
  }
 ],
 "metadata": {
  "kernelspec": {
   "display_name": "Python 3 (ipykernel)",
   "language": "python",
   "name": "python3"
  },
  "language_info": {
   "codemirror_mode": {
    "name": "ipython",
    "version": 3
   },
   "file_extension": ".py",
   "mimetype": "text/x-python",
   "name": "python",
   "nbconvert_exporter": "python",
   "pygments_lexer": "ipython3",
   "version": "3.12.4"
  }
 },
 "nbformat": 4,
 "nbformat_minor": 5
}
