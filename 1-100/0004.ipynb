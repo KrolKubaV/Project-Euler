{
 "cells": [
  {
   "cell_type": "markdown",
   "id": "b147770a-cb20-4529-a84e-e6697f6c4e81",
   "metadata": {},
   "source": [
    "# Largest Palindrome Product - Problem 4\n",
    "<p>A palindromic number reads the same both ways. The largest palindrome made from the product of two $2$-digit numbers is $9009 = 91 \\times 99$.</p>\n",
    "<p>Find the largest palindrome made from the product of two $3$-digit numbers.</p>\n"
   ]
  },
  {
   "cell_type": "markdown",
   "id": "9b1093c3-d8b2-4099-9c13-d107f73fc958",
   "metadata": {},
   "source": [
    "## Solution."
   ]
  },
  {
   "cell_type": "code",
   "execution_count": 6,
   "id": "47bc702c-798a-49cb-8695-0396073cb463",
   "metadata": {},
   "outputs": [],
   "source": [
    "def is_palindrome(n):\n",
    "    if len(n) <= 1:\n",
    "        return True\n",
    "    if n[0] != n[-1]:\n",
    "        return False\n",
    "    return is_palindrome(n[1:-1])"
   ]
  },
  {
   "cell_type": "code",
   "execution_count": 20,
   "id": "f6b325e8-27b1-4f22-9d02-03f0c437002e",
   "metadata": {},
   "outputs": [
    {
     "name": "stdout",
     "output_type": "stream",
     "text": [
      "906609\n"
     ]
    }
   ],
   "source": [
    "largest_palindrome = 0\n",
    "a = 999\n",
    "\n",
    "while a >= 100:\n",
    "    if a % 11 == 0:\n",
    "        b = 999\n",
    "        db = 1\n",
    "    else:\n",
    "        b = 990 \n",
    "        db = 11\n",
    "    \n",
    "    while b >= a:\n",
    "        if a * b <= largest_palindrome:\n",
    "            break\n",
    "        if is_palindrome(str(a * b)):\n",
    "            largest_palindrome = a * b\n",
    "        b -= db\n",
    "    \n",
    "    a -= 1\n",
    "\n",
    "print(largest_palindrome)"
   ]
  },
  {
   "cell_type": "code",
   "execution_count": null,
   "id": "11350617-7b7d-4015-b318-6956dc25c9fd",
   "metadata": {},
   "outputs": [],
   "source": []
  },
  {
   "cell_type": "code",
   "execution_count": null,
   "id": "af4083dc-3a9d-4b6f-b387-453a2b75c4e1",
   "metadata": {},
   "outputs": [],
   "source": []
  },
  {
   "cell_type": "code",
   "execution_count": null,
   "id": "5131c799-6ac3-4598-9122-7328ef890fee",
   "metadata": {},
   "outputs": [],
   "source": []
  },
  {
   "cell_type": "code",
   "execution_count": null,
   "id": "af287a76-6e78-4b78-b836-aa80a967ac9e",
   "metadata": {},
   "outputs": [],
   "source": []
  },
  {
   "cell_type": "code",
   "execution_count": null,
   "id": "5d9433c6-974f-4b32-a10b-63bd65e9a890",
   "metadata": {},
   "outputs": [],
   "source": []
  }
 ],
 "metadata": {
  "kernelspec": {
   "display_name": "Python 3 (ipykernel)",
   "language": "python",
   "name": "python3"
  },
  "language_info": {
   "codemirror_mode": {
    "name": "ipython",
    "version": 3
   },
   "file_extension": ".py",
   "mimetype": "text/x-python",
   "name": "python",
   "nbconvert_exporter": "python",
   "pygments_lexer": "ipython3",
   "version": "3.12.4"
  }
 },
 "nbformat": 4,
 "nbformat_minor": 5
}
