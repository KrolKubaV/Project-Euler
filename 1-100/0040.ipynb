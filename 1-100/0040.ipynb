{
 "cells": [
  {
   "cell_type": "markdown",
   "id": "3eb77b30-d0aa-4d97-9902-f49374a2ac65",
   "metadata": {},
   "source": [
    "# Champernowne's Constant - Problem 40\n",
    "<p>An irrational decimal fraction is created by concatenating the positive integers:\n",
    "$$0.12345678910{\\color{red}\\mathbf 1}112131415161718192021\\cdots$$</p>\n",
    "<p>It can be seen that the $12$<sup>th</sup> digit of the fractional part is $1$.</p>\n",
    "<p>If $d_n$ represents the $n$<sup>th</sup> digit of the fractional part, find the value of the following expression.\n",
    "$$d_1 \\times d_{10} \\times d_{100} \\times d_{1000} \\times d_{10000} \\times d_{100000} \\times d_{1000000}$$</p>"
   ]
  },
  {
   "cell_type": "markdown",
   "id": "1f6d9f38-3d26-4fc5-a7c9-53305ae45655",
   "metadata": {},
   "source": [
    "## Solution."
   ]
  },
  {
   "cell_type": "code",
   "execution_count": 27,
   "id": "4b600b31-b7f0-4650-86ca-e1d82886a3f7",
   "metadata": {},
   "outputs": [],
   "source": [
    "from math import ceil"
   ]
  },
  {
   "cell_type": "code",
   "execution_count": 45,
   "id": "1ab9dd87-08cc-4a4d-b8c3-b0482800be70",
   "metadata": {},
   "outputs": [],
   "source": [
    "def d(n):\n",
    "    if n <= 9:\n",
    "        return n\n",
    "    \n",
    "    # find number of digits\n",
    "    k = 1\n",
    "    prev_total = 9\n",
    "    total = 9\n",
    "    while True:\n",
    "        if n - total <= 0:\n",
    "            break\n",
    "        k += 1\n",
    "        prev_total = total\n",
    "        total += k * 9 * 10**(k-1)\n",
    "\n",
    "    \n",
    "    n -= prev_total\n",
    "    return int(str(int('9' * (k-1)) + ceil(n/k))[n%k-1])"
   ]
  },
  {
   "cell_type": "code",
   "execution_count": 1,
   "id": "64a40558-df77-435f-933c-fcf53c52a537",
   "metadata": {},
   "outputs": [],
   "source": [
    "def sol40():\n",
    "    ans = 1\n",
    "    for i in range(7):\n",
    "        ans *= d(10**i)\n",
    "    return ans"
   ]
  },
  {
   "cell_type": "code",
   "execution_count": 46,
   "id": "80a4978c-ebae-48e0-91d1-10fe5422b7f9",
   "metadata": {},
   "outputs": [
    {
     "data": {
      "text/plain": [
       "210"
      ]
     },
     "execution_count": 46,
     "metadata": {},
     "output_type": "execute_result"
    }
   ],
   "source": [
    "sol40()"
   ]
  },
  {
   "cell_type": "code",
   "execution_count": null,
   "id": "f89d6b3a-977e-480f-bfac-1abdeb16d8d0",
   "metadata": {},
   "outputs": [],
   "source": []
  },
  {
   "cell_type": "code",
   "execution_count": null,
   "id": "07515bcc-c7de-4a6f-9ff7-6b17a0895ec1",
   "metadata": {},
   "outputs": [],
   "source": []
  },
  {
   "cell_type": "code",
   "execution_count": null,
   "id": "f22e01b2-a4d6-4a02-8f7c-3878b3064223",
   "metadata": {},
   "outputs": [],
   "source": []
  },
  {
   "cell_type": "code",
   "execution_count": null,
   "id": "9e97f692-df3a-450b-9a5b-3efecd8e1278",
   "metadata": {},
   "outputs": [],
   "source": []
  }
 ],
 "metadata": {
  "kernelspec": {
   "display_name": "Python 3 (ipykernel)",
   "language": "python",
   "name": "python3"
  },
  "language_info": {
   "codemirror_mode": {
    "name": "ipython",
    "version": 3
   },
   "file_extension": ".py",
   "mimetype": "text/x-python",
   "name": "python",
   "nbconvert_exporter": "python",
   "pygments_lexer": "ipython3",
   "version": "3.12.4"
  }
 },
 "nbformat": 4,
 "nbformat_minor": 5
}
