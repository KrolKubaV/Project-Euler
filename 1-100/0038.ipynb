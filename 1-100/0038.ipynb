{
 "cells": [
  {
   "cell_type": "markdown",
   "id": "552d4be8-5805-4283-9409-16bd2bd8430f",
   "metadata": {},
   "source": [
    "# Pandigital Multiples - Problem 38\n",
    "<p>Take the number $192$ and multiply it by each of $1$, $2$, and $3$:</p>\n",
    "\\begin{align}\n",
    "192 \\times 1 &= 192\\\\\n",
    "192 \\times 2 &= 384\\\\\n",
    "192 \\times 3 &= 576\n",
    "\\end{align}\n",
    "<p>By concatenating each product we get the $1$ to $9$ pandigital, $192384576$. We will call $192384576$ the concatenated product of $192$ and $(1,2,3)$.</p>\n",
    "<p>The same can be achieved by starting with $9$ and multiplying by $1$, $2$, $3$, $4$, and $5$, giving the pandigital, $918273645$, which is the concatenated product of $9$ and $(1,2,3,4,5)$.</p>\n",
    "<p>What is the largest $1$ to $9$ pandigital $9$-digit number that can be formed as the concatenated product of an integer with $(1,2, \\dots, n)$ where $n \\gt 1$?</p>"
   ]
  },
  {
   "cell_type": "markdown",
   "id": "7de81131-2a6c-4fe8-9d43-103b53627043",
   "metadata": {},
   "source": [
    "## Solution."
   ]
  },
  {
   "cell_type": "code",
   "execution_count": 46,
   "id": "27652783-907a-4efd-8944-534926eedcbd",
   "metadata": {},
   "outputs": [],
   "source": [
    "def generate_permutations(arr):\n",
    "    if len(arr) == 1:\n",
    "        return arr\n",
    "    \n",
    "    ans = []\n",
    "    for i, el in enumerate(arr):\n",
    "        a = [arr[i] + x for x in generate_permutations(arr[:i] + arr[(i+1):])]\n",
    "        ans += a\n",
    "    return ans"
   ]
  },
  {
   "cell_type": "code",
   "execution_count": 16,
   "id": "46890553-a1d1-4f2f-bc3b-a21c472a3dc1",
   "metadata": {},
   "outputs": [],
   "source": [
    "permutations = generate_permutations([str(i) for i in range(9, 0, -1)])"
   ]
  },
  {
   "cell_type": "code",
   "execution_count": 60,
   "id": "4e5ae732-8166-4e32-818a-e23a5fcca69a",
   "metadata": {},
   "outputs": [],
   "source": [
    "def check(perm):\n",
    "    l = 1\n",
    "    \n",
    "    while l < 5:\n",
    "        n = 1\n",
    "        t = perm[:l]\n",
    "\n",
    "        c = perm\n",
    "        while True:\n",
    "            a = str(int(t) * n)\n",
    "            k = len(a)\n",
    "            \n",
    "            if k > len(c):\n",
    "                break\n",
    "            \n",
    "            if a != c[:k]:\n",
    "                break\n",
    "    \n",
    "            if k == len(c):\n",
    "                return True\n",
    "        \n",
    "            c = c[k:]\n",
    "            n += 1\n",
    "            \n",
    "\n",
    "        l += 1\n",
    "\n",
    "    return False"
   ]
  },
  {
   "cell_type": "code",
   "execution_count": 63,
   "id": "04caeac4-76ef-4bee-b37f-ee3eadc8bc00",
   "metadata": {},
   "outputs": [
    {
     "name": "stdout",
     "output_type": "stream",
     "text": [
      "932718654\n"
     ]
    }
   ],
   "source": [
    "for perm in permutations:\n",
    "    if check(perm):\n",
    "        print(perm)\n",
    "        break"
   ]
  },
  {
   "cell_type": "code",
   "execution_count": 62,
   "id": "d4697a3f-319b-4da4-b651-0d22f05ebcdb",
   "metadata": {},
   "outputs": [
    {
     "data": {
      "text/plain": [
       "False"
      ]
     },
     "execution_count": 62,
     "metadata": {},
     "output_type": "execute_result"
    }
   ],
   "source": [
    "check('987654321')"
   ]
  },
  {
   "cell_type": "code",
   "execution_count": null,
   "id": "593f4435-76e2-40d2-b0b7-4a68f77bd155",
   "metadata": {},
   "outputs": [],
   "source": []
  },
  {
   "cell_type": "code",
   "execution_count": null,
   "id": "78d8eaf5-fec4-4094-ba3a-452d3442c00e",
   "metadata": {},
   "outputs": [],
   "source": []
  },
  {
   "cell_type": "code",
   "execution_count": null,
   "id": "206acd7c-3e18-418f-892b-489e1965a5e2",
   "metadata": {},
   "outputs": [],
   "source": []
  },
  {
   "cell_type": "code",
   "execution_count": null,
   "id": "afd64d64-dcec-43a0-acb6-1b3cb415d619",
   "metadata": {},
   "outputs": [],
   "source": []
  },
  {
   "cell_type": "code",
   "execution_count": null,
   "id": "44ebb0f1-27ec-4e06-a6de-ca6cfab61fa1",
   "metadata": {},
   "outputs": [],
   "source": []
  },
  {
   "cell_type": "code",
   "execution_count": null,
   "id": "01211558-3beb-49f7-8c29-55b3e1d68023",
   "metadata": {},
   "outputs": [],
   "source": []
  }
 ],
 "metadata": {
  "kernelspec": {
   "display_name": "Python 3 (ipykernel)",
   "language": "python",
   "name": "python3"
  },
  "language_info": {
   "codemirror_mode": {
    "name": "ipython",
    "version": 3
   },
   "file_extension": ".py",
   "mimetype": "text/x-python",
   "name": "python",
   "nbconvert_exporter": "python",
   "pygments_lexer": "ipython3",
   "version": "3.12.4"
  }
 },
 "nbformat": 4,
 "nbformat_minor": 5
}
