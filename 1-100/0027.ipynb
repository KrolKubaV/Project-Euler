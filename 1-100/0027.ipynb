{
 "cells": [
  {
   "cell_type": "markdown",
   "id": "bc7bd582-b0b9-45e4-8f8c-281491562222",
   "metadata": {},
   "source": [
    "# Quadratic Primes - Problem 27\n",
    "<p>Euler discovered the remarkable quadratic formula:</p>\n",
    "<p class=\"center\">$n^2 + n + 41$</p>\n",
    "<p>It turns out that the formula will produce $40$ primes for the consecutive integer values $0 \\le n \\le 39$. However, when $n = 40, 40^2 + 40 + 41 = 40(40 + 1) + 41$ is divisible by $41$, and certainly when $n = 41, 41^2 + 41 + 41$ is clearly divisible by $41$.</p>\n",
    "<p>The incredible formula $n^2 - 79n + 1601$ was discovered, which produces $80$ primes for the consecutive values $0 \\le n \\le 79$. The product of the coefficients, $-79$ and $1601$, is $-126479$.</p>\n",
    "<p>Considering quadratics of the form:</p>\n",
    "<blockquote>\n",
    "$n^2 + an + b$, where $|a| < 1000$ and $|b| \\le 1000$<br><br><div>where $|n|$ is the modulus/absolute value of $n$<br>e.g. $|11| = 11$ and $|-4| = 4$</div>\n",
    "</blockquote>\n",
    "<p>Find the product of the coefficients, $a$ and $b$, for the quadratic expression that produces the maximum number of primes for consecutive values of $n$, starting with $n = 0$.</p>"
   ]
  },
  {
   "cell_type": "markdown",
   "id": "8e4e0774-fade-49d0-8351-f54a85f15eac",
   "metadata": {},
   "source": [
    "## Solution."
   ]
  },
  {
   "cell_type": "code",
   "execution_count": 18,
   "id": "06b4ff2e-b6d3-42cb-b886-b389237da57b",
   "metadata": {},
   "outputs": [],
   "source": [
    "from math import gcd\n",
    "from tqdm import tqdm"
   ]
  },
  {
   "cell_type": "code",
   "execution_count": 41,
   "id": "25765931-0608-4848-87fd-1a7de4268c36",
   "metadata": {},
   "outputs": [],
   "source": [
    "N = 10**4\n",
    "primes = [1] * (N + 1)\n",
    "primes[1], primes[0] = 0, 0\n",
    "\n",
    "for i in range(4, N, 2): \n",
    "    primes[i] = 0\n",
    "\n",
    "p = 3\n",
    "while p**2 < N: \n",
    "    if primes[p] == 1: \n",
    "        for i in range(2*p, N, p): \n",
    "            primes[i] = 0\n",
    "    p += 2\n",
    "\n",
    "primes = [i for i, el in enumerate(primes) if el == 1]"
   ]
  },
  {
   "cell_type": "code",
   "execution_count": 43,
   "id": "1dd3f2f9-cd22-4753-b2e3-9132b7c7c5a3",
   "metadata": {},
   "outputs": [],
   "source": [
    "def is_prime(n):\n",
    "    if n <= 1:\n",
    "        return False\n",
    "    elif n <= 3:\n",
    "        return True\n",
    "    elif n%2 == 0 or n%3 == 0:\n",
    "        return False\n",
    "    i = 5\n",
    "    while i*i <= n:\n",
    "        if n%i == 0:\n",
    "            return False\n",
    "        i += 1\n",
    "    return True"
   ]
  },
  {
   "cell_type": "code",
   "execution_count": 47,
   "id": "9f5a7b76-69ab-4ebf-a0ad-e4b47a3c87fd",
   "metadata": {},
   "outputs": [],
   "source": [
    "def maximum_number(a, b):\n",
    "    n = 0\n",
    "    while is_prime(n**2 + a*n + b):\n",
    "        n += 1\n",
    "    return n"
   ]
  },
  {
   "cell_type": "code",
   "execution_count": 46,
   "id": "12285247-b5f0-40ec-b7d3-b0da88bdc728",
   "metadata": {},
   "outputs": [],
   "source": [
    "def sol27(A, B):\n",
    "    # n=0\n",
    "    B_range = [x for x in range(1, B+1) if is_prime(x)]\n",
    "\n",
    "    m = 40\n",
    "    for b in tqdm(B_range):\n",
    "        # a+b+1 must be prime so a odd\n",
    "        for a in range(1, A, 2):\n",
    "            for x in [-a, a]:\n",
    "                for y in [-b, b]:\n",
    "                    if maximum_number(x, y) > m:\n",
    "                        m = max(m, maximum_number(x, y))\n",
    "                        ans = x*y\n",
    "    return ans, m"
   ]
  },
  {
   "cell_type": "code",
   "execution_count": 48,
   "id": "e83d0992-fed4-4a0a-a3ba-f608b9899bee",
   "metadata": {},
   "outputs": [
    {
     "name": "stderr",
     "output_type": "stream",
     "text": [
      "100%|███████████████████████████████████████████████████████████████████████████████| 168/168 [00:00<00:00, 316.54it/s]\n"
     ]
    },
    {
     "data": {
      "text/plain": [
       "(-59231, 71)"
      ]
     },
     "execution_count": 48,
     "metadata": {},
     "output_type": "execute_result"
    }
   ],
   "source": [
    "sol27(1000, 1000)"
   ]
  },
  {
   "cell_type": "code",
   "execution_count": null,
   "id": "acac3191-a516-427d-ba9f-284ad7b7d661",
   "metadata": {},
   "outputs": [],
   "source": []
  },
  {
   "cell_type": "code",
   "execution_count": null,
   "id": "36e11da8-a538-4141-a54f-cad004dbd464",
   "metadata": {},
   "outputs": [],
   "source": []
  },
  {
   "cell_type": "code",
   "execution_count": null,
   "id": "1fde5cfe-55bf-4ddc-867f-c8c5f52b027b",
   "metadata": {},
   "outputs": [],
   "source": []
  },
  {
   "cell_type": "code",
   "execution_count": null,
   "id": "f7eec644-8291-4044-9f6e-6e7124d72999",
   "metadata": {},
   "outputs": [],
   "source": []
  }
 ],
 "metadata": {
  "kernelspec": {
   "display_name": "Python 3 (ipykernel)",
   "language": "python",
   "name": "python3"
  },
  "language_info": {
   "codemirror_mode": {
    "name": "ipython",
    "version": 3
   },
   "file_extension": ".py",
   "mimetype": "text/x-python",
   "name": "python",
   "nbconvert_exporter": "python",
   "pygments_lexer": "ipython3",
   "version": "3.12.4"
  }
 },
 "nbformat": 4,
 "nbformat_minor": 5
}
