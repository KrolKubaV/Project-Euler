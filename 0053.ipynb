{
 "cells": [
  {
   "cell_type": "markdown",
   "id": "833c03c3-3824-4124-9ab9-4c3fb302c57f",
   "metadata": {},
   "source": [
    "# Combinatoric Selections - Problem 53\n",
    "<p>There are exactly ten ways of selecting three from five, 12345:</p>\n",
    "<p class=\"center\">123, 124, 125, 134, 135, 145, 234, 235, 245, and 345</p>\n",
    "<p>In combinatorics, we use the notation, $\\displaystyle \\binom 5 3 = 10$.</p>\n",
    "<p>In general, $\\displaystyle \\binom n r = \\dfrac{n!}{r!(n-r)!}$, where $r \\le n$, $n! = n \\times (n-1) \\times ... \\times 3 \\times 2 \\times 1$, and $0! = 1$.\n",
    "</p>\n",
    "<p>It is not until $n = 23$, that a value exceeds one-million: $\\displaystyle \\binom {23} {10} = 1144066$.</p>\n",
    "<p>How many, not necessarily distinct, values of $\\displaystyle \\binom n r$ for $1 \\le n \\le 100$, are greater than one-million?</p>"
   ]
  },
  {
   "cell_type": "markdown",
   "id": "549064d1-1ec0-4b9a-8b87-f3dd8c8136aa",
   "metadata": {},
   "source": [
    "## Solution."
   ]
  },
  {
   "cell_type": "code",
   "execution_count": 13,
   "id": "d3742995-b746-40bd-bfa8-9d38fbe5457c",
   "metadata": {},
   "outputs": [],
   "source": [
    "from math import log, factorial\n",
    "from functools import cache"
   ]
  },
  {
   "cell_type": "code",
   "execution_count": 14,
   "id": "36759457-1cfd-4212-bd60-b5471825447e",
   "metadata": {},
   "outputs": [],
   "source": [
    "@cache\n",
    "def factorial_log(n):\n",
    "    if n == 0:\n",
    "        return 0\n",
    "\n",
    "    return log(n) + factorial_log(n-1)"
   ]
  },
  {
   "cell_type": "code",
   "execution_count": 18,
   "id": "900ff8e3-5a38-47df-b454-8d15ff025cb1",
   "metadata": {},
   "outputs": [],
   "source": [
    "def binom_log(n, k):\n",
    "    return factorial_log(n) - factorial_log(k) - factorial_log(n-k)"
   ]
  },
  {
   "cell_type": "code",
   "execution_count": 43,
   "id": "bc8e7eb5-3a04-4d8c-a236-9473ca8abb60",
   "metadata": {},
   "outputs": [
    {
     "name": "stdout",
     "output_type": "stream",
     "text": [
      "492872\n"
     ]
    }
   ],
   "source": [
    "threshold = 8 * log(10)\n",
    "ans = 0\n",
    "\n",
    "for n in range(1, 1001):\n",
    "    if binom_log(n, n//2) > threshold:\n",
    "        for k in range(2, n):\n",
    "            if binom_log(n, k) > threshold:\n",
    "                ans += 1\n",
    "\n",
    "print(ans)"
   ]
  },
  {
   "cell_type": "code",
   "execution_count": null,
   "id": "2482b5f7-eb35-47a0-b6f4-1e7d07e7e345",
   "metadata": {},
   "outputs": [],
   "source": []
  },
  {
   "cell_type": "code",
   "execution_count": null,
   "id": "5c424af3-81f3-4e22-abe2-223f5824f5c3",
   "metadata": {},
   "outputs": [],
   "source": []
  },
  {
   "cell_type": "code",
   "execution_count": null,
   "id": "abef5985-2bcc-48bf-8784-da0e2d520228",
   "metadata": {},
   "outputs": [],
   "source": []
  },
  {
   "cell_type": "code",
   "execution_count": null,
   "id": "c8f16d0d-1e0c-4b97-ba82-4097fadf3a9d",
   "metadata": {},
   "outputs": [],
   "source": []
  },
  {
   "cell_type": "code",
   "execution_count": null,
   "id": "8f6c0bb9-cf22-4b0a-ac9a-e31e2aad910b",
   "metadata": {},
   "outputs": [],
   "source": []
  }
 ],
 "metadata": {
  "kernelspec": {
   "display_name": "Python 3 (ipykernel)",
   "language": "python",
   "name": "python3"
  },
  "language_info": {
   "codemirror_mode": {
    "name": "ipython",
    "version": 3
   },
   "file_extension": ".py",
   "mimetype": "text/x-python",
   "name": "python",
   "nbconvert_exporter": "python",
   "pygments_lexer": "ipython3",
   "version": "3.12.4"
  }
 },
 "nbformat": 4,
 "nbformat_minor": 5
}
