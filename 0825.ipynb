{
 "cells": [
  {
   "cell_type": "markdown",
   "id": "fd00fce7-0fa1-492e-a43e-324f072721a5",
   "metadata": {},
   "source": [
    "# Problem 825 - Chasing Game\n",
    "<p>Two cars are on a circular track of total length $2n$, facing the same direction, initially distance $n$ apart.<br />\n",
    "They move in turn. At each turn, the moving car will advance a distance of $1$, $2$ or $3$, with equal probabilities.<br />\n",
    "The chase ends when the moving car reaches or goes beyond the position of the other car. The moving car is declared the winner.</p>\n",
    "\n",
    "<p>Let $S(n)$ be the difference between the winning probabilities of the two cars.<br />\n",
    "For example, when $n = 2$, the winning probabilities of the two cars are $\\frac 9 {11}$ and $\\frac 2 {11}$, and thus $S(2) = \\frac 7 {11}$.</p>\n",
    "\n",
    "<p>Let $\\displaystyle T(N) = \\sum_{n = 2}^N S(n)$.</p>\n",
    "\n",
    "<p>You are given that $T(10) = 2.38235282$ rounded to 8 digits after the decimal point.</p>\n",
    "\n",
    "<p>Find $T(10^{14})$, rounded to 8 digits after the decimal point.</p>"
   ]
  },
  {
   "cell_type": "markdown",
   "id": "976319dd-149a-4ca9-b93b-c695de2b6b21",
   "metadata": {},
   "source": [
    "## Solution."
   ]
  },
  {
   "cell_type": "code",
   "execution_count": 3,
   "id": "76f8401e-3800-4cab-b01a-a9bcd9714ade",
   "metadata": {},
   "outputs": [],
   "source": [
    "import numpy as np"
   ]
  },
  {
   "cell_type": "code",
   "execution_count": 40,
   "id": "4950e542-db82-4de8-bb1e-2e0aa48035f3",
   "metadata": {},
   "outputs": [
    {
     "data": {
      "text/plain": [
       "array([0., 0.])"
      ]
     },
     "execution_count": 40,
     "metadata": {},
     "output_type": "execute_result"
    }
   ],
   "source": [
    "np.empty(2)"
   ]
  },
  {
   "cell_type": "code",
   "execution_count": 41,
   "id": "6a7aa70a-b108-4e42-b6d3-e6e16c4dddaa",
   "metadata": {},
   "outputs": [],
   "source": [
    "def construct_matrix(n):\n",
    "    size = 2 * n - 1\n",
    "    M = np.eye(size)\n",
    "    N = np.zeros((size, size))\n",
    "    for r in range(2*n-1):\n",
    "        c = 2*n - 1 - r\n",
    "        if c <= 2*n - 2:\n",
    "            N[r][c] = 1/3\n",
    "        if c + 1 <= 2*n - 2:\n",
    "            N[r][c+1] = 1/3\n",
    "        if c + 2 <= 2*n - 2:\n",
    "            N[r][c+2] = 1/3\n",
    "        \n",
    "    return M + N"
   ]
  },
  {
   "cell_type": "code",
   "execution_count": 52,
   "id": "51c442f5-99c5-46ba-b2a1-6710baa6cfad",
   "metadata": {},
   "outputs": [],
   "source": [
    "def S(n):\n",
    "    M = construct_matrix(n)\n",
    "    M_inv = np.linalg.inv(M)\n",
    "    ones_vector = np.ones((2 * n - 1,))\n",
    "    result = M_inv @ ones_vector\n",
    "    return abs(2*result[n-1] - 1)"
   ]
  },
  {
   "cell_type": "code",
   "execution_count": 53,
   "id": "8b158240-a2e6-4b12-94e3-cecf0168fe80",
   "metadata": {},
   "outputs": [],
   "source": [
    "def T(N):\n",
    "    return sum(S(n) for n in range(2, N+1, 1))"
   ]
  },
  {
   "cell_type": "code",
   "execution_count": 54,
   "id": "47cc1ea8-cecb-4e69-9cda-25d33fb0c34d",
   "metadata": {},
   "outputs": [
    {
     "data": {
      "text/plain": [
       "np.float64(2.3823528223339343)"
      ]
     },
     "execution_count": 54,
     "metadata": {},
     "output_type": "execute_result"
    }
   ],
   "source": [
    "T(10)"
   ]
  },
  {
   "cell_type": "code",
   "execution_count": null,
   "id": "1ac86fc6-c5a7-4f6a-bc1b-9086b32ba004",
   "metadata": {},
   "outputs": [],
   "source": []
  },
  {
   "cell_type": "code",
   "execution_count": null,
   "id": "5807ea37-d550-42ec-ab84-021f36120300",
   "metadata": {},
   "outputs": [],
   "source": []
  },
  {
   "cell_type": "code",
   "execution_count": null,
   "id": "1a1bfaff-517b-48b7-903d-ba9f8dca024c",
   "metadata": {},
   "outputs": [],
   "source": []
  },
  {
   "cell_type": "code",
   "execution_count": null,
   "id": "fd896c74-bd60-408d-9ebd-de27553ea58b",
   "metadata": {},
   "outputs": [],
   "source": []
  },
  {
   "cell_type": "code",
   "execution_count": null,
   "id": "6ad2b3d1-ff2e-4eba-a0dc-58084c0f6c8b",
   "metadata": {},
   "outputs": [],
   "source": []
  },
  {
   "cell_type": "code",
   "execution_count": null,
   "id": "ed0b0c7c-84fc-4721-a938-d71758c5ba6b",
   "metadata": {},
   "outputs": [],
   "source": []
  },
  {
   "cell_type": "code",
   "execution_count": null,
   "id": "f0c694dc-fc92-4fb4-bf22-6ee769a9ff11",
   "metadata": {},
   "outputs": [],
   "source": []
  },
  {
   "cell_type": "code",
   "execution_count": null,
   "id": "32f2e709-c599-4f30-91cd-28226b7473ae",
   "metadata": {},
   "outputs": [],
   "source": []
  }
 ],
 "metadata": {
  "kernelspec": {
   "display_name": "Python 3 (ipykernel)",
   "language": "python",
   "name": "python3"
  },
  "language_info": {
   "codemirror_mode": {
    "name": "ipython",
    "version": 3
   },
   "file_extension": ".py",
   "mimetype": "text/x-python",
   "name": "python",
   "nbconvert_exporter": "python",
   "pygments_lexer": "ipython3",
   "version": "3.13.0"
  }
 },
 "nbformat": 4,
 "nbformat_minor": 5
}
