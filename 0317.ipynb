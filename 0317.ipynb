{
 "cells": [
  {
   "cell_type": "markdown",
   "id": "e7220953-0c5b-417c-b8fb-92187fd18865",
   "metadata": {},
   "source": [
    "# Firecracker - Problem 317\n",
    "<p>\n",
    "A firecracker explodes at a height of $\\pu{100 m}$ above level ground. It breaks into a large number of very small fragments, which move in every direction; all of them have the same initial velocity of $\\pu{20 m/s}$.\n",
    "</p>\n",
    "<p>\n",
    "We assume that the fragments move without air resistance, in a uniform gravitational field with $g=\\pu{9.81 m/s^2}$.\n",
    "</p>\n",
    "<p>\n",
    "Find the volume (in $\\pu{m^3}$) of the region through which the fragments move before reaching the ground. \n",
    "Give your answer rounded to four decimal places.\n",
    "</p>\n"
   ]
  },
  {
   "cell_type": "markdown",
   "id": "dfe73772-24ac-484d-b79b-557cecdf8909",
   "metadata": {},
   "source": [
    "## Solution."
   ]
  },
  {
   "cell_type": "markdown",
   "id": "97e92e77-913a-49a5-8521-822189177903",
   "metadata": {},
   "source": [
    "Recall that for a given launch velocity $v$, launch angle $\\theta$ and height $h$, the trajectory is given by\n",
    "$$y = h + \\frac{v_y}{v_x}x - \\frac{g}{2v_x^2}x^2.$$\n",
    "Using that $v_y=v \\sin(\\theta)$ and $v_x=v \\cos (\\theta)$, we can rearrange the above equation to obtain\n",
    "$$y = h + x\\tan(\\theta) - \\frac{gx^2}{2v^2}(\\tan(\\theta)^2+1),$$\n",
    "or equivalently\n",
    "$$\\frac{gx^2}{2v^2}\\tan(\\theta)^2-x\\tan(x)+\\left(y+\\frac{gx^2}{2v^2}-h\\right)=0.$$\n",
    "Point $(x,y)$ is reachable if there exists a solution for $\\theta$ in the above equation, i.e. $\\Delta\\geq 0$. Thus, the boundary is $\\Delta=0$, i.e.\n",
    "$$y(x)=-\\frac{gx^2}{2v^2}+h+\\frac{v^2}{2g}.$$\n",
    "Thus, the minimum and maximum $x$ values are\n",
    "$$x_b = \\pm v\\sqrt{\\frac{2}{g}\\left(h+\\frac{v^2}{2g}\\right)}.$$\n",
    "Now, it's straightforward to calculate the volume."
   ]
  },
  {
   "cell_type": "code",
   "execution_count": 17,
   "id": "9b058eac-a0e0-4490-80e4-6989fcd6516e",
   "metadata": {},
   "outputs": [],
   "source": [
    "from math import sqrt, pi"
   ]
  },
  {
   "cell_type": "code",
   "execution_count": 1,
   "id": "a92be306-87c0-4b27-9168-fba2ca97da60",
   "metadata": {},
   "outputs": [],
   "source": [
    "g = 9.81"
   ]
  },
  {
   "cell_type": "code",
   "execution_count": 44,
   "id": "052ee744-e615-413d-9183-8876926d4fa6",
   "metadata": {},
   "outputs": [],
   "source": [
    "def integral(a, b, x1, x2):\n",
    "    '''\n",
    "    Integral of ax + b from x1 to x2\n",
    "    '''\n",
    "    return a/2 *(x2**2-x1**2) + b * (x2-x1)"
   ]
  },
  {
   "cell_type": "code",
   "execution_count": 47,
   "id": "6fdb5cae-a383-4695-842b-1fabcbeb69d0",
   "metadata": {},
   "outputs": [],
   "source": [
    "def sol317(h=100, v=20):\n",
    "    y_min = 0\n",
    "    y_max = h + v**2/(2 * g)\n",
    "    a = - 2 * v**2/g\n",
    "    b = 2*v**2/g * y_max\n",
    "\n",
    "    return round(pi * integral(a, b, y_min, y_max), 4)"
   ]
  },
  {
   "cell_type": "code",
   "execution_count": 48,
   "id": "3dadbf27-7954-4282-a563-c592e354ca28",
   "metadata": {},
   "outputs": [
    {
     "data": {
      "text/plain": [
       "1856532.8455"
      ]
     },
     "execution_count": 48,
     "metadata": {},
     "output_type": "execute_result"
    }
   ],
   "source": [
    "sol317()"
   ]
  }
 ],
 "metadata": {
  "kernelspec": {
   "display_name": "Python 3 (ipykernel)",
   "language": "python",
   "name": "python3"
  },
  "language_info": {
   "codemirror_mode": {
    "name": "ipython",
    "version": 3
   },
   "file_extension": ".py",
   "mimetype": "text/x-python",
   "name": "python",
   "nbconvert_exporter": "python",
   "pygments_lexer": "ipython3",
   "version": "3.12.4"
  }
 },
 "nbformat": 4,
 "nbformat_minor": 5
}
