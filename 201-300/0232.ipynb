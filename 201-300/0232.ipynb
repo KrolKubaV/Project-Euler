{
 "cells": [
  {
   "cell_type": "markdown",
   "id": "ba915573-ca07-4241-94ef-0a0735111e9a",
   "metadata": {},
   "source": [
    "# Problem 232 - The Race\n",
    "<p>Two players share an unbiased coin and take it in turns to play <dfn>The Race</dfn>.</p>\n",
    "\n",
    "<p>On Player 1's turn, the coin is tossed once. If it comes up Heads, then Player 1 scores one point; if it comes up Tails, then no points are scored.</p>\n",
    "\n",
    "<p>On Player 2's turn, a positive integer, $T$, is chosen by Player 2 and the coin is tossed $T$ times. If it comes up all Heads, then Player 2 scores $2^{T-1}$ points; otherwise, no points are scored.</p>\n",
    "\n",
    "<p>Player 1 goes first and the winner is the first to 100 or more points.</p>\n",
    "\n",
    "<p>Player 2 will always select the number, $T$, of coin tosses that maximises the probability of winning.</p>\n",
    "\n",
    "<p>What is the probability that Player 2 wins?</p>\n",
    "\n",
    "<p>Give your answer rounded to eight decimal places in the form 0.abcdefgh.</p>"
   ]
  },
  {
   "cell_type": "markdown",
   "id": "493dd1d4-72f6-48cc-a98a-46e289129e66",
   "metadata": {},
   "source": [
    "## Solution."
   ]
  },
  {
   "cell_type": "code",
   "execution_count": 162,
   "id": "df48ab0c-d05a-4e8a-960e-406c5acec43b",
   "metadata": {},
   "outputs": [],
   "source": [
    "from functools import cache"
   ]
  },
  {
   "cell_type": "code",
   "execution_count": 169,
   "id": "f2f3a6cf-ad24-4cc4-8481-4b99d6fb964f",
   "metadata": {},
   "outputs": [],
   "source": [
    "@cache\n",
    "def P_help(p1, p2, X):\n",
    "    '''\n",
    "    p1, p2 - starting points of P1, P2\n",
    "    X - winning thershold\n",
    "\n",
    "    Finds the probability of P2 winning if P1 is starting.\n",
    "    ''' \n",
    "    if p1 >= X:\n",
    "        return 0\n",
    "    \n",
    "    if p2 >= X:\n",
    "        return 1 \n",
    "\n",
    "    p_opt = 0\n",
    "    for T in range(1, 25):\n",
    "        p_up = (1/2)**T\n",
    "        p_down = 1 - p_up\n",
    "\n",
    "        p = p_up * P(p1, p2 + 2**(T-1), X) + p_down * P(p1, p2, X)\n",
    "        \n",
    "        p_opt = max(p_opt, p)\n",
    "            \n",
    "    return p_opt"
   ]
  },
  {
   "cell_type": "code",
   "execution_count": 196,
   "id": "92926d12-0f7b-4ca8-b5d8-7ed5bf1681a6",
   "metadata": {},
   "outputs": [],
   "source": [
    "@cache\n",
    "def P(p1, p2, X):\n",
    "    '''\n",
    "    p1, p2 - starting points of P1, P2\n",
    "    X - winning thershold\n",
    "\n",
    "    Finds probability of P2 winning if P1 is starting.\n",
    "    '''  \n",
    "    if p1 >= X:\n",
    "        return 0\n",
    "    \n",
    "    if p2 >= X:\n",
    "        return 1    \n",
    "\n",
    "    p_opt1 = 0\n",
    "    for T in range(1, 25):\n",
    "        p_up = (1/2)**T\n",
    "        p_down = 1 - p_up\n",
    "\n",
    "        p = p_up * P(p1 + 1, p2 + 2**(T-1), X) + p_down * P(p1 + 1, p2, X)\n",
    "        \n",
    "        if p > p_opt1:\n",
    "            p_opt1 = p\n",
    "\n",
    "    p_opt2 = 0\n",
    "    for T in range(1, 25):\n",
    "        p_up = (1/2)**T\n",
    "        p_down = 1 - p_up\n",
    "\n",
    "        p = (1/2* p_opt1 + 1/2 * p_up * P(p1, p2 + 2**(T-1), X)) / (1 - 1/2 * p_down)\n",
    "        \n",
    "        if p > p_opt2:\n",
    "            p_opt2 = p\n",
    "            \n",
    "    return p_opt2"
   ]
  },
  {
   "cell_type": "code",
   "execution_count": 197,
   "id": "f3a1c88e-f5b4-481d-a127-71929c50767b",
   "metadata": {},
   "outputs": [
    {
     "data": {
      "text/plain": [
       "0.8364855558469466"
      ]
     },
     "execution_count": 197,
     "metadata": {},
     "output_type": "execute_result"
    }
   ],
   "source": [
    "P(0, 0, 100)"
   ]
  },
  {
   "cell_type": "markdown",
   "id": "f9f1cb78-4bc0-466c-92dc-7c8722a46da3",
   "metadata": {},
   "source": [
    "Answer: 0.83648556"
   ]
  },
  {
   "cell_type": "code",
   "execution_count": null,
   "id": "bb7859b5-4361-4499-8dc1-9d391aafa5f1",
   "metadata": {},
   "outputs": [],
   "source": []
  },
  {
   "cell_type": "code",
   "execution_count": null,
   "id": "f0369db4-64c6-4af6-91bb-a2de4b0a71ae",
   "metadata": {},
   "outputs": [],
   "source": []
  },
  {
   "cell_type": "code",
   "execution_count": null,
   "id": "9dd51e2f-7dbf-41eb-a7eb-886eef28ae46",
   "metadata": {},
   "outputs": [],
   "source": []
  },
  {
   "cell_type": "code",
   "execution_count": null,
   "id": "75d99dbf-92ba-4a57-b7a7-eed01ddbebdf",
   "metadata": {},
   "outputs": [],
   "source": []
  },
  {
   "cell_type": "code",
   "execution_count": null,
   "id": "8fb28a88-bd30-4961-97dd-bd8e59b1e3bb",
   "metadata": {},
   "outputs": [],
   "source": []
  },
  {
   "cell_type": "code",
   "execution_count": null,
   "id": "6ce868b9-4d06-46a6-a45f-b02e9f32dba5",
   "metadata": {},
   "outputs": [],
   "source": []
  }
 ],
 "metadata": {
  "kernelspec": {
   "display_name": "Python 3 (ipykernel)",
   "language": "python",
   "name": "python3"
  },
  "language_info": {
   "codemirror_mode": {
    "name": "ipython",
    "version": 3
   },
   "file_extension": ".py",
   "mimetype": "text/x-python",
   "name": "python",
   "nbconvert_exporter": "python",
   "pygments_lexer": "ipython3",
   "version": "3.13.0"
  }
 },
 "nbformat": 4,
 "nbformat_minor": 5
}
