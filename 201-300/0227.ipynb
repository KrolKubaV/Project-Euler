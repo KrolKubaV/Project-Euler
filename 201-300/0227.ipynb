{
 "cells": [
  {
   "cell_type": "markdown",
   "id": "5618c941-ab53-49f4-a324-4bad663ebc78",
   "metadata": {},
   "source": [
    "# The Chase - Problem 227\n",
    "<p><dfn>The Chase</dfn> is a game played with two dice and an even number of players.</p>\n",
    "\n",
    "<p>The players sit around a table and the game begins with two opposite players having one die each. On each turn, the two players with a die roll it.</p>\n",
    "\n",
    "<p>If the player rolls 1, then the die passes to the neighbour on the left.<br />\n",
    "If the player rolls 6, then the die passes to the neighbour on the right.<br />\n",
    "Otherwise, the player keeps the die for the next turn.</p>\n",
    "\n",
    "<p>The game ends when one player has both dice after they have been rolled and passed; that player has then lost.</p>\n",
    "\n",
    "<p>In a game with 100 players, what is the expected number of turns the game lasts?</p>\n",
    "<p>Give your answer rounded to ten significant digits.</p>"
   ]
  },
  {
   "cell_type": "markdown",
   "id": "850c18e1-d2a3-49b5-a4cf-c6bd56e36b80",
   "metadata": {},
   "source": [
    "## Solution.\n",
    "https://www.ryanhmckenna.com/2015/04/markov-chains-and-expected-value.html"
   ]
  },
  {
   "cell_type": "code",
   "execution_count": 6,
   "id": "ba43c244-cfcc-4a99-82bd-f7a50d08c6cf",
   "metadata": {},
   "outputs": [],
   "source": [
    "import numpy as np"
   ]
  },
  {
   "cell_type": "code",
   "execution_count": 34,
   "id": "f74a0db4-d5aa-48f7-8345-3150225c9de5",
   "metadata": {},
   "outputs": [],
   "source": [
    "def transition_matrix(n):\n",
    "    ''' Gives transition matrix for a game with n=2m players where a state iss a minimal distance between dice'''\n",
    "    m = n//2\n",
    "    P = matrix = np.zeros((m+1, m+1))\n",
    "\n",
    "    P[0, 0] = 1 #absorbing state\n",
    "\n",
    "    l = 1/6\n",
    "    r = 1/6\n",
    "    k = 4/6\n",
    "\n",
    "    for i in range(1, m+1):\n",
    "        P[i, i] += k*k\n",
    "        P[i, i] += l*l\n",
    "        P[i, i] += r*r\n",
    "        P[i, abs(i-2)] += r*l\n",
    "        P[i, min(abs(i+2), 100 - abs(i+2))] += l*r\n",
    "        P[i, i-1] += r*k\n",
    "        P[i, i-1] += k*l\n",
    "        P[i, min(abs(i+1), 100 - abs(i+1))] += l*k\n",
    "        P[i, min(abs(i+1), 100 - abs(i+1))] += k*r\n",
    "        \n",
    "    return P           \n",
    "    "
   ]
  },
  {
   "cell_type": "code",
   "execution_count": 62,
   "id": "082952a2-8680-47d7-b1d4-bedd9c686acc",
   "metadata": {},
   "outputs": [],
   "source": [
    "def E(i, j, P):\n",
    "    ''' Given transition matrix, finds expected number of moves to get from state i to j, where j is absorbing'''\n",
    "    \n",
    "    n = len(P)\n",
    "    Q = np.delete(np.delete(P, j, axis=0), j, axis=1)\n",
    "    I = np.eye(n-1)\n",
    "    N = np.linalg.inv(I - Q)\n",
    "    \n",
    "    if i == j:\n",
    "        return 0 \n",
    "    \n",
    "    return round(N[j-1, :].sum(), 10)"
   ]
  },
  {
   "cell_type": "code",
   "execution_count": 63,
   "id": "1fee63f4-c343-4adf-a3b1-468114d5c817",
   "metadata": {},
   "outputs": [
    {
     "data": {
      "text/plain": [
       "np.float64(3780.6186217845)"
      ]
     },
     "execution_count": 63,
     "metadata": {},
     "output_type": "execute_result"
    }
   ],
   "source": [
    "E(50, 0, transition_matrix(100))"
   ]
  },
  {
   "cell_type": "code",
   "execution_count": 51,
   "id": "ec57bf55-a6f0-4f35-87a8-f49dfb22f5c5",
   "metadata": {},
   "outputs": [
    {
     "data": {
      "text/plain": [
       "51"
      ]
     },
     "execution_count": 51,
     "metadata": {},
     "output_type": "execute_result"
    }
   ],
   "source": [
    "len(transition_matrix(100))"
   ]
  },
  {
   "cell_type": "code",
   "execution_count": null,
   "id": "ce7bdbba-c4d1-4547-855f-1fbe0b08fe08",
   "metadata": {},
   "outputs": [],
   "source": [
    "3780.618622"
   ]
  },
  {
   "cell_type": "code",
   "execution_count": null,
   "id": "7ccfb370-c6bb-4266-97de-136da2f9933a",
   "metadata": {},
   "outputs": [],
   "source": []
  },
  {
   "cell_type": "code",
   "execution_count": null,
   "id": "c08931bb-9309-47f7-8a99-0bf0c111a304",
   "metadata": {},
   "outputs": [],
   "source": []
  },
  {
   "cell_type": "code",
   "execution_count": null,
   "id": "2c6dbf60-51ad-40de-91b0-384da2e7ba6b",
   "metadata": {},
   "outputs": [],
   "source": []
  },
  {
   "cell_type": "code",
   "execution_count": null,
   "id": "1bb83ed0-0904-4488-a86c-3fbefc3993cb",
   "metadata": {},
   "outputs": [],
   "source": []
  },
  {
   "cell_type": "code",
   "execution_count": null,
   "id": "7bf4ed0e-cf72-41e7-809e-56413d7e5484",
   "metadata": {},
   "outputs": [],
   "source": []
  },
  {
   "cell_type": "code",
   "execution_count": null,
   "id": "9152b380-c7f8-47ee-878b-5a05d23f3aaa",
   "metadata": {},
   "outputs": [],
   "source": []
  },
  {
   "cell_type": "code",
   "execution_count": null,
   "id": "9e1c06a7-1364-4b4f-b7fb-395f0ce13de0",
   "metadata": {},
   "outputs": [],
   "source": []
  }
 ],
 "metadata": {
  "kernelspec": {
   "display_name": "Python 3 (ipykernel)",
   "language": "python",
   "name": "python3"
  },
  "language_info": {
   "codemirror_mode": {
    "name": "ipython",
    "version": 3
   },
   "file_extension": ".py",
   "mimetype": "text/x-python",
   "name": "python",
   "nbconvert_exporter": "python",
   "pygments_lexer": "ipython3",
   "version": "3.12.4"
  }
 },
 "nbformat": 4,
 "nbformat_minor": 5
}
