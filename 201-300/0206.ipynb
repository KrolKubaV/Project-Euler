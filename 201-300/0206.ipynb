{
 "cells": [
  {
   "cell_type": "markdown",
   "id": "5585ad5a-3e7f-4469-b176-a694d8af242a",
   "metadata": {},
   "source": [
    "# Concealed square - Problem 206\n",
    "<p>Find the unique positive integer whose square has the form 1_2_3_4_5_6_7_8_9_0, where each “_” is a single digit.</p>"
   ]
  },
  {
   "cell_type": "markdown",
   "id": "90569c67-cb20-41ab-abb3-53d42725258b",
   "metadata": {},
   "source": [
    "## Solution."
   ]
  },
  {
   "cell_type": "markdown",
   "id": "f1fde927-53cf-4077-84b2-e7190f1b7d8a",
   "metadata": {},
   "source": [
    "The last two digits must clearly be both 0, so divide by 100 leaves us with a square too k=1_2_3_4_5_6_7_8_9. Note that $\\sqrt{k}$ must therefore end in $3$ or $7$."
   ]
  },
  {
   "cell_type": "markdown",
   "id": "2a2480e1-fa53-4ecd-8c5c-6bdc07d17db4",
   "metadata": {},
   "source": [
    "### Brutoforce + luck."
   ]
  },
  {
   "cell_type": "code",
   "execution_count": 2,
   "id": "3650f184-8fb5-4d75-98e7-2d208e5c03f2",
   "metadata": {},
   "outputs": [],
   "source": [
    "from math import isqrt"
   ]
  },
  {
   "cell_type": "code",
   "execution_count": 54,
   "id": "656b261e-17d9-42fb-8a81-6996a303b397",
   "metadata": {},
   "outputs": [],
   "source": [
    "def arr_to_num(x):\n",
    "    ans = 0\n",
    "    for i, el in enumerate(x[::-1]):\n",
    "        ans += 10**i * el\n",
    "    return ans"
   ]
  },
  {
   "cell_type": "code",
   "execution_count": 46,
   "id": "f7866fde-a8c0-4acd-a161-c455f8c22538",
   "metadata": {},
   "outputs": [],
   "source": [
    "def check(n):\n",
    "    n = str(n)\n",
    "    a = []\n",
    "    for i in range(0, len(n), 2):\n",
    "        a.append(int(n[i]))\n",
    "        \n",
    "    if a == [1,2,3,4,5,6,7,8,9,0]:\n",
    "        return True\n",
    "    return False"
   ]
  },
  {
   "cell_type": "code",
   "execution_count": 60,
   "id": "4eea67e9-a1a1-4be5-9c86-06a8c365c9ec",
   "metadata": {},
   "outputs": [],
   "source": [
    "x_min = [1, 0, 2, 0, 3, 0, 4, 0, 5, 0, 6, 0, 7, 0, 8, 0, 9, 0, 0]\n",
    "x_max = [1, 9, 2, 9, 3, 9, 4, 9, 5, 9, 6, 9, 7, 9, 8, 9, 9, 8, 0]"
   ]
  },
  {
   "cell_type": "code",
   "execution_count": 61,
   "id": "48e6daff-af5b-442d-9d40-505ab933ab69",
   "metadata": {},
   "outputs": [],
   "source": [
    "x_min = arr_to_num(x_min)\n",
    "x_max = arr_to_num(x_max)"
   ]
  },
  {
   "cell_type": "code",
   "execution_count": 63,
   "id": "dd2467db-593a-4800-8627-6c70b05b9882",
   "metadata": {},
   "outputs": [
    {
     "data": {
      "text/plain": [
       "(1010101010, 1389026623)"
      ]
     },
     "execution_count": 63,
     "metadata": {},
     "output_type": "execute_result"
    }
   ],
   "source": [
    "isqrt(x_min), isqrt(x_max)"
   ]
  },
  {
   "cell_type": "code",
   "execution_count": 67,
   "id": "68576e27-2093-4130-9574-f38b6f30a36b",
   "metadata": {},
   "outputs": [
    {
     "name": "stdout",
     "output_type": "stream",
     "text": [
      "1389019170\n"
     ]
    }
   ],
   "source": [
    "for n in range(1389026620, 1010101010, -10):\n",
    "    if check(n**2):\n",
    "        print(n)\n",
    "        break"
   ]
  },
  {
   "cell_type": "markdown",
   "id": "4527b4a0-ab8b-44ea-9ed9-17a12ecf4493",
   "metadata": {},
   "source": [
    "ans: 1389019170"
   ]
  },
  {
   "cell_type": "code",
   "execution_count": 64,
   "id": "9e781674-806f-41f9-bca4-c00aa9aaf7f2",
   "metadata": {},
   "outputs": [
    {
     "data": {
      "text/plain": [
       "1929374254627488900"
      ]
     },
     "execution_count": 64,
     "metadata": {},
     "output_type": "execute_result"
    }
   ],
   "source": [
    "1389019170**2"
   ]
  },
  {
   "cell_type": "markdown",
   "id": "fb4a4466-cfc6-4ac3-a6e5-d210ea971ab1",
   "metadata": {},
   "source": [
    "### Efficient."
   ]
  },
  {
   "cell_type": "code",
   "execution_count": 70,
   "id": "c24f8dcd-c7ef-4cbd-9d1e-9f0a0b5e4e8e",
   "metadata": {},
   "outputs": [
    {
     "name": "stdout",
     "output_type": "stream",
     "text": [
      "1389019170\n"
     ]
    }
   ],
   "source": [
    "n = 138902657\n",
    "last_digit = 7\n",
    "while True:\n",
    "    if check(n**2 * 100):\n",
    "        print(n*10)\n",
    "        break\n",
    "    if last_digit == 7:\n",
    "        n -= 4\n",
    "        last_digit = 3\n",
    "    else:\n",
    "        n -= 6\n",
    "        last_digit = 7"
   ]
  },
  {
   "cell_type": "code",
   "execution_count": null,
   "id": "f0696504-0f2b-4638-a5f0-ebda97a8ac32",
   "metadata": {},
   "outputs": [],
   "source": []
  },
  {
   "cell_type": "code",
   "execution_count": null,
   "id": "bd2b43e1-1a7a-4fc2-a447-47b9d557ae3f",
   "metadata": {},
   "outputs": [],
   "source": []
  },
  {
   "cell_type": "code",
   "execution_count": null,
   "id": "d049675e-3b89-43e9-bd4a-98d564a56b1b",
   "metadata": {},
   "outputs": [],
   "source": []
  },
  {
   "cell_type": "code",
   "execution_count": null,
   "id": "6ea522c2-7062-41d9-a045-c261d2a869da",
   "metadata": {},
   "outputs": [],
   "source": []
  },
  {
   "cell_type": "code",
   "execution_count": null,
   "id": "8d815c29-5b6c-43bf-8a9a-b4e264c6f97f",
   "metadata": {},
   "outputs": [],
   "source": []
  },
  {
   "cell_type": "code",
   "execution_count": null,
   "id": "8d0115c3-f9ce-4a55-a3cf-558c36c4035f",
   "metadata": {},
   "outputs": [],
   "source": []
  },
  {
   "cell_type": "code",
   "execution_count": null,
   "id": "b558d398-0468-43ce-8a17-ea049fd0a166",
   "metadata": {},
   "outputs": [],
   "source": []
  },
  {
   "cell_type": "code",
   "execution_count": null,
   "id": "7668d885-560d-49dd-bbc4-23f10d2efe45",
   "metadata": {},
   "outputs": [],
   "source": []
  },
  {
   "cell_type": "code",
   "execution_count": null,
   "id": "5a27fbbb-f32b-4447-b991-c5a39e10d770",
   "metadata": {},
   "outputs": [],
   "source": []
  },
  {
   "cell_type": "code",
   "execution_count": null,
   "id": "1f3969e8-8e71-4593-b92c-c615f7b26667",
   "metadata": {},
   "outputs": [],
   "source": []
  }
 ],
 "metadata": {
  "kernelspec": {
   "display_name": "Python 3 (ipykernel)",
   "language": "python",
   "name": "python3"
  },
  "language_info": {
   "codemirror_mode": {
    "name": "ipython",
    "version": 3
   },
   "file_extension": ".py",
   "mimetype": "text/x-python",
   "name": "python",
   "nbconvert_exporter": "python",
   "pygments_lexer": "ipython3",
   "version": "3.12.4"
  }
 },
 "nbformat": 4,
 "nbformat_minor": 5
}
