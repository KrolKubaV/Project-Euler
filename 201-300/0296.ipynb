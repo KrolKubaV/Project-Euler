{
 "cells": [
  {
   "cell_type": "markdown",
   "id": "88d3e79e",
   "metadata": {},
   "source": [
    "# Problem 296 - Angular Bisector and Tangent\n",
    "Given is an integer sided triangle $ABC$ with $BC \\le AC \\le AB$.<br>$k$ is the angular bisector of angle $ACB$.<br>$m$ is the tangent at $C$ to the circumscribed circle of $ABC$.<br>$n$ is a line parallel to $m$ through $B$.\n",
    "\n",
    "The intersection of $n$ and $k$ is called $E$.\n",
    "\n",
    "How many triangles $ABC$ with a perimeter not exceeding $100\\,000$ exist such that $BE$ has integral length?\n",
    "\n",
    "\n",
    "## Solution."
   ]
  },
  {
   "cell_type": "code",
   "execution_count": 13,
   "id": "6fbce1ba",
   "metadata": {},
   "outputs": [],
   "source": [
    "from tqdm import tqdm\n",
    "from math import gcd, ceil"
   ]
  },
  {
   "cell_type": "code",
   "execution_count": 22,
   "id": "86c669dc",
   "metadata": {},
   "outputs": [
    {
     "name": "stderr",
     "output_type": "stream",
     "text": [
      "100%|██████████| 33333/33333 [09:40<00:00, 57.45it/s]  "
     ]
    },
    {
     "name": "stdout",
     "output_type": "stream",
     "text": [
      "1137208419\n"
     ]
    },
    {
     "name": "stderr",
     "output_type": "stream",
     "text": [
      "\n"
     ]
    }
   ],
   "source": [
    "limit = 100_000\n",
    "count = 0\n",
    "\n",
    "for c in tqdm(range(1, limit // 3 + 1)):\n",
    "        for b in range(c, (limit - c) // 2 + 1):\n",
    "            d = gcd(b, c)\n",
    "            b_prime, c_prime = b // d, c // d\n",
    "            step = b_prime + c_prime\n",
    "\n",
    "            a_min = ceil(b / step) * step #at least b and multiple of step\n",
    "            a_max = min(b + c, limit - b - c + 1)\n",
    "            \n",
    "            for a in range(a_min, a_max, step):\n",
    "                count += 1\n",
    "\n",
    "print(count)\n"
   ]
  },
  {
   "cell_type": "code",
   "execution_count": null,
   "id": "6df274bb",
   "metadata": {},
   "outputs": [],
   "source": []
  },
  {
   "cell_type": "code",
   "execution_count": null,
   "metadata": {},
   "outputs": [],
   "source": []
  },
  {
   "cell_type": "code",
   "execution_count": null,
   "id": "506e2525",
   "metadata": {},
   "outputs": [],
   "source": []
  },
  {
   "cell_type": "markdown",
   "id": "1fa6b4e3",
   "metadata": {},
   "source": []
  }
 ],
 "metadata": {
  "kernelspec": {
   "display_name": "Python 3",
   "language": "python",
   "name": "python3"
  },
  "language_info": {
   "codemirror_mode": {
    "name": "ipython",
    "version": 3
   },
   "file_extension": ".py",
   "mimetype": "text/x-python",
   "name": "python",
   "nbconvert_exporter": "python",
   "pygments_lexer": "ipython3",
   "version": "3.13.0"
  }
 },
 "nbformat": 4,
 "nbformat_minor": 5
}
