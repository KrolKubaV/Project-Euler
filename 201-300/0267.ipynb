{
 "cells": [
  {
   "cell_type": "markdown",
   "id": "8b2fde12-7822-47cb-bda6-12a262f91fa0",
   "metadata": {},
   "source": [
    "# Billionaire - Problem 267\n",
    "<p>You are given a unique investment opportunity.</p>\n",
    "<p>Starting with £1 of capital, you can choose a fixed proportion, <var>f</var>, of your capital to bet on a fair coin toss repeatedly for 1000 tosses.</p>\n",
    "<p>Your return is double your bet for heads and you lose your bet for tails.</p>\n",
    "<p>For example, if <var>f</var> = 1/4,  for the first toss you bet £0.25, and if heads comes up you win £0.5 and so then have £1.5. You then bet £0.375 and if the second toss is tails, you have £1.125.</p>\n",
    "<p>Choosing <var>f</var> to maximize your chances of having at least £1,000,000,000 after 1,000 flips, what is the chance that you become a billionaire?</p>\n",
    "<p>All computations are assumed to be exact (no rounding), but give your answer rounded to 12 digits behind the decimal point in the form 0.abcdefghijkl.</p>"
   ]
  },
  {
   "cell_type": "markdown",
   "id": "039afc2c-3600-4620-b8ce-dff7e7ef4d30",
   "metadata": {},
   "source": [
    "## Solution.\n",
    "\n",
    "Let $X_n$ be the wealth after n throws. Then\n",
    "$$X_n = (1+2f)^K(1-f)^{n-K},$$\n",
    "where $K$ is $\\text{Binom}(n, 1/2)$. We thus need to maximise\n",
    "$$\\mathbb{P}(X_n \\geqslant M)=\\mathbb{P}\\left(K \\geqslant \\frac{\\log(M)-n\\log(1-f)}{\\log(1+2f)-\\log(1-f)}\\right)$$\n",
    "or alternatively minimise\n",
    "$$\\frac{\\log(M)-n\\log(1-f)}{\\log(1+2f)-\\log(1-f)}$$\n",
    "on $(0,1)$."
   ]
  },
  {
   "cell_type": "code",
   "execution_count": 31,
   "id": "50ef37e5-b2fb-4b60-8079-646010ab18b4",
   "metadata": {},
   "outputs": [],
   "source": [
    "import numpy as np\n",
    "from math import ceil, floor\n",
    "from scipy.optimize import minimize_scalar\n",
    "from scipy.stats import binom\n",
    "import mpmath\n",
    "from mpmath import mp\n",
    "mp.dps = 50 "
   ]
  },
  {
   "cell_type": "code",
   "execution_count": 22,
   "id": "449f0fc3-6578-4ada-b0dc-99b625c8720e",
   "metadata": {},
   "outputs": [],
   "source": [
    "def binom_cdf(k, n, p):\n",
    "    cdf_value = mp.mpf(0)\n",
    "    for i in range(0, k+1):\n",
    "        binom_coeff = mpmath.binomial(n, i)\n",
    "        term = binom_coeff * (p**i) * ((1-p)**(n-i))\n",
    "        cdf_value += term\n",
    "    return cdf_value"
   ]
  },
  {
   "cell_type": "code",
   "execution_count": 32,
   "id": "e13920a2-3beb-475b-bc91-8ab03e2e9243",
   "metadata": {},
   "outputs": [],
   "source": [
    "def sol267(n, M):\n",
    "    '''\n",
    "    Finds f that maximises the chances of having at least M after n flips \n",
    "    '''\n",
    "    def g(f):\n",
    "        num = np.log(M) - n * np.log(1 - f)\n",
    "        den = np.log(1 + 2 * f) - np.log(1 - f)\n",
    "        return num / den\n",
    "\n",
    "\n",
    "    result = minimize_scalar(g, bounds=(0, 1), method='bounded')\n",
    "    f_min = result.x\n",
    "    prob = 1 - binom_cdf(floor(g(f_min)), n, 1/2)\n",
    "    \n",
    "    return round(prob, 12)"
   ]
  },
  {
   "cell_type": "code",
   "execution_count": 33,
   "id": "ae4878f4-37de-4efb-8b4c-4128814c1fc4",
   "metadata": {},
   "outputs": [
    {
     "data": {
      "text/plain": [
       "0.999992836187"
      ]
     },
     "execution_count": 33,
     "metadata": {},
     "output_type": "execute_result"
    }
   ],
   "source": [
    "sol267(1000, 1_000_000_000)"
   ]
  },
  {
   "cell_type": "code",
   "execution_count": 17,
   "id": "cc61c1f3-b5e9-4304-bedd-d9dec438d070",
   "metadata": {},
   "outputs": [
    {
     "data": {
      "text/plain": [
       "np.float64(20.0)"
      ]
     },
     "execution_count": 17,
     "metadata": {},
     "output_type": "execute_result"
    }
   ],
   "source": [
    "0.999992836187"
   ]
  },
  {
   "cell_type": "code",
   "execution_count": null,
   "id": "4dd2be82-1317-43af-9f4f-e6460620cfd7",
   "metadata": {},
   "outputs": [],
   "source": []
  },
  {
   "cell_type": "code",
   "execution_count": null,
   "id": "07d6bf9f-30ff-4f56-8425-054eab5458c6",
   "metadata": {},
   "outputs": [],
   "source": []
  },
  {
   "cell_type": "code",
   "execution_count": null,
   "id": "32f16d72-71f1-442d-9ed2-7db8f34ddc85",
   "metadata": {},
   "outputs": [],
   "source": []
  },
  {
   "cell_type": "code",
   "execution_count": null,
   "id": "6b4dff68-9a8e-49fc-ba08-cd29de1dbf4e",
   "metadata": {},
   "outputs": [],
   "source": []
  },
  {
   "cell_type": "code",
   "execution_count": null,
   "id": "4df9d14b-8c9b-4a60-bd60-0efc3173987e",
   "metadata": {},
   "outputs": [],
   "source": []
  },
  {
   "cell_type": "code",
   "execution_count": null,
   "id": "2243f4ab-5e30-478e-9253-18f141291bd0",
   "metadata": {},
   "outputs": [],
   "source": []
  }
 ],
 "metadata": {
  "kernelspec": {
   "display_name": "Python 3 (ipykernel)",
   "language": "python",
   "name": "python3"
  },
  "language_info": {
   "codemirror_mode": {
    "name": "ipython",
    "version": 3
   },
   "file_extension": ".py",
   "mimetype": "text/x-python",
   "name": "python",
   "nbconvert_exporter": "python",
   "pygments_lexer": "ipython3",
   "version": "3.12.4"
  }
 },
 "nbformat": 4,
 "nbformat_minor": 5
}
