{
 "cells": [
  {
   "cell_type": "markdown",
   "id": "eb9747c9-f006-43b7-80f9-13368d3b0a2e",
   "metadata": {},
   "source": [
    "# Pythagorean Odds - Problem 285\n",
    "<p>Albert chooses a positive integer $k$, then two real numbers $a, b$ are randomly chosen in the interval $[0,1]$ with uniform distribution.<br>\n",
    "The square root of the sum $(k \\cdot a + 1)^2 + (k \\cdot b + 1)^2$ is then computed and rounded to the nearest integer. If the result is equal to $k$, he scores $k$ points; otherwise he scores nothing.</p>\n",
    "\n",
    "<p>For example, if $k = 6$, $a = 0.2$ and $b = 0.85$, then $(k \\cdot a + 1)^2 + (k \\cdot b + 1)^2 = 42.05$.<br>\n",
    "The square root of $42.05$ is $6.484\\cdots$ and when rounded to the nearest integer, it becomes $6$.<br>\n",
    "This is equal to $k$, so he scores $6$ points.</p>\n",
    "\n",
    "<p>It can be shown that if he plays $10$ turns with $k = 1, k = 2, \\dots, k = 10$, the expected value of his total score, rounded to five decimal places, is $10.20914$.</p>\n",
    "\n",
    "<p>If he plays $10^5$ turns with $k = 1, k = 2, k = 3, \\dots, k = 10^5$, what is the expected value of his total score, rounded to five decimal places?</p>"
   ]
  },
  {
   "cell_type": "markdown",
   "id": "4af7884e-bbe4-4f5a-9636-48cb21e45b9e",
   "metadata": {},
   "source": [
    "## Solution."
   ]
  },
  {
   "cell_type": "code",
   "execution_count": 49,
   "id": "2454fbc9-2083-40ca-9a60-0e68d76398d0",
   "metadata": {},
   "outputs": [],
   "source": [
    "from math import sqrt, pi, asin"
   ]
  },
  {
   "cell_type": "code",
   "execution_count": 61,
   "id": "5d1cbf95-fdb3-4d8c-82bc-bba0c28992fa",
   "metadata": {},
   "outputs": [],
   "source": [
    "def area(a, r):\n",
    "    return 1/4*pi*r**2 - a*(sqrt(r**2-a**2)-a) - r**2 * asin(a/r)"
   ]
  },
  {
   "cell_type": "code",
   "execution_count": 74,
   "id": "c981e1b3-61cc-44ce-af81-723fdf2ea270",
   "metadata": {},
   "outputs": [],
   "source": [
    "def p(k):\n",
    "    if k == 1:\n",
    "        return area(1/k, (k+1/2)/k)\n",
    "    return area(1/k, (k+1/2)/k) - area(1/k, (k-1/2)/k)"
   ]
  },
  {
   "cell_type": "code",
   "execution_count": 72,
   "id": "7fca96bc-44e0-4bfb-add4-3edc3b15fa2b",
   "metadata": {},
   "outputs": [],
   "source": [
    "def E(k):\n",
    "    return round(sum(p(t)*t for t in range(1, k+1)), 5)"
   ]
  },
  {
   "cell_type": "code",
   "execution_count": 75,
   "id": "8559f381-0981-48d6-b444-39957a6f0a67",
   "metadata": {},
   "outputs": [
    {
     "data": {
      "text/plain": [
       "10.20914"
      ]
     },
     "execution_count": 75,
     "metadata": {},
     "output_type": "execute_result"
    }
   ],
   "source": [
    "E(10)"
   ]
  },
  {
   "cell_type": "code",
   "execution_count": 76,
   "id": "fb4b4e08-d0dd-4b1b-b987-e45d839e6a63",
   "metadata": {},
   "outputs": [
    {
     "data": {
      "text/plain": [
       "157055.80999"
      ]
     },
     "execution_count": 76,
     "metadata": {},
     "output_type": "execute_result"
    }
   ],
   "source": [
    "E(10**5)"
   ]
  },
  {
   "cell_type": "code",
   "execution_count": null,
   "id": "7383c1c7-0e37-425d-8abe-1a71ee797224",
   "metadata": {},
   "outputs": [],
   "source": []
  },
  {
   "cell_type": "code",
   "execution_count": null,
   "id": "8eb9894e-b65b-4958-b810-55e5d5300b1d",
   "metadata": {},
   "outputs": [],
   "source": []
  },
  {
   "cell_type": "code",
   "execution_count": null,
   "id": "3e52fea5-3e95-4d99-85e5-11b87447258e",
   "metadata": {},
   "outputs": [],
   "source": []
  }
 ],
 "metadata": {
  "kernelspec": {
   "display_name": "Python 3 (ipykernel)",
   "language": "python",
   "name": "python3"
  },
  "language_info": {
   "codemirror_mode": {
    "name": "ipython",
    "version": 3
   },
   "file_extension": ".py",
   "mimetype": "text/x-python",
   "name": "python",
   "nbconvert_exporter": "python",
   "pygments_lexer": "ipython3",
   "version": "3.12.4"
  }
 },
 "nbformat": 4,
 "nbformat_minor": 5
}
