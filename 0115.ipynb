{
 "cells": [
  {
   "cell_type": "markdown",
   "id": "4b4fa9fa-1610-4dda-b06e-3a052d4b5eed",
   "metadata": {},
   "source": [
    "# Counting Block Combinations II - Problem 115\n",
    "<p class=\"note\">NOTE: This is a more difficult version of <a href=\"problem=114\">Problem 114</a>.</p>\n",
    "<p>A row measuring $n$ units in length has red blocks with a minimum length of $m$ units placed on it, such that any two red blocks (which are allowed to be different lengths) are separated by at least one black square.</p>\n",
    "<p>Let the fill-count function, $F(m, n)$, represent the number of ways that a row can be filled.</p>\n",
    "<p>For example, $F(3, 29) = 673135$ and $F(3, 30) = 1089155$.</p>\n",
    "<p>That is, for $m = 3$, it can be seen that $n = 30$ is the smallest value for which the fill-count function first exceeds one million.</p>\n",
    "<p>In the same way, for $m = 10$, it can be verified that $F(10, 56) = 880711$ and $F(10, 57) = 1148904$, so $n = 57$ is the least value for which the fill-count function first exceeds one million.</p>\n",
    "<p>For $m = 50$, find the least value of $n$ for which the fill-count function first exceeds one million.</p>"
   ]
  },
  {
   "cell_type": "markdown",
   "id": "686562ae-b9db-4100-aefb-1cedb7bdb837",
   "metadata": {},
   "source": [
    "## Solution."
   ]
  },
  {
   "cell_type": "code",
   "execution_count": 2,
   "id": "2c9fb504-c0d5-455e-8d58-a6203bca330e",
   "metadata": {},
   "outputs": [],
   "source": [
    "from functools import lru_cache"
   ]
  },
  {
   "cell_type": "code",
   "execution_count": 3,
   "id": "217f4bd2-6598-465a-b6e6-e18a7e834377",
   "metadata": {},
   "outputs": [],
   "source": [
    "@lru_cache(maxsize=None)\n",
    "def sol(n, min_len):\n",
    "    if n < min_len:\n",
    "        return 1\n",
    "    if n == min_len:\n",
    "        return 2\n",
    "\n",
    "    ans = 0\n",
    "    for end in range(min_len, n+1):\n",
    "        ans += sol(n-end-1, min_len) * (end - min_len + 1)\n",
    "    return ans + 1"
   ]
  },
  {
   "cell_type": "code",
   "execution_count": 4,
   "id": "2c808dff-742c-4621-bad6-a40908525107",
   "metadata": {},
   "outputs": [
    {
     "name": "stdout",
     "output_type": "stream",
     "text": [
      "168\n"
     ]
    }
   ],
   "source": [
    "n = 50\n",
    "ans = sol(n, 50)\n",
    "while ans < 1_000_000:\n",
    "    n += 1\n",
    "    ans = sol(n, 50)\n",
    "print(n)"
   ]
  },
  {
   "cell_type": "code",
   "execution_count": 6,
   "id": "e870a16e-d8d2-4b2c-99d7-5297855e5013",
   "metadata": {},
   "outputs": [
    {
     "data": {
      "text/plain": [
       "CacheInfo(hits=7088, misses=170, maxsize=None, currsize=170)"
      ]
     },
     "execution_count": 6,
     "metadata": {},
     "output_type": "execute_result"
    }
   ],
   "source": [
    "sol.cache_info()"
   ]
  },
  {
   "cell_type": "code",
   "execution_count": null,
   "id": "d8bed89a-2001-4491-b4fe-ee5d20dbf4bb",
   "metadata": {},
   "outputs": [],
   "source": []
  },
  {
   "cell_type": "code",
   "execution_count": null,
   "id": "ded2103c-f29f-42a9-9cdf-81ed46abe3fc",
   "metadata": {},
   "outputs": [],
   "source": []
  }
 ],
 "metadata": {
  "kernelspec": {
   "display_name": "Python 3 (ipykernel)",
   "language": "python",
   "name": "python3"
  },
  "language_info": {
   "codemirror_mode": {
    "name": "ipython",
    "version": 3
   },
   "file_extension": ".py",
   "mimetype": "text/x-python",
   "name": "python",
   "nbconvert_exporter": "python",
   "pygments_lexer": "ipython3",
   "version": "3.12.4"
  }
 },
 "nbformat": 4,
 "nbformat_minor": 5
}
