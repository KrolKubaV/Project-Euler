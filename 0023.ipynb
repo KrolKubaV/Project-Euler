{
 "cells": [
  {
   "cell_type": "markdown",
   "id": "505aec72-24f8-42c7-a481-249741a4b088",
   "metadata": {},
   "source": [
    "# Non-Abundant Sums - Problem 23\n",
    "\n",
    "<p>A perfect number is a number for which the sum of its proper divisors is exactly equal to the number. For example, the sum of the proper divisors of $28$ would be $1 + 2 + 4 + 7 + 14 = 28$, which means that $28$ is a perfect number.</p>\n",
    "<p>A number $n$ is called deficient if the sum of its proper divisors is less than $n$ and it is called abundant if this sum exceeds $n$.</p>\n",
    "\n",
    "<p>As $12$ is the smallest abundant number, $1 + 2 + 3 + 4 + 6 = 16$, the smallest number that can be written as the sum of two abundant numbers is $24$. By mathematical analysis, it can be shown that all integers greater than $28123$ can be written as the sum of two abundant numbers. However, this upper limit cannot be reduced any further by analysis even though it is known that the greatest number that cannot be expressed as the sum of two abundant numbers is less than this limit.</p>\n",
    "<p>Find the sum of all the positive integers which cannot be written as the sum of two abundant numbers.</p>\n"
   ]
  },
  {
   "cell_type": "markdown",
   "id": "b8deb65f-365b-4a29-b896-d1364201ba73",
   "metadata": {},
   "source": [
    "## Solution."
   ]
  },
  {
   "cell_type": "code",
   "execution_count": 21,
   "id": "df1f634b-17bd-4482-9981-5efc776c340b",
   "metadata": {},
   "outputs": [],
   "source": [
    "from tqdm import tqdm\n",
    "from functools import cache"
   ]
  },
  {
   "cell_type": "code",
   "execution_count": 1,
   "id": "ca368c75-2221-469e-867c-daba8b96b213",
   "metadata": {},
   "outputs": [],
   "source": [
    "N = 10**6\n",
    "primes = [1] * (N + 1)\n",
    "primes[1], primes[0] = 0, 0\n",
    "\n",
    "for i in range(4, N, 2): \n",
    "    primes[i] = 0\n",
    "\n",
    "p = 3\n",
    "while p**2 < N: \n",
    "    if primes[p] == 1: \n",
    "        for i in range(2*p, N, p): \n",
    "            primes[i] = 0\n",
    "    p += 2\n",
    "\n",
    "primes = [i for i, el in enumerate(primes) if el == 1]"
   ]
  },
  {
   "cell_type": "code",
   "execution_count": 4,
   "id": "e31eeed6-3aab-406e-b5bd-ed22f5fd0838",
   "metadata": {},
   "outputs": [],
   "source": [
    "@cache\n",
    "def div_sum(n):\n",
    "    if n == 1:\n",
    "        return 1\n",
    "        \n",
    "    for p in primes:           \n",
    "        a = 0\n",
    "        if n % p == 0: \n",
    "            while n % p == 0: \n",
    "                n = n // p \n",
    "                a += 1 \n",
    "            return (p**(a+1) - 1)//(p-1) * div_sum(n)"
   ]
  },
  {
   "cell_type": "code",
   "execution_count": 18,
   "id": "aa5a0b88-6728-4b7f-a198-3dfc7acaec88",
   "metadata": {},
   "outputs": [],
   "source": [
    "limit = 28123"
   ]
  },
  {
   "cell_type": "code",
   "execution_count": 7,
   "id": "ab175a28-5611-4c6f-8f52-eccd6ae15997",
   "metadata": {},
   "outputs": [],
   "source": [
    "# find abundant numbers up to the limit\n",
    "abundant = []\n",
    "for i in range(1, limit + 1, 1):\n",
    "    if div_sum(i) > 2 * i:\n",
    "        abundant.append(i)"
   ]
  },
  {
   "cell_type": "code",
   "execution_count": 28,
   "id": "42137267-2c6e-41ff-be06-2a55d3840d1a",
   "metadata": {},
   "outputs": [],
   "source": [
    "arr = [0]*(limit + 1)\n",
    "for i in range(len(abundant)-1):\n",
    "    for j in range(i, len(abundant), 1):\n",
    "        if abundant[i] + abundant[j] > limit:\n",
    "            break\n",
    "        arr[abundant[i] + abundant[j]] = 1"
   ]
  },
  {
   "cell_type": "code",
   "execution_count": 29,
   "id": "f30db7c8-7347-4142-864e-d9dddf9921f7",
   "metadata": {},
   "outputs": [
    {
     "name": "stderr",
     "output_type": "stream",
     "text": [
      "28124it [00:00, 2819932.72it/s]"
     ]
    },
    {
     "name": "stdout",
     "output_type": "stream",
     "text": [
      "4179871\n"
     ]
    },
    {
     "name": "stderr",
     "output_type": "stream",
     "text": [
      "\n"
     ]
    }
   ],
   "source": [
    "ans = 0\n",
    "for i, el in tqdm(enumerate(arr)):\n",
    "    if el == 0:\n",
    "        ans += i\n",
    "\n",
    "print(ans)"
   ]
  },
  {
   "cell_type": "code",
   "execution_count": 30,
   "id": "00d6cda0-a3c0-4042-9cc2-52de4b48834e",
   "metadata": {},
   "outputs": [
    {
     "data": {
      "text/plain": [
       "1"
      ]
     },
     "execution_count": 30,
     "metadata": {},
     "output_type": "execute_result"
    }
   ],
   "source": [
    "arr[24]"
   ]
  },
  {
   "cell_type": "code",
   "execution_count": null,
   "id": "a853e461-f927-4889-9826-9be4c8135963",
   "metadata": {},
   "outputs": [],
   "source": []
  }
 ],
 "metadata": {
  "kernelspec": {
   "display_name": "Python 3 (ipykernel)",
   "language": "python",
   "name": "python3"
  },
  "language_info": {
   "codemirror_mode": {
    "name": "ipython",
    "version": 3
   },
   "file_extension": ".py",
   "mimetype": "text/x-python",
   "name": "python",
   "nbconvert_exporter": "python",
   "pygments_lexer": "ipython3",
   "version": "3.12.4"
  }
 },
 "nbformat": 4,
 "nbformat_minor": 5
}
