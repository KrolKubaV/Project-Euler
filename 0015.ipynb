{
 "cells": [
  {
   "cell_type": "markdown",
   "id": "ee65b608-24af-4659-be35-4e85d785befb",
   "metadata": {},
   "source": [
    "# Lattice Paths - Problem 15\n",
    "<p>Starting in the top left corner of a $2 \\times 2$ grid, and only being able to move to the right and down, there are exactly $6$ routes to the bottom right corner.</p>\n",
    "<p>How many such routes are there through a $20 \\times 20$ grid?</p>"
   ]
  },
  {
   "cell_type": "markdown",
   "id": "cb6b3fb1-ec56-4728-942e-289a2117bab8",
   "metadata": {},
   "source": [
    "## Solution."
   ]
  },
  {
   "cell_type": "code",
   "execution_count": 1,
   "id": "7895c593-3146-4164-a3ec-55f09a476c16",
   "metadata": {},
   "outputs": [],
   "source": [
    "memo = {}"
   ]
  },
  {
   "cell_type": "code",
   "execution_count": 3,
   "id": "383e2f07-3c6e-48ff-8940-d54ab007b8ad",
   "metadata": {},
   "outputs": [],
   "source": [
    "def factorial(n):\n",
    "    if n == 0:\n",
    "        result = 1\n",
    "    else:\n",
    "        result = n * factorial(n-1)\n",
    "\n",
    "    if n not in memo:\n",
    "        memo[n] = result\n",
    "        \n",
    "    return result"
   ]
  },
  {
   "cell_type": "code",
   "execution_count": 7,
   "id": "70c6e351-916f-4e62-ac47-a4dd6bcbb8a4",
   "metadata": {},
   "outputs": [],
   "source": [
    "def n_choose_m(n, m):\n",
    "    return factorial(n)//(factorial(m) * factorial(n-m))"
   ]
  },
  {
   "cell_type": "code",
   "execution_count": 9,
   "id": "23579ce2-19a4-4e9a-99ea-ba7d876425fd",
   "metadata": {},
   "outputs": [],
   "source": [
    "def sol15(n):\n",
    "    return n_choose_m(2*n, n)"
   ]
  },
  {
   "cell_type": "code",
   "execution_count": 10,
   "id": "6330a9e8-5da9-42d6-8e9b-89d3746d2db9",
   "metadata": {},
   "outputs": [
    {
     "data": {
      "text/plain": [
       "137846528820"
      ]
     },
     "execution_count": 10,
     "metadata": {},
     "output_type": "execute_result"
    }
   ],
   "source": [
    "sol15(20)"
   ]
  },
  {
   "cell_type": "code",
   "execution_count": null,
   "id": "e882e410-4c4d-4864-82ff-8e7620b19056",
   "metadata": {},
   "outputs": [],
   "source": []
  },
  {
   "cell_type": "code",
   "execution_count": null,
   "id": "574593c6-bbb7-45da-a49d-cfa3e11c45cf",
   "metadata": {},
   "outputs": [],
   "source": []
  },
  {
   "cell_type": "code",
   "execution_count": null,
   "id": "ce0b4a97-e126-4b45-9086-b305eb688f6f",
   "metadata": {},
   "outputs": [],
   "source": []
  }
 ],
 "metadata": {
  "kernelspec": {
   "display_name": "Python 3 (ipykernel)",
   "language": "python",
   "name": "python3"
  },
  "language_info": {
   "codemirror_mode": {
    "name": "ipython",
    "version": 3
   },
   "file_extension": ".py",
   "mimetype": "text/x-python",
   "name": "python",
   "nbconvert_exporter": "python",
   "pygments_lexer": "ipython3",
   "version": "3.12.4"
  }
 },
 "nbformat": 4,
 "nbformat_minor": 5
}
