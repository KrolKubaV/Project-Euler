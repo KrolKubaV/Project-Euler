{
 "cells": [
  {
   "cell_type": "markdown",
   "id": "49f8dbc2-9479-44ea-84bd-99ea5348cfdf",
   "metadata": {},
   "source": [
    "# Consecutive Prime Sum - Problem 50\n",
    "<p>The prime $41$, can be written as the sum of six consecutive primes:</p>\n",
    "$$41 = 2 + 3 + 5 + 7 + 11 + 13.$$\n",
    "<p>This is the longest sum of consecutive primes that adds to a prime below one-hundred.</p>\n",
    "<p>The longest sum of consecutive primes below one-thousand that adds to a prime, contains $21$ terms, and is equal to $953$.</p>\n",
    "<p>Which prime, below one-million, can be written as the sum of the most consecutive primes?</p>"
   ]
  },
  {
   "cell_type": "markdown",
   "id": "6161f3dc-7dda-4fd1-94c4-4e2d5b3b5673",
   "metadata": {},
   "source": [
    "## Solution."
   ]
  },
  {
   "cell_type": "code",
   "execution_count": 39,
   "id": "1e122489-4548-4f8c-9ed1-8d86a9077cfd",
   "metadata": {},
   "outputs": [],
   "source": [
    "from tqdm import tqdm"
   ]
  },
  {
   "cell_type": "code",
   "execution_count": 4,
   "id": "df187e03-345f-4568-87cb-6e8db1c4b341",
   "metadata": {},
   "outputs": [],
   "source": [
    "def generate_primes(N):\n",
    "    primes = [1] * (N + 1)\n",
    "    primes[1], primes[0] = 0, 0\n",
    "    \n",
    "    for i in range(4, N, 2): \n",
    "        primes[i] = 0\n",
    "    \n",
    "    p = 3\n",
    "    while p**2 < N: \n",
    "        if primes[p] == 1: \n",
    "            for i in range(2*p, N, p): \n",
    "                primes[i] = 0\n",
    "        p += 2\n",
    "    \n",
    "    return [i for i, el in enumerate(primes) if el == 1]"
   ]
  },
  {
   "cell_type": "code",
   "execution_count": 9,
   "id": "9a7273f6-d54d-45bb-a04b-d16c56c3febe",
   "metadata": {},
   "outputs": [],
   "source": [
    "def is_prime(n):\n",
    "    if n <= 1:\n",
    "        return False\n",
    "    if n <= 3:\n",
    "        return True\n",
    "    if n % 2 == 0 or n % 3 == 0:\n",
    "        return False\n",
    "    i = 5\n",
    "    while i * i <= n:\n",
    "        if n % i == 0 or n % (i + 2) == 0:\n",
    "            return False\n",
    "        i += 6\n",
    "    return True"
   ]
  },
  {
   "cell_type": "code",
   "execution_count": 40,
   "id": "a9c9f44d-990e-40b5-81bf-70bc9e8d93ac",
   "metadata": {},
   "outputs": [],
   "source": [
    "def sol50(N):\n",
    "    primes = generate_primes(N)\n",
    "    \n",
    "    sums = []\n",
    "    s = 0\n",
    "    \n",
    "    for p in primes:\n",
    "        s += p\n",
    "        sums.append(s)\n",
    "\n",
    "\n",
    "    l = len(sums)\n",
    "\n",
    "    m = -1\n",
    "    ans = -1\n",
    "    for i in range(l-1):\n",
    "        for j in range(min(i+21, l), l, 1):\n",
    "            if sums[j] - sums[i] > N:\n",
    "                break\n",
    "            \n",
    "            if j - i > m:\n",
    "                if is_prime(sums[j] - sums[i]):\n",
    "                    m = j - i\n",
    "                    ans = sums[j] - sums[i]\n",
    "\n",
    "    return ans\n",
    "            "
   ]
  },
  {
   "cell_type": "code",
   "execution_count": 42,
   "id": "10d65734-528d-4c15-a173-8e6ceda5e6de",
   "metadata": {},
   "outputs": [
    {
     "data": {
      "text/plain": [
       "9951191"
      ]
     },
     "execution_count": 42,
     "metadata": {},
     "output_type": "execute_result"
    }
   ],
   "source": [
    "sol50(10000000)"
   ]
  },
  {
   "cell_type": "code",
   "execution_count": null,
   "id": "47d40877-7452-497a-a518-c28d99627af8",
   "metadata": {},
   "outputs": [],
   "source": []
  },
  {
   "cell_type": "code",
   "execution_count": null,
   "id": "c3790b1c-0ed5-4f57-ac1c-d6d6de504d62",
   "metadata": {},
   "outputs": [],
   "source": []
  },
  {
   "cell_type": "code",
   "execution_count": null,
   "id": "81808c5f-c653-4f9e-b169-6633e488aceb",
   "metadata": {},
   "outputs": [],
   "source": []
  },
  {
   "cell_type": "code",
   "execution_count": null,
   "id": "bf406721-c643-4f05-8156-d0b83c368a5b",
   "metadata": {},
   "outputs": [],
   "source": []
  },
  {
   "cell_type": "code",
   "execution_count": null,
   "id": "e8814957-26bd-4141-ba78-100e5621caf3",
   "metadata": {},
   "outputs": [],
   "source": []
  }
 ],
 "metadata": {
  "kernelspec": {
   "display_name": "Python 3 (ipykernel)",
   "language": "python",
   "name": "python3"
  },
  "language_info": {
   "codemirror_mode": {
    "name": "ipython",
    "version": 3
   },
   "file_extension": ".py",
   "mimetype": "text/x-python",
   "name": "python",
   "nbconvert_exporter": "python",
   "pygments_lexer": "ipython3",
   "version": "3.12.4"
  }
 },
 "nbformat": 4,
 "nbformat_minor": 5
}
