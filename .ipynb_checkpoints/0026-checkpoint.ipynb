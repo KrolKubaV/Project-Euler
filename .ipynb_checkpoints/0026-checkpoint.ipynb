{
 "cells": [
  {
   "cell_type": "markdown",
   "id": "accc74f9-2cdc-42ed-9534-eb06674d3611",
   "metadata": {},
   "source": [
    "# Reciprocal Cycles - Problem 26\n",
    "<p>A unit fraction contains $1$ in the numerator. The decimal representation of the unit fractions with denominators $2$ to $10$ are given:</p>\n",
    "\\begin{align}\n",
    "1/2 &= 0.5\\\\\n",
    "1/3 &=0.(3)\\\\\n",
    "1/4 &=0.25\\\\\n",
    "1/5 &= 0.2\\\\\n",
    "1/6 &= 0.1(6)\\\\\n",
    "1/7 &= 0.(142857)\\\\\n",
    "1/8 &= 0.125\\\\\n",
    "1/9 &= 0.(1)\\\\\n",
    "1/10 &= 0.1\n",
    "\\end{align}\n",
    "<p>Where $0.1(6)$ means $0.166666\\cdots$, and has a $1$-digit recurring cycle. It can be seen that $1/7$ has a $6$-digit recurring cycle.</p>\n",
    "<p>Find the value of $d \\lt 1000$ for which $1/d$ contains the longest recurring cycle in its decimal fraction part.</p>\n"
   ]
  },
  {
   "cell_type": "markdown",
   "id": "66cbcf1c-f2ee-4708-91fb-c64b1f2285f5",
   "metadata": {},
   "source": [
    "## Solution."
   ]
  },
  {
   "cell_type": "code",
   "execution_count": 3,
   "id": "6a0ac5ef-5a35-4d49-b747-2dacfd467f9b",
   "metadata": {},
   "outputs": [],
   "source": [
    "from functools import cache"
   ]
  },
  {
   "cell_type": "code",
   "execution_count": 28,
   "id": "58165c4c-5e4a-4553-8022-5769eeb9f2d6",
   "metadata": {},
   "outputs": [],
   "source": [
    "def v_p(n, p):\n",
    "    '''\n",
    "    Finds v_p(n)\n",
    "    '''\n",
    "    ans = 0\n",
    "    while n%p == 0:\n",
    "        ans += 1\n",
    "        n //= p\n",
    "\n",
    "    return ans"
   ]
  },
  {
   "cell_type": "code",
   "execution_count": 43,
   "id": "6c09100e-1fc3-4e87-8824-f4412a524547",
   "metadata": {},
   "outputs": [],
   "source": [
    "@cache\n",
    "def cycle_length(d):\n",
    "    v_2 = v_p(d, 2)\n",
    "    v_5 = v_p(d, 5)\n",
    "\n",
    "    if d//(2**v_2 * 5**v_5) == 1:\n",
    "        return 0\n",
    "\n",
    "    d //= (2**v_2 * 5**v_5)\n",
    "    n = 10\n",
    "    ans = ''\n",
    "\n",
    "    while True:\n",
    "        ans += (str(n//d))\n",
    "        n = (n%d)*10\n",
    "\n",
    "        if len(ans) > 1:\n",
    "            if ans[-1:] in ans[:-1]:\n",
    "                return len(ans[ans.index(ans[-1:]):]) - 1, (ans[ans.index(ans[-1:]):-1])       "
   ]
  },
  {
   "cell_type": "code",
   "execution_count": 1,
   "id": "77169c56-9d6a-4fc9-8279-c2795ce70b12",
   "metadata": {},
   "outputs": [
    {
     "data": {
      "text/plain": [
       "0.09090909090909091"
      ]
     },
     "execution_count": 1,
     "metadata": {},
     "output_type": "execute_result"
    }
   ],
   "source": [
    "1/11"
   ]
  },
  {
   "cell_type": "code",
   "execution_count": 45,
   "id": "5c4e48c3-ab19-41e1-81d2-d59cde81ea7d",
   "metadata": {},
   "outputs": [
    {
     "name": "stdout",
     "output_type": "stream",
     "text": [
      "1 0\n"
     ]
    },
    {
     "data": {
      "text/plain": [
       "0"
      ]
     },
     "execution_count": 45,
     "metadata": {},
     "output_type": "execute_result"
    }
   ],
   "source": [
    "cycle_length(2)"
   ]
  },
  {
   "cell_type": "code",
   "execution_count": 7,
   "id": "acd61ef6-0e41-43f8-bccc-fb68bdf30dec",
   "metadata": {},
   "outputs": [],
   "source": [
    "s = '0909090'"
   ]
  },
  {
   "cell_type": "code",
   "execution_count": 41,
   "id": "2e2330f6-b76a-468c-b517-44caea26f349",
   "metadata": {},
   "outputs": [
    {
     "data": {
      "text/plain": [
       "0.1111111111111111"
      ]
     },
     "execution_count": 41,
     "metadata": {},
     "output_type": "execute_result"
    }
   ],
   "source": [
    "1/9"
   ]
  },
  {
   "cell_type": "code",
   "execution_count": 10,
   "id": "d469f028-7f8d-4585-a46a-997f698fdff8",
   "metadata": {},
   "outputs": [
    {
     "data": {
      "text/plain": [
       "'0'"
      ]
     },
     "execution_count": 10,
     "metadata": {},
     "output_type": "execute_result"
    }
   ],
   "source": [
    "s[-1:]"
   ]
  },
  {
   "cell_type": "code",
   "execution_count": 21,
   "id": "fafd23e8-b7cc-4fb1-b1d9-969f9cf3f621",
   "metadata": {},
   "outputs": [
    {
     "data": {
      "text/plain": [
       "0"
      ]
     },
     "execution_count": 21,
     "metadata": {},
     "output_type": "execute_result"
    }
   ],
   "source": [
    "v_p(5, 2)"
   ]
  },
  {
   "cell_type": "code",
   "execution_count": null,
   "id": "b0f6282e-2949-46ab-9989-7af7e3869be2",
   "metadata": {},
   "outputs": [],
   "source": []
  }
 ],
 "metadata": {
  "kernelspec": {
   "display_name": "Python 3 (ipykernel)",
   "language": "python",
   "name": "python3"
  },
  "language_info": {
   "codemirror_mode": {
    "name": "ipython",
    "version": 3
   },
   "file_extension": ".py",
   "mimetype": "text/x-python",
   "name": "python",
   "nbconvert_exporter": "python",
   "pygments_lexer": "ipython3",
   "version": "3.12.4"
  }
 },
 "nbformat": 4,
 "nbformat_minor": 5
}
