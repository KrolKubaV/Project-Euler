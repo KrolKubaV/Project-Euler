{
 "cells": [
  {
   "cell_type": "markdown",
   "id": "3ee8742d-40fc-4518-8fab-e2106be7d736",
   "metadata": {},
   "source": [
    "# Prime Pair Sets - Problem 60\n",
    "<p>The primes $3$, $7$, $109$, and $673$, are quite remarkable. By taking any two primes and concatenating them in any order the result will always be prime. For example, taking $7$ and $109$, both $7109$ and $1097$ are prime. The sum of these four primes, $792$, represents the lowest sum for a set of four primes with this property.</p>\n",
    "<p>Find the lowest sum for a set of five primes for which any two primes concatenate to produce another prime.</p>"
   ]
  },
  {
   "cell_type": "markdown",
   "id": "517c6b2c-0a70-4b47-8143-683e7f3078b2",
   "metadata": {},
   "source": [
    "## Solution."
   ]
  },
  {
   "cell_type": "code",
   "execution_count": 24,
   "id": "e32e638f-72c0-4b54-8f8a-e082d3b96890",
   "metadata": {},
   "outputs": [],
   "source": [
    "import numpy as np\n",
    "from tqdm import tqdm\n",
    "from collections import defaultdict"
   ]
  },
  {
   "cell_type": "code",
   "execution_count": 23,
   "id": "f082c37d-821b-4e6b-815c-5eeffbe95d79",
   "metadata": {},
   "outputs": [],
   "source": [
    "def generate_primes(n):\n",
    "    sieve = np.ones(n+1, dtype=bool)\n",
    "    sieve[0:2] = False\n",
    "    for i in range(2, int(n**0.5) + 1):\n",
    "        if sieve[i]:\n",
    "            sieve[i*i:n+1:i] = False\n",
    "    return np.nonzero(sieve)[0]\n",
    "\n",
    "def is_prime(p):\n",
    "    if p <= 1:\n",
    "        return False\n",
    "    if p <= 3:\n",
    "        return True\n",
    "    if p % 2 == 0 or p % 3 == 0:\n",
    "        return False\n",
    "    i = 5\n",
    "    while i * i <= p:\n",
    "        if p % i == 0 or p % (i + 2) == 0:\n",
    "            return False\n",
    "        i += 6\n",
    "    return True"
   ]
  },
  {
   "cell_type": "code",
   "execution_count": null,
   "id": "ebef33af-145b-403d-85cc-311b70cab529",
   "metadata": {},
   "outputs": [],
   "source": [
    "graph = defaultdict(set)\n",
    "primes = generate_primes(10**3)\n",
    "\n",
    "for i in range(1, len(primes)-1):\n",
    "    for j in range(i+1, len(primes)):\n",
    "        p, q = primes[i], primes[j]\n",
    "        if is_prime(int(str(p)+str(q))) and is_prime(int(str(q)+str(p))):\n",
    "            graph[p].add(q)\n",
    "            graph[q].add(p)"
   ]
  },
  {
   "cell_type": "code",
   "execution_count": 29,
   "id": "850474e3-5f13-4d96-85b3-a589e0ce1be8",
   "metadata": {},
   "outputs": [],
   "source": [
    "def find_paths(graph, start_node, path_length):\n",
    "    def dfs(current_node, path):\n",
    "        if len(path) == path_length:\n",
    "            paths.append(path[:])\n",
    "            return\n",
    "        \n",
    "        for neighbor in graph[current_node]:\n",
    "            if neighbor not in path:\n",
    "                path.append(neighbor)\n",
    "                dfs(neighbor, path)\n",
    "                path.pop()\n",
    "\n",
    "    paths = []\n",
    "    dfs(start_node, [start_node])\n",
    "    return paths\n",
    "\n",
    "def find_all_paths_of_length(graph, path_length):\n",
    "    all_paths = []\n",
    "    for node in graph:\n",
    "        paths_from_node = find_paths(graph, node, path_length)\n",
    "        all_paths.extend(paths_from_node)\n",
    "    return all_paths"
   ]
  },
  {
   "cell_type": "code",
   "execution_count": null,
   "id": "c83ee2cf-05e2-4188-ac1e-5db41847e6d8",
   "metadata": {},
   "outputs": [
    {
     "name": "stderr",
     "output_type": "stream",
     "text": [
      "Exception ignored in: <function tqdm.__del__ at 0x0000016B674E1BC0>\n",
      "Traceback (most recent call last):\n",
      "  File \"C:\\Users\\Jakub\\AppData\\Local\\Programs\\Python\\Python312\\Lib\\site-packages\\tqdm\\std.py\", line 1148, in __del__\n",
      "    self.close()\n",
      "  File \"C:\\Users\\Jakub\\AppData\\Local\\Programs\\Python\\Python312\\Lib\\site-packages\\tqdm\\std.py\", line 1277, in close\n",
      "    if self.last_print_t < self.start_t + self.delay:\n",
      "       ^^^^^^^^^^^^^^^^^\n",
      "AttributeError: 'tqdm' object has no attribute 'last_print_t'\n"
     ]
    }
   ],
   "source": [
    "all_paths = find_all_paths_of_length(graph, 5)\n",
    "\n",
    "print(f\"Found {len(all_paths)} paths of length {path_length}:\")\n",
    "for path in all_paths:\n",
    "    print(path)"
   ]
  },
  {
   "cell_type": "code",
   "execution_count": null,
   "id": "15d75413-4364-4e4b-8712-7185e197eca4",
   "metadata": {},
   "outputs": [],
   "source": []
  },
  {
   "cell_type": "code",
   "execution_count": null,
   "id": "793685e1-6fb4-4d4a-ba79-aaedb8e77c9e",
   "metadata": {},
   "outputs": [],
   "source": []
  },
  {
   "cell_type": "code",
   "execution_count": null,
   "id": "e1e72899-f3b9-4f9a-be8c-024c1e30cd97",
   "metadata": {},
   "outputs": [],
   "source": []
  },
  {
   "cell_type": "code",
   "execution_count": null,
   "id": "9aa06350-1852-49b4-876d-606322005e3c",
   "metadata": {},
   "outputs": [],
   "source": []
  }
 ],
 "metadata": {
  "kernelspec": {
   "display_name": "Python 3 (ipykernel)",
   "language": "python",
   "name": "python3"
  },
  "language_info": {
   "codemirror_mode": {
    "name": "ipython",
    "version": 3
   },
   "file_extension": ".py",
   "mimetype": "text/x-python",
   "name": "python",
   "nbconvert_exporter": "python",
   "pygments_lexer": "ipython3",
   "version": "3.12.4"
  }
 },
 "nbformat": 4,
 "nbformat_minor": 5
}
