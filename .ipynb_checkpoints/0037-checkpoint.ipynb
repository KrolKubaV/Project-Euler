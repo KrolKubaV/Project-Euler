{
 "cells": [
  {
   "cell_type": "markdown",
   "id": "bede3fb4-edea-41ff-8e5c-8ad1e7877c97",
   "metadata": {},
   "source": [
    "# Truncatable Primes - Problem 37\n",
    "<p>The number $3797$ has an interesting property. Being prime itself, it is possible to continuously remove digits from left to right, and remain prime at each stage: $3797$, $797$, $97$, and $7$. Similarly we can work from right to left: $3797$, $379$, $37$, and $3$.</p>\n",
    "<p>Find the sum of the only eleven primes that are both truncatable from left to right and right to left.</p>\n",
    "<p class=\"smaller\">NOTE: $2$, $3$, $5$, and $7$ are not considered to be truncatable primes.</p>"
   ]
  },
  {
   "cell_type": "markdown",
   "id": "da354a68-6a9c-4f25-909b-06982ed94339",
   "metadata": {},
   "source": [
    "## Solution.\n",
    "Exhaustive search (if there is no left/right truncatable prime with $n$ digits, there are none with $n+1$ digits) can show that there is a bounded number of left-truncatable primes and a bounded number of right-truncatable primes, so the number of truncatable primes is also bounded. "
   ]
  },
  {
   "cell_type": "code",
   "execution_count": 6,
   "id": "0e45d01d-a4ee-4639-a305-afa85f82347b",
   "metadata": {},
   "outputs": [],
   "source": [
    "from functools import cache"
   ]
  },
  {
   "cell_type": "code",
   "execution_count": 65,
   "id": "16b5190f-3af5-4228-8d06-5049697a32fb",
   "metadata": {},
   "outputs": [],
   "source": [
    "def generate_primes(N):\n",
    "    primes = [1] * (N + 1)\n",
    "    primes[1], primes[0] = 0, 0\n",
    "    \n",
    "    for i in range(4, N, 2): \n",
    "        primes[i] = 0\n",
    "    \n",
    "    p = 3\n",
    "    while p**2 < N: \n",
    "        if primes[p] == 1: \n",
    "            for i in range(2*p, N, p): \n",
    "                primes[i] = 0\n",
    "        p += 2\n",
    "    \n",
    "    ans = []\n",
    "    for i, el in enumerate(primes):\n",
    "        if el == 1:\n",
    "            if '2' not in str(i)[1:] and '4' not in str(i)[1:] and '6' not in str(i)[1:] and '8' not in str(i)[1:] and '0' not in str(i)[1:]:\n",
    "                ans.append(i)\n",
    "    \n",
    "    return ans"
   ]
  },
  {
   "cell_type": "code",
   "execution_count": 69,
   "id": "43e48356-d60e-47fe-a0ab-e7a94865703e",
   "metadata": {},
   "outputs": [],
   "source": [
    "primes = generate_primes(10**6)"
   ]
  },
  {
   "cell_type": "code",
   "execution_count": 72,
   "id": "846ced1f-da15-4b7c-8a49-bd59763e60ec",
   "metadata": {},
   "outputs": [],
   "source": [
    "@cache\n",
    "def check_right(n):\n",
    "    if len(str(n)) == 1:\n",
    "        return n in primes\n",
    "    \n",
    "    if n not in primes:\n",
    "        return False\n",
    "\n",
    "    return check_right(n//10)\n",
    "\n",
    "@cache\n",
    "def check_left(n):\n",
    "    if len(str(n)) == 1:\n",
    "        return n in primes\n",
    "    \n",
    "    if n not in primes:\n",
    "        return False\n",
    "\n",
    "    return check_left(int(str(n)[1:]))\n",
    "\n",
    "@cache\n",
    "def check(n):\n",
    "    return check_left(n) and check_right(n)"
   ]
  },
  {
   "cell_type": "code",
   "execution_count": 73,
   "id": "93afc7d1-db0b-455f-8200-a03f41515df2",
   "metadata": {},
   "outputs": [
    {
     "name": "stdout",
     "output_type": "stream",
     "text": [
      "748317\n"
     ]
    },
    {
     "data": {
      "text/plain": [
       "[23, 37, 53, 73, 313, 317, 373, 797, 3137, 3797, 739397]"
      ]
     },
     "execution_count": 73,
     "metadata": {},
     "output_type": "execute_result"
    }
   ],
   "source": [
    "ans = []\n",
    "\n",
    "for p in primes:\n",
    "    if p > 10 and check(p):\n",
    "        ans.append(p)\n",
    "\n",
    "print(sum(ans))\n",
    "ans"
   ]
  },
  {
   "cell_type": "code",
   "execution_count": 64,
   "id": "068aee64-9564-4527-a0b3-3192e156c091",
   "metadata": {},
   "outputs": [
    {
     "ename": "SyntaxError",
     "evalue": "invalid syntax (2466303074.py, line 1)",
     "output_type": "error",
     "traceback": [
      "\u001b[1;36m  Cell \u001b[1;32mIn[64], line 1\u001b[1;36m\u001b[0m\n\u001b[1;33m    map(in, ['2','3'], '12')\u001b[0m\n\u001b[1;37m        ^\u001b[0m\n\u001b[1;31mSyntaxError\u001b[0m\u001b[1;31m:\u001b[0m invalid syntax\n"
     ]
    }
   ],
   "source": [
    "map(in, ['2','3'], '12')"
   ]
  },
  {
   "cell_type": "code",
   "execution_count": null,
   "id": "ff3b69b4-6ee5-4d8c-b71e-87388d33947c",
   "metadata": {},
   "outputs": [],
   "source": []
  },
  {
   "cell_type": "code",
   "execution_count": null,
   "id": "8fd3d8b2-9e60-4264-8194-66699041af69",
   "metadata": {},
   "outputs": [],
   "source": []
  },
  {
   "cell_type": "code",
   "execution_count": null,
   "id": "ed61a44e-4cfd-41b5-ac6a-5684a2a446d3",
   "metadata": {},
   "outputs": [],
   "source": []
  },
  {
   "cell_type": "code",
   "execution_count": null,
   "id": "494c5e6a-1782-43f4-86e1-4bc38f255eb4",
   "metadata": {},
   "outputs": [],
   "source": []
  },
  {
   "cell_type": "code",
   "execution_count": null,
   "id": "fcfd9318-8d51-43c6-89c8-0d0fcc779697",
   "metadata": {},
   "outputs": [],
   "source": []
  }
 ],
 "metadata": {
  "kernelspec": {
   "display_name": "Python 3 (ipykernel)",
   "language": "python",
   "name": "python3"
  },
  "language_info": {
   "codemirror_mode": {
    "name": "ipython",
    "version": 3
   },
   "file_extension": ".py",
   "mimetype": "text/x-python",
   "name": "python",
   "nbconvert_exporter": "python",
   "pygments_lexer": "ipython3",
   "version": "3.12.4"
  }
 },
 "nbformat": 4,
 "nbformat_minor": 5
}
