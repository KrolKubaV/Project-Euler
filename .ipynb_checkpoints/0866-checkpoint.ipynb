{
 "cells": [
  {
   "cell_type": "markdown",
   "id": "67624d81-82ff-4dfb-8791-0888118f558e",
   "metadata": {},
   "source": [
    "# Tidying Up B - Problem 866\n",
    "<p>\n",
    "A small child has a “number caterpillar” consisting of $N$ jigsaw pieces, each with one number on it, which, when connected together in a line, reveal the numbers $1$ to $N$ in order.</p>\n",
    "\n",
    "<p>\n",
    "Every night, the child's father has to pick up the pieces of the caterpillar that have been scattered across the play room. He picks up the pieces at random and places them in the correct order.<br>\n",
    "As the caterpillar is built up in this way, it forms distinct segments that gradually merge together.</p>\n",
    "\n",
    "<p>\n",
    "Any time the father places a new piece in its correct position, a segment of length $k$ is formed and he writes down the $k$<sup>th</sup> hexagonal number $k\\cdot(2k-1)$. Once all pieces have been placed and the full caterpillar constructed he calculates the product of all the numbers written down. Interestingly, the expected value of this product is always an integer. For example if $N=4$ then the expected value is $994$.</p>\n",
    "\n",
    "<p>\n",
    "Find the expected value of the product for a caterpillar of $N=100$ pieces.\n",
    "Give your answer modulo $987654319$.</p>"
   ]
  },
  {
   "cell_type": "markdown",
   "id": "cb5f8eed-1dc4-4801-960e-4f00c0224dcf",
   "metadata": {},
   "source": [
    "## Solution."
   ]
  },
  {
   "cell_type": "code",
   "execution_count": 123,
   "id": "c6f89d02-700a-46ec-b160-1ca09bab6409",
   "metadata": {},
   "outputs": [],
   "source": [
    "from functools import lru_cache"
   ]
  },
  {
   "cell_type": "code",
   "execution_count": 124,
   "id": "e719f7e9-39ca-49ce-a905-a45b7df4a00e",
   "metadata": {},
   "outputs": [],
   "source": [
    "@lru_cache(maxsize=None)\n",
    "def hexagonal(k):\n",
    "    return k*(2*k-1)"
   ]
  },
  {
   "cell_type": "code",
   "execution_count": 143,
   "id": "4c9bc246-1010-4eca-b694-5ee894891d4e",
   "metadata": {},
   "outputs": [],
   "source": [
    "@lru_cache(maxsize=None)\n",
    "def dp(n, mod = 987654319):\n",
    "    ''' Condition on the last move'''\n",
    "    if n == 0:\n",
    "        return 1\n",
    "    if n == 1:\n",
    "        return 1\n",
    "    ans = 0\n",
    "    for i in range(1, n+1):\n",
    "        ans += dp(i-1) * dp(n-i)\n",
    "    ans *= (2*n-1)\n",
    "    return ans "
   ]
  },
  {
   "cell_type": "code",
   "execution_count": 147,
   "id": "a68c0307-c060-4a98-8ee1-4041a4cf2584",
   "metadata": {},
   "outputs": [
    {
     "data": {
      "text/plain": [
       "492401720"
      ]
     },
     "execution_count": 147,
     "metadata": {},
     "output_type": "execute_result"
    }
   ],
   "source": [
    "dp(100)%987654319"
   ]
  },
  {
   "cell_type": "code",
   "execution_count": 142,
   "id": "c70c447e-2789-40e1-826c-65e12926d6f0",
   "metadata": {},
   "outputs": [
    {
     "data": {
      "text/plain": [
       "100"
      ]
     },
     "execution_count": 142,
     "metadata": {},
     "output_type": "execute_result"
    }
   ],
   "source": [
    "len(range(1, 101))"
   ]
  },
  {
   "cell_type": "code",
   "execution_count": 74,
   "id": "781726cf-2956-4e24-8a04-7f6dd9d4482b",
   "metadata": {},
   "outputs": [],
   "source": [
    "def perm_to_k(perm):\n",
    "    l = len(perm)\n",
    "    prod = 1\n",
    "    arr = [0] * l\n",
    "    for el in perm:\n",
    "        arr[el] = 1\n",
    "        s, e = el, el\n",
    "        while s-1 >= 0 and arr[s-1] == 1:\n",
    "            s -= 1\n",
    "        while e+1 < l and arr[e+1] == 1 :\n",
    "            e += 1\n",
    "\n",
    "        prod *= hexagonal(e-s+1)\n",
    "    return prod"
   ]
  },
  {
   "cell_type": "code",
   "execution_count": 89,
   "id": "3835d598-6ef2-4b28-8266-4ef8cacee11e",
   "metadata": {},
   "outputs": [
    {
     "name": "stdout",
     "output_type": "stream",
     "text": [
      "[[0, 1, 2], [0, 2, 1], [1, 0, 2], [1, 2, 0], [2, 0, 1], [2, 1, 0]]\n"
     ]
    }
   ],
   "source": [
    "from itertools import permutations\n",
    "from math import factorial\n",
    "from tqdm import tqdm\n",
    "\n",
    "def generate_permutations(n):\n",
    "    # Create a list of numbers from 0 to n-1\n",
    "    nums = list(range(n))\n",
    "    # Generate all permutations using itertools.permutations\n",
    "    perms = list(list(x) for x in permutations(nums))\n",
    "    return perms\n",
    "\n",
    "# Example usage\n",
    "n = 3\n",
    "print(generate_permutations(n))\n"
   ]
  },
  {
   "cell_type": "code",
   "execution_count": 97,
   "id": "39365f73-512d-458a-9367-82b5f49c5bc6",
   "metadata": {},
   "outputs": [
    {
     "name": "stderr",
     "output_type": "stream",
     "text": [
      "100%|████████████████████████████████████████████████████████████████████████████| 720/720 [00:00<00:00, 240571.89it/s]"
     ]
    },
    {
     "name": "stdout",
     "output_type": "stream",
     "text": [
      "456940\n"
     ]
    },
    {
     "name": "stderr",
     "output_type": "stream",
     "text": [
      "\n"
     ]
    }
   ],
   "source": [
    "n = 6\n",
    "ans = 0\n",
    "for perm in tqdm(generate_permutations(n)):\n",
    "    ans += perm_to_k(perm)\n",
    "print(ans//factorial(n))"
   ]
  },
  {
   "cell_type": "code",
   "execution_count": 98,
   "id": "f747aa16-a1d3-4732-be58-7722a834e4ec",
   "metadata": {},
   "outputs": [
    {
     "data": {
      "text/plain": [
       "True"
      ]
     },
     "execution_count": 98,
     "metadata": {},
     "output_type": "execute_result"
    }
   ],
   "source": [
    "dp(6) == ans//factorial(n)"
   ]
  },
  {
   "cell_type": "code",
   "execution_count": null,
   "id": "a97457a9-d705-437b-9a8c-d48e3b522ec0",
   "metadata": {},
   "outputs": [],
   "source": []
  },
  {
   "cell_type": "code",
   "execution_count": null,
   "id": "2ec5e130-aa41-4749-9066-2ecbc133f49d",
   "metadata": {},
   "outputs": [],
   "source": []
  }
 ],
 "metadata": {
  "kernelspec": {
   "display_name": "Python 3 (ipykernel)",
   "language": "python",
   "name": "python3"
  },
  "language_info": {
   "codemirror_mode": {
    "name": "ipython",
    "version": 3
   },
   "file_extension": ".py",
   "mimetype": "text/x-python",
   "name": "python",
   "nbconvert_exporter": "python",
   "pygments_lexer": "ipython3",
   "version": "3.12.4"
  }
 },
 "nbformat": 4,
 "nbformat_minor": 5
}
