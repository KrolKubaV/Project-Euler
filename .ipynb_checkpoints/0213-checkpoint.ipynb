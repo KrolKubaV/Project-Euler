{
 "cells": [
  {
   "cell_type": "markdown",
   "id": "4d559098-9525-4543-b88a-25d11ecc4c63",
   "metadata": {},
   "source": [
    "# Flea Circus - Problem 213\n",
    "<p>A $30 \\times 30$ grid of squares contains $900$ fleas, initially one flea per square.<br>\n",
    "When a bell is rung, each flea jumps to an adjacent square at random (usually $4$ possibilities, except for fleas on the edge of the grid or at the corners).</p>\n",
    "\n",
    "<p>What is the expected number of unoccupied squares after $50$ rings of the bell? Give your answer rounded to six decimal places.</p>"
   ]
  },
  {
   "cell_type": "markdown",
   "id": "3dc66e24-c769-4ef8-9f61-d2e837d7ad34",
   "metadata": {},
   "source": [
    "## Solution."
   ]
  },
  {
   "cell_type": "code",
   "execution_count": 43,
   "id": "f2ac9f32-56d8-4f4a-8c7f-f7486ecd1621",
   "metadata": {},
   "outputs": [],
   "source": [
    "from functools import lru_cache"
   ]
  },
  {
   "cell_type": "code",
   "execution_count": 111,
   "id": "e97ce86c-8a97-42e9-ac71-944325ecd6ca",
   "metadata": {},
   "outputs": [],
   "source": [
    "@cache\n",
    "def neighbourhood(i, j, n):\n",
    "    ''' Returns the neighbourhood of (i, j) cell'''\n",
    "    ans = []\n",
    "    if i+1 <= n:\n",
    "        ans.append([i+1, j])\n",
    "    if i-1 >= 1:\n",
    "        ans.append([i-1, j])\n",
    "    if j+1 <= n:\n",
    "        ans.append([i, j+1])\n",
    "    if j-1 >= 1:\n",
    "        ans.append([i, j-1])\n",
    "    return ans\n",
    "\n",
    "\n",
    "@cache\n",
    "def number_of_possibilities(i, j, n):\n",
    "    ''' Return number of possible jums from the (i,j)-th square'''\n",
    "    if (i, j) == (1, 1) or (i, j) == (1, n) or (i, j) == (n, 1) or (i, j) == (n, n):\n",
    "        return 2\n",
    "\n",
    "    if i == 1 or i == n or j == 1 or j == n:\n",
    "        return 3\n",
    "\n",
    "    return 4"
   ]
  },
  {
   "cell_type": "code",
   "execution_count": 75,
   "id": "fe66f9c2-74c5-4e23-afea-17d63a133628",
   "metadata": {},
   "outputs": [],
   "source": [
    "@cache\n",
    "def P(x, y, i, j, n, k):\n",
    "    ''' Probability that the flea that started from the (x, y) square is on (i,j)-th square after k rings of the bell on nxn board'''\n",
    "    if k == 0:\n",
    "        return (x,y) == (i,j)\n",
    "\n",
    "    if abs(i-x) + abs(j-y) > k:\n",
    "        return 0\n",
    "\n",
    "    V = neighbourhood(i, j, n)\n",
    "    ans = 0\n",
    "    for v in V:\n",
    "        vx, vy = v\n",
    "        ans += P(x, y, vx, vy, n, k-1) * 1/number_of_possibilities(vx, vy, n)\n",
    "    return ans   \n",
    "\n",
    "    \n",
    "\n",
    "@cache\n",
    "def p(i, j, n, k):\n",
    "    ''' Probability that the (i,j)-th square is unoccupied after k rings of the bell on nxn board'''\n",
    "    ans = 1\n",
    "    for x in range(1, n+1):\n",
    "        for y in range(1, n+1):\n",
    "            ans *= (1-P(x, y, i, j, n, k))\n",
    "    return ans"
   ]
  },
  {
   "cell_type": "code",
   "execution_count": 63,
   "id": "d13efe00-6368-40da-b695-89b299decf35",
   "metadata": {},
   "outputs": [],
   "source": [
    "def e(n, k):\n",
    "    ''' Solves the question for nxn board after k rings of the bell'''\n",
    "    ans = sum([p(i, j, n, k) for i in range(1, n+1) for j in range(1, n+1)])\n",
    "\n",
    "    return round(ans, 6)"
   ]
  },
  {
   "cell_type": "code",
   "execution_count": 78,
   "id": "8af6da24-7c9e-446f-a927-71ab4a8b9d52",
   "metadata": {},
   "outputs": [
    {
     "data": {
      "text/plain": [
       "330.721154"
      ]
     },
     "execution_count": 78,
     "metadata": {},
     "output_type": "execute_result"
    }
   ],
   "source": [
    "e(30, 50)"
   ]
  },
  {
   "cell_type": "markdown",
   "id": "8d2b71de-13b0-421e-ad93-8c1a0d9ec2a6",
   "metadata": {},
   "source": [
    "### Markov chains"
   ]
  },
  {
   "cell_type": "code",
   "execution_count": 149,
   "id": "7013878a-7dc3-49d2-a3ab-ad5f698ab53d",
   "metadata": {},
   "outputs": [],
   "source": [
    "import numpy as np"
   ]
  },
  {
   "cell_type": "code",
   "execution_count": 200,
   "id": "d629cc7b-c2a9-4bf2-985d-1613ce2aef94",
   "metadata": {},
   "outputs": [],
   "source": [
    "def sol213(n, k):\n",
    "    M = []\n",
    "    for _ in range(n**2):\n",
    "        M.append([0]*n**2)\n",
    "        \n",
    "    for i in range(1, n+1):\n",
    "        for j in range(1, n+1):\n",
    "            V = neighbourhood(i, j, n)\n",
    "            for v in V:\n",
    "                vx, vy = v\n",
    "                M[(i-1)*n+j-1][(vx-1)*n+vy-1] = (1/len(V))\n",
    "\n",
    "    T = np.array(M)\n",
    "    T_k = np.linalg.matrix_power(T, k)\n",
    "\n",
    "    p = np.ones(n**2)\n",
    "    for i in range(1, n+1):\n",
    "        for j in range(1, n+1):\n",
    "            x = np.zeros(n**2)\n",
    "            x[(i-1)*n + j-1] = 1\n",
    "            p *= (1 - x @ T_k)\n",
    "\n",
    "    return round(np.sum(p), 6)"
   ]
  },
  {
   "cell_type": "code",
   "execution_count": 201,
   "id": "1949160b-a428-4059-8dbf-ba318f59892e",
   "metadata": {},
   "outputs": [
    {
     "data": {
      "text/plain": [
       "np.float64(330.721154)"
      ]
     },
     "execution_count": 201,
     "metadata": {},
     "output_type": "execute_result"
    }
   ],
   "source": [
    "sol213(30, 50)"
   ]
  }
 ],
 "metadata": {
  "kernelspec": {
   "display_name": "Python 3 (ipykernel)",
   "language": "python",
   "name": "python3"
  },
  "language_info": {
   "codemirror_mode": {
    "name": "ipython",
    "version": 3
   },
   "file_extension": ".py",
   "mimetype": "text/x-python",
   "name": "python",
   "nbconvert_exporter": "python",
   "pygments_lexer": "ipython3",
   "version": "3.12.4"
  }
 },
 "nbformat": 4,
 "nbformat_minor": 5
}
