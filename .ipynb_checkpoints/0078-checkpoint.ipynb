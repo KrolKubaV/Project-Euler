{
 "cells": [
  {
   "cell_type": "markdown",
   "id": "dff1a4d3-1a8d-40ae-a21f-cdc06dd4477d",
   "metadata": {},
   "source": [
    "# Problem 78 - Coin Partitons\n",
    "<p>Let $p(n)$ represent the number of different ways in which $n$ coins can be separated into piles. For example, five coins can be separated into piles in exactly seven different ways, so $p(5)=7$.</p>\n",
    "<div class=\"margin_left\">\n",
    "OOOOO<br>\n",
    "OOOO   O<br>\n",
    "OOO   OO<br>\n",
    "OOO   O   O<br>\n",
    "OO   OO   O<br>\n",
    "OO   O   O   O<br>\n",
    "O   O   O   O   O\n",
    "</div>\n",
    "<p>Find the least value of $n$ for which $p(n)$ is divisible by one million.</p>\n"
   ]
  },
  {
   "cell_type": "markdown",
   "id": "1e5338d4-6941-48f3-a0a3-9843d4cbd53c",
   "metadata": {},
   "source": [
    "## Solution."
   ]
  },
  {
   "cell_type": "code",
   "execution_count": 27,
   "id": "d71f3150-2e02-40da-a852-a3ccfdbcad93",
   "metadata": {},
   "outputs": [],
   "source": [
    "from functools import cache, lru_cache"
   ]
  },
  {
   "cell_type": "code",
   "execution_count": 2,
   "id": "d7c59555-a0b2-4d41-91f3-1631bc76669e",
   "metadata": {},
   "outputs": [],
   "source": [
    "@cache\n",
    "def q(n, k):\n",
    "    # n - number of coins, k - size of the biggest pile\n",
    "    if n < k or n == 0:\n",
    "        return 0\n",
    "    \n",
    "    if n == 1 or k == 0 or k == 1 or n == k:\n",
    "        return 1\n",
    "    \n",
    "    ans = 0\n",
    "\n",
    "    for m in range(1, k+1):\n",
    "        ans += q(n-k, m)\n",
    "\n",
    "    return ans\n",
    "\n",
    "\n",
    "@cache\n",
    "def p(n):\n",
    "    return sum(q(n, k) for k in range(1, n+1))"
   ]
  },
  {
   "cell_type": "markdown",
   "id": "390b4bd1-046f-449f-9ad2-e6e68cffd4c9",
   "metadata": {},
   "source": [
    "https://en.wikipedia.org/wiki/Pentagonal_number_theorem"
   ]
  },
  {
   "cell_type": "code",
   "execution_count": 28,
   "id": "f20517cc-3014-4642-96a7-44637e416099",
   "metadata": {},
   "outputs": [],
   "source": [
    "@lru_cache\n",
    "def g(n):\n",
    "    return n * (3*n - 1) // 2\n",
    "\n",
    "\n",
    "@lru_cache\n",
    "def p_fast(n):  \n",
    "    if n == 0:\n",
    "        return 1\n",
    "\n",
    "    if n == 1:\n",
    "        return 1\n",
    "    \n",
    "    ans = 0\n",
    "    \n",
    "    k = 1\n",
    "    while g(k) <= n:\n",
    "        ans += (-1)**(k-1) * p_fast(n - g(k))\n",
    "        k += 1\n",
    "\n",
    "    k = -1\n",
    "    while g(k) <= n:\n",
    "        ans += (-1)**(k-1) * p_fast(n - g(k))\n",
    "        k -= 1       \n",
    "\n",
    "    return (ans)"
   ]
  },
  {
   "cell_type": "code",
   "execution_count": 29,
   "id": "a21a8e2f-4511-4e7b-8d45-ca688d283bef",
   "metadata": {},
   "outputs": [
    {
     "data": {
      "text/plain": [
       "1"
      ]
     },
     "execution_count": 29,
     "metadata": {},
     "output_type": "execute_result"
    }
   ],
   "source": [
    "p_fast(1)"
   ]
  },
  {
   "cell_type": "code",
   "execution_count": null,
   "id": "250af532-e215-4f8b-9cb5-b2f240ab3918",
   "metadata": {},
   "outputs": [],
   "source": [
    "n = 1\n",
    "\n",
    "while p_fast(n) % 1_000_000 != 0:\n",
    "    n += 1\n",
    "\n",
    "print(n)"
   ]
  },
  {
   "cell_type": "code",
   "execution_count": 26,
   "id": "97e09e18-d663-46a2-b074-2b4f208ae5c1",
   "metadata": {},
   "outputs": [
    {
     "ename": "RecursionError",
     "evalue": "maximum recursion depth exceeded while calling a Python object",
     "output_type": "error",
     "traceback": [
      "\u001b[1;31m---------------------------------------------------------------------------\u001b[0m",
      "\u001b[1;31mRecursionError\u001b[0m                            Traceback (most recent call last)",
      "Cell \u001b[1;32mIn[26], line 1\u001b[0m\n\u001b[1;32m----> 1\u001b[0m \u001b[43mp_fast\u001b[49m\u001b[43m(\u001b[49m\u001b[43mn\u001b[49m\u001b[43m)\u001b[49m\n",
      "Cell \u001b[1;32mIn[25], line 18\u001b[0m, in \u001b[0;36mp_fast\u001b[1;34m(n)\u001b[0m\n\u001b[0;32m     16\u001b[0m k \u001b[38;5;241m=\u001b[39m \u001b[38;5;241m1\u001b[39m\n\u001b[0;32m     17\u001b[0m \u001b[38;5;28;01mwhile\u001b[39;00m g(k) \u001b[38;5;241m<\u001b[39m\u001b[38;5;241m=\u001b[39m n:\n\u001b[1;32m---> 18\u001b[0m     ans \u001b[38;5;241m+\u001b[39m\u001b[38;5;241m=\u001b[39m (\u001b[38;5;241m-\u001b[39m\u001b[38;5;241m1\u001b[39m)\u001b[38;5;241m*\u001b[39m\u001b[38;5;241m*\u001b[39m(k\u001b[38;5;241m-\u001b[39m\u001b[38;5;241m1\u001b[39m) \u001b[38;5;241m*\u001b[39m \u001b[43mp_fast\u001b[49m\u001b[43m(\u001b[49m\u001b[43mn\u001b[49m\u001b[43m \u001b[49m\u001b[38;5;241;43m-\u001b[39;49m\u001b[43m \u001b[49m\u001b[43mg\u001b[49m\u001b[43m(\u001b[49m\u001b[43mk\u001b[49m\u001b[43m)\u001b[49m\u001b[43m)\u001b[49m\n\u001b[0;32m     19\u001b[0m     k \u001b[38;5;241m+\u001b[39m\u001b[38;5;241m=\u001b[39m \u001b[38;5;241m1\u001b[39m\n\u001b[0;32m     21\u001b[0m k \u001b[38;5;241m=\u001b[39m \u001b[38;5;241m-\u001b[39m\u001b[38;5;241m1\u001b[39m\n",
      "Cell \u001b[1;32mIn[25], line 18\u001b[0m, in \u001b[0;36mp_fast\u001b[1;34m(n)\u001b[0m\n\u001b[0;32m     16\u001b[0m k \u001b[38;5;241m=\u001b[39m \u001b[38;5;241m1\u001b[39m\n\u001b[0;32m     17\u001b[0m \u001b[38;5;28;01mwhile\u001b[39;00m g(k) \u001b[38;5;241m<\u001b[39m\u001b[38;5;241m=\u001b[39m n:\n\u001b[1;32m---> 18\u001b[0m     ans \u001b[38;5;241m+\u001b[39m\u001b[38;5;241m=\u001b[39m (\u001b[38;5;241m-\u001b[39m\u001b[38;5;241m1\u001b[39m)\u001b[38;5;241m*\u001b[39m\u001b[38;5;241m*\u001b[39m(k\u001b[38;5;241m-\u001b[39m\u001b[38;5;241m1\u001b[39m) \u001b[38;5;241m*\u001b[39m \u001b[43mp_fast\u001b[49m\u001b[43m(\u001b[49m\u001b[43mn\u001b[49m\u001b[43m \u001b[49m\u001b[38;5;241;43m-\u001b[39;49m\u001b[43m \u001b[49m\u001b[43mg\u001b[49m\u001b[43m(\u001b[49m\u001b[43mk\u001b[49m\u001b[43m)\u001b[49m\u001b[43m)\u001b[49m\n\u001b[0;32m     19\u001b[0m     k \u001b[38;5;241m+\u001b[39m\u001b[38;5;241m=\u001b[39m \u001b[38;5;241m1\u001b[39m\n\u001b[0;32m     21\u001b[0m k \u001b[38;5;241m=\u001b[39m \u001b[38;5;241m-\u001b[39m\u001b[38;5;241m1\u001b[39m\n",
      "    \u001b[1;31m[... skipping similar frames: p_fast at line 18 (991 times)]\u001b[0m\n",
      "Cell \u001b[1;32mIn[25], line 18\u001b[0m, in \u001b[0;36mp_fast\u001b[1;34m(n)\u001b[0m\n\u001b[0;32m     16\u001b[0m k \u001b[38;5;241m=\u001b[39m \u001b[38;5;241m1\u001b[39m\n\u001b[0;32m     17\u001b[0m \u001b[38;5;28;01mwhile\u001b[39;00m g(k) \u001b[38;5;241m<\u001b[39m\u001b[38;5;241m=\u001b[39m n:\n\u001b[1;32m---> 18\u001b[0m     ans \u001b[38;5;241m+\u001b[39m\u001b[38;5;241m=\u001b[39m (\u001b[38;5;241m-\u001b[39m\u001b[38;5;241m1\u001b[39m)\u001b[38;5;241m*\u001b[39m\u001b[38;5;241m*\u001b[39m(k\u001b[38;5;241m-\u001b[39m\u001b[38;5;241m1\u001b[39m) \u001b[38;5;241m*\u001b[39m \u001b[43mp_fast\u001b[49m\u001b[43m(\u001b[49m\u001b[43mn\u001b[49m\u001b[43m \u001b[49m\u001b[38;5;241;43m-\u001b[39;49m\u001b[43m \u001b[49m\u001b[43mg\u001b[49m\u001b[43m(\u001b[49m\u001b[43mk\u001b[49m\u001b[43m)\u001b[49m\u001b[43m)\u001b[49m\n\u001b[0;32m     19\u001b[0m     k \u001b[38;5;241m+\u001b[39m\u001b[38;5;241m=\u001b[39m \u001b[38;5;241m1\u001b[39m\n\u001b[0;32m     21\u001b[0m k \u001b[38;5;241m=\u001b[39m \u001b[38;5;241m-\u001b[39m\u001b[38;5;241m1\u001b[39m\n",
      "Cell \u001b[1;32mIn[25], line 17\u001b[0m, in \u001b[0;36mp_fast\u001b[1;34m(n)\u001b[0m\n\u001b[0;32m     14\u001b[0m ans \u001b[38;5;241m=\u001b[39m \u001b[38;5;241m0\u001b[39m\n\u001b[0;32m     16\u001b[0m k \u001b[38;5;241m=\u001b[39m \u001b[38;5;241m1\u001b[39m\n\u001b[1;32m---> 17\u001b[0m \u001b[38;5;28;01mwhile\u001b[39;00m \u001b[43mg\u001b[49m\u001b[43m(\u001b[49m\u001b[43mk\u001b[49m\u001b[43m)\u001b[49m \u001b[38;5;241m<\u001b[39m\u001b[38;5;241m=\u001b[39m n:\n\u001b[0;32m     18\u001b[0m     ans \u001b[38;5;241m+\u001b[39m\u001b[38;5;241m=\u001b[39m (\u001b[38;5;241m-\u001b[39m\u001b[38;5;241m1\u001b[39m)\u001b[38;5;241m*\u001b[39m\u001b[38;5;241m*\u001b[39m(k\u001b[38;5;241m-\u001b[39m\u001b[38;5;241m1\u001b[39m) \u001b[38;5;241m*\u001b[39m p_fast(n \u001b[38;5;241m-\u001b[39m g(k))\n\u001b[0;32m     19\u001b[0m     k \u001b[38;5;241m+\u001b[39m\u001b[38;5;241m=\u001b[39m \u001b[38;5;241m1\u001b[39m\n",
      "\u001b[1;31mRecursionError\u001b[0m: maximum recursion depth exceeded while calling a Python object"
     ]
    }
   ],
   "source": [
    "p_fast(n)"
   ]
  },
  {
   "cell_type": "code",
   "execution_count": null,
   "id": "114c55b5-935a-4d49-a0da-5237cbe87fcd",
   "metadata": {},
   "outputs": [],
   "source": []
  },
  {
   "cell_type": "code",
   "execution_count": null,
   "id": "5cdb8b14-3141-4685-bc0a-2179560ffbcd",
   "metadata": {},
   "outputs": [],
   "source": []
  },
  {
   "cell_type": "code",
   "execution_count": null,
   "id": "fdf0e321-e328-4d08-9b4d-8e0e15379995",
   "metadata": {},
   "outputs": [],
   "source": []
  },
  {
   "cell_type": "code",
   "execution_count": null,
   "id": "9d920acd-05a4-4e7a-b6c0-983f07310151",
   "metadata": {},
   "outputs": [],
   "source": []
  },
  {
   "cell_type": "code",
   "execution_count": null,
   "id": "0b3cbd34-700a-418b-990c-26a194a98549",
   "metadata": {},
   "outputs": [],
   "source": []
  },
  {
   "cell_type": "code",
   "execution_count": null,
   "id": "488bba69-7bc3-4482-8c81-ecc5655a909f",
   "metadata": {},
   "outputs": [],
   "source": []
  },
  {
   "cell_type": "code",
   "execution_count": null,
   "id": "f98ae67f-e5d8-42a4-9981-995ef9aea76b",
   "metadata": {},
   "outputs": [],
   "source": []
  },
  {
   "cell_type": "code",
   "execution_count": null,
   "id": "08919bac-3f1c-43c6-979f-68fcc409905f",
   "metadata": {},
   "outputs": [],
   "source": []
  }
 ],
 "metadata": {
  "kernelspec": {
   "display_name": "Python 3 (ipykernel)",
   "language": "python",
   "name": "python3"
  },
  "language_info": {
   "codemirror_mode": {
    "name": "ipython",
    "version": 3
   },
   "file_extension": ".py",
   "mimetype": "text/x-python",
   "name": "python",
   "nbconvert_exporter": "python",
   "pygments_lexer": "ipython3",
   "version": "3.13.0"
  }
 },
 "nbformat": 4,
 "nbformat_minor": 5
}
