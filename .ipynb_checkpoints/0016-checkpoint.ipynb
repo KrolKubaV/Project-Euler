{
 "cells": [
  {
   "cell_type": "markdown",
   "id": "e675339e-abfe-47cc-af55-89f0b89386d4",
   "metadata": {},
   "source": [
    "# Power Digit Sum - Problem 16\n",
    "<p>$2^{15} = 32768$ and the sum of its digits is $3 + 2 + 7 + 6 + 8 = 26$.</p>\n",
    "<p>What is the sum of the digits of the number $2^{1000}$?</p>"
   ]
  },
  {
   "cell_type": "markdown",
   "id": "1e1e2dcd-ff98-4d7b-a1fb-81fc9fa8c648",
   "metadata": {},
   "source": [
    "## Solution."
   ]
  },
  {
   "cell_type": "code",
   "execution_count": 2,
   "id": "d7ca78a1-2391-418c-86b7-e53680aa49d6",
   "metadata": {},
   "outputs": [
    {
     "data": {
      "text/plain": [
       "1366"
      ]
     },
     "execution_count": 2,
     "metadata": {},
     "output_type": "execute_result"
    }
   ],
   "source": [
    "sum([int(i) for i in str(2**1000)])"
   ]
  },
  {
   "cell_type": "code",
   "execution_count": null,
   "id": "275f510c-d490-40bc-b9db-980550f503ad",
   "metadata": {},
   "outputs": [],
   "source": []
  },
  {
   "cell_type": "code",
   "execution_count": null,
   "id": "e8e23ca9-2139-4af2-a77f-07f9a58a85a8",
   "metadata": {},
   "outputs": [],
   "source": []
  },
  {
   "cell_type": "code",
   "execution_count": null,
   "id": "5d2e0c38-b7fd-4814-9e18-d18ea7cd0eb4",
   "metadata": {},
   "outputs": [],
   "source": []
  },
  {
   "cell_type": "code",
   "execution_count": null,
   "id": "bdd38cd1-e086-49c6-a22d-36f888faf70a",
   "metadata": {},
   "outputs": [],
   "source": []
  }
 ],
 "metadata": {
  "kernelspec": {
   "display_name": "Python 3 (ipykernel)",
   "language": "python",
   "name": "python3"
  },
  "language_info": {
   "codemirror_mode": {
    "name": "ipython",
    "version": 3
   },
   "file_extension": ".py",
   "mimetype": "text/x-python",
   "name": "python",
   "nbconvert_exporter": "python",
   "pygments_lexer": "ipython3",
   "version": "3.12.4"
  }
 },
 "nbformat": 4,
 "nbformat_minor": 5
}
