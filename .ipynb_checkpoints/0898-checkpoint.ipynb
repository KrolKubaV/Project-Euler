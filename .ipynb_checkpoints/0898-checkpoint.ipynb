{
 "cells": [
  {
   "cell_type": "markdown",
   "id": "25a6e61d-e603-47ca-842b-3932a3c80523",
   "metadata": {},
   "source": [
    "# Claire Voyant - Problem 898\n",
    "<p>\n",
    "Claire Voyant is a teacher playing a game with a class of students.\n",
    "A fair coin is tossed on the table. All the students can see the outcome of the toss, but Claire cannot.\n",
    "Each student then tells Claire whether the outcome is head or tail. The students may lie, but Claire knows the probability that each individual student lies. Moreover, the students lie independently.\n",
    "After that, Claire attempts to guess the outcome using optimal strategy.\n",
    "</p>\n",
    "<p>\n",
    "For example, for a class of four students with lying probabilities $20\\%,40\\%,60\\%,80\\%$, Claire guesses correctly with probability 0.832.\n",
    "</p>\n",
    "<p>\n",
    "Find the probability that Claire guesses correctly for a class of 51 students each lying with a probability of $25\\%, 26\\%, \\dots, 75\\%$\n",
    " respectively.\n",
    "</p>\n",
    "<p>\n",
    "Give your answer rounded to 10 digits after the decimal point.\n",
    "</p>"
   ]
  },
  {
   "cell_type": "markdown",
   "id": "1b6be140-9e9d-4c4c-8c08-bdb8bdaf18e9",
   "metadata": {},
   "source": [
    "## Solution.\n",
    "1. "
   ]
  },
  {
   "cell_type": "code",
   "execution_count": 193,
   "id": "05e200a6-7eb9-4d89-973a-a1ef8db29970",
   "metadata": {},
   "outputs": [],
   "source": [
    "def P_seq_given_coin(seq, outcome, P):\n",
    "    '''\n",
    "    Finds P(seq|outcome)\n",
    "    '''\n",
    "    ans = 1\n",
    "    for i, s in enumerate(seq):\n",
    "        prob = P[i]\n",
    "        if s == outcome: # student i said truth\n",
    "            ans *= (1 - prob)\n",
    "        else:\n",
    "            ans *= prob\n",
    "    return ans"
   ]
  },
  {
   "cell_type": "code",
   "execution_count": 191,
   "id": "f115db44-d0ff-48bf-b952-4ca2cd7c782e",
   "metadata": {},
   "outputs": [],
   "source": [
    "def S(P, m1, m2):    \n",
    "    if len(P) == 0:\n",
    "        result = max(m1, m2)\n",
    "    elif len(P) == 1:\n",
    "        result = max(m1 * P_seq_given_coin('H', 'H', P), m2 * P_seq_given_coin('H', 'T', P)) \\\n",
    "                 + max(m1 * P_seq_given_coin('T', 'H', P), m2 * P_seq_given_coin('T', 'T', P))\n",
    "    else:\n",
    "        p = (P[0])\n",
    "        q = 1 - p\n",
    "        P = P[1:]\n",
    "        if m1 == m2:\n",
    "            result = 2 * p * q * S(P, m1, m2) + 2 * S(P, p**2 * m1, q**2 * m2)\n",
    "        else:\n",
    "            result = 2 * p * q * S(P, m1, m2) + S(P, p**2 * m1, q**2 * m2) + S(P, q**2 * m1, p**2 * m2)\n",
    "\n",
    "    return result"
   ]
  },
  {
   "cell_type": "code",
   "execution_count": 149,
   "id": "54aa6605-b427-497b-86a3-3284b69f9c53",
   "metadata": {},
   "outputs": [],
   "source": [
    "def merge_two(p1, p2):\n",
    "    P = [p1, p2]\n",
    "    return (max(P_seq_given_coin('HH', 'H', P), P_seq_given_coin('HH', 'T', P)) \\\n",
    "                 + max(P_seq_given_coin('TH', 'H', P), P_seq_given_coin('TH', 'T', P)) \\\n",
    "                    + max(P_seq_given_coin('HT', 'H', P), P_seq_given_coin('HT', 'T', P)) \\\n",
    "                        + max(P_seq_given_coin('TT', 'H', P), P_seq_given_coin('TT', 'T', P)))/2"
   ]
  },
  {
   "cell_type": "code",
   "execution_count": 150,
   "id": "8b49b4cf-2d9f-4b4c-80fe-c4aeb90cdc96",
   "metadata": {},
   "outputs": [],
   "source": [
    "def sol898(P):\n",
    "    ans = merge_two(P[0], P[1])\n",
    "    P = P[1:]\n",
    "    for i in range(len(P)):\n",
    "        ans = merge_two(ans, P[i])\n",
    "    return ans"
   ]
  },
  {
   "cell_type": "code",
   "execution_count": 190,
   "id": "4f7ae294-9960-485d-aa73-9e17cd9dc982",
   "metadata": {},
   "outputs": [
    {
     "data": {
      "text/plain": [
       "0.8320000000000002"
      ]
     },
     "execution_count": 190,
     "metadata": {},
     "output_type": "execute_result"
    }
   ],
   "source": [
    "P = [0.2, 0.4, 0.6, 0.8]\n",
    "S(P,1,1)/2"
   ]
  },
  {
   "cell_type": "code",
   "execution_count": 181,
   "id": "d3231b72-89e7-4e1e-b3fa-7eba4e6e4e46",
   "metadata": {},
   "outputs": [],
   "source": [
    "for j in range(23, 12, -1):\n",
    "    P = [i/100 for i in range(25+j, 76-j, 1)]\n",
    "    S(P,1,1)/2"
   ]
  },
  {
   "cell_type": "code",
   "execution_count": 182,
   "id": "de9d6567-f310-45f7-b631-510b866aeac2",
   "metadata": {},
   "outputs": [
    {
     "name": "stdout",
     "output_type": "stream",
     "text": [
      "1.0293960784313725\n",
      "1.0332557722784348\n",
      "1.0366318040361657\n",
      "1.0387891311479496\n",
      "1.040297919377509\n",
      "1.0411209259764433\n",
      "1.0412953472074211\n",
      "1.040899973318336\n",
      "1.0399946050174358\n",
      "1.0386393654472772\n",
      "1.0368949472214424\n",
      "1.0348215270992664\n"
     ]
    }
   ],
   "source": [
    "for i in range(1, len(ans)-1, 1):\n",
    "    print(ans[i]/ans[i-1])"
   ]
  },
  {
   "cell_type": "code",
   "execution_count": null,
   "id": "2ef6f03a-59bd-4605-8bca-546c7b559efd",
   "metadata": {},
   "outputs": [],
   "source": []
  },
  {
   "cell_type": "code",
   "execution_count": null,
   "id": "f5235c6e-9799-40e4-a758-5802fdee00d4",
   "metadata": {},
   "outputs": [],
   "source": []
  },
  {
   "cell_type": "markdown",
   "id": "9e9173c3-f5bb-46e5-998e-c3cb2e24ee79",
   "metadata": {},
   "source": [
    "## Exact."
   ]
  },
  {
   "cell_type": "code",
   "execution_count": 301,
   "id": "11bfc141-767f-434a-b949-54a76d68d7a8",
   "metadata": {},
   "outputs": [],
   "source": [
    "def generate_seq(n):\n",
    "    if n == 1:\n",
    "        return ['H', 'T']\n",
    "    return [x+'H' for x in generate_seq(n-1)] + [x+'T' for x in generate_seq(n-1)]"
   ]
  },
  {
   "cell_type": "code",
   "execution_count": 302,
   "id": "34655636-bf5b-4d4a-82d6-4aef969bb273",
   "metadata": {},
   "outputs": [],
   "source": [
    "def prob_win(P):\n",
    "    sequences = generate_seq(len(P))\n",
    "    ans = 0\n",
    "    for seq in sequences:\n",
    "        ans += max(P_seq_given_coin(seq, 'H', P), P_seq_given_coin(seq, 'T', P))\n",
    "    return ans/2"
   ]
  },
  {
   "cell_type": "code",
   "execution_count": 404,
   "id": "47a77748-3646-40dc-96da-7497fcd71682",
   "metadata": {},
   "outputs": [
    {
     "data": {
      "text/latex": [
       "$\\displaystyle 0.694117647058824$"
      ],
      "text/plain": [
       "0.694117647058824"
      ]
     },
     "execution_count": 404,
     "metadata": {},
     "output_type": "execute_result"
    }
   ],
   "source": [
    "(0.2**2 *prob_win([0.4 * 0.2, 0.4 * 0.2]) + 0.8**2 *prob_win([0.4 * 0.8, 0.4* 0.8])) / (1 - 2*0.2*0.8)"
   ]
  },
  {
   "cell_type": "code",
   "execution_count": 346,
   "id": "ae66ec09-7817-47cb-a8e5-bd248811636d",
   "metadata": {},
   "outputs": [
    {
     "name": "stdout",
     "output_type": "stream",
     "text": [
      "0.902000000000000\n"
     ]
    }
   ],
   "source": [
    "0.686400000000000\n"
   ]
  },
  {
   "cell_type": "code",
   "execution_count": 376,
   "id": "bad86e95-df8a-4bd2-a119-50311bb06a54",
   "metadata": {},
   "outputs": [
    {
     "data": {
      "text/plain": [
       "1.0000000000000002"
      ]
     },
     "execution_count": 376,
     "metadata": {},
     "output_type": "execute_result"
    }
   ],
   "source": [
    "def sol(P):\n",
    "    if len(P) <= 25:\n",
    "        return prob_win(P)\n",
    "\n",
    "    \n",
    "    \n",
    "    "
   ]
  },
  {
   "cell_type": "code",
   "execution_count": 368,
   "id": "1cc00034-01c3-405a-a1c8-3ed6b9e13d77",
   "metadata": {},
   "outputs": [
    {
     "name": "stderr",
     "output_type": "stream",
     "text": [
      "100%|█████████████████████████████████████████████████████████████████| 33554432/33554432 [00:05<00:00, 6115388.43it/s]\n"
     ]
    }
   ],
   "source": [
    "from tqdm import tqdm\n",
    "for i in tqdm(range(2**25)):\n",
    "    pass"
   ]
  },
  {
   "cell_type": "markdown",
   "id": "6f10a582-f1e7-46fa-9852-cd606e468554",
   "metadata": {},
   "source": [
    "## Observations.\n",
    "1. we can add a person with p=0.5\n",
    "2. P(seq|H)=P(-seq|T)\n",
    "3. Deleting a guy with prob of lying p is equivalent to deleting a guy with prob of lying 1-p"
   ]
  },
  {
   "cell_type": "code",
   "execution_count": 320,
   "id": "08e91a83-69f6-40f5-9a12-62abb652f2da",
   "metadata": {},
   "outputs": [
    {
     "data": {
      "text/latex": [
       "$\\displaystyle 0.959760000000001$"
      ],
      "text/plain": [
       "0.959760000000001"
      ]
     },
     "execution_count": 320,
     "metadata": {},
     "output_type": "execute_result"
    }
   ],
   "source": [
    "prob_win([0.1, 0.2, 0.4, 0.6, 0.8, 0.9])"
   ]
  },
  {
   "cell_type": "code",
   "execution_count": 382,
   "id": "d6ef133b-efd1-4003-8bd0-cb12dc0bea1e",
   "metadata": {
    "scrolled": true
   },
   "outputs": [
    {
     "data": {
      "text/latex": [
       "$\\displaystyle 0.8$"
      ],
      "text/plain": [
       "0.800000000000000"
      ]
     },
     "execution_count": 382,
     "metadata": {},
     "output_type": "execute_result"
    }
   ],
   "source": [
    "prob_win([0.8, 0.2])"
   ]
  },
  {
   "cell_type": "code",
   "execution_count": 318,
   "id": "163f9e7c-3857-4a62-a692-e8dcae10bf7d",
   "metadata": {},
   "outputs": [
    {
     "data": {
      "text/latex": [
       "$\\displaystyle 0.9$"
      ],
      "text/plain": [
       "0.900000000000000"
      ]
     },
     "execution_count": 318,
     "metadata": {},
     "output_type": "execute_result"
    }
   ],
   "source": [
    "prob_win([0.1])"
   ]
  },
  {
   "cell_type": "code",
   "execution_count": null,
   "id": "1b1dada2-245f-4c0e-ac4f-4210b5fc7664",
   "metadata": {},
   "outputs": [],
   "source": []
  },
  {
   "cell_type": "code",
   "execution_count": null,
   "id": "52bc25e7-6561-4d58-bcce-1141eabfade6",
   "metadata": {},
   "outputs": [],
   "source": []
  },
  {
   "cell_type": "code",
   "execution_count": 1,
   "id": "5a6d2098-81d3-49a3-9619-288bd86d35b3",
   "metadata": {},
   "outputs": [],
   "source": [
    "import sympy as sp\n",
    "\n"
   ]
  },
  {
   "cell_type": "code",
   "execution_count": 16,
   "id": "a335003e-07d6-4e96-90a8-0d968df0de48",
   "metadata": {},
   "outputs": [
    {
     "name": "stdout",
     "output_type": "stream",
     "text": [
      "0.968707200000000 0.968351960000000\n"
     ]
    }
   ],
   "source": [
    "P = [sp.Rational(0.1), sp.Rational(0.1), sp.Rational(0.2), sp.Rational(0.2), sp.Rational(0.3), sp.Rational(0.3), sp.Rational(0.4), sp.Rational(0.4)]\n",
    "result1 = prob_win(P)\n",
    "P = [sp.Rational(0.1), sp.Rational(0.1), sp.Rational(0.2), sp.Rational(0.2), sp.Rational(0.3), sp.Rational(0.3), sp.Rational(0.41)]\n",
    "result2 = prob_win(P)\n",
    "print(result1.evalf(), result2.evalf())"
   ]
  },
  {
   "cell_type": "code",
   "execution_count": 8,
   "id": "1b04bc75-0b36-48cb-b269-02eb3fe7e4e5",
   "metadata": {},
   "outputs": [],
   "source": [
    "P = [sp.Rational(0.1), sp.Rational(0.1), sp.Rational(0.3), sp.Rational(0.3)]\n",
    "result1 = prob_win(P)"
   ]
  },
  {
   "cell_type": "code",
   "execution_count": null,
   "id": "76089aeb-d0f5-4cc8-874e-4fafb631eb78",
   "metadata": {},
   "outputs": [],
   "source": []
  },
  {
   "cell_type": "code",
   "execution_count": 340,
   "id": "bbf8f458-fc2c-454b-8d0f-baa12c955779",
   "metadata": {},
   "outputs": [
    {
     "name": "stdout",
     "output_type": "stream",
     "text": [
      "0.939880000000000\n"
     ]
    }
   ],
   "source": [
    "P = [sp.Rational(0.1), sp.Rational(0.2), sp.Rational(0.3), sp.Rational(0.7), sp.Rational(0.8)]\n",
    "result1 = prob_win(P)\n"
   ]
  },
  {
   "cell_type": "code",
   "execution_count": 24,
   "id": "854b7b5b-c603-436d-aa0f-d26d3848f7f3",
   "metadata": {},
   "outputs": [
    {
     "name": "stderr",
     "output_type": "stream",
     "text": [
      "100%|███████████████████████████████████████████████████████████████████████████| 10000/10000 [00:55<00:00, 180.38it/s]"
     ]
    },
    {
     "name": "stdout",
     "output_type": "stream",
     "text": [
      "0.965740000000000 0.965739974400000 296181\n"
     ]
    },
    {
     "name": "stderr",
     "output_type": "stream",
     "text": [
      "\n"
     ]
    }
   ],
   "source": [
    "from tqdm import tqdm\n",
    "P = [sp.Rational(0.1), sp.Rational(0.1), sp.Rational(0.2), sp.Rational(0.2), sp.Rational(0.3), sp.Rational(0.3)]\n",
    "result1 = prob_win(P)\n",
    "P = [sp.Rational(0.1), sp.Rational(0.1), sp.Rational(0.2), sp.Rational(0.2), sp.Rational(x)]\n",
    "result2 = prob_win(P)\n"
   ]
  },
  {
   "cell_type": "code",
   "execution_count": 44,
   "id": "a4fa0848-cb32-4f0b-a66a-11898a533bb3",
   "metadata": {},
   "outputs": [
    {
     "data": {
      "text/latex": [
       "$\\displaystyle 0.965739967488$"
      ],
      "text/plain": [
       "0.965739967488000"
      ]
     },
     "execution_count": 44,
     "metadata": {},
     "output_type": "execute_result"
    }
   ],
   "source": [
    "P = [sp.Rational(0.1), sp.Rational(0.1), sp.Rational(0.2), sp.Rational(0.2), sp.Rational(0.29618112)]\n",
    "prob_win(P).evalf()"
   ]
  },
  {
   "cell_type": "code",
   "execution_count": 387,
   "id": "400ddd04-4d97-4483-9272-95948e7a6caa",
   "metadata": {},
   "outputs": [],
   "source": [
    "def dp(P):\n",
    "    p = P[0]\n",
    "    q = 1-p\n",
    "    if len(P) == 1:\n",
    "        P = [p, p]\n",
    "        return (max(P_seq_given_coin('HH', 'H', P), P_seq_given_coin('HH', 'T', P)) \\\n",
    "                 + max(P_seq_given_coin('TH', 'H', P), P_seq_given_coin('TH', 'T', P)) \\\n",
    "                    + max(P_seq_given_coin('HT', 'H', P), P_seq_given_coin('HT', 'T', P)) \\\n",
    "                        + max(P_seq_given_coin('TT', 'H', P), P_seq_given_coin('TT', 'T', P)))/2\n",
    "    return (p**2 + q**2) * dp(P[1:]) /(1-2*p*q)"
   ]
  },
  {
   "cell_type": "code",
   "execution_count": 394,
   "id": "62aca47b-66e7-42d6-9d01-2176310ff4fd",
   "metadata": {},
   "outputs": [
    {
     "data": {
      "text/latex": [
       "$\\displaystyle 0.6$"
      ],
      "text/plain": [
       "0.600000000000000"
      ]
     },
     "execution_count": 394,
     "metadata": {},
     "output_type": "execute_result"
    }
   ],
   "source": [
    "dp([0.2, 0.4])"
   ]
  },
  {
   "cell_type": "code",
   "execution_count": 395,
   "id": "764abe04-46c5-46e3-85e6-955363387df1",
   "metadata": {},
   "outputs": [
    {
     "data": {
      "text/plain": [
       "[2, 3]"
      ]
     },
     "execution_count": 395,
     "metadata": {},
     "output_type": "execute_result"
    }
   ],
   "source": [
    "a = [1,2,3]\n",
    "a[1:]"
   ]
  },
  {
   "cell_type": "code",
   "execution_count": 48,
   "id": "e2319f77-9deb-4c5e-94a4-2a0282b7879c",
   "metadata": {
    "scrolled": true
   },
   "outputs": [],
   "source": [
    "def generate_seq(n):\n",
    "    if n == 0:\n",
    "        return ['']\n",
    "    smaller_seqs = generate_seq(n - 1)\n",
    "    return [seq + 'H' for seq in smaller_seqs] + [seq + 'T' for seq in smaller_seqs]\n",
    "\n",
    "def prob_win(P):\n",
    "    sequences = generate_seq(len(P))\n",
    "    ans = 0\n",
    "    for seq in sequences:\n",
    "        ans += max(P_seq_given_coin(seq, 'H', P), P_seq_given_coin(seq, 'T', P))\n",
    "    return ans / 2\n",
    "\n",
    "def P_seq_given_coin(seq, outcome, P):\n",
    "    '''\n",
    "    Finds P(seq|outcome)\n",
    "    '''\n",
    "    ans = 1\n",
    "    for i, s in enumerate(seq):\n",
    "        prob = P[i]\n",
    "        if s == outcome: # student i said truth\n",
    "            ans *= (1 - prob)\n",
    "        else:\n",
    "            ans *= prob\n",
    "    return ans\n",
    "\n",
    "\n",
    "P1 = [0.1, 0.1, 0.2, 0.2]\n",
    "\n",
    "x = sp.Symbol('x')\n",
    "P2 = [0.1, 0.1, x]\n",
    "\n",
    "result1 = prob_win(P1)\n",
    "result2 = prob_win(P2)\n",
    "\n",
    "equation = sp.Eq(result1, result2)\n",
    "\n",
    "solution = sp.solve(equation, x)\n",
    "solution"
   ]
  },
  {
   "cell_type": "code",
   "execution_count": 49,
   "id": "2731fbc5-9132-4d96-9ac9-9d24dcca4d06",
   "metadata": {},
   "outputs": [
    {
     "ename": "TypeError",
     "evalue": "cannot determine truth value of Relational",
     "output_type": "error",
     "traceback": [
      "\u001b[1;31m---------------------------------------------------------------------------\u001b[0m",
      "\u001b[1;31mTypeError\u001b[0m                                 Traceback (most recent call last)",
      "Cell \u001b[1;32mIn[49], line 7\u001b[0m\n\u001b[0;32m      4\u001b[0m P2 \u001b[38;5;241m=\u001b[39m [\u001b[38;5;241m0.1\u001b[39m, \u001b[38;5;241m0.1\u001b[39m, x]\n\u001b[0;32m      6\u001b[0m result1 \u001b[38;5;241m=\u001b[39m prob_win(P1)\n\u001b[1;32m----> 7\u001b[0m result2 \u001b[38;5;241m=\u001b[39m \u001b[43mprob_win\u001b[49m\u001b[43m(\u001b[49m\u001b[43mP2\u001b[49m\u001b[43m)\u001b[49m\n\u001b[0;32m      9\u001b[0m equation \u001b[38;5;241m=\u001b[39m sp\u001b[38;5;241m.\u001b[39mEq(result1, result2)\n\u001b[0;32m     11\u001b[0m solution \u001b[38;5;241m=\u001b[39m sp\u001b[38;5;241m.\u001b[39msolve(equation, x)\n",
      "Cell \u001b[1;32mIn[48], line 11\u001b[0m, in \u001b[0;36mprob_win\u001b[1;34m(P)\u001b[0m\n\u001b[0;32m      9\u001b[0m ans \u001b[38;5;241m=\u001b[39m \u001b[38;5;241m0\u001b[39m\n\u001b[0;32m     10\u001b[0m \u001b[38;5;28;01mfor\u001b[39;00m seq \u001b[38;5;129;01min\u001b[39;00m sequences:\n\u001b[1;32m---> 11\u001b[0m     ans \u001b[38;5;241m+\u001b[39m\u001b[38;5;241m=\u001b[39m \u001b[38;5;28;43mmax\u001b[39;49m\u001b[43m(\u001b[49m\u001b[43mP_seq_given_coin\u001b[49m\u001b[43m(\u001b[49m\u001b[43mseq\u001b[49m\u001b[43m,\u001b[49m\u001b[43m \u001b[49m\u001b[38;5;124;43m'\u001b[39;49m\u001b[38;5;124;43mH\u001b[39;49m\u001b[38;5;124;43m'\u001b[39;49m\u001b[43m,\u001b[49m\u001b[43m \u001b[49m\u001b[43mP\u001b[49m\u001b[43m)\u001b[49m\u001b[43m,\u001b[49m\u001b[43m \u001b[49m\u001b[43mP_seq_given_coin\u001b[49m\u001b[43m(\u001b[49m\u001b[43mseq\u001b[49m\u001b[43m,\u001b[49m\u001b[43m \u001b[49m\u001b[38;5;124;43m'\u001b[39;49m\u001b[38;5;124;43mT\u001b[39;49m\u001b[38;5;124;43m'\u001b[39;49m\u001b[43m,\u001b[49m\u001b[43m \u001b[49m\u001b[43mP\u001b[49m\u001b[43m)\u001b[49m\u001b[43m)\u001b[49m\n\u001b[0;32m     12\u001b[0m \u001b[38;5;28;01mreturn\u001b[39;00m ans \u001b[38;5;241m/\u001b[39m \u001b[38;5;241m2\u001b[39m\n",
      "File \u001b[1;32m~\\AppData\\Local\\Programs\\Python\\Python312\\Lib\\site-packages\\sympy\\core\\relational.py:516\u001b[0m, in \u001b[0;36mRelational.__bool__\u001b[1;34m(self)\u001b[0m\n\u001b[0;32m    515\u001b[0m \u001b[38;5;28;01mdef\u001b[39;00m \u001b[38;5;21m__bool__\u001b[39m(\u001b[38;5;28mself\u001b[39m):\n\u001b[1;32m--> 516\u001b[0m     \u001b[38;5;28;01mraise\u001b[39;00m \u001b[38;5;167;01mTypeError\u001b[39;00m(\u001b[38;5;124m\"\u001b[39m\u001b[38;5;124mcannot determine truth value of Relational\u001b[39m\u001b[38;5;124m\"\u001b[39m)\n",
      "\u001b[1;31mTypeError\u001b[0m: cannot determine truth value of Relational"
     ]
    }
   ],
   "source": [
    "P1 = [0.1, 0.1, 0.2, 0.2]\n",
    "\n",
    "x = sp.Symbol('x')\n",
    "P2 = [0.1, 0.1, x]\n",
    "\n",
    "result1 = prob_win(P1)\n",
    "result2 = prob_win(P2)\n",
    "\n",
    "equation = sp.Eq(result1, result2)\n",
    "\n",
    "solution = sp.solve(equation, x)\n",
    "solution"
   ]
  },
  {
   "cell_type": "code",
   "execution_count": 65,
   "id": "67f24cd5-deaa-4fdc-a270-44520e57d653",
   "metadata": {},
   "outputs": [
    {
     "data": {
      "text/plain": [
       "array([0.29618056])"
      ]
     },
     "execution_count": 65,
     "metadata": {},
     "output_type": "execute_result"
    }
   ],
   "source": [
    "import numpy as np\n",
    "from scipy.optimize import fsolve\n",
    "\n",
    "# Function to generate sequences of 'H' and 'T'\n",
    "def generate_seq(n):\n",
    "    if n == 0:\n",
    "        return ['']\n",
    "    smaller_seqs = generate_seq(n - 1)\n",
    "    return [seq + 'H' for seq in smaller_seqs] + [seq + 'T' for seq in smaller_seqs]\n",
    "\n",
    "# Function to compute probability of winning\n",
    "def prob_win(P):\n",
    "    sequences = generate_seq(len(P))\n",
    "    ans = 0\n",
    "    for seq in sequences:\n",
    "        prob_H = P_seq_given_coin(seq, 'H', P)\n",
    "        prob_T = P_seq_given_coin(seq, 'T', P)\n",
    "        ans += max(prob_H, prob_T)\n",
    "    return ans / 2\n",
    "\n",
    "# Function to compute P(seq|outcome)\n",
    "def P_seq_given_coin(seq, outcome, P):\n",
    "    ans = 1\n",
    "    for i, s in enumerate(seq):\n",
    "        prob = P[i]\n",
    "        if s == outcome:  # student i said truth\n",
    "            ans *= (1 - prob)\n",
    "        else:\n",
    "            ans *= prob\n",
    "    return ans\n",
    "\n",
    "# Define the probability lists\n",
    "P1 = [0.1, 0.1, 0.2, 0.2, 0.3, 0.3]\n",
    "\n",
    "# Calculate result1\n",
    "result1 = prob_win(P1)\n",
    "\n",
    "# Function to find the root\n",
    "def equation_to_solve(x):\n",
    "    P2 = [0.1, 0.1, 0.2, 0.2, x]\n",
    "    result2 = prob_win(P2)\n",
    "    return result1 - result2\n",
    "\n",
    "# Use fsolve to solve for x\n",
    "x_initial_guess = 0.3  # initial guess\n",
    "solution = fsolve(equation_to_solve, x_initial_guess)\n",
    "solution\n"
   ]
  },
  {
   "cell_type": "code",
   "execution_count": null,
   "id": "fc67837d-e4bf-4ab8-b325-71f64815291a",
   "metadata": {},
   "outputs": [],
   "source": []
  },
  {
   "cell_type": "code",
   "execution_count": null,
   "id": "c23cebad-3aad-4b63-98a6-fc618aa1d30c",
   "metadata": {},
   "outputs": [],
   "source": []
  },
  {
   "cell_type": "code",
   "execution_count": null,
   "id": "093f6e86-3cbc-4071-bf0b-6ce3c3bb7d48",
   "metadata": {},
   "outputs": [],
   "source": []
  },
  {
   "cell_type": "code",
   "execution_count": null,
   "id": "ef737802-7865-4257-b3ea-af9c8d59e45e",
   "metadata": {},
   "outputs": [],
   "source": []
  },
  {
   "cell_type": "code",
   "execution_count": null,
   "id": "ad5553f9-88f0-4e33-b408-f97ff45ef519",
   "metadata": {},
   "outputs": [],
   "source": []
  }
 ],
 "metadata": {
  "kernelspec": {
   "display_name": "Python 3 (ipykernel)",
   "language": "python",
   "name": "python3"
  },
  "language_info": {
   "codemirror_mode": {
    "name": "ipython",
    "version": 3
   },
   "file_extension": ".py",
   "mimetype": "text/x-python",
   "name": "python",
   "nbconvert_exporter": "python",
   "pygments_lexer": "ipython3",
   "version": "3.12.4"
  }
 },
 "nbformat": 4,
 "nbformat_minor": 5
}
