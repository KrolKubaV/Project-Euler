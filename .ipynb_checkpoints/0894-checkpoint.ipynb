{
 "cells": [
  {
   "cell_type": "markdown",
   "id": "ed7ff802-f5cb-4d14-adae-00590afa5882",
   "metadata": {},
   "source": [
    "# Spiral of Circles - Problem 894\n",
    "<p>Consider a unit circle $C_0$ on the plane that does not enclose the origin. For $k\\ge 1$, a circle $C_k$ is created by scaling and rotating $C_{k - 1}$ <b>with respect to the origin</b>. That is, both the radius and the distance to the origin are scaled by the same factor, and the centre of rotation is the origin. The scaling factor is positive and strictly less than one. Both it and the rotation angle remain constant for each $k$.</p>\n",
    "\n",
    "<p>It is given that $C_0$ is externally tangent to $C_1$, $C_7$ and $C_8$, as shown in the diagram below, and no two circles overlap.</p>\n",
    "\n",
    "\n",
    "<p>Find the total area of all the <strong class=\"tooltip\">circular triangles</strong> in the diagram, i.e. the area painted green above.<br>\n",
    "Give your answer rounded to $10$ places after the decimal point.</p>"
   ]
  },
  {
   "cell_type": "markdown",
   "id": "fcc318da-e33f-4942-b807-fe5d990de754",
   "metadata": {},
   "source": [
    "## Solution.\n",
    "https://www.josleys.com/articles/HexCirclePackings.pdf"
   ]
  },
  {
   "cell_type": "code",
   "execution_count": 23,
   "id": "48363f8e-dc5a-4934-97f7-f0855ee299d2",
   "metadata": {},
   "outputs": [],
   "source": [
    "from scipy.optimize import fsolve\n",
    "from math import acos, cos, pi, sqrt"
   ]
  },
  {
   "cell_type": "code",
   "execution_count": 44,
   "id": "61cc48d8-74c7-4726-b59a-6a60a13dec5b",
   "metadata": {},
   "outputs": [],
   "source": [
    "def triangle_area(a, b, c):\n",
    "    p = (a+b+c)/2\n",
    "    A = sqrt(p * (p-a) * (p-b) * (p-c))\n",
    "    return A"
   ]
  },
  {
   "cell_type": "code",
   "execution_count": 53,
   "id": "a034a0cc-32df-4416-b989-0afed5105301",
   "metadata": {},
   "outputs": [],
   "source": [
    "def angle(a, b, c):\n",
    "    return acos((a**2 + b**2 - c**2) / (2 * a * b))"
   ]
  },
  {
   "cell_type": "code",
   "execution_count": 64,
   "id": "98a98e09-a666-4946-afbb-2b7d12efe033",
   "metadata": {},
   "outputs": [
    {
     "data": {
      "text/plain": [
       "np.float64(0.5379576015)"
      ]
     },
     "execution_count": 64,
     "metadata": {},
     "output_type": "execute_result"
    }
   ],
   "source": [
    "cosine_term = cos(2*pi/8)\n",
    "\n",
    "def equation(r):\n",
    "    return 1 + r**2 - 2 * r * cosine_term - (1 + r)**2 * r**16\n",
    "\n",
    "initial_guess = [0.94]\n",
    "\n",
    "r = fsolve(equation, initial_guess)\n",
    "r = r[0]\n",
    "\n",
    "a = 1+r\n",
    "b = r + r**8\n",
    "c = r**8 + r**7\n",
    "d = r**7 + 1\n",
    "e = 1 + r**8\n",
    "\n",
    "C = triangle_area(a,b,e) + triangle_area(c,d,e) \\\n",
    "    - 1/2 * (angle(d,e,c) + angle(e,a,b)) \\\n",
    "    - 1/2 * r**2 * (angle(a,b,e)) \\\n",
    "    - 1/2 * r**16 * (angle(b,e,a) + angle(e,c,d)) \\\n",
    "    - 1/2 * r**14 * (angle(c,d,e))\n",
    "\n",
    "round(C/(1-r**2),10)"
   ]
  }
 ],
 "metadata": {
  "kernelspec": {
   "display_name": "Python 3 (ipykernel)",
   "language": "python",
   "name": "python3"
  },
  "language_info": {
   "codemirror_mode": {
    "name": "ipython",
    "version": 3
   },
   "file_extension": ".py",
   "mimetype": "text/x-python",
   "name": "python",
   "nbconvert_exporter": "python",
   "pygments_lexer": "ipython3",
   "version": "3.12.4"
  }
 },
 "nbformat": 4,
 "nbformat_minor": 5
}
