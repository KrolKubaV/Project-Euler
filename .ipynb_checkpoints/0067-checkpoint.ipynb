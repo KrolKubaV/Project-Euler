{
 "cells": [
  {
   "cell_type": "markdown",
   "id": "390022b3-9b68-4662-a222-acac123932f4",
   "metadata": {},
   "source": [
    "# Maximum Path Sum II - Problem 67\n",
    "\n",
    "<p>By starting at the top of the triangle below and moving to adjacent numbers on the row below, the maximum total from top to bottom is 23.</p>\n",
    "<p class=\"monospace center\"><span class=\"red\"><b>3</b></span><br><span class=\"red\"><b>7</b></span> 4<br>\n",
    "2 <span class=\"red\"><b>4</b></span> 6<br>\n",
    "8 5 <span class=\"red\"><b>9</b></span> 3</p>\n",
    "<p>That is, 3 + 7 + 4 + 9 = 23.</p>\n",
    "<p>Find the maximum total from top to bottom in <a href=\"resources/documents/0067_triangle.txt\">triangle.txt</a> (right click and 'Save Link/Target As...'), a 15K text file containing a triangle with one-hundred rows.</p>\n",
    "<p class=\"smaller\"><b>NOTE:</b> This is a much more difficult version of <a href=\"problem=18\">Problem 18</a>. It is not possible to try every route to solve this problem, as there are 2<sup>99</sup> altogether! If you could check one trillion (10<sup>12</sup>) routes every second it would take over twenty billion years to check them all. There is an efficient algorithm to solve it. ;o)</p>"
   ]
  },
  {
   "cell_type": "markdown",
   "id": "cf058ba5-7342-4335-a6a6-c5d654e2b141",
   "metadata": {},
   "source": [
    "## Solution."
   ]
  },
  {
   "cell_type": "code",
   "execution_count": 3,
   "id": "fdff1586-d61e-4d3c-a833-f0cdc7c3be83",
   "metadata": {},
   "outputs": [],
   "source": [
    "with open('data_67.txt', 'r') as file:\n",
    "    s = file.read()\n",
    "\n",
    "data = [[int(x) for x in y.split(' ')] for y in s.split('\\n') if y != '']"
   ]
  },
  {
   "cell_type": "code",
   "execution_count": 2,
   "id": "da517bf4-f25c-4142-9bbd-7a620e70ce5c",
   "metadata": {},
   "outputs": [],
   "source": [
    "def dp(triangle):\n",
    "    if len(triangle) == 1:\n",
    "        return [triangle[0][0]]\n",
    "        \n",
    "    prev_row = dp(triangle[:-1])\n",
    "    cur_row = triangle[-1]\n",
    "    l = len(cur_row)\n",
    "    \n",
    "    ans = [0]*l\n",
    "    ans[0] = prev_row[0] + cur_row[0]\n",
    "    ans[-1] = prev_row[-1] + cur_row[-1]\n",
    "    \n",
    "    for i in range(1, l-1, 1):\n",
    "        ans[i] = max(prev_row[i-1], prev_row[i]) + cur_row[i]\n",
    "\n",
    "    return ans"
   ]
  },
  {
   "cell_type": "code",
   "execution_count": 1,
   "id": "88c6416d-fb28-463d-97b2-d30f778ee4fb",
   "metadata": {},
   "outputs": [],
   "source": [
    "def sol67(triangle):\n",
    "    return max(dp(triangle))"
   ]
  },
  {
   "cell_type": "code",
   "execution_count": 4,
   "id": "8aafed06-a4e2-402b-8c1d-095995568c16",
   "metadata": {},
   "outputs": [
    {
     "data": {
      "text/plain": [
       "7273"
      ]
     },
     "execution_count": 4,
     "metadata": {},
     "output_type": "execute_result"
    }
   ],
   "source": [
    "sol67(data)"
   ]
  }
 ],
 "metadata": {
  "kernelspec": {
   "display_name": "Python 3 (ipykernel)",
   "language": "python",
   "name": "python3"
  },
  "language_info": {
   "codemirror_mode": {
    "name": "ipython",
    "version": 3
   },
   "file_extension": ".py",
   "mimetype": "text/x-python",
   "name": "python",
   "nbconvert_exporter": "python",
   "pygments_lexer": "ipython3",
   "version": "3.12.4"
  }
 },
 "nbformat": 4,
 "nbformat_minor": 5
}
