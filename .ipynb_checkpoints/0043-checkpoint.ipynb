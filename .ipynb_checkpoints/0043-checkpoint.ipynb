{
 "cells": [
  {
   "cell_type": "markdown",
   "id": "1bb70156-2f1d-4023-8160-d100dfe19668",
   "metadata": {},
   "source": [
    "# Sub-string Divisibility - Problem 43\n",
    "<p>The number, $1406357289$, is a $0$ to $9$ pandigital number because it is made up of each of the digits $0$ to $9$ in some order, but it also has a rather interesting sub-string divisibility property.</p>\n",
    "<p>Let $d_1$ be the $1$<sup>st</sup> digit, $d_2$ be the $2$<sup>nd</sup> digit, and so on. In this way, we note the following:</p>\n",
    "<ul><li>$d_2d_3d_4=406$ is divisible by $2$</li>\n",
    "<li>$d_3d_4d_5=063$ is divisible by $3$</li>\n",
    "<li>$d_4d_5d_6=635$ is divisible by $5$</li>\n",
    "<li>$d_5d_6d_7=357$ is divisible by $7$</li>\n",
    "<li>$d_6d_7d_8=572$ is divisible by $11$</li>\n",
    "<li>$d_7d_8d_9=728$ is divisible by $13$</li>\n",
    "<li>$d_8d_9d_{10}=289$ is divisible by $17$</li>\n",
    "</ul><p>Find the sum of all $0$ to $9$ pandigital numbers with this property.</p>\n"
   ]
  },
  {
   "cell_type": "markdown",
   "id": "d241446e-808b-4401-a84d-862cda3e223e",
   "metadata": {},
   "source": [
    "## Solution.\n",
    "$d_6$ must be $5$ because of divisibility by 11"
   ]
  },
  {
   "cell_type": "code",
   "execution_count": 1,
   "id": "b795133a-5acb-4fe5-bf8e-7c0c6d75acb6",
   "metadata": {},
   "outputs": [],
   "source": [
    "def generate_permutations(arr):\n",
    "    if len(arr) == 1:\n",
    "        return arr\n",
    "    \n",
    "    ans = []\n",
    "    for i, el in enumerate(arr):\n",
    "        a = [arr[i] + x for x in generate_permutations(arr[:i] + arr[(i+1):])]\n",
    "        ans += a\n",
    "    return ans"
   ]
  },
  {
   "cell_type": "code",
   "execution_count": 5,
   "id": "a081c064-3214-4f19-b789-af5dbfc9ac66",
   "metadata": {},
   "outputs": [],
   "source": [
    "perm = []\n",
    "for k in range(46, 55):\n",
    "    a = str(11*k)\n",
    "    if len(set(a)) == 3:\n",
    "        l = []\n",
    "        for i in range(10):\n",
    "            if str(i) not in set(a):\n",
    "                l.append(str(i))\n",
    "                \n",
    "        perm += [x[:5] + a + x[5:] for x in generate_permutations(l)]"
   ]
  },
  {
   "cell_type": "code",
   "execution_count": 21,
   "id": "dc5ca0bc-c1df-4321-af55-0518b4c73912",
   "metadata": {},
   "outputs": [],
   "source": [
    "def check(n):\n",
    "    if n[0] == '0':\n",
    "        return False\n",
    "    \n",
    "    if int(n[3]) % 2 != 0:\n",
    "        return False\n",
    "\n",
    "    if int(n[2:5]) % 3 != 0:\n",
    "        return False\n",
    "\n",
    "    if int(n[4:7]) % 7 != 0:\n",
    "        return False\n",
    "\n",
    "    if int(n[5:8]) % 11 != 0:\n",
    "        return False\n",
    "\n",
    "    if int(n[6:9]) % 13 != 0:\n",
    "        return False\n",
    "\n",
    "    if int(n[7:10]) % 17 != 0:\n",
    "        return False\n",
    "\n",
    "    return True\n",
    "    "
   ]
  },
  {
   "cell_type": "code",
   "execution_count": 23,
   "id": "75b4bd24-55e5-47c6-8761-eaec7d116896",
   "metadata": {},
   "outputs": [
    {
     "name": "stdout",
     "output_type": "stream",
     "text": [
      "16695334890\n"
     ]
    }
   ],
   "source": [
    "ans = 0\n",
    "for n in perm:\n",
    "    if check(n):\n",
    "        ans += int(n)\n",
    "\n",
    "print(ans)"
   ]
  },
  {
   "cell_type": "code",
   "execution_count": 22,
   "id": "3a7b5b8d-95ba-40a6-bcba-bf7a144597f4",
   "metadata": {},
   "outputs": [
    {
     "data": {
      "text/plain": [
       "True"
      ]
     },
     "execution_count": 22,
     "metadata": {},
     "output_type": "execute_result"
    }
   ],
   "source": [
    "check('1406357289')"
   ]
  },
  {
   "cell_type": "code",
   "execution_count": 18,
   "id": "c7d64523-517b-4ad3-b1d0-e2882f5f7176",
   "metadata": {},
   "outputs": [],
   "source": [
    "n = '1406357289'"
   ]
  },
  {
   "cell_type": "code",
   "execution_count": 20,
   "id": "be4898ef-033e-4bf8-97c1-44391c35cc58",
   "metadata": {},
   "outputs": [
    {
     "data": {
      "text/plain": [
       "3572"
      ]
     },
     "execution_count": 20,
     "metadata": {},
     "output_type": "execute_result"
    }
   ],
   "source": [
    "int(n[4:8])"
   ]
  },
  {
   "cell_type": "code",
   "execution_count": null,
   "id": "69b75def-6ff8-4f60-9dc5-f3dbb9e478c6",
   "metadata": {},
   "outputs": [],
   "source": []
  }
 ],
 "metadata": {
  "kernelspec": {
   "display_name": "Python 3 (ipykernel)",
   "language": "python",
   "name": "python3"
  },
  "language_info": {
   "codemirror_mode": {
    "name": "ipython",
    "version": 3
   },
   "file_extension": ".py",
   "mimetype": "text/x-python",
   "name": "python",
   "nbconvert_exporter": "python",
   "pygments_lexer": "ipython3",
   "version": "3.12.4"
  }
 },
 "nbformat": 4,
 "nbformat_minor": 5
}
