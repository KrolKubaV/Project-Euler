{
 "cells": [
  {
   "cell_type": "markdown",
   "id": "b9c99640-4288-46a3-b1da-ead4fc6c6f84",
   "metadata": {},
   "source": [
    "# Problem 62 - Cubic Permutations\n",
    "<p>The cube, $41063625$ ($345^3$), can be permuted to produce two other cubes: $56623104$ ($384^3$) and $66430125$ ($405^3$). In fact, $41063625$ is the smallest cube which has exactly three permutations of its digits which are also cube.</p>\n",
    "<p>Find the smallest cube for which exactly five permutations of its digits are cube.</p>"
   ]
  },
  {
   "cell_type": "markdown",
   "id": "7533d4eb-fb75-44ef-8b0b-8b55f5d590e2",
   "metadata": {},
   "source": [
    "## Solution."
   ]
  },
  {
   "cell_type": "code",
   "execution_count": 5,
   "id": "fd2d254c-175c-4634-b708-614c7797c947",
   "metadata": {},
   "outputs": [],
   "source": [
    "from collections import defaultdict"
   ]
  },
  {
   "cell_type": "code",
   "execution_count": 12,
   "id": "689aea0d-9a58-4a38-95f2-a6e7ba9471b3",
   "metadata": {},
   "outputs": [],
   "source": [
    "def arr_to_str(arr):\n",
    "    s = ''\n",
    "    for a in arr:\n",
    "        s += a\n",
    "    return s"
   ]
  },
  {
   "cell_type": "code",
   "execution_count": 15,
   "id": "eee86563-07f7-418f-81aa-74c8ce754444",
   "metadata": {},
   "outputs": [
    {
     "name": "stdout",
     "output_type": "stream",
     "text": [
      "127035954683\n"
     ]
    }
   ],
   "source": [
    "memo = defaultdict(list)\n",
    "i = 1\n",
    "\n",
    "while True:\n",
    "    n = i**3\n",
    "    s =  arr_to_str(sorted(str(n)))\n",
    "    memo[s].append(n)\n",
    "    if len(memo[s]) == 5:\n",
    "        print(min(memo[s]))\n",
    "        break\n",
    "\n",
    "    i+= 1"
   ]
  },
  {
   "cell_type": "code",
   "execution_count": 13,
   "id": "029ac883-1c62-4b59-80bf-26d2ba5b9efb",
   "metadata": {},
   "outputs": [
    {
     "data": {
      "text/plain": [
       "'123'"
      ]
     },
     "execution_count": 13,
     "metadata": {},
     "output_type": "execute_result"
    }
   ],
   "source": [
    "arr_to_str(['1','2','3'])"
   ]
  },
  {
   "cell_type": "code",
   "execution_count": null,
   "id": "4d267c5a-fb24-457c-bf65-cdb045e60282",
   "metadata": {},
   "outputs": [],
   "source": []
  },
  {
   "cell_type": "code",
   "execution_count": null,
   "id": "4bd5faf7-1973-4698-affd-80a15be55a65",
   "metadata": {},
   "outputs": [],
   "source": []
  },
  {
   "cell_type": "code",
   "execution_count": null,
   "id": "0969e03b-069f-4cea-93ce-41114cc57967",
   "metadata": {},
   "outputs": [],
   "source": []
  }
 ],
 "metadata": {
  "kernelspec": {
   "display_name": "Python 3 (ipykernel)",
   "language": "python",
   "name": "python3"
  },
  "language_info": {
   "codemirror_mode": {
    "name": "ipython",
    "version": 3
   },
   "file_extension": ".py",
   "mimetype": "text/x-python",
   "name": "python",
   "nbconvert_exporter": "python",
   "pygments_lexer": "ipython3",
   "version": "3.13.0"
  }
 },
 "nbformat": 4,
 "nbformat_minor": 5
}
