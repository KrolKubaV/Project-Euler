{
 "cells": [
  {
   "cell_type": "markdown",
   "id": "63fe892c-8c92-4764-96e3-0fe956c40e9f",
   "metadata": {},
   "source": [
    "# Platonic Dice - Problem 389\n",
    "<p>\n",
    "An unbiased single $4$-sided die is thrown and its value, $T$, is noted.<br>$T$ unbiased $6$-sided dice are thrown and their scores are added together. The sum, $C$, is noted.<br>$C$ unbiased $8$-sided dice are thrown and their scores are added together. The sum, $O$, is noted.<br>$O$ unbiased $12$-sided dice are thrown and their scores are added together. The sum, $D$, is noted.<br>$D$ unbiased $20$-sided dice are thrown and their scores are added together. The sum, $I$, is noted.<br>\n",
    "Find the <strong>variance</strong> of $I$, and give your answer rounded to $4$ decimal places.\n",
    "</p>"
   ]
  },
  {
   "cell_type": "markdown",
   "id": "4c714d7f-b8b6-4464-9e96-67d87b8232e5",
   "metadata": {},
   "source": [
    "## Solution."
   ]
  },
  {
   "cell_type": "code",
   "execution_count": 1,
   "id": "24f62f79-beb3-4e98-a792-c3293dc65ff8",
   "metadata": {},
   "outputs": [],
   "source": [
    "from functools import cache"
   ]
  },
  {
   "cell_type": "code",
   "execution_count": 2,
   "id": "38c9a63c-d113-40ff-a291-8cae61986a52",
   "metadata": {},
   "outputs": [],
   "source": [
    "@cache\n",
    "def ev_die(n):\n",
    "    return (1+n)/2\n",
    "\n",
    "@cache\n",
    "def var_die(n):\n",
    "    return (n**2-1)/12"
   ]
  },
  {
   "cell_type": "code",
   "execution_count": 3,
   "id": "550464e1-edab-41b7-89c9-b17f120cfe2b",
   "metadata": {},
   "outputs": [],
   "source": [
    "ev_T = ev_die(4)\n",
    "var_T = var_die(4)"
   ]
  },
  {
   "cell_type": "code",
   "execution_count": 10,
   "id": "68875bb4-1647-4bbf-8b3f-3aa65a8d6246",
   "metadata": {},
   "outputs": [],
   "source": [
    "ev_C = ev_T * ev_die(6)\n",
    "var_C = ev_T * var_die(6) + var_T * ev_die(6)**2"
   ]
  },
  {
   "cell_type": "code",
   "execution_count": 11,
   "id": "71a5ddb7-67b6-46f9-9344-66f3a486f675",
   "metadata": {},
   "outputs": [],
   "source": [
    "ev_O = ev_C * ev_die(8)\n",
    "var_O = ev_C * var_die(8) + var_C * ev_die(8)**2"
   ]
  },
  {
   "cell_type": "code",
   "execution_count": 12,
   "id": "d8b756bf-0b91-4a8f-a58d-0aa222939379",
   "metadata": {},
   "outputs": [],
   "source": [
    "ev_D = ev_O * ev_die(12)\n",
    "var_D = ev_O * var_die(12) + var_O * ev_die(12)**2"
   ]
  },
  {
   "cell_type": "code",
   "execution_count": 13,
   "id": "abd8439a-8e78-432b-9d34-25bd5f0d1a4b",
   "metadata": {},
   "outputs": [],
   "source": [
    "ev_I = ev_D * ev_die(20)\n",
    "var_I = ev_D * var_die(20) + var_D * ev_die(20)**2"
   ]
  },
  {
   "cell_type": "code",
   "execution_count": 14,
   "id": "cf931d38-dc8e-40bf-a892-2023d624cca9",
   "metadata": {},
   "outputs": [
    {
     "data": {
      "text/plain": [
       "2406376.3623"
      ]
     },
     "execution_count": 14,
     "metadata": {},
     "output_type": "execute_result"
    }
   ],
   "source": [
    "round(var_I, 4)"
   ]
  },
  {
   "cell_type": "code",
   "execution_count": 17,
   "id": "7d7898f1-90c2-4318-a5b3-c036e85ec693",
   "metadata": {},
   "outputs": [
    {
     "data": {
      "text/plain": [
       "1551.2499354729034"
      ]
     },
     "execution_count": 17,
     "metadata": {},
     "output_type": "execute_result"
    }
   ],
   "source": [
    "(var_I)**0.5"
   ]
  },
  {
   "cell_type": "code",
   "execution_count": null,
   "id": "233f0a6b-5791-4219-a9f9-2688fca992a5",
   "metadata": {},
   "outputs": [],
   "source": []
  },
  {
   "cell_type": "code",
   "execution_count": null,
   "id": "64afd061-3ddb-45d8-a7a8-f1022584dcc8",
   "metadata": {},
   "outputs": [],
   "source": []
  },
  {
   "cell_type": "code",
   "execution_count": null,
   "id": "25df603f-bb0f-47ce-b078-67ee28f77a7a",
   "metadata": {},
   "outputs": [],
   "source": []
  }
 ],
 "metadata": {
  "kernelspec": {
   "display_name": "Python 3 (ipykernel)",
   "language": "python",
   "name": "python3"
  },
  "language_info": {
   "codemirror_mode": {
    "name": "ipython",
    "version": 3
   },
   "file_extension": ".py",
   "mimetype": "text/x-python",
   "name": "python",
   "nbconvert_exporter": "python",
   "pygments_lexer": "ipython3",
   "version": "3.12.4"
  }
 },
 "nbformat": 4,
 "nbformat_minor": 5
}
