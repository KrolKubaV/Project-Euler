{
 "cells": [
  {
   "cell_type": "markdown",
   "id": "82d3bca9-2650-4c26-aa2e-35614b4a0162",
   "metadata": {},
   "source": [
    "# Spiral Primes - Problem 58\n",
    "<p>Starting with $1$ and spiralling anticlockwise in the following way, a square spiral with side length $7$ is formed.</p>\n",
    "<p class=\"center monospace\"><span class=\"red\"><b>37</b></span> 36 35 34 33 32 <span class=\"red\"><b>31</b></span><br>\n",
    "38 <span class=\"red\"><b>17</b></span> 16 15 14 <span class=\"red\"><b>13</b></span> 30<br>\n",
    "39 18 <span class=\"red\"> <b>5</b></span>  4 <span class=\"red\"> <b>3</b></span> 12 29<br>\n",
    "40 19  6  1  2 11 28<br>\n",
    "41 20 <span class=\"red\"> <b>7</b></span>  8  9 10 27<br>\n",
    "42 21 22 23 24 25 26<br><span class=\"red\"><b>43</b></span> 44 45 46 47 48 49</p>\n",
    "<p>It is interesting to note that the odd squares lie along the bottom right diagonal, but what is more interesting is that $8$ out of the $13$ numbers lying along both diagonals are prime; that is, a ratio of $8/13 \\approx 62\\%$.</p>\n",
    "<p>If one complete new layer is wrapped around the spiral above, a square spiral with side length $9$ will be formed. If this process is continued, what is the side length of the square spiral for which the ratio of primes along both diagonals first falls below $10\\%$?</p>"
   ]
  },
  {
   "cell_type": "markdown",
   "id": "6b409fc7-caf6-4edd-8c4e-ea374cc2ac69",
   "metadata": {},
   "source": [
    "## Solution."
   ]
  },
  {
   "cell_type": "code",
   "execution_count": 13,
   "id": "55b23841-090e-451e-b3e9-5a0f993a4dc2",
   "metadata": {},
   "outputs": [],
   "source": [
    "from tqdm import tqdm"
   ]
  },
  {
   "cell_type": "code",
   "execution_count": 2,
   "id": "f8ced7b5-139b-411c-9a8a-190c57bd254d",
   "metadata": {},
   "outputs": [],
   "source": [
    "def is_prime(n):\n",
    "    if n <= 1:\n",
    "        return False\n",
    "\n",
    "    if n <= 3:\n",
    "        return True\n",
    "\n",
    "    if n % 2 == 0 or n % 3 == 0:\n",
    "        return False\n",
    "\n",
    "    i = 5\n",
    "    while i * i <= n:\n",
    "        if n % i == 0 or n % (i + 2) == 0:\n",
    "            return False\n",
    "        i += 6\n",
    "\n",
    "    return True"
   ]
  },
  {
   "cell_type": "code",
   "execution_count": 19,
   "id": "4972a24c-9e59-4628-b9bd-de361a0db766",
   "metadata": {},
   "outputs": [],
   "source": [
    "def primes_on_diag(n):\n",
    "    if n == 0:\n",
    "        return 0\n",
    "\n",
    "    a = (2*n+1)**2\n",
    "    diff = 2*n\n",
    "    b, c, d = a - diff, a - 2*diff, a - 3*diff\n",
    "    return is_prime(b) + is_prime(c) + is_prime(d)"
   ]
  },
  {
   "cell_type": "code",
   "execution_count": 20,
   "id": "3fe30e3a-d3f5-45df-a124-9dcc04c90c41",
   "metadata": {},
   "outputs": [
    {
     "name": "stdout",
     "output_type": "stream",
     "text": [
      "26241\n"
     ]
    }
   ],
   "source": [
    "total = 0\n",
    "num = 1\n",
    "n = 1\n",
    "\n",
    "while True:\n",
    "    total += primes_on_diag(n)\n",
    "    num += 4\n",
    "\n",
    "    if total/num < 0.1:\n",
    "        print(2*n+1)\n",
    "        break\n",
    "\n",
    "    n += 1"
   ]
  },
  {
   "cell_type": "code",
   "execution_count": null,
   "id": "c1a0e6a9-c63c-4b63-93ca-953ef53a96f8",
   "metadata": {},
   "outputs": [],
   "source": []
  },
  {
   "cell_type": "code",
   "execution_count": null,
   "id": "ebf46ff8-d25a-4f5d-bb49-dcc1870d1141",
   "metadata": {},
   "outputs": [],
   "source": []
  },
  {
   "cell_type": "code",
   "execution_count": null,
   "id": "7523a14e-2296-4764-a2d4-7a79ff1b0783",
   "metadata": {},
   "outputs": [],
   "source": []
  },
  {
   "cell_type": "code",
   "execution_count": null,
   "id": "20005652-b161-49b9-9021-2155aa761f40",
   "metadata": {},
   "outputs": [],
   "source": []
  },
  {
   "cell_type": "code",
   "execution_count": null,
   "id": "c482f32f-8d3a-4051-bc25-6019f9f0cda8",
   "metadata": {},
   "outputs": [],
   "source": []
  },
  {
   "cell_type": "code",
   "execution_count": null,
   "id": "89c2b21a-c4f7-4bdc-93dc-b09e6729b494",
   "metadata": {},
   "outputs": [],
   "source": []
  }
 ],
 "metadata": {
  "kernelspec": {
   "display_name": "Python 3 (ipykernel)",
   "language": "python",
   "name": "python3"
  },
  "language_info": {
   "codemirror_mode": {
    "name": "ipython",
    "version": 3
   },
   "file_extension": ".py",
   "mimetype": "text/x-python",
   "name": "python",
   "nbconvert_exporter": "python",
   "pygments_lexer": "ipython3",
   "version": "3.12.4"
  }
 },
 "nbformat": 4,
 "nbformat_minor": 5
}
