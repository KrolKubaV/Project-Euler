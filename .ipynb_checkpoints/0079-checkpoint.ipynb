{
 "cells": [
  {
   "cell_type": "markdown",
   "id": "d559bab8-b223-4c35-abb6-fd7055701330",
   "metadata": {},
   "source": [
    "# Passcode Derivation - Problem 79\n",
    "<p>A common security method used for online banking is to ask the user for three random characters from a passcode. For example, if the passcode was 531278, they may ask for the 2nd, 3rd, and 5th characters; the expected reply would be: 317.</p>\n",
    "<p>The text file, <a href=\"resources/documents/0079_keylog.txt\">keylog.txt</a>, contains fifty successful login attempts.</p>\n",
    "<p>Given that the three characters are always asked for in order, analyse the file so as to determine the shortest possible secret passcode of unknown length.</p>\n"
   ]
  },
  {
   "cell_type": "markdown",
   "id": "0a1a23f0-5bce-449e-8f9c-7abf36ef84f4",
   "metadata": {},
   "source": [
    "## Solution.\n",
    "If it's a DAG, we need to determine the topological ordering.\n",
    "\n",
    "https://en.wikipedia.org/wiki/Topological_sorting"
   ]
  },
  {
   "cell_type": "code",
   "execution_count": 10,
   "id": "9c1cde60-428c-41e1-8799-cc54eeffff48",
   "metadata": {},
   "outputs": [],
   "source": [
    "from collections import defaultdict"
   ]
  },
  {
   "cell_type": "code",
   "execution_count": 7,
   "id": "747cfea6-0b99-412e-96f5-d0cdb06a5a28",
   "metadata": {},
   "outputs": [],
   "source": [
    "with open('data_79.txt', 'r') as file:\n",
    "    s = file.read()\n",
    "data = [x for x in s.split('\\n') if x != '']"
   ]
  },
  {
   "cell_type": "code",
   "execution_count": 45,
   "id": "862100bb-b48f-4cf5-8a12-b1dfd5ad0bd3",
   "metadata": {},
   "outputs": [],
   "source": [
    "def sol79(codes):\n",
    "    E_in = defaultdict(set)\n",
    "    E_out = defaultdict(set)\n",
    "    V = set()\n",
    "\n",
    "    # Create graph\n",
    "    for code in codes:\n",
    "        E_in[code[0]].add(code[1])\n",
    "        E_in[code[1]].add(code[2])\n",
    "\n",
    "        E_out[code[1]].add(code[0])\n",
    "        E_out[code[2]].add(code[1])\n",
    "\n",
    "        V.add(code[0])\n",
    "        V.add(code[1])\n",
    "        V.add(code[2])\n",
    "\n",
    "\n",
    "    # Kahn's algorithm\n",
    "    ans = ''\n",
    "    S = [x for x in V if x not in E_in]\n",
    "\n",
    "    while S:\n",
    "        n = S.pop(0)\n",
    "        ans += n\n",
    "\n",
    "        for m in E_out[n]:\n",
    "            E_in[m].remove(n)\n",
    "            if len(E_in[m]) == 0:\n",
    "                S.append(m)           \n",
    "    \n",
    "    return int(ans[::-1])"
   ]
  },
  {
   "cell_type": "code",
   "execution_count": 46,
   "id": "47f83afa-ec40-460b-a022-6bc821123110",
   "metadata": {},
   "outputs": [
    {
     "data": {
      "text/plain": [
       "73162890"
      ]
     },
     "execution_count": 46,
     "metadata": {},
     "output_type": "execute_result"
    }
   ],
   "source": [
    "sol79(data)"
   ]
  },
  {
   "cell_type": "code",
   "execution_count": null,
   "id": "96f0fea2-bfe7-4308-89ee-64cfa138853c",
   "metadata": {},
   "outputs": [],
   "source": []
  },
  {
   "cell_type": "code",
   "execution_count": null,
   "id": "0ab7088b-9b42-4922-9f85-e69ad0a26462",
   "metadata": {},
   "outputs": [],
   "source": []
  },
  {
   "cell_type": "code",
   "execution_count": null,
   "id": "28942772-b41b-4ee8-b8e5-cd6884d90e57",
   "metadata": {},
   "outputs": [],
   "source": []
  },
  {
   "cell_type": "code",
   "execution_count": null,
   "id": "1934a369-919a-4eb9-afd2-46e5f58dfdaa",
   "metadata": {},
   "outputs": [],
   "source": []
  },
  {
   "cell_type": "code",
   "execution_count": null,
   "id": "d5543fd5-8b28-45f7-8811-eaf354b51cc1",
   "metadata": {},
   "outputs": [],
   "source": []
  },
  {
   "cell_type": "code",
   "execution_count": null,
   "id": "bf5634f7-4e3e-49da-aae7-ca4f4326a515",
   "metadata": {},
   "outputs": [],
   "source": []
  },
  {
   "cell_type": "code",
   "execution_count": null,
   "id": "22fbd7b2-2e95-47c9-ad96-4ff4443ab705",
   "metadata": {},
   "outputs": [],
   "source": []
  }
 ],
 "metadata": {
  "kernelspec": {
   "display_name": "Python 3 (ipykernel)",
   "language": "python",
   "name": "python3"
  },
  "language_info": {
   "codemirror_mode": {
    "name": "ipython",
    "version": 3
   },
   "file_extension": ".py",
   "mimetype": "text/x-python",
   "name": "python",
   "nbconvert_exporter": "python",
   "pygments_lexer": "ipython3",
   "version": "3.12.4"
  }
 },
 "nbformat": 4,
 "nbformat_minor": 5
}
