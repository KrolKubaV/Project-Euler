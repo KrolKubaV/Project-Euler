{
 "cells": [
  {
   "cell_type": "markdown",
   "id": "fd56fa4e-5d2c-4882-af52-458d17e71f08",
   "metadata": {},
   "source": [
    "# Add and Divide - Problem 834\n",
    "\n",
    "<p>\n",
    "A sequence is created by starting with a positive integer $n$ and incrementing by $(n+m)$ at the $m^{th}$ step. \n",
    "If $n=10$, the resulting sequence will be $21,33,46,60,75,91,108,126,\\ldots $.</p>\n",
    "\n",
    "<p>\n",
    "Let $S(n)$ be the set of indices $m$, for which the $m^{th}$ term in the sequence is divisible by $(n+m)$.<br> \n",
    "For example, $S(10)=\\{5,8,20,35,80\\}$.</p>\n",
    "\n",
    "<p>\n",
    "Define $T(n)$ to be the sum of the indices in $S(n)$. For example, $T(10) = 148$ and $T(10^2)=21828$.</p>\n",
    "\n",
    "<p>\n",
    "Let $\\displaystyle U(N)=\\sum_{n=3}^{N}T(n)$. You are given, $U(10^2)=612572$.</p>\n",
    "\n",
    "<p>\n",
    "Find $U(1234567)$.</p>\n"
   ]
  },
  {
   "cell_type": "markdown",
   "id": "32b94f5f-4142-4dc7-b378-16b00d8ee147",
   "metadata": {},
   "source": [
    "## Solution."
   ]
  },
  {
   "cell_type": "markdown",
   "id": "906650e7-7f49-4bdc-9f23-e559899aff39",
   "metadata": {},
   "source": [
    "### Observations:\n",
    "1. Easy to see that $a_m = \\frac{m*(m+1)}{2} + (m+1) * n$.\n",
    "2. Show that $n+m|a_m  $     **implies** $n+m|n(n-1)$ (this is necessary but not sufficient!).\n",
    "3. Let $d=(n,m)$, $n=n_1d$, $m=m_1d$. Then $k(n_1+m_1)=n_1(n-1)$, so $n_1+m_1|n-1$.\n",
    "\n",
    "### Main algorithm\n",
    "1. Fix the gcd of $m$ and $n$, $d$, as a divisor of $n$.\n",
    "2. Find $n_1$.\n",
    "3. Iterate through the divisors of $n-1$. Let $s$ be any divisor of $n-1$. Then $m=(s-n_1)d$. Since, the condition was only necessary, we need to check if $m$ works for sure."
   ]
  },
  {
   "cell_type": "code",
   "execution_count": 1,
   "id": "4a52e0f0-6436-4564-8cea-a2a37617575c",
   "metadata": {},
   "outputs": [],
   "source": [
    "from sympy.ntheory import factorint\n",
    "from math import gcd"
   ]
  },
  {
   "cell_type": "code",
   "execution_count": 2,
   "id": "4d3a15a4-d1cb-4708-9337-3f865b07e3c3",
   "metadata": {},
   "outputs": [],
   "source": [
    "def divisors_dict(n):\n",
    "    d = {k: [k] for k in range(1, n+1)}\n",
    "    \n",
    "    for i in range(1, n//2 + 1):\n",
    "        for j in range(2 * i, n + 1, i):\n",
    "            if j >= 3:\n",
    "                d[j].append(i)\n",
    "                \n",
    "    return d"
   ]
  },
  {
   "cell_type": "code",
   "execution_count": 3,
   "id": "b358e146-7855-403c-b798-c0176d110991",
   "metadata": {},
   "outputs": [],
   "source": [
    "N = 1234567\n",
    "div_dict = divisors_dict(N)"
   ]
  },
  {
   "cell_type": "code",
   "execution_count": 4,
   "id": "0c07cf09-455b-4301-aedc-59ad7a64e204",
   "metadata": {},
   "outputs": [],
   "source": [
    "def check(n, m):\n",
    "    if m < 0:\n",
    "        return False\n",
    "    return m*(m+1) % (2*(n+m)) == 0"
   ]
  },
  {
   "cell_type": "code",
   "execution_count": 9,
   "id": "952c0dcd-9cee-46d6-bede-f76c5dd773cf",
   "metadata": {},
   "outputs": [],
   "source": [
    "def S(n):\n",
    "    S = set()\n",
    "\n",
    "    # choose gcd\n",
    "    for d in div_dict[n]:\n",
    "        n_1 = n // d\n",
    "\n",
    "        # s = n_1 + m_1\n",
    "        for s in div_dict[n-1]:\n",
    "            m = (s - n_1)*d\n",
    "            if check(n,m):\n",
    "                S.add(m)\n",
    "    return S "
   ]
  },
  {
   "cell_type": "code",
   "execution_count": 154,
   "id": "27482f0c-27c5-4241-b05e-534e4b043895",
   "metadata": {},
   "outputs": [
    {
     "name": "stdout",
     "output_type": "stream",
     "text": [
      "0.08100005913004317 done\n",
      "0.16200011826008634 done\n",
      "0.2430001773901295 done\n",
      "0.3240002365201727 done\n",
      "0.40500029565021584 done\n",
      "0.486000354780259 done\n",
      "0.5670004139103022 done\n",
      "0.6480004730403454 done\n",
      "0.7290005321703885 done\n",
      "0.8100005913004317 done\n",
      "0.8910006504304748 done\n",
      "0.972000709560518 done\n",
      "1254404167198752370\n"
     ]
    }
   ],
   "source": [
    "ans = 0\n",
    "for n in range(3, N+1):\n",
    "    if n % 100000 == 0:\n",
    "        print(f'{n/N} done')\n",
    "    \n",
    "    ans += sum(S(n))\n",
    "\n",
    "print(ans)"
   ]
  },
  {
   "cell_type": "code",
   "execution_count": null,
   "id": "a7b173d3-3c92-45b8-a052-c0022cd8a369",
   "metadata": {},
   "outputs": [],
   "source": []
  },
  {
   "cell_type": "code",
   "execution_count": null,
   "id": "23e7e85c-79d8-40a6-a513-a8901108aef6",
   "metadata": {},
   "outputs": [],
   "source": []
  }
 ],
 "metadata": {
  "kernelspec": {
   "display_name": "Python 3 (ipykernel)",
   "language": "python",
   "name": "python3"
  },
  "language_info": {
   "codemirror_mode": {
    "name": "ipython",
    "version": 3
   },
   "file_extension": ".py",
   "mimetype": "text/x-python",
   "name": "python",
   "nbconvert_exporter": "python",
   "pygments_lexer": "ipython3",
   "version": "3.12.4"
  }
 },
 "nbformat": 4,
 "nbformat_minor": 5
}
