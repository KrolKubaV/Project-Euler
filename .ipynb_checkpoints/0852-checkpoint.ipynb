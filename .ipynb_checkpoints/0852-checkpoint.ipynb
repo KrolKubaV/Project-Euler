{
 "cells": [
  {
   "cell_type": "markdown",
   "id": "3ef8752d-7aa3-4c57-b53b-36ee0488ba89",
   "metadata": {},
   "source": [
    "# Coins in a Box - Problem 852\n",
    "<p>This game has a box of $N$ unfair coins and $N$ fair coins. Fair coins have probability 50% of landing heads while unfair coins have probability 75% of landing heads.</p>\n",
    "\n",
    "<p>The player begins with a score of 0 which may become negative during play.</p>\n",
    "\n",
    "<p>At each round the player randomly picks a coin from the box and guesses its type: fair or unfair. Before guessing they may toss the coin any number of times; however, each toss subtracts 1 from their score. The decision to stop tossing and make a guess can be made at any time. After guessing the player's score is increased by 20 if they are right and decreased by 50 if they are wrong. Then the coin type is revealed to the player and the coin is discarded.</p>\n",
    "\n",
    "<p>After $2N$ rounds the box will be empty and the game is over. Let $S(N)$ be the expected score of the player at the end of the game assuming that they play optimally in order to maximize their expected score.</p>\n",
    "\n",
    "<p>You are given $S(1) = 20.558591$ rounded to 6 digits after the decimal point.</p>\n",
    "\n",
    "<p>Find $S(50)$. Give your answer rounded to 6 digits after the decimal point.</p>"
   ]
  },
  {
   "cell_type": "markdown",
   "id": "737fe3c3-c553-4f55-88a0-896412d589a7",
   "metadata": {},
   "source": [
    "## Solution."
   ]
  },
  {
   "cell_type": "code",
   "execution_count": 1,
   "id": "83d3df05-72f4-499a-91e3-8021f55d8809",
   "metadata": {},
   "outputs": [],
   "source": [
    "from functools import cache\n",
    "from scipy.stats import binom\n",
    "from math import gcd\n",
    "from tqdm import tqdm"
   ]
  },
  {
   "cell_type": "code",
   "execution_count": 2,
   "id": "cdcab90e-3e3e-4924-8c53-11a4c47f9f9c",
   "metadata": {},
   "outputs": [],
   "source": [
    "@cache\n",
    "def ev_stay(f, u, H, T):\n",
    "    ''' Finds ev given that there are f fair coins left, u unfair and that we've seen H heads and T tails and we decide to take a guess now'''\n",
    "    p = f/(f+u)\n",
    "    q = 1-p\n",
    "\n",
    "    t = H + T\n",
    "\n",
    "    P_F_given_HT = p / (p + q * 3**H/2**t)\n",
    "    P_U_given_HT = 1 - P_F_given_HT\n",
    "\n",
    "    ev_f = P_F_given_HT * 20 + P_U_given_HT * (-50) - t\n",
    "    ev_u = P_F_given_HT * (-50) + P_U_given_HT * (20) - t\n",
    "    \n",
    "    \n",
    "    return max(ev_f, ev_u)"
   ]
  },
  {
   "cell_type": "code",
   "execution_count": 3,
   "id": "55e59960-d5c5-4516-8ad0-26cab603e630",
   "metadata": {},
   "outputs": [],
   "source": [
    "@cache\n",
    "def P_head(f, u, H, T):\n",
    "    ''' Finds probability of tossing a head, given that we observed H heads and T tails'''\n",
    "    p = f/(f+u)\n",
    "    q = 1-p\n",
    "\n",
    "    t = H + T\n",
    "\n",
    "    P_F_given_HT = p / (p + q * 3**H/2**t)\n",
    "    P_U_given_HT = 1 - P_F_given_HT\n",
    "    \n",
    "    return 1/2 * P_F_given_HT + 3/4 * P_U_given_HT"
   ]
  },
  {
   "cell_type": "code",
   "execution_count": 4,
   "id": "4b2a1596-54c6-4853-86ce-129f522e0164",
   "metadata": {},
   "outputs": [],
   "source": [
    "@cache\n",
    "def generate_tree(depth):\n",
    "    if depth == 0:\n",
    "        return [[(0,0)]]\n",
    "\n",
    "    prev = generate_tree(depth-1)\n",
    "    last = []\n",
    "    for t in range(depth, -1, -1):\n",
    "        last.append((t, depth-t))\n",
    "    \n",
    "    return prev + [last]"
   ]
  },
  {
   "cell_type": "code",
   "execution_count": 5,
   "id": "165a552e-2478-4cc5-8811-4a5151f8bb4b",
   "metadata": {},
   "outputs": [],
   "source": [
    "@cache\n",
    "def profit(f, u, d=150):\n",
    "    ''' \n",
    "    Finds expected profit when there are f fair coins, u unfair coins and we play semi-optimally (I do not know the optimal strategy but only\n",
    "    the approximated one)\n",
    "\n",
    "\n",
    "    We generate a tree of outcomes of some fixed depth, enough for numerical cases --- in most cases at some point we will stop and guess although\n",
    "    I think we could go forever without making an opitmal guess: e.g. f=u=1 and we get some weird pattern of heads and tails that will at any point\n",
    "    give us insufficient evidence to take an educated guess. I claim this happens only with a neglible prob.\n",
    "    '''\n",
    "    if gcd(f, u) > 1:\n",
    "        return profit(f//gcd(f,u), u//gcd(f,u))\n",
    "    \n",
    "    p = f / (f + u)\n",
    "    q = 1 - p\n",
    "\n",
    "    tree = generate_tree(d)\n",
    "    \n",
    "    # find ev-s if we were to stay and guess at a given node\n",
    "    ev = {}\n",
    "    for level in tree:\n",
    "        for node in level:\n",
    "            H, T = node\n",
    "            ev[node] = ev_stay(f, u, H, T)\n",
    "\n",
    "    \n",
    "    # Assume that we always stay and guess when we're on the leaves of the tree (given sufficient depth). Go bottom up of the tree and find ~true ev-s.\n",
    "    for level in tree[::-1][1:]:\n",
    "        for node in level:\n",
    "            H, T = node\n",
    "            left = (H+1, T)\n",
    "            right = (H, T+1)\n",
    "\n",
    "            p_H = P_head(f, u, H, T)\n",
    "            p_T = 1 - p_H\n",
    "            ev[node] = max(p_H*ev[left] + p_T*ev[right], ev[node])\n",
    "        \n",
    "    \n",
    "    return ev[(0,0)]"
   ]
  },
  {
   "cell_type": "code",
   "execution_count": 6,
   "id": "cf549524-99a1-4df0-a60e-f49c5a9c6d62",
   "metadata": {},
   "outputs": [],
   "source": [
    "@cache\n",
    "def S(f, u):\n",
    "    ''' Solves the question for f fair coins and u unfair coins'''\n",
    "    if u == 0:\n",
    "        return 20 * f\n",
    "\n",
    "    if f == 0:\n",
    "        return 20 * u\n",
    "\n",
    "    p = f/(f+u)\n",
    "    q = 1-p\n",
    "\n",
    "\n",
    "    return p * S(f-1, u) + q * S(f, u-1) + profit(f, u)"
   ]
  },
  {
   "cell_type": "code",
   "execution_count": 7,
   "id": "23c86ad1-5d1c-419f-a253-b4d0f7a99edb",
   "metadata": {},
   "outputs": [
    {
     "data": {
      "text/plain": [
       "0.558591"
      ]
     },
     "execution_count": 7,
     "metadata": {},
     "output_type": "execute_result"
    }
   ],
   "source": [
    "round(profit(1,1), 6)"
   ]
  },
  {
   "cell_type": "code",
   "execution_count": 8,
   "id": "e8635797-0a81-4125-af1f-2be442c968aa",
   "metadata": {},
   "outputs": [
    {
     "data": {
      "text/plain": [
       "20.558591"
      ]
     },
     "execution_count": 8,
     "metadata": {},
     "output_type": "execute_result"
    }
   ],
   "source": [
    "round(S(1,1), 6)"
   ]
  },
  {
   "cell_type": "code",
   "execution_count": null,
   "id": "05d6f26d-fa5a-4055-b4bc-e70fac87ff6d",
   "metadata": {},
   "outputs": [],
   "source": [
    "S(50, 50)"
   ]
  },
  {
   "cell_type": "code",
   "execution_count": null,
   "id": "489305b2-d1d3-4552-abdd-48f965022b2a",
   "metadata": {},
   "outputs": [],
   "source": [
    "n = 51\n",
    "for i in tqdm(range(1, n)):\n",
    "    for j in range(1, n):\n",
    "        a = profit(i, j)"
   ]
  },
  {
   "cell_type": "code",
   "execution_count": null,
   "id": "099dfd26-6af2-470b-bafe-b6b101320b17",
   "metadata": {},
   "outputs": [],
   "source": []
  },
  {
   "cell_type": "code",
   "execution_count": null,
   "id": "fcca0686-ae21-4fb0-a070-918125f4b5f9",
   "metadata": {},
   "outputs": [],
   "source": []
  },
  {
   "cell_type": "code",
   "execution_count": null,
   "id": "9ae772bd-9440-4f7f-a61e-d82d8ff6f720",
   "metadata": {},
   "outputs": [],
   "source": []
  }
 ],
 "metadata": {
  "kernelspec": {
   "display_name": "Python 3 (ipykernel)",
   "language": "python",
   "name": "python3"
  },
  "language_info": {
   "codemirror_mode": {
    "name": "ipython",
    "version": 3
   },
   "file_extension": ".py",
   "mimetype": "text/x-python",
   "name": "python",
   "nbconvert_exporter": "python",
   "pygments_lexer": "ipython3",
   "version": "3.12.4"
  }
 },
 "nbformat": 4,
 "nbformat_minor": 5
}
