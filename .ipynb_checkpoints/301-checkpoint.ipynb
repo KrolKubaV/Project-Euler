{
 "cells": [
  {
   "cell_type": "markdown",
   "id": "5d9cde8a-daf9-4648-8d0a-15bc679d12c7",
   "metadata": {},
   "source": [
    "# Problem 301 - Nim\n",
    "<p><dfn>Nim</dfn> is a game played with heaps of stones, where two players take it in turn to remove any number of stones from any heap until no stones remain.</p>\n",
    "\n",
    "<p>We'll consider the three-heap normal-play version of Nim, which works as follows:</p>\n",
    "<ul><li>At the start of the game there are three heaps of stones.</li>\n",
    "<li>On each player's turn, the player may remove any positive number of stones from any single heap.</li>\n",
    "<li>The first player unable to move (because no stones remain) loses.</li>\n",
    "</ul><p>If $(n_1,n_2,n_3)$ indicates a Nim position consisting of heaps of size $n_1$, $n_2$, and $n_3$, then there is a simple function, which you may look up or attempt to deduce for yourself, $X(n_1,n_2,n_3)$ that returns:</p>\n",
    "\n",
    "<ul><li>zero if, with perfect strategy, the player about to move will eventually lose; or</li>\n",
    "<li>non-zero if, with perfect strategy, the player about to move will eventually win.</li>\n",
    "</ul><p>For example $X(1,2,3) = 0$ because, no matter what the current player does, the opponent can respond with a move that leaves two heaps of equal size, at which point every move by the current player can be mirrored by the opponent until no stones remain; so the current player loses. To illustrate:</p>\n",
    "\n",
    "<ul><li>current player moves to $(1,2,1)$</li>\n",
    "<li>opponent moves to $(1,0,1)$</li>\n",
    "<li>current player moves to $(0,0,1)$</li>\n",
    "<li>opponent moves to $(0,0,0)$, and so wins.</li>\n",
    "</ul><p>For how many positive integers $n \\le 2^{30}$ does $X(n,2n,3n) = 0$ ?</p>"
   ]
  },
  {
   "cell_type": "markdown",
   "id": "4b3ec1eb-0986-4b96-bd15-a20d157be812",
   "metadata": {},
   "source": [
    "## Solution."
   ]
  },
  {
   "cell_type": "code",
   "execution_count": 2,
   "id": "4cc10106-8d8e-482a-ba81-c38f2a11249c",
   "metadata": {},
   "outputs": [],
   "source": [
    "from tqdm import tqdm"
   ]
  },
  {
   "cell_type": "code",
   "execution_count": 10,
   "id": "e30b11d0-1996-4c2b-8172-522c49a6fa78",
   "metadata": {},
   "outputs": [],
   "source": [
    "def X(arr):\n",
    "    ans = 0\n",
    "    for a in arr:\n",
    "        ans ^= a\n",
    "    return ans"
   ]
  },
  {
   "cell_type": "code",
   "execution_count": 13,
   "id": "c47741be-ed6d-4eec-a0c1-0f3cfe6a7bc0",
   "metadata": {},
   "outputs": [
    {
     "ename": "KeyboardInterrupt",
     "evalue": "",
     "output_type": "error",
     "traceback": [
      "\u001b[1;31m---------------------------------------------------------------------------\u001b[0m",
      "\u001b[1;31mKeyboardInterrupt\u001b[0m                         Traceback (most recent call last)",
      "Cell \u001b[1;32mIn[13], line 3\u001b[0m\n\u001b[0;32m      1\u001b[0m ans \u001b[38;5;241m=\u001b[39m \u001b[38;5;241m0\u001b[39m\n\u001b[0;32m      2\u001b[0m \u001b[38;5;28;01mfor\u001b[39;00m n \u001b[38;5;129;01min\u001b[39;00m \u001b[38;5;28mrange\u001b[39m(\u001b[38;5;241m1\u001b[39m, \u001b[38;5;241m2\u001b[39m\u001b[38;5;241m*\u001b[39m\u001b[38;5;241m*\u001b[39m\u001b[38;5;241m30\u001b[39m):\n\u001b[1;32m----> 3\u001b[0m     ans \u001b[38;5;241m+\u001b[39m\u001b[38;5;241m=\u001b[39m (\u001b[43mX\u001b[49m\u001b[43m(\u001b[49m\u001b[43m[\u001b[49m\u001b[43mn\u001b[49m\u001b[43m,\u001b[49m\u001b[43m \u001b[49m\u001b[38;5;241;43m2\u001b[39;49m\u001b[38;5;241;43m*\u001b[39;49m\u001b[43mn\u001b[49m\u001b[43m,\u001b[49m\u001b[43m \u001b[49m\u001b[38;5;241;43m3\u001b[39;49m\u001b[38;5;241;43m*\u001b[39;49m\u001b[43mn\u001b[49m\u001b[43m]\u001b[49m\u001b[43m)\u001b[49m \u001b[38;5;241m==\u001b[39m \u001b[38;5;241m0\u001b[39m)\n\u001b[0;32m      5\u001b[0m ans\n",
      "Cell \u001b[1;32mIn[10], line 4\u001b[0m, in \u001b[0;36mX\u001b[1;34m(arr)\u001b[0m\n\u001b[0;32m      2\u001b[0m ans \u001b[38;5;241m=\u001b[39m \u001b[38;5;241m0\u001b[39m\n\u001b[0;32m      3\u001b[0m \u001b[38;5;28;01mfor\u001b[39;00m a \u001b[38;5;129;01min\u001b[39;00m arr:\n\u001b[1;32m----> 4\u001b[0m     ans \u001b[38;5;241m^\u001b[39m\u001b[38;5;241m=\u001b[39m a\n\u001b[0;32m      5\u001b[0m \u001b[38;5;28;01mreturn\u001b[39;00m ans\n",
      "\u001b[1;31mKeyboardInterrupt\u001b[0m: "
     ]
    }
   ],
   "source": [
    "ans = 0\n",
    "for n in tqdm(range(1, 2**30):\n",
    "    ans += (X([n, 2*n, 3*n]) == 0)\n",
    "\n",
    "ans"
   ]
  },
  {
   "cell_type": "code",
   "execution_count": null,
   "id": "6feee25f-4f85-42ed-be8f-266a12cd70b9",
   "metadata": {},
   "outputs": [],
   "source": []
  },
  {
   "cell_type": "code",
   "execution_count": null,
   "id": "2642dd62-67f3-4a90-9135-dd5f2e513171",
   "metadata": {},
   "outputs": [],
   "source": []
  },
  {
   "cell_type": "code",
   "execution_count": null,
   "id": "e8a24829-01c6-49f0-a45d-44400794ed24",
   "metadata": {},
   "outputs": [],
   "source": []
  },
  {
   "cell_type": "code",
   "execution_count": null,
   "id": "89c1fa65-0665-4c7e-a5f1-63346e647758",
   "metadata": {},
   "outputs": [],
   "source": []
  },
  {
   "cell_type": "code",
   "execution_count": null,
   "id": "431c0443-3399-4f3d-b3a2-78ed2e27ae9d",
   "metadata": {},
   "outputs": [],
   "source": []
  },
  {
   "cell_type": "code",
   "execution_count": null,
   "id": "c5161804-08ed-4494-afb7-65035ba797c8",
   "metadata": {},
   "outputs": [],
   "source": []
  }
 ],
 "metadata": {
  "kernelspec": {
   "display_name": "Python 3 (ipykernel)",
   "language": "python",
   "name": "python3"
  },
  "language_info": {
   "codemirror_mode": {
    "name": "ipython",
    "version": 3
   },
   "file_extension": ".py",
   "mimetype": "text/x-python",
   "name": "python",
   "nbconvert_exporter": "python",
   "pygments_lexer": "ipython3",
   "version": "3.13.0"
  }
 },
 "nbformat": 4,
 "nbformat_minor": 5
}
