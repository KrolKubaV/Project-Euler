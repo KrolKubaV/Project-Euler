{
 "cells": [
  {
   "cell_type": "markdown",
   "id": "44c31d7e-b976-4407-a992-bebcf75c1af5",
   "metadata": {},
   "source": [
    "# Problem 666 - Polymorphic Bacteria\n",
    "\n",
    "Members of a species of bacteria occur in two different types: $\\alpha$ and $\\beta$. Individual bacteria are capable of multiplying and mutating between the types according to the following rules:\n",
    "<ul><li>Every minute, each individual will simultaneously undergo some kind of transformation.</li>\n",
    "<li>Each individual $A$ of type $\\alpha$ will, independently, do one of the following (at random with equal probability):\n",
    "<ul><li>clone itself, resulting in a new bacterium of type $\\alpha$ (alongside $A$ who remains)</li>\n",
    "<li>split into 3 new bacteria of type $\\beta$ (replacing $A$)</li>\n",
    "</ul></li>\n",
    "\n",
    "<li>Each individual $B$ of type $\\beta$ will, independently, do one of the following (at random with equal probability):\n",
    "<ul><li>spawn a new bacterium of type $\\alpha$ (alongside $B$ who remains)</li>\n",
    "<li>die</li>\n",
    "</ul></li></ul><p>\n",
    "If a population starts with a single bacterium of type $\\alpha$, then it can be shown that there is a 0.07243802 probability that the population will eventually die out, and a 0.92756198 probability that the population will last forever. These probabilities are given rounded to 8 decimal places.\n",
    "</p>\n",
    "<p>\n",
    "Now consider another species of bacteria, $S_{k,m}$ (where $k$ and $m$ are positive integers), which occurs in $k$ different types $\\alpha_i$ for $0\\le i\\lt k$. The rules governing this species' lifecycle involve the sequence $r_n$ defined by:\n",
    "</p>\n",
    "<ul style=\"list-style-type:none;\"><li>$r_0 = 306$</li>\n",
    "<li>$r_{n+1} = r_n^2 \\bmod 10\\,007$</li>\n",
    "</ul><p>\n",
    "Every minute, for each $i$, each bacterium $A$ of type $\\alpha_i$ will independently choose an integer $j$ uniformly at random in the range $0\\le j\\lt m$. What it then does depends on $q = r_{im+j} \\bmod 5$:</p>\n",
    "<ul><li>If $q=0$, $A$ dies.</li>\n",
    "<li>If $q=1$, $A$ clones itself, resulting in a new bacterium of type $\\alpha_i$ (alongside $A$ who remains).</li>\n",
    "<li>If $q=2$, $A$ mutates, changing into type $\\alpha_{(2i) \\bmod k}$.</li>\n",
    "<li>If $q=3$, $A$ splits into 3 new bacteria of type $\\alpha_{(i^2+1) \\bmod k}$ (replacing $A$).</li>\n",
    "<li>If $q=4$, $A$ spawns a new bacterium of type $\\alpha_{(i+1) \\bmod k}$ (alongside $A$ who remains).</li>\n",
    "</ul><p>\n",
    "In fact, our original species was none other than $S_{2,2}$, with $\\alpha=\\alpha_0$ and $\\beta=\\alpha_1$.\n",
    "</p>\n",
    "<p>\n",
    "Let $P_{k,m}$ be the probability that a population of species $S_{k,m}$, starting with a single bacterium of type $\\alpha_0$, will eventually die out. So $P_{2,2} = 0.07243802$. You are also given that $P_{4,3} = 0.18554021$ and $P_{10,5} = 0.53466253$, all rounded to 8 decimal places.\n",
    "</p>\n",
    "<p>\n",
    "Find $P_{500,10}$, and give your answer rounded to 8 decimal places.\n",
    "</p>"
   ]
  },
  {
   "cell_type": "code",
   "execution_count": 193,
   "id": "3a761a54-b272-4e0d-89e8-b740c7919551",
   "metadata": {},
   "outputs": [],
   "source": [
    "from functools import cache\n",
    "from collections import defaultdict\n",
    "import sympy as sp\n",
    "from tqdm import tqdm"
   ]
  },
  {
   "cell_type": "code",
   "execution_count": 194,
   "id": "7413217c-5f52-4188-b237-8bf79bbb244a",
   "metadata": {},
   "outputs": [],
   "source": [
    "@cache\n",
    "def r(n):\n",
    "    if n == 0:\n",
    "        return 306\n",
    "\n",
    "    return r(n-1)**2 % 10_007"
   ]
  },
  {
   "cell_type": "code",
   "execution_count": 195,
   "id": "267621cc-09b5-49ea-8845-9cefa9cfaaf4",
   "metadata": {},
   "outputs": [],
   "source": [
    "@cache\n",
    "def q(i, m):\n",
    "    '''\n",
    "    Finds distribution of q\n",
    "    '''\n",
    "    q_dist = defaultdict(int)\n",
    "    r_set = set([r(n) for n in range(10007)])\n",
    "        \n",
    "    for j in range(m):\n",
    "        if i*m + j == 0:\n",
    "            q_dist[306 % 5] += 1\n",
    "        else:\n",
    "            q_dist[r(i*m + j) % 5] += 1\n",
    "            \n",
    "    for t in q_dist:\n",
    "        q_dist[t] = q_dist[t] / m\n",
    "\n",
    "    return q_dist"
   ]
  },
  {
   "cell_type": "code",
   "execution_count": 196,
   "id": "6bf3696b-96a8-453f-b5df-53cb2a091ea6",
   "metadata": {},
   "outputs": [],
   "source": [
    "def F(k, m, a):\n",
    "    b = [0] * len(a)\n",
    "    for i in range(k):\n",
    "        q_dist = q(i, m)\n",
    "        b[i] = (\n",
    "            a[i]\n",
    "            - q_dist[0]\n",
    "            - q_dist[1] * a[i]**2\n",
    "            - q_dist[2] * a[2*i % k]\n",
    "            - q_dist[3] * a[(i**2 + 1) % k]**3\n",
    "            - q_dist[4] * a[(i + 1) % k] * a[i]\n",
    "        )\n",
    "\n",
    "    return b\n",
    "\n",
    "def jacobian_F(k, m, a):\n",
    "    J = np.zeros((k, k))\n",
    "\n",
    "    for i in range(k):\n",
    "        q0, q1, q2, q3, q4 = q(i, m).values()\n",
    "\n",
    "        idx_ai = i\n",
    "        idx_2i = 2 * i % k\n",
    "        idx_i2_1 = (i**2 + 1) % k\n",
    "        idx_ip1 = (i + 1) % k\n",
    "\n",
    "        ai = a[idx_ai]\n",
    "        a_i2_1 = a[idx_i2_1]\n",
    "        a_ip1 = a[idx_ip1]\n",
    "\n",
    "        # ∂F_i / ∂a[i]\n",
    "        J[i][idx_ai] = (\n",
    "            1\n",
    "            - 2 * q1 * ai\n",
    "            - q4 * a_ip1\n",
    "        )\n",
    "\n",
    "        # ∂F_i / ∂a[2i % k]\n",
    "        J[i][idx_2i] += -q2\n",
    "\n",
    "        # ∂F_i / ∂a[(i^2 + 1) % k]\n",
    "        J[i][idx_i2_1] += -3 * q3 * a_i2_1**2\n",
    "\n",
    "        # ∂F_i / ∂a[(i + 1) % k]\n",
    "        J[i][idx_ip1] += -q4 * ai\n",
    "\n",
    "    return J\n"
   ]
  },
  {
   "cell_type": "code",
   "execution_count": 197,
   "id": "65fc1768-ad6c-4d85-b0df-e24ea8aeb587",
   "metadata": {},
   "outputs": [],
   "source": [
    "def P(k, m, max_iters=100000, tol=1e-8):\n",
    "    a = np.full(k, 0.5)  # initial guess\n",
    "\n",
    "    for _ in tqdm(range(max_iters)):\n",
    "        F_val = np.array(F(k, m, a))\n",
    "        J = jacobian_F(k, m, a)\n",
    "\n",
    "        try:\n",
    "            delta = np.linalg.solve(J, F_val)\n",
    "        except np.linalg.LinAlgError:\n",
    "            print(\"Jacobian is singular or ill-conditioned. Aborting.\")\n",
    "            break\n",
    "\n",
    "        a_new = a - delta\n",
    "\n",
    "        if np.linalg.norm(delta, ord=2) < tol:\n",
    "            break\n",
    "\n",
    "        a = a_new\n",
    "\n",
    "    return a.tolist()"
   ]
  },
  {
   "cell_type": "code",
   "execution_count": 198,
   "id": "d6773b47-5f92-45bf-b5c9-0a253692479d",
   "metadata": {},
   "outputs": [
    {
     "name": "stderr",
     "output_type": "stream",
     "text": [
      "100%|███████████████████████████████████████████████████████████████████████| 100000/100000 [00:05<00:00, 19610.54it/s]\n"
     ]
    },
    {
     "data": {
      "text/plain": [
       "[0.01321248628825318, 0.612401455662216]"
      ]
     },
     "execution_count": 198,
     "metadata": {},
     "output_type": "execute_result"
    }
   ],
   "source": [
    "P(2,2)"
   ]
  },
  {
   "cell_type": "code",
   "execution_count": 174,
   "id": "3d5f85ae-f09d-4b28-986a-583315b5926d",
   "metadata": {},
   "outputs": [],
   "source": [
    "def P(k, m):\n",
    "    a = [sp.symbols(f'a{i}', real=True) for i in range(k)]\n",
    "    equations = []\n",
    "    for i in tqdm(range(k)):\n",
    "        q_dist = q(i, m)\n",
    "        eq = (\n",
    "            a[i]\n",
    "            - q_dist[0]\n",
    "            - q_dist[1] * a[i]**2\n",
    "            - q_dist[2] * a[2*i % k]\n",
    "            - q_dist[3] * a[(i**2 + 1) % k]**3\n",
    "            - q_dist[4] * a[(i + 1) % k] * a[i]\n",
    "        )\n",
    "        equations.append(eq)\n",
    "\n",
    "    guess = [0.5] * k\n",
    "    solution = sp.nsolve(equations, a, guess)\n",
    "    return [float(val.evalf()) for val in solution]\n"
   ]
  },
  {
   "cell_type": "code",
   "execution_count": 175,
   "id": "e06edf6b-36d0-4bed-8095-688fd7cbd667",
   "metadata": {},
   "outputs": [
    {
     "name": "stderr",
     "output_type": "stream",
     "text": [
      " 75%|███████████████████████████████████████████████████████████                    | 374/500 [00:02<00:00, 169.44it/s]\n"
     ]
    },
    {
     "ename": "KeyboardInterrupt",
     "evalue": "",
     "output_type": "error",
     "traceback": [
      "\u001b[1;31m---------------------------------------------------------------------------\u001b[0m",
      "\u001b[1;31mKeyboardInterrupt\u001b[0m                         Traceback (most recent call last)",
      "Cell \u001b[1;32mIn[175], line 1\u001b[0m\n\u001b[1;32m----> 1\u001b[0m \u001b[43mP\u001b[49m\u001b[43m(\u001b[49m\u001b[38;5;241;43m500\u001b[39;49m\u001b[43m,\u001b[49m\u001b[43m \u001b[49m\u001b[38;5;241;43m10\u001b[39;49m\u001b[43m)\u001b[49m\n",
      "Cell \u001b[1;32mIn[174], line 7\u001b[0m, in \u001b[0;36mP\u001b[1;34m(k, m)\u001b[0m\n\u001b[0;32m      4\u001b[0m \u001b[38;5;28;01mfor\u001b[39;00m i \u001b[38;5;129;01min\u001b[39;00m tqdm(\u001b[38;5;28mrange\u001b[39m(k)):\n\u001b[0;32m      5\u001b[0m     q_dist \u001b[38;5;241m=\u001b[39m q(i, m)\n\u001b[0;32m      6\u001b[0m     eq \u001b[38;5;241m=\u001b[39m (\n\u001b[1;32m----> 7\u001b[0m         \u001b[43ma\u001b[49m\u001b[43m[\u001b[49m\u001b[43mi\u001b[49m\u001b[43m]\u001b[49m\n\u001b[0;32m      8\u001b[0m \u001b[43m        \u001b[49m\u001b[38;5;241;43m-\u001b[39;49m\u001b[43m \u001b[49m\u001b[43mq_dist\u001b[49m\u001b[43m[\u001b[49m\u001b[38;5;241;43m0\u001b[39;49m\u001b[43m]\u001b[49m\n\u001b[0;32m      9\u001b[0m \u001b[43m        \u001b[49m\u001b[38;5;241;43m-\u001b[39;49m\u001b[43m \u001b[49m\u001b[43mq_dist\u001b[49m\u001b[43m[\u001b[49m\u001b[38;5;241;43m1\u001b[39;49m\u001b[43m]\u001b[49m\u001b[43m \u001b[49m\u001b[38;5;241;43m*\u001b[39;49m\u001b[43m \u001b[49m\u001b[43ma\u001b[49m\u001b[43m[\u001b[49m\u001b[43mi\u001b[49m\u001b[43m]\u001b[49m\u001b[38;5;241;43m*\u001b[39;49m\u001b[38;5;241;43m*\u001b[39;49m\u001b[38;5;241;43m2\u001b[39;49m\n\u001b[0;32m     10\u001b[0m \u001b[43m        \u001b[49m\u001b[38;5;241;43m-\u001b[39;49m\u001b[43m \u001b[49m\u001b[43mq_dist\u001b[49m\u001b[43m[\u001b[49m\u001b[38;5;241;43m2\u001b[39;49m\u001b[43m]\u001b[49m\u001b[43m \u001b[49m\u001b[38;5;241;43m*\u001b[39;49m\u001b[43m \u001b[49m\u001b[43ma\u001b[49m\u001b[43m[\u001b[49m\u001b[38;5;241;43m2\u001b[39;49m\u001b[38;5;241;43m*\u001b[39;49m\u001b[43mi\u001b[49m\u001b[43m \u001b[49m\u001b[38;5;241;43m%\u001b[39;49m\u001b[43m \u001b[49m\u001b[43mk\u001b[49m\u001b[43m]\u001b[49m\n\u001b[0;32m     11\u001b[0m \u001b[43m        \u001b[49m\u001b[38;5;241;43m-\u001b[39;49m\u001b[43m \u001b[49m\u001b[43mq_dist\u001b[49m\u001b[43m[\u001b[49m\u001b[38;5;241;43m3\u001b[39;49m\u001b[43m]\u001b[49m\u001b[43m \u001b[49m\u001b[38;5;241;43m*\u001b[39;49m\u001b[43m \u001b[49m\u001b[43ma\u001b[49m\u001b[43m[\u001b[49m\u001b[43m(\u001b[49m\u001b[43mi\u001b[49m\u001b[38;5;241;43m*\u001b[39;49m\u001b[38;5;241;43m*\u001b[39;49m\u001b[38;5;241;43m2\u001b[39;49m\u001b[43m \u001b[49m\u001b[38;5;241;43m+\u001b[39;49m\u001b[43m \u001b[49m\u001b[38;5;241;43m1\u001b[39;49m\u001b[43m)\u001b[49m\u001b[43m \u001b[49m\u001b[38;5;241;43m%\u001b[39;49m\u001b[43m \u001b[49m\u001b[43mk\u001b[49m\u001b[43m]\u001b[49m\u001b[38;5;241;43m*\u001b[39;49m\u001b[38;5;241;43m*\u001b[39;49m\u001b[38;5;241;43m3\u001b[39;49m\n\u001b[0;32m     12\u001b[0m         \u001b[38;5;241m-\u001b[39m q_dist[\u001b[38;5;241m4\u001b[39m] \u001b[38;5;241m*\u001b[39m a[(i \u001b[38;5;241m+\u001b[39m \u001b[38;5;241m1\u001b[39m) \u001b[38;5;241m%\u001b[39m k] \u001b[38;5;241m*\u001b[39m a[i]\n\u001b[0;32m     13\u001b[0m     )\n\u001b[0;32m     14\u001b[0m     equations\u001b[38;5;241m.\u001b[39mappend(eq)\n\u001b[0;32m     16\u001b[0m guess \u001b[38;5;241m=\u001b[39m [\u001b[38;5;241m0.5\u001b[39m] \u001b[38;5;241m*\u001b[39m k\n",
      "File \u001b[1;32m~\\AppData\\Local\\Programs\\Python\\Python313\\Lib\\site-packages\\sympy\\core\\decorators.py:236\u001b[0m, in \u001b[0;36m_SympifyWrapper.make_wrapped.<locals>._func\u001b[1;34m(self, other)\u001b[0m\n\u001b[0;32m    234\u001b[0m \u001b[38;5;28;01mif\u001b[39;00m \u001b[38;5;129;01mnot\u001b[39;00m \u001b[38;5;28misinstance\u001b[39m(other, expectedcls):\n\u001b[0;32m    235\u001b[0m     \u001b[38;5;28;01mreturn\u001b[39;00m retval\n\u001b[1;32m--> 236\u001b[0m \u001b[38;5;28;01mreturn\u001b[39;00m \u001b[43mfunc\u001b[49m\u001b[43m(\u001b[49m\u001b[38;5;28;43mself\u001b[39;49m\u001b[43m,\u001b[49m\u001b[43m \u001b[49m\u001b[43mother\u001b[49m\u001b[43m)\u001b[49m\n",
      "File \u001b[1;32m~\\AppData\\Local\\Programs\\Python\\Python313\\Lib\\site-packages\\sympy\\core\\decorators.py:106\u001b[0m, in \u001b[0;36mcall_highest_priority.<locals>.priority_decorator.<locals>.binary_op_wrapper\u001b[1;34m(self, other)\u001b[0m\n\u001b[0;32m    104\u001b[0m         \u001b[38;5;28;01mif\u001b[39;00m f \u001b[38;5;129;01mis\u001b[39;00m \u001b[38;5;129;01mnot\u001b[39;00m \u001b[38;5;28;01mNone\u001b[39;00m:\n\u001b[0;32m    105\u001b[0m             \u001b[38;5;28;01mreturn\u001b[39;00m f(\u001b[38;5;28mself\u001b[39m)\n\u001b[1;32m--> 106\u001b[0m \u001b[38;5;28;01mreturn\u001b[39;00m \u001b[43mfunc\u001b[49m\u001b[43m(\u001b[49m\u001b[38;5;28;43mself\u001b[39;49m\u001b[43m,\u001b[49m\u001b[43m \u001b[49m\u001b[43mother\u001b[49m\u001b[43m)\u001b[49m\n",
      "File \u001b[1;32m~\\AppData\\Local\\Programs\\Python\\Python313\\Lib\\site-packages\\sympy\\core\\expr.py:209\u001b[0m, in \u001b[0;36mExpr.__sub__\u001b[1;34m(self, other)\u001b[0m\n\u001b[0;32m    206\u001b[0m \u001b[38;5;129m@sympify_return\u001b[39m([(\u001b[38;5;124m'\u001b[39m\u001b[38;5;124mother\u001b[39m\u001b[38;5;124m'\u001b[39m, \u001b[38;5;124m'\u001b[39m\u001b[38;5;124mExpr\u001b[39m\u001b[38;5;124m'\u001b[39m)], \u001b[38;5;28mNotImplemented\u001b[39m)\n\u001b[0;32m    207\u001b[0m \u001b[38;5;129m@call_highest_priority\u001b[39m(\u001b[38;5;124m'\u001b[39m\u001b[38;5;124m__rsub__\u001b[39m\u001b[38;5;124m'\u001b[39m)\n\u001b[0;32m    208\u001b[0m \u001b[38;5;28;01mdef\u001b[39;00m \u001b[38;5;21m__sub__\u001b[39m(\u001b[38;5;28mself\u001b[39m, other):\n\u001b[1;32m--> 209\u001b[0m     \u001b[38;5;28;01mreturn\u001b[39;00m \u001b[43mAdd\u001b[49m\u001b[43m(\u001b[49m\u001b[38;5;28;43mself\u001b[39;49m\u001b[43m,\u001b[49m\u001b[43m \u001b[49m\u001b[38;5;241;43m-\u001b[39;49m\u001b[43mother\u001b[49m\u001b[43m)\u001b[49m\n",
      "File \u001b[1;32m~\\AppData\\Local\\Programs\\Python\\Python313\\Lib\\site-packages\\sympy\\core\\cache.py:72\u001b[0m, in \u001b[0;36m__cacheit.<locals>.func_wrapper.<locals>.wrapper\u001b[1;34m(*args, **kwargs)\u001b[0m\n\u001b[0;32m     69\u001b[0m \u001b[38;5;129m@wraps\u001b[39m(func)\n\u001b[0;32m     70\u001b[0m \u001b[38;5;28;01mdef\u001b[39;00m \u001b[38;5;21mwrapper\u001b[39m(\u001b[38;5;241m*\u001b[39margs, \u001b[38;5;241m*\u001b[39m\u001b[38;5;241m*\u001b[39mkwargs):\n\u001b[0;32m     71\u001b[0m     \u001b[38;5;28;01mtry\u001b[39;00m:\n\u001b[1;32m---> 72\u001b[0m         retval \u001b[38;5;241m=\u001b[39m \u001b[43mcfunc\u001b[49m\u001b[43m(\u001b[49m\u001b[38;5;241;43m*\u001b[39;49m\u001b[43margs\u001b[49m\u001b[43m,\u001b[49m\u001b[43m \u001b[49m\u001b[38;5;241;43m*\u001b[39;49m\u001b[38;5;241;43m*\u001b[39;49m\u001b[43mkwargs\u001b[49m\u001b[43m)\u001b[49m\n\u001b[0;32m     73\u001b[0m     \u001b[38;5;28;01mexcept\u001b[39;00m \u001b[38;5;167;01mTypeError\u001b[39;00m \u001b[38;5;28;01mas\u001b[39;00m e:\n\u001b[0;32m     74\u001b[0m         \u001b[38;5;28;01mif\u001b[39;00m \u001b[38;5;129;01mnot\u001b[39;00m e\u001b[38;5;241m.\u001b[39margs \u001b[38;5;129;01mor\u001b[39;00m \u001b[38;5;129;01mnot\u001b[39;00m e\u001b[38;5;241m.\u001b[39margs[\u001b[38;5;241m0\u001b[39m]\u001b[38;5;241m.\u001b[39mstartswith(\u001b[38;5;124m'\u001b[39m\u001b[38;5;124munhashable type:\u001b[39m\u001b[38;5;124m'\u001b[39m):\n",
      "File \u001b[1;32m~\\AppData\\Local\\Programs\\Python\\Python313\\Lib\\site-packages\\sympy\\core\\operations.py:98\u001b[0m, in \u001b[0;36mAssocOp.__new__\u001b[1;34m(cls, evaluate, _sympify, *args)\u001b[0m\n\u001b[0;32m     95\u001b[0m \u001b[38;5;28;01mif\u001b[39;00m \u001b[38;5;28mlen\u001b[39m(args) \u001b[38;5;241m==\u001b[39m \u001b[38;5;241m1\u001b[39m:\n\u001b[0;32m     96\u001b[0m     \u001b[38;5;28;01mreturn\u001b[39;00m args[\u001b[38;5;241m0\u001b[39m]\n\u001b[1;32m---> 98\u001b[0m c_part, nc_part, order_symbols \u001b[38;5;241m=\u001b[39m \u001b[38;5;28;43mcls\u001b[39;49m\u001b[38;5;241;43m.\u001b[39;49m\u001b[43mflatten\u001b[49m\u001b[43m(\u001b[49m\u001b[43margs\u001b[49m\u001b[43m)\u001b[49m\n\u001b[0;32m     99\u001b[0m is_commutative \u001b[38;5;241m=\u001b[39m \u001b[38;5;129;01mnot\u001b[39;00m nc_part\n\u001b[0;32m    100\u001b[0m obj \u001b[38;5;241m=\u001b[39m \u001b[38;5;28mcls\u001b[39m\u001b[38;5;241m.\u001b[39m_from_args(c_part \u001b[38;5;241m+\u001b[39m nc_part, is_commutative)\n",
      "File \u001b[1;32m~\\AppData\\Local\\Programs\\Python\\Python313\\Lib\\site-packages\\sympy\\core\\add.py:335\u001b[0m, in \u001b[0;36mAdd.flatten\u001b[1;34m(cls, seq)\u001b[0m\n\u001b[0;32m    332\u001b[0m             newseq\u001b[38;5;241m.\u001b[39mappend(Mul(c, s, evaluate\u001b[38;5;241m=\u001b[39m\u001b[38;5;28;01mFalse\u001b[39;00m))\n\u001b[0;32m    333\u001b[0m         \u001b[38;5;28;01melse\u001b[39;00m:\n\u001b[0;32m    334\u001b[0m             \u001b[38;5;66;03m# alternatively we have to call all Mul's machinery (slow)\u001b[39;00m\n\u001b[1;32m--> 335\u001b[0m             newseq\u001b[38;5;241m.\u001b[39mappend(\u001b[43mMul\u001b[49m\u001b[43m(\u001b[49m\u001b[43mc\u001b[49m\u001b[43m,\u001b[49m\u001b[43m \u001b[49m\u001b[43ms\u001b[49m\u001b[43m)\u001b[49m)\n\u001b[0;32m    337\u001b[0m     noncommutative \u001b[38;5;241m=\u001b[39m noncommutative \u001b[38;5;129;01mor\u001b[39;00m \u001b[38;5;129;01mnot\u001b[39;00m s\u001b[38;5;241m.\u001b[39mis_commutative\n\u001b[0;32m    339\u001b[0m \u001b[38;5;66;03m# oo, -oo\u001b[39;00m\n",
      "File \u001b[1;32m~\\AppData\\Local\\Programs\\Python\\Python313\\Lib\\site-packages\\sympy\\core\\cache.py:72\u001b[0m, in \u001b[0;36m__cacheit.<locals>.func_wrapper.<locals>.wrapper\u001b[1;34m(*args, **kwargs)\u001b[0m\n\u001b[0;32m     69\u001b[0m \u001b[38;5;129m@wraps\u001b[39m(func)\n\u001b[0;32m     70\u001b[0m \u001b[38;5;28;01mdef\u001b[39;00m \u001b[38;5;21mwrapper\u001b[39m(\u001b[38;5;241m*\u001b[39margs, \u001b[38;5;241m*\u001b[39m\u001b[38;5;241m*\u001b[39mkwargs):\n\u001b[0;32m     71\u001b[0m     \u001b[38;5;28;01mtry\u001b[39;00m:\n\u001b[1;32m---> 72\u001b[0m         retval \u001b[38;5;241m=\u001b[39m \u001b[43mcfunc\u001b[49m\u001b[43m(\u001b[49m\u001b[38;5;241;43m*\u001b[39;49m\u001b[43margs\u001b[49m\u001b[43m,\u001b[49m\u001b[43m \u001b[49m\u001b[38;5;241;43m*\u001b[39;49m\u001b[38;5;241;43m*\u001b[39;49m\u001b[43mkwargs\u001b[49m\u001b[43m)\u001b[49m\n\u001b[0;32m     73\u001b[0m     \u001b[38;5;28;01mexcept\u001b[39;00m \u001b[38;5;167;01mTypeError\u001b[39;00m \u001b[38;5;28;01mas\u001b[39;00m e:\n\u001b[0;32m     74\u001b[0m         \u001b[38;5;28;01mif\u001b[39;00m \u001b[38;5;129;01mnot\u001b[39;00m e\u001b[38;5;241m.\u001b[39margs \u001b[38;5;129;01mor\u001b[39;00m \u001b[38;5;129;01mnot\u001b[39;00m e\u001b[38;5;241m.\u001b[39margs[\u001b[38;5;241m0\u001b[39m]\u001b[38;5;241m.\u001b[39mstartswith(\u001b[38;5;124m'\u001b[39m\u001b[38;5;124munhashable type:\u001b[39m\u001b[38;5;124m'\u001b[39m):\n",
      "File \u001b[1;32m~\\AppData\\Local\\Programs\\Python\\Python313\\Lib\\site-packages\\sympy\\core\\operations.py:101\u001b[0m, in \u001b[0;36mAssocOp.__new__\u001b[1;34m(cls, evaluate, _sympify, *args)\u001b[0m\n\u001b[0;32m     99\u001b[0m is_commutative \u001b[38;5;241m=\u001b[39m \u001b[38;5;129;01mnot\u001b[39;00m nc_part\n\u001b[0;32m    100\u001b[0m obj \u001b[38;5;241m=\u001b[39m \u001b[38;5;28mcls\u001b[39m\u001b[38;5;241m.\u001b[39m_from_args(c_part \u001b[38;5;241m+\u001b[39m nc_part, is_commutative)\n\u001b[1;32m--> 101\u001b[0m obj \u001b[38;5;241m=\u001b[39m \u001b[38;5;28;43mcls\u001b[39;49m\u001b[38;5;241;43m.\u001b[39;49m\u001b[43m_exec_constructor_postprocessors\u001b[49m\u001b[43m(\u001b[49m\u001b[43mobj\u001b[49m\u001b[43m)\u001b[49m\n\u001b[0;32m    103\u001b[0m \u001b[38;5;28;01mif\u001b[39;00m order_symbols \u001b[38;5;129;01mis\u001b[39;00m \u001b[38;5;129;01mnot\u001b[39;00m \u001b[38;5;28;01mNone\u001b[39;00m:\n\u001b[0;32m    104\u001b[0m     \u001b[38;5;28;01mfrom\u001b[39;00m \u001b[38;5;21;01msympy\u001b[39;00m\u001b[38;5;21;01m.\u001b[39;00m\u001b[38;5;21;01mseries\u001b[39;00m\u001b[38;5;21;01m.\u001b[39;00m\u001b[38;5;21;01morder\u001b[39;00m \u001b[38;5;28;01mimport\u001b[39;00m Order\n",
      "File \u001b[1;32m~\\AppData\\Local\\Programs\\Python\\Python313\\Lib\\site-packages\\sympy\\core\\basic.py:2109\u001b[0m, in \u001b[0;36mBasic._exec_constructor_postprocessors\u001b[1;34m(cls, obj)\u001b[0m\n\u001b[0;32m   2103\u001b[0m \u001b[38;5;28;01mtry\u001b[39;00m:\n\u001b[0;32m   2104\u001b[0m     postprocessor_mappings \u001b[38;5;241m=\u001b[39m (\n\u001b[0;32m   2105\u001b[0m         Basic\u001b[38;5;241m.\u001b[39m_constructor_postprocessor_mapping[\u001b[38;5;28mcls\u001b[39m]\u001b[38;5;241m.\u001b[39mitems()\n\u001b[0;32m   2106\u001b[0m         \u001b[38;5;28;01mfor\u001b[39;00m \u001b[38;5;28mcls\u001b[39m \u001b[38;5;129;01min\u001b[39;00m \u001b[38;5;28mtype\u001b[39m(i)\u001b[38;5;241m.\u001b[39mmro()\n\u001b[0;32m   2107\u001b[0m         \u001b[38;5;28;01mif\u001b[39;00m \u001b[38;5;28mcls\u001b[39m \u001b[38;5;129;01min\u001b[39;00m Basic\u001b[38;5;241m.\u001b[39m_constructor_postprocessor_mapping\n\u001b[0;32m   2108\u001b[0m     )\n\u001b[1;32m-> 2109\u001b[0m     \u001b[38;5;28;01mfor\u001b[39;00m k, v \u001b[38;5;129;01min\u001b[39;00m \u001b[43mchain\u001b[49m\u001b[38;5;241;43m.\u001b[39;49m\u001b[43mfrom_iterable\u001b[49m\u001b[43m(\u001b[49m\u001b[43mpostprocessor_mappings\u001b[49m\u001b[43m)\u001b[49m:\n\u001b[0;32m   2110\u001b[0m         postprocessors[k]\u001b[38;5;241m.\u001b[39mextend([j \u001b[38;5;28;01mfor\u001b[39;00m j \u001b[38;5;129;01min\u001b[39;00m v \u001b[38;5;28;01mif\u001b[39;00m j \u001b[38;5;129;01mnot\u001b[39;00m \u001b[38;5;129;01min\u001b[39;00m postprocessors[k]])\n\u001b[0;32m   2111\u001b[0m \u001b[38;5;28;01mexcept\u001b[39;00m \u001b[38;5;167;01mTypeError\u001b[39;00m:\n",
      "\u001b[1;31mKeyboardInterrupt\u001b[0m: "
     ]
    }
   ],
   "source": [
    "P(500, 10)"
   ]
  },
  {
   "cell_type": "code",
   "execution_count": 180,
   "id": "ac616876-7494-4bf5-afe4-307b6779e0a9",
   "metadata": {},
   "outputs": [
    {
     "data": {
      "text/plain": [
       "dict_values([2, 5])"
      ]
     },
     "execution_count": 180,
     "metadata": {},
     "output_type": "execute_result"
    }
   ],
   "source": [
    "a = {1:2, 3:5}\n",
    "a.values()"
   ]
  },
  {
   "cell_type": "code",
   "execution_count": null,
   "id": "38213662-927f-4550-9e0b-048efb9f1e7e",
   "metadata": {},
   "outputs": [],
   "source": []
  }
 ],
 "metadata": {
  "kernelspec": {
   "display_name": "Python 3 (ipykernel)",
   "language": "python",
   "name": "python3"
  },
  "language_info": {
   "codemirror_mode": {
    "name": "ipython",
    "version": 3
   },
   "file_extension": ".py",
   "mimetype": "text/x-python",
   "name": "python",
   "nbconvert_exporter": "python",
   "pygments_lexer": "ipython3",
   "version": "3.13.0"
  }
 },
 "nbformat": 4,
 "nbformat_minor": 5
}
