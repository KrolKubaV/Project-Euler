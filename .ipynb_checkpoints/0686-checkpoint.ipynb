{
 "cells": [
  {
   "cell_type": "markdown",
   "id": "6c97e04e-2611-49ff-b888-9cf4f5677645",
   "metadata": {},
   "source": [
    "# Powers of Two - Problem 686\n",
    "<p>$2^7=128$ is the first power of two whose leading digits are \"12\".<br />\n",
    "The next power of two whose leading digits are \"12\" is $2^{80}$.</p>\n",
    "\n",
    "<p>Define $p(L, n)$ to be the $n$th-smallest value of $j$ such that the base 10 representation of $2^j$ begins with the digits of $L$.<br />\n",
    "So $p(12, 1) = 7$ and $p(12, 2) = 80$.</p>\n",
    "\n",
    "<p>You are also given that $p(123, 45) = 12710$.</p>\n",
    "\n",
    "<p>Find $p(123, 678910)$.</p>"
   ]
  },
  {
   "cell_type": "markdown",
   "id": "25e8b2f8-0392-4cbd-88f9-d730415f2ca6",
   "metadata": {},
   "source": [
    "## Solution.\n",
    "https://math.stackexchange.com/questions/2006159/leading-digits-of-large-power-of-2"
   ]
  },
  {
   "cell_type": "code",
   "execution_count": 16,
   "id": "8ddc8bcc-d964-4848-8af9-d358e84d0cc8",
   "metadata": {},
   "outputs": [],
   "source": [
    "from math import log"
   ]
  },
  {
   "cell_type": "code",
   "execution_count": 55,
   "id": "11eee838-325f-4536-a134-719ac14a4eb6",
   "metadata": {},
   "outputs": [],
   "source": [
    "def p(L, n):\n",
    "    l = len(str(L))\n",
    "    lower = log(L/10**(l-1), 10)\n",
    "    upper = log((L+1)/10**(l-1), 10)\n",
    "\n",
    "    k = 0\n",
    "    while n:\n",
    "        k += 1\n",
    "        a = k*log(2, 10) - int(k*log(2, 10))\n",
    "        if a > lower and a < upper:\n",
    "            n -= 1\n",
    "\n",
    "    return k\n",
    "    "
   ]
  },
  {
   "cell_type": "code",
   "execution_count": 58,
   "id": "fb694768-79af-4d4e-896d-86ec89b15d81",
   "metadata": {},
   "outputs": [
    {
     "ename": "KeyboardInterrupt",
     "evalue": "",
     "output_type": "error",
     "traceback": [
      "\u001b[1;31m---------------------------------------------------------------------------\u001b[0m",
      "\u001b[1;31mKeyboardInterrupt\u001b[0m                         Traceback (most recent call last)",
      "Cell \u001b[1;32mIn[58], line 1\u001b[0m\n\u001b[1;32m----> 1\u001b[0m \u001b[43mp\u001b[49m\u001b[43m(\u001b[49m\u001b[38;5;241;43m123\u001b[39;49m\u001b[43m,\u001b[49m\u001b[43m \u001b[49m\u001b[38;5;241;43m678910\u001b[39;49m\u001b[43m)\u001b[49m\n",
      "Cell \u001b[1;32mIn[55], line 7\u001b[0m, in \u001b[0;36mp\u001b[1;34m(L, n)\u001b[0m\n\u001b[0;32m      4\u001b[0m upper \u001b[38;5;241m=\u001b[39m log((L\u001b[38;5;241m+\u001b[39m\u001b[38;5;241m1\u001b[39m)\u001b[38;5;241m/\u001b[39m\u001b[38;5;241m10\u001b[39m\u001b[38;5;241m*\u001b[39m\u001b[38;5;241m*\u001b[39m(l\u001b[38;5;241m-\u001b[39m\u001b[38;5;241m1\u001b[39m), \u001b[38;5;241m10\u001b[39m)\n\u001b[0;32m      6\u001b[0m k \u001b[38;5;241m=\u001b[39m \u001b[38;5;241m0\u001b[39m\n\u001b[1;32m----> 7\u001b[0m \u001b[38;5;28;01mwhile\u001b[39;00m n:\n\u001b[0;32m      8\u001b[0m     k \u001b[38;5;241m+\u001b[39m\u001b[38;5;241m=\u001b[39m \u001b[38;5;241m1\u001b[39m\n\u001b[0;32m      9\u001b[0m     a \u001b[38;5;241m=\u001b[39m k\u001b[38;5;241m*\u001b[39mlog(\u001b[38;5;241m2\u001b[39m, \u001b[38;5;241m10\u001b[39m) \u001b[38;5;241m-\u001b[39m \u001b[38;5;28mint\u001b[39m(k\u001b[38;5;241m*\u001b[39mlog(\u001b[38;5;241m2\u001b[39m, \u001b[38;5;241m10\u001b[39m))\n",
      "\u001b[1;31mKeyboardInterrupt\u001b[0m: "
     ]
    }
   ],
   "source": [
    "p(123, 678910)"
   ]
  },
  {
   "cell_type": "code",
   "execution_count": null,
   "id": "cfa065ea-289b-4d31-93ba-05ebe7de2edf",
   "metadata": {},
   "outputs": [],
   "source": [
    "def compute(n):\n",
    "    lower = math.log(1.23, 10)\n",
    "    upper = math.log(1.24, 10)\n",
    "    cons = math.log(2,10)\n",
    "    count = 0\n",
    "    j = 0\n",
    "    while count != n:\n",
    "        j += 1\n",
    "        temp = j*cons\n",
    "        if lower < temp - math.floor(temp) < upper:\n",
    "            count += 1\n",
    "    return j"
   ]
  },
  {
   "cell_type": "code",
   "execution_count": null,
   "id": "11098eab-7f24-4ad2-9be9-9c75eceb8544",
   "metadata": {},
   "outputs": [],
   "source": [
    "compute(678910)"
   ]
  },
  {
   "cell_type": "code",
   "execution_count": null,
   "id": "bc602f36-803b-486c-8b08-55880b63a43a",
   "metadata": {},
   "outputs": [],
   "source": []
  },
  {
   "cell_type": "code",
   "execution_count": null,
   "id": "f69bd301-a507-4bcc-ad47-bee532005284",
   "metadata": {},
   "outputs": [],
   "source": []
  },
  {
   "cell_type": "code",
   "execution_count": null,
   "id": "e8feb14c-22ec-4966-a1ba-8f7e071407a8",
   "metadata": {},
   "outputs": [],
   "source": []
  },
  {
   "cell_type": "code",
   "execution_count": null,
   "id": "e3a8ceb9-0204-4926-8522-e3eb4ef4b448",
   "metadata": {},
   "outputs": [],
   "source": []
  },
  {
   "cell_type": "code",
   "execution_count": null,
   "id": "40c1045f-60c3-4e3c-bb4d-5718c9035535",
   "metadata": {},
   "outputs": [],
   "source": []
  },
  {
   "cell_type": "code",
   "execution_count": null,
   "id": "ad1e400c-d6c8-4452-904c-957b68f1f3df",
   "metadata": {},
   "outputs": [],
   "source": []
  }
 ],
 "metadata": {
  "kernelspec": {
   "display_name": "Python 3 (ipykernel)",
   "language": "python",
   "name": "python3"
  },
  "language_info": {
   "codemirror_mode": {
    "name": "ipython",
    "version": 3
   },
   "file_extension": ".py",
   "mimetype": "text/x-python",
   "name": "python",
   "nbconvert_exporter": "python",
   "pygments_lexer": "ipython3",
   "version": "3.12.4"
  }
 },
 "nbformat": 4,
 "nbformat_minor": 5
}
