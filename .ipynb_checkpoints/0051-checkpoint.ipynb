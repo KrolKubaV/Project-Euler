{
 "cells": [
  {
   "cell_type": "markdown",
   "id": "ba677476-0987-4be2-b5ec-c4cdddf60708",
   "metadata": {},
   "source": [
    "# Prime Digit Replacements - Problem 51\n",
    "<p>By replacing the 1<sup>st</sup> digit of the 2-digit number *3, it turns out that six of the nine possible values: 13, 23, 43, 53, 73, and 83, are all prime.</p>\n",
    "<p>By replacing the 3<sup>rd</sup> and 4<sup>th</sup> digits of 56**3 with the same digit, this 5-digit number is the first example having seven primes among the ten generated numbers, yielding the family: 56003, 56113, 56333, 56443, 56663, 56773, and 56993. Consequently 56003, being the first member of this family, is the smallest prime with this property.</p>\n",
    "<p>Find the smallest prime which, by replacing part of the number (not necessarily adjacent digits) with the same digit, is part of an eight prime value family.</p>"
   ]
  },
  {
   "cell_type": "markdown",
   "id": "4e93033f-2d38-4a06-8f12-ac10d91f2fd5",
   "metadata": {},
   "source": [
    "## Solution."
   ]
  },
  {
   "cell_type": "code",
   "execution_count": 76,
   "id": "8c9b01c4-61d4-4bf7-bf38-b5e04dd188da",
   "metadata": {},
   "outputs": [],
   "source": [
    "import numpy as np\n",
    "from primePy import primes\n",
    "from collections import Counter\n",
    "from tqdm import tqdm"
   ]
  },
  {
   "cell_type": "code",
   "execution_count": 28,
   "id": "1949f6c2-952e-4df2-9390-b6239902c24b",
   "metadata": {},
   "outputs": [],
   "source": [
    "def generate_primes(n):\n",
    "    sieve = np.ones(n+1, dtype=bool)\n",
    "    sieve[0:2] = False\n",
    "    for i in range(2, int(n**0.5) + 1):\n",
    "        if sieve[i]:\n",
    "            sieve[i*i:n+1:i] = False\n",
    "    return np.nonzero(sieve)[0]\n",
    "\n",
    "def is_prime(p):\n",
    "    if p <= 1:\n",
    "        return False\n",
    "    if p <= 3:\n",
    "        return True\n",
    "    if p % 2 == 0 or p % 3 == 0:\n",
    "        return False\n",
    "    i = 5\n",
    "    while i * i <= p:\n",
    "        if p % i == 0 or p % (i + 2) == 0:\n",
    "            return False\n",
    "        i += 6\n",
    "    return True"
   ]
  },
  {
   "cell_type": "code",
   "execution_count": 66,
   "id": "340b2f97-69cc-4837-93d8-12e01cd06452",
   "metadata": {},
   "outputs": [],
   "source": [
    "def locate_char(s, char):\n",
    "    return [i for i, c in enumerate(s) if c == char]\n",
    "    \n",
    "def generate_subsets(arr):\n",
    "    if len(arr) == 0:\n",
    "        return [[]]\n",
    "\n",
    "    prev = generate_subsets(arr[1:])\n",
    "    a = arr[0]\n",
    "    new_subsets = [[a] + subset for subset in prev]\n",
    "    return prev + new_subsets\n",
    "\n",
    "\n",
    "def replace_chars(s, index_list, char):\n",
    "    s = list(s) \n",
    "    for idx in index_list:\n",
    "        if 0 <= idx < len(s):\n",
    "            s[idx] = char\n",
    "    return ''.join(s)"
   ]
  },
  {
   "cell_type": "code",
   "execution_count": null,
   "id": "34c47c60-3bb8-4f3d-9f49-e9e014891dd5",
   "metadata": {},
   "outputs": [
    {
     "name": "stderr",
     "output_type": "stream",
     "text": [
      "  2%|█▎                                                                     | 103671/5761455 [00:15<25:36, 3681.68it/s]"
     ]
    }
   ],
   "source": [
    "checked = set()\n",
    "\n",
    "def check(p, k):\n",
    "    checked.add(p)\n",
    "    p_count = Counter(str(p))\n",
    "    for d in p_count:\n",
    "        digit = int(d)\n",
    "        arr = locate_char(str(p), d)\n",
    "\n",
    "        for index_list in generate_subsets(arr):\n",
    "            if index_list != []:\n",
    "                count = 0\n",
    "                if 0 in index_list:\n",
    "                    for i in range(1, 10):\n",
    "                        if is_prime(int(replace_chars(str(p), index_list, str(i)))) == True:\n",
    "                            count += 1\n",
    "                            checked.add(int(replace_chars(str(p), index_list, str(i))))\n",
    "                else:\n",
    "                    for i in range(10):\n",
    "                        if is_prime(int(replace_chars(str(p), index_list, str(i)))) == True:\n",
    "                            count += 1\n",
    "                            checked.add(int(replace_chars(str(p), index_list, str(i))))\n",
    "                if count >= k:\n",
    "                    return True   \n",
    "        \n",
    "    return False\n",
    "        \n",
    "\n",
    "\n",
    "primes = generate_primes(10**8)\n",
    "\n",
    "for p in tqdm(primes):\n",
    "    if p not in checked:\n",
    "        if check(p, 8):\n",
    "            print(p)\n",
    "            break"
   ]
  },
  {
   "cell_type": "code",
   "execution_count": 74,
   "id": "84148fbc-290b-45b3-84fd-6d085fd71328",
   "metadata": {},
   "outputs": [
    {
     "data": {
      "text/plain": [
       "True"
      ]
     },
     "execution_count": 74,
     "metadata": {},
     "output_type": "execute_result"
    }
   ],
   "source": [
    "is_prime(int(replace_chars(str(56003), [2,3], str(1))))"
   ]
  },
  {
   "cell_type": "code",
   "execution_count": 89,
   "id": "23a1bd9f-9c66-4a39-9962-871ddf8b8eac",
   "metadata": {},
   "outputs": [],
   "source": [
    "def check(p):\n",
    "    checked.add(p)\n",
    "    p_count = Counter(str(p))\n",
    "    print(p_count)\n",
    "    for d in p_count:\n",
    "        if d == '0':\n",
    "            digit = int(d)\n",
    "            arr = locate_char(str(p), d)\n",
    "            print(arr)\n",
    "            for index_list in generate_subsets(arr):\n",
    "                if index_list != []:\n",
    "                    print(index_list)\n",
    "                    for i in range(0, 7):\n",
    "                        print(int(replace_chars(str(p), index_list, str(i))))\n",
    "                        if is_prime(int(replace_chars(str(p), index_list, str(i)))) == False:\n",
    "                            print('No')\n",
    "                            break\n",
    "                        else:\n",
    "                            checked.add(int(replace_chars(str(p), index_list, str(i))))\n",
    "                    else:\n",
    "                        return True\n",
    "\n",
    "        if d == '1':\n",
    "            digit = int(d)\n",
    "            arr = locate_char(str(p), d)\n",
    "            for index_list in generate_subsets(arr):\n",
    "                if index_list != []:\n",
    "                    for i in range(1, 8):\n",
    "                        if is_prime(int(replace_chars(str(p), index_list, str(i)))) == False:\n",
    "                            break\n",
    "                        else:\n",
    "                            checked.add(int(replace_chars(str(p), index_list, str(i))))\n",
    "                    else:\n",
    "                        return True\n",
    "\n",
    "\n",
    "        if d == '2':\n",
    "            digit = int(d)\n",
    "            arr = locate_char(str(p), d)\n",
    "            for index_list in generate_subsets(arr):\n",
    "                if index_list != []:\n",
    "                    for i in range(2, 9):\n",
    "                        if is_prime(int(replace_chars(str(p), index_list, str(i)))) == False:\n",
    "                            break\n",
    "                        else:\n",
    "                            checked.add(int(replace_chars(str(p), index_list, str(i))))\n",
    "                    else:\n",
    "                        return True\n",
    "\n",
    "        if d == '3':\n",
    "            digit = int(d)\n",
    "            arr = locate_char(str(p), d)\n",
    "            for index_list in generate_subsets(arr):\n",
    "                if index_list != []:\n",
    "                    for i in range(3, 10):\n",
    "                        if is_prime(int(replace_chars(str(p), index_list, str(i)))) == False:\n",
    "                            break\n",
    "                        else:\n",
    "                            checked.add(int(replace_chars(str(p), index_list, str(i))))\n",
    "                    else:\n",
    "                        return True\n",
    "        \n",
    "    return False"
   ]
  },
  {
   "cell_type": "code",
   "execution_count": 90,
   "id": "9f4c702b-4610-45f8-b279-cf5ff374cb52",
   "metadata": {},
   "outputs": [
    {
     "name": "stdout",
     "output_type": "stream",
     "text": [
      "Counter({'0': 2, '5': 1, '6': 1, '3': 1})\n",
      "[2, 3]\n",
      "[3]\n",
      "56003\n",
      "56013\n",
      "No\n",
      "[2]\n",
      "56003\n",
      "56103\n",
      "No\n",
      "[2, 3]\n",
      "56003\n",
      "56113\n",
      "56223\n",
      "No\n"
     ]
    },
    {
     "data": {
      "text/plain": [
       "False"
      ]
     },
     "execution_count": 90,
     "metadata": {},
     "output_type": "execute_result"
    }
   ],
   "source": [
    "check(56003)"
   ]
  },
  {
   "cell_type": "code",
   "execution_count": null,
   "id": "18d8e8d9-fdaf-49e3-a9e2-ff0a5e5c026e",
   "metadata": {},
   "outputs": [],
   "source": []
  },
  {
   "cell_type": "code",
   "execution_count": null,
   "id": "9e655e5e-087f-4222-9583-8d61eb0e7159",
   "metadata": {},
   "outputs": [],
   "source": []
  },
  {
   "cell_type": "code",
   "execution_count": null,
   "id": "2a3781d5-c793-4d42-be27-48b7c948959d",
   "metadata": {},
   "outputs": [],
   "source": []
  },
  {
   "cell_type": "code",
   "execution_count": null,
   "id": "ec21d07d-53cc-4310-8e4f-b803501d3868",
   "metadata": {},
   "outputs": [],
   "source": []
  },
  {
   "cell_type": "code",
   "execution_count": null,
   "id": "6351358f-dfbb-4381-ac3d-169c6b0861e6",
   "metadata": {},
   "outputs": [],
   "source": []
  },
  {
   "cell_type": "code",
   "execution_count": null,
   "id": "e58dd779-c14a-4fa8-8a99-462a67eff8fb",
   "metadata": {},
   "outputs": [],
   "source": []
  },
  {
   "cell_type": "code",
   "execution_count": null,
   "id": "137892b5-92bf-4c60-91e3-2af5e86d47f8",
   "metadata": {},
   "outputs": [],
   "source": []
  }
 ],
 "metadata": {
  "kernelspec": {
   "display_name": "Python 3 (ipykernel)",
   "language": "python",
   "name": "python3"
  },
  "language_info": {
   "codemirror_mode": {
    "name": "ipython",
    "version": 3
   },
   "file_extension": ".py",
   "mimetype": "text/x-python",
   "name": "python",
   "nbconvert_exporter": "python",
   "pygments_lexer": "ipython3",
   "version": "3.12.4"
  }
 },
 "nbformat": 4,
 "nbformat_minor": 5
}
