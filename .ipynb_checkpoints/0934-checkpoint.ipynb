{
 "cells": [
  {
   "cell_type": "markdown",
   "id": "6f33b511-b1df-4b9d-9a24-599eef23c29d",
   "metadata": {},
   "source": [
    "# Problem 935 - Unlucky Primes\n",
    "<p>We define the <i>unlucky prime</i> of a number $n$, denoted $u(n)$, as the smallest prime number $p$ such that the remainder of $n$ divided by $p$ (i.e. $n \\bmod p$) is not a multiple of seven.<br>\n",
    "For example, $u(14) = 3$, $u(147) = 2$ and $u(1470) = 13$.</p>\n",
    "\n",
    "<p>Let $U(N)$ be the sum $\\sum_{n = 1}^N u(n)$.<br>\n",
    "You are given $U(1470) = 4293$.</p>\n",
    "\n",
    "<p>Find $U(10^{17})$.</p>"
   ]
  },
  {
   "cell_type": "markdown",
   "id": "011fef06-41ce-45e8-94db-8bd82cc571d2",
   "metadata": {},
   "source": [
    "### Solution."
   ]
  },
  {
   "cell_type": "markdown",
   "id": "b3416d23-be18-4dd2-b7e5-f455f45188a1",
   "metadata": {},
   "source": [
    "https://en.wikipedia.org/wiki/Chinese_remainder_theorem"
   ]
  },
  {
   "cell_type": "code",
   "execution_count": 52,
   "id": "96a3c9a0-1908-4df9-bd22-8c37891110e5",
   "metadata": {},
   "outputs": [],
   "source": [
    "from functools import lru_cache, reduce\n",
    "from collections import defaultdict\n",
    "from math import ceil, prod\n",
    "import matplotlib.pyplot as plt\n",
    "from tqdm import tqdm"
   ]
  },
  {
   "cell_type": "code",
   "execution_count": 122,
   "id": "f568d8e2-5ac4-4542-97d9-b3b9868f9066",
   "metadata": {},
   "outputs": [],
   "source": [
    "@lru_cache\n",
    "def extended_gcd(a, b):\n",
    "    if b == 0:\n",
    "        return a, 1, 0\n",
    "    g, x1, y1 = extended_gcd(b, a % b)\n",
    "    return g, y1, x1 - (a // b) * y1\n",
    "\n",
    "@lru_cache\n",
    "def mod_inverse(a, m):\n",
    "    g, x, _ = extended_gcd(a, m)\n",
    "    return x % m if g == 1 else None\n",
    "\n",
    "@lru_cache\n",
    "def solve_chinese(a, n):\n",
    "    if len(n) == 1:\n",
    "        return a[0]%n[0]\n",
    "    \n",
    "    if len(n) == 2:\n",
    "        N = prod(n)  \n",
    "        result = 0\n",
    "\n",
    "        Ni = [N // ni for ni in n]\n",
    "        inv = [mod_inverse(Ni[i], n[i]) for i in range(len(n))]\n",
    "\n",
    "        for ai, Ni_i, inv_i in zip(a, Ni, inv):\n",
    "            result += ai * Ni_i * inv_i\n",
    "        \n",
    "        return result % N\n",
    "\n",
    "    x = solve_chinese(a[:-1], n[:-1])\n",
    "    K = prod(list(n)[:-1])\n",
    "    return solve_chinese((x, a[-1]), (K, n[-1]))\n",
    "\n",
    "\n",
    "def generate_primes(N):\n",
    "    if N < 2:\n",
    "        return []\n",
    "\n",
    "    primes = [True] * (N + 1)\n",
    "    primes[0] = primes[1] = False\n",
    "    \n",
    "    for i in range(2, int(N**0.5) + 1):\n",
    "        if primes[i]:\n",
    "            for j in range(i * i, N + 1, i):\n",
    "                primes[j] = False\n",
    "    \n",
    "    return [i for i, is_prime in enumerate(primes) if is_prime]"
   ]
  },
  {
   "cell_type": "code",
   "execution_count": 123,
   "id": "6f4ba946-5033-4fb1-8dc2-3b52239c70d2",
   "metadata": {},
   "outputs": [],
   "source": [
    "def append_to_tuple(tup, x):\n",
    "    tup = list(tup)\n",
    "    tup.append(x)\n",
    "    return tuple(tup)\n",
    "\n",
    "def modify_last(tup, x):\n",
    "    tup = list(tup)\n",
    "    tup[-1] = x\n",
    "    return tuple(tup)\n"
   ]
  },
  {
   "cell_type": "code",
   "execution_count": 127,
   "id": "537c6917-e4a2-474c-aebb-753bc1f8a7a5",
   "metadata": {},
   "outputs": [],
   "source": [
    "ans = 0\n",
    "primes = generate_primes(1000000)\n",
    "\n",
    "@lru_cache\n",
    "def U(N): \n",
    "    ans = 0\n",
    "    product = 1\n",
    "\n",
    "    queue = [()]\n",
    "    n = ()\n",
    "    f = defaultdict(int)\n",
    "    for p in primes:\n",
    "        product *= p\n",
    "        n = append_to_tuple(n, p)\n",
    "\n",
    "        old = queue.copy()\n",
    "        queue = []\n",
    "\n",
    "        for r in old:\n",
    "            r = append_to_tuple(r, 0)\n",
    "            \n",
    "            for i in range(1, p):\n",
    "                r = modify_last(r, i)\n",
    "                \n",
    "                if i % 7 != 0:\n",
    "                    s = solve_chinese(r, n)\n",
    "\n",
    "                    if s <= N:\n",
    "                        f[p] += N//product\n",
    "                        ans += N//product * p\n",
    "        \n",
    "                        if s <= N % product:\n",
    "                            f[p] += 1\n",
    "                            ans += p\n",
    "                            \n",
    "                    r = modify_last(r , 0)\n",
    "                        \n",
    "                if r not in queue:\n",
    "                    r_n = r\n",
    "                    queue.append(r_n)\n",
    "\n",
    "        if sum(f.values()) == N:\n",
    "            return ans"
   ]
  },
  {
   "cell_type": "code",
   "execution_count": 130,
   "id": "99cfd23a-9a87-461c-8b1f-5821445bca46",
   "metadata": {
    "scrolled": true
   },
   "outputs": [
    {
     "ename": "KeyboardInterrupt",
     "evalue": "",
     "output_type": "error",
     "traceback": [
      "\u001b[1;31m---------------------------------------------------------------------------\u001b[0m",
      "\u001b[1;31mKeyboardInterrupt\u001b[0m                         Traceback (most recent call last)",
      "Cell \u001b[1;32mIn[130], line 1\u001b[0m\n\u001b[1;32m----> 1\u001b[0m \u001b[43mU\u001b[49m\u001b[43m(\u001b[49m\u001b[38;5;241;43m10\u001b[39;49m\u001b[38;5;241;43m*\u001b[39;49m\u001b[38;5;241;43m*\u001b[39;49m\u001b[38;5;241;43m10\u001b[39;49m\u001b[43m)\u001b[49m\n",
      "Cell \u001b[1;32mIn[127], line 23\u001b[0m, in \u001b[0;36mU\u001b[1;34m(N)\u001b[0m\n\u001b[0;32m     20\u001b[0m r \u001b[38;5;241m=\u001b[39m append_to_tuple(r, \u001b[38;5;241m0\u001b[39m)\n\u001b[0;32m     22\u001b[0m \u001b[38;5;28;01mfor\u001b[39;00m i \u001b[38;5;129;01min\u001b[39;00m \u001b[38;5;28mrange\u001b[39m(\u001b[38;5;241m1\u001b[39m, p):\n\u001b[1;32m---> 23\u001b[0m     r \u001b[38;5;241m=\u001b[39m \u001b[43mmodify_last\u001b[49m\u001b[43m(\u001b[49m\u001b[43mr\u001b[49m\u001b[43m,\u001b[49m\u001b[43m \u001b[49m\u001b[43mi\u001b[49m\u001b[43m)\u001b[49m\n\u001b[0;32m     25\u001b[0m     \u001b[38;5;28;01mif\u001b[39;00m i \u001b[38;5;241m%\u001b[39m \u001b[38;5;241m7\u001b[39m \u001b[38;5;241m!=\u001b[39m \u001b[38;5;241m0\u001b[39m:\n\u001b[0;32m     26\u001b[0m         s \u001b[38;5;241m=\u001b[39m solve_chinese(r, n)\n",
      "Cell \u001b[1;32mIn[123], line 6\u001b[0m, in \u001b[0;36mmodify_last\u001b[1;34m(tup, x)\u001b[0m\n\u001b[0;32m      3\u001b[0m     tup\u001b[38;5;241m.\u001b[39mappend(x)\n\u001b[0;32m      4\u001b[0m     \u001b[38;5;28;01mreturn\u001b[39;00m \u001b[38;5;28mtuple\u001b[39m(tup)\n\u001b[1;32m----> 6\u001b[0m \u001b[38;5;28;01mdef\u001b[39;00m \u001b[38;5;21mmodify_last\u001b[39m(tup, x):\n\u001b[0;32m      7\u001b[0m     tup \u001b[38;5;241m=\u001b[39m \u001b[38;5;28mlist\u001b[39m(tup)\n\u001b[0;32m      8\u001b[0m     tup[\u001b[38;5;241m-\u001b[39m\u001b[38;5;241m1\u001b[39m] \u001b[38;5;241m=\u001b[39m x\n",
      "\u001b[1;31mKeyboardInterrupt\u001b[0m: "
     ]
    }
   ],
   "source": [
    "U(10**10)"
   ]
  },
  {
   "cell_type": "code",
   "execution_count": null,
   "id": "f96e6a04-fce9-452b-bf94-1198305e5f7f",
   "metadata": {},
   "outputs": [],
   "source": []
  },
  {
   "cell_type": "code",
   "execution_count": null,
   "id": "bd0eea0a-e6d2-45d8-bcff-decc47a83b61",
   "metadata": {},
   "outputs": [],
   "source": []
  },
  {
   "cell_type": "code",
   "execution_count": null,
   "id": "375c1be1-b25d-4a16-a62c-4052532bda65",
   "metadata": {},
   "outputs": [],
   "source": []
  },
  {
   "cell_type": "code",
   "execution_count": null,
   "id": "11540bde-fe1f-410d-868c-b4fe71ee2442",
   "metadata": {},
   "outputs": [],
   "source": []
  },
  {
   "cell_type": "code",
   "execution_count": null,
   "id": "186fe0dc-d672-4f62-b90a-7c4e102c662d",
   "metadata": {},
   "outputs": [],
   "source": []
  },
  {
   "cell_type": "code",
   "execution_count": null,
   "id": "03fbdaf1-30eb-48dc-bbbb-373048c9d530",
   "metadata": {},
   "outputs": [],
   "source": []
  },
  {
   "cell_type": "markdown",
   "id": "329ed416-3ecf-4a85-bec7-7fa66ae00b06",
   "metadata": {},
   "source": [
    "## Simulation."
   ]
  },
  {
   "cell_type": "code",
   "execution_count": 6,
   "id": "84d8a940-bd75-456e-97d2-bb114792a23b",
   "metadata": {},
   "outputs": [],
   "source": [
    "from sympy import primerange\n",
    "\n",
    "def u(n):\n",
    "    for p in primerange(1, 2*n+1):\n",
    "        if (n % p) % 7 != 0:\n",
    "            return p\n",
    "\n",
    "def U_sim(N):\n",
    "    ans = 0\n",
    "    for n in range(1, N+1):\n",
    "        ans += u(n)\n",
    "    return ans"
   ]
  },
  {
   "cell_type": "code",
   "execution_count": 126,
   "id": "d377ca70-d212-4fae-9c39-477cd700137e",
   "metadata": {
    "scrolled": true
   },
   "outputs": [
    {
     "name": "stderr",
     "output_type": "stream",
     "text": [
      "100%|████████████████████████████████████████████████████████████████████████| 10000/10000 [00:00<00:00, 313658.49it/s]\n"
     ]
    },
    {
     "data": {
      "text/plain": [
       "(29202, defaultdict(int, {2: 5000, 3: 3334, 5: 1333, 7: 286, 11: 39, 13: 8}))"
      ]
     },
     "execution_count": 126,
     "metadata": {},
     "output_type": "execute_result"
    }
   ],
   "source": [
    "freq = defaultdict(int)\n",
    "\n",
    "N = 10**4\n",
    "for n in tqdm(range(1, N+1)):\n",
    "    freq[u(n)] += 1\n",
    "\n",
    "U_sim(n), freq"
   ]
  },
  {
   "cell_type": "code",
   "execution_count": null,
   "id": "d43e1896-8f6d-469c-b1ba-c9f2510e6dde",
   "metadata": {},
   "outputs": [],
   "source": []
  },
  {
   "cell_type": "code",
   "execution_count": null,
   "id": "fdeb9cdc-8508-4308-99d1-7ee9b051b52e",
   "metadata": {},
   "outputs": [],
   "source": []
  },
  {
   "cell_type": "code",
   "execution_count": null,
   "id": "bf3f95ed-772a-41af-9884-4e5abcfb9608",
   "metadata": {},
   "outputs": [],
   "source": []
  },
  {
   "cell_type": "code",
   "execution_count": null,
   "id": "6252bdf0-500f-4084-b3b4-ae7be5b64acd",
   "metadata": {},
   "outputs": [],
   "source": []
  },
  {
   "cell_type": "code",
   "execution_count": null,
   "id": "b881a55c-98dc-4359-b2bb-7e90d6558b13",
   "metadata": {},
   "outputs": [],
   "source": []
  },
  {
   "cell_type": "code",
   "execution_count": null,
   "id": "2c29bc79-b881-4d26-ac43-33edc16825b9",
   "metadata": {},
   "outputs": [],
   "source": []
  },
  {
   "cell_type": "code",
   "execution_count": null,
   "id": "c48370e1-d38d-4ba2-8aaa-6bcc6c077136",
   "metadata": {},
   "outputs": [],
   "source": []
  },
  {
   "cell_type": "code",
   "execution_count": null,
   "id": "d51b9a64-556f-42e8-913c-eee15415d037",
   "metadata": {},
   "outputs": [],
   "source": []
  },
  {
   "cell_type": "code",
   "execution_count": null,
   "id": "152c4ca6-00de-4373-a948-5e4fd9f58a3d",
   "metadata": {},
   "outputs": [],
   "source": []
  }
 ],
 "metadata": {
  "kernelspec": {
   "display_name": "Python 3 (ipykernel)",
   "language": "python",
   "name": "python3"
  },
  "language_info": {
   "codemirror_mode": {
    "name": "ipython",
    "version": 3
   },
   "file_extension": ".py",
   "mimetype": "text/x-python",
   "name": "python",
   "nbconvert_exporter": "python",
   "pygments_lexer": "ipython3",
   "version": "3.13.0"
  }
 },
 "nbformat": 4,
 "nbformat_minor": 5
}
