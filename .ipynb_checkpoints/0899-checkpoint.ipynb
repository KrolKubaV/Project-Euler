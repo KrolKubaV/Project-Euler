{
 "cells": [
  {
   "cell_type": "markdown",
   "id": "c7d52cea-0692-4821-ad1d-8c34a2ac51fc",
   "metadata": {},
   "source": [
    "# DistribuNim I - Problem 899\n",
    "\n",
    "<p>\n",
    "Two players play a game with two piles of stones. The players alternately take stones from one or both piles, subject to:</p>\n",
    "\n",
    "<ol>\n",
    "<li>the total number of stones taken is equal to the size of the smallest pile before the move;</li>\n",
    "\n",
    "<li>the move cannot take all the stones from a pile.</li>\n",
    "</ol>\n",
    "\n",
    "<p>\n",
    "The player that is unable to move loses.</p>\n",
    "\n",
    "<p>\n",
    "For example, if the piles are of sizes 3 and 5 then there are three possible moves.\n",
    "$$(3,5) \\xrightarrow{(2,1)} (1,4)\\qquad\\qquad (3,5) \\xrightarrow{(1,2)} (2,3)\\qquad\\qquad (3,5) \\xrightarrow{(0,3)} (3,2)$$</p>\n",
    "\n",
    "<p>\n",
    "Let $L(n)$ be the number of ordered pairs $(a,b)$ with $1 \\leq a,b \\leq n$ such that the initial game position with piles of sizes $a$ and $b$ is losing for the first player assuming optimal play.</p>\n",
    "\n",
    "<p>\n",
    "You are given $L(7) = 21$ and $L(7^2) = 221$.</p>\n",
    "\n",
    "<p>\n",
    "Find $L(7^{17})$.</p>\n"
   ]
  },
  {
   "cell_type": "markdown",
   "id": "7892aaea-ed3e-419d-973d-a97e71372065",
   "metadata": {},
   "source": [
    "## Solution."
   ]
  },
  {
   "cell_type": "code",
   "execution_count": 1,
   "id": "23228a53-d777-4b6e-af94-9243d2a9ac9c",
   "metadata": {},
   "outputs": [],
   "source": [
    "from functools import cache\n",
    "import numpy as np\n",
    "import matplotlib.pyplot as plt"
   ]
  },
  {
   "cell_type": "code",
   "execution_count": 2,
   "id": "938b5e28-01fe-465d-a0c6-117642762af9",
   "metadata": {},
   "outputs": [],
   "source": [
    "@cache\n",
    "def lose(a, b):\n",
    "    '''\n",
    "    returns True if 1st player loses\n",
    "    '''\n",
    "    if a == 1:\n",
    "        if b%2 == 1:\n",
    "            return True\n",
    "        return False\n",
    "\n",
    "    if b == 1:\n",
    "        if a%2 == 1:\n",
    "            return True\n",
    "        return False\n",
    "        \n",
    "    if a == b:\n",
    "        for i in range(1, a, 1):\n",
    "            if lose(a-i, i) == True:\n",
    "                return False\n",
    "    \n",
    "    elif a < b:\n",
    "        for i in range(a):\n",
    "            if lose(a-i, b-(a-i)) == True:\n",
    "                return False\n",
    "\n",
    "    elif b < a:\n",
    "        for i in range(b):\n",
    "            if lose(a-(b-i), b-i) == True:\n",
    "                return False\n",
    "    \n",
    "    return True\n",
    "    "
   ]
  },
  {
   "cell_type": "code",
   "execution_count": 3,
   "id": "56ad8a6a-686e-4087-89b1-e031553e9b3c",
   "metadata": {},
   "outputs": [],
   "source": [
    "def visualise(n, color1='red', color2='green', border_color='black', border_thickness=0.5):\n",
    "    fig, ax = plt.subplots()\n",
    "\n",
    "    for i in range(n):\n",
    "        for j in range(n):\n",
    "            if lose(i+1, j+1):\n",
    "                color = color1\n",
    "            else:\n",
    "                color = color2\n",
    "            rect = plt.Rectangle((i, j), 1, 1, facecolor=color, edgecolor=border_color, linewidth=border_thickness)\n",
    "            ax.add_patch(rect)\n",
    "    \n",
    "    ax.set_xlim(0, n)\n",
    "    ax.set_ylim(0, n)\n",
    "    ax.set_aspect('equal')\n",
    "    \n",
    "\n",
    "    ax.axis('off')\n",
    "\n",
    "    plt.show()"
   ]
  },
  {
   "cell_type": "code",
   "execution_count": 4,
   "id": "afee49c7-f7e7-4b7e-8356-20a4aa90b8a2",
   "metadata": {},
   "outputs": [
    {
     "data": {
      "image/png": "[encoded data removed]",
      "text/plain": [
       "<Figure size 640x480 with 1 Axes>"
      ]
     },
     "metadata": {},
     "output_type": "display_data"
    }
   ],
   "source": [
    "visualise(75)"
   ]
  },
  {
   "cell_type": "code",
   "execution_count": 18,
   "id": "7b418bc9-4e42-4ba9-b5e2-a1bb620ac415",
   "metadata": {},
   "outputs": [],
   "source": [
    "@cache\n",
    "def sum_between(n):\n",
    "    '''\n",
    "    Finds the number of red squares strictly below the main diagonal between 2^n and 2^(n+1) - 2\n",
    "    '''\n",
    "    if n == 0 or n == 1:\n",
    "        return 0\n",
    "\n",
    "    return 2 * sum_between(n-1) + 2**(n-1) - 1"
   ]
  },
  {
   "cell_type": "code",
   "execution_count": 29,
   "id": "1892d8d6-b3f1-488d-8611-501fc6518999",
   "metadata": {},
   "outputs": [],
   "source": [
    "@cache\n",
    "def partial_sum_between(n, k):\n",
    "    '''\n",
    "    Finds the number of red squares strictly below the main diagonal between 2^n and k where 2^n <= k < 2^(n+1) - 1\n",
    "    '''\n",
    "    k = k - 2**n + 1\n",
    "    l = 1\n",
    "    u = 2**n - 1\n",
    "\n",
    "    \n",
    "\n",
    "    if k == u:\n",
    "        ans += (2**(n+1) - 2)\n",
    "    \n",
    "    return ans"
   ]
  },
  {
   "cell_type": "code",
   "execution_count": 48,
   "id": "1b61731a-b59b-4a69-8948-32e11d1d2858",
   "metadata": {},
   "outputs": [],
   "source": [
    "def L(n):\n",
    "    ans = 0\n",
    "    \n",
    "    k = 0\n",
    "    while 2**(k+1) < n:\n",
    "        ans += 2 * sum_between(k) + 2*(2**(k+1) - 2) + 1\n",
    "        k += 1\n",
    "\n",
    "\n",
    "    \n",
    "    return ans"
   ]
  },
  {
   "cell_type": "code",
   "execution_count": 49,
   "id": "7d74fd37-3bb3-4e53-a1d4-e760b6b320d4",
   "metadata": {},
   "outputs": [
    {
     "data": {
      "text/plain": [
       "6"
      ]
     },
     "execution_count": 49,
     "metadata": {},
     "output_type": "execute_result"
    }
   ],
   "source": [
    "L(7)"
   ]
  }
 ],
 "metadata": {
  "kernelspec": {
   "display_name": "Python 3 (ipykernel)",
   "language": "python",
   "name": "python3"
  },
  "language_info": {
   "codemirror_mode": {
    "name": "ipython",
    "version": 3
   },
   "file_extension": ".py",
   "mimetype": "text/x-python",
   "name": "python",
   "nbconvert_exporter": "python",
   "pygments_lexer": "ipython3",
   "version": "3.12.4"
  }
 },
 "nbformat": 4,
 "nbformat_minor": 5
}
