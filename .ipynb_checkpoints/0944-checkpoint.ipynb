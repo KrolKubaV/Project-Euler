{
 "cells": [
  {
   "cell_type": "markdown",
   "id": "98248d04-e20a-4423-9c2a-64804f138277",
   "metadata": {},
   "source": [
    "# Problem 944 - Sum of Elevisors\n",
    "<p>\n",
    "Given a set $E$ of positive integers, an element $x$ of $E$ is called an <dfn>element divisor (elevisor)</dfn> of $E$ if $x$ divides <b>another</b> element of $E$.</p>\n",
    "\n",
    "<p>\n",
    "The sum of all elevisors of $E$ is denoted $\\operatorname{sev}(E)$.<br>\n",
    "For example, $\\operatorname{sev}(\\{1, 2, 5, 6\\}) = 1 + 2 = 3$.</p>\n",
    "\n",
    "<p>\n",
    "Let $S(n)$ be the sum of $\\operatorname{sev}(E)$ for all subsets $E$ of $\\{1, 2, \\dots, n\\}$.<br>\n",
    "You are given $S(10) = 4927$.</p>\n",
    "\n",
    "<p>\n",
    "Find $S(10^{14}) \\bmod 1234567891$.</p>"
   ]
  },
  {
   "cell_type": "markdown",
   "id": "aafaf570-48dd-4f52-8f01-2e433909a004",
   "metadata": {},
   "source": [
    "## Solution."
   ]
  },
  {
   "cell_type": "code",
   "execution_count": null,
   "id": "6f0a3817-43df-42a7-9e71-270844d35b95",
   "metadata": {},
   "outputs": [],
   "source": [
    "def exp_mod(a, b, mod):\n",
    "    result = 1\n",
    "    a = a % mod \n",
    "    while b > 0:\n",
    "        if b % 2 == 1:\n",
    "            result = (result * a) % mod\n",
    "        a = (a * a) % mod\n",
    "        b //= 2\n",
    "    return result"
   ]
  },
  {
   "cell_type": "code",
   "execution_count": null,
   "id": "a0b989c2-c204-40cd-8133-37a462b761c9",
   "metadata": {},
   "outputs": [],
   "source": [
    "def S1(m, n, mod=1234567891):\n",
    "    return ((n-m+1)%mod) * ((n-m+2)%mod) // 2 % mod"
   ]
  },
  {
   "cell_type": "code",
   "execution_count": null,
   "id": "096601ce-c761-4b05-b04b-8de1b3785ae7",
   "metadata": {},
   "outputs": [],
   "source": [
    "def F(n, mod=1234567891):\n",
    "    k = 1\n",
    "    e = n//k\n",
    "    s = 0\n",
    "    \n",
    "    while e >= 2:\n",
    "        smallest_k = n//(e+1)\n",
    "        biggest_k = n//e -1\n",
    "        print(smallest_k, biggest_k)\n",
    "        s += S1(smallest_k, biggest_k) * 2**(-n//smallest_k)\n",
    "        k = biggest_k + 1\n",
    "        e = n//k\n",
    "\n",
    "    return s\n"
   ]
  },
  {
   "cell_type": "code",
   "execution_count": null,
   "id": "346ddc9a-e890-415a-9d42-cf03dcdb34d3",
   "metadata": {},
   "outputs": [],
   "source": [
    "def E(n, mod=1234567891):\n",
    "    return exp_mod(2, n-1, mod) * (S1(1, n//2) - 2 * F(n)) % mod"
   ]
  },
  {
   "cell_type": "code",
   "execution_count": null,
   "id": "d9c19775-d30e-47c0-a0a5-581a7d50a29b",
   "metadata": {},
   "outputs": [],
   "source": [
    "E(10)"
   ]
  },
  {
   "cell_type": "code",
   "execution_count": 32,
   "id": "ecd0d1e1-d824-42d7-bbbc-c527da3fb0a9",
   "metadata": {},
   "outputs": [
    {
     "name": "stdout",
     "output_type": "stream",
     "text": [
      "1 200\n",
      "2 100\n",
      "3 66\n",
      "4 50\n",
      "5 40\n",
      "6 33\n",
      "7 28\n",
      "8 25\n",
      "9 22\n",
      "10 20\n",
      "11 18\n",
      "12 16\n",
      "13 15\n",
      "14 14\n",
      "15 13\n",
      "16 12\n",
      "17 11\n",
      "18 11\n",
      "19 10\n",
      "20 10\n",
      "21 9\n",
      "22 9\n",
      "23 8\n",
      "24 8\n",
      "25 8\n",
      "26 7\n",
      "27 7\n",
      "28 7\n",
      "29 6\n",
      "30 6\n",
      "31 6\n",
      "32 6\n",
      "33 6\n",
      "34 5\n",
      "35 5\n",
      "36 5\n",
      "37 5\n",
      "38 5\n",
      "39 5\n",
      "40 5\n",
      "41 4\n",
      "42 4\n",
      "43 4\n",
      "44 4\n",
      "45 4\n",
      "46 4\n",
      "47 4\n",
      "48 4\n",
      "49 4\n",
      "50 4\n",
      "51 3\n",
      "52 3\n",
      "53 3\n",
      "54 3\n",
      "55 3\n",
      "56 3\n",
      "57 3\n",
      "58 3\n",
      "59 3\n",
      "60 3\n",
      "61 3\n",
      "62 3\n",
      "63 3\n",
      "64 3\n",
      "65 3\n",
      "66 3\n",
      "67 2\n",
      "68 2\n",
      "69 2\n",
      "70 2\n",
      "71 2\n",
      "72 2\n",
      "73 2\n",
      "74 2\n",
      "75 2\n",
      "76 2\n",
      "77 2\n",
      "78 2\n",
      "79 2\n",
      "80 2\n",
      "81 2\n",
      "82 2\n",
      "83 2\n",
      "84 2\n",
      "85 2\n",
      "86 2\n",
      "87 2\n",
      "88 2\n",
      "89 2\n",
      "90 2\n",
      "91 2\n",
      "92 2\n",
      "93 2\n",
      "94 2\n",
      "95 2\n",
      "96 2\n",
      "97 2\n",
      "98 2\n",
      "99 2\n",
      "100 2\n"
     ]
    }
   ],
   "source": [
    "n = 200\n",
    "for k in range(1, n//2+1, 1):\n",
    "    print(k, n//k)"
   ]
  },
  {
   "cell_type": "code",
   "execution_count": null,
   "id": "df46c805-8961-4f9e-84f9-1a0a8ee8e889",
   "metadata": {},
   "outputs": [],
   "source": []
  },
  {
   "cell_type": "code",
   "execution_count": null,
   "id": "3fa9cfb4-eecd-4076-9ca5-269ee7e31d94",
   "metadata": {},
   "outputs": [],
   "source": []
  },
  {
   "cell_type": "code",
   "execution_count": null,
   "id": "eb203eb1-fcd4-4ae7-94de-72e9fe469399",
   "metadata": {},
   "outputs": [],
   "source": []
  },
  {
   "cell_type": "code",
   "execution_count": null,
   "id": "3c02ee9b-7fec-423c-9cfb-45f39d3d3621",
   "metadata": {},
   "outputs": [],
   "source": []
  },
  {
   "cell_type": "code",
   "execution_count": null,
   "id": "bad50688-05b4-40f1-98bc-1fedc47f4cf2",
   "metadata": {},
   "outputs": [],
   "source": []
  }
 ],
 "metadata": {
  "kernelspec": {
   "display_name": "Python 3 (ipykernel)",
   "language": "python",
   "name": "python3"
  },
  "language_info": {
   "codemirror_mode": {
    "name": "ipython",
    "version": 3
   },
   "file_extension": ".py",
   "mimetype": "text/x-python",
   "name": "python",
   "nbconvert_exporter": "python",
   "pygments_lexer": "ipython3",
   "version": "3.13.0"
  }
 },
 "nbformat": 4,
 "nbformat_minor": 5
}
