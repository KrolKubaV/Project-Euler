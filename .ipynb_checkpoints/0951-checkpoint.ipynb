{
 "cells": [
  {
   "cell_type": "markdown",
   "id": "74446972-ec10-45a8-9464-4d6f6761cc1e",
   "metadata": {},
   "source": [
    "# Problem 951 - A Game of Chance\n",
    "<p>\n",
    "Two players play a game using a deck of $2n$ cards: $n$ red and $n$ black. Initially the deck is shuffled into one of the $\\binom{2n}{n}$ possible starting configurations. Play then proceeds, alternating turns, where a player follows two steps on each turn:</p>\n",
    "\n",
    "<ol>\n",
    "<li>\n",
    "Remove the top card from the deck, taking note of its colour.</li>\n",
    "\n",
    "<li>\n",
    "If there is a next card and it is the same colour as the previous card they toss a fair coin. If the coin lands on heads they remove that card as well; otherwise leave it on top of the deck.</li></ol>\n",
    "\n",
    "<p>\n",
    "The player who removes the final card from the deck wins the game.</p>\n",
    "\n",
    "<p>\n",
    "Some starting configurations give an advantage to one of the players; while some starting configurations are <b>fair</b>, in which both players have exactly $50\\%$ chance to win the game. For example, if $n=2$ there are four starting configurations which are fair: RRBB, BBRR, RBBR, BRRB. The remaining two, RBRB and BRBR, result in a guaranteed win for the second player.</p>\n",
    "\n",
    "<p>\n",
    "Define $F(n)$ to be the number of starting configurations which are fair. Therefore $F(2)=4$. You are also given $F(8)=11892$.</p>\n",
    "\n",
    "<p>\n",
    "Find $F(26)$.</p>\n"
   ]
  },
  {
   "cell_type": "markdown",
   "id": "762f060b-33a7-4785-bde7-dabbdda35162",
   "metadata": {},
   "source": [
    "## Solution."
   ]
  },
  {
   "cell_type": "code",
   "execution_count": 66,
   "id": "19da50a4-df1b-4bb2-ba72-472417dd811d",
   "metadata": {},
   "outputs": [],
   "source": [
    "from functools import cache\n",
    "from math import comb"
   ]
  },
  {
   "cell_type": "code",
   "execution_count": 67,
   "id": "59579e84-767e-468c-90e1-e6f189a9a0ba",
   "metadata": {},
   "outputs": [],
   "source": [
    "def P(word):\n",
    "    '''\n",
    "    Finds probability first player wins\n",
    "    '''\n",
    "    if len(word) == 1:\n",
    "        return 1\n",
    "    if len(word) == 2:\n",
    "        if word == \"RB\" or word == \"BR\":\n",
    "            return 0\n",
    "        return 1/2\n",
    "\n",
    "    if word[0] == word[1]:\n",
    "        return 1 - P(word[1:])/2 - P(word[2:])/2\n",
    "    return 1 - P(word[1:])"
   ]
  },
  {
   "cell_type": "code",
   "execution_count": 68,
   "id": "e88feb2e-d2a3-4a59-8fec-68c87407e19f",
   "metadata": {},
   "outputs": [],
   "source": [
    "def generate_words(R, B):\n",
    "    if R == 0:\n",
    "        return ['B'*B]\n",
    "    if B == 0:\n",
    "        return ['R'*R]\n",
    "    return [x + 'R' for x in generate_words(R-1, B)] + [x + 'B' for x in generate_words(R, B-1)]"
   ]
  },
  {
   "cell_type": "code",
   "execution_count": 69,
   "id": "8ce737d5-fc8a-465a-8729-c5166bc98ee8",
   "metadata": {},
   "outputs": [],
   "source": [
    "def F(R, B):\n",
    "    ans = 0\n",
    "    good = []\n",
    "    for word in generate_words(R, B):\n",
    "        if P(word) == 1/2:\n",
    "            ans += 1\n",
    "            good.append(word)\n",
    "\n",
    "    bad = set(generate_words(R,B)) - set(good)\n",
    "    return ans, sorted(good)"
   ]
  },
  {
   "cell_type": "code",
   "execution_count": 16,
   "id": "53abdd85-2bf9-4a42-bece-b5a470e511fc",
   "metadata": {},
   "outputs": [
    {
     "data": {
      "text/plain": [
       "[2]"
      ]
     },
     "execution_count": 16,
     "metadata": {},
     "output_type": "execute_result"
    }
   ],
   "source": [
    "x = []\n",
    "for l in range(30):\n",
    "    if P('B' * (l+1)) == 1/2:\n",
    "        x.append(l+1)\n",
    "x"
   ]
  },
  {
   "cell_type": "code",
   "execution_count": 76,
   "id": "33158249-aeaa-401f-ab08-6cba62ed1a9b",
   "metadata": {},
   "outputs": [],
   "source": [
    "def dp(R, B, last, l):\n",
    "    if R == 0:\n",
    "        return 0 if B == 2 else 1\n",
    "\n",
    "    if B == 0:\n",
    "        return 0 if R == 2 else 1\n",
    "\n",
    "    if last == 'R':\n",
    "        if l == 1:\n",
    "            return dp(R, B-1, 'B', 1) + dp(R-1, B, 'R', 2)\n",
    "        if l == 2:\n",
    "            return dp(R-1, B, 'R', 3)\n",
    "        return dp(R-1, B, 'R', l + 1) + dp(R, B-1, 'B', 1)\n",
    "\n",
    "    if last == 'B':\n",
    "        if l == 1:\n",
    "            return dp(R, B-1, 'B', 2) + dp(R-1, B, 'R', 1) \n",
    "        if l == 2:\n",
    "            return dp(R, B-1, 'B', 3)\n",
    "        return dp(R, B-1, 'B', l + 1) + dp(R-1, B, 'R', 1)\n",
    "\n",
    "    return dp(R-1, B, 'R', 1) + dp(R, B-1, 'B', 1)\n",
    "\n",
    "def F(R, B):\n",
    "    return comb(R+B, R) - dp(R, B, '', 0)"
   ]
  },
  {
   "cell_type": "code",
   "execution_count": 77,
   "id": "c7fbd050-a410-4b65-8cee-92c5b9711e11",
   "metadata": {},
   "outputs": [
    {
     "data": {
      "text/plain": [
       "11570"
      ]
     },
     "execution_count": 77,
     "metadata": {},
     "output_type": "execute_result"
    }
   ],
   "source": [
    "F(8,8)"
   ]
  },
  {
   "cell_type": "code",
   "execution_count": null,
   "id": "f417f759-d177-4667-a9d4-97c99d4d92a2",
   "metadata": {},
   "outputs": [],
   "source": []
  },
  {
   "cell_type": "code",
   "execution_count": null,
   "id": "1b634592-3d4b-4b4e-9f2a-d064f485590b",
   "metadata": {},
   "outputs": [],
   "source": []
  },
  {
   "cell_type": "code",
   "execution_count": null,
   "id": "e68af186-1d49-47d5-ae82-bc13a0370800",
   "metadata": {},
   "outputs": [],
   "source": []
  },
  {
   "cell_type": "code",
   "execution_count": null,
   "id": "ff10b2cd-5aad-4709-a2f6-72cdc3078ec0",
   "metadata": {},
   "outputs": [],
   "source": []
  },
  {
   "cell_type": "code",
   "execution_count": null,
   "id": "a73b23ca-b93f-4aee-96ca-1e9f7125742f",
   "metadata": {},
   "outputs": [],
   "source": []
  },
  {
   "cell_type": "code",
   "execution_count": null,
   "id": "a6bbac1c-9b0e-491f-8d53-a54b571d25a8",
   "metadata": {},
   "outputs": [],
   "source": []
  }
 ],
 "metadata": {
  "kernelspec": {
   "display_name": "Python 3 (ipykernel)",
   "language": "python",
   "name": "python3"
  },
  "language_info": {
   "codemirror_mode": {
    "name": "ipython",
    "version": 3
   },
   "file_extension": ".py",
   "mimetype": "text/x-python",
   "name": "python",
   "nbconvert_exporter": "python",
   "pygments_lexer": "ipython3",
   "version": "3.13.0"
  }
 },
 "nbformat": 4,
 "nbformat_minor": 5
}
