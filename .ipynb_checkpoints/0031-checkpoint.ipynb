{
 "cells": [
  {
   "cell_type": "markdown",
   "id": "dd0075d7-9625-4ada-9adb-1711103954d7",
   "metadata": {},
   "source": [
    "# Coin Sum - Problem 31\n",
    "<p>In the United Kingdom the currency is made up of pound (£) and pence (p). There are eight coins in general circulation:</p>\n",
    "<blockquote>1p, 2p, 5p, 10p, 20p, 50p, £1 (100p), and £2 (200p).</blockquote>\n",
    "<p>It is possible to make £2 in the following way:</p>\n",
    "<blockquote>1×£1 + 1×50p + 2×20p + 1×5p + 1×2p + 3×1p</blockquote>\n",
    "<p>How many different ways can £2 be made using any number of coins?</p>"
   ]
  },
  {
   "cell_type": "markdown",
   "id": "728a6eb2-7bf8-432e-991d-fa1371ea3785",
   "metadata": {},
   "source": [
    "## Solution."
   ]
  },
  {
   "cell_type": "code",
   "execution_count": 1,
   "id": "cc622a3b-eb55-425f-b3a7-e0cdedc5ace7",
   "metadata": {},
   "outputs": [],
   "source": [
    "from functools import cache"
   ]
  },
  {
   "cell_type": "code",
   "execution_count": 19,
   "id": "2653ac23-c261-4ed3-852f-893641bced46",
   "metadata": {},
   "outputs": [],
   "source": [
    "coins = [1, 2, 5, 10, 20, 50, 100, 200]"
   ]
  },
  {
   "cell_type": "code",
   "execution_count": 27,
   "id": "3efa9c72-e512-4d19-9095-0f31d4e58613",
   "metadata": {},
   "outputs": [],
   "source": [
    "@cache\n",
    "def dp(amount, i):\n",
    "    '''\n",
    "    Enter amount in pence.\n",
    "    coins[i] is the smallest denomination\n",
    "    '''\n",
    "    if amount == 0:\n",
    "        return 1\n",
    "\n",
    "    if amount < 0 or i >= len(coins):\n",
    "        return 0\n",
    "\n",
    "    return dp(amount - coins[i], i) + dp(amount, i+1)"
   ]
  },
  {
   "cell_type": "code",
   "execution_count": 23,
   "id": "c777f348-e0b1-4d37-8429-c98b360ecab3",
   "metadata": {},
   "outputs": [],
   "source": [
    "def sol31(amount):\n",
    "    return dp(amount, 0)"
   ]
  },
  {
   "cell_type": "code",
   "execution_count": 28,
   "id": "f2367412-5101-4634-a8e6-f00ea0170a74",
   "metadata": {},
   "outputs": [
    {
     "data": {
      "text/plain": [
       "73682"
      ]
     },
     "execution_count": 28,
     "metadata": {},
     "output_type": "execute_result"
    }
   ],
   "source": [
    "sol31(200)"
   ]
  }
 ],
 "metadata": {
  "kernelspec": {
   "display_name": "Python 3 (ipykernel)",
   "language": "python",
   "name": "python3"
  },
  "language_info": {
   "codemirror_mode": {
    "name": "ipython",
    "version": 3
   },
   "file_extension": ".py",
   "mimetype": "text/x-python",
   "name": "python",
   "nbconvert_exporter": "python",
   "pygments_lexer": "ipython3",
   "version": "3.12.4"
  }
 },
 "nbformat": 4,
 "nbformat_minor": 5
}
