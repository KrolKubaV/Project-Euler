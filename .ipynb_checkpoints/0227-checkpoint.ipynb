{
 "cells": [
  {
   "cell_type": "markdown",
   "id": "5618c941-ab53-49f4-a324-4bad663ebc78",
   "metadata": {},
   "source": [
    "# The Chase - Problem 227\n",
    "<p><dfn>The Chase</dfn> is a game played with two dice and an even number of players.</p>\n",
    "\n",
    "<p>The players sit around a table and the game begins with two opposite players having one die each. On each turn, the two players with a die roll it.</p>\n",
    "\n",
    "<p>If the player rolls 1, then the die passes to the neighbour on the left.<br />\n",
    "If the player rolls 6, then the die passes to the neighbour on the right.<br />\n",
    "Otherwise, the player keeps the die for the next turn.</p>\n",
    "\n",
    "<p>The game ends when one player has both dice after they have been rolled and passed; that player has then lost.</p>\n",
    "\n",
    "<p>In a game with 100 players, what is the expected number of turns the game lasts?</p>\n",
    "<p>Give your answer rounded to ten significant digits.</p>"
   ]
  },
  {
   "cell_type": "markdown",
   "id": "850c18e1-d2a3-49b5-a4cf-c6bd56e36b80",
   "metadata": {},
   "source": [
    "## Solution."
   ]
  },
  {
   "cell_type": "code",
   "execution_count": 3,
   "id": "f74a0db4-d5aa-48f7-8345-3150225c9de5",
   "metadata": {},
   "outputs": [],
   "source": [
    "def transition_matrix(n):\n",
    "    ''' Gives transition matrix for a game with n=2k players where a state iss a minimal distance between dice'''\n",
    "    k = n//2\n",
    "    P = matrix = np.zeros((k+1, k+1))\n",
    "\n",
    "    P[0, 0] = 1 #absorbing state\n",
    "\n",
    "    l = 1/6\n",
    "    r = 1/6\n",
    "    k = 2/3\n",
    "\n",
    "    for i in range(1, k+1):\n",
    "        P[i, i] += k*k\n",
    "        P[i, i] += l*l\n",
    "        P[i, i] += r*r\n",
    "        P[i, abs(i-2)] += r*l\n",
    "        P[i, min(abs(i+2), 100 - abs(i+2))] = l*r\n",
    "        P[i, i-1] += r*k\n",
    "        P[i, i-1] += k*l\n",
    "        P[i, min(abs(i+1), 100 - abs(i+1))] += l*k\n",
    "        P[i, min(abs(i+1), 100 - abs(i+1))] += k*r\n",
    "        \n",
    "    return P           \n",
    "    "
   ]
  },
  {
   "cell_type": "code",
   "execution_count": 4,
   "id": "082952a2-8680-47d7-b1d4-bedd9c686acc",
   "metadata": {},
   "outputs": [
    {
     "ename": "NameError",
     "evalue": "name 'P' is not defined",
     "output_type": "error",
     "traceback": [
      "\u001b[1;31m---------------------------------------------------------------------------\u001b[0m",
      "\u001b[1;31mNameError\u001b[0m                                 Traceback (most recent call last)",
      "Cell \u001b[1;32mIn[4], line 1\u001b[0m\n\u001b[1;32m----> 1\u001b[0m \u001b[43mP\u001b[49m(\u001b[38;5;241m100\u001b[39m)\n",
      "\u001b[1;31mNameError\u001b[0m: name 'P' is not defined"
     ]
    }
   ],
   "source": [
    "P(100)"
   ]
  },
  {
   "cell_type": "code",
   "execution_count": null,
   "id": "1fee63f4-c343-4adf-a3b1-468114d5c817",
   "metadata": {},
   "outputs": [],
   "source": []
  },
  {
   "cell_type": "code",
   "execution_count": null,
   "id": "ec57bf55-a6f0-4f35-87a8-f49dfb22f5c5",
   "metadata": {},
   "outputs": [],
   "source": []
  },
  {
   "cell_type": "code",
   "execution_count": null,
   "id": "ce7bdbba-c4d1-4547-855f-1fbe0b08fe08",
   "metadata": {},
   "outputs": [],
   "source": []
  },
  {
   "cell_type": "code",
   "execution_count": null,
   "id": "7ccfb370-c6bb-4266-97de-136da2f9933a",
   "metadata": {},
   "outputs": [],
   "source": []
  },
  {
   "cell_type": "code",
   "execution_count": null,
   "id": "c08931bb-9309-47f7-8a99-0bf0c111a304",
   "metadata": {},
   "outputs": [],
   "source": []
  },
  {
   "cell_type": "code",
   "execution_count": null,
   "id": "2c6dbf60-51ad-40de-91b0-384da2e7ba6b",
   "metadata": {},
   "outputs": [],
   "source": []
  },
  {
   "cell_type": "code",
   "execution_count": null,
   "id": "1bb83ed0-0904-4488-a86c-3fbefc3993cb",
   "metadata": {},
   "outputs": [],
   "source": []
  },
  {
   "cell_type": "code",
   "execution_count": null,
   "id": "7bf4ed0e-cf72-41e7-809e-56413d7e5484",
   "metadata": {},
   "outputs": [],
   "source": []
  },
  {
   "cell_type": "code",
   "execution_count": null,
   "id": "9152b380-c7f8-47ee-878b-5a05d23f3aaa",
   "metadata": {},
   "outputs": [],
   "source": []
  },
  {
   "cell_type": "code",
   "execution_count": null,
   "id": "9e1c06a7-1364-4b4f-b7fb-395f0ce13de0",
   "metadata": {},
   "outputs": [],
   "source": []
  }
 ],
 "metadata": {
  "kernelspec": {
   "display_name": "Python 3 (ipykernel)",
   "language": "python",
   "name": "python3"
  },
  "language_info": {
   "codemirror_mode": {
    "name": "ipython",
    "version": 3
   },
   "file_extension": ".py",
   "mimetype": "text/x-python",
   "name": "python",
   "nbconvert_exporter": "python",
   "pygments_lexer": "ipython3",
   "version": "3.12.4"
  }
 },
 "nbformat": 4,
 "nbformat_minor": 5
}
