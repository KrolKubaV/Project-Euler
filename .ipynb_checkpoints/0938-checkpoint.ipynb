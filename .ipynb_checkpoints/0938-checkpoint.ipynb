{
 "cells": [
  {
   "cell_type": "markdown",
   "id": "1e0f09d9-5054-422e-bb4f-6d7d5a902512",
   "metadata": {},
   "source": [
    "# Problem 938 - Exhausting a Colour\n",
    "<p>\n",
    "A deck of cards contains $R$ red cards and $B$ black cards.<br>\n",
    "A card is chosen uniformly randomly from the deck and removed. A second card is then chosen uniformly randomly from the cards remaining and removed.</p>\n",
    "<ul>\n",
    "<li>\n",
    "If both cards are red, they are discarded.</li>\n",
    "<li>\n",
    "If both cards are black, they are both put back in the deck.</li>\n",
    "<li>\n",
    "If they are different colours, the red card is put back in the deck and the black card is discarded.</li></ul>\n",
    "<p>\n",
    "Play ends when all the remaining cards in the deck are the same colour and let $P(R,B)$ be the probability that this colour is black. </p>\n",
    "<p>\n",
    "You are given $P(2,2) = 0.4666666667$, $P(10,9) = 0.4118903397$ and $P(34,25) = 0.3665688069$.</p>\n",
    "<p>\n",
    "Find $P(24690,12345)$. Give your answer with 10 digits after the decimal point.</p>"
   ]
  },
  {
   "cell_type": "markdown",
   "id": "351b89a9-a602-41dc-a98c-09cab202e744",
   "metadata": {},
   "source": [
    "## Solution."
   ]
  },
  {
   "cell_type": "code",
   "execution_count": 1,
   "id": "08d70cbf-fd51-4541-97f3-33b92678d481",
   "metadata": {},
   "outputs": [],
   "source": [
    "from tqdm import tqdm\n",
    "from functools import cache, lru_cache"
   ]
  },
  {
   "cell_type": "code",
   "execution_count": 2,
   "id": "5adb9b00-8af2-425c-a490-aebd0b7edb3c",
   "metadata": {},
   "outputs": [],
   "source": [
    "@lru_cache(None) \n",
    "def P(R, B):\n",
    "    if R == 0:\n",
    "        return 1\n",
    "    if B == 0:\n",
    "        return 0\n",
    "\n",
    "    total = (R+B) * (R+B-1)\n",
    "    return (R*(R-1) * P(R-2, B) + 2*R*B * P(R, B-1))/(total-B*(B-1))"
   ]
  },
  {
   "cell_type": "code",
   "execution_count": null,
   "id": "16678b9c-9a80-435a-af75-77630c1ecbc5",
   "metadata": {},
   "outputs": [
    {
     "name": "stderr",
     "output_type": "stream",
     "text": [
      " 77%|███████████████████████████████████████████████████████████▋                  | 4723/6172 [03:39<01:05, 22.08it/s]"
     ]
    }
   ],
   "source": [
    "for i in tqdm(range(2, 24690, 4)):\n",
    "    for j in range(12345):\n",
    "        x = P(i, j)"
   ]
  },
  {
   "cell_type": "code",
   "execution_count": null,
   "id": "0b91d71b-da5d-48a2-832b-bf4b9d0bde44",
   "metadata": {},
   "outputs": [],
   "source": [
    "P(24690, 12345)"
   ]
  },
  {
   "cell_type": "code",
   "execution_count": null,
   "id": "b0713d52-030a-426b-b214-b9930d2fc713",
   "metadata": {},
   "outputs": [],
   "source": []
  },
  {
   "cell_type": "code",
   "execution_count": null,
   "id": "70f326fd-4d10-4878-9b15-819bd9eabd8c",
   "metadata": {},
   "outputs": [],
   "source": []
  },
  {
   "cell_type": "code",
   "execution_count": null,
   "id": "70f4150f-001a-47f1-a914-8c1b8f6845df",
   "metadata": {},
   "outputs": [],
   "source": []
  },
  {
   "cell_type": "code",
   "execution_count": null,
   "id": "2dced675-ddda-425c-8643-9a76c910a878",
   "metadata": {},
   "outputs": [],
   "source": []
  },
  {
   "cell_type": "code",
   "execution_count": null,
   "id": "30c6475a-55b2-4b22-a8b2-ed6eee8c92de",
   "metadata": {},
   "outputs": [],
   "source": []
  },
  {
   "cell_type": "code",
   "execution_count": null,
   "id": "7e498a6d-3eac-4506-94e9-5f31fa1329a0",
   "metadata": {},
   "outputs": [],
   "source": []
  },
  {
   "cell_type": "code",
   "execution_count": null,
   "id": "779d9da6-e32a-4afe-9698-7cfdebfafd88",
   "metadata": {},
   "outputs": [],
   "source": []
  }
 ],
 "metadata": {
  "kernelspec": {
   "display_name": "Python 3 (ipykernel)",
   "language": "python",
   "name": "python3"
  },
  "language_info": {
   "codemirror_mode": {
    "name": "ipython",
    "version": 3
   },
   "file_extension": ".py",
   "mimetype": "text/x-python",
   "name": "python",
   "nbconvert_exporter": "python",
   "pygments_lexer": "ipython3",
   "version": "3.13.0"
  }
 },
 "nbformat": 4,
 "nbformat_minor": 5
}
