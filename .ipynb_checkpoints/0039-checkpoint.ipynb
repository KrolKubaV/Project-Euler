{
 "cells": [
  {
   "cell_type": "markdown",
   "id": "9bcbf08b-6563-4598-a3e8-bb9c74bc4696",
   "metadata": {},
   "source": [
    "# Integer Right Triangles - Problem 39\n",
    "<p>If $p$ is the perimeter of a right angle triangle with integral length sides, $\\{a, b, c\\}$, there are exactly three solutions for $p = 120$.</p>\n",
    "<p>$\\{20,48,52\\}$, $\\{24,45,51\\}$, $\\{30,40,50\\}$</p>\n",
    "<p>For which value of $p \\le 1000$, is the number of solutions maximised?</p>"
   ]
  },
  {
   "cell_type": "markdown",
   "id": "a90f1d1f-e4b9-4fa1-b1ef-53b581e65da6",
   "metadata": {},
   "source": [
    "## Solution."
   ]
  },
  {
   "cell_type": "code",
   "execution_count": 5,
   "id": "a9e6aa43-ac01-49b9-bbeb-67b20717ca41",
   "metadata": {},
   "outputs": [],
   "source": [
    "import numpy as np\n",
    "from collections import defaultdict"
   ]
  },
  {
   "cell_type": "code",
   "execution_count": 33,
   "id": "4ab7dd87-b807-4e5b-b30d-d84106860289",
   "metadata": {},
   "outputs": [],
   "source": [
    "def generate_primitive_triples(N):\n",
    "    '''\n",
    "    Generate all primitive triples (a, b, c) such that a + b + c <= N.\n",
    "    '''\n",
    "    matrices = [\n",
    "        np.array([[1, -2, 2], [2, -1, 2], [2, -2, 3]]),\n",
    "        np.array([[1, 2, 2], [2, 1, 2], [2, 2, 3]]),\n",
    "        np.array([[-1, 2, 2], [-2, 1, 2], [-2, 2, 3]])\n",
    "    ]\n",
    "\n",
    "    \n",
    "    ans = []\n",
    "    stack = [np.array([3, 4, 5])]\n",
    "    \n",
    "    while stack:\n",
    "        triple = stack.pop()\n",
    "        a, b, c = triple\n",
    "        if a + b + c <= N:\n",
    "            ans.append((int(a), int(b), int(c)))\n",
    "            for matrix in matrices:\n",
    "                new_triple = matrix.dot(triple)\n",
    "                stack.append(new_triple)\n",
    "    \n",
    "    return ans"
   ]
  },
  {
   "cell_type": "code",
   "execution_count": 54,
   "id": "d0729ed8-4107-40aa-bd07-3c2861b7d910",
   "metadata": {},
   "outputs": [],
   "source": [
    "def sol39(p):\n",
    "    '''\n",
    "    Solves the problem for a general bound on the perimeter.\n",
    "    '''\n",
    "    perimeter = defaultdict(set)\n",
    "    triples = generate_primitive_triples(p)\n",
    "\n",
    "    for triple in triples:\n",
    "        a, b, c = triple\n",
    "        x, y, z = a, b, c\n",
    "        k = 1\n",
    "        while x + y + z <= p:\n",
    "            perimeter[x+y+z].add(tuple(sorted((x,y,z))))\n",
    "            k += 1\n",
    "            x = a*k\n",
    "            y = b*k\n",
    "            z = c*k\n",
    "\n",
    "    m = -1\n",
    "    ans = -1 \n",
    "    for p in perimeter:\n",
    "        if len(perimeter[p]) > m:\n",
    "            ans = p\n",
    "            m = len(perimeter[p])\n",
    "\n",
    "    return ans"
   ]
  },
  {
   "cell_type": "code",
   "execution_count": 58,
   "id": "32b79f31-83a2-48a7-a922-f7311404372c",
   "metadata": {},
   "outputs": [
    {
     "data": {
      "text/plain": [
       "720720"
      ]
     },
     "execution_count": 58,
     "metadata": {},
     "output_type": "execute_result"
    }
   ],
   "source": [
    "sol39(1000000)"
   ]
  },
  {
   "cell_type": "code",
   "execution_count": null,
   "id": "c0832a6b-b543-43ed-b201-eb86ced27bbe",
   "metadata": {},
   "outputs": [],
   "source": []
  },
  {
   "cell_type": "code",
   "execution_count": null,
   "id": "447dfca6-f742-42cb-a079-3d95c50139fc",
   "metadata": {},
   "outputs": [],
   "source": []
  },
  {
   "cell_type": "code",
   "execution_count": null,
   "id": "fbff6c67-dd36-4468-a7f7-cf77627fb823",
   "metadata": {},
   "outputs": [],
   "source": []
  },
  {
   "cell_type": "code",
   "execution_count": null,
   "id": "aaa3d083-a8c2-4d00-ba51-bee644cbfe8a",
   "metadata": {},
   "outputs": [],
   "source": []
  },
  {
   "cell_type": "code",
   "execution_count": null,
   "id": "f1de94e5-8aca-4b09-ac69-221101c6bdd5",
   "metadata": {},
   "outputs": [],
   "source": []
  },
  {
   "cell_type": "code",
   "execution_count": null,
   "id": "6ccbff52-ce16-4f36-b470-0e42b60c19f9",
   "metadata": {},
   "outputs": [],
   "source": []
  },
  {
   "cell_type": "code",
   "execution_count": null,
   "id": "42b483a5-bcd9-4d48-9290-bf3d525d25f5",
   "metadata": {},
   "outputs": [],
   "source": []
  },
  {
   "cell_type": "code",
   "execution_count": null,
   "id": "67bb1f92-f026-4f7b-b4b8-8fefe7723a22",
   "metadata": {},
   "outputs": [],
   "source": []
  }
 ],
 "metadata": {
  "kernelspec": {
   "display_name": "Python 3 (ipykernel)",
   "language": "python",
   "name": "python3"
  },
  "language_info": {
   "codemirror_mode": {
    "name": "ipython",
    "version": 3
   },
   "file_extension": ".py",
   "mimetype": "text/x-python",
   "name": "python",
   "nbconvert_exporter": "python",
   "pygments_lexer": "ipython3",
   "version": "3.12.4"
  }
 },
 "nbformat": 4,
 "nbformat_minor": 5
}
