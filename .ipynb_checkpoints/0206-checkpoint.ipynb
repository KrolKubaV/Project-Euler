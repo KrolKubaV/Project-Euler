{
 "cells": [
  {
   "cell_type": "markdown",
   "id": "5585ad5a-3e7f-4469-b176-a694d8af242a",
   "metadata": {},
   "source": [
    "# Concealed square - Problem 206\n",
    "<p>Find the unique positive integer whose square has the form 1_2_3_4_5_6_7_8_9_0, where each “_” is a single digit.</p>"
   ]
  },
  {
   "cell_type": "markdown",
   "id": "90569c67-cb20-41ab-abb3-53d42725258b",
   "metadata": {},
   "source": [
    "## Solution."
   ]
  },
  {
   "cell_type": "code",
   "execution_count": 2,
   "id": "3650f184-8fb5-4d75-98e7-2d208e5c03f2",
   "metadata": {},
   "outputs": [],
   "source": [
    "from math import isqrt"
   ]
  },
  {
   "cell_type": "code",
   "execution_count": 7,
   "id": "656b261e-17d9-42fb-8a81-6996a303b397",
   "metadata": {},
   "outputs": [],
   "source": [
    "def arr_to_num(x):\n",
    "    ans = 0\n",
    "    for i, el in enumerate(x[::-1]):\n",
    "        ans += 10**i * el\n",
    "    return ans"
   ]
  },
  {
   "cell_type": "code",
   "execution_count": 9,
   "id": "4eea67e9-a1a1-4be5-9c86-06a8c365c9ec",
   "metadata": {},
   "outputs": [],
   "source": [
    "x_min = [1, 0, 2, 0, 3, 0, 4, 0, 5, 0, 6, 0, 7, 0, 8, 0, 9, 0, 0]\n",
    "x_max = [1, 9, 2, 9, 3, 9, 4, 9, 5, 9, 6, 9, 7, 9, 8, 9, 9, 8, 0]"
   ]
  },
  {
   "cell_type": "code",
   "execution_count": 12,
   "id": "48e6daff-af5b-442d-9d40-505ab933ab69",
   "metadata": {},
   "outputs": [
    {
     "data": {
      "text/plain": [
       "(1389026623, 1010101010)"
      ]
     },
     "execution_count": 12,
     "metadata": {},
     "output_type": "execute_result"
    }
   ],
   "source": [
    "isqrt(arr_to_num(x_max)), isqrt(arr_to_num(x_min))"
   ]
  },
  {
   "cell_type": "code",
   "execution_count": 22,
   "id": "013cf824-c431-460b-b863-6db0b052f272",
   "metadata": {},
   "outputs": [
    {
     "data": {
      "text/plain": [
       "10203040526252423232100"
      ]
     },
     "execution_count": 22,
     "metadata": {},
     "output_type": "execute_result"
    }
   ],
   "source": [
    "10101010110**2"
   ]
  },
  {
   "cell_type": "code",
   "execution_count": null,
   "id": "dd2467db-593a-4800-8627-6c70b05b9882",
   "metadata": {},
   "outputs": [],
   "source": []
  },
  {
   "cell_type": "code",
   "execution_count": null,
   "id": "68576e27-2093-4130-9574-f38b6f30a36b",
   "metadata": {},
   "outputs": [],
   "source": []
  },
  {
   "cell_type": "code",
   "execution_count": null,
   "id": "943d731d-8b01-45e1-9582-3286d7677969",
   "metadata": {},
   "outputs": [],
   "source": []
  },
  {
   "cell_type": "code",
   "execution_count": null,
   "id": "77148244-8a21-438a-93da-e5c6e9aecaea",
   "metadata": {},
   "outputs": [],
   "source": []
  },
  {
   "cell_type": "code",
   "execution_count": null,
   "id": "def8e0cc-996b-4f6a-bac0-c02d73491d21",
   "metadata": {},
   "outputs": [],
   "source": []
  },
  {
   "cell_type": "code",
   "execution_count": null,
   "id": "3b8e527d-f120-46ab-b572-18249df2d10a",
   "metadata": {},
   "outputs": [],
   "source": []
  },
  {
   "cell_type": "code",
   "execution_count": null,
   "id": "9e781674-806f-41f9-bca4-c00aa9aaf7f2",
   "metadata": {},
   "outputs": [],
   "source": []
  },
  {
   "cell_type": "code",
   "execution_count": null,
   "id": "e5a187a5-17b8-4d06-ac0f-c3313e026c7b",
   "metadata": {},
   "outputs": [],
   "source": []
  },
  {
   "cell_type": "code",
   "execution_count": null,
   "id": "c24f8dcd-c7ef-4cbd-9d1e-9f0a0b5e4e8e",
   "metadata": {},
   "outputs": [],
   "source": []
  },
  {
   "cell_type": "code",
   "execution_count": null,
   "id": "f0696504-0f2b-4638-a5f0-ebda97a8ac32",
   "metadata": {},
   "outputs": [],
   "source": []
  },
  {
   "cell_type": "code",
   "execution_count": null,
   "id": "bd2b43e1-1a7a-4fc2-a447-47b9d557ae3f",
   "metadata": {},
   "outputs": [],
   "source": []
  },
  {
   "cell_type": "code",
   "execution_count": null,
   "id": "d049675e-3b89-43e9-bd4a-98d564a56b1b",
   "metadata": {},
   "outputs": [],
   "source": []
  },
  {
   "cell_type": "code",
   "execution_count": null,
   "id": "6ea522c2-7062-41d9-a045-c261d2a869da",
   "metadata": {},
   "outputs": [],
   "source": []
  },
  {
   "cell_type": "code",
   "execution_count": null,
   "id": "8d815c29-5b6c-43bf-8a9a-b4e264c6f97f",
   "metadata": {},
   "outputs": [],
   "source": []
  },
  {
   "cell_type": "code",
   "execution_count": null,
   "id": "8d0115c3-f9ce-4a55-a3cf-558c36c4035f",
   "metadata": {},
   "outputs": [],
   "source": []
  },
  {
   "cell_type": "code",
   "execution_count": null,
   "id": "b558d398-0468-43ce-8a17-ea049fd0a166",
   "metadata": {},
   "outputs": [],
   "source": []
  },
  {
   "cell_type": "code",
   "execution_count": null,
   "id": "7668d885-560d-49dd-bbc4-23f10d2efe45",
   "metadata": {},
   "outputs": [],
   "source": []
  },
  {
   "cell_type": "code",
   "execution_count": null,
   "id": "5a27fbbb-f32b-4447-b991-c5a39e10d770",
   "metadata": {},
   "outputs": [],
   "source": []
  },
  {
   "cell_type": "code",
   "execution_count": null,
   "id": "1f3969e8-8e71-4593-b92c-c615f7b26667",
   "metadata": {},
   "outputs": [],
   "source": []
  }
 ],
 "metadata": {
  "kernelspec": {
   "display_name": "Python 3 (ipykernel)",
   "language": "python",
   "name": "python3"
  },
  "language_info": {
   "codemirror_mode": {
    "name": "ipython",
    "version": 3
   },
   "file_extension": ".py",
   "mimetype": "text/x-python",
   "name": "python",
   "nbconvert_exporter": "python",
   "pygments_lexer": "ipython3",
   "version": "3.12.4"
  }
 },
 "nbformat": 4,
 "nbformat_minor": 5
}
