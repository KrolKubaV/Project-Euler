{
 "cells": [
  {
   "cell_type": "markdown",
   "id": "6ef15b93-5d4e-4599-b177-fe51ba2cdbee",
   "metadata": {},
   "source": [
    "# Number Splitting - Problem 719\n",
    "<p>\n",
    "We define an $S$-number to be a natural number, $n$, that is a perfect square and its square root can be obtained by splitting the decimal representation of $n$ into $2$ or more numbers then adding the numbers.\n",
    "</p>\n",
    "<p>\n",
    "For example, $81$ is an $S$-number because $\\sqrt{81} = 8+1$.<br>\n",
    "$6724$ is an $S$-number: $\\sqrt{6724} = 6+72+4$. <br>\n",
    "$8281$ is an $S$-number: $\\sqrt{8281} = 8+2+81 = 82+8+1$.<br>\n",
    "$9801$ is an $S$-number: $\\sqrt{9801}=98+0+1$.\n",
    "</p>\n",
    "<p>\n",
    "Further we define $T(N)$ to be the sum of all $S$ numbers $n\\le N$. You are given $T(10^4) = 41333$.\n",
    "</p>\n",
    "<p>\n",
    "Find $T(10^{12})$.\n",
    "</p>"
   ]
  },
  {
   "cell_type": "markdown",
   "id": "1f790aa1-59f5-4796-9c3a-e41089dab530",
   "metadata": {},
   "source": [
    "## Solution."
   ]
  },
  {
   "cell_type": "code",
   "execution_count": 143,
   "id": "52c6db6b-d295-4f57-8f04-bfcc736c8212",
   "metadata": {},
   "outputs": [],
   "source": [
    "from math import isqrt"
   ]
  },
  {
   "cell_type": "code",
   "execution_count": 190,
   "id": "fd82bbf3-76ef-4cc1-85f0-5695c0455f09",
   "metadata": {},
   "outputs": [],
   "source": [
    "def can_make(n, k):\n",
    "    '''\n",
    "    Checks if you can make k from n by splitting n.\n",
    "    n - string\n",
    "    k - integer\n",
    "    '''\n",
    "    k = int(n)\n",
    "    \n",
    "    if k < 0:\n",
    "        return False\n",
    "    if n == ''\n",
    "\n",
    "    l = len(n)\n",
    "    \n",
    "    for i in range(1, l, 1):\n",
    "        if can_make(n[:i], k - int(n[i:])):\n",
    "            return True\n",
    "    return False"
   ]
  },
  {
   "cell_type": "code",
   "execution_count": 176,
   "id": "d07f663a-61e3-4d5a-927b-1796a29767c1",
   "metadata": {},
   "outputs": [],
   "source": [
    "def sol719(N):\n",
    "    ans = 0\n",
    "    for k in range(2, isqrt(N)+1, 1):\n",
    "        if can_make(str(k**2), k):\n",
    "            ans += k**2\n",
    "    return ans"
   ]
  },
  {
   "cell_type": "code",
   "execution_count": 195,
   "id": "fd314e46-f214-4187-ab59-733fd0908b15",
   "metadata": {},
   "outputs": [
    {
     "ename": "KeyboardInterrupt",
     "evalue": "",
     "output_type": "error",
     "traceback": [
      "\u001b[1;31m---------------------------------------------------------------------------\u001b[0m",
      "\u001b[1;31mKeyboardInterrupt\u001b[0m                         Traceback (most recent call last)",
      "Cell \u001b[1;32mIn[195], line 1\u001b[0m\n\u001b[1;32m----> 1\u001b[0m \u001b[43msol719\u001b[49m\u001b[43m(\u001b[49m\u001b[38;5;241;43m10\u001b[39;49m\u001b[38;5;241;43m*\u001b[39;49m\u001b[38;5;241;43m*\u001b[39;49m\u001b[38;5;241;43m12\u001b[39;49m\u001b[43m)\u001b[49m\n",
      "Cell \u001b[1;32mIn[176], line 4\u001b[0m, in \u001b[0;36msol719\u001b[1;34m(N)\u001b[0m\n\u001b[0;32m      2\u001b[0m ans \u001b[38;5;241m=\u001b[39m \u001b[38;5;241m0\u001b[39m\n\u001b[0;32m      3\u001b[0m \u001b[38;5;28;01mfor\u001b[39;00m k \u001b[38;5;129;01min\u001b[39;00m \u001b[38;5;28mrange\u001b[39m(\u001b[38;5;241m2\u001b[39m, isqrt(N)\u001b[38;5;241m+\u001b[39m\u001b[38;5;241m1\u001b[39m, \u001b[38;5;241m1\u001b[39m):\n\u001b[1;32m----> 4\u001b[0m     \u001b[38;5;28;01mif\u001b[39;00m \u001b[43mcan_make\u001b[49m\u001b[43m(\u001b[49m\u001b[38;5;28;43mstr\u001b[39;49m\u001b[43m(\u001b[49m\u001b[43mk\u001b[49m\u001b[38;5;241;43m*\u001b[39;49m\u001b[38;5;241;43m*\u001b[39;49m\u001b[38;5;241;43m2\u001b[39;49m\u001b[43m)\u001b[49m\u001b[43m,\u001b[49m\u001b[43m \u001b[49m\u001b[43mk\u001b[49m\u001b[43m)\u001b[49m:\n\u001b[0;32m      5\u001b[0m         ans \u001b[38;5;241m+\u001b[39m\u001b[38;5;241m=\u001b[39m k\u001b[38;5;241m*\u001b[39m\u001b[38;5;241m*\u001b[39m\u001b[38;5;241m2\u001b[39m\n\u001b[0;32m      6\u001b[0m \u001b[38;5;28;01mreturn\u001b[39;00m ans\n",
      "Cell \u001b[1;32mIn[190], line 29\u001b[0m, in \u001b[0;36mcan_make\u001b[1;34m(n, k, memo)\u001b[0m\n\u001b[0;32m     27\u001b[0m left \u001b[38;5;241m=\u001b[39m n[:i]\n\u001b[0;32m     28\u001b[0m right \u001b[38;5;241m=\u001b[39m n[i:]\n\u001b[1;32m---> 29\u001b[0m \u001b[38;5;28;01mif\u001b[39;00m \u001b[43mcan_make\u001b[49m\u001b[43m(\u001b[49m\u001b[43mleft\u001b[49m\u001b[43m,\u001b[49m\u001b[43m \u001b[49m\u001b[43mk\u001b[49m\u001b[43m \u001b[49m\u001b[38;5;241;43m-\u001b[39;49m\u001b[43m \u001b[49m\u001b[38;5;28;43mint\u001b[39;49m\u001b[43m(\u001b[49m\u001b[43mright\u001b[49m\u001b[43m)\u001b[49m\u001b[43m,\u001b[49m\u001b[43m \u001b[49m\u001b[43mmemo\u001b[49m\u001b[43m)\u001b[49m:\n\u001b[0;32m     30\u001b[0m     memo[(n, k)] \u001b[38;5;241m=\u001b[39m \u001b[38;5;28;01mTrue\u001b[39;00m\n\u001b[0;32m     31\u001b[0m     \u001b[38;5;28;01mreturn\u001b[39;00m \u001b[38;5;28;01mTrue\u001b[39;00m\n",
      "Cell \u001b[1;32mIn[190], line 29\u001b[0m, in \u001b[0;36mcan_make\u001b[1;34m(n, k, memo)\u001b[0m\n\u001b[0;32m     27\u001b[0m left \u001b[38;5;241m=\u001b[39m n[:i]\n\u001b[0;32m     28\u001b[0m right \u001b[38;5;241m=\u001b[39m n[i:]\n\u001b[1;32m---> 29\u001b[0m \u001b[38;5;28;01mif\u001b[39;00m \u001b[43mcan_make\u001b[49m\u001b[43m(\u001b[49m\u001b[43mleft\u001b[49m\u001b[43m,\u001b[49m\u001b[43m \u001b[49m\u001b[43mk\u001b[49m\u001b[43m \u001b[49m\u001b[38;5;241;43m-\u001b[39;49m\u001b[43m \u001b[49m\u001b[38;5;28;43mint\u001b[39;49m\u001b[43m(\u001b[49m\u001b[43mright\u001b[49m\u001b[43m)\u001b[49m\u001b[43m,\u001b[49m\u001b[43m \u001b[49m\u001b[43mmemo\u001b[49m\u001b[43m)\u001b[49m:\n\u001b[0;32m     30\u001b[0m     memo[(n, k)] \u001b[38;5;241m=\u001b[39m \u001b[38;5;28;01mTrue\u001b[39;00m\n\u001b[0;32m     31\u001b[0m     \u001b[38;5;28;01mreturn\u001b[39;00m \u001b[38;5;28;01mTrue\u001b[39;00m\n",
      "    \u001b[1;31m[... skipping similar frames: can_make at line 29 (2 times)]\u001b[0m\n",
      "Cell \u001b[1;32mIn[190], line 29\u001b[0m, in \u001b[0;36mcan_make\u001b[1;34m(n, k, memo)\u001b[0m\n\u001b[0;32m     27\u001b[0m left \u001b[38;5;241m=\u001b[39m n[:i]\n\u001b[0;32m     28\u001b[0m right \u001b[38;5;241m=\u001b[39m n[i:]\n\u001b[1;32m---> 29\u001b[0m \u001b[38;5;28;01mif\u001b[39;00m \u001b[43mcan_make\u001b[49m\u001b[43m(\u001b[49m\u001b[43mleft\u001b[49m\u001b[43m,\u001b[49m\u001b[43m \u001b[49m\u001b[43mk\u001b[49m\u001b[43m \u001b[49m\u001b[38;5;241;43m-\u001b[39;49m\u001b[43m \u001b[49m\u001b[38;5;28;43mint\u001b[39;49m\u001b[43m(\u001b[49m\u001b[43mright\u001b[49m\u001b[43m)\u001b[49m\u001b[43m,\u001b[49m\u001b[43m \u001b[49m\u001b[43mmemo\u001b[49m\u001b[43m)\u001b[49m:\n\u001b[0;32m     30\u001b[0m     memo[(n, k)] \u001b[38;5;241m=\u001b[39m \u001b[38;5;28;01mTrue\u001b[39;00m\n\u001b[0;32m     31\u001b[0m     \u001b[38;5;28;01mreturn\u001b[39;00m \u001b[38;5;28;01mTrue\u001b[39;00m\n",
      "Cell \u001b[1;32mIn[190], line 1\u001b[0m, in \u001b[0;36mcan_make\u001b[1;34m(n, k, memo)\u001b[0m\n\u001b[1;32m----> 1\u001b[0m \u001b[38;5;28;01mdef\u001b[39;00m \u001b[38;5;21mcan_make\u001b[39m(n, k, memo\u001b[38;5;241m=\u001b[39m\u001b[38;5;28;01mNone\u001b[39;00m):\n\u001b[0;32m      2\u001b[0m \u001b[38;5;250m    \u001b[39m\u001b[38;5;124;03m'''\u001b[39;00m\n\u001b[0;32m      3\u001b[0m \u001b[38;5;124;03m    Checks if you can make k from n by splitting n.\u001b[39;00m\n\u001b[0;32m      4\u001b[0m \u001b[38;5;124;03m    n - string\u001b[39;00m\n\u001b[0;32m      5\u001b[0m \u001b[38;5;124;03m    k - integer\u001b[39;00m\n\u001b[0;32m      6\u001b[0m \u001b[38;5;124;03m    memo - dictionary for memoization\u001b[39;00m\n\u001b[0;32m      7\u001b[0m \u001b[38;5;124;03m    '''\u001b[39;00m\n\u001b[0;32m      8\u001b[0m     \u001b[38;5;28;01mif\u001b[39;00m memo \u001b[38;5;129;01mis\u001b[39;00m \u001b[38;5;28;01mNone\u001b[39;00m:\n",
      "\u001b[1;31mKeyboardInterrupt\u001b[0m: "
     ]
    }
   ],
   "source": [
    "sol719(10**12)"
   ]
  },
  {
   "cell_type": "code",
   "execution_count": null,
   "id": "93ce49f2-1a0b-4815-9954-2449f4b9042a",
   "metadata": {},
   "outputs": [],
   "source": []
  },
  {
   "cell_type": "code",
   "execution_count": 184,
   "id": "6723fcaf-4f63-441b-ba27-22c88117c75f",
   "metadata": {},
   "outputs": [
    {
     "name": "stdout",
     "output_type": "stream",
     "text": [
      "True\n"
     ]
    }
   ],
   "source": []
  }
 ],
 "metadata": {
  "kernelspec": {
   "display_name": "Python 3 (ipykernel)",
   "language": "python",
   "name": "python3"
  },
  "language_info": {
   "codemirror_mode": {
    "name": "ipython",
    "version": 3
   },
   "file_extension": ".py",
   "mimetype": "text/x-python",
   "name": "python",
   "nbconvert_exporter": "python",
   "pygments_lexer": "ipython3",
   "version": "3.12.4"
  }
 },
 "nbformat": 4,
 "nbformat_minor": 5
}
