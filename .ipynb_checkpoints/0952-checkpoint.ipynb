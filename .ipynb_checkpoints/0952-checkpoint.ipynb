{
 "cells": [
  {
   "cell_type": "markdown",
   "id": "d62bac64-d1ed-42d3-b0fc-c14563636159",
   "metadata": {},
   "source": [
    "# Problem 952 - Order Modulo Factorial\n",
    "<p>\n",
    "Given a prime $p$ and a positive integer $n \\lt p$, let $R(p, n)$ be the <b>multiplicative order</b> of $p$ modulo $n!$.<br>\n",
    "In other words, $R(p, n)$ is the minimal positive integer $r$ such that</p>\n",
    "\n",
    "$$p^r \\equiv 1 \\pmod{n!}$$\n",
    "\n",
    "<p>\n",
    "For example, $R(7, 4) = 2$ and $R(10^9 + 7, 12) = 17280$.</p>\n",
    "\n",
    "<p>\n",
    "Find $R(10^9 + 7, 10^7)$. Give your answer modulo $10^9 + 7$.</p>\n",
    "\n",
    "## Solution."
   ]
  },
  {
   "cell_type": "code",
   "execution_count": null,
   "id": "1ed02bdf-6b09-4550-bf60-e61327760ffb",
   "metadata": {},
   "outputs": [],
   "source": [
    "from math import gcd\n",
    "from sympy.ntheory import divisors, primerange\n",
    "from functools import reduce\n",
    "from math import lcm"
   ]
  },
  {
   "cell_type": "code",
   "execution_count": 49,
   "id": "60b98df5-b291-4d04-b463-35d444d11ab7",
   "metadata": {},
   "outputs": [],
   "source": [
    "\n",
    "\n",
    "MOD = 10**9 + 7\n",
    "\n",
    "def v_factorial(p, n):\n",
    "    v = 0\n",
    "    while n:\n",
    "        n //= p\n",
    "        v += n\n",
    "    return v\n",
    "\n",
    "def ord_mod_prime_power(a, q, e):\n",
    "    if gcd(a, q) != 1:\n",
    "        return 0\n",
    "    m = (q - 1) * (q ** (e - 1))\n",
    "    for d in sorted(divisors(m)):\n",
    "        if pow(a, d, q ** e) == 1:\n",
    "            return d\n",
    "    return m\n",
    "\n",
    "def R(p, n, mod=MOD):\n",
    "    orders = []\n",
    "    for q in primerange(2, n + 1):\n",
    "        e = v_factorial(q, n)\n",
    "        orders.append(ord_mod_prime_power(p, q, e))\n",
    "    result = 1\n",
    "    for o in orders:\n",
    "        result = lcm(result, o) % mod\n",
    "    return result\n"
   ]
  },
  {
   "cell_type": "code",
   "execution_count": 51,
   "id": "afa50863-e867-4d78-b3cc-ea396cd5140d",
   "metadata": {},
   "outputs": [
    {
     "name": "stderr",
     "output_type": "stream",
     "text": [
      "\n",
      "KeyboardInterrupt\n",
      "\n"
     ]
    }
   ],
   "source": [
    "R(10**9+7, 10**7)"
   ]
  },
  {
   "cell_type": "code",
   "execution_count": null,
   "id": "f6aa6102-23f3-4848-95d1-ac69987c064f",
   "metadata": {},
   "outputs": [],
   "source": []
  }
 ],
 "metadata": {
  "kernelspec": {
   "display_name": "Python 3 (ipykernel)",
   "language": "python",
   "name": "python3"
  },
  "language_info": {
   "codemirror_mode": {
    "name": "ipython",
    "version": 3
   },
   "file_extension": ".py",
   "mimetype": "text/x-python",
   "name": "python",
   "nbconvert_exporter": "python",
   "pygments_lexer": "ipython3",
   "version": "3.13.0"
  }
 },
 "nbformat": 4,
 "nbformat_minor": 5
}
