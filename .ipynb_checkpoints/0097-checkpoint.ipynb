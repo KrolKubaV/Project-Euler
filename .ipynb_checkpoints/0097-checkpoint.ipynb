{
 "cells": [
  {
   "cell_type": "markdown",
   "id": "29885d69-1597-4ea2-8620-43f9c31c6a68",
   "metadata": {},
   "source": [
    "# Large Non-Mersenne Prime - Problem 97\n",
    "<p>The first known prime found to exceed one million digits was discovered in 1999, and is a Mersenne prime of the form $2^{6972593} - 1$; it contains exactly $2\\,098\\,960$ digits. Subsequently other Mersenne primes, of the form $2^p - 1$, have been found which contain more digits.</p>\n",
    "<p>However, in 2004 there was found a massive non-Mersenne prime which contains $2\\,357\\,207$ digits: $28433 \\times 2^{7830457} + 1$.</p>\n",
    "<p>Find the last ten digits of this prime number.</p>"
   ]
  },
  {
   "cell_type": "markdown",
   "id": "a665c506-890c-470f-a271-e5c41ab88718",
   "metadata": {},
   "source": [
    "## Solution."
   ]
  },
  {
   "cell_type": "code",
   "execution_count": 3,
   "id": "03baa6d0-69fa-4739-b3dc-745906e67885",
   "metadata": {},
   "outputs": [],
   "source": [
    "def mod_exp(a, b, n):\n",
    "    result = 1\n",
    "    a = a % n \n",
    "    \n",
    "    while b > 0:\n",
    "        if (b % 2) == 1: \n",
    "            result = (result * a) % n\n",
    "        b = b >> 1\n",
    "        a = (a * a) % n\n",
    "    \n",
    "    return result"
   ]
  },
  {
   "cell_type": "code",
   "execution_count": 4,
   "id": "ff0532a4-695e-4047-ac8d-0555c971b4d5",
   "metadata": {},
   "outputs": [
    {
     "data": {
      "text/plain": [
       "8739992577"
      ]
     },
     "execution_count": 4,
     "metadata": {},
     "output_type": "execute_result"
    }
   ],
   "source": [
    "(28433 * mod_exp(2, 7830457, 10**10) + 1) % 10**10"
   ]
  },
  {
   "cell_type": "code",
   "execution_count": null,
   "id": "7fdfef23-2f35-42ac-a250-728f29bd0314",
   "metadata": {},
   "outputs": [],
   "source": []
  },
  {
   "cell_type": "code",
   "execution_count": null,
   "id": "b2504de1-2a3f-4929-8904-53bb09601593",
   "metadata": {},
   "outputs": [],
   "source": []
  },
  {
   "cell_type": "code",
   "execution_count": null,
   "id": "181988da-a326-4864-a661-051427e7be96",
   "metadata": {},
   "outputs": [],
   "source": []
  },
  {
   "cell_type": "code",
   "execution_count": null,
   "id": "684f1eda-59a2-41c0-b486-7a7ae1fc20dc",
   "metadata": {},
   "outputs": [],
   "source": []
  },
  {
   "cell_type": "code",
   "execution_count": null,
   "id": "035faa65-84b5-4345-aca5-a453f235f61c",
   "metadata": {},
   "outputs": [],
   "source": []
  },
  {
   "cell_type": "code",
   "execution_count": null,
   "id": "9b77a2d7-3e59-4523-bb07-caea18a89bab",
   "metadata": {},
   "outputs": [],
   "source": []
  },
  {
   "cell_type": "code",
   "execution_count": null,
   "id": "42265be9-97a1-40d2-bcf9-9cee7eb3c434",
   "metadata": {},
   "outputs": [],
   "source": []
  },
  {
   "cell_type": "code",
   "execution_count": null,
   "id": "aa7ebe41-0b60-4e6e-acc2-52ca5c992d02",
   "metadata": {},
   "outputs": [],
   "source": []
  },
  {
   "cell_type": "code",
   "execution_count": null,
   "id": "e18d8a12-0801-4812-9cf1-a9e915beaab2",
   "metadata": {},
   "outputs": [],
   "source": []
  },
  {
   "cell_type": "code",
   "execution_count": null,
   "id": "38aa3946-5c1c-4b63-acef-ac95581ed5ca",
   "metadata": {},
   "outputs": [],
   "source": []
  }
 ],
 "metadata": {
  "kernelspec": {
   "display_name": "Python 3 (ipykernel)",
   "language": "python",
   "name": "python3"
  },
  "language_info": {
   "codemirror_mode": {
    "name": "ipython",
    "version": 3
   },
   "file_extension": ".py",
   "mimetype": "text/x-python",
   "name": "python",
   "nbconvert_exporter": "python",
   "pygments_lexer": "ipython3",
   "version": "3.12.4"
  }
 },
 "nbformat": 4,
 "nbformat_minor": 5
}
