{
 "cells": [
  {
   "cell_type": "markdown",
   "id": "5a7537b4-f57e-4819-8bf9-7bad5a243e95",
   "metadata": {},
   "source": [
    "# Right Triangles with Integer Coordinates - Problem 91\n",
    "<p>The points $P(x_1, y_1)$ and $Q(x_2, y_2)$ are plotted at integer co-ordinates and are joined to the origin, $O(0,0)$, to form $\\triangle OPQ$.</p>\n",
    "\n",
    "<div class=\"center\">\n",
    "<img src=\"resources/images/0091_1.png?1678992052\" class=\"dark_img\" alt=\"\"><br></div>\n",
    "\n",
    "<p>There are exactly fourteen triangles containing a right angle that can be formed when each co-ordinate lies between $0$ and $2$ inclusive; that is, $0 \\le x_1, y_1, x_2, y_2 \\le 2$.</p>\n",
    "\n",
    "<div class=\"center\">\n",
    "<img src=\"resources/images/0091_2.png?1678992052\" alt=\"\"><br></div>\n",
    "\n",
    "<p>Given that $0 \\le x_1, y_1, x_2, y_2 \\le 50$, how many right triangles can be formed?</p>"
   ]
  },
  {
   "cell_type": "markdown",
   "id": "e120e660-8f03-4034-87f5-d5eb8eefeebc",
   "metadata": {},
   "source": [
    "## Solution."
   ]
  },
  {
   "cell_type": "code",
   "execution_count": 6,
   "id": "77eb34c0-76fb-4e24-88d7-e3cb5bae3720",
   "metadata": {},
   "outputs": [],
   "source": [
    "from math import gcd"
   ]
  },
  {
   "cell_type": "code",
   "execution_count": 47,
   "id": "1762dd31-6426-45fa-bb45-7a7f16651dfc",
   "metadata": {},
   "outputs": [],
   "source": [
    "def number_of_triangles(n):\n",
    "    '''\n",
    "    Return the number of right triangles that can be formed given that 0 <= x_1, y_1, x_2, y_2 <= n\n",
    "    '''\n",
    "    ans = 0\n",
    "    \n",
    "    # right angle at (0,0) and reflections\n",
    "    ans += 3*n**2\n",
    "\n",
    "    # right angle not at (0,0)\n",
    "    ans1 = 0\n",
    "    for x_p in range(1, n+1, 1):\n",
    "        for y_p in range(1, n+1, 1):\n",
    "            d = gcd(x_p, y_p)\n",
    "            x_p_d = x_p//d\n",
    "            y_p_d = y_p//d\n",
    "\n",
    "            ans1 += min((n-x_p)//y_p_d, y_p//x_p_d)\n",
    "\n",
    "            \n",
    "                \n",
    "    return ans + 2*ans1"
   ]
  },
  {
   "cell_type": "code",
   "execution_count": 48,
   "id": "d69694c5-588c-43b5-9772-917ffdb63e25",
   "metadata": {},
   "outputs": [
    {
     "data": {
      "text/plain": [
       "14"
      ]
     },
     "execution_count": 48,
     "metadata": {},
     "output_type": "execute_result"
    }
   ],
   "source": [
    "number_of_triangles(2)"
   ]
  },
  {
   "cell_type": "code",
   "execution_count": 50,
   "id": "48ff1e7a-da4a-4387-a207-86effde24316",
   "metadata": {},
   "outputs": [
    {
     "data": {
      "text/plain": [
       "14234"
      ]
     },
     "execution_count": 50,
     "metadata": {},
     "output_type": "execute_result"
    }
   ],
   "source": [
    "number_of_triangles(50)"
   ]
  },
  {
   "cell_type": "code",
   "execution_count": null,
   "id": "a7816fde-fddd-4602-be8b-6948cecc43cc",
   "metadata": {},
   "outputs": [],
   "source": []
  },
  {
   "cell_type": "code",
   "execution_count": null,
   "id": "81649d22-698f-448b-ac20-052037561d93",
   "metadata": {},
   "outputs": [],
   "source": []
  },
  {
   "cell_type": "code",
   "execution_count": null,
   "id": "9dc82319-cb6f-4a64-82cf-bc5deb7bd93b",
   "metadata": {},
   "outputs": [],
   "source": []
  },
  {
   "cell_type": "code",
   "execution_count": null,
   "id": "e9d0a9f3-ec7d-4779-8303-14209ac34020",
   "metadata": {},
   "outputs": [],
   "source": []
  },
  {
   "cell_type": "code",
   "execution_count": null,
   "id": "8be3feff-e51a-4728-8c32-b356cc969efe",
   "metadata": {},
   "outputs": [],
   "source": []
  },
  {
   "cell_type": "code",
   "execution_count": null,
   "id": "d6e07a1a-c713-421c-b727-1e566f048eb6",
   "metadata": {},
   "outputs": [],
   "source": []
  }
 ],
 "metadata": {
  "kernelspec": {
   "display_name": "Python 3 (ipykernel)",
   "language": "python",
   "name": "python3"
  },
  "language_info": {
   "codemirror_mode": {
    "name": "ipython",
    "version": 3
   },
   "file_extension": ".py",
   "mimetype": "text/x-python",
   "name": "python",
   "nbconvert_exporter": "python",
   "pygments_lexer": "ipython3",
   "version": "3.12.4"
  }
 },
 "nbformat": 4,
 "nbformat_minor": 5
}
