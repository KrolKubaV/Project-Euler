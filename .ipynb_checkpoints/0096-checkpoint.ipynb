{
 "cells": [
  {
   "cell_type": "markdown",
   "id": "53059796-f774-48c5-a67b-0cf02c8bae71",
   "metadata": {},
   "source": [
    "# Su Doku - Problem 96\n",
    "<p>Su Doku (Japanese meaning <i>number place</i>) is the name given to a popular puzzle concept. Its origin is unclear, but credit must be attributed to Leonhard Euler who invented a similar, and much more difficult, puzzle idea called Latin Squares. The objective of Su Doku puzzles, however, is to replace the blanks (or zeros) in a 9 by 9 grid in such that each row, column, and 3 by 3 box contains each of the digits 1 to 9. Below is an example of a typical starting puzzle grid and its solution grid.</p>\n",
    "<div class=\"center\">\n",
    "<img src=\"project/images/p096_1.png\" alt=\"p096_1.png\" />     <img src=\"project/images/p096_2.png\" alt=\"p096_2.png\" /></div>\n",
    "<p>A well constructed Su Doku puzzle has a unique solution and can be solved by logic, although it may be necessary to employ \"guess and test\" methods in order to eliminate options (there is much contested opinion over this). The complexity of the search determines the difficulty of the puzzle; the example above is considered <i>easy</i> because it can be solved by straight forward direct deduction.</p>\n",
    "<p>The 6K text file, <a href=\"project/resources/p096_sudoku.txt\">sudoku.txt</a> (right click and 'Save Link/Target As...'), contains fifty different Su Doku puzzles ranging in difficulty, but all with unique solutions (the first puzzle in the file is the example above).</p>\n",
    "<p>By solving all fifty puzzles find the sum of the 3-digit numbers found in the top left corner of each solution grid; for example, 483 is the 3-digit number found in the top left corner of the solution grid above.</p>"
   ]
  },
  {
   "cell_type": "markdown",
   "id": "d4d370e8-5153-4fd7-ba33-124a4328eddf",
   "metadata": {},
   "source": [
    "## Solution."
   ]
  },
  {
   "cell_type": "code",
   "execution_count": 17,
   "id": "7ce72540-f04a-48cb-bf7c-fa45a72d66d8",
   "metadata": {},
   "outputs": [],
   "source": [
    "from collections import defaultdict"
   ]
  },
  {
   "cell_type": "code",
   "execution_count": 18,
   "id": "d5e53fa1-6536-4b57-a8b7-419b58bcc9f0",
   "metadata": {},
   "outputs": [],
   "source": [
    "with open('data_96.txt', 'r') as file:\n",
    "    s = file.read()\n",
    "\n",
    "s = s.split('\\n')\n",
    "data = defaultdict(list)\n",
    "i = 0\n",
    "n = 0\n",
    "while i < len(s):\n",
    "    while i < len(s) and 'Grid' not in s[i]:\n",
    "        data[n].append([int(x) for x in s[i]])\n",
    "        i += 1\n",
    "    n += 1\n",
    "    i += 1\n",
    "        "
   ]
  },
  {
   "cell_type": "code",
   "execution_count": 28,
   "id": "aea12511-f1ef-4738-ac10-48c937ca458d",
   "metadata": {},
   "outputs": [],
   "source": [
    "def can_put(k, i, j, board):\n",
    "    '''\n",
    "    Check if one can put k in the cell board[i][j] without causing any contradictions.\n",
    "    '''\n",
    "    if k in board[i]:\n",
    "        return False\n",
    "\n",
    "    for x in range(9):\n",
    "        if board[x][j] == 9:\n",
    "            return False\n",
    "\n",
    "    n = i//3\n",
    "    m = j//3\n",
    "\n",
    "    for x in range(3*n, 3*n + 4, 1):\n",
    "        for y in range(3*m, 3*m + 4, 1):\n",
    "            if board[x][y] == k:\n",
    "                return False\n",
    "\n",
    "    return True"
   ]
  },
  {
   "cell_type": "code",
   "execution_count": 32,
   "id": "9c0918c6-6c29-4ea0-8d3b-630015412fe0",
   "metadata": {},
   "outputs": [],
   "source": [
    "def solve_sudoku(board):\n",
    "    empty = [((i, j), [_ for _ in range(1, 10, 1)]) for i in range(9) for j in range(9) if board[i][j] == 0]\n",
    "    l = len(empty)\n",
    "\n",
    "    e = 0\n",
    "    while e < l:\n",
    "        i, j = empty[0]\n",
    "        to_try = empty[1]\n",
    "\n",
    "        \n",
    "\n",
    "        \n",
    "    \n",
    "        \n",
    "    \n",
    "    \n",
    "    return board"
   ]
  },
  {
   "cell_type": "code",
   "execution_count": 15,
   "id": "5723d3ea-573e-4773-b9f1-52c2e5bfdb93",
   "metadata": {},
   "outputs": [
    {
     "name": "stdout",
     "output_type": "stream",
     "text": [
      "5926\n"
     ]
    }
   ],
   "source": [
    "ans = 0\n",
    "for i in data:\n",
    "    t = solve_sudoku(data[i])\n",
    "    ans += 100 * t[0][0] + 10 * t[0][1] + t[0][2]\n",
    "\n",
    "print(ans)"
   ]
  },
  {
   "cell_type": "code",
   "execution_count": 33,
   "id": "a9cd328d-08c4-422c-841e-db28f6a757d6",
   "metadata": {},
   "outputs": [
    {
     "data": {
      "text/plain": [
       "[[0, 0, 3, 0, 2, 0, 6, 0, 0],\n",
       " [9, 0, 0, 3, 0, 5, 0, 0, 1],\n",
       " [0, 0, 1, 8, 0, 6, 4, 0, 0],\n",
       " [0, 0, 8, 1, 0, 2, 9, 0, 0],\n",
       " [7, 0, 0, 0, 0, 0, 0, 0, 8],\n",
       " [0, 0, 6, 7, 0, 8, 2, 0, 0],\n",
       " [0, 0, 2, 6, 0, 9, 5, 0, 0],\n",
       " [8, 0, 0, 2, 0, 3, 0, 0, 9],\n",
       " [0, 0, 5, 0, 1, 0, 3, 0, 0]]"
      ]
     },
     "execution_count": 33,
     "metadata": {},
     "output_type": "execute_result"
    }
   ],
   "source": [
    "data[1]"
   ]
  },
  {
   "cell_type": "code",
   "execution_count": 34,
   "id": "8b80546d-5d4b-4ac1-a909-92e47bc20afc",
   "metadata": {},
   "outputs": [
    {
     "data": {
      "text/plain": [
       "{(0, 0): [1, 2, 3, 4, 5, 6, 7, 8, 9],\n",
       " (0, 1): [1, 2, 3, 4, 5, 6, 7, 8, 9],\n",
       " (0, 3): [1, 2, 3, 4, 5, 6, 7, 8, 9],\n",
       " (0, 5): [1, 2, 3, 4, 5, 6, 7, 8, 9],\n",
       " (0, 7): [1, 2, 3, 4, 5, 6, 7, 8, 9],\n",
       " (0, 8): [1, 2, 3, 4, 5, 6, 7, 8, 9],\n",
       " (1, 1): [1, 2, 3, 4, 5, 6, 7, 8, 9],\n",
       " (1, 2): [1, 2, 3, 4, 5, 6, 7, 8, 9],\n",
       " (1, 4): [1, 2, 3, 4, 5, 6, 7, 8, 9],\n",
       " (1, 6): [1, 2, 3, 4, 5, 6, 7, 8, 9],\n",
       " (1, 7): [1, 2, 3, 4, 5, 6, 7, 8, 9],\n",
       " (2, 0): [1, 2, 3, 4, 5, 6, 7, 8, 9],\n",
       " (2, 1): [1, 2, 3, 4, 5, 6, 7, 8, 9],\n",
       " (2, 4): [1, 2, 3, 4, 5, 6, 7, 8, 9],\n",
       " (2, 7): [1, 2, 3, 4, 5, 6, 7, 8, 9],\n",
       " (2, 8): [1, 2, 3, 4, 5, 6, 7, 8, 9],\n",
       " (3, 0): [1, 2, 3, 4, 5, 6, 7, 8, 9],\n",
       " (3, 1): [1, 2, 3, 4, 5, 6, 7, 8, 9],\n",
       " (3, 4): [1, 2, 3, 4, 5, 6, 7, 8, 9],\n",
       " (3, 7): [1, 2, 3, 4, 5, 6, 7, 8, 9],\n",
       " (3, 8): [1, 2, 3, 4, 5, 6, 7, 8, 9],\n",
       " (4, 1): [1, 2, 3, 4, 5, 6, 7, 8, 9],\n",
       " (4, 2): [1, 2, 3, 4, 5, 6, 7, 8, 9],\n",
       " (4, 3): [1, 2, 3, 4, 5, 6, 7, 8, 9],\n",
       " (4, 4): [1, 2, 3, 4, 5, 6, 7, 8, 9],\n",
       " (4, 5): [1, 2, 3, 4, 5, 6, 7, 8, 9],\n",
       " (4, 6): [1, 2, 3, 4, 5, 6, 7, 8, 9],\n",
       " (4, 7): [1, 2, 3, 4, 5, 6, 7, 8, 9],\n",
       " (5, 0): [1, 2, 3, 4, 5, 6, 7, 8, 9],\n",
       " (5, 1): [1, 2, 3, 4, 5, 6, 7, 8, 9],\n",
       " (5, 4): [1, 2, 3, 4, 5, 6, 7, 8, 9],\n",
       " (5, 7): [1, 2, 3, 4, 5, 6, 7, 8, 9],\n",
       " (5, 8): [1, 2, 3, 4, 5, 6, 7, 8, 9],\n",
       " (6, 0): [1, 2, 3, 4, 5, 6, 7, 8, 9],\n",
       " (6, 1): [1, 2, 3, 4, 5, 6, 7, 8, 9],\n",
       " (6, 4): [1, 2, 3, 4, 5, 6, 7, 8, 9],\n",
       " (6, 7): [1, 2, 3, 4, 5, 6, 7, 8, 9],\n",
       " (6, 8): [1, 2, 3, 4, 5, 6, 7, 8, 9],\n",
       " (7, 1): [1, 2, 3, 4, 5, 6, 7, 8, 9],\n",
       " (7, 2): [1, 2, 3, 4, 5, 6, 7, 8, 9],\n",
       " (7, 4): [1, 2, 3, 4, 5, 6, 7, 8, 9],\n",
       " (7, 6): [1, 2, 3, 4, 5, 6, 7, 8, 9],\n",
       " (7, 7): [1, 2, 3, 4, 5, 6, 7, 8, 9],\n",
       " (8, 0): [1, 2, 3, 4, 5, 6, 7, 8, 9],\n",
       " (8, 1): [1, 2, 3, 4, 5, 6, 7, 8, 9],\n",
       " (8, 3): [1, 2, 3, 4, 5, 6, 7, 8, 9],\n",
       " (8, 5): [1, 2, 3, 4, 5, 6, 7, 8, 9],\n",
       " (8, 7): [1, 2, 3, 4, 5, 6, 7, 8, 9],\n",
       " (8, 8): [1, 2, 3, 4, 5, 6, 7, 8, 9]}"
      ]
     },
     "execution_count": 34,
     "metadata": {},
     "output_type": "execute_result"
    }
   ],
   "source": [
    "solve_sudoku(data[1])"
   ]
  },
  {
   "cell_type": "code",
   "execution_count": null,
   "id": "2d754f2c-9184-4663-9d8c-44e0f3d8d31a",
   "metadata": {},
   "outputs": [],
   "source": []
  },
  {
   "cell_type": "code",
   "execution_count": null,
   "id": "9effb5fe-f0a3-4d1b-ac21-848be7a7042f",
   "metadata": {},
   "outputs": [],
   "source": []
  },
  {
   "cell_type": "code",
   "execution_count": null,
   "id": "6a9cb9a8-11b7-4021-b314-ca6a8d66d97a",
   "metadata": {},
   "outputs": [],
   "source": []
  }
 ],
 "metadata": {
  "kernelspec": {
   "display_name": "Python 3 (ipykernel)",
   "language": "python",
   "name": "python3"
  },
  "language_info": {
   "codemirror_mode": {
    "name": "ipython",
    "version": 3
   },
   "file_extension": ".py",
   "mimetype": "text/x-python",
   "name": "python",
   "nbconvert_exporter": "python",
   "pygments_lexer": "ipython3",
   "version": "3.12.4"
  }
 },
 "nbformat": 4,
 "nbformat_minor": 5
}
