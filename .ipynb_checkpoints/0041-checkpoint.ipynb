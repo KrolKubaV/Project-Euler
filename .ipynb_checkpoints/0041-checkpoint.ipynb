{
 "cells": [
  {
   "cell_type": "markdown",
   "id": "26c06919-703f-4590-b818-f5df381fe9a2",
   "metadata": {},
   "source": [
    "# Pandigital Prime - Problem 41\n",
    "<p>We shall say that an $n$-digit number is pandigital if it makes use of all the digits $1$ to $n$ exactly once. For example, $2143$ is a $4$-digit pandigital and is also prime.</p>\n",
    "<p>What is the largest $n$-digit pandigital prime that exists?</p>"
   ]
  },
  {
   "cell_type": "markdown",
   "id": "1e3ea5da-2bc5-42dc-ae7f-723c698867fa",
   "metadata": {},
   "source": [
    "## Solution.\n",
    "There are no 9-digit, 6-digit and 3-digit pandigital primes as they'd be divisible by $9$."
   ]
  },
  {
   "cell_type": "code",
   "execution_count": null,
   "id": "0c0a65fb-1a18-4595-a82e-bf8d8e5ebdec",
   "metadata": {},
   "outputs": [],
   "source": [
    "N = 10**8\n",
    "primes = [1] * (N + 1)\n",
    "primes[1], primes[0] = 0, 0\n",
    "\n",
    "for i in range(4, N, 2): \n",
    "    primes[i] = 0\n",
    "\n",
    "p = 3\n",
    "while p**2 < N: \n",
    "    if primes[p] == 1: \n",
    "        for i in range(2*p, N, p): \n",
    "            primes[i] = 0\n",
    "    p += 2\n",
    "\n",
    "primes = [i for i, el in enumerate(primes) if el == 1 and len(str(i)) not in [3,6,9]]"
   ]
  },
  {
   "cell_type": "code",
   "execution_count": 5,
   "id": "2d70be39-e439-4943-aa92-34486ef71828",
   "metadata": {},
   "outputs": [
    {
     "data": {
      "text/plain": [
       "21"
      ]
     },
     "execution_count": 5,
     "metadata": {},
     "output_type": "execute_result"
    }
   ],
   "source": [
    "1+2+3+4+5+6"
   ]
  },
  {
   "cell_type": "code",
   "execution_count": null,
   "id": "491440d3-4369-41bc-b885-2d98cabbdf8f",
   "metadata": {},
   "outputs": [],
   "source": []
  },
  {
   "cell_type": "code",
   "execution_count": null,
   "id": "2a042a9e-a4f2-4ec6-abe2-64c7a3e574e0",
   "metadata": {},
   "outputs": [],
   "source": []
  },
  {
   "cell_type": "code",
   "execution_count": null,
   "id": "acea981b-7037-40e1-9d71-151320c84a3c",
   "metadata": {},
   "outputs": [],
   "source": []
  },
  {
   "cell_type": "code",
   "execution_count": null,
   "id": "365710b4-16f7-4583-8b5f-04f2d70ba7f7",
   "metadata": {},
   "outputs": [],
   "source": []
  },
  {
   "cell_type": "code",
   "execution_count": null,
   "id": "3fee6578-802c-4f06-90b3-2df27150e8d9",
   "metadata": {},
   "outputs": [],
   "source": []
  },
  {
   "cell_type": "code",
   "execution_count": null,
   "id": "323debab-782e-4c71-8598-55530e9c45d6",
   "metadata": {},
   "outputs": [],
   "source": []
  },
  {
   "cell_type": "code",
   "execution_count": null,
   "id": "22dbe7c3-d809-4f1c-b6b1-11589e1884b6",
   "metadata": {},
   "outputs": [],
   "source": []
  }
 ],
 "metadata": {
  "kernelspec": {
   "display_name": "Python 3 (ipykernel)",
   "language": "python",
   "name": "python3"
  },
  "language_info": {
   "codemirror_mode": {
    "name": "ipython",
    "version": 3
   },
   "file_extension": ".py",
   "mimetype": "text/x-python",
   "name": "python",
   "nbconvert_exporter": "python",
   "pygments_lexer": "ipython3",
   "version": "3.12.4"
  }
 },
 "nbformat": 4,
 "nbformat_minor": 5
}
