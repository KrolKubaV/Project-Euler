{
 "cells": [
  {
   "cell_type": "markdown",
   "id": "85c05622-d57f-461c-9897-bad4b8edee05",
   "metadata": {},
   "source": [
    "# Recursive Tree - Problem 872\n",
    "<p>A sequence of rooted trees $T_n$ is constructed such that $T_n$ has $n$ nodes numbered $1$ to $n$.</p>\n",
    "\n",
    "<p>The sequence starts at $T_1$, a tree with a single node as a root with the number $1$.</p>\n",
    "\n",
    "<p>For $n> 1$, $T_n$ is constructed from $T_{n-1}$ using the following procedure:\n",
    "</p><ol>\n",
    "<li>Trace a path from the root of $T_{n-1}$ to a leaf by following the largest-numbered child at each node.</li>\n",
    "<li>Remove all edges along the traced path, disconnecting all nodes along it from their parents.</li>\n",
    "<li>Connect all orphaned nodes directly to a new node numbered $n$, which becomes the root of $T_n$.</li>\n",
    "</ol>\n",
    "\n",
    "\n",
    "<p>For example, the following figure shows $T_6$ and $T_7$. The path traced through $T_6$ during the construction of $T_7$ is coloured red.</p>\n",
    "<div class=\"center\">\n",
    "<img src=\"resources/images/0872_tree.png?1703839264\" alt=\"0872_tree.png\"></div>\n",
    "\n",
    "\n",
    "<p>Let $f(n, k)$ be the sum of the node numbers along the path connecting the root of $T_n$ to the node $k$, including the root and the node $k$. For example, $f(6, 1) = 6 + 5 + 1 = 12$ and $f(10, 3) = 29$.</p>\n",
    "\n",
    "<p>Find $f(10^{17}, 9^{17})$.</p>\n",
    "\n"
   ]
  },
  {
   "cell_type": "markdown",
   "id": "11762715-e146-4eef-9fec-904af1c8adc8",
   "metadata": {},
   "source": [
    "## Solution.\n",
    "By induction, the parent of $a$ is $a+2^k$, where $k$ is such that $a+2^k\\leq n$ and $a+2^{k+1}>n$."
   ]
  },
  {
   "cell_type": "code",
   "execution_count": 12,
   "id": "0d99685a-5f8d-4ee9-8a57-983db548f85a",
   "metadata": {},
   "outputs": [],
   "source": [
    "from math import log\n",
    "from collections import defaultdict"
   ]
  },
  {
   "cell_type": "code",
   "execution_count": 53,
   "id": "9c788cb2-7b35-41c3-aad5-b49ecee9f286",
   "metadata": {},
   "outputs": [],
   "source": [
    "def tree(n):\n",
    "    V = set(range(1, n+1))\n",
    "    E = defaultdict(set)\n",
    "\n",
    "    queue = [n]\n",
    "    seen = set()\n",
    "    seen.add(n)\n",
    "    s = 1\n",
    "    \n",
    "    while True:\n",
    "        v = queue.pop(0)\n",
    "        k = 0\n",
    "        while 2**k < v:\n",
    "            if v-2**k not in seen:\n",
    "                E[v].add(v-2**k)\n",
    "                seen.add(v-2**k)\n",
    "                s += 1\n",
    "                queue.append(v-2**k)\n",
    "            k += 1\n",
    "\n",
    "        if s == n:\n",
    "            return V, E"
   ]
  },
  {
   "cell_type": "code",
   "execution_count": 58,
   "id": "b139d124-3a21-46a2-a1c0-ebe81321010b",
   "metadata": {},
   "outputs": [],
   "source": [
    "def f(n, k):\n",
    "    ans = k\n",
    "    curr = k\n",
    "    while k < n:\n",
    "        k = k + 2**int(log(n-k, 2))\n",
    "        ans += k\n",
    "    return ans"
   ]
  },
  {
   "cell_type": "code",
   "execution_count": 60,
   "id": "6d015e98-dc5b-4376-b4b1-fe3049e2d441",
   "metadata": {},
   "outputs": [
    {
     "data": {
      "text/plain": [
       "2903144925319290239"
      ]
     },
     "execution_count": 60,
     "metadata": {},
     "output_type": "execute_result"
    }
   ],
   "source": [
    "f(10**17, 9**17)"
   ]
  },
  {
   "cell_type": "code",
   "execution_count": null,
   "id": "d82754ee-ee85-46d0-8a8c-af07ad8d1fd4",
   "metadata": {},
   "outputs": [],
   "source": []
  },
  {
   "cell_type": "code",
   "execution_count": null,
   "id": "6dbb3a36-5c9b-42db-9806-c3d57442935f",
   "metadata": {},
   "outputs": [],
   "source": []
  },
  {
   "cell_type": "code",
   "execution_count": null,
   "id": "8a1b95d4-7cf4-402f-a4db-f0977c8c8f62",
   "metadata": {},
   "outputs": [],
   "source": []
  },
  {
   "cell_type": "code",
   "execution_count": null,
   "id": "08292b5e-b59f-46de-82c2-7451a6303681",
   "metadata": {},
   "outputs": [],
   "source": []
  },
  {
   "cell_type": "code",
   "execution_count": null,
   "id": "76201812-25fe-4762-b287-96fbfa01913f",
   "metadata": {},
   "outputs": [],
   "source": []
  }
 ],
 "metadata": {
  "kernelspec": {
   "display_name": "Python 3 (ipykernel)",
   "language": "python",
   "name": "python3"
  },
  "language_info": {
   "codemirror_mode": {
    "name": "ipython",
    "version": 3
   },
   "file_extension": ".py",
   "mimetype": "text/x-python",
   "name": "python",
   "nbconvert_exporter": "python",
   "pygments_lexer": "ipython3",
   "version": "3.12.4"
  }
 },
 "nbformat": 4,
 "nbformat_minor": 5
}
