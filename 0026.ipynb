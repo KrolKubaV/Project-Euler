{
 "cells": [
  {
   "cell_type": "markdown",
   "id": "accc74f9-2cdc-42ed-9534-eb06674d3611",
   "metadata": {},
   "source": [
    "# Reciprocal Cycles - Problem 26\n",
    "<p>A unit fraction contains $1$ in the numerator. The decimal representation of the unit fractions with denominators $2$ to $10$ are given:</p>\n",
    "\\begin{align}\n",
    "1/2 &= 0.5\\\\\n",
    "1/3 &=0.(3)\\\\\n",
    "1/4 &=0.25\\\\\n",
    "1/5 &= 0.2\\\\\n",
    "1/6 &= 0.1(6)\\\\\n",
    "1/7 &= 0.(142857)\\\\\n",
    "1/8 &= 0.125\\\\\n",
    "1/9 &= 0.(1)\\\\\n",
    "1/10 &= 0.1\n",
    "\\end{align}\n",
    "<p>Where $0.1(6)$ means $0.166666\\cdots$, and has a $1$-digit recurring cycle. It can be seen that $1/7$ has a $6$-digit recurring cycle.</p>\n",
    "<p>Find the value of $d \\lt 1000$ for which $1/d$ contains the longest recurring cycle in its decimal fraction part.</p>\n"
   ]
  },
  {
   "cell_type": "markdown",
   "id": "66cbcf1c-f2ee-4708-91fb-c64b1f2285f5",
   "metadata": {},
   "source": [
    "## Solution.\n",
    "1. If $d=2^k5^l$ its order is 0.\n",
    "2. If $d=2^k5^ld'$, $1/d'$ has the same cycle length.\n",
    "3. Cycle length is at most d-1."
   ]
  },
  {
   "cell_type": "code",
   "execution_count": 76,
   "id": "6a0ac5ef-5a35-4d49-b747-2dacfd467f9b",
   "metadata": {},
   "outputs": [],
   "source": [
    "from functools import cache\n",
    "from math import gcd, isqrt"
   ]
  },
  {
   "cell_type": "code",
   "execution_count": 28,
   "id": "58165c4c-5e4a-4553-8022-5769eeb9f2d6",
   "metadata": {},
   "outputs": [],
   "source": [
    "def v_p(n, p):\n",
    "    '''\n",
    "    Finds v_p(n)\n",
    "    '''\n",
    "    ans = 0\n",
    "    while n%p == 0:\n",
    "        ans += 1\n",
    "        n //= p\n",
    "\n",
    "    return ans"
   ]
  },
  {
   "cell_type": "code",
   "execution_count": 75,
   "id": "0dd9d33f-ece9-45e5-87f4-d665ef73a792",
   "metadata": {},
   "outputs": [],
   "source": [
    "@cache\n",
    "def prime_factors(n):\n",
    "    factors = set()\n",
    "    while n % 2 == 0:\n",
    "        factors.add(2)\n",
    "        n //= 2\n",
    "    for i in range(3, isqrt(n) + 1, 2):\n",
    "        while n % i == 0:\n",
    "            factors.add(i)\n",
    "            n //= i\n",
    "    if n > 2:\n",
    "        factors.add(n)\n",
    "    return factors\n",
    "    \n",
    "@cache\n",
    "def euler_totient(d):\n",
    "    if d == 1:\n",
    "        return 1\n",
    "    factors = prime_factors(d)\n",
    "    result = d\n",
    "    for p in factors:\n",
    "        result *= (1 - 1/p)\n",
    "    return int(result)\n",
    "\n",
    "@cache\n",
    "def order(n, d):\n",
    "    if gcd(n, d) != 1:\n",
    "        return None\n",
    "    \n",
    "    phi_d = euler_totient(d)\n",
    "    for k in range(1, phi_d + 1):\n",
    "        if phi_d%k == 0:\n",
    "            if pow(n, k, d) == 1:\n",
    "                return k\n",
    "    return None"
   ]
  },
  {
   "cell_type": "code",
   "execution_count": 99,
   "id": "6c09100e-1fc3-4e87-8824-f4412a524547",
   "metadata": {},
   "outputs": [],
   "source": [
    "def cycle_length(d):\n",
    "    v_2 = v_p(d, 2)\n",
    "    v_5 = v_p(d, 5)\n",
    "\n",
    "    d = d // (2**v_2 * 5**v_5)\n",
    "\n",
    "    \n",
    "    if d == 1:\n",
    "        return 0\n",
    "        \n",
    "    return order(10, d)"
   ]
  },
  {
   "cell_type": "code",
   "execution_count": 92,
   "id": "fafd23e8-b7cc-4fb1-b1d9-969f9cf3f621",
   "metadata": {},
   "outputs": [],
   "source": [
    "def sol29(N):\n",
    "    m = -1\n",
    "    ans = 0\n",
    "    for d in range(N+1, 0, -1):\n",
    "        length = cycle_length(d)\n",
    "\n",
    "        if length == d-1:\n",
    "                return d\n",
    "        \n",
    "        if length > m:\n",
    "            ans = d\n",
    "            m = length\n",
    "            \n",
    "    return ans"
   ]
  },
  {
   "cell_type": "code",
   "execution_count": 104,
   "id": "b0f6282e-2949-46ab-9989-7af7e3869be2",
   "metadata": {},
   "outputs": [
    {
     "data": {
      "text/plain": [
       "99999989"
      ]
     },
     "execution_count": 104,
     "metadata": {},
     "output_type": "execute_result"
    }
   ],
   "source": [
    "sol29(10**8)"
   ]
  }
 ],
 "metadata": {
  "kernelspec": {
   "display_name": "Python 3 (ipykernel)",
   "language": "python",
   "name": "python3"
  },
  "language_info": {
   "codemirror_mode": {
    "name": "ipython",
    "version": 3
   },
   "file_extension": ".py",
   "mimetype": "text/x-python",
   "name": "python",
   "nbconvert_exporter": "python",
   "pygments_lexer": "ipython3",
   "version": "3.12.4"
  }
 },
 "nbformat": 4,
 "nbformat_minor": 5
}
