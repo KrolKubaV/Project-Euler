{
 "cells": [
  {
   "cell_type": "markdown",
   "id": "a6007bbb-0e70-4ddb-a98a-9c5743bef145",
   "metadata": {},
   "source": [
    "# Riffle Shuffles - Problem 622\n",
    "<p>\n",
    "A riffle shuffle is executed as follows: a deck of cards is split into two equal halves, with the top half taken in the left hand and the bottom half taken in the right hand. Next, the cards are interleaved exactly, with the top card in the right half inserted just after the top card in the left half, the 2nd card in the right half just after the 2nd card in the left half, etc. (Note that this process preserves the location of the top and bottom card of the deck)\n",
    "</p>\n",
    "<p>\n",
    "Let $s(n)$ be the minimum number of consecutive riffle shuffles needed to restore a deck of size $n$ to its original configuration, where $n$ is a positive even number.</p>\n",
    "<p>\n",
    "Amazingly, a standard deck of $52$ cards will first return to its original configuration after only $8$ perfect shuffles, so $s(52) = 8$. It can be verified that a deck of $86$ cards will also return to its original configuration after exactly $8$ shuffles, and the sum of all values of $n$ that satisfy $s(n) = 8$ is $412$.\n",
    "</p>\n",
    "<p>\n",
    "Find the sum of all values of n that satisfy $s(n) = 60$.\n",
    "</p>"
   ]
  },
  {
   "cell_type": "markdown",
   "id": "3272e8e4-a8e5-4b0b-b0f7-4e65060e0e44",
   "metadata": {},
   "source": [
    "## Solution.\n",
    "Let's enumerate the cards $0, \\ldots, 2n-1$. Note that after one riffle shuffle, the card on the $j$-th position will be on the $2j \\;(\\text{mod}(2n-1))$-th position. Hence, $s(2n)$ is the order of $2$ modulo $2n-1$."
   ]
  },
  {
   "cell_type": "code",
   "execution_count": 1,
   "id": "f8157fce-3f1d-4afb-8fba-07937b0259e9",
   "metadata": {},
   "outputs": [],
   "source": [
    "import math\n",
    "\n",
    "def prime_divisors(n):\n",
    "    ans = []\n",
    "    while n % 2 == 0:\n",
    "        ans.append(2)\n",
    "         \n",
    "    for i in range(3,int(math.sqrt(n))+1,2):\n",
    "        while n % i== 0:\n",
    "            ans.append(i)\n",
    "            n = n // i\n",
    "             \n",
    "    if n > 2:\n",
    "        ans.append(n)\n",
    "\n",
    "    return ans"
   ]
  },
  {
   "cell_type": "code",
   "execution_count": 2,
   "id": "9d89fb3f-5f42-4414-8801-227deffca94f",
   "metadata": {},
   "outputs": [],
   "source": [
    "def all_products(arr):\n",
    "    if len(arr) == 1:\n",
    "        return arr\n",
    "\n",
    "    dp = all_products(arr[1:])\n",
    "    return list(set(dp + [arr[0] * i for i in dp] + [arr[0]]))\n",
    "    "
   ]
  },
  {
   "cell_type": "code",
   "execution_count": 3,
   "id": "c1df7f49-de0d-4099-8142-104eac60cb4d",
   "metadata": {},
   "outputs": [],
   "source": [
    "def check_ord(a, k, n):\n",
    "    '''\n",
    "    Check if ord_n(a)=k\n",
    "    '''\n",
    "    if pow(a, k, n) != 1:\n",
    "        return False\n",
    "    for j in range(2, k):\n",
    "        if pow(a, j, n) == 1:\n",
    "            return False\n",
    "\n",
    "    return True\n",
    "    \n",
    "    "
   ]
  },
  {
   "cell_type": "code",
   "execution_count": 4,
   "id": "a013eedd-6f49-464d-9a29-7bd00d3dabda",
   "metadata": {},
   "outputs": [],
   "source": [
    "def ans(n):\n",
    "    '''\n",
    "    Return the sum of k such that s(k) = n\n",
    "\n",
    "    n is even\n",
    "    '''\n",
    "    ans = 0\n",
    "    for k in all_products(prime_divisors(2**(n//2) - 1) + prime_divisors(2**(n//2) + 1)):\n",
    "        if check_ord(2, n, k):\n",
    "            ans += (k+1)\n",
    "\n",
    "    return ans\n",
    "    \n",
    "    "
   ]
  },
  {
   "cell_type": "code",
   "execution_count": 7,
   "id": "a36d5c92-bcb3-4910-8d09-2656401a2dc4",
   "metadata": {},
   "outputs": [
    {
     "data": {
      "text/plain": [
       "3010983666182123972"
      ]
     },
     "execution_count": 7,
     "metadata": {},
     "output_type": "execute_result"
    }
   ],
   "source": [
    "ans(60)"
   ]
  },
  {
   "cell_type": "code",
   "execution_count": null,
   "id": "e93b46b7-a727-4688-aecb-d92190464134",
   "metadata": {},
   "outputs": [],
   "source": []
  },
  {
   "cell_type": "code",
   "execution_count": null,
   "id": "ca0ec587-883b-4ef2-805d-adece32a011c",
   "metadata": {},
   "outputs": [],
   "source": []
  },
  {
   "cell_type": "code",
   "execution_count": null,
   "id": "8f583d67-9d51-4477-ac7a-3fb581b33133",
   "metadata": {},
   "outputs": [],
   "source": []
  }
 ],
 "metadata": {
  "kernelspec": {
   "display_name": "Python 3 (ipykernel)",
   "language": "python",
   "name": "python3"
  },
  "language_info": {
   "codemirror_mode": {
    "name": "ipython",
    "version": 3
   },
   "file_extension": ".py",
   "mimetype": "text/x-python",
   "name": "python",
   "nbconvert_exporter": "python",
   "pygments_lexer": "ipython3",
   "version": "3.12.4"
  }
 },
 "nbformat": 4,
 "nbformat_minor": 5
}
