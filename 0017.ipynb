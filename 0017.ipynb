{
 "cells": [
  {
   "cell_type": "markdown",
   "id": "b4470d4d-8d75-40ce-be6c-b7bd4b504a84",
   "metadata": {},
   "source": [
    "# Number Letter Counts - Problem 17\n",
    "<p>If the numbers $1$ to $5$ are written out in words: one, two, three, four, five, then there are $3 + 3 + 5 + 4 + 4 = 19$ letters used in total.</p>\n",
    "<p>If all the numbers from $1$ to $1000$ (one thousand) inclusive were written out in words, how many letters would be used? </p>\n",
    "<br><p class=\"note\"><b>NOTE:</b> Do not count spaces or hyphens. For example, $342$ (three hundred and forty-two) contains $23$ letters and $115$ (one hundred and fifteen) contains $20$ letters. The use of \"and\" when writing out numbers is in compliance with British usage.</p>"
   ]
  },
  {
   "cell_type": "markdown",
   "id": "20552cce-eb5c-42db-be28-b70b1fbab2dd",
   "metadata": {},
   "source": [
    "## Solution."
   ]
  },
  {
   "cell_type": "code",
   "execution_count": 1,
   "id": "93238446-3f80-4194-b8d9-652fbfee743a",
   "metadata": {},
   "outputs": [],
   "source": [
    "from functools import cache"
   ]
  },
  {
   "cell_type": "code",
   "execution_count": 13,
   "id": "de226dea-5898-4369-9f51-b6c32b9398e5",
   "metadata": {},
   "outputs": [],
   "source": [
    "dic = {\n",
    "    1: 'one',\n",
    "    2: 'two',\n",
    "    3: 'three',\n",
    "    4: 'four',\n",
    "    5: 'five',\n",
    "    6: 'six',\n",
    "    7: 'seven',\n",
    "    8: 'eight',\n",
    "    9: 'nine',\n",
    "    10: 'ten',\n",
    "    11: 'eleven',\n",
    "    12: 'twelve',\n",
    "    13: 'thirteen',\n",
    "    14: 'fourteen',\n",
    "    15: 'fifteen',\n",
    "    16: 'sixteen',\n",
    "    17: 'seventeen',\n",
    "    18: 'eighteen',\n",
    "    19: 'nineteen',\n",
    "    20: 'twenty',\n",
    "    30: 'thirty',\n",
    "    40: 'forty',\n",
    "    50: 'fifty',\n",
    "    60: 'sixty',\n",
    "    70: 'seventy',\n",
    "    80: 'eighty',\n",
    "    90: 'ninety',\n",
    "    100: 'hundred',\n",
    "    1000: 'thousand'\n",
    "}\n"
   ]
  },
  {
   "cell_type": "code",
   "execution_count": 16,
   "id": "72af38d0-b09e-4904-8c57-8f4a882b1706",
   "metadata": {},
   "outputs": [],
   "source": [
    "@cache\n",
    "def letter_count(n):\n",
    "    if n < 100:\n",
    "        if n in dic:\n",
    "            return len(dic[n])\n",
    "        return len(dic[n%10]) + len(dic[n//10 * 10])\n",
    "\n",
    "    if n < 1000:\n",
    "        if n%100==0:\n",
    "            return len(dic[n//100]) + len(dic[100])\n",
    "        return len(dic[n//100]) + len(dic[100]) + len('and') + letter_count(n%100)\n",
    "\n",
    "    if n == 1000:\n",
    "        return len('one') + len(dic[1000])"
   ]
  },
  {
   "cell_type": "code",
   "execution_count": 17,
   "id": "139742aa-e89b-40dc-9632-798a626642a0",
   "metadata": {},
   "outputs": [
    {
     "name": "stdout",
     "output_type": "stream",
     "text": [
      "21124\n"
     ]
    }
   ],
   "source": [
    "ans = 0\n",
    "for i in range(1, 1001, 1):\n",
    "    ans += letter_count(i)\n",
    "\n",
    "print(ans)"
   ]
  },
  {
   "cell_type": "code",
   "execution_count": null,
   "id": "9d446b06-f2cf-4d33-b0d1-303fb1b74b6a",
   "metadata": {},
   "outputs": [],
   "source": []
  },
  {
   "cell_type": "code",
   "execution_count": null,
   "id": "2aa2a59b-c09c-48cc-9bea-1a873fc47427",
   "metadata": {},
   "outputs": [],
   "source": []
  },
  {
   "cell_type": "code",
   "execution_count": null,
   "id": "53b475ca-a1be-4a55-a4b2-d2f49540b7cf",
   "metadata": {},
   "outputs": [],
   "source": []
  },
  {
   "cell_type": "code",
   "execution_count": null,
   "id": "5c8b870b-40f8-4cbb-ad3d-cfd7f55f4ce1",
   "metadata": {},
   "outputs": [],
   "source": []
  },
  {
   "cell_type": "code",
   "execution_count": null,
   "id": "8d662264-9408-4179-8185-01c6363e8d93",
   "metadata": {},
   "outputs": [],
   "source": []
  },
  {
   "cell_type": "code",
   "execution_count": null,
   "id": "58dbe589-f13b-425c-88fc-d85296a45a5a",
   "metadata": {},
   "outputs": [],
   "source": []
  }
 ],
 "metadata": {
  "kernelspec": {
   "display_name": "Python 3 (ipykernel)",
   "language": "python",
   "name": "python3"
  },
  "language_info": {
   "codemirror_mode": {
    "name": "ipython",
    "version": 3
   },
   "file_extension": ".py",
   "mimetype": "text/x-python",
   "name": "python",
   "nbconvert_exporter": "python",
   "pygments_lexer": "ipython3",
   "version": "3.12.4"
  }
 },
 "nbformat": 4,
 "nbformat_minor": 5
}
