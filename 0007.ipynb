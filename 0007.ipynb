{
 "cells": [
  {
   "cell_type": "markdown",
   "id": "2169af38-d73a-49fe-9e02-45c09e143072",
   "metadata": {},
   "source": [
    "# 10001st Prime - Problem 7\n",
    "<p>By listing the first six prime numbers: $2, 3, 5, 7, 11$, and $13$, we can see that the $6$th prime is $13$.</p>\n",
    "<p>What is the $10\\,001$st prime number?</p>"
   ]
  },
  {
   "cell_type": "markdown",
   "id": "ca4f189c-0744-4107-a18e-02037c6bbae5",
   "metadata": {},
   "source": [
    "## Solution."
   ]
  },
  {
   "cell_type": "code",
   "execution_count": 7,
   "id": "1659933f-2105-4193-81d7-bb4de788a8ca",
   "metadata": {},
   "outputs": [],
   "source": [
    "def nth_prime(n, N=2_000_000):\n",
    "    '''\n",
    "    Finds the n-th prime.\n",
    "    '''\n",
    "    primes = [1] * (N+1)\n",
    "    primes[0] = 0\n",
    "    primes[1] = 0\n",
    "\n",
    "    for i in range(2, int(N**0.5) + 1):\n",
    "        if primes[i] == 1:\n",
    "            for j in range(i * i, N + 1, i):\n",
    "                primes[j] = 0\n",
    "\n",
    "    prime_list = [i for i in range(2, N + 1) if primes[i] == 1]\n",
    "    return prime_list[n-1]"
   ]
  },
  {
   "cell_type": "code",
   "execution_count": 8,
   "id": "ec2c627b-8448-4864-9cb2-11c0f22a3b57",
   "metadata": {},
   "outputs": [
    {
     "data": {
      "text/plain": [
       "104743"
      ]
     },
     "execution_count": 8,
     "metadata": {},
     "output_type": "execute_result"
    }
   ],
   "source": [
    "nth_prime(10001)"
   ]
  },
  {
   "cell_type": "markdown",
   "id": "edd685c8-5434-49d8-bfda-c09ad49a8a9a",
   "metadata": {},
   "source": [
    "# ------------------"
   ]
  },
  {
   "cell_type": "code",
   "execution_count": 9,
   "id": "972b61d4-60c8-4fd2-9743-6e582c758463",
   "metadata": {},
   "outputs": [],
   "source": [
    "import math\n",
    "\n",
    "def is_prime(n):\n",
    "    '''\n",
    "    Checks if a number n is prime.\n",
    "    '''\n",
    "    if n == 1:\n",
    "        return False\n",
    "    elif n < 4:\n",
    "        return True  # 2 and 3 are prime\n",
    "    elif n % 2 == 0:\n",
    "        return False\n",
    "    elif n < 9:\n",
    "        return True  # We have already excluded 4, 6, and 8.\n",
    "    elif n % 3 == 0:\n",
    "        return False\n",
    "    else:\n",
    "        r = int(math.sqrt(n)) \n",
    "        f = 5\n",
    "        while f <= r:\n",
    "            if n % f == 0:\n",
    "                return False\n",
    "            if n % (f + 2) == 0:\n",
    "                return False\n",
    "            f += 6\n",
    "        return True\n"
   ]
  },
  {
   "cell_type": "code",
   "execution_count": 12,
   "id": "ec830f18-3681-411c-9d43-387b329df181",
   "metadata": {},
   "outputs": [
    {
     "name": "stdout",
     "output_type": "stream",
     "text": [
      "104743\n"
     ]
    }
   ],
   "source": [
    "n = 3\n",
    "i = 1\n",
    "limit = 10001\n",
    "while i < limit:\n",
    "    if is_prime(n) == 1:\n",
    "        i += 1\n",
    "    n += 2\n",
    "\n",
    "print(n-2)"
   ]
  },
  {
   "cell_type": "code",
   "execution_count": null,
   "id": "b769fd7f-0c74-48b1-b72d-ff051a07871d",
   "metadata": {},
   "outputs": [],
   "source": []
  },
  {
   "cell_type": "code",
   "execution_count": null,
   "id": "0a565fe1-69e4-48ec-8748-b6e52dd2f236",
   "metadata": {},
   "outputs": [],
   "source": []
  },
  {
   "cell_type": "code",
   "execution_count": null,
   "id": "d6e52c75-7fc5-4ac2-bb8b-107bf0d7ba23",
   "metadata": {},
   "outputs": [],
   "source": []
  },
  {
   "cell_type": "code",
   "execution_count": null,
   "id": "e01ea7f3-5eb3-4b61-8ade-a474b4a31107",
   "metadata": {},
   "outputs": [],
   "source": []
  }
 ],
 "metadata": {
  "kernelspec": {
   "display_name": "Python 3 (ipykernel)",
   "language": "python",
   "name": "python3"
  },
  "language_info": {
   "codemirror_mode": {
    "name": "ipython",
    "version": 3
   },
   "file_extension": ".py",
   "mimetype": "text/x-python",
   "name": "python",
   "nbconvert_exporter": "python",
   "pygments_lexer": "ipython3",
   "version": "3.12.4"
  }
 },
 "nbformat": 4,
 "nbformat_minor": 5
}
