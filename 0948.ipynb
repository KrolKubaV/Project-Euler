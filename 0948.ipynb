{
 "cells": [
  {
   "cell_type": "markdown",
   "id": "1abf6d7c-7c8a-4abc-b4ec-a18ecf0c91fb",
   "metadata": {},
   "source": [
    "# Problem 948 - Left vs Right\n",
    "<p>Left and Right play a game with a word consisting of L's and R's, alternating turns. On Left's turn, Left can remove any positive number of letters, but not all the letters, from the left side of the word. Right does the same on Right's turn except that Right removes letters from the right side. The game continues until only one letter remains: if it is an 'L' then Left wins; if it is an 'R' then Right wins.</p>\n",
    "\n",
    "<p>Let $F(n)$ be the number of words of length $n$ where the player moving first, whether it's Left or Right, will win the game if both play optimally.</p>\n",
    "\n",
    "<p>You are given $F(3)=4$ and $F(8)=181$.</p>\n",
    "\n",
    "<p>Find $F(60)$.</p>"
   ]
  },
  {
   "cell_type": "markdown",
   "id": "010142bb-c2c4-4a73-ab63-ea046d0e5630",
   "metadata": {},
   "source": [
    "## Solution."
   ]
  },
  {
   "cell_type": "code",
   "execution_count": 1,
   "id": "093c6c0f-b29a-4e61-97bf-a21135b7a8d9",
   "metadata": {},
   "outputs": [],
   "source": [
    "from functools import cache"
   ]
  },
  {
   "cell_type": "code",
   "execution_count": 2,
   "id": "f89a270d-f8d5-4df1-981a-a6f3747320a6",
   "metadata": {},
   "outputs": [],
   "source": [
    "@cache\n",
    "def generate_words(n):\n",
    "    if n == 1:\n",
    "        return ['L', 'R']\n",
    "    return [x + 'L' for x in generate_words(n-1)] + [x + 'R' for x in generate_words(n-1)]"
   ]
  },
  {
   "cell_type": "code",
   "execution_count": 3,
   "id": "7b6743fe-a441-4f00-8198-d553d0a55b85",
   "metadata": {},
   "outputs": [],
   "source": [
    "@cache\n",
    "def solve(n):\n",
    "    if n == 2:\n",
    "        good_L = [\"RL\",\"LL\"]\n",
    "        good_R = [\"RL\", \"RR\"]\n",
    "        bad_L = [\"LR\"]\n",
    "        bad_R = [\"LR\"]\n",
    "        return good_L, good_R, bad_L, bad_R\n",
    "\n",
    "    good_L, good_R, bad_L, bad_R = solve(n-1)\n",
    "    for word in generate_words(n):\n",
    "        win_L = False\n",
    "        win_R = False\n",
    "\n",
    "        if word[0:2] == \"LR\" or word[0] == \"R\":\n",
    "            win_R = True\n",
    "\n",
    "        if word[-2::] == \"LR\" or word[-1] == \"L\":\n",
    "            win_L = True\n",
    "            \n",
    "        for i in range(1, n-1):\n",
    "            if word[i:] in bad_R:\n",
    "                win_L = True\n",
    "                break\n",
    "\n",
    "        for i in range(2, n):\n",
    "            if word[:i] in bad_L:\n",
    "                win_R = True\n",
    "                break\n",
    "\n",
    "        if win_L:\n",
    "            good_L.append(word)\n",
    "        else:\n",
    "            bad_L.append(word)\n",
    "\n",
    "        if win_R:\n",
    "            good_R.append(word)\n",
    "        else:\n",
    "            bad_R.append(word)\n",
    "            \n",
    "    return good_L, good_R, bad_L, bad_R"
   ]
  },
  {
   "cell_type": "code",
   "execution_count": 4,
   "id": "6c519d51-e007-46fc-886c-212fb33598cb",
   "metadata": {},
   "outputs": [],
   "source": [
    "def F(n):\n",
    "    good_L, good_R, bad_L, bad_R = solve(n)\n",
    "    ans = 0\n",
    "    ans2 = 0\n",
    "    for w in good_L:\n",
    "        if len(w) == n and w in good_R:\n",
    "            ans += 1\n",
    "            if w[0] == \"L\" and w[-1] == \"R\":\n",
    "                print(w)\n",
    "                ans2 +=1\n",
    "\n",
    "    return ans, ans2"
   ]
  },
  {
   "cell_type": "code",
   "execution_count": 72,
   "id": "c49c5ab7-24d4-460b-b626-7190ddbd6771",
   "metadata": {},
   "outputs": [
    {
     "name": "stdout",
     "output_type": "stream",
     "text": [
      "2 0 0\n",
      "3 1 0\n",
      "4 2 1\n",
      "5 5 2\n",
      "6 10 6\n",
      "7 22 12\n",
      "8 44 29\n",
      "9 93 58\n",
      "10 186 130\n",
      "11 386 260\n"
     ]
    }
   ],
   "source": [
    "for k in range(2, 12):\n",
    "    good_L, good_R, bad_L, bad_R = solve(k)\n",
    "    \n",
    "    RL = []\n",
    "    LL = []\n",
    "    RR = []\n",
    "    LR = []\n",
    "    ans = 0\n",
    "    \n",
    "    for x in good_L:\n",
    "        if x in good_R and len(x) == k:\n",
    "            ans += 1\n",
    "            if x[0] == \"R\" and x[-1] == \"L\":\n",
    "                RL.append(x)\n",
    "            elif x[0] == \"L\" and x[-1] == \"L\":\n",
    "                LL.append(x)\n",
    "            elif x[0] == \"R\" and x[-1] == \"R\":\n",
    "                RR.append(x)\n",
    "            else:\n",
    "                LR.append(x)\n",
    "                \n",
    "    print(k, len(LL), len(LR))\n"
   ]
  },
  {
   "cell_type": "markdown",
   "id": "e82d1fb5-5219-4d4c-9766-0bbf5973cbf6",
   "metadata": {},
   "source": [
    "----------------"
   ]
  },
  {
   "cell_type": "code",
   "execution_count": 5,
   "id": "f5399557-0f9e-41df-a92a-e2f975942f92",
   "metadata": {},
   "outputs": [],
   "source": [
    "def C(n):\n",
    "    result = 1\n",
    "    for i in range(n):\n",
    "        result = result * (2 * n - i) // (i + 1)\n",
    "    return result // (n + 1)"
   ]
  },
  {
   "cell_type": "code",
   "execution_count": 55,
   "id": "1c18e911-f615-4f93-b0d0-8da97956a039",
   "metadata": {},
   "outputs": [],
   "source": [
    "@cache\n",
    "def fLL(n):\n",
    "    if n == 2:\n",
    "        return 0\n",
    "\n",
    "    if n%2 == 0:\n",
    "        return 2 * fLL(n-1)\n",
    "    else:\n",
    "        return 2 * fLL(n-1) + C(n//2 - 1)"
   ]
  },
  {
   "cell_type": "code",
   "execution_count": 78,
   "id": "f18f8026-f016-4980-8319-67730ac4602d",
   "metadata": {},
   "outputs": [],
   "source": [
    "@cache\n",
    "def fLR(n):\n",
    "    if n == 2 or n == 3:\n",
    "        return 0\n",
    "\n",
    "    if n%2 == 0:\n",
    "        return 2 * fLR(n-1) + C(n//2-1)\n",
    "    else:\n",
    "        return 2 * fLR(n-1)"
   ]
  },
  {
   "cell_type": "code",
   "execution_count": 81,
   "id": "252a8cde-e753-435f-a49d-9e2c9b3de2d9",
   "metadata": {},
   "outputs": [],
   "source": [
    "def F(n):\n",
    "    return 2 ** (n-2) + 2 * fLL(n) + fLR(n)"
   ]
  },
  {
   "cell_type": "code",
   "execution_count": 83,
   "id": "3e2fd225-ee40-497f-93f0-b035c311889d",
   "metadata": {},
   "outputs": [
    {
     "data": {
      "text/plain": [
       "1033654680825334184"
      ]
     },
     "execution_count": 83,
     "metadata": {},
     "output_type": "execute_result"
    }
   ],
   "source": [
    "F(60)"
   ]
  },
  {
   "cell_type": "code",
   "execution_count": null,
   "id": "2ba77c34-c5b7-4e1c-ab20-c4a35a743080",
   "metadata": {},
   "outputs": [],
   "source": []
  },
  {
   "cell_type": "code",
   "execution_count": null,
   "id": "6d997a20-ac85-40c7-96a9-c7bdccc2c6df",
   "metadata": {},
   "outputs": [],
   "source": []
  },
  {
   "cell_type": "code",
   "execution_count": null,
   "id": "bb2373f2-f295-42c8-88c0-0574cc4b9d93",
   "metadata": {},
   "outputs": [],
   "source": []
  }
 ],
 "metadata": {
  "kernelspec": {
   "display_name": "Python 3 (ipykernel)",
   "language": "python",
   "name": "python3"
  },
  "language_info": {
   "codemirror_mode": {
    "name": "ipython",
    "version": 3
   },
   "file_extension": ".py",
   "mimetype": "text/x-python",
   "name": "python",
   "nbconvert_exporter": "python",
   "pygments_lexer": "ipython3",
   "version": "3.13.0"
  }
 },
 "nbformat": 4,
 "nbformat_minor": 5
}
