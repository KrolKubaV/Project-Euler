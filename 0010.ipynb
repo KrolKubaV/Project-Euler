{
 "cells": [
  {
   "cell_type": "markdown",
   "id": "cb31586a-b962-45e4-8070-7b4c53224b80",
   "metadata": {},
   "source": [
    "# Summation of Primes - Problem 10\n",
    "<p>The sum of the primes below $10$ is $2 + 3 + 5 + 7 = 17$.</p>\n",
    "<p>Find the sum of all the primes below two million.</p>"
   ]
  },
  {
   "cell_type": "markdown",
   "id": "542386a0-fdc5-4e30-8000-3f510c60c70d",
   "metadata": {},
   "source": [
    "## Solution."
   ]
  },
  {
   "cell_type": "code",
   "execution_count": 2,
   "id": "985902c0-280e-4000-99da-65db88f03b62",
   "metadata": {},
   "outputs": [],
   "source": [
    "def generate_primes(N):\n",
    "    '''\n",
    "    Generates primes <= N\n",
    "    '''\n",
    "    primes = [1] * (N+1)\n",
    "    primes[0] = 0\n",
    "    primes[1] = 0\n",
    "\n",
    "    for i in range(2, int(N**0.5) + 1):\n",
    "        if primes[i] == 1:\n",
    "            for j in range(i * i, N + 1, i):\n",
    "                primes[j] = 0\n",
    "\n",
    "    prime_list = [i for i in range(2, N + 1) if primes[i] == 1]\n",
    "    return prime_list"
   ]
  },
  {
   "cell_type": "code",
   "execution_count": 3,
   "id": "1bf0218e-547b-4369-9342-87b078d9a67d",
   "metadata": {},
   "outputs": [],
   "source": [
    "def sol10(N):\n",
    "    return sum(generate_primes(N))"
   ]
  },
  {
   "cell_type": "code",
   "execution_count": 4,
   "id": "df95c70f-27d3-4ba3-b64b-ff4b3ba39b9c",
   "metadata": {},
   "outputs": [
    {
     "data": {
      "text/plain": [
       "142913828922"
      ]
     },
     "execution_count": 4,
     "metadata": {},
     "output_type": "execute_result"
    }
   ],
   "source": [
    "sol10(2_000_000)"
   ]
  },
  {
   "cell_type": "code",
   "execution_count": null,
   "id": "d26ed832-1cd9-405c-88aa-c0a582613f88",
   "metadata": {},
   "outputs": [],
   "source": []
  },
  {
   "cell_type": "code",
   "execution_count": null,
   "id": "97763954-0956-4531-b8a7-937d3ab8caf1",
   "metadata": {},
   "outputs": [],
   "source": []
  },
  {
   "cell_type": "code",
   "execution_count": null,
   "id": "85a99d18-4d1a-4e07-9a8f-ffc5c0e50ccf",
   "metadata": {},
   "outputs": [],
   "source": []
  },
  {
   "cell_type": "code",
   "execution_count": null,
   "id": "c51e68a9-3140-44d3-b1f3-b905a0c470f9",
   "metadata": {},
   "outputs": [],
   "source": []
  },
  {
   "cell_type": "code",
   "execution_count": null,
   "id": "a5e49879-b611-4985-9e8d-39a4535c8458",
   "metadata": {},
   "outputs": [],
   "source": []
  },
  {
   "cell_type": "code",
   "execution_count": null,
   "id": "cd9d2d6d-7529-4a20-9465-02adbd540c15",
   "metadata": {},
   "outputs": [],
   "source": []
  },
  {
   "cell_type": "code",
   "execution_count": null,
   "id": "edcad021-471d-45ce-a736-7469431c13cb",
   "metadata": {},
   "outputs": [],
   "source": []
  }
 ],
 "metadata": {
  "kernelspec": {
   "display_name": "Python 3 (ipykernel)",
   "language": "python",
   "name": "python3"
  },
  "language_info": {
   "codemirror_mode": {
    "name": "ipython",
    "version": 3
   },
   "file_extension": ".py",
   "mimetype": "text/x-python",
   "name": "python",
   "nbconvert_exporter": "python",
   "pygments_lexer": "ipython3",
   "version": "3.12.4"
  }
 },
 "nbformat": 4,
 "nbformat_minor": 5
}
