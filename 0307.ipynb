{
 "cells": [
  {
   "cell_type": "markdown",
   "id": "e130dce0-c5e6-435f-b3c0-7cf3308f09ef",
   "metadata": {},
   "source": [
    "# Problem 307 - Chip Defects\n",
    "<p>\n",
    "$k$ defects are randomly distributed amongst $n$ integrated-circuit chips produced by a factory (any number of defects may be found on a chip and each defect is independent of the other defects).\n",
    "</p>\n",
    "<p>\n",
    "Let $p(k, n)$ represent the probability that there is a chip with at least $3$ defects.<br>\n",
    "For instance $p(3,7) \\approx 0.0204081633$.\n",
    "</p>\n",
    "<p>\n",
    "Find $p(20\\,000, 1\\,000\\,000)$ and give your answer rounded to $10$ decimal places in the form 0.abcdefghij.\n",
    "</p>"
   ]
  },
  {
   "cell_type": "markdown",
   "id": "8d7537aa-dcd9-44b7-ba58-b329dcb31984",
   "metadata": {},
   "source": [
    "## Solution."
   ]
  },
  {
   "cell_type": "code",
   "execution_count": 4,
   "id": "337ea738-2c84-4f90-b098-f1c2ec6bdf44",
   "metadata": {},
   "outputs": [],
   "source": [
    "from math import comb, factorial"
   ]
  },
  {
   "cell_type": "code",
   "execution_count": 24,
   "id": "dc696bce-6889-457c-b139-096908828571",
   "metadata": {},
   "outputs": [],
   "source": [
    "def p(k, n):\n",
    "    Omega = n**k\n",
    "    A = 0\n",
    "    for two in range(k//2+1):\n",
    "        one = k - two * 2\n",
    "        A += comb(n, two) * comb(k, two * 2) * factorial(two)/2**two * comb(n-two, one) * factorial(one)\n",
    "\n",
    "    return 1 - A/Omega"
   ]
  },
  {
   "cell_type": "code",
   "execution_count": 25,
   "id": "fe8b6bb5-4fa5-4336-adda-7f87a803ab68",
   "metadata": {},
   "outputs": [
    {
     "data": {
      "text/plain": [
       "0.9285714285714286"
      ]
     },
     "execution_count": 25,
     "metadata": {},
     "output_type": "execute_result"
    }
   ],
   "source": [
    "p(2, 7)"
   ]
  },
  {
   "cell_type": "code",
   "execution_count": null,
   "id": "ca3daf6f-a4cb-4b18-bfea-dfa1e2e9857e",
   "metadata": {},
   "outputs": [],
   "source": []
  },
  {
   "cell_type": "code",
   "execution_count": null,
   "id": "064841c2-b075-4cde-b49d-9489add8f8ae",
   "metadata": {},
   "outputs": [],
   "source": []
  },
  {
   "cell_type": "code",
   "execution_count": null,
   "id": "6d3c57c7-2ad4-465d-92f5-e837976f109c",
   "metadata": {},
   "outputs": [],
   "source": []
  },
  {
   "cell_type": "code",
   "execution_count": null,
   "id": "c705b434-0515-4ee8-b965-6d1db32c16d7",
   "metadata": {},
   "outputs": [],
   "source": []
  },
  {
   "cell_type": "code",
   "execution_count": null,
   "id": "0b0b6615-98de-473e-9b36-2173b6a52f81",
   "metadata": {},
   "outputs": [],
   "source": []
  },
  {
   "cell_type": "code",
   "execution_count": null,
   "id": "c620a83b-b676-4ace-bbd3-8bb9cf31113d",
   "metadata": {},
   "outputs": [],
   "source": []
  },
  {
   "cell_type": "code",
   "execution_count": null,
   "id": "675f139f-c070-44da-a53e-7579bbad4c12",
   "metadata": {},
   "outputs": [],
   "source": []
  },
  {
   "cell_type": "code",
   "execution_count": null,
   "id": "ffda0ca0-e5c4-445f-b89d-22757609af7c",
   "metadata": {},
   "outputs": [],
   "source": []
  },
  {
   "cell_type": "code",
   "execution_count": null,
   "id": "f1cad664-5d0c-4a26-8e93-48f40104cb56",
   "metadata": {},
   "outputs": [],
   "source": []
  }
 ],
 "metadata": {
  "kernelspec": {
   "display_name": "Python 3 (ipykernel)",
   "language": "python",
   "name": "python3"
  },
  "language_info": {
   "codemirror_mode": {
    "name": "ipython",
    "version": 3
   },
   "file_extension": ".py",
   "mimetype": "text/x-python",
   "name": "python",
   "nbconvert_exporter": "python",
   "pygments_lexer": "ipython3",
   "version": "3.13.0"
  }
 },
 "nbformat": 4,
 "nbformat_minor": 5
}
