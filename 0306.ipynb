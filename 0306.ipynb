{
 "cells": [
  {
   "cell_type": "markdown",
   "id": "0f55401d",
   "metadata": {},
   "source": [
    "# Problem 306 - Paper-strip Game\n",
    "\n",
    "The following game is a classic example of Combinatorial Game Theory:\n",
    "\n",
    "Two players start with a strip of $n$ white squares and they take alternate turns.  \n",
    "On each turn, a player picks two contiguous white squares and paints them black.  \n",
    "The first player who cannot make a move loses.\n",
    "\n",
    "- $n = 1$: No valid moves, so the first player loses automatically.\n",
    "- $n = 2$: Only one valid move, after which the second player loses.\n",
    "- $n = 3$: Two valid moves, but both leave a situation where the second player loses.\n",
    "- $n = 4$: Three valid moves for the first player, who is able to win the game by painting the two middle squares.\n",
    "- $n = 5$: Four valid moves for the first player (shown below in red), but no matter what the player does, the second player (blue) wins.\n",
    "\n",
    "So, for $1 \\le n \\le 5$, there are 3 values of $n$ for which the first player can force a win.  \n",
    "Similarly, for $1 \\le n \\le 50$, there are 40 values of $n$ for which the first player can force a win.\n",
    "\n",
    "For $1 \\le n \\le 1,000,000$, how many values of $n$ are there for which the first player can force a win?\n"
   ]
  },
  {
   "cell_type": "markdown",
   "id": "724e1a69",
   "metadata": {},
   "source": [
    "## Solution."
   ]
  },
  {
   "cell_type": "code",
   "execution_count": 1,
   "id": "686e2ab3",
   "metadata": {},
   "outputs": [],
   "source": [
    "from functools import cache"
   ]
  },
  {
   "cell_type": "code",
   "execution_count": 3,
   "id": "4058cb0c",
   "metadata": {},
   "outputs": [],
   "source": [
    "@cache\n",
    "def f(n):\n",
    "    '''\n",
    "    Return True if 1st player can win, else Fals\n",
    "    '''\n",
    "    if n == 1:\n",
    "        return False\n",
    "    if n == 2:\n",
    "        return True\n",
    "    \n",
    "    if f(n-2) == False:\n",
    "        return True\n",
    "    \n",
    "    x = 1\n",
    "    y = n - 2 - x\n",
    "\n",
    "    while x <= y:\n",
    "        if (f(x) == False and f(y) == False):\n",
    "            return True\n",
    "        \n",
    "        x += 1\n",
    "        y -= 1\n",
    "    return False"
   ]
  },
  {
   "cell_type": "code",
   "execution_count": 6,
   "id": "a3acbff4",
   "metadata": {},
   "outputs": [],
   "source": [
    "def F(N):\n",
    "    return sum(f(n) for n in range(1, N+1, 1))"
   ]
  },
  {
   "cell_type": "code",
   "execution_count": 7,
   "id": "eddd9085",
   "metadata": {},
   "outputs": [
    {
     "data": {
      "text/plain": [
       "30"
      ]
     },
     "execution_count": 7,
     "metadata": {},
     "output_type": "execute_result"
    }
   ],
   "source": [
    "F(50)"
   ]
  },
  {
   "cell_type": "code",
   "execution_count": null,
   "id": "5522d55c",
   "metadata": {},
   "outputs": [],
   "source": []
  }
 ],
 "metadata": {
  "kernelspec": {
   "display_name": "Python 3",
   "language": "python",
   "name": "python3"
  },
  "language_info": {
   "codemirror_mode": {
    "name": "ipython",
    "version": 3
   },
   "file_extension": ".py",
   "mimetype": "text/x-python",
   "name": "python",
   "nbconvert_exporter": "python",
   "pygments_lexer": "ipython3",
   "version": "3.13.0"
  }
 },
 "nbformat": 4,
 "nbformat_minor": 5
}
