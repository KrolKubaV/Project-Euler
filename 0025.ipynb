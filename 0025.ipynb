{
 "cells": [
  {
   "cell_type": "markdown",
   "id": "1250a96d-2f01-49bf-b5dd-7a1d84feb9fc",
   "metadata": {},
   "source": [
    "# 1000-digit Fibonacci Number - Problem 25\n",
    "The Fibonacci sequence is defined by the recurrence relation: $F_n = F_{n - 1} + F_{n - 2}$, where $F_1 = 1$ and $F_2 = 1$.\n",
    "\n",
    "<p>Hence the first $12$ terms will be:</p>\n",
    "\\begin{align}\n",
    "F_1 = 1\\\\\n",
    "F_2 = 1\\\\\n",
    "F_3 = 2\\\\\n",
    "F_4 = 3\\\\\n",
    "\\end{align}\n",
    "<p>The $12$th term, $F_{12}$, is the first term to contain three digits.</p>\n",
    "<p>What is the index of the first term in the Fibonacci sequence to contain $1000$ digits?</p>\n"
   ]
  },
  {
   "cell_type": "markdown",
   "id": "71b6c60e-4023-46ed-b668-3c02f70b0323",
   "metadata": {},
   "source": [
    "## Solution."
   ]
  },
  {
   "cell_type": "code",
   "execution_count": 1,
   "id": "4ded5b40-0fc7-4ffb-b398-b5ba453c86ee",
   "metadata": {},
   "outputs": [],
   "source": [
    "from functools import cache"
   ]
  },
  {
   "cell_type": "code",
   "execution_count": 4,
   "id": "a75c2dec-76f3-4e88-8c64-423f7718d7a0",
   "metadata": {},
   "outputs": [],
   "source": [
    "@cache\n",
    "def fib(n):\n",
    "    if n < 3:\n",
    "        return 1\n",
    "    return fib(n-1) + fib(n-2)"
   ]
  },
  {
   "cell_type": "code",
   "execution_count": 6,
   "id": "c49309f1-af7b-4821-9a86-96d52d1643c8",
   "metadata": {},
   "outputs": [
    {
     "name": "stdout",
     "output_type": "stream",
     "text": [
      "4782\n"
     ]
    }
   ],
   "source": [
    "n = 1\n",
    "while len(str(fib(n))) < 1000:\n",
    "    n += 1\n",
    "print((n))"
   ]
  },
  {
   "cell_type": "code",
   "execution_count": null,
   "id": "bb4a19f5-ebf6-40d7-9f52-56f43d3d119c",
   "metadata": {},
   "outputs": [],
   "source": []
  },
  {
   "cell_type": "code",
   "execution_count": null,
   "id": "a77e89d8-2530-45e3-b2cb-c67a8cb029dc",
   "metadata": {},
   "outputs": [],
   "source": []
  },
  {
   "cell_type": "code",
   "execution_count": null,
   "id": "d8623a4d-0b23-46cc-9c8e-a62aec4ebc6a",
   "metadata": {},
   "outputs": [],
   "source": []
  },
  {
   "cell_type": "code",
   "execution_count": null,
   "id": "b44bb6de-244f-4987-b7df-51b1ada93f11",
   "metadata": {},
   "outputs": [],
   "source": []
  },
  {
   "cell_type": "code",
   "execution_count": null,
   "id": "5600dfd1-c09a-44c4-a1b9-a483ab31727a",
   "metadata": {},
   "outputs": [],
   "source": []
  }
 ],
 "metadata": {
  "kernelspec": {
   "display_name": "Python 3 (ipykernel)",
   "language": "python",
   "name": "python3"
  },
  "language_info": {
   "codemirror_mode": {
    "name": "ipython",
    "version": 3
   },
   "file_extension": ".py",
   "mimetype": "text/x-python",
   "name": "python",
   "nbconvert_exporter": "python",
   "pygments_lexer": "ipython3",
   "version": "3.12.4"
  }
 },
 "nbformat": 4,
 "nbformat_minor": 5
}
