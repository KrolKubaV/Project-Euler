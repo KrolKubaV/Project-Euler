{
 "cells": [
  {
   "cell_type": "markdown",
   "id": "6eae7c07-28b1-4761-96df-279da03302cb",
   "metadata": {},
   "source": [
    "# Different Dice - Problem 863\n",
    "<p>Using only a six-sided fair dice and a five-sided fair dice, we would like to emulate an $n$-sided fair dice.</p>\n",
    "<p>For example, one way to emulate a 28-sided dice is to follow this procedure:</p>\n",
    "<ol>\n",
    "<li>Roll both dice, obtaining integers $1\\le p\\le 6$ and $1\\le q\\le 5$.</li>\n",
    "<li>Combine them using $r = 5(p-1) + q$ to obtain an integer $1\\le r\\le 30$.</li>\n",
    "<li>If $r\\le 28$, return the value $r$ and stop.</li>\n",
    "<li>Otherwise ($r$ being 29 or 30), roll both dice again, obtaining integers $1\\le s\\le 6$ and $1\\le t\\le 5$.</li>\n",
    "<li>Compute $u = 30(r-29) + 5(s-1) + t$ to obtain an integer $1\\le u\\le 60$.</li>\n",
    "<li>If $u>4$, return the value $((u-5)\\bmod 28) + 1$ and stop.</li>\n",
    "<li>Otherwise (with $1\\le u\\le 4$), roll the six-sided dice twice, obtaining integers $1\\le v\\le 6$ and $1\\le w\\le 6$.</li>\n",
    "<li>Compute $x = 36(u-1) + 6(v-1) + w$ to obtain an integer $1\\le x\\le 144$.</li>\n",
    "<li>If $x>;4$, return the value $((x-5)\\bmod 28) + 1$ and stop.</li>\n",
    "<li>Otherwise (with $1\\le x\\le 4$), assign $u:=x$ and go back to step 7.</li>\n",
    "</ol>\n",
    "\n",
    "<p>The expected number of dice rolls in following this procedure is 2.142476 (rounded to 6 decimal places). Note that rolling both dice at the same time is still counted as two dice rolls.</p>\n",
    "\n",
    "<p>There exist other more complex procedures for emulating a 28-sided dice that entail a smaller average number of dice rolls. However, the above procedure has the attractive property that the sequence of dice rolled is predetermined: regardless of the outcome, it follows (D5,D6,D5,D6,D6,D6,D6,...), truncated wherever the process stops. In fact, amongst procedures for $n=28$ with this restriction, this one is optimal in the sense of minimising the expected number of rolls needed.</p>\n",
    "\n",
    "<p>Different values of $n$ will in general use different predetermined sequences. For example, for $n=8$, the sequence (D5,D5,D5,...) gives an optimal procedure, taking 2.083333... dice rolls on average.</p>\n",
    "\n",
    "<p>Define $R(n)$ to be the expected number of dice rolls for an optimal procedure for emulating an $n$-sided dice using only a five-sided and a six-sided dice, considering only those procedures where the sequence of dice rolled is predetermined. So, $R(8) \\approx 2.083333$ and $R(28) \\approx 2.142476$.</p>\n",
    "\n",
    "<p>Let $S(n) = \\displaystyle\\sum_{k=2}^n R(k)$. You are given that $S(30) \\approx 56.054622$.</p>\n",
    "\n",
    "<p>Find $S(1000)$. Give your answer rounded to 6 decimal places.</p>\n"
   ]
  },
  {
   "cell_type": "code",
   "execution_count": null,
   "id": "bfbcc317-dd48-4594-b524-059318ecd6be",
   "metadata": {},
   "outputs": [],
   "source": []
  },
  {
   "cell_type": "code",
   "execution_count": null,
   "id": "7c9ae63e-6402-49ad-aa48-bb2b87ca0aa7",
   "metadata": {},
   "outputs": [],
   "source": []
  },
  {
   "cell_type": "code",
   "execution_count": null,
   "id": "afd470cb-6bc0-4591-bcff-0fb0cc86594c",
   "metadata": {},
   "outputs": [],
   "source": []
  },
  {
   "cell_type": "code",
   "execution_count": null,
   "id": "28151d22-4e43-4207-b70a-13a55ee134e0",
   "metadata": {},
   "outputs": [],
   "source": []
  },
  {
   "cell_type": "code",
   "execution_count": null,
   "id": "3897b410-ebf4-4054-9712-8fe803f5ba05",
   "metadata": {},
   "outputs": [],
   "source": []
  },
  {
   "cell_type": "code",
   "execution_count": null,
   "id": "c8854c0b-5e6f-483c-bf71-26d00d6b494d",
   "metadata": {},
   "outputs": [],
   "source": []
  },
  {
   "cell_type": "code",
   "execution_count": null,
   "id": "908fd60c-71e2-4139-b9d0-2af0e7223777",
   "metadata": {},
   "outputs": [],
   "source": []
  },
  {
   "cell_type": "code",
   "execution_count": null,
   "id": "24809df8-b130-4f71-9f2f-6bb8fa17bfa6",
   "metadata": {},
   "outputs": [],
   "source": []
  },
  {
   "cell_type": "code",
   "execution_count": null,
   "id": "7a627f81-bfeb-4364-b948-07fc2defd9ca",
   "metadata": {},
   "outputs": [],
   "source": []
  },
  {
   "cell_type": "code",
   "execution_count": null,
   "id": "6ecd6def-9456-4f32-9dc7-9261e3408818",
   "metadata": {},
   "outputs": [],
   "source": []
  },
  {
   "cell_type": "code",
   "execution_count": null,
   "id": "fb73e3d7-6784-4d4b-b933-aa5310e7948f",
   "metadata": {},
   "outputs": [],
   "source": []
  },
  {
   "cell_type": "code",
   "execution_count": null,
   "id": "43e00849-1572-488c-ba9f-7259b36980c3",
   "metadata": {},
   "outputs": [],
   "source": []
  }
 ],
 "metadata": {
  "kernelspec": {
   "display_name": "Python 3 (ipykernel)",
   "language": "python",
   "name": "python3"
  },
  "language_info": {
   "codemirror_mode": {
    "name": "ipython",
    "version": 3
   },
   "file_extension": ".py",
   "mimetype": "text/x-python",
   "name": "python",
   "nbconvert_exporter": "python",
   "pygments_lexer": "ipython3",
   "version": "3.12.4"
  }
 },
 "nbformat": 4,
 "nbformat_minor": 5
}
