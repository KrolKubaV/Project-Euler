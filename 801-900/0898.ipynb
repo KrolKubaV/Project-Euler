{
 "cells": [
  {
   "cell_type": "markdown",
   "id": "25a6e61d-e603-47ca-842b-3932a3c80523",
   "metadata": {},
   "source": [
    "# Claire Voyant - Problem 898\n",
    "\n",
    "Claire Voyant is a teacher playing a game with a class of students.  \n",
    "A fair coin is tossed on the table. All the students can see the outcome of the toss, but Claire cannot.  \n",
    "Each student then tells Claire whether the outcome is head or tail. The students may lie, but Claire knows the probability that each individual student lies. Moreover, the students lie independently.  \n",
    "After that, Claire attempts to guess the outcome using optimal strategy.  \n",
    "\n",
    "For example, for a class of four students with lying probabilities $20\\%,40\\%,60\\%,80\\%$, Claire guesses correctly with probability 0.832.  \n",
    "\n",
    "Find the probability that Claire guesses correctly for a class of 51 students each lying with a probability of $25\\%, 26\\%, \\dots, 75\\%$ respectively.  \n",
    "\n",
    "Give your answer rounded to 10 digits after the decimal point.\n",
    "## Solution.\n",
    "\n",
    "Claire guesses **H** iff  (excluidng ties, then she guesses it with probability 1/2)\n",
    "\n",
    "$$\n",
    "\\frac{\\mathbb{P}(H \\mid \\text{seq})}{\\mathbb{P}(T \\mid \\text{seq})} > 1,\n",
    "$$\n",
    "\n",
    "which, by Bayes' theorem, is equivalent to  \n",
    "\n",
    "$$\n",
    "\\frac{\\mathbb{P}(\\text{seq} \\mid H)}{\\mathbb{P}(\\text{seq} \\mid T)} > 1.\n",
    "$$\n",
    "\n",
    "Now, the probability of a correct guess is  \n",
    "\n",
    "$$\n",
    "\\begin{align*}\n",
    "\\mathbb{P}(\\text{correct}) \n",
    "&= \\mathbb{P}(\\text{correct} \\mid H) \\\\[6pt]\n",
    "&= \\mathbb{P}\\!\\left( \\frac{\\mathbb{P}(\\text{seq} \\mid H)}{\\mathbb{P}(\\text{seq} \\mid T)} > 1 \\,\\middle|\\, H \\right) \n",
    "+ \\frac{1}{2} \\cdot \\mathbb{P}\\!\\left( \\frac{\\mathbb{P}(\\text{seq} \\mid H)}{\\mathbb{P}(\\text{seq} \\mid T)} = 1 \\,\\middle|\\, H \\right).\n",
    "\\end{align*}\n",
    "$$\n",
    "\n",
    "Thus, the problem reduces to finding the distribution of  \n",
    "\n",
    "$$\n",
    "\\frac{\\mathbb{P}(\\text{seq} \\mid H)}{\\mathbb{P}(\\text{seq} \\mid T)}\n",
    "$$\n",
    "\n",
    "under the assumption that \\(H\\) is the true outcome.  \n",
    "\n",
    "To optimize the solution:\n",
    "- Observe that a student lying with probability \\(p\\) can be paired with one lying with probability \\(1-p\\).\n",
    "- Use logs.\n",
    "- Apply the **meet-in-the-middle** approach to reduce complexity.\n"
   ]
  },
  {
   "cell_type": "code",
   "execution_count": 34,
   "id": "a458c004",
   "metadata": {},
   "outputs": [],
   "source": [
    "from collections import defaultdict\n",
    "from decimal import Decimal, getcontext\n",
    "from math import log\n",
    "from bisect import bisect_right"
   ]
  },
  {
   "cell_type": "code",
   "execution_count": 44,
   "id": "5b3d9b7e",
   "metadata": {},
   "outputs": [],
   "source": [
    "getcontext().prec = 50 \n",
    "\n",
    "def compute_distribution(probs):\n",
    "    dp = {Decimal(0): Decimal(1)}\n",
    "    \n",
    "    for p in probs:\n",
    "        p = Decimal(p)\n",
    "        new_dp = defaultdict(Decimal)\n",
    "        TT = Decimal(0)\n",
    "        TF = (Decimal(1) - p) ** 2 / (p ** 2)\n",
    "        TF = TF.ln() \n",
    "        FT = -TF\n",
    "        FF = Decimal(0)\n",
    "        \n",
    "        for val, prob in dp.items():\n",
    "            new_dp[val + TT] += prob * p * (1 - p)\n",
    "            new_dp[val + TF] += prob * (1 - p) ** 2\n",
    "            new_dp[val + FT] += prob * p ** 2\n",
    "            new_dp[val + FF] += prob * p * (1 - p)\n",
    "        \n",
    "        total = sum(new_dp.values())\n",
    "        for k in new_dp:\n",
    "            new_dp[k] /= total\n",
    "        \n",
    "        dp = new_dp\n",
    "    return dp\n",
    "\n",
    "def P(probs):\n",
    "    n = len(probs)\n",
    "    half = n // 2\n",
    "    left_probs = probs[:half]\n",
    "    right_probs = probs[half:]\n",
    "    \n",
    "    left_dp = compute_distribution(left_probs)\n",
    "    right_dp = compute_distribution(right_probs)\n",
    "    \n",
    "    right_keys = sorted(right_dp.keys())\n",
    "    right_probs_list = [right_dp[k] for k in right_keys]\n",
    "    prefix = [Decimal(0)]\n",
    "    \n",
    "    for p in right_probs_list:\n",
    "        prefix.append(prefix[-1] + p)\n",
    "    \n",
    "    total_prob = Decimal(0)\n",
    "    total_sum = prefix[-1]\n",
    "    \n",
    "    for llr_left, prob_left in left_dp.items():\n",
    "        threshold = -llr_left\n",
    "        idx = bisect_right(right_keys, threshold)\n",
    "        contrib = (total_sum - prefix[idx]) * prob_left\n",
    "        total_prob += contrib\n",
    "        \n",
    "        if idx > 0 and right_keys[idx - 1] == threshold:\n",
    "            tie_prob = right_dp[right_keys[idx - 1]]\n",
    "            total_prob += Decimal('0.5') * prob_left * tie_prob\n",
    "    \n",
    "    return float(total_prob)  \n"
   ]
  },
  {
   "cell_type": "code",
   "execution_count": 45,
   "id": "a4f40315",
   "metadata": {},
   "outputs": [
    {
     "data": {
      "text/plain": [
       "0.832"
      ]
     },
     "execution_count": 45,
     "metadata": {},
     "output_type": "execute_result"
    }
   ],
   "source": [
    "P([0.2, 0.4])"
   ]
  },
  {
   "cell_type": "code",
   "execution_count": 46,
   "metadata": {},
   "outputs": [
    {
     "data": {
      "text/plain": [
       "0.9861343531"
      ]
     },
     "execution_count": 46,
     "metadata": {},
     "output_type": "execute_result"
    }
   ],
   "source": [
    "probs = [i/100 for i in range(25, 50)]\n",
    "round(P(probs), 10)"
   ]
  },
  {
   "cell_type": "code",
   "execution_count": null,
   "metadata": {},
   "outputs": [],
   "source": [
    "0.9861343531"
   ]
  },
  {
   "cell_type": "code",
   "execution_count": null,
   "id": "0ebb5876",
   "metadata": {},
   "outputs": [],
   "source": []
  },
  {
   "cell_type": "code",
   "execution_count": null,
   "id": "093f6e86-3cbc-4071-bf0b-6ce3c3bb7d48",
   "metadata": {},
   "outputs": [],
   "source": []
  },
  {
   "cell_type": "code",
   "execution_count": null,
   "id": "ef737802-7865-4257-b3ea-af9c8d59e45e",
   "metadata": {},
   "outputs": [],
   "source": []
  },
  {
   "cell_type": "code",
   "execution_count": null,
   "id": "ad5553f9-88f0-4e33-b408-f97ff45ef519",
   "metadata": {},
   "outputs": [],
   "source": []
  }
 ],
 "metadata": {
  "kernelspec": {
   "display_name": "Python 3",
   "language": "python",
   "name": "python3"
  },
  "language_info": {
   "codemirror_mode": {
    "name": "ipython",
    "version": 3
   },
   "file_extension": ".py",
   "mimetype": "text/x-python",
   "name": "python",
   "nbconvert_exporter": "python",
   "pygments_lexer": "ipython3",
   "version": "3.11.9"
  }
 },
 "nbformat": 4,
 "nbformat_minor": 5
}
