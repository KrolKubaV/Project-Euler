{
 "cells": [
  {
   "cell_type": "markdown",
   "id": "8b5e7dc1-c14b-420a-b038-350d6782a442",
   "metadata": {},
   "source": [
    "# Waiting for a Pair - Problem 856\n",
    "<p>A standard 52-card deck comprises 13 ranks in four suits. A <i>pair</i> is a set of two cards of the same rank.</p>\n",
    "\n",
    "<p>Cards are drawn, without replacement, from a well shuffled 52-card deck waiting for consecutive cards that form a pair. For example, the probability of finding a pair in the first two draws is $\\frac{1}{17}$.</p>\n",
    "\n",
    "<p>Cards are drawn until either such a pair is found or the pack is exhausted waiting for one. In the latter case we say that all 52 cards were drawn.</p>\n",
    "\n",
    "<p>Find the expected number of cards that were drawn. Give your answer rounded to eight places after the decimal point.</p>"
   ]
  },
  {
   "cell_type": "markdown",
   "id": "918fdf3a-ce85-49c2-bce2-aed392f6eeac",
   "metadata": {},
   "source": [
    "## Solution."
   ]
  },
  {
   "cell_type": "code",
   "execution_count": 8,
   "id": "6d218bc3-99d3-4655-be48-78d0becb6707",
   "metadata": {},
   "outputs": [],
   "source": [
    "from math import factorial"
   ]
  },
  {
   "cell_type": "code",
   "execution_count": 26,
   "id": "ecbef7ad-f482-4f86-bc48-c87b12025ba7",
   "metadata": {},
   "outputs": [],
   "source": [
    "@lru_cache(10**5)\n",
    "def e(a0, a1, a2, a3, a4, prev):\n",
    "    ''' a_i - number of ranks that appear exactly i times; prev - number of cards left in the same rank as the card previously picked'''\n",
    "    # all cards picked\n",
    "    if a0 == 13:\n",
    "        return 52\n",
    "\n",
    "    if a0 < 0 or a1 < 0 or a2 < 0 or a3 < 0 or a4 < 0:\n",
    "        return 0\n",
    "    \n",
    "    N = a1 + 2*a2 + 3*a3 + 4*a4 # number of cards left\n",
    "    \n",
    "    p = {}\n",
    "    p[1] = a1/N\n",
    "    p[2] = 2*a2/N\n",
    "    p[3] = 3*a3/N\n",
    "    p[4] = 4*a4/N\n",
    "    if prev != 0:\n",
    "        p[prev] -= prev/N\n",
    "\n",
    "\n",
    "    ans = prev/N * (53 - N) # we're done\n",
    "    ans += p[1] * e(a0+1, a1-1, a2, a3, a4, 0)\n",
    "    ans += p[2] * e(a0, a1+1, a2-1, a3, a4, 1)\n",
    "    ans += p[3] * e(a0, a1, a2+1, a3-1, a4, 2)\n",
    "    ans += p[4] * e(a0, a1, a2, a3+1, a4-1, 3)\n",
    "    return round(ans, 8)\n",
    "            "
   ]
  },
  {
   "cell_type": "code",
   "execution_count": 27,
   "id": "be6aadcf-847f-421c-bdf9-de7e2873d422",
   "metadata": {},
   "outputs": [
    {
     "data": {
      "text/plain": [
       "17.09661501"
      ]
     },
     "execution_count": 27,
     "metadata": {},
     "output_type": "execute_result"
    }
   ],
   "source": [
    "e(0, 0, 0, 1, 12, 3)"
   ]
  },
  {
   "cell_type": "code",
   "execution_count": null,
   "id": "36ddb3c6-3326-4ee9-b1f9-30cadee63767",
   "metadata": {},
   "outputs": [],
   "source": []
  },
  {
   "cell_type": "code",
   "execution_count": null,
   "id": "54085850-95d8-4694-a84e-900696fd0ae2",
   "metadata": {},
   "outputs": [],
   "source": []
  },
  {
   "cell_type": "code",
   "execution_count": null,
   "id": "49c3105a-ce7d-4c21-8399-aa795bced402",
   "metadata": {},
   "outputs": [],
   "source": []
  },
  {
   "cell_type": "code",
   "execution_count": null,
   "id": "c88c975b-5979-469a-8808-2ceedc97a217",
   "metadata": {},
   "outputs": [],
   "source": []
  },
  {
   "cell_type": "code",
   "execution_count": null,
   "id": "b865d58f-72e8-47a1-9896-9b1e497908f8",
   "metadata": {},
   "outputs": [],
   "source": []
  }
 ],
 "metadata": {
  "kernelspec": {
   "display_name": "Python 3 (ipykernel)",
   "language": "python",
   "name": "python3"
  },
  "language_info": {
   "codemirror_mode": {
    "name": "ipython",
    "version": 3
   },
   "file_extension": ".py",
   "mimetype": "text/x-python",
   "name": "python",
   "nbconvert_exporter": "python",
   "pygments_lexer": "ipython3",
   "version": "3.12.4"
  }
 },
 "nbformat": 4,
 "nbformat_minor": 5
}
