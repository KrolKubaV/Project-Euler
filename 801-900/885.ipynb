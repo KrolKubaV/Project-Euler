{
 "cells": [
  {
   "cell_type": "markdown",
   "id": "b6901847",
   "metadata": {},
   "source": [
    "# Problem 885 - Sorted Digits\n",
    "\n",
    "For a positive integer $d$, let $f(d)$ be the number created by sorting the digits of $d$ in ascending order, removing any zeros. For example, $f(3403) = 334$.\n",
    "\n",
    "Let $S(n)$ be the sum of $f(d)$ for all positive integers $d$ of $n$ digits or less. You are given $S(1) = 45$ and $S(5) = 1543545675$.\n",
    "\n",
    "Find $S(18)$. Give your answer modulo $1123455689$.\n",
    "\n",
    "## Solution."
   ]
  },
  {
   "cell_type": "code",
   "execution_count": 1,
   "id": "09fb8c1c",
   "metadata": {},
   "outputs": [],
   "source": [
    "from functools import cache\n",
    "from math import comb\n",
    "MOD = 1123455689"
   ]
  },
  {
   "cell_type": "code",
   "execution_count": 2,
   "id": "5bbafdbe",
   "metadata": {},
   "outputs": [],
   "source": [
    "@cache\n",
    "def factorial(n, MOD = 1123455689):\n",
    "    if n == 0:\n",
    "        return 1\n",
    "    return factorial(n-1, MOD) * n % MOD"
   ]
  },
  {
   "cell_type": "code",
   "execution_count": 23,
   "id": "30ea94be",
   "metadata": {},
   "outputs": [],
   "source": [
    "from math import comb\n",
    "\n",
    "def g(d, k, n, MOD=1123455689):\n",
    "    \"\"\"\n",
    "    Number of n-digit numbers with no zeros where d is the k-th smallest digit.\n",
    "    \"\"\"\n",
    "    ans = 0\n",
    "    for a in range(0, min(k, n)+1):       # digits < d\n",
    "        for b in range(1, n-a+1):         # digits == d (at least 1)\n",
    "            c = n - a - b                 # digits > d\n",
    "            if c < 0:\n",
    "                continue\n",
    "            if not (a <= k-1 <= a+b-1):   # ensure the k-th smallest falls inside the d-block\n",
    "                continue\n",
    "            term = (\n",
    "                comb(n, a) * comb(n-a, b) % MOD\n",
    "                * pow(d-1, a, MOD) % MOD\n",
    "                * pow(9-d, c, MOD) % MOD\n",
    "            )\n",
    "            ans = (ans + term) % MOD\n",
    "    return ans\n"
   ]
  },
  {
   "cell_type": "code",
   "execution_count": 25,
   "id": "4ccb58f0",
   "metadata": {},
   "outputs": [],
   "source": [
    "@cache\n",
    "def f_no_zero(n, MOD = 1123455689):\n",
    "    ans = 0\n",
    "\n",
    "    for d in range(1, 10):\n",
    "        for k in range(1, n+1):\n",
    "            ans += 10**(n-k) * g(d, k, n, MOD) * d\n",
    "            ans %= MOD\n",
    "                \n",
    "    return ans % MOD"
   ]
  },
  {
   "cell_type": "code",
   "execution_count": 26,
   "id": "20269300",
   "metadata": {},
   "outputs": [],
   "source": [
    "@cache\n",
    "def f(n, MOD = 1123455689):\n",
    "    ans = f_no_zero(n, MOD)\n",
    "\n",
    "    # zeroes are present\n",
    "    for z in range(1, n): # number of zeroes\n",
    "        ans += f_no_zero(n-z, MOD) * comb(n-1, z)\n",
    "        ans %= MOD\n",
    "                \n",
    "    return ans % MOD"
   ]
  },
  {
   "cell_type": "code",
   "execution_count": 27,
   "id": "5c6c2967",
   "metadata": {},
   "outputs": [
    {
     "data": {
      "text/plain": [
       "19203282"
      ]
     },
     "execution_count": 27,
     "metadata": {},
     "output_type": "execute_result"
    }
   ],
   "source": [
    "f(4)"
   ]
  },
  {
   "cell_type": "code",
   "execution_count": 30,
   "id": "e7bb5897",
   "metadata": {},
   "outputs": [
    {
     "data": {
      "text/plain": [
       "19203282"
      ]
     },
     "execution_count": 30,
     "metadata": {},
     "output_type": "execute_result"
    }
   ],
   "source": [
    "sum([int(\"\".join(sorted(str(i)))) for i in range(10**3, 10**4)]) % MOD"
   ]
  },
  {
   "cell_type": "code",
   "execution_count": 31,
   "id": "364715e3",
   "metadata": {},
   "outputs": [],
   "source": [
    "def S(N, MOD = 1123455689):\n",
    "    ans = 0\n",
    "\n",
    "    for n in range(1, N+1):\n",
    "        ans += f(n, MOD)\n",
    "\n",
    "    return ans % MOD"
   ]
  },
  {
   "cell_type": "code",
   "execution_count": 32,
   "id": "326bb996",
   "metadata": {},
   "outputs": [
    {
     "data": {
      "text/plain": [
       "(420089986, 420089986)"
      ]
     },
     "execution_count": 32,
     "metadata": {},
     "output_type": "execute_result"
    }
   ],
   "source": [
    "S(5), 1543545675 % MOD"
   ]
  },
  {
   "cell_type": "code",
   "execution_count": 33,
   "id": "bb56c75a",
   "metadata": {},
   "outputs": [
    {
     "data": {
      "text/plain": [
       "827850196"
      ]
     },
     "execution_count": 33,
     "metadata": {},
     "output_type": "execute_result"
    }
   ],
   "source": [
    "S(18)"
   ]
  },
  {
   "cell_type": "code",
   "execution_count": null,
   "id": "92d23db5",
   "metadata": {},
   "outputs": [],
   "source": []
  }
 ],
 "metadata": {
  "kernelspec": {
   "display_name": "Python 3",
   "language": "python",
   "name": "python3"
  },
  "language_info": {
   "codemirror_mode": {
    "name": "ipython",
    "version": 3
   },
   "file_extension": ".py",
   "mimetype": "text/x-python",
   "name": "python",
   "nbconvert_exporter": "python",
   "pygments_lexer": "ipython3",
   "version": "3.11.9"
  }
 },
 "nbformat": 4,
 "nbformat_minor": 5
}
