{
 "cells": [
  {
   "cell_type": "markdown",
   "id": "e0554ef3-286e-4c57-8186-91e6ae9df847",
   "metadata": {},
   "source": [
    "# Maximal $n$-gon in a region - Problem 897\n",
    "<p>\n",
    "Let $G(n)$ denote the largest possible area of an $n$-gon contained in the region $\\{(x, y) \\in \\Bbb R^2: x^4 \\leq y \\leq 1\\}$.<br>\n",
    "For example, $G(3) = 1$ and $G(5)\\approx 1.477309771$.<br>\n",
    "Find $G(101)$ rounded to nine digits after the decimal point.</p>"
   ]
  },
  {
   "cell_type": "markdown",
   "id": "4bb922ea-b757-47f8-80ab-c349b7065c0d",
   "metadata": {},
   "source": [
    "### Solution.\n",
    "https://en.wikipedia.org/wiki/Shoelace_formula"
   ]
  },
  {
   "cell_type": "markdown",
   "id": "da56a8d0-c5e4-4d3c-96e1-533a1d13ffc5",
   "metadata": {},
   "source": [
    "### 1. Even"
   ]
  },
  {
   "cell_type": "code",
   "execution_count": 11,
   "id": "5310444f-f142-4fe6-888c-400166254f05",
   "metadata": {},
   "outputs": [],
   "source": [
    "import numpy as np\n",
    "from scipy.optimize import fsolve"
   ]
  },
  {
   "cell_type": "code",
   "execution_count": 12,
   "id": "1a36994f-2516-44ef-b47a-e657128a6331",
   "metadata": {},
   "outputs": [],
   "source": [
    "def A(a, b):\n",
    "    return (a**4+b**4)*(a-b)/2"
   ]
  },
  {
   "cell_type": "code",
   "execution_count": 13,
   "id": "21ebbb89-d0c9-4442-bb02-26c934f5db1e",
   "metadata": {},
   "outputs": [],
   "source": [
    "def area(x):\n",
    "    l = len(x)\n",
    "    return sum([A(x[i], x[i+1]) for i in range(l-1)]) + A(x[-1], x[0])"
   ]
  },
  {
   "cell_type": "code",
   "execution_count": 220,
   "id": "5c99e5b2-f804-46ad-b065-bbe156c9f8c7",
   "metadata": {},
   "outputs": [],
   "source": [
    "def solve_equations(n):\n",
    "    '''\n",
    "    Finds the optimal vector x=[x[0], ..., x[n-3]] and returns [-1, x, 1] (-1 and 1 are fixed!).\n",
    "    '''\n",
    "    if n == 3:\n",
    "        return [-1, 0, 1]\n",
    "    if n == 5:\n",
    "        return [-1, -0.7084083794319685, -0.30268652597319523, 0.5751923061773863, 1]\n",
    "\n",
    "    k = n - 3\n",
    "\n",
    "    def equations(vars):\n",
    "        eqs = []\n",
    "        eq = vars[0]**3 - 1/4 * (vars[1] - 1) * (vars[1]**2 + 1)\n",
    "        eqs.append(eq)\n",
    "        \n",
    "        for i in range(1, k, 1):\n",
    "            eq = vars[i]**3 - 1/4 * (vars[i+1] + vars[i-1]) * (vars[i+1]**2 + vars[i-1]**2)\n",
    "            eqs.append(eq)\n",
    "\n",
    "        eq = vars[k]**3 - 1/4 * (1 + vars[k-1]) * (1 + vars[k-1]**2)\n",
    "        eqs.append(eq)\n",
    "        \n",
    "        return eqs\n",
    "\n",
    "    x0 = solve_equations(n-2)\n",
    "    sol = fsolve(equations, x0)\n",
    "    return [-1] + sol.tolist() + [1]"
   ]
  },
  {
   "cell_type": "code",
   "execution_count": 222,
   "id": "29bb88bf-3f17-48fd-80ba-fb2e765d84d4",
   "metadata": {},
   "outputs": [],
   "source": [
    "def G(n):\n",
    "    x = solve_equations(n)\n",
    "    return area(x)"
   ]
  },
  {
   "cell_type": "code",
   "execution_count": 226,
   "id": "44d5532b-1cd2-4bce-a0fc-d5de0f5e7f4c",
   "metadata": {
    "scrolled": true
   },
   "outputs": [
    {
     "data": {
      "text/plain": [
       "1.5998271228612804"
      ]
     },
     "execution_count": 226,
     "metadata": {},
     "output_type": "execute_result"
    }
   ],
   "source": [
    "G(101)"
   ]
  },
  {
   "cell_type": "code",
   "execution_count": 224,
   "id": "83a0c57d-149e-49dd-ab7e-c2a609187366",
   "metadata": {},
   "outputs": [],
   "source": [
    "ans = 1.5998271228612804"
   ]
  },
  {
   "cell_type": "code",
   "execution_count": null,
   "id": "2175d6cb-1bf0-4461-9207-c69c4e0ac185",
   "metadata": {},
   "outputs": [],
   "source": []
  },
  {
   "cell_type": "code",
   "execution_count": null,
   "id": "08c1ab33-3cbe-48ac-a24e-2a3d2fb087a7",
   "metadata": {},
   "outputs": [],
   "source": []
  },
  {
   "cell_type": "code",
   "execution_count": null,
   "id": "d3818491-79a1-4093-a199-2dfaaa8f698b",
   "metadata": {},
   "outputs": [],
   "source": []
  },
  {
   "cell_type": "code",
   "execution_count": null,
   "id": "c9664ae7-edfb-4030-944c-348f2a1e418c",
   "metadata": {},
   "outputs": [],
   "source": []
  },
  {
   "cell_type": "code",
   "execution_count": null,
   "id": "5c371d8c-7b38-42b8-b41b-e3b8cc8d04de",
   "metadata": {},
   "outputs": [],
   "source": []
  }
 ],
 "metadata": {
  "kernelspec": {
   "display_name": "Python 3 (ipykernel)",
   "language": "python",
   "name": "python3"
  },
  "language_info": {
   "codemirror_mode": {
    "name": "ipython",
    "version": 3
   },
   "file_extension": ".py",
   "mimetype": "text/x-python",
   "name": "python",
   "nbconvert_exporter": "python",
   "pygments_lexer": "ipython3",
   "version": "3.12.4"
  }
 },
 "nbformat": 4,
 "nbformat_minor": 5
}
