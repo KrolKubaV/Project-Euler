{
 "cells": [
  {
   "cell_type": "markdown",
   "id": "035f088d-73b4-4c2e-b7c3-ee10c813dda1",
   "metadata": {},
   "source": [
    "# Shortest Distance Among Points - Problem 816\n",
    "<p>We create an array of points  $P_n$ in a two dimensional plane using the following random number generator:<br>\n",
    "$s_0=290797$<br>\n",
    "$s_{n+1}={s_n}^2 \\bmod 50515093$\n",
    "<br> <br>\n",
    "$P_n=(s_{2n},s_{2n+1})$</p>\n",
    "<p>\n",
    "Let $d(k)$  be the shortest distance of any two (distinct) points among $P_0, \\cdots, P_{k - 1}$.<br>\n",
    "E.g. $d(14)=546446.466846479$.\n",
    "</p>\n",
    "<p>\n",
    "Find $d(2000000)$. Give your answer rounded to $9$ places after the decimal point.\n",
    "</p>"
   ]
  },
  {
   "cell_type": "markdown",
   "id": "aea0dce4-f55a-4819-ac8a-1367ec5e1f5e",
   "metadata": {},
   "source": [
    "## Solution."
   ]
  },
  {
   "cell_type": "code",
   "execution_count": 27,
   "id": "4b0123a4-f678-4cd8-bbe6-161356f09062",
   "metadata": {},
   "outputs": [],
   "source": [
    "from functools import cache\n",
    "import matplotlib.pyplot as plt\n",
    "from tqdm import tqdm\n",
    "from math import sqrt"
   ]
  },
  {
   "cell_type": "code",
   "execution_count": 11,
   "id": "5d3d08e8-88a7-44c6-baf2-a928a225e2be",
   "metadata": {},
   "outputs": [],
   "source": [
    "@cache\n",
    "def s(n, s0 = 290797, mod = 50515093):\n",
    "    if n == 0:\n",
    "        return s0\n",
    "    else:\n",
    "        return s(n-1)**2 % mod\n",
    "\n",
    "@cache\n",
    "def P(n, s0 = 290797, mod = 50515093):\n",
    "    return (s(2*n), s(2*n + 1)) \n",
    "    "
   ]
  },
  {
   "cell_type": "code",
   "execution_count": 48,
   "id": "4615c8c8-3a80-44a0-b4ef-8b9db2962ec9",
   "metadata": {},
   "outputs": [],
   "source": [
    "def closest_pair(points):\n",
    "    def distance(p1, p2):\n",
    "        return sqrt((p1[0] - p2[0]) ** 2 + (p1[1] - p2[1]) ** 2)\n",
    "\n",
    "    def closest_pair_rec(points):\n",
    "        if len(points) <= 3:\n",
    "            return min(distance(points[i], points[j]) for i in range(len(points)) for j in range(i + 1, len(points)))\n",
    "        \n",
    "        mid = len(points) // 2\n",
    "        mid_x = points[mid][0]\n",
    "        d1 = closest_pair_rec(points[:mid])\n",
    "        d2 = closest_pair_rec(points[mid:])\n",
    "        d = min(d1, d2)\n",
    "        \n",
    "        strip = [p for p in points if abs(p[0] - mid_x) < d]\n",
    "        \n",
    "        for i in range(len(strip)):\n",
    "            for j in range(i + 1, min(i + 7, len(strip))):\n",
    "                d = min(d, distance(strip[i], strip[j]))\n",
    "        \n",
    "        return d\n",
    "    \n",
    "    points = sorted(points)\n",
    "    return closest_pair_rec(points)"
   ]
  },
  {
   "cell_type": "code",
   "execution_count": 49,
   "id": "29d5f3ad-472f-4a3e-a1fc-338cb6c8368a",
   "metadata": {},
   "outputs": [
    {
     "name": "stderr",
     "output_type": "stream",
     "text": [
      "100%|███████████████████████████████████████████████████████████████████| 2000000/2000000 [00:00<00:00, 2822127.67it/s]\n"
     ]
    },
    {
     "name": "stdout",
     "output_type": "stream",
     "text": [
      "20.880613018\n"
     ]
    }
   ],
   "source": [
    "limit = 2_000_000\n",
    "points = []\n",
    "\n",
    "for n in tqdm(range(limit)):\n",
    "    points.append(P(n))\n",
    "\n",
    "print(round(closest_pair(points), 9))"
   ]
  },
  {
   "cell_type": "code",
   "execution_count": null,
   "id": "0b029c14-2d89-47b6-a790-e36b5c4a2e2c",
   "metadata": {},
   "outputs": [],
   "source": [
    " 20.880613018"
   ]
  },
  {
   "cell_type": "code",
   "execution_count": null,
   "id": "03036717-ea91-4456-adc2-682afbaa4d31",
   "metadata": {},
   "outputs": [],
   "source": []
  },
  {
   "cell_type": "code",
   "execution_count": null,
   "id": "c737c085-bdce-4797-b5fe-bf5cca62bd78",
   "metadata": {},
   "outputs": [],
   "source": []
  },
  {
   "cell_type": "code",
   "execution_count": null,
   "id": "768e7c47-9d38-4626-9983-b5a6a113a507",
   "metadata": {},
   "outputs": [],
   "source": []
  },
  {
   "cell_type": "code",
   "execution_count": null,
   "id": "9f7a1abd-eeff-42c8-a884-2914719d7368",
   "metadata": {},
   "outputs": [],
   "source": []
  }
 ],
 "metadata": {
  "kernelspec": {
   "display_name": "Python 3 (ipykernel)",
   "language": "python",
   "name": "python3"
  },
  "language_info": {
   "codemirror_mode": {
    "name": "ipython",
    "version": 3
   },
   "file_extension": ".py",
   "mimetype": "text/x-python",
   "name": "python",
   "nbconvert_exporter": "python",
   "pygments_lexer": "ipython3",
   "version": "3.12.4"
  }
 },
 "nbformat": 4,
 "nbformat_minor": 5
}
