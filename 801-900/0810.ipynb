{
 "cells": [
  {
   "cell_type": "markdown",
   "id": "31e2b7c5-e0a3-45a5-b95e-9bf7fc4eb34a",
   "metadata": {},
   "source": [
    "# XOR-Primes\n",
    "<p>We use $x\\oplus y$ for the bitwise XOR of $x$ and $y$.</p>\n",
    "\n",
    "<p>Define the <dfn>XOR-product</dfn> of $x$ and $y$, denoted by $x \\otimes y$, similar to a long multiplication in base $2$, except that the intermediate results are XORed instead of the usual integer addition.</p>\n",
    "\n",
    "<p>For example, $7 \\otimes 3 = 9$, or in base $2$, $111_2 \\otimes 11_2 = 1001_2$:</p>\n",
    "$$\n",
    "\\begin{align*}\n",
    "\\phantom{\\otimes 111} 111_2 \\\\\n",
    "\\otimes \\phantom{1111} 11_2 \\\\\n",
    "\\hline\n",
    "\\phantom{\\otimes 111} 111_2 \\\\\n",
    "\\oplus \\phantom{11} 111_2  \\phantom{9} \\\\\n",
    "\\hline\n",
    "\\phantom{\\otimes 11} 1001_2 \\\\\n",
    "\\end{align*}\n",
    "$$\n",
    "\n",
    "<p>An <dfn>XOR-prime</dfn> is an integer $n$ greater than $1$ that is not an XOR-product of two integers greater than $1$. The above example shows that $9$ is not an XOR-prime. Similarly, $5 = 3 \\otimes 3$ is not an XOR-prime. The first few XOR-primes are $2, 3, 7, 11, 13, ...$ and the 10th XOR-prime is $41$.</p>\n",
    "\n",
    "<p>Find the $5\\,000\\,000$th XOR-prime.</p>"
   ]
  },
  {
   "cell_type": "markdown",
   "id": "2f5b9336-2544-4596-9bf5-7654495aa078",
   "metadata": {},
   "source": [
    "## Solution."
   ]
  },
  {
   "cell_type": "code",
   "execution_count": 3,
   "id": "4c645a30-ff8e-466e-994c-87cb924545f8",
   "metadata": {},
   "outputs": [],
   "source": [
    "def xor_prod(a, b):\n",
    "    result = 0\n",
    "    shift = 0\n",
    "    while b > 0:\n",
    "        if b & 1:\n",
    "            result ^= a << shift\n",
    "        b >>= 1\n",
    "        shift += 1\n",
    "    return result"
   ]
  },
  {
   "cell_type": "code",
   "execution_count": 5,
   "id": "cb3fb176-14ad-4553-917f-9c892ef4f584",
   "metadata": {},
   "outputs": [
    {
     "data": {
      "text/plain": [
       "5"
      ]
     },
     "execution_count": 5,
     "metadata": {},
     "output_type": "execute_result"
    }
   ],
   "source": [
    "xor_prod(3, 3)"
   ]
  },
  {
   "cell_type": "code",
   "execution_count": null,
   "id": "29a3f09b-2963-4e48-8a09-83128738d801",
   "metadata": {},
   "outputs": [],
   "source": []
  },
  {
   "cell_type": "code",
   "execution_count": null,
   "id": "b031164a-78d5-4a89-b3a2-a9dea22120c8",
   "metadata": {},
   "outputs": [],
   "source": []
  },
  {
   "cell_type": "code",
   "execution_count": null,
   "id": "72a1f5f4-637b-4e8c-aa78-4820cc284e0c",
   "metadata": {},
   "outputs": [],
   "source": []
  },
  {
   "cell_type": "code",
   "execution_count": null,
   "id": "f66c2924-e661-476f-af16-3986fc7d0210",
   "metadata": {},
   "outputs": [],
   "source": []
  },
  {
   "cell_type": "code",
   "execution_count": null,
   "id": "10e3b2e6-b4e9-49ef-9b55-043462d82a4e",
   "metadata": {},
   "outputs": [],
   "source": []
  },
  {
   "cell_type": "code",
   "execution_count": null,
   "id": "1dee6e88-7482-4114-b6ee-e18c11b202f2",
   "metadata": {},
   "outputs": [],
   "source": []
  },
  {
   "cell_type": "code",
   "execution_count": null,
   "id": "7758d43d-242f-457a-a82c-983e6760e532",
   "metadata": {},
   "outputs": [],
   "source": []
  },
  {
   "cell_type": "code",
   "execution_count": null,
   "id": "d518ba6f-547d-4909-ae7d-eb64a1ca71a4",
   "metadata": {},
   "outputs": [],
   "source": []
  },
  {
   "cell_type": "code",
   "execution_count": null,
   "id": "1472610f-fa75-4a7d-a90f-759a64ff0e96",
   "metadata": {},
   "outputs": [],
   "source": []
  },
  {
   "cell_type": "code",
   "execution_count": null,
   "id": "4d0da995-316e-4d21-bb08-71dc9f978c08",
   "metadata": {},
   "outputs": [],
   "source": []
  },
  {
   "cell_type": "code",
   "execution_count": null,
   "id": "b694f3bb-f549-4e99-a45f-41c508a78c2a",
   "metadata": {},
   "outputs": [],
   "source": []
  }
 ],
 "metadata": {
  "kernelspec": {
   "display_name": "Python 3 (ipykernel)",
   "language": "python",
   "name": "python3"
  },
  "language_info": {
   "codemirror_mode": {
    "name": "ipython",
    "version": 3
   },
   "file_extension": ".py",
   "mimetype": "text/x-python",
   "name": "python",
   "nbconvert_exporter": "python",
   "pygments_lexer": "ipython3",
   "version": "3.13.0"
  }
 },
 "nbformat": 4,
 "nbformat_minor": 5
}
