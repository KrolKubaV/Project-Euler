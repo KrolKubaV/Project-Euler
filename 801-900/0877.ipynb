{
 "cells": [
  {
   "cell_type": "markdown",
   "id": "31d5d98e-89d8-4ec4-8c27-187f89dd4c93",
   "metadata": {},
   "source": [
    "# XOR-Equation A\n",
    "<p>\n",
    "We use $x\\oplus y$ for the bitwise XOR of $x$ and $y$.<br>\n",
    "Define the <dfn>XOR-product</dfn> of $x$ and $y$, denoted by $x \\otimes y$, similar to a long multiplication in base $2$, except that the intermediate results are XORed instead of the usual integer addition.\n",
    "</p>\n",
    "<p>\n",
    "For example, $7 \\otimes 3 = 9$, or in base $2$, $111_2 \\otimes 11_2 = 1001_2$:\n",
    "</p><center>\n",
    "\\begin{align*}\n",
    "\\phantom{\\otimes 111} 111_2 \\\\\n",
    "\\otimes \\phantom{1111} 11_2 \\\\\n",
    "\\hline\n",
    "\\phantom{\\otimes 111} 111_2 \\\\\n",
    "\\oplus \\phantom{11} 111_2  \\phantom{9} \\\\\n",
    "\\hline\n",
    "\\phantom{\\otimes 11} 1001_2 \\\\\n",
    "\\end{align*}\n",
    "</center>\n",
    "We consider the equation:\n",
    "<center>\n",
    "\\begin{align}\n",
    "(a \\otimes a) \\oplus (2 \\otimes a \\otimes b) \\oplus (b \\otimes b) = 5\n",
    "\\end{align}\n",
    "</center>\n",
    "\n",
    "For example, $(a, b) = (3, 6)$ is a solution.\n",
    "\n",
    "<p>\n",
    "Let $X(N)$ be the XOR of the $b$ values for all solutions to this equation satisfying $0 \\le a \\le b \\le N$.<br> You are given $X(10)=5$.\n",
    "</p>\n",
    "<p>\n",
    "Find $X(10^{18})$.\n",
    "</p>"
   ]
  },
  {
   "cell_type": "markdown",
   "id": "6ee15ceb-ec32-40cf-bae1-26d48dfe4368",
   "metadata": {},
   "source": [
    "## Solution."
   ]
  },
  {
   "cell_type": "code",
   "execution_count": null,
   "id": "3607d89f-6b9f-4ef4-b766-39645a4c0c61",
   "metadata": {},
   "outputs": [],
   "source": []
  },
  {
   "cell_type": "code",
   "execution_count": null,
   "id": "f776ffe2-2a25-4f4a-b870-ed261b6a7f7b",
   "metadata": {},
   "outputs": [],
   "source": []
  },
  {
   "cell_type": "code",
   "execution_count": null,
   "id": "4eacc6b4-27d7-4e5f-97c5-9271a83eb422",
   "metadata": {},
   "outputs": [],
   "source": []
  },
  {
   "cell_type": "code",
   "execution_count": null,
   "id": "cbde6c5c-1a19-4a89-b125-e41e9d26bda9",
   "metadata": {},
   "outputs": [],
   "source": []
  },
  {
   "cell_type": "code",
   "execution_count": null,
   "id": "a59377eb-4cc1-4b84-bdfc-7a9496120c89",
   "metadata": {},
   "outputs": [],
   "source": []
  },
  {
   "cell_type": "code",
   "execution_count": null,
   "id": "7ac02b0f-e5b1-4cb6-b4c9-62bf120dbd8d",
   "metadata": {},
   "outputs": [],
   "source": []
  },
  {
   "cell_type": "code",
   "execution_count": null,
   "id": "9269a7bf-745a-4259-92dc-e15da2df387a",
   "metadata": {},
   "outputs": [],
   "source": []
  },
  {
   "cell_type": "code",
   "execution_count": null,
   "id": "12eeba87-5727-49e6-bde4-a3c5fb4bd247",
   "metadata": {},
   "outputs": [],
   "source": []
  },
  {
   "cell_type": "code",
   "execution_count": null,
   "id": "ccd6c4e4-ddfb-4286-8c1c-5d3d6b465e05",
   "metadata": {},
   "outputs": [],
   "source": []
  },
  {
   "cell_type": "code",
   "execution_count": null,
   "id": "b5a82eae-f703-40c3-89e1-8f2d1463e399",
   "metadata": {},
   "outputs": [],
   "source": []
  },
  {
   "cell_type": "code",
   "execution_count": null,
   "id": "1537b47d-208b-4c25-8224-ec9f44a1c23e",
   "metadata": {},
   "outputs": [],
   "source": []
  },
  {
   "cell_type": "code",
   "execution_count": null,
   "id": "ae1cf8b2-0344-4420-83dd-bdbb9800c3e5",
   "metadata": {},
   "outputs": [],
   "source": []
  }
 ],
 "metadata": {
  "kernelspec": {
   "display_name": "Python 3 (ipykernel)",
   "language": "python",
   "name": "python3"
  },
  "language_info": {
   "codemirror_mode": {
    "name": "ipython",
    "version": 3
   },
   "file_extension": ".py",
   "mimetype": "text/x-python",
   "name": "python",
   "nbconvert_exporter": "python",
   "pygments_lexer": "ipython3",
   "version": "3.13.0"
  }
 },
 "nbformat": 4,
 "nbformat_minor": 5
}
