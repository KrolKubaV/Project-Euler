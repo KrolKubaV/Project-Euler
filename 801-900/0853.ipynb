{
 "cells": [
  {
   "cell_type": "markdown",
   "id": "3ed6d676-2de2-488e-89c9-f7bb9227a6b9",
   "metadata": {},
   "source": [
    "# Pisano Periods 1 - Problem 853\n",
    "<p>\n",
    "For every positive integer $n$ the Fibonacci sequence modulo \n",
    "$n$ is periodic. The period depends on the value of $n$.\n",
    "This period is called the <strong>Pisano period</strong> for $n$, often shortened to $\\pi(n)$.</p>\n",
    "<p>\n",
    "There are three values of $n$ for which \n",
    "$\\pi(n)$ equals $18$: $19$, $38$ and $76$. The sum of those smaller than $50$ is $57$.\n",
    "</p>\n",
    "<p>\n",
    "Find the sum of the values of $n$ smaller than $1\\,000\\,000\\,000$ for which $\\pi(n)$ equals $120$.\n",
    "</p>"
   ]
  },
  {
   "cell_type": "markdown",
   "id": "419cc44a-aaf1-407a-8a1d-f5c8c5bdbf82",
   "metadata": {},
   "source": [
    "## Solution.\n",
    "From https://en.wikipedia.org/wiki/Pisano_period:\n",
    "1. If $n\\perp m$, $\\pi(nm)=\\text{lcm}(\\pi(n), \\pi(m))$.\n",
    "2. $\\pi\\left(p^k\\right) = p^{k-1}\\pi(p)$\n",
    "3. If $\\pi(p)|n$, then $p|F_n$.\n",
    "\n",
    "Instead of 120, we will solve the problem for a general n and general limit."
   ]
  },
  {
   "cell_type": "code",
   "execution_count": 63,
   "id": "863968b3-4491-4114-a2b9-6b1bd6dfd65f",
   "metadata": {},
   "outputs": [],
   "source": [
    "from functools import cache\n",
    "from collections import defaultdict\n",
    "from tqdm import tqdm\n",
    "from math import lcm, log"
   ]
  },
  {
   "cell_type": "code",
   "execution_count": 38,
   "id": "3b5b44cb-7315-4df6-a08a-2fe722dc2e55",
   "metadata": {},
   "outputs": [],
   "source": [
    "@cache\n",
    "def fib(n):\n",
    "    if n == 0 or n == 1:\n",
    "        return n\n",
    "    return fib(n-1) + fib(n-2)"
   ]
  },
  {
   "cell_type": "code",
   "execution_count": 27,
   "id": "65b1da60-2e3a-4f5c-a46c-4c2e033a23b6",
   "metadata": {},
   "outputs": [],
   "source": [
    "def lcm_list(numbers):\n",
    "    result = numbers[0]\n",
    "    for num in numbers[1:]:\n",
    "        result = lcm(result, num)\n",
    "    return result"
   ]
  },
  {
   "cell_type": "code",
   "execution_count": 28,
   "id": "9532388e-3f55-47ef-838b-a852c2751b1a",
   "metadata": {},
   "outputs": [],
   "source": [
    "def sieve(limit):\n",
    "    is_prime = [True] * (limit + 1)\n",
    "    p = 2\n",
    "    while (p * p <= limit):\n",
    "        if (is_prime[p] == True):\n",
    "            for i in range(p * p, limit + 1, p):\n",
    "                is_prime[i] = False\n",
    "        p += 1\n",
    "    return [p for p in range(2, limit + 1) if is_prime[p]]\n",
    "\n",
    "def factorise(n, primes):\n",
    "    factors = defaultdict(int)\n",
    "    for prime in primes:\n",
    "        if prime * prime > n:\n",
    "            break\n",
    "        while n % prime == 0:\n",
    "            factors[prime] += 1\n",
    "            n //= prime\n",
    "    if n > 1:\n",
    "        factors[n] = 1\n",
    "    return factors"
   ]
  },
  {
   "cell_type": "code",
   "execution_count": 47,
   "id": "9039d226-2ad9-4b07-b54f-a25f0a0a795a",
   "metadata": {},
   "outputs": [],
   "source": [
    "def pi(n, limit):\n",
    "    a = 0\n",
    "    b = 1\n",
    "    ans = 0\n",
    "    while True:\n",
    "        a, b = (a + b) % n, a\n",
    "        ans += 1\n",
    "        if ans > limit:\n",
    "            break\n",
    "            \n",
    "        if (a, b) == (0, 1):\n",
    "            break\n",
    "    return ans"
   ]
  },
  {
   "cell_type": "code",
   "execution_count": 37,
   "id": "ff31a6aa-533c-4f5b-aa6a-f3919efeff06",
   "metadata": {},
   "outputs": [
    {
     "data": {
      "text/plain": [
       "18"
      ]
     },
     "execution_count": 37,
     "metadata": {},
     "output_type": "execute_result"
    }
   ],
   "source": [
    "pi(38, 100)"
   ]
  },
  {
   "cell_type": "code",
   "execution_count": 29,
   "id": "8caa9b71-358a-4463-8223-21d7675d0d8d",
   "metadata": {},
   "outputs": [],
   "source": [
    "primes = sieve(10**6)"
   ]
  },
  {
   "cell_type": "code",
   "execution_count": 70,
   "id": "828b9bc2-8c8e-472b-a9e8-92f0b5bc2a95",
   "metadata": {},
   "outputs": [],
   "source": [
    "def powers2(list2):\n",
    "    if len(list2) == 1:\n",
    "        return [1, list2[0]]\n",
    "    prev = powers2(list2[1:])\n",
    "    return sorted([list2[0] * x for x in prev] + prev)"
   ]
  },
  {
   "cell_type": "code",
   "execution_count": 79,
   "id": "12940102-3987-4064-bd56-ef4af2a81924",
   "metadata": {},
   "outputs": [],
   "source": [
    "def combinations(list1, list2, limit):\n",
    "    if len(list1) == 0:\n",
    "        return powers2(list2)\n",
    "\n",
    "    el = list1.pop(-1)\n",
    "    m = int(log(limit, el)) +1\n",
    "    ans = []\n",
    "    prev = combinations(list1, list2, limit)\n",
    "    for i in range(m):\n",
    "        ans += [el**i * x for x in prev if el**i * x < limit]\n",
    "\n",
    "    return ans  \n"
   ]
  },
  {
   "cell_type": "code",
   "execution_count": 80,
   "id": "cd7032a4-f892-4390-9802-9f0714d9be10",
   "metadata": {},
   "outputs": [],
   "source": [
    "def sol853(n, limit):\n",
    "    factorisation = factorise(fib(n), primes)\n",
    "    prime_factors = list(factorisation.keys())\n",
    "    primes_1 = [p for p in prime_factors if n%pi(p,n) == 0 and n%p == 0]\n",
    "    primes_2 = [p for p in prime_factors if n%pi(p,n) == 0 and n%p != 0]\n",
    "    primes_pi = {p:pi(p, n) for p in prime_factors if n%pi(p,n) == 0}\n",
    "\n",
    "    ans = 0\n",
    "    for x in combinations(primes_1, primes_2, limit):\n",
    "        if pi(x, n+1) == n and x < limit:\n",
    "            ans += x\n",
    "    \n",
    "    return ans\n",
    "    \n",
    "    "
   ]
  },
  {
   "cell_type": "code",
   "execution_count": 81,
   "id": "c974e632-ae73-4a97-ab10-918768d52332",
   "metadata": {},
   "outputs": [
    {
     "data": {
      "text/plain": [
       "44511058204"
      ]
     },
     "execution_count": 81,
     "metadata": {},
     "output_type": "execute_result"
    }
   ],
   "source": [
    "sol853(120, 10**9)"
   ]
  },
  {
   "cell_type": "code",
   "execution_count": null,
   "id": "c0839348-0de3-4e39-8f20-174fbac50544",
   "metadata": {},
   "outputs": [],
   "source": []
  },
  {
   "cell_type": "code",
   "execution_count": null,
   "id": "d4ada45a-6968-4b89-a747-f5b981f0edca",
   "metadata": {},
   "outputs": [],
   "source": []
  },
  {
   "cell_type": "code",
   "execution_count": null,
   "id": "877ebf80-b84c-4026-8d86-306b8575873e",
   "metadata": {},
   "outputs": [],
   "source": []
  },
  {
   "cell_type": "code",
   "execution_count": null,
   "id": "62922ddf-01c6-40b7-bb4d-97364739fe87",
   "metadata": {},
   "outputs": [],
   "source": []
  },
  {
   "cell_type": "code",
   "execution_count": null,
   "id": "bfc6859d-4a7c-414a-abe9-9e753bb3383f",
   "metadata": {},
   "outputs": [],
   "source": []
  },
  {
   "cell_type": "code",
   "execution_count": null,
   "id": "9da8c0af-7eab-49ed-9966-ff9e19b3228e",
   "metadata": {},
   "outputs": [],
   "source": []
  },
  {
   "cell_type": "code",
   "execution_count": null,
   "id": "a6a85e5a-37a6-4cbe-9ca2-a1cf72b9cf50",
   "metadata": {},
   "outputs": [],
   "source": []
  },
  {
   "cell_type": "code",
   "execution_count": null,
   "id": "0166cf5e-f591-4a96-b06e-3dc10f98ec89",
   "metadata": {},
   "outputs": [],
   "source": []
  },
  {
   "cell_type": "code",
   "execution_count": null,
   "id": "8dbd04eb-8190-4cc4-8ac2-6af4daa5141a",
   "metadata": {},
   "outputs": [],
   "source": []
  },
  {
   "cell_type": "code",
   "execution_count": null,
   "id": "0bda1d96-70c5-4864-9c8b-e39c54571668",
   "metadata": {},
   "outputs": [],
   "source": []
  },
  {
   "cell_type": "code",
   "execution_count": null,
   "id": "885d3b62-49a1-4ec1-84bf-84b82a36a450",
   "metadata": {},
   "outputs": [],
   "source": []
  },
  {
   "cell_type": "code",
   "execution_count": null,
   "id": "d8b4d50e-8ca3-4b0d-bbb7-bbb985218306",
   "metadata": {},
   "outputs": [],
   "source": []
  },
  {
   "cell_type": "code",
   "execution_count": null,
   "id": "7bc66a32-252a-4888-990e-c276f86bab8f",
   "metadata": {},
   "outputs": [],
   "source": []
  }
 ],
 "metadata": {
  "kernelspec": {
   "display_name": "Python 3 (ipykernel)",
   "language": "python",
   "name": "python3"
  },
  "language_info": {
   "codemirror_mode": {
    "name": "ipython",
    "version": 3
   },
   "file_extension": ".py",
   "mimetype": "text/x-python",
   "name": "python",
   "nbconvert_exporter": "python",
   "pygments_lexer": "ipython3",
   "version": "3.12.4"
  }
 },
 "nbformat": 4,
 "nbformat_minor": 5
}
